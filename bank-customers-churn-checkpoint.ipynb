{
 "cells": [
  {
   "cell_type": "markdown",
   "metadata": {
    "id": "wnj82LJN6KiK"
   },
   "source": [
    "# **ПРОЕКТ «Предсказание оттока клиентов из банка»**"
   ]
  },
  {
   "cell_type": "markdown",
   "metadata": {
    "id": "te7d3q286K2b"
   },
   "source": [
    "## **Введение. Описание проекта, его цель и задачи**\n",
    "\n",
    "---"
   ]
  },
  {
   "cell_type": "markdown",
   "metadata": {
    "id": "3E8BHSnf66ek"
   },
   "source": [
    "В связи с выявленной тенденцией ежемесячного небольшого оттока клиентов из «Бета-Банка» необходимо провести исследование и спрогнозировать вероятность ухода из банка клиентов. Согласно оценкам банковских маркетологов сохранение текущих клиентов обходится банку дешевле, чем привлечение новых, поэтому требуется корректировка Стратегии удержания клиентов. Важным элементом стратегии станет модель, обученная с помощью алгоритма машинного обучения, предсказывающая, прекратит ли деловые отношения с банком тот или иной клиент в ближайшее время. Предсказания модели позволят сформировать персональное предложение для клиента, обеспечив его удержание в банке.\n",
    "\n",
    "**Цель исследования**: построение модели машинного обучения, предсказывающей отток клиентов из банка.\n",
    "\n",
    "В ходе выполнения проекта были поставлены и решены следующие **задачи**:\n",
    "\n",
    "**(1)** загрузка, общее изучение массива данных и их предобработка\n",
    "\n",
    "**(2)** исследование баланса классов и обучение модели без учета дисбаланса\n",
    "\n",
    "**(3)** улучшение качества модели с учетом дисбаланса классов; обучение разных моделей и выявление модели с лучшими метриками\n",
    "\n",
    "**(4)** финальное тестирование модели с лучшими метриками\n",
    "\n",
    "Индикатором достижения цели является получение значения метрики **f1** на тестовой выборке **> 0.59**.\n",
    "\n",
    "Для достижения поставленной цели решена **задача классификации**."
   ]
  },
  {
   "cell_type": "markdown",
   "metadata": {
    "id": "-BGaYAXV7TYU"
   },
   "source": [
    "## **1 Подготовка данных**\n",
    "\n",
    "---"
   ]
  },
  {
   "cell_type": "markdown",
   "metadata": {
    "id": "UWafcnAvBdza"
   },
   "source": [
    "### **1.1. Импорт необходимых библиотек, структур данных и функций. Загрузка данных**\n",
    "\n",
    "\n",
    "---\n"
   ]
  },
  {
   "cell_type": "code",
   "execution_count": null,
   "metadata": {
    "id": "I91OjP5I8RBc"
   },
   "outputs": [],
   "source": [
    "# устанавливаем библиотеку skimpy,\n",
    "# функция из которой понадобится для приведения названий\n",
    "# столбцов датасета к snake_case\n",
    "!pip install -q skimpy\n",
    "\n",
    "# устанавливаем библиотеку phik,\n",
    "# функции из которой понадобятся для изучения\n",
    "# корреляции между признаками\n",
    "!pip install phik\n",
    "\n",
    "# устанавливаем библиотеку imbalanced-learn,\n",
    "# функции из которой понадобятся для экспериментов\n",
    "# по устранению дисбаланса классов\n",
    "!pip install -q imbalanced-learn"
   ]
  },
  {
   "cell_type": "code",
   "execution_count": null,
   "metadata": {
    "id": "MZgf_jaF3Gnv"
   },
   "outputs": [],
   "source": [
    "# импортируем необходимые библиотеки, структуры данных и функции\n",
    "\n",
    "# основные библиотеки\n",
    "import pandas as pd\n",
    "import random\n",
    "import numpy as np\n",
    "import seaborn as sns\n",
    "import matplotlib.pyplot as plt\n",
    "from matplotlib import rcParams, rcParamsDefault\n",
    "from collections import Counter\n",
    "from skimpy import clean_columns\n",
    "from tqdm.notebook import tqdm\n",
    "\n",
    "# устранение дисбаланса классов\n",
    "from imblearn.over_sampling import SMOTE, ADASYN\n",
    "from imblearn.under_sampling import RandomUnderSampler\n",
    "from imblearn.combine import SMOTETomek\n",
    "\n",
    "# подготовка к машинному обучению\n",
    "from phik.report import (\n",
    "    correlation_report,\n",
    "    plot_correlation_matrix)\n",
    "from sklearn.preprocessing import (\n",
    "    OneHotEncoder,\n",
    "    OrdinalEncoder,\n",
    "    StandardScaler)\n",
    "from sklearn.feature_selection import (\n",
    "    mutual_info_regression,\n",
    "    SelectKBest)\n",
    "from sklearn.model_selection import (\n",
    "    train_test_split,\n",
    "    GridSearchCV)\n",
    "\n",
    "# модели машинного обучения\n",
    "from sklearn.tree import DecisionTreeClassifier\n",
    "from sklearn.ensemble import RandomForestClassifier\n",
    "from sklearn.linear_model import LogisticRegression\n",
    "\n",
    "# метрики машинного обучения\n",
    "from sklearn.metrics import (\n",
    "    f1_score,\n",
    "    roc_auc_score)\n",
    "\n",
    "%matplotlib inline\n",
    "\n",
    "# убираем 'красные' предупреждения\n",
    "import warnings\n",
    "warnings.filterwarnings(\"ignore\")"
   ]
  },
  {
   "cell_type": "code",
   "execution_count": null,
   "metadata": {
    "id": "MgZVKS48ax7B"
   },
   "outputs": [],
   "source": [
    "# настраиваем параметры отображения рисунков\n",
    "rcParams['figure.figsize'] = 7, 4\n",
    "%config InlineBackend.figure_format = 'svg'\n",
    "%matplotlib inline\n",
    "factor = 10\n",
    "default_dpi = rcParamsDefault['figure.dpi']\n",
    "rcParams['figure.dpi'] = default_dpi*factor"
   ]
  },
  {
   "cell_type": "code",
   "execution_count": null,
   "metadata": {
    "id": "0i5zGNStAKN7"
   },
   "outputs": [],
   "source": [
    "# для того, чтобы обеспечить \"читаемость\" всех столбцов,\n",
    "# применим функцию pd.set_option()\n",
    "pd.set_option('display.max_rows', None)\n",
    "pd.set_option('display.max_columns', None)"
   ]
  },
  {
   "cell_type": "code",
   "execution_count": null,
   "metadata": {
    "colab": {
     "base_uri": "https://localhost:8080/"
    },
    "id": "GfR8-qWc3Zkf",
    "outputId": "da7c6411-cc82-4b4e-f02e-5d431e88e327"
   },
   "outputs": [],
   "source": [
    "# подгружаем файл с данными\n",
    "try:\n",
    "    df = pd.read_csv('/datasets/Churn.csv')\n",
    "    print('Dataset load from Practicum cloud')\n",
    "except:\n",
    "    from google.colab import drive\n",
    "    drive.mount('/content/drive')\n",
    "    path1 = '/content/drive/MyDrive/mydata/Churn.csv'\n",
    "    data = pd.read_csv(path1)\n",
    "    print('Dataset load from GoogleDrive')"
   ]
  },
  {
   "cell_type": "code",
   "execution_count": null,
   "metadata": {
    "colab": {
     "base_uri": "https://localhost:8080/",
     "height": 226
    },
    "id": "_zg8f0ABCu8i",
    "outputId": "88ba8e5c-4064-4072-e7d0-5c717c69fde6"
   },
   "outputs": [],
   "source": [
    "# чтобы проверить, загружены ли данные,\n",
    "# выведем выбранные наугад пять строк из датасета\n",
    "data.sample(5)"
   ]
  },
  {
   "cell_type": "markdown",
   "metadata": {
    "id": "yZvVM5wjDKTu"
   },
   "source": [
    "**Выводы по 1.1 Импорт необходимых библиотек, структур данных и функций. Загрузка данных**:\n",
    "\n",
    "**(1)** необходимые библиотеки, структуры данных и модули импортированы\n",
    "\n",
    "**(2)** данные из датасета загружены и готовы для предварительного изучения и предобработки"
   ]
  },
  {
   "cell_type": "markdown",
   "metadata": {
    "id": "vMUAUCsVDeTp"
   },
   "source": [
    "### **1.2 Общее ознакомление с данными и предварительная обработка данных**\n",
    "\n",
    "\n",
    "---"
   ]
  },
  {
   "cell_type": "code",
   "execution_count": null,
   "metadata": {
    "colab": {
     "base_uri": "https://localhost:8080/"
    },
    "id": "-df1nYvFD0S1",
    "outputId": "8c61af7c-8e7f-4c47-d568-034dc11e9179"
   },
   "outputs": [],
   "source": [
    "# изучим размер датасета\n",
    "data.shape, data.size"
   ]
  },
  {
   "cell_type": "markdown",
   "metadata": {
    "id": "1pCSdn_HLatF"
   },
   "source": [
    "Датасет включает 10_000 строк, 14 столбцов (признаков), 140_000 ячеек"
   ]
  },
  {
   "cell_type": "code",
   "execution_count": null,
   "metadata": {
    "colab": {
     "base_uri": "https://localhost:8080/"
    },
    "id": "-_PkLZ1OD0Wz",
    "outputId": "6b8139cd-8328-4a50-fbea-f065b6230978"
   },
   "outputs": [],
   "source": [
    "# изучим названия колонок\n",
    "data.columns"
   ]
  },
  {
   "cell_type": "markdown",
   "metadata": {
    "id": "C3Zf_45TL1sK"
   },
   "source": [
    "Формат заголовков колонок не соответствует общепринятому стилю snake_case, поэтому приведем их в соответствие нормам с помощью функции clean_columns библиотеки skimpy"
   ]
  },
  {
   "cell_type": "code",
   "execution_count": null,
   "metadata": {
    "colab": {
     "base_uri": "https://localhost:8080/"
    },
    "id": "-6ZE7zZx6wc4",
    "outputId": "68390653-6ab9-4faa-db96-541bc1bc2689"
   },
   "outputs": [],
   "source": [
    "# приводим заголовки в соответствие стилю snake_case\n",
    "data = clean_columns(data)\n",
    "\n",
    "# проверяем стиль написания заголовков\n",
    "data.columns"
   ]
  },
  {
   "cell_type": "code",
   "execution_count": null,
   "metadata": {
    "colab": {
     "base_uri": "https://localhost:8080/"
    },
    "id": "geKxNywHD0cZ",
    "outputId": "1d478e7e-b58a-4007-a8db-72533bcaca0c"
   },
   "outputs": [],
   "source": [
    "# изучим тип данных в столбцах датасета\n",
    "data.dtypes"
   ]
  },
  {
   "cell_type": "code",
   "execution_count": null,
   "metadata": {
    "colab": {
     "base_uri": "https://localhost:8080/"
    },
    "id": "DVo_DBG6XL9D",
    "outputId": "2aea5471-18d3-48a6-a3ef-d04cb2ee27fc"
   },
   "outputs": [],
   "source": [
    "data.dtypes.value_counts()"
   ]
  },
  {
   "cell_type": "markdown",
   "metadata": {
    "id": "c8Uo0bgZOOW1"
   },
   "source": [
    "Вопрос по типу данных есть только по трем столбцам из 14: 'tenure', 'balance', 'estimated_salary'. Тип данных всех трех столбцов float64. В связи с тем, что в машинном обучении с помощью библиотеки sklearn используется тип данных float32, вещественные значения float64 будут округлены, что снизит качество предсказания модели. Это снижение не будет значительным, т.к. значения в столбцах 'balance' и 'estimated_salary' значительны, и дробная часть не может оказать заметного влияния на результаты вычислений. Что касается столбца 'tenure', то данные в нем хотя и представлены как вещественные числа, на самом деле целочисленные."
   ]
  },
  {
   "cell_type": "code",
   "execution_count": null,
   "metadata": {
    "colab": {
     "base_uri": "https://localhost:8080/"
    },
    "id": "OYx8hgJ_3Zt-",
    "outputId": "8b8ca303-b356-48ee-a0ac-ee4bffef3371"
   },
   "outputs": [],
   "source": [
    "# проверим, какие уникальные значения есть в столбце 'tenure',\n",
    "# вычислим количество каждого уникального значения\n",
    "data.groupby('tenure')['tenure'].count()"
   ]
  },
  {
   "cell_type": "code",
   "execution_count": null,
   "metadata": {
    "colab": {
     "base_uri": "https://localhost:8080/"
    },
    "id": "hHpdBRkS3Z25",
    "outputId": "ac94e02f-1ace-40e2-c656-f55bd4ac4538"
   },
   "outputs": [],
   "source": [
    "# проверим уникальные значения в столбце 'tenure' с учетом пропусков\n",
    "data['tenure'].value_counts(dropna = False).sort_values()"
   ]
  },
  {
   "cell_type": "markdown",
   "metadata": {
    "id": "p-iLHHGxTs8R"
   },
   "source": [
    "Как мы видим, изменение формата для столбца 'tenure' с float64 на float32 никак не повлияет на обучение моделей, так как округление числам из этого столбца 'не грозит'. У столбцов 'balance', 'estimated_salary' тип данных будет изменен с float64 на float32. Тип данных будет изменен после изучения пропусков в столбцах датасета"
   ]
  },
  {
   "cell_type": "code",
   "execution_count": null,
   "metadata": {
    "colab": {
     "base_uri": "https://localhost:8080/",
     "height": 414
    },
    "id": "drQVdDOjXdX6",
    "outputId": "8536aab0-8f38-4be0-eca1-e4b3813e25d6"
   },
   "outputs": [],
   "source": [
    "# изучим общую статистику данных датасета\n",
    "data.describe().T"
   ]
  },
  {
   "cell_type": "markdown",
   "metadata": {
    "id": "vjLQwYQnYKRQ"
   },
   "source": [
    "Никаких 'подводных камней' в общей статистике не просматривается. Обратим внимание на один показатель: минимальная предполагаемая заработная плата клиента банка составляет 11 рублей 58 копеек. Ничего сверхъестественного в этом нет, поскольку высоко развита теневая экономика, фриланс, самозанятость. Минимальный возраст клиента банка 18 лет - клиент в этом, да и не только в этом возрасте вполне может не иметь работы. Технологии оценки, конечно, развиваются, развивается система межведомственного электронного документооборота, и не исключено, что Федеральная налоговая служба на сегодняшний день имеет возможность дать приближенную к реальности оценку доходов того или иного гражданина. Но эта информация не подлежит распространению и руководство 'Бета-Банка' не имеет к ней доступа и ограничивается той статистикой, которая доступна по межбанковскому электронному документообороту"
   ]
  },
  {
   "cell_type": "code",
   "execution_count": null,
   "metadata": {
    "colab": {
     "base_uri": "https://localhost:8080/"
    },
    "id": "9KpGWv7BSeZC",
    "outputId": "83f965e3-248e-4de4-d528-6de05a390df6"
   },
   "outputs": [],
   "source": [
    "# проверим, есть ли в датасете явные дубликаты\n",
    "data.duplicated().sum()"
   ]
  },
  {
   "cell_type": "markdown",
   "metadata": {
    "id": "XHfAH3q3Vmdu"
   },
   "source": [
    "Явных дубликатов в датасете нет. Неявные дубликаты с учетом значений нескольких столбцов могут быть между столбцами 'customer_id', 'surname', 'credit_score'. Проверим неявные дубликаты между группами столбцов:\n",
    "\n",
    "- 'customer_id', 'surname'\n",
    "\n",
    "- 'customer_id', 'surname', 'credit_score'"
   ]
  },
  {
   "cell_type": "code",
   "execution_count": null,
   "metadata": {
    "colab": {
     "base_uri": "https://localhost:8080/"
    },
    "id": "aTX9M0G2Sepg",
    "outputId": "e72b7630-ebb4-495a-a22d-eb90e7b280d2"
   },
   "outputs": [],
   "source": [
    "# поиск неявных дубликатов по группе колонок 'customer_id' и 'surname'\n",
    "data.duplicated(subset = ['customer_id', 'surname'], keep = False).sum()"
   ]
  },
  {
   "cell_type": "code",
   "execution_count": null,
   "metadata": {
    "colab": {
     "base_uri": "https://localhost:8080/"
    },
    "id": "t1ChEfTASeiG",
    "outputId": "1be9ad4b-cb71-43b4-eb5e-890d2dbfe73d"
   },
   "outputs": [],
   "source": [
    "# поиск неявных дубликатов по группе колонок 'customer_id', 'surname'\n",
    "# и 'credit_score'\n",
    "data.duplicated(subset = ['customer_id', 'surname', 'credit_score'],\n",
    "                keep = False).sum()"
   ]
  },
  {
   "cell_type": "markdown",
   "metadata": {
    "id": "8RiKj26KW2aH"
   },
   "source": [
    "Неявные дубликаты в датасете не обнаружены. Проверим наличие пропусков в датасете"
   ]
  },
  {
   "cell_type": "code",
   "execution_count": null,
   "metadata": {
    "colab": {
     "base_uri": "https://localhost:8080/"
    },
    "id": "V5J0CWpvSewP",
    "outputId": "0e0f0bf9-d6a4-4222-9bde-0cdf8c7d16f7"
   },
   "outputs": [],
   "source": [
    "# проверим наличие пропусков в столбцах датасета\n",
    "data.isna().sum()"
   ]
  },
  {
   "cell_type": "code",
   "execution_count": null,
   "metadata": {
    "colab": {
     "base_uri": "https://localhost:8080/"
    },
    "id": "9BbzVkB_WmGp",
    "outputId": "d6737d8c-6a85-491b-f349-0a6a7945bc0d"
   },
   "outputs": [],
   "source": [
    "# определим долю в % пропущенных значений строк от всех значений строк\n",
    "data.isna().sum() / data.shape[0] * 100"
   ]
  },
  {
   "cell_type": "markdown",
   "metadata": {
    "id": "WhSGGoMZ5na0"
   },
   "source": [
    "В целом датасет заполнен качественно: в 13 столбцах нет пропусков. В столбце 'tenure', отражающем информацию о периоде, в течении которого человек является клиентом банка,  пропущена информация в 9,09% случаев. Согласно получившему распространение подходу, до 10% датасета с пропущенными значениями может быть удалено. Однако, остальные 13 столбцов заполнены полностью. Удалив 9,09% строк, мы теряем большое количество других признаков. Наиболее целесообразным решением в указанной ситуации считаем заполнение пропусков.\n",
    "\n",
    "Однако, прежде чем перейти к заполнению пропущенных значений изучим подробнее следующий момент: есть ли зависимость между пропущенными значениями в столбце 'tenure' и значениями в столбцах:\n",
    "\n",
    "  - 'geography' (страна проживания клиента)\n",
    "\n",
    "  - 'age' (возраст клиента)\n",
    "\n",
    "Возможное влияние на пропущенные значения столбца 'tenure' значений из других столбцов либо не очевидно, либо, как в случае со столбцом 'estimated_salary' количество уникальных значений в последнем слишком велико и не позволит сделать значимые выводы\n"
   ]
  },
  {
   "cell_type": "code",
   "execution_count": null,
   "metadata": {
    "colab": {
     "base_uri": "https://localhost:8080/"
    },
    "id": "eXRWDLUlK4Yr",
    "outputId": "70f12b43-dffe-413c-ad39-998ac67d3591"
   },
   "outputs": [],
   "source": [
    "# отфильтруем из датасета data все строки, в которых\n",
    "# в столбце 'tenure' есть пропущенные значения\n",
    "data_tenure = data.query('tenure.isna()', engine='python')\n",
    "data_tenure.shape"
   ]
  },
  {
   "cell_type": "code",
   "execution_count": null,
   "metadata": {
    "colab": {
     "base_uri": "https://localhost:8080/",
     "height": 226
    },
    "id": "WsGsF5VCK4hW",
    "outputId": "e490b549-dc99-42e5-d509-1ebad304bd12"
   },
   "outputs": [],
   "source": [
    "# выведем первые пять строк датасета data_tenure,\n",
    "# чтобы убедиться, что данные отображаются корректно\n",
    "data_tenure.head()"
   ]
  },
  {
   "cell_type": "code",
   "execution_count": null,
   "metadata": {
    "colab": {
     "base_uri": "https://localhost:8080/"
    },
    "id": "gj5ZRt_NK4pP",
    "outputId": "a8f1d743-1253-4501-fe4a-58fff295a6f1"
   },
   "outputs": [],
   "source": [
    "# посчитаем количество пропусков по стране проживания клиента банка\n",
    "data_tenure.geography.value_counts().sort_values(ascending = False)"
   ]
  },
  {
   "cell_type": "markdown",
   "metadata": {
    "id": "vA7CT1OYdn_3"
   },
   "source": [
    "Сам по себе результат расчета количества пропусков в столбце 'tenure' по стране проживания клиента не информативен. Поэтому создадим еще один датасет, - отфильтруем из исходного датасета все строки, значения в которых в столбце 'tenure' заполнены, и вычислим количество клиентов по странам мира"
   ]
  },
  {
   "cell_type": "code",
   "execution_count": null,
   "metadata": {
    "colab": {
     "base_uri": "https://localhost:8080/"
    },
    "id": "hJtaH_uAb6Qa",
    "outputId": "aa2b530b-78fe-4e70-ffd6-106a19da0e96"
   },
   "outputs": [],
   "source": [
    "# отфильтруем из датасета data все строки, в которых\n",
    "# в столбце 'tenure' значения заполнены\n",
    "data_tenure_notna = data.query('tenure.notna()', engine='python')\n",
    "data_tenure_notna.shape"
   ]
  },
  {
   "cell_type": "code",
   "execution_count": null,
   "metadata": {
    "colab": {
     "base_uri": "https://localhost:8080/"
    },
    "id": "nrjfWfWVb6ZE",
    "outputId": "23af6bbb-f13d-4283-b58a-88411acb7d00"
   },
   "outputs": [],
   "source": [
    "# посчитаем количество клиентов по стране проживания клиента банка\n",
    "# по заполненным значениям столбца 'tenure'\n",
    "data_tenure_notna.geography.value_counts().sort_values(ascending = False)"
   ]
  },
  {
   "cell_type": "markdown",
   "metadata": {
    "id": "MsvE_8yufds1"
   },
   "source": [
    "Между количеством стран проживания клиентов не выявлено характерной взаимосвязи, на основе которой можно было бы предложить особый вариант заполнения пропусков в столбце 'tenure': в каждой из стран примерно в 10% случаев не указана информация, сколько лет человек является клиентом банка.\n",
    "\n",
    "Проверим, есть ли какая-нибудь обращающая на себя внимание взаимосвязь между пропущенными значениями в столбце 'tenure' и возрастом клиента (столбец 'age'). Для этого воспользуемся созданными датасетами data_tenure и data_tenure_notna"
   ]
  },
  {
   "cell_type": "code",
   "execution_count": null,
   "metadata": {
    "colab": {
     "base_uri": "https://localhost:8080/",
     "height": 237
    },
    "id": "HOnJTUop_gxY",
    "outputId": "b8caafb3-e0a9-4893-8249-f236736d6340"
   },
   "outputs": [],
   "source": [
    "# посчитаем количество пропущенных значений\n",
    "# в зависимости от возвраста клиента банка\n",
    "# результаты сохраним в датафрейм\n",
    "age_tenure_isna = pd.DataFrame(data_tenure.age.value_counts())\n",
    "age_tenure_isna.columns = ['Количество клиентов (\\'tenure\\' пропущено)']\n",
    "age_tenure_isna.head()"
   ]
  },
  {
   "cell_type": "code",
   "execution_count": null,
   "metadata": {
    "colab": {
     "base_uri": "https://localhost:8080/",
     "height": 237
    },
    "id": "dJcL9E1u_g7S",
    "outputId": "56d7c43e-a91b-4103-daa5-61a6b16a1e5b"
   },
   "outputs": [],
   "source": [
    "# посчитаем количество клиентов соответствующего возраста,\n",
    "# информация о которых в столбце 'tenure' заполнена,\n",
    "# результат сохраним в датафрейм\n",
    "age_tenure_notna = pd.DataFrame(data_tenure_notna.age.value_counts())\n",
    "age_tenure_notna.columns = ['Количество клиентов (\\'tenure\\' заполнено)']\n",
    "age_tenure_notna.head()"
   ]
  },
  {
   "cell_type": "code",
   "execution_count": null,
   "metadata": {
    "colab": {
     "base_uri": "https://localhost:8080/",
     "height": 1000
    },
    "id": "ovQrFltO_hEA",
    "outputId": "c3ee2566-6eea-40b6-aa9d-8f1731937eba",
    "scrolled": true
   },
   "outputs": [],
   "source": [
    "# объедиянем датафреймы age_tenure_notna и age_tenure_isna\n",
    "# по индексам первого и второго\n",
    "age_tenure_final = pd.merge(\n",
    "    age_tenure_notna,\n",
    "    age_tenure_isna,\n",
    "    left_index = True,\n",
    "    right_index = True\n",
    ")\n",
    "\n",
    "# создаем столбец с долей пропущенных значений среди всех значений\n",
    "# среди всех значений соответствующего возраста\n",
    "age_tenure_final['Доля пропущенных значений'] = (\n",
    "    age_tenure_final['Количество клиентов (\\'tenure\\' пропущено)'] / \\\n",
    "    (age_tenure_final['Количество клиентов (\\'tenure\\' пропущено)'] +\n",
    "    age_tenure_final['Количество клиентов (\\'tenure\\' заполнено)'])\n",
    "    * 100).round(1)\n",
    "\n",
    "# выведем на экран полученный результат\n",
    "age_tenure_final"
   ]
  },
  {
   "cell_type": "code",
   "execution_count": null,
   "metadata": {
    "colab": {
     "base_uri": "https://localhost:8080/"
    },
    "id": "B9In0nuUKLBA",
    "outputId": "fcd56821-c04f-4949-ef6a-3d155d8dbc31"
   },
   "outputs": [],
   "source": [
    "# рассчитаем медиану и среднюю долю пропущенных значений\n",
    "print('Медиана:', age_tenure_final['Доля пропущенных значений'].median())\n",
    "print('Среднее значение:',\n",
    "      round(age_tenure_final['Доля пропущенных значений'].mean(), 2))"
   ]
  },
  {
   "cell_type": "markdown",
   "metadata": {
    "id": "2lbVLchnSP5t"
   },
   "source": [
    "Визуализируем долю пропущенных значений с помощью boxplot"
   ]
  },
  {
   "cell_type": "code",
   "execution_count": null,
   "metadata": {
    "colab": {
     "base_uri": "https://localhost:8080/",
     "height": 212
    },
    "id": "bkjnlP2FM5dw",
    "outputId": "44d0bc26-190c-4549-891c-c2f2692a6f90"
   },
   "outputs": [],
   "source": [
    "# задаем параметры для визуализации доли пропущенных значений с помощью boxplot\n",
    "plt.figure(figsize = (8, 1))\n",
    "h = sns.boxplot(x = 'Доля пропущенных значений',\n",
    "            data = age_tenure_final,\n",
    "            linewidth=2.5,\n",
    "            width=0.5)\n",
    "plt.xlim(0, 21)\n",
    "plt.xlabel('Доля пропущенных значений, %',fontsize=14)\n",
    "plt.title('Рис. 1 - Доля пропущенных значений', \\\n",
    "          fontsize = 14)\n",
    "h.tick_params(axis='x', labelrotation=45, labelsize=14)\n",
    "h.set_facecolor('peachpuff')\n",
    "plt.show()"
   ]
  },
  {
   "cell_type": "markdown",
   "metadata": {
    "id": "8YcOfKhrid8O"
   },
   "source": [
    "Никаких сильно выделяющихся значений в соотношении  распределения клиентов по возрасту для клиентов с заполненной и не заполненной информацией не выявлено. В основном для каждого возраста не заполняется от 7 до 11% значений длительности периода, в который человек является клиентом банка. Выбросы характерны только для клиентов возраста 75 лет (7 клиентов), 78 лет (4 клиента), 92 года (1 клиент). При общем количестве клиентов, о которых представлена информация в датасете (10_000), эти выбросы существенного влияния не оказывают. Для клиентов самых активных с точки зрения использования банковских услуг возрастов (29-42 года) количество незаполненных  значений примерно соответствует 9% от общего количества клиентов соответствующего возраста.\n",
    "\n",
    "Таким образом:\n",
    "\n",
    "  - соотнесение пропусков в столбце 'tenure' со значениями из столбцов 'geography' и 'age' не позволило сформировать понимание единственного пути заполнения пропусков пути\n",
    "\n",
    "  - оставить пропуски для предстоящего машинного обучения нельзя. Удалять все строки с пропущенными значениями в столбце 'tenure' (9,09% всех данных) нецелесообразно, так как во всех остальных столбцах информация корректно заполнена, пропусков нет, будет потеряно 9% признаков из всех остальных столбцов\n",
    "\n",
    "  - заполнить пропущенные значения нулем теоретически можно. В этом случае получаем некоторый перекос в пользу значения 'является клиентом банка 0 лет', по факту означающим, что это клиент, со дня заключения которым договора на банковское обслуживание прошло менее одного года. Гипотеза о том, что, с момента заключения договора информация не сразу отражается в первичной базе данных, представляется наиболее вероятной. Также можно было бы обратиться к банковским маркетологам и выяснить, были ли массированные рекламные кампании, направленные на привлечение новых клиентов в последний год. Возможно, привлекли так много клиентов, что информацию о сроке их сотрудничества с банком еще не внесли в исходную базу данных.\n",
    "\n",
    "  - если бы была возможность обратиться к разработчикам и/или маркетологам и уточнить природу появления пропусков в столбце 'tenure', скорее всего было бы принято решение заполнить пропуски нулем. Остаются варианты заполнения пропусков медианным или средним значением по тем 91% значениям, которые есть в нашем распоряжении. В этом случае мы получим определенный перекос в сторону значения '5' столбца 'tenure'."
   ]
  },
  {
   "cell_type": "code",
   "execution_count": null,
   "metadata": {
    "colab": {
     "base_uri": "https://localhost:8080/"
    },
    "id": "dnLlXDpzWmOd",
    "outputId": "96718d5c-d6d6-4206-cfcb-a486c6b30e48"
   },
   "outputs": [],
   "source": [
    "# рассчитаем медианное и среднее значение количества лет,\n",
    "# которое человек является клиентом 'Бета-Банка'\n",
    "\n",
    "print('Медианное значение = ', data['tenure'].median(), 'лет')\n",
    "print('Среднее значение = ', round(data['tenure'].mean(), 3), 'лет')"
   ]
  },
  {
   "cell_type": "markdown",
   "metadata": {
    "id": "fNhrEUON-SQ6"
   },
   "source": [
    "Весьма редкий случай - медиана и среднее значение практически совпали."
   ]
  },
  {
   "cell_type": "markdown",
   "metadata": {
    "id": "HORRfH6fNqLv"
   },
   "source": [
    "Итак, обобщим возможные варианты заполнения пропусков:\n",
    "\n",
    " * заполнение нулевым значением - получаем перекос в сторону значения '0';\n",
    "\n",
    " * заполнение медианным или средним значением - получаем перекос в сторону значения '5' (более сильный, чем в сравнении с вариантом заполнения нулевым значением);\n",
    "\n",
    " * заполнение пропусков целочисленными значениями, выбранными наугад из диапазона от 0 до 10  - позволит избежать перекос в сторону того или иного значения признака 'tenure', однако наугад выбранные значения могут не соответствовать реальному сроку, который клиенты пользуются услугами банка;\n",
    "\n",
    " * заполнение значением 'минус единица' (-1) с изменением типа данных столбца на object и последующим кодированием как категориального признака.\n",
    "\n",
    " Заполним пропуски в столбце 'tenure' значением '-1'."
   ]
  },
  {
   "cell_type": "code",
   "execution_count": null,
   "metadata": {
    "colab": {
     "base_uri": "https://localhost:8080/"
    },
    "id": "9v-9zNXNCHHR",
    "outputId": "05176357-3f6b-48fc-9f2d-d568cc9f03b2"
   },
   "outputs": [],
   "source": [
    "# проверим количество пропусков в столбце 'tenure' до заполнения пропусков\n",
    "data.tenure.isna().sum()"
   ]
  },
  {
   "cell_type": "code",
   "execution_count": null,
   "metadata": {
    "colab": {
     "base_uri": "https://localhost:8080/",
     "height": 394
    },
    "id": "PRNqKRABCHOR",
    "outputId": "1d372ba4-05c5-4905-b4b8-821da5207f9c"
   },
   "outputs": [],
   "source": [
    "# визуализируем подсчет уникальных значений в столбце 'tenure'\n",
    "# до заполнения пропусков\n",
    "data.tenure.value_counts(dropna = False).plot(kind = 'bar')\n",
    "plt.show()"
   ]
  },
  {
   "cell_type": "code",
   "execution_count": null,
   "metadata": {
    "id": "DWf4t5HnCHUj"
   },
   "outputs": [],
   "source": [
    "# заполняем пропуски в столбце 'tenure'  значением -1\n",
    "data['tenure'] = data['tenure'].fillna(-1)"
   ]
  },
  {
   "cell_type": "code",
   "execution_count": null,
   "metadata": {
    "colab": {
     "base_uri": "https://localhost:8080/",
     "height": 394
    },
    "id": "TzH94WBquYiv",
    "outputId": "ac2a8557-50d1-4806-9c74-c05ea263e554"
   },
   "outputs": [],
   "source": [
    "# визуализируем распределение клиентов банка по количеству лет\n",
    "# их сотрудничества с банком после заполнения пропусков\n",
    "data.tenure.value_counts(dropna = False).plot(kind = 'bar')\n",
    "plt.show()"
   ]
  },
  {
   "cell_type": "code",
   "execution_count": null,
   "metadata": {
    "colab": {
     "base_uri": "https://localhost:8080/"
    },
    "id": "EGYIUDJwDSMZ",
    "outputId": "940569ce-4d39-41e7-ddfe-933ca56e73fe"
   },
   "outputs": [],
   "source": [
    "# проверим, остались ли пропуски в data.tenure\n",
    "data.tenure.isna().sum()"
   ]
  },
  {
   "cell_type": "code",
   "execution_count": null,
   "metadata": {
    "id": "ur_mmxS6DSTL"
   },
   "outputs": [],
   "source": [
    "# изменяем тип данных в столбце data.tenure на object\n",
    "# для последующего кодирования в два этапа: сначала тип\n",
    "# float64 заменим на int64 (чтобы быть уверенными, что значения округлены),\n",
    "# затем изменим тип int64 на object\n",
    "data.tenure = data.tenure.astype('int64')\n",
    "data.tenure = data.tenure.astype(object)"
   ]
  },
  {
   "cell_type": "code",
   "execution_count": null,
   "metadata": {
    "colab": {
     "base_uri": "https://localhost:8080/"
    },
    "id": "bBWgyYe7DSah",
    "outputId": "ac8067ae-16ea-41e5-b82e-41b7cb602a05"
   },
   "outputs": [],
   "source": [
    "# проверяем тип данных столбцов после изменения типа данных\n",
    "# столбца data.tenure\n",
    "data.dtypes"
   ]
  },
  {
   "cell_type": "markdown",
   "metadata": {
    "id": "sFJGKZX4peb-"
   },
   "source": [
    "Тип данных в столбце 'tenure' успешно изменен на 'object'"
   ]
  },
  {
   "cell_type": "code",
   "execution_count": null,
   "metadata": {
    "colab": {
     "base_uri": "https://localhost:8080/"
    },
    "id": "dXzQeLkFWmbK",
    "outputId": "25772190-438c-4afa-b19d-cd9ceb350c17"
   },
   "outputs": [],
   "source": [
    "# проверим, остались ли пропущенные значения в датасете\n",
    "data.isna().sum()"
   ]
  },
  {
   "cell_type": "markdown",
   "metadata": {
    "id": "xWAdi-AUC5ao"
   },
   "source": [
    "Для завершения предобработки осталось изменить тип данных в столбцах 'balance' и 'estimated_salary' с float64 на float32."
   ]
  },
  {
   "cell_type": "code",
   "execution_count": null,
   "metadata": {
    "id": "VINmmNCh-983"
   },
   "outputs": [],
   "source": [
    "# меняем тип данных в столбцах 'balance' и 'estimated_salary'\n",
    "# с float64 на float32\n",
    "data[['balance', 'estimated_salary']] = \\\n",
    "data[['balance', 'estimated_salary']].astype('float32')"
   ]
  },
  {
   "cell_type": "code",
   "execution_count": null,
   "metadata": {
    "colab": {
     "base_uri": "https://localhost:8080/"
    },
    "id": "VnlESIwW--Lu",
    "outputId": "87d5c6a0-59bd-4872-b438-60d3179691d5"
   },
   "outputs": [],
   "source": [
    "# проверим тип данных столбцов после проведенных изменений\n",
    "print(data.dtypes)\n",
    "print('')\n",
    "print(data.dtypes.value_counts())"
   ]
  },
  {
   "cell_type": "markdown",
   "metadata": {
    "id": "2iqC_FHroFL4"
   },
   "source": [
    "Тип данных в столбцах изменен в соответствии с программой исследования"
   ]
  },
  {
   "cell_type": "markdown",
   "metadata": {
    "id": "vXgdXSHVoFYc"
   },
   "source": [
    "**Выводы по 1.2 Общее ознакомление с данными и предварительная обработка данных**:\n",
    "\n",
    "**(1)** проведено общее изучение данных датасета, не выявившее наличия серьезных ошибок\n",
    "\n",
    "**(2)** проведена предварительная обработка данных, в том числе:\n",
    "\n",
    "  - формат заголовков колонок приведен в соответствие стилю snake_case\n",
    "\n",
    "  - проверка на явные и неявные дубликаты показала отсутствие дублирования информации в датасете\n",
    "\n",
    "  - только в одном из 14-ти столбцов ('tenure') выявлены пропуски, заполненные значением '-1'\n",
    "\n",
    "  - тип данных в столбцах 'balance' и 'estimated_salary' изменен с float64 на float32 в связи с тем, что в используемой для машинного обучения библиотеке sklearn используется тип данных float32"
   ]
  },
  {
   "cell_type": "markdown",
   "metadata": {
    "id": "wDqL_Ct-owB1"
   },
   "source": [
    "### **1.3 Кодирование категориальных признаков. Проверка на дисбаланс классов**\n",
    "\n",
    "---"
   ]
  },
  {
   "cell_type": "markdown",
   "metadata": {
    "id": "CMyNLZTw0Utr"
   },
   "source": [
    "Для машинного обучения необходимо разделить исходный датасет на датасет, содержащий признаки, и датасет с целевым признаком.\n",
    "\n",
    "**Целевым признаком** является столбец 'exited' (факт ухода клиента). Столбец включает значения '1' (клиент прекратил отношения с банком) и '0' (клиент продолжает пользоваться услугами банка).\n",
    "\n",
    "С **признаками** все не так очевидно. Из 13-ти столбцов (признаков) три не имеют явной ценности для предсказания целевого признака:\n",
    "\n",
    "   - 'row_number' (индекс строки в данных)\n",
    "\n",
    "   - 'customer_id' (уникальный идентификатор клиента, - может быть весьма полезен для многих Data Science-исследований, но ровно никак не влияет на целевой признак текущего проекта)\n",
    "\n",
    "   - 'surname' (фамилия, - если бы анализировались фамилии клиентов банка в XIX или начале XX века, длина фамилии могла бы указывать на принадлежность к аристократии и, действительно, влияла бы на целевой признак. К анализируемому датасету это не имеет отношение. Подтвердим данное утверждение проверкой фамилии с максимальным и минимальным количеством букв)"
   ]
  },
  {
   "cell_type": "code",
   "execution_count": null,
   "metadata": {
    "colab": {
     "base_uri": "https://localhost:8080/",
     "height": 135
    },
    "id": "CcG6ot-t--Sd",
    "outputId": "fbd27843-d93f-4dbc-90f1-782127e39fdc"
   },
   "outputs": [],
   "source": [
    "# вычислим количество букв в самой длинной фамилии\n",
    "word_max_length = int(data.surname.astype(bytes).str.len().max())\n",
    "print('Размер самой длинной фамилии:', word_max_length, 'букв')\n",
    "\n",
    "# выведем на экран строчку датасета с информацией о клиенте\n",
    "# с самой длинной фамилией\n",
    "lengths_max = data.surname.str.len()\n",
    "argmax = np.where(lengths_max == lengths_max.max())[0]\n",
    "data.iloc[argmax]"
   ]
  },
  {
   "cell_type": "code",
   "execution_count": null,
   "metadata": {
    "colab": {
     "base_uri": "https://localhost:8080/"
    },
    "id": "wm3yQISW--X2",
    "outputId": "0efc341d-ede8-4716-d7b1-f7bfa668f1ec"
   },
   "outputs": [],
   "source": [
    "# вычислим количество букв в самой короткой фамилии\n",
    "word_min_length = int(data.surname.astype(bytes).str.len().min())\n",
    "print('Размер самой короткой фамилии:', word_min_length, 'букв')\n",
    "\n",
    "# выведем на экран количество клиентов банка с самой короткой фамилией\n",
    "lengths_min = data.surname.str.len()\n",
    "argmin = np.where(lengths_min == lengths_min.min())[0]\n",
    "print('Количество клиентов, длина фамилии которых включает две буквы:',\n",
    "      data.surname.iloc[argmin].count(), 'человек')"
   ]
  },
  {
   "cell_type": "code",
   "execution_count": null,
   "metadata": {
    "colab": {
     "base_uri": "https://localhost:8080/",
     "height": 645
    },
    "id": "pki5hvx9--c6",
    "outputId": "fec75f5b-537b-4ff7-8642-ebe4de65aaef"
   },
   "outputs": [],
   "source": [
    "# сгруппируем и посчитаем количество клиентов банка\n",
    "# в зависимости от количества букв в их фамилии\n",
    "surname = pd.DataFrame(data.surname.str.len().value_counts())\n",
    "surname.columns = ['Количество клиентов банка']\n",
    "surname"
   ]
  },
  {
   "cell_type": "markdown",
   "metadata": {
    "id": "gCihBUoA_Kol"
   },
   "source": [
    "Вопреки ожиданиям 356 клиентов банка имеют длину фамилии с 11+ букв (3,56% от всех клиентов), у 62 клиентов длина фамилии составляет 15+ букв (0,62% от всех клиентов банка). Фамилия клиента с самой длинной фамилией, - Collingridge de Tourcey, - действительно, похожа на французскую аристократическую (хотя страна проживания Испания, но в условиях открытых границ внутри Европы это не имеет значения).\n",
    "\n",
    "Изучим информацию о клиентах банка, длина фамилии которых составляет 17 (6 клиентов) и 19 (2 клиента) букв."
   ]
  },
  {
   "cell_type": "code",
   "execution_count": null,
   "metadata": {
    "colab": {
     "base_uri": "https://localhost:8080/",
     "height": 257
    },
    "id": "sY4xAFWP--hW",
    "outputId": "56090830-c9ca-4768-f760-2e5303320797"
   },
   "outputs": [],
   "source": [
    "# выведем информацию о клиентах банка,\n",
    "# длина фамилии которых равна 17 букв\n",
    "lengths_17 = data.surname.str.len()\n",
    "argmax_17 = np.where(lengths_17 == 17)[0]\n",
    "data.iloc[argmax_17]"
   ]
  },
  {
   "cell_type": "code",
   "execution_count": null,
   "metadata": {
    "colab": {
     "base_uri": "https://localhost:8080/",
     "height": 132
    },
    "id": "4GlnBcJuWmg4",
    "outputId": "ae35f627-4cf6-470f-f0ab-cd1dbb8fdfb3"
   },
   "outputs": [],
   "source": [
    "# выведем информацию о клиентах банка,\n",
    "# длина фамилии которых равна 19 букв\n",
    "lengths_19 = data.surname.str.len()\n",
    "argmax_19 = np.where(lengths_19 == 19)[0]\n",
    "data.iloc[argmax_19]"
   ]
  },
  {
   "cell_type": "markdown",
   "metadata": {
    "id": "8SaGaqYVCR1s"
   },
   "source": [
    "Фамилии клиентов, состоящие из 17 и 19 букв, не похожи на аристократические. Для того, чтобы принять окончательное решение об удалении столбца 'surname' из датасета с признаками, выведем информацию о клиентах банка, длина фамилии которых составляет 16 букв (19 клиентов)"
   ]
  },
  {
   "cell_type": "code",
   "execution_count": null,
   "metadata": {
    "colab": {
     "base_uri": "https://localhost:8080/",
     "height": 665
    },
    "id": "Td_xEBRc_IwF",
    "outputId": "4cdf43ae-1430-4483-e3ec-466e36034c49"
   },
   "outputs": [],
   "source": [
    "# выведем информацию о клиентах банка,\n",
    "# длина фамилии которых равна 16 букв\n",
    "lengths_16 = data.surname.str.len()\n",
    "argmax_16 = np.where(lengths_16 == 16)[0]\n",
    "data.iloc[argmax_16]"
   ]
  },
  {
   "cell_type": "markdown",
   "metadata": {
    "id": "jWZdjA7KDvpb"
   },
   "source": [
    "Из 19-ти клиентов банка с 16-тью буквами в фамилии фамилия только одного, - Edmund la Touche, - напоминает аристократическую, однако у настоящих аристократов прошлого фамилии были куда длиннее. Все остальные фамилии - скорее всего немецкие или финские, - для этих языков характерно наличие длинных слов. Названия наиболее известных дворянских родов Германии как правило включают большее, чем в рассмотренных выше выборках, количество букв.\n",
    "\n",
    "  * Deutsches Adelsgeschlecht // Wikipedia. - URL: https://de.wikipedia.org/wiki/Kategorie:Deutsches_Adelsgeschlecht\n",
    "\n",
    "В идеале было бы правильно обратиться в соответствующий отдел Бета-Банка и выяснить, ведется ли отдельный учет, кто из клиентов принадлежит к древним аристократическим родам. Учитывая географию местонахождения клиентов (Франция, Германия, Испания) это довольно важный вопрос. Если такая информация собирается, должен быть создан столбец с булевым типом данных 'Принадлежность к аристократическому роду'. Оставлять столбец 'surname' в том виде, как есть, нецелесообразно: при его кодировке с помощью OneHotEncoder будет создано большое число столбцов. Но конечный смысл состоит в том, что необходимо отличить аристократов от не-аристократов, а эту задачу качественно мы точно не сможем выполнить, если в банке не ведется соответствующий учет.\n",
    "\n",
    "Таким образом, самым правильным решением будет **удалить из признаков столбец 'surname'**\n"
   ]
  },
  {
   "cell_type": "code",
   "execution_count": null,
   "metadata": {
    "colab": {
     "base_uri": "https://localhost:8080/"
    },
    "id": "mDQyTIVlLpa_",
    "outputId": "5508221f-fec9-4f4d-8459-7c256c2714ca"
   },
   "outputs": [],
   "source": [
    "# из исходного датасета выделим признаки\n",
    "features = data.drop(['row_number',\n",
    "                       'customer_id',\n",
    "                       'surname',\n",
    "                       'exited'], axis = 1)\n",
    "\n",
    "features.shape"
   ]
  },
  {
   "cell_type": "code",
   "execution_count": null,
   "metadata": {
    "colab": {
     "base_uri": "https://localhost:8080/"
    },
    "id": "Ivf58_rmLpfd",
    "outputId": "728beb59-1cb2-4514-da50-5ae7a0e50926"
   },
   "outputs": [],
   "source": [
    "# из исходного датасета выделим целевой признак\n",
    "target = data['exited']\n",
    "target.shape"
   ]
  },
  {
   "cell_type": "markdown",
   "metadata": {
    "id": "szvAyB-5NiDZ"
   },
   "source": [
    "Прежде чем выделить обучающий и тестовый комплекты из features и target, закодируем значения столбцов 'geography' и 'gender' c помощью метода OneHotEncoder, подходящего для всех моделей, которые будут исследованы в последующих разделах проекта:\n",
    "\n",
    "   - DecisionTreeClassifier\n",
    "\n",
    "   - RandomForestClassifier\n",
    "\n",
    "   - LogisticRegression\n",
    "\n",
    "Прямое кодирование **OneHotEncoder** будет реализовано с учетом устранения **dummy-ловушки**"
   ]
  },
  {
   "cell_type": "code",
   "execution_count": null,
   "metadata": {
    "colab": {
     "base_uri": "https://localhost:8080/",
     "height": 226
    },
    "id": "OQYipGTCfDru",
    "outputId": "4fea81de-26d7-4302-d71b-286f92b7f377"
   },
   "outputs": [],
   "source": [
    "# для последующего контроля выведем первые пять строк\n",
    "# датасета features\n",
    "features.head()"
   ]
  },
  {
   "cell_type": "code",
   "execution_count": null,
   "metadata": {
    "id": "FYSf6ixZfD0_"
   },
   "outputs": [],
   "source": [
    "# создаем объект OneHotEncoder, применив параметр drop = 'first'\n",
    "# устраняем проблему dummy-ловушки\n",
    "ohe = OneHotEncoder(sparse = False, drop='first')"
   ]
  },
  {
   "cell_type": "code",
   "execution_count": null,
   "metadata": {
    "colab": {
     "base_uri": "https://localhost:8080/"
    },
    "id": "OGbrId40fclj",
    "outputId": "6c27deba-efc8-4927-b789-cabaaea74d49"
   },
   "outputs": [],
   "source": [
    "# разделим features на два датасета, содержащие (1) числовые и\n",
    "# (2) категориальные данные. Для кодировки предназначены только\n",
    "# категориальные данные\n",
    "features_numbers = features.drop(['geography', 'gender', 'tenure'], axis = 1)\n",
    "print('Размер features_numbers:', features_numbers.shape)\n",
    "\n",
    "features_category = features[['geography', 'gender', 'tenure']]\n",
    "print('Размер features_category:', features_category.shape)"
   ]
  },
  {
   "cell_type": "code",
   "execution_count": null,
   "metadata": {
    "colab": {
     "base_uri": "https://localhost:8080/"
    },
    "id": "9eG6urhpfcsE",
    "outputId": "19259d73-ac6a-4909-9bff-c8422c991a69"
   },
   "outputs": [],
   "source": [
    "# создаем переменную features_ohe, в которую сохраняем\n",
    "# обученную и трансформированную модель OneHotEncoder\n",
    "features_ohe = ohe.fit_transform(features_category)\n",
    "features_ohe"
   ]
  },
  {
   "cell_type": "code",
   "execution_count": null,
   "metadata": {
    "colab": {
     "base_uri": "https://localhost:8080/"
    },
    "id": "EYxvQEGYjuS1",
    "outputId": "968899cc-8053-4392-b300-120216738df5"
   },
   "outputs": [],
   "source": [
    "# выведем список новых колонок, полученных после обучения и трансформации\n",
    "# данных датасета features_category в модели OneHotEncoder\n",
    "ohe.get_feature_names_out()"
   ]
  },
  {
   "cell_type": "code",
   "execution_count": null,
   "metadata": {
    "colab": {
     "base_uri": "https://localhost:8080/",
     "height": 226
    },
    "id": "8CRmSfPcfD9Q",
    "outputId": "4725c959-0a60-4f4b-af61-90e0a1f82010"
   },
   "outputs": [],
   "source": [
    "# сохраним результаты кодирования в датафрейме features_ohe\n",
    "features_ohe = pd.DataFrame(features_ohe, columns=ohe.get_feature_names_out())\n",
    "features_ohe.head()"
   ]
  },
  {
   "cell_type": "code",
   "execution_count": null,
   "metadata": {
    "colab": {
     "base_uri": "https://localhost:8080/"
    },
    "id": "sdweoNeifEF3",
    "outputId": "89aa55f9-2bcd-4a10-f15e-ed51c8fd0fb2"
   },
   "outputs": [],
   "source": [
    "# объединим датасет с числовыми признаками features_numbers\n",
    "# с датасетом features_ohe, содержащем закодированные данные\n",
    "# категориальных признаков\n",
    "features = features_numbers.merge(\n",
    "    features_ohe,\n",
    "    left_index = True,\n",
    "    right_index = True\n",
    ")\n",
    "\n",
    "# приводим к стилю snake_case написание трех новых столбцов\n",
    "features = clean_columns(features)\n",
    "\n",
    "# выведем на экран размер обновленного датасета с признаками features\n",
    "features.shape"
   ]
  },
  {
   "cell_type": "code",
   "execution_count": null,
   "metadata": {
    "colab": {
     "base_uri": "https://localhost:8080/",
     "height": 226
    },
    "id": "IZ7_fcePfEPQ",
    "outputId": "fa7a83e2-57c5-4f1b-cbb2-56cd853a0c33"
   },
   "outputs": [],
   "source": [
    "# проверим корректность изменений, выведем первые пять строк\n",
    "# датасета с признаками\n",
    "features.head()"
   ]
  },
  {
   "cell_type": "markdown",
   "metadata": {
    "id": "3xNyjIbIorA-"
   },
   "source": [
    "Категориальные переменные, содержавшиеся в датасете с признаками features успешно закодированы с помощью OneHotEncoder с учетом устранения dummy-ловушки."
   ]
  },
  {
   "cell_type": "markdown",
   "metadata": {
    "id": "SruTeF6MhQ2U"
   },
   "source": [
    "Проверим дисбаланс классов в целевом признаке target"
   ]
  },
  {
   "cell_type": "code",
   "execution_count": null,
   "metadata": {
    "colab": {
     "base_uri": "https://localhost:8080/"
    },
    "id": "rcAiEpJahP_5",
    "outputId": "6071455c-02ae-495f-93d2-15414fb8983b"
   },
   "outputs": [],
   "source": [
    "# вычислим, какова доля признаков '0' и '1' в целевом признаке target\n",
    "# до улучшения выборки\n",
    "class_frequency_before = target.value_counts(normalize = True)\n",
    "class_frequency_before"
   ]
  },
  {
   "cell_type": "code",
   "execution_count": null,
   "metadata": {
    "colab": {
     "base_uri": "https://localhost:8080/",
     "height": 400
    },
    "id": "yXpwtTyBhQJI",
    "outputId": "eb6d6052-5a58-47a2-f2af-f7205bc05c12"
   },
   "outputs": [],
   "source": [
    "# визуализируем доли признаков '0' и '1' в целевом признаке target\n",
    "# до улучшения выборки\n",
    "class_frequency_before.plot(kind='bar',\n",
    "                           fontsize = 12,\n",
    "                           color = 'paleturquoise',\n",
    "                           grid = True,\n",
    "                           rot = 0)\n",
    "plt.title('Рис. 2 - Доля признаков \\'0\\' и \\'1\\' в целевом признаке \\'target\\'', \\\n",
    "          fontsize = 12)\n",
    "plt.show()"
   ]
  },
  {
   "cell_type": "markdown",
   "metadata": {
    "id": "svtXHNMWjZWt"
   },
   "source": [
    "Целевой признак target в своем исходном виде не сбалансирован: 20% значений '1' (клиент прекратил использование продуктов банка), 80% значений '0' (клиент продолжает использовать продукты банка)"
   ]
  },
  {
   "cell_type": "markdown",
   "metadata": {
    "id": "82u66RtqRaA9"
   },
   "source": [
    "**Выводы по 1.3 Кодирование категориальных признаков. Проверка на дисбаланс классов**\n",
    "\n",
    "**(1)** обосновано исключение из выборки с признаками столбцов 'row_number', 'customer_id', 'surname'\n",
    "\n",
    "**(2)** с помощью прямого кодирования OneHotEncoder с учетом устранения dummy-ловушки проведено кодирование значений столбцов 'geography' и 'gender'\n",
    "\n",
    "**(3)** проверен дисбаланс классов в целевом признаке target. Целевой признак target в своем исходном виде не сбалансирован: 20% значений '1' (клиент прекратил использование продуктов банка), 80% значений '0' (клиент продолжает использовать продукты банка)"
   ]
  },
  {
   "cell_type": "markdown",
   "metadata": {
    "id": "C_CQlrJyTpux"
   },
   "source": [
    "### **1.4 Проверка на мультиколинеарность**\n",
    "\n",
    "---"
   ]
  },
  {
   "cell_type": "code",
   "execution_count": null,
   "metadata": {
    "colab": {
     "base_uri": "https://localhost:8080/"
    },
    "id": "biLkfqXUdP0Q",
    "outputId": "42163f60-3256-4e4f-96c6-23a15fa32629"
   },
   "outputs": [],
   "source": [
    "# создадим новый датасет для проверки признаков на мультиколинеарность,\n",
    "# исклюbчив столбцы 'row_number', 'customer_id', 'surname'\n",
    "data_multicollinear = \\\n",
    "    data.drop(['row_number', 'customer_id', 'surname'], axis = 1)\n",
    "\n",
    "# проверим размеры датасета data_multicollinear\n",
    "data_multicollinear.shape"
   ]
  },
  {
   "cell_type": "markdown",
   "metadata": {
    "id": "ftUHvuoeZLOU"
   },
   "source": [
    "Вычислим мультиколинеарность признаков с помощью функции correlation_report из модуля phik.report. Использование инструментов библиотеки phik позволяет рассчитать корреляцию между числовыми и категориальными признаками"
   ]
  },
  {
   "cell_type": "code",
   "execution_count": null,
   "metadata": {
    "colab": {
     "base_uri": "https://localhost:8080/",
     "height": 800
    },
    "id": "kvYR2O20QPPY",
    "outputId": "c82e5e96-7e29-4c92-f255-b26552ae1ee8"
   },
   "outputs": [],
   "source": [
    "interval_cols = data_multicollinear.select_dtypes('number').columns.tolist()\n",
    "phik_overview = data_multicollinear.phik_matrix(interval_cols=interval_cols)\n",
    "\n",
    "plot_correlation_matrix(phik_overview.values,\n",
    "                        x_labels=phik_overview.columns,\n",
    "                        y_labels=phik_overview.index,\n",
    "                        vmin=0, vmax=1, color_map=\"Greens\",\n",
    "                        title=r\"Рис. 4 - Мультиколинеарность / correlation $\\phi_K$\",\n",
    "                        fontsize_factor=1,\n",
    "                        figsize=(8, 8))\n",
    "plt.xticks(rotation=70)\n",
    "plt.tight_layout()"
   ]
  },
  {
   "cell_type": "code",
   "execution_count": null,
   "metadata": {
    "colab": {
     "base_uri": "https://localhost:8080/",
     "height": 507
    },
    "id": "LbbHKodioWAP",
    "outputId": "3a63776d-7bf0-462e-9b10-66b1cb1b0c2d"
   },
   "outputs": [],
   "source": [
    "# изобразим на рисунке признаки в зависимости от уровня корреляции\n",
    "# между ними и целевым признаком\n",
    "phik_overview['exited'] \\\n",
    "    .sort_values(ascending=False) \\\n",
    "    [1:].plot(kind='bar', grid = True, color = 'firebrick')\n",
    "plt.title('Рис. 5 - Линейная корреляция между целевым признаком \\\n",
    "\\'exited\\' и признаками', \\\n",
    "          fontsize = 12)\n",
    "plt.show()"
   ]
  },
  {
   "cell_type": "markdown",
   "metadata": {
    "id": "iiTQQBIElTvQ"
   },
   "source": [
    "Отметим наличие средне-слабой корреляции между целевым признаком 'exited' и признаками 'age' и 'num_of_products' (0.49 и 0.57 соответственно). Среднеслабая линейная линейная корреляция наблюдается между признаками 'balance' и 'geography' (0.46), но это представляет меньший интерес, так как не затрагивает целевой признак."
   ]
  },
  {
   "cell_type": "markdown",
   "metadata": {
    "id": "GoKDRIt9mh0s"
   },
   "source": [
    "**Выводы по 1.4 Проверка на мультиколинеарность**:\n",
    "\n",
    "**(1)** проверка на мультиколинеарность не позволила выявить признаки с сильной линейной корреляцией. Наибольшее значение линейной корреляции выявлено между признаками 'exited' и 'age' (0.49), 'exited' и 'num_of_products' (0.57), 'balance' и 'geography' (0.46). Во всех указанных случаях степень линейной корреляции может быть обозначена как средне-слабая.\n",
    "\n",
    "**(2)** поскольку в машинном обучении для достижения поставленной цели не предполагается использования линейных моделей, проверка на мультиколлинеарность носит вспомогательный, не обязательный характер. Несмотря на это в случае, если бы была выявлена сильная линейная корреляция между признаками, рассматривался бы вопрос об удалении одного или нескольких признаков"
   ]
  },
  {
   "cell_type": "markdown",
   "metadata": {
    "id": "IIldgAXXTtHA"
   },
   "source": [
    "### **1.5 Отбор признаков для машинного обучения**\n",
    "\n",
    "---"
   ]
  },
  {
   "cell_type": "markdown",
   "metadata": {
    "id": "sJv6GH5dEml7"
   },
   "source": [
    "#### **1.5.1 Отбор признаков с помощью Mutual Information**\n",
    "\n",
    "---\n"
   ]
  },
  {
   "cell_type": "markdown",
   "metadata": {
    "id": "ucyzJkPMFdIJ"
   },
   "source": [
    "Функция mutual_info_regression позволяет измерить зависимоть между переменными. Значение Mutual Information близкое или равное нулю означает, что две величины независимы. Чем ближе значение Mutual Information, тем более зависимыми являются величины.\n",
    "\n",
    "Mutual Information позволяет оценить, какие признаки дают наибольшее количество информации о целевом признаке. В ситуации когда доступно, например, 100 целевых признаков, далеко не все они значимы для обучения модели. Поэтому эксперты по машинному обучению подчеркивают, что выбор правильных признаков для машинного обучения является не просто одним из самых важных шагов. Он более важен, чем сама модель машинного обучения.\n",
    "\n",
    "В обучающий набор должны войти те признаки, которые имеют наиболее сильную взаимосвязь с целевым признаком. Признаки, которые слабо или вообще не связаны с целевым признаком (Mutual Information равна или близка к нулю) из обучающего набора должны исключаться. Разумеется, с поправкой на то общее количество обучающих признаков, которым мы располагаем.\n",
    "\n",
    "  * Feature Selection Based on Mutual Information Gain for Classification and Regression // Medium - Where good ideas find yuo. - URL: https://guhanesvar.medium.com/feature-selection-based-on-mutual-information-gain-for-classification-and-regression-d0f86ea5262a\n",
    "\n",
    "  * Zhu, A. Select Features for Machine Learning Model with Mutual Information // Towards Data Science. - URL: https://towardsdatascience.com/select-features-for-machine-learning-model-with-mutual-information-534fe387d5c8\n",
    "\n",
    "В процитированном выше исследовании 'Select Features for Machine Learning Model with Mutual Information' модель Decision Tree Classifier была обучена по трем наборам данных:\n",
    "\n",
    "  * 1-я обучающая выборка: по всем признакам\n",
    "\n",
    "  * 2-я обучающая выборка: по признакам, оценка Mutual Information которых выше 0.2\n",
    "\n",
    "  *3-я обучающая выборка: по признакам, оценка Mutual Information которых ниже 0.2\n",
    "\n",
    "Аналогичное исследование будет проведено в настоящем проекте. Пороговое значение, по которому будут определены признаки, входящие во 2-ю и 3-ю обучающую выборки, будут установлены по итогам изучения Mutual Information (п. 1.5.1) и SelektKBest (п. 1.5.2)"
   ]
  },
  {
   "cell_type": "code",
   "execution_count": null,
   "metadata": {
    "colab": {
     "base_uri": "https://localhost:8080/",
     "height": 450
    },
    "id": "rZhklxM5ahnj",
    "outputId": "c3c05902-64f4-4c52-b3be-b0a534f32891"
   },
   "outputs": [],
   "source": [
    "mi = mutual_info_regression(features, target, random_state = 1)\n",
    "\n",
    "plt.figure(figsize = (8, 3))\n",
    "ax = sns.barplot(x = features.columns.tolist(), y = mi)\n",
    "plt.xticks(rotation = 80)\n",
    "plt.title('Рис. 6 - Mutual Information между целевым признаком и признаками', \\\n",
    "          fontsize = 12)\n",
    "\n",
    "for bar in ax.patches:\n",
    "    if bar.get_height() > 0.04:\n",
    "        bar.set_color('indianred')\n",
    "    else:\n",
    "        bar.set_color('cadetblue')\n",
    "\n",
    "plt.show()"
   ]
  },
  {
   "cell_type": "markdown",
   "metadata": {
    "id": "oqWmNTq-Ry55"
   },
   "source": [
    "После изучения мультиколлинеарности (п. 1.4) мы лишь получили дополнительное подтвреждение, что наиболее сильная взаимосвязь между целевым признаком 'exited' наблюдается с признаками 'age' и 'num_of_products'. Вероятнее всего именно они войдут во вторую обучающую выборку. Порог составит > 0.04. Окончтаельное решение будет принято после проведения расчетов с помощью SelektKBest (п. 1.5.2).\n",
    "\n",
    "**Вывод по 1.5.1 Отбор признаков с помощью Mutual Information**\n",
    "\n",
    "**(1)** В результате расчета Mutual Information установлено, что два признака имеют уровень зависимости с целевым признаком в размере более 0.04 ('age' и 'num_of_products'). Несмотря на столь низкий порог планируется создание трех разных выборок с разным набором признаков и тестировании их на предмет лучшего значения f1_score на лучшей обученной модели."
   ]
  },
  {
   "cell_type": "markdown",
   "metadata": {
    "id": "yS0a6xFiWbPQ"
   },
   "source": [
    "#### **1.5.2 Отбор признаков с помощью алгоритма SelektKBest библиотеки sklearn и модуля feature_selection**\n",
    "\n",
    "---\n"
   ]
  },
  {
   "cell_type": "markdown",
   "metadata": {
    "id": "TwvVqm1KahD6"
   },
   "source": [
    "Алгоритм SekekеKBest выбирает заданное пользователем число наиболее важных признаков (k). Алгоритм проводит оценку с использованием Mutual Information (функция mutual_info_regression)"
   ]
  },
  {
   "cell_type": "code",
   "execution_count": null,
   "metadata": {
    "id": "2NTVInCzYSCb"
   },
   "outputs": [],
   "source": [
    "# Для отбора признаков с помощью алгоритма SelektKBest\n",
    "#создадим копии датасетов features и target\n",
    "features_copy = features.copy()\n",
    "target_copy = target.copy()"
   ]
  },
  {
   "cell_type": "code",
   "execution_count": null,
   "metadata": {
    "colab": {
     "base_uri": "https://localhost:8080/"
    },
    "id": "AaFV5zPBRx7o",
    "outputId": "07e67989-1050-4ff3-fd19-f94cdf18c983"
   },
   "outputs": [],
   "source": [
    "# кодируем столбцы с категориальными данными датасета features_copy,\n",
    "# используя OrdinalEncoder,\n",
    "# т.к. SelektKBest работает только с закодированными числовыми данными;\n",
    "# обучаем и трнасформируем данные объекта OrdinalEncoder\n",
    "cat_columns = features_copy.select_dtypes('category').columns\n",
    "features_copy[cat_columns] = OrdinalEncoder(\n",
    "    ).fit_transform(features_copy[cat_columns])\n",
    "\n",
    "# выведем на экран информацию о количестве признаков\n",
    "# в датасете features_copy (количестве столбцов)\n",
    "features_copy.shape"
   ]
  },
  {
   "cell_type": "code",
   "execution_count": null,
   "metadata": {
    "colab": {
     "base_uri": "https://localhost:8080/"
    },
    "id": "3yj86rr0ahwl",
    "outputId": "846396ed-b774-4d20-c7bf-5b430ff1570d"
   },
   "outputs": [],
   "source": [
    "# создаем переменную feature_selector, которая будет являться\n",
    "# объектом SelektKBest, в которую передаем название\n",
    "# алгоритма поиска важнейшего признака;\n",
    "# указываем, сколько именно важнейших признаков необходимо найти\n",
    "feature_selector = SelectKBest(mutual_info_regression, k=2)\n",
    "features_new = feature_selector.fit_transform(features_copy, target_copy)\n",
    "\n",
    "# выведем на экран информацию о количестве признаков\n",
    "# в датасете features_new после выявления с помощью SelektKBest\n",
    "# наиболее важных признаков\n",
    "features_new.shape"
   ]
  },
  {
   "cell_type": "code",
   "execution_count": null,
   "metadata": {
    "colab": {
     "base_uri": "https://localhost:8080/"
    },
    "id": "BYfHoAFoah3t",
    "outputId": "346cff65-d80b-41af-a011-ab317e5a8b40"
   },
   "outputs": [],
   "source": [
    "# выведем на экран названия важнейших признаков,\n",
    "# выявленных с помощью SelektKBest\n",
    "feature_selector.get_feature_names_out()"
   ]
  },
  {
   "cell_type": "markdown",
   "metadata": {
    "id": "7JqOmPitgbKd"
   },
   "source": [
    "**Выводы по 1.5.2 Отбор признаков с помощью алгоритма SelektKBest библиотеки sklearn и модуля feature_selection**:\n",
    "\n",
    "**(1)** в результате применения алгоритма SelektKBest были выявлены два важнейших признака из всей совокупности признаков: 'age' и 'num_of_products'\n",
    "\n",
    "**(2)** результаты применения SelektKBest одидаемо совпали и подтвердили выводы, полученные в п. 1.5.1 по итогам отбора признаков с помощью Mutual Information. Для SelektKBest мы могли указать число искомых важнейших признаков, превышающее два. Однако анализ, проведенный с помощью Mutual Information, исследвоание мультиколинеарности позволили установить, что из всей совокупности со значительным отрывом лидируют два признка: 'age' и 'num_of_products'"
   ]
  },
  {
   "cell_type": "markdown",
   "metadata": {
    "id": "J_S-I0VaiLOH"
   },
   "source": [
    "**Выводы по 1.5 Отбор признаков для машинного обучения**:\n",
    "\n",
    "**(1)** в результате проведенного отбора признаков для машинного обучения с использованием Mutual Information и SelektKBest из всей совокупности признаков выявлены два важнейших: 'age' и 'num_of_products'\n",
    "\n",
    "**(2)** обучение моделей будет проведено на трех обучающих выборках:\n",
    "\n",
    "  * 1-я обучающая выборка: включает все признаки\n",
    "  \n",
    "  *  2-я обучающая выборка: включает признаки 'age' и 'num_of_products'\n",
    "\n",
    "  * 3-я обучающая выборка включает все признаки, **кроме** 'age' и 'num_of_products'"
   ]
  },
  {
   "cell_type": "markdown",
   "metadata": {
    "id": "vVqLSwseSP2w"
   },
   "source": [
    "### **1.6  Разделение выборки на датасет с признаками и датасет с целевым признаком**"
   ]
  },
  {
   "cell_type": "markdown",
   "metadata": {
    "id": "PgAY2z-Rf8HQ"
   },
   "source": [
    "Следующим шагом станет разделение features и target на обучающий и тестовый комплекты. Стратификация будет проведена, однако масштабирование и устранение дисбаланса классов на этом этапе проводиться не будут. Первоначально модели будут обучены на выборке без улучшения (2-й этап исследования), и только после этого к выборкам будет применено масштабирование и балансировка методами upsampling и downsampling и повторное обучение моделей на улучшенных выборках"
   ]
  },
  {
   "cell_type": "code",
   "execution_count": null,
   "metadata": {
    "colab": {
     "base_uri": "https://localhost:8080/"
    },
    "id": "PIOGzojM_I51",
    "outputId": "11b7456f-b86d-402c-bec0-f23b0523d315"
   },
   "outputs": [],
   "source": [
    "# с помощью метода train_test_split\n",
    "# выделим обучающий и тестовый комплекты\n",
    "features_train, features_test, \\\n",
    "target_train, target_test = train_test_split(\n",
    "    features,\n",
    "    target,\n",
    "    test_size = 0.25,\n",
    "    stratify = target\n",
    ")\n",
    "\n",
    "print('Обучающая выборка (признаки):', features_train.shape)\n",
    "print('Обучающая выборка (целевой признак):', target_train.shape)\n",
    "print('')\n",
    "print('Тестовая выборка (признаки):', features_test.shape)\n",
    "print('Тестовая выборка (целевой признак):', target_test.shape)"
   ]
  },
  {
   "cell_type": "markdown",
   "metadata": {
    "id": "IgmrfNVsoCXz"
   },
   "source": [
    "Обучающий и тестовый комплект для обучения моделей на выборках без масштабирования и  с наличием дисбаланса классов готов. Но это только первый этап подготовки тренировочных комплектов. На основе результатов п. 1.5 создадим три тренировочные выборки:\n",
    "\n",
    " * features_train_1 (включает все признаки из features)\n",
    "\n",
    " * features_train_2 (включает два признака из features: 'age' и 'num_of_products')\n",
    "\n",
    " * features_train_3 (включает девять признаков из features, кроме 'age' и 'num_of_products')\n",
    "\n",
    "Целевой обучающий признак для всех трех вариантов обучающей выборки будет один - target_train.\n",
    "\n",
    "**Во втором разделе** три модели (Decision Tree Classifier, Random Forest Regressor, Logistic Regressor) будут протестированы каждая на трех комплектах.\n",
    "\n",
    "**Для третьего раздела** будет выполнено масштабирование и балансировка датасетов features_train и target_train с последующим формированием трех вариантов обучающего датасета с признаками (все признаки; два признака; девять признаков).\n",
    "\n",
    "Тестовые комплекты features_test и target_test не будут подвергаться ни масштабированию, ни балансировке. С их помощью лучшая модель будет проверена **в четвертом разделе**."
   ]
  },
  {
   "cell_type": "code",
   "execution_count": null,
   "metadata": {
    "colab": {
     "base_uri": "https://localhost:8080/"
    },
    "id": "YwU55KAbLLA8",
    "outputId": "e2464906-030c-4d55-e22e-53dd7fc4966f"
   },
   "outputs": [],
   "source": [
    "# создаем первый обучающий датасет, включающий все признаки\n",
    "# и выводим для контроля размер обучающего датасета\n",
    "features_train_1 = features_train.copy()\n",
    "features_train_1.shape"
   ]
  },
  {
   "cell_type": "code",
   "execution_count": null,
   "metadata": {
    "colab": {
     "base_uri": "https://localhost:8080/",
     "height": 226
    },
    "id": "BoEE4DueNFop",
    "outputId": "51ee4dbf-1933-4fd6-86a3-26d42299a7b7"
   },
   "outputs": [],
   "source": [
    "# выведем первые пять строк первого обучающего датасета\n",
    "features_train_1.head()"
   ]
  },
  {
   "cell_type": "code",
   "execution_count": null,
   "metadata": {
    "colab": {
     "base_uri": "https://localhost:8080/"
    },
    "id": "aBxnRYAiLLTX",
    "outputId": "f54f3768-5060-4cfb-c50e-4d821090968b"
   },
   "outputs": [],
   "source": [
    "# создаем второй обучающий датасет, включающий два признака\n",
    "# и выводим для контроля размер обучающего датасета\n",
    "features_train_2 = features_train[['age', 'num_of_products']]\n",
    "features_train_2.shape"
   ]
  },
  {
   "cell_type": "code",
   "execution_count": null,
   "metadata": {
    "colab": {
     "base_uri": "https://localhost:8080/",
     "height": 206
    },
    "id": "m8bxFRG-NPLo",
    "outputId": "d13900f0-fca5-4b42-9594-9070a5444b2a"
   },
   "outputs": [],
   "source": [
    "# выведем первые пять строк второго обучающего датасета\n",
    "features_train_2.head()"
   ]
  },
  {
   "cell_type": "code",
   "execution_count": null,
   "metadata": {
    "colab": {
     "base_uri": "https://localhost:8080/"
    },
    "id": "uvxu9jm1LLc0",
    "outputId": "3be21539-945f-4fd7-a577-85b3b818323b"
   },
   "outputs": [],
   "source": [
    "# создаем третий обучающий датасет, включающий восемь признаков\n",
    "# и выводим для контроля размер обучающего датасета\n",
    "features_train_3 = features_train.drop(['age', 'num_of_products'], axis = 1)\n",
    "features_train_3.shape"
   ]
  },
  {
   "cell_type": "code",
   "execution_count": null,
   "metadata": {
    "colab": {
     "base_uri": "https://localhost:8080/",
     "height": 226
    },
    "id": "8NEnPp0KN3tU",
    "outputId": "d75eb65c-0833-48e3-e85b-44c793990e0d"
   },
   "outputs": [],
   "source": [
    "# выведем первые пять строк третьего обучающего датасета\n",
    "features_train_3.head()"
   ]
  },
  {
   "cell_type": "markdown",
   "metadata": {
    "id": "E9DQ8Qy8stpK"
   },
   "source": [
    "**Вывод по 1.6  Разделение выборки на датасет с признаками и датасет с целевым признаком**:\n",
    "\n",
    "\n",
    "**(1)** датасет с признаками features и датасет с целевым признаком target разделены на обучающий и тестовый комплекты. Размер тестовой выборки составил 25%. Проведена стратификация по целевому признаку target\n",
    "\n",
    "**(2)** с целью исследования влияния наиболее важных признаков на результат обучения модели сформировано три варианта обучающего датасета:\n",
    "\n",
    " * features_train_1 включает все признаки\n",
    "\n",
    " * features_train_2 включает два признака (самые важные признаки)\n",
    "\n",
    " * features_train_3 включает девять признаков (все признаки кроме двух самых важных)"
   ]
  },
  {
   "cell_type": "markdown",
   "metadata": {
    "id": "EiGrSA75tkqA"
   },
   "source": [
    "**ВЫВОДЫ по 1 Подготовка данных**:\n",
    "\n",
    "**(1)** проведено общее изучение данных датасета, не выявившее наличия серьезных недостатков\n",
    "\n",
    "**(2)**данные предобработаны и подготовлены для машинного обучения, в том числе проведено кодирование категориальных признаков\n",
    "\n",
    "**(3)** проведена оценка дисбаланса классов в целевом признаке target. Данные не сбалансированы: на показатель '0' приходится 80% значений, на показатель '1' – 20% значений.\n",
    "\n",
    "**(4)** проведена проверка данных датасета на мультиколинеарность, не выявившая наличие сильной линейной корреляции между признаками\n",
    "\n",
    "**(5)** обосновано исключение из обучающей выборки признаков 'row_number', 'customer_id', 'surname', не имеющих никакой объективной связи с целевым признаком 'exited'\n",
    "\n",
    "**(6)** проведен отбор важнейших признаков для машинного обучения с точки зрения их влияния на целевой признак. Таковыми являются 'age' и 'num_of_products'. Принято решение обучить модели на трех вариантах обучающих выборок: включающей все признаки; включающей признаки 'age' и 'num_of_products'; включающей все признаки, кроме 'age' и 'num_of_products'\n",
    "\n",
    "**(7)** исходный датасет разделен на датасет с признаками и датасет с целевым признаком, сформированы обучающий и тестовый комплекты для машинного обучения с учетом стратификации. Размер тестовой выборки составил 25%\n",
    "\n",
    "**(8)** с целью исследования влияния наиболее важных признаков на результат обучения модели сформировано три варианта обучающего датасета: features_train_1 включает все признаки; features_train_2, – включает два признака (самые важные признаки); features_train_3 , – включает девятнадцать признаков (все признаки кроме двух самых важных)"
   ]
  },
  {
   "cell_type": "markdown",
   "metadata": {
    "id": "33-ThhPtw6Dn"
   },
   "source": [
    "## **2 Обучение моделей без учёта дисбаланса и масштабирования**\n",
    "\n",
    "---"
   ]
  },
  {
   "cell_type": "markdown",
   "metadata": {
    "id": "ecOduXM482Qa"
   },
   "source": [
    "### **2.1 Поиск лучшей модели классификации деревом решений**\n",
    "\n",
    "---"
   ]
  },
  {
   "cell_type": "code",
   "execution_count": null,
   "metadata": {
    "id": "0ZBR4H2Hpue1"
   },
   "outputs": [],
   "source": [
    "# создадим словарь датасетов, включающий три варианта\n",
    "# обучающей выборки: features_train_1, features_train_2, features_train_3\n",
    "features_list = [features_train_1,\n",
    "                 features_train_2,\n",
    "                 features_train_3]"
   ]
  },
  {
   "cell_type": "code",
   "execution_count": null,
   "metadata": {
    "id": "z7qS3oJOpuiT"
   },
   "outputs": [],
   "source": [
    "# объявляем модель классификации деревом решений\n",
    "model_tree = DecisionTreeClassifier(random_state = 1)"
   ]
  },
  {
   "cell_type": "code",
   "execution_count": null,
   "metadata": {
    "id": "_2yKRioQpune"
   },
   "outputs": [],
   "source": [
    "# создаем словарь с гиперпараметрами и варьируемыми значениями\n",
    "params_model_tree = {\n",
    "    'criterion': ['entropy'],\n",
    "    'max_depth': range(1, 31, 2),\n",
    "    'max_features': range(1, 7, 2),\n",
    "    'min_samples_split': range(1, 11, 2),\n",
    "    'min_samples_leaf': range(1, 6, 2),\n",
    "    }"
   ]
  },
  {
   "cell_type": "code",
   "execution_count": null,
   "metadata": {
    "id": "W6lUKIfvpurm"
   },
   "outputs": [],
   "source": [
    "# объявляем объект GridSearchCV,\n",
    "grid_model_tree = GridSearchCV(\n",
    "    model_tree,\n",
    "    params_model_tree,\n",
    "    cv = 5,\n",
    "    scoring = 'f1',\n",
    "    refit = True,\n",
    "    n_jobs= -1)"
   ]
  },
  {
   "cell_type": "code",
   "execution_count": null,
   "metadata": {
    "colab": {
     "base_uri": "https://localhost:8080/",
     "height": 416,
     "referenced_widgets": [
      "f576de258bcc48b888bba332b3a741de",
      "c9a25e316e724f7c99722fdeefc8d93b",
      "f2986c79e8864f819f66b6fecc539a00",
      "c9330f49c4084c498a77d9d72912c5f5",
      "2e468531f7544f258a31516569d41c16",
      "6784e4b1e6d845f7bc0168b668ba616c",
      "81e33bec4c514560a760ffdbb28ec14c",
      "74d4a61bd83f4dc1a405652a9dc46451",
      "bc57282c105f49a9884b915b041c1f53",
      "a5a9e4685a494da28b96881a9868f0ab",
      "23868f959cd64016b0da224a31230039"
     ]
    },
    "id": "ZzbF7oqMpuu4",
    "outputId": "43ebe85c-92dc-4b45-80bd-608cf8384ee3"
   },
   "outputs": [],
   "source": [
    "%%time\n",
    "\n",
    "# в цикле обучаем GridSearchCV-модель с помощью функции fit()\n",
    "# на датасетах из features_dict\n",
    "for dataset in tqdm(features_list):\n",
    "    grid_model_tree.fit(dataset, target_train)\n",
    "    best_tree_model = grid_model_tree.best_estimator_\n",
    "    print(best_tree_model)\n",
    "    print(grid_model_tree.best_params_)\n",
    "    print('f1_score лучшей модели =', round(grid_model_tree.best_score_, 4))\n",
    "    probabilities = (\n",
    "        best_tree_model.predict_proba(dataset))[:, 1]\n",
    "    roc_auc_tree = roc_auc_score(\n",
    "        target_train, probabilities)\n",
    "    print('roc-auc лучшей модели =', round(roc_auc_tree, 4))\n",
    "    print('')"
   ]
  },
  {
   "cell_type": "markdown",
   "metadata": {
    "id": "-fMmylTMA4HU"
   },
   "source": [
    "### **2.2 Поиск лучшей модели классификации случайного леса**\n",
    "\n",
    "---"
   ]
  },
  {
   "cell_type": "code",
   "execution_count": null,
   "metadata": {
    "id": "wWJyu_czsC2g"
   },
   "outputs": [],
   "source": [
    "# объявляем модель классификации случайного леса,\n",
    "model_forest = RandomForestClassifier(random_state = 1)"
   ]
  },
  {
   "cell_type": "code",
   "execution_count": null,
   "metadata": {
    "id": "vCW9fClOsC7i"
   },
   "outputs": [],
   "source": [
    "# создаем словарь с гиперпараметрами\n",
    "params_model_forest = {\n",
    "    'criterion': ['entropy'],\n",
    "    'max_depth': range(1, 17, 2),\n",
    "    'max_features': range(1, 5, 2),\n",
    "    'min_samples_split': range(1, 11, 2),\n",
    "    'min_samples_leaf': range(1, 6, 2),\n",
    "    'n_estimators': range(1, 71, 10),\n",
    "    }"
   ]
  },
  {
   "cell_type": "code",
   "execution_count": null,
   "metadata": {
    "id": "l1j0tNS4sC_Z"
   },
   "outputs": [],
   "source": [
    "# объявляем объект GridSearchCV,\n",
    "grid_model_forest = GridSearchCV(\n",
    "    model_forest,\n",
    "    params_model_forest,\n",
    "    cv = 5,\n",
    "    scoring = 'f1',\n",
    "    refit = True,\n",
    "    n_jobs= -1)"
   ]
  },
  {
   "cell_type": "code",
   "execution_count": null,
   "metadata": {
    "colab": {
     "base_uri": "https://localhost:8080/",
     "height": 433,
     "referenced_widgets": [
      "ece0bcdff5564f24a8e6c0801982fac5",
      "66d56018b7104594afdc83b9a0d8c8e3",
      "62a6ac832b834d7d934809e53a8f39f6",
      "c56a935ce0d14e04b63106dc6c70fb72",
      "f5eaaee1383d4723b5b395c6395f3a83",
      "edb5eaf8bf6046d094c7d952b0f65927",
      "d01f76989d9a4c3190aa3bae185d1f97",
      "e75a6bd1b83a4d1e930aa8ee4b0bc95b",
      "ca617df6ac4241dd8ef59b826a204663",
      "9b96280217464946940b9c1481f6fd39",
      "3dd0752e468b4002b1b432c13e0b02d9"
     ]
    },
    "id": "KWh5Va3Ygc9F",
    "outputId": "bfad0398-f1f6-4356-a36e-2e38e5c2e807"
   },
   "outputs": [],
   "source": [
    "%%time\n",
    "\n",
    "# в цикле обучаем GridSearchCV-модель с помощью функции fit()\n",
    "# на датасетах из features_list\n",
    "for dataset in tqdm(features_list):\n",
    "    grid_model_forest.fit(dataset, target_train)\n",
    "    best_forest_model = grid_model_forest.best_estimator_\n",
    "    print(best_forest_model)\n",
    "    print(grid_model_forest.best_params_)\n",
    "    print('f1_score лучшей модели =', round(grid_model_forest.best_score_, 4))\n",
    "    probabilities = (\n",
    "        best_forest_model.predict_proba(dataset))[:, 1]\n",
    "    roc_auc_forest = roc_auc_score(\n",
    "        target_train, probabilities)\n",
    "    print('roc-auc лучшей модели =', round(roc_auc_forest, 4))\n",
    "    print('')"
   ]
  },
  {
   "cell_type": "markdown",
   "metadata": {
    "id": "gcbNo7vcL8DJ"
   },
   "source": [
    "### **2.3 Поиск лучшей модели логистической регрессии**\n",
    "\n",
    "---"
   ]
  },
  {
   "cell_type": "code",
   "execution_count": null,
   "metadata": {
    "id": "zKnxAtjOlDNF"
   },
   "outputs": [],
   "source": [
    "# объявляем модель логистической регрессии\n",
    "model_logreg = LogisticRegression(random_state = 1)"
   ]
  },
  {
   "cell_type": "code",
   "execution_count": null,
   "metadata": {
    "id": "H5jlIa2rmQSM"
   },
   "outputs": [],
   "source": [
    "# создаем словарь с гиперпараметрами и варьируемыми значениями\n",
    "params_model_logreg = {\n",
    "    'solver': ['newton-cg', 'lbfgs', 'liblinear', 'sag', 'saga'],\n",
    "    'max_iter': range(100, 5001, 100)\n",
    "    }"
   ]
  },
  {
   "cell_type": "code",
   "execution_count": null,
   "metadata": {
    "id": "i193o9tbmQVP"
   },
   "outputs": [],
   "source": [
    "# объявляем обект GridSearchCV\n",
    "grid_model_logreg = GridSearchCV(\n",
    "    model_logreg,\n",
    "    params_model_logreg,\n",
    "    cv = 5,\n",
    "    scoring = 'f1',\n",
    "    refit = True,\n",
    "    n_jobs= -1)"
   ]
  },
  {
   "cell_type": "code",
   "execution_count": null,
   "metadata": {
    "colab": {
     "base_uri": "https://localhost:8080/",
     "height": 344,
     "referenced_widgets": [
      "d5ce87c3abed4b3eb959fb4cf2a14b77",
      "b5d43fe36e9d43d2ac16d0cc19ca68d0",
      "8901922267a64d728f277b394f4fc954",
      "b87c573a99694f2590411112511a28f9",
      "1da8e23b943746f58434345f10586fa4",
      "0d70a501ea9449eaaa2a2699cef5b41e",
      "f0f4d74b875f47fb963ca414eb53f683",
      "79041e7825b74501be2c5ec6b0cf93d5",
      "8d2159a47cd84705bd388ad83772cfa8",
      "4fc602270ddd41f7b71cd4bed0a957cb",
      "1489cae47e624c3c930f0ebdb588ff56"
     ]
    },
    "id": "AZL8jVY9lDQl",
    "outputId": "6313e0b0-985c-446a-be31-7f68df3011cc"
   },
   "outputs": [],
   "source": [
    "%%time\n",
    "\n",
    "# в цикле обучаем GridSearchCV-модель с помощью функции fit()\n",
    "# на датасетах из features_list\n",
    "for dataset in tqdm(features_list):\n",
    "    grid_model_logreg.fit(dataset, target_train)\n",
    "    best_logreg_model = grid_model_logreg.best_estimator_\n",
    "    print(best_logreg_model)\n",
    "    print(grid_model_logreg.best_params_)\n",
    "    print('f1_score лучшей модели =', round(grid_model_logreg.best_score_, 4))\n",
    "    probabilities = (\n",
    "        best_logreg_model.predict_proba(dataset))[:, 1]\n",
    "    roc_auc_logreg = roc_auc_score(\n",
    "        target_train, probabilities)\n",
    "    print('roc-auc лучшей модели =', round(roc_auc_logreg, 4))\n",
    "    print('')"
   ]
  },
  {
   "cell_type": "markdown",
   "metadata": {
    "id": "IsH0TBS8KZC_"
   },
   "source": [
    "**ВЫВОДЫ по 2 Обучение моделей без учёта дисбаланса и масштабирования**"
   ]
  },
  {
   "cell_type": "markdown",
   "metadata": {
    "id": "mQkxCi88Y6wl"
   },
   "source": [
    "Во втором разделе проведено тестирование моделей Decision Tree Classifier, Random Forest Classifier, Logistic Regression на тренировочной выборке, данные которой не были масштабированы и сбалансированы.\n",
    "\n",
    "Особо необходимо обратить внимание, что в ходе тестирования моделей в циклах каждая из трех лучших моделей не сохранялась отдельно - это не требуется, так как в следующем 3-м разделе будут тестироваться модели с данными, котоыре будут масштабированы и сбалансированы. Ожидается, что метрика f1_score будет выше. По этой причине в 3-м разделе каждая протестированная модель будет сохраняться отдельно, что позволит провести финальное тестирование лучшей модели в 4-м разделе.\n",
    "\n",
    "Целевой признак во всех случаях был один и тот же. Датасет с признаками был представлен в трех вариантах:\n",
    "\n",
    " * features_train_1 включает все признаки\n",
    "\n",
    " * features_train_2 включает два признака (самые важные признаки)\n",
    "\n",
    " * features_train_3 включает девятнадцать признаков (все признаки кроме двух самых важных)\n",
    "\n",
    "Результаты проведенных экспериментов по выявлению лучшей модели представлены в таблице и на рисунке 7"
   ]
  },
  {
   "cell_type": "code",
   "execution_count": null,
   "metadata": {
    "colab": {
     "base_uri": "https://localhost:8080/",
     "height": 331
    },
    "id": "ViKx7SUuIJor",
    "outputId": "6cbe214c-143c-48e7-ec2e-4e8b1bbeeb88"
   },
   "outputs": [],
   "source": [
    "models_unbalanced = pd.DataFrame(\n",
    "    {'1': ['Tree (все признаки)', 0.512, 0.9963],\n",
    "     '2': ['Tree (два признака)', 0.5203, 0.8248],\n",
    "     '3': ['Tree (19 признаков)', 0.2773, 0.937],\n",
    "     '4': ['Forest (все признаки)', 0.5322, 0.9873],\n",
    "     '5': ['Forest (два признака)', 0.5398, 0.8207],\n",
    "     '6': ['Forest (19 признаков)', 0.2534, 0.7562],\n",
    "     '7': ['LogReg (все признаки)', 0.3233, 0.7684],\n",
    "     '8': ['LogReg (два признака)', 0.0745, 0.7342],\n",
    "     '9': ['LogReg (19 признаков)', 0.0453, 0.6816],\n",
    "    }\n",
    ")\n",
    "\n",
    "models_unbalanced = models_unbalanced.T\n",
    "models_unbalanced.columns = ['Модель', 'f1_score', 'roc_auc_score']\n",
    "models_unbalanced"
   ]
  },
  {
   "cell_type": "code",
   "execution_count": null,
   "metadata": {
    "colab": {
     "base_uri": "https://localhost:8080/",
     "height": 419
    },
    "id": "Tx0mbD7WPTtX",
    "outputId": "7546c7d4-a011-45d6-855d-de261746311a"
   },
   "outputs": [],
   "source": [
    "b = sns.barplot(data = models_unbalanced,\n",
    "            x = 'f1_score',\n",
    "            y = 'Модель',\n",
    "            palette = 'rocket')\n",
    "sns.set(rc={'figure.figsize':(4,4)})\n",
    "b.axes.set_title('Рис. 7 - Метрика f1_score лучших моделей \\\n",
    "без учёта дисбаланса и масштабирования',fontsize=10)\n",
    "b.set_xlabel('f1_score',fontsize=10)\n",
    "b.set_ylabel('Тип модели',fontsize=10)\n",
    "b.tick_params(labelsize=10)\n",
    "plt.show()"
   ]
  },
  {
   "cell_type": "markdown",
   "metadata": {
    "id": "FfTuq6Wke7qw"
   },
   "source": [
    "**(1)** Самый лучший результат показала модель классификации случайного леса Random Forest Classifier, f1_score которой **на тренировочной выборке:** **0.5842**. Для лучшей модели характерны следующие гиперпараметры:\n",
    "\n",
    " - 'criterion': 'entropy'\n",
    " - 'max_depth': 15\n",
    " - 'max_features': 3\n",
    " - 'min_samples_leaf': 1\n",
    " - 'min_samples_split': 7\n",
    " - 'n_estimators': 41\n",
    "\n",
    " Лучшая модуль была получена при обучении на всей совокупонсти признаков (features_train_1)\n",
    "\n",
    "**(2)** количество признаков в обучающей выборке значимо влияет на метрику f1_score. Для всех рассмотренных моделей тестирование на выборке, включающей малозначимые признаки позволяет получить самое низкое значение метрики f1_score. Значение метрики f1_score на обучающей выборке, состоящей всего из двух важнейших признаков лишь немного проигрывает значению метрики, полученной на всей совокупности признаков (для моделей классификации деревом решений и случайного леса). Но здесь важно понимать три момента:\n",
    "\n",
    "  - два важнейших признака на самом деле важнейшими названы формально, - степень их влияния на целевой признак, как было убелительно доказано  в п. 1.5.1 невелика. Они лишь выделяются на фоне остальных признаков, и все\n",
    "\n",
    "  - вполне вероятно, что если бы количество наиболее важных признаков мы бы увеличили до трех или четырех, - на выборке, включающей только важнейшие признаки, мог бы быть получен размер метрики f1_score, практически сопоставимый или равный метрике f1_score на полной совокупности признаков (относится к моделям деревьев). Но в связи с тем, что следующие за самыми важными признаки отличаются совсем небольшим влиянием на целевой признак, мы не будем открывать новую ветку тестирования\n",
    "\n",
    "**(3)** на выборке с не масштабированными и несбалансированными данными лучшее значение модели классификации деревом решений незначительно уступает лучшему значению модели классификации случайного леса, зато в десятки раз превосходит ее в скорости обучения"
   ]
  },
  {
   "cell_type": "markdown",
   "metadata": {
    "id": "3UJeEuDTmeMv"
   },
   "source": [
    "## **3 Обучение моделей с учетом масштабирования и устранения дисбаланса классов**\n",
    "\n",
    "---"
   ]
  },
  {
   "cell_type": "markdown",
   "metadata": {
    "id": "18oIdzNpp7X3"
   },
   "source": [
    "### **3.1 Масштабирование данных тренировочного комплекта**\n",
    "\n",
    "---"
   ]
  },
  {
   "cell_type": "markdown",
   "metadata": {
    "id": "U3KAGjoFSBSx"
   },
   "source": [
    "Масштабирование функций в машинном обучении является одним из наиболее важных шагов во время предварительной обработки данных перед созданием модели машинного обучения.\n",
    "\n",
    "Алгоритм машинного обучения просто \"видит\" число — если есть большая разница в диапазоне, скажем, одни признаки измеряются в основном в десятках, а другие в десятках тысяч, модель делает базовое предположение, что числа с более высокими значениями имеют какое-то превосходство. Таким образом, превосходящие числовые значения в одном из признаков в сравнении с другими признаками значимо искажают результаты машинного обучения.\n",
    "\n",
    " * Roy, B. All about Feature Scaling / B. Roy // Towards Data Science. - URL: https://towardsdatascience.com/all-about-feature-scaling-bcc0ad75cb35\n",
    "\n",
    "Данные, представленыне в датасете, могут содержать атрибуты со смесью весов. Многие методы машинного обучения более эффективны, если атрибуты данных имеют одинаковый масштаб. Масштабирование данных в первую очередь важно для линейных моделей, вычисляющих расстояния между точками.\n",
    "\n",
    "Общее правило таково: в алгоритмах машинного обучения, если значения объектов ближе друг к другу, есть шансы, что алгоритм будет обучен хорошо и быстрее. Напротив, если алгоритм машинного обучения работает  с данными, в которых точки данных или значения объектов между разными признаками имеют большие различия друг с другом, алгоритму потребуется больше времени для понимания данных, а точность будет ниже.\n",
    "\n",
    " * Verma, Y. Why Data Scaling is important in Machine Learning & How to effectively do it / Y. Verma // Analytics India Magazine -  Artificial Intelligence, Data Science, Machine Learning. - URL: https://analyticsindiamag.com/why-data-scaling-is-important-in-machine-learning-how-to-effectively-do-it/\n",
    "\n",
    " * Масштабирование данных для машинного обучения в Python с помощью Scikit-Learn // Машинное обучение. - URL: https://machinelearningmastery.ru/rescaling-data-for-machine-learning-in-python-with-scikit-learn/"
   ]
  },
  {
   "cell_type": "markdown",
   "metadata": {
    "id": "ECi6xvweqvS5"
   },
   "source": [
    "\n",
    " ![SCALING.png](data:image/png;base64,iVBORw0KGgoAAAANSUhEUgAAAkwAAAHgCAIAAADYMKWcAAAAAXNSR0IArs4c6QAAAARnQU1BAACxjwv8YQUAAAAJcEhZcwAADsMAAA7DAcdvqGQAAAAhdEVYdENyZWF0aW9uIFRpbWUAMjAyMjoxMTowOCAyMDo1ODowOPBbXzEAAP94SURBVHhe7P3Zsy1Jdt6J+RDjns459+a9mVlZA6oAFDigiRZMDWowtdRsSQ9Sm/hCmOlJeugn/Q98oJlMD3qRZDJT09SSdctkpAkyWKMFkt0kGyRAAgQKAIkqTDXlPNz5DHuKwWfX98U+N2tAVaGymsisqox19z17n71jR3h4xFk//9yXL5cxRvGdLU+PD2w5ZzkZXqeUTm+e7PTmt9lpe7z4tk+fv48yfIdvvW/YSqlv+yJ/Pt8Zn94/xGyzzTbbbB8rU7fP39VOqPuOj282UOT2/W+jCejyvn1H2JzeOX16egeG10qdynba/hvfmrbCr7eP07enT24N7/zZMty+mm222Wab7eNk36LkJrR8Mw++jWTfMEi0byPHnwXJd0QaEPVn38O3Txt/8/and75pJ9/+tW+y7/HRbLPNNttsH1/7s92VgMr0RMABMd/OHhjevH31TfZN2xBat6+ItO9FIHw68fJ2y+++LT74Hvv5xhFnm2222Wab7X0DY/zty281UOd9FfU94PNnDLz5RjfjhC4+vpudNvj+7Psvw2yzzTbbbLPRALlw+/Jb7STXgDe8UEp9m3p7n3/v22nL6eW3j/N9EEbONttss8022781O0Huu0LohKfvR2990zanpz/vC7PNNttss832F2yAXPweSuv7wdufsdMI2Qy52WabbbbZPmL7lsD92WabbbbZZvtxsj93ntxss80222yz/ajarORmm+3DsGfPnv3e7/3e2dnZL/zCLzRNc/vubLPN9hdsPyxKDqRN00++5uyF6Rc+8Pb7n8w224+qvf7663/7b//tv/t3/27XdbdvzTbbbH/x9sMDOQINP09Aew65E9tu35tezzbbj6QZY959990nT558W0LX2Wab7S/UfjggN/FM4oFXOeHFKTzz9PvMt9l+PEwpNc8ZnW22D9l+WJTclN45iQTCsX9SivQcb/gEhZxdw2yzzTbbbB/YflggN0k3iZ94zgqaLkHG8Y2sZJohN9tss8022w9iPzSQy1BsIJuKDPi87an8RjclX8+cm2222Wab7YPZDwfkJqJBu1HBTahLp4Lhd5n4uI1AmW222WabbbYPYD8kSm5SajmeeAbk3RZLTvSbbbbZZpttth/IPkzIkWTT49uMMk3mkH1njjfJWzUFWLJ3kozLnK6OYs69lbPNNttss31A+1CV3POASXLrfUt4D0/RPHj1D//Nr//D9776pf7mMkdP+OFTcA4PbDLh8Vsf778922yzzTbbbN/BPkTITTAD0iJfEk4pc6JAFDFlv3v24MFXv2AvX33193/tC//0/3fz7KHIEZuftjkhbeJZTtODZONvE+lmm2222Wab7TvZh6rkbiMkJyoBXkL4nGKy3uwfvv6H/0gM77XS/NEXfuO//Hv/ya/96t8/3FyKKehkmlZw+hof7Mk8vXz/vdlmm2222Wb7TvahQQ6CS0k8OL7G6d6AXMrh5vGjL//2bz752u+Em6/pbL725a9/7WuvbvcPfu+3fvX3f+ufmP6opokFp/gTmZNM8dR/OaFOSonPcQoz6GabbbbZZvsO9qFB7hQoOekyPE//k4t//Nv//Eu//v/J+3faavHbv/tH/+L3f1ed6fufeaFoxi/85i//my/8V+O4FTLmSQOCZxMpp3iUiXLsqqTMO0m92WabbbbZZvsW+zC7K0EkUgkCLAuNQwfT+8PDTT28+87r//J3/+hLr70uz4vlJ1ZyXdpsnzx79Td//Zf+6A/+hTUDCZemiXRCJRISb0yjdWp6b7bZZpttttm+k324Y3Lg3KS+CDqRot22Zfzq6+/8w9/4nd/92quHGEVbpDKXTbU5Pzs/W/b7B7/5T/6/f/qv/5UdjiIHfDfy68TaBEv8cno522yzzTbbbN/BPrwxuanHUQnKOJJJSbHd3rz27jvv3mzfPfS5WYqy7Tvf7Yb+MJh+rAoZxuPjt7/6r//Fr/zpH/yGHbdCkHOTjGOvJ1k391PONttss8323e3DG5O7fZ6UFwfVkiqas80rn7z3Mz/hlarrVYoqMNLSdjfD5bPd5fWxM6Zp/NWTP/31f/Cff+VL/8K7w4TIqYeSnZ54qImdP/5G0fpn7Paz2WabbbbZvot9WJC7VV23/wGnnOSLr3zmf/S/+I8+8/nPrxaLZV06N5qhxyP5GGO56zwU3eBdCHb39LUv/tY/evvVL0Y/Kjj3E+myIuKmX6d3csqJq/UwbjORAT8ABaZdTUg5zdBjIOhpYh729/x3/DY9TSGifEzLA91O4Xv/xfOynEYP8ZgKRUsw/sIHX/Jpepzeev8s8ODbfPNbjKXhGZ8Kw11Me+GD/2/PgtucygI77en25E5fu31Mu/rG4/1X779zesw222yz/SjahwW5W7kF3ykVGDfNA4CUu3//p3/+3/0bn//s52sV7q+LTVlW+CBEb0Zv8KSePts+fvZ09NvXvvqv/tmv/Kdf/jf/3I7HydFzb+QC9/m+q8arkEWcXk4H/AGMX759/sYT35wOxV9vf+HTaTbD6fX0xBen16f3p3emUk7vTHYbanp6PT3zEM8/paVI0lsfjPPDaPpuOB7642Ho9njt+sGNgx/HMI7R2hziiWb4HneCXfMHHzji7W5Pdc4Xp5Lw5/s2fecbj9MTX7z/zmyzzTbbj6bRBd6+/Iu2yfFyNVT852ElAyVFMOPVV//kd77y+7/x4NU/ubp8Mlrrc7o+dFmoqtRSxKrMMdu7m+WiWt5/5Wf//f/oP/6rP/8flvWSe+Nc8SwlZ+DRHXOvcZo8Pr3NkTsc+Baw35fdOnXsBz+hdKb+Ubyefr/1/M8Jcfrl9Bs+JkamDfE7a5W/8Qd+xYnefglnz/enX0Em/ryd7I4DpRCidc7ZZF10IQFyzofgY8YHPqaETZVQOF98D7soylIVumiactGWTVVUdVFXSmmJBz6edovtAMDpONOx8O3bon2r3b71jU+ns5mq4Pljtv829uu//uu/+Iu/+HM/93O/9Eu/dP/+/dt3Z5tttr9g+1AhxwfdPJ/gSzMJBV8aUupNv716752v//HvfPWPfmt7/fDJs6vL7dHFUDb6/HzhnP/spz+5atT19fULn/hL/7O/+b/7Sz/3Py3rNT35Lc0IOe72hCe4aGIEHh2vP4h/ngqJEqJgt29M307cP15mdZKJ3O/04HoJpxNCSbgpvjf9RprxDW5NxZlyhDyLIUCi5YhTjiEG7LGSCrsI1tlhDMOkzJxHlUDOJgfAeXZ3Yj88P+6fx56ACUHM09Mqa6WLArtRRambSi2W5WpRL5ZVVYF5WhcS20xLrVO2n0o57YtFm16fdkwqTjs/fYT/p3OH4fn5y9l+QJshN9tsH4l9eJB7fhimXOa/LKFMJtcJ3sGPQ4Els79677U/fufVL77z2h+99tqfPL56EnNab1YAwgIaRQsXh/PN2Wc++9/56/+T/83nf+5vNO2KHp8+GN/mD7ppnBJEIg8ICnww/3yqjKl873+NCmgqNCCROCJ4OtyJABPgqH74G7+MA/PboFqKQJp3PjqUerDGeGuscdF7fEGWRbGoy0KXNvp+tMPgrUONkEMRyg0HZAQqy6+BM6EU5NkEqelwU/Eoy1hgVKVSgWNzOcQYlc5VWTVtvVg0y7ZcLKq2KZumqAC8EjvEnrj3qbjPSz3Z9Ob0gzZVHdF4emf6bbYf3GbIzTbbR2IfKuSmI9HBAmpwnnDO8NQcT6OvBjQgi8Cq5Gx3uHn3wVtf+uM/+Jdvf/0P3bC/ubneHces9XrdLtuiKYo7L/zU/+B//r/9+f/h32xXF5A0JM5pd4QcdsSzolumq/4A7nka16JNJTp9k7Lu9r3nP97/ZQI2bBJmeHjvjPWDsX1PdPW9Gw3EmcQDxSuUrKty2bZnq7qqhQ/20MV+9MbGFIhn/Ff8gVe6LCNOBUSaBNt0FhlHQf3w0DzspOb4KTfjWKcS3noUiz2WJJlMSuqqEmBpXbfrVb3eVKtVDeZVldSaJ4AdcG+k9Ok0eRg8cSdkKrtUYdxuejHbD2oz5Gab7SOxDxlykxslPCaGTBLsJJL4n44cTwwChMvNYTzevPfGn/72v/mtf/TGa196cnnjQyqlaBtZVBJy6FOf+tm/8b/8j//af/9/tdzcyZAvEwfgmPFMgrI3j8f9QM6ZkGNpoArp4ieSPN/DiQTcM/sfRY7J+2jGONoAoXbsGBra9xFazZgwGhWixtZgEklTFE1VLBq1WTSrJXY27o5x18fBROxfyRACsFQUir2Lt3U1dYxSv+H9QoKjUx8mDl5qzQUaAoSiA/hVXRVlpdlcwHuMQEHlAX8uRBuDKktRaDxUVaa6Tm1dL5ar87PlZg2pV6AqGQl0+kfMkbC8PPkEudtBOdgHqsfZ/ozNkJttto/EPkzIPT/Q9IwD029mMfXQva8Y8Nmpw4+8kwIKZ3z28Ot/+Pv/1W//xj+4fPiO7UalU7upbfCtrl95+XP/3t/4X/93/8d/c3PnU0nV7NWblOI0/HSrfz6QcybjpgqhIETZWJ5JYuLdBMyEMDpINN9BgfXu0NnDPhsnnMvOKU9e43AJJyOzLiCoAC0t6jK2tVo2uq5QLNcZfxyg9iKlX4Bkq2uUXABw+BT4VJOijTFR1ilVajCuiCB8CIWUIFxVVUEKF72oioTNYtSqmNoFJF+OPsUIRKG8qISIcoP90IVCBCWwKQSiaCoNwq1Wy7sXq4sLYK+A2psYPv3gWbAuWRH8wV8/UD3O9mdshtxss30kpv/O3/k7ty//gm0CwOlBCPEJBMJPEgGviRNoL3a9McoCvzMxJVz65uLFlz/5U01ZuePO26Hvx+gZtAJ5E313c/V2WZf3P/HZstpIoae9nvg2HfP26Zts8to0vPv89eTUb42kmXoOuUFMEFlpGMP+OD673L333vaNN/ZvvDm89a5/8CQ9vVaHvnShELkSotWyUhJ0KrUoS6qvuimLukilSk0NwoUQ++t9f7VPo00emgsHK7Al1JuWhJnm0Ns0YgbUZcFgkqkrFyQTKVGzNXVZFdgQW+tl07xwp4aMi5m7KCgXS/ZaUmmCiKVSNUqBg0B3xiiDL7yrrVXG5H5UDrTuD9fb4dAl72SCJiSTp7NHySZBx+epcm4r8v26g01vzPZ921tvvfXLv/zLL7300t/6W39ruaSan2222T4E+/AgN7nISc5BK5xc6PR0+mXqCwTZ8ILP0wO8gYPlF+p68/JnPv+JVz4d7djvb5wJ0E7YYxQmht3Vs4c5FnfufqppN9P4FT+iq37fO/MN2OSXv6FcJ81y+3p6cfvFLLxPxobdfnz8pHvr3ePX3zi8+kb32tvunUf56aXaH7SzwGlVlc2ibdqa3YFgC3kQVJF0K6tltVguQCmfky10KsowhvFqb3edtw5Sy6dUV3ULDCpGRuosgnHGWmccBN7UScnhSc6Bw0UCfUrgsOSoW6Cm894J6+Oxi4OhkgPe49Q0QEnqqqwqQA/FY4ly0gAYDgdRyKQyQWN7F7Aj4ULuRr/bDZc3/fXWGojLIBjhgqOfmhq0qdb48/0qev4ejJdptu/HZsjNNttHYh8m5GAneD1/AG63r/Fjek3ePX/BqIrpDXhWyJpqcfHCJ1+494ngh93NE2v6YGNMMZd57G4ev/PGONgXXvxMuzrHvgiyaa+00wuwc1IoE+Mmlfb89US6KcjfONd19vpmfPh4eOfd/Ruv9a+/Ht5+Jzy99DdbOZg6iiLrigNstWybarkpmxZQVBnS0ivlqyaXy1ScF9WyiSBx74zStqzNYIebw9B1nAOXImTesl3UQBHOD0f2wY2g9xCDZ0GzoLSTCgoOJw95BuowvkQpzjoAgMqp9zKm4AA7n2OCBEQtcZQOG/gEREEgqkopDvIpmSKIqB3EXGQMpgt4cCQQe0ypQg07H/re7I8dgHc4uuBY/dPoICuIdTe9oKyE/jxxDjZdntvXs/05NkNuttk+EvvQIPc+dqgF8IoOkn6TTydFR+NvlHO3r7kd5dbkXvGrXl28/MnP/dXlqj1evWv7oxS1DRW0jUzHJ+99fb+9BAVXZ3ehaE77mPY27YVHxpHINcpDlgIPSCUXxt5cXw+PHnWvv9W/+ub41tvDO++Mjx7Kvquge5wXhA1HxsqqLlaNXi2Kti3blV4suQ83lMIqYcsyqDoVmxIIHG+Ou13fSx3KyvZmuD6armcXYlGsl6tl05TgFuoAxHM2Wgcs450aR8BRigI6CsyVEHBVRVUHncjoFe65ahqcEZBc6qIEa0HJGCHmgDvoMIAL4CywZzQRuEWpqgIqEPsPwyhDAPhwOqAjDgoxlyWVooR29B6fSuvG7f54eXW4uRmHHvxFaXB80HCqP5wtn28ft3U6/Tbbn2cz5Gab7SOxDw1yJ0dI5zh5x1u/OPnIb3KS0ycTm07vPv+ExJqeVbFYXrz0yk82dXm4fgBCBFNZ62XpRR6uH7953F6f331pc3FfyxJqZPoavwmq3YKNQYhkWxw6f3NjHzzuXnv9+PXX3TvvhUeP8vVVOQ7AZlvqsxfutu0C3wlCVesV6KKaSi5qWVa6aouqpbTyY5HHUoxSdLp0opGyqszOjFtrcuGq2vvotl00TuXc1tVmtQLGQAx2BaYsQtQxcewNZQWctG7AvwK80+2iaReLEmCbWIUTKfCxnsRcTmVZ1k3dLlAMUFBC7JVT72cNfdg2otQRChGHVILBmZpHBPawq4AWwUn8hZitZ9coUDeaYKzIiVGb1moXYtd3V0Dd9TB2qDRgkh2YOBJVMn+yalGzVHnT9Zrtz7MZcrPN9pHYh9xd+YFtwh3ZNOXv4iv8KOvli6/85Gaz6a4e7y5v+tEcBusNHLfdXj18/PDNerG8e/8TRVk/d8CJSIlO2CEdjvbppXn7bfPGW+Ob77r3HsRn17rvATbpTJEjJFZVlYvNulotA46bBMRO2bQQUUAO+wUziNJCV0GFlbVfrKOS+yw7WccIQddZs/XG6Vg2MYpxf4yjQRmWy8Xm7AyiiJSYJijIkLJzfjQoWqFJuBIHqCv2VaIQKDjjRzz0Hzdm+ElMnELAIbqKI3TcEo+yLjndm3KN9Bag5HpRVAxkwXaUdDhoIcFSaDsZcrQ+u1DhaGXFfGHWAXsQbezVjEFnUaVchaSNE8b1u+vD9XXfDzLJCqzlAOL7TRDYrU6eFDJtBt53sxlys832kdgPO+Qm8UX9hddwrnDB8KNJ5rJq7r382cVicdg+dK4/Hoy3CpCRKh73jx8/fnt5dv7CS5+CjMk+xH5IN1v/4IF79x3zzrvm3ffsw8diu9NmlM4VU6Qn9A6e6rouFy2xQK2lUsw64yfj9AulwQA/2GQ4gY04kf3iPKu69/EmaZsqZiwJnTBHiL86i9IehjxYqB1AaLVZk1zgJciU8e0gPPiZIJCqGtBsyxparCnqEoQDykKM3nlvHTNRYiMOrumyqprzDcQdhZWS0djgbHTs7cSe3TjYceQ4pQ86pDLlHFEQLZalLkUpkk6pzEk5EDg2LXajkncCG+WQE/sqoer4mPQlTuZstapR0mNnDt3x+po5WSYUSyjDE8tIt9OracRustOvs32bzZCbbbaPxH7YITcxDs6Us+lOMMIPvMXJZEV98dJnluvFsH/WXe9S0l4U7XoBfbK7enjz7NFqdb5pVv27j8zr7+Z3HoS338lPnhb9EfpF+1DkVCm4aw44KSio1apoGt20hQaswDMZIeKywAbOGWNHEC4NJg02jC4Hm9KxOPft3eTTzZi6WEiXpLBlv42mh2RauNGZfiilqupqsdlUDecXQE2BH8F7zhDIsqkYhNks2rqpmYJEAR4cJWN0B6QbSFsW7WpZNNBdBUipG+CKg2RAMornvI1TAkzsMQbITpQxZOPScYzX+7w7Rg4LZl2I1B3d5WW4fibHo+/2YXuJd9Jxb7eXRXKNiLofcm+ksb7r/TAmH5L32dg8jKUPFZDbDcN+fzzsffScsADUoeqmKwSwnQh3+jm9N9u32wy52Wb7SOyHHnJkHN34JB04yZuRJBm8gK4DnJo7915umnp3+eT62VVnnAcbRNbwvCE8efjoomgWQ5BPbsp9X0Yvk9dwzjXHqCAKAQvOLyvKarmsbse3dIbA8tBqWVXgA3WjMSOUXBhHMZgypLoqtEqpODb3hVzawR2SBhnXMlR2mw/Xrik3cfDDsRNa1tBw63WzWnBADSrKR+CtbRZVVQN4VVUBVziPCQ7SeD8Y4wONZ8dOzKKoK465VQVUFHOXsOignwyJeJMT8FDamDPgV0GKqkKONhw6t9v5/SFeb+3DR+JmK44H2R/l2OehC7td7g5i7FQKLcDpbTocCTmO2DnXDfZwHK+20HYZYrLr5TiWMWpIWhRvHAP0H/hb18zPInFCt2zDz9OL2f6szZCbbbaPxH64IDepNto3e0q8nobjTgnA6NhlxjuUdnhDl+0LL3+mqpsn775zuLkax8HZAPpt1mePnz6EBvvsT/40NFopha5LXWtVl7Ksi+USMkq3rW4aMG9aDiEla0I/JBBiHI3ti1VdrioZHcSN6E3a9+kwAHZKpVzYcpPae8rJweSsmwudl+korh7sha9VLHfXW5CwBc3ON8uzDVOA9YN0oUq5xGmGGKyFEJIQWZw+zuQkqihSzlxXB7tXGrTiyB3PFjb1WIKSCvqVXZWQWck6RlFO3Z4yTimpQXgX4jBAfmXvkrcCr3f7dH1dmFFF9kba7WG82SsXTN8DZ03bQsl2+4ODkvOWMZ3eSxvkYOOx0yEKa4f9btzv3GGfRwNVpyK2QfEtlCO1b1XgPE5XDAW9lXTPL9xs79sMudlm+0jshwdyTAeJx0S6UxzkN5h3eidRNFDK0fXzM4ZMJut1b8/qVaOy6S4HcwD+YpL7/QBVcnn1FKLm/N76/BP3i/OV2iyLZgX9B9TpppIlgFeAL86NSgRAzu27MIzuOARnyvO6vb+GxNm/9WC4utHGZ2MiSKKCWuX2xSavsoXoKxqZFqovjw/2h2ddkxpzc1Qyl4sKMm6xOUtZ+WMfelNmAcJFH0pd1NOyANRwMeGUgDSIRs4oiBGQKMqCXZZSNE2zwEc4UXZLgnWFKitUUxoNp75B30LBheT2R38Yamw2aTiQCXXJOW0hJjPiywBeHE001o0uO6bBtL1xo0WdjtvD8XrnnCkq2ZRFwJ59rKWWKbthNMcjaCqYpdOawyF0neu75Cz24APzmEFoorSTnsPVIOfY08oryYuJy8SC8FJNV3N65/bSfswYOENuttk+Evvhgdw3PB/FAF9N8m36iH6SoSAnv4hP8WFMXWcePRpee8O9+kb17Orl9eru/btPd9tHlzfehuEwltRG9snT1w7de/W9xd2/8jP1xT2hGwgomQIeAGTsrD30IngtnUoujK47HPt9D0ff3q2rO+X45Nn+7QfsLyx1dEZUubzbiI2Sd6rYSidlSPhqES/N9q0rMQptRQu1VRfVpq3XS8i80DvpfMGZcKpdtHVbVYtGlyXPEjyDXtOKcf1mdGYEoYvVQhQQZklVOoBSnosbjM5ByZWLhW5rCD9vLBsFVZHLaVwRijAAd5HRoJFdndCmfGOab5dCBNJ8N+YYVaGLtsZm3NCzZzRNMSagbYsCr5qAihWpLEqG26TA3JvAVUiAmB+t6zplxzwMYejiODKNp7MaFd00QjPskpeGlwiXbPrldCW/8cH08xuvPkY2Q2622T4S+6GA3IlvHNmBMyTJ8Ipv8G16SzAOb0AdwTFmCa88dubho+NXX+v+6Kvh7XfLY18Y3yR9sbgoyvbZ9ngYh5Q9ozmUHq0dxt311SOoojub+9rFbJIYet/t0thD6NiuS8npWpRNxYW5BxKOqUBWWlVpfHZjj+PqhbPMbNGuefG8+cmXxN0m1iLqDHE52ixtMTw89k/6JuhKFFzIZsk547ooY2BqTqkzdFLVVGVTFJWGAAo54Zy05NRsIMdFj1NrFovF2Wpx56xeNqfpBOBGAIwl0FyVQGPDcI/owL0g6lK0VeSScth5VbSlKHEY5VFTDUpRdMPgrG/aBltAk3GxVpHBMKjfaSASD6UISEKqAvlqlStVbRZZc74Fahwf1IsGyNa6wDXgFIYpZIa5n31MNkD1+o5L5RHgUJxcLYGaDtfplmyw089vRts3Xn2MbIbcbLN9JPZDouQ4lHOCHLg2sY58I+346aQL6BQhKUb7+PHxT75i/+Rr8sETfTyU1hRcqianMalBvnj35U/+5OcO3fHJsycmQmTJQnP8bjwcbt5+q9Li7r1PFX32T57mbofvaXhrO0JPlata1Tq4QQQ7zR6zSQaphd13qq7kqh7Ho6vE5q/9VPkT99NSRxkYvJ9lI5fyMu5euxKHpEa/WLfyYsUFgeLUM1eiBLlqFN5vF9U0/QG8oDZiXkqoLQ/AOWqsTLWklQaEVMiFAKe41rfGAyqyZlAlNovQcNZBNUFjJbw2Jo029mPqR2m9H8bx0HGRcbw5mHG3B4RUYFEkVN1UxYr1mDhXHsTk7gtnKUeLhtnCRCXLe+u8Kn3wFTZ04BrJaK2DdmRCFYhTJpLmUkAKMHTW3Ozsfg9VKCoN3J6mjWPT6eIRcXxmA2W6hPyFxg8+TjZDbrbZPhL74YAcCTe5QhifppeTe4QwmKQQhI/P3dG88fbxD78c33y36LoieHjcUsF765ClFzLQCZcvvvTSan323nuPbm4uObFO5roQi7ocbP/s+slqsb6jGnm5VdZqCcXmJDx+pXKrZI0DW5WD7cfu2I3ellURnFfnq7yuwLzy3kq+cmGqDDAmGS0lUbOMi/717fDuXo5elWr1yl29aUBJuHlV6XJVtKtitVzUdYmT4GKuUxgk01FClIFbQI8WeuJZ1UzBJtxkmkQAhkwzxzWu02nWBN4woNcggZz9cby8ScdODSZe793V1u8OgE04Dmnf527Ix8EfOnc8QoAWXKQATBNMhJK4KoHPAXsMxva7Hm+UbYtCge5BZ/XSWfOZFwHG3Fm/66H+UOJAqEHiRrAZm3E/ADNHEHFxOBPR7A5j32couuUSJ3OavD+JOlyB9y/u9NaUeJtNgNt3PxY2Q2622T4S++gh99zXwVfCiz/PbMJIBr6NT7kMqOnjw8fjH3/V/unXi91+WRIJ2Aa+u6iZ8VFXtaiLVBUSGifml1751L1PvHL1+L3eHIYQm5Ixla5QANrh6cOLUrxQrOXgg+mTd7oQudGxAQwj04MljoBBKIFhAEIUafHK/eKsjdo157XR3gtPTkRwQjTVUmzj1dce5b0Dw1Y//VJ5f93tdyhcfbZcXizbZVmUBFX0nN2AokrApqrZmbloJXNYqrJtOIFh2cimYnaTqlBNxRRizDNJsOmQpA8QcLcrsg7GXe/M1Y3fH/VoW1Aj+WLVilpHMwhOdbBMuekgSV1OCVBKWhRtrVGplpMEUBKIuUy4FxlKktMRREpSeEbB4MOyroVJyqaEs404gGLAyzQqCvDjm9itTAmqE7jE96BPIYlBWehIWWm9bCUnrONaTm2V6UKexueIt+md2/c/NjZDbrbZPhL76CEHXweSEXF8RT94eve2Ww8OeHttX3/NfOVr8e0H1TC0RJZmjqm2LcsaUo+LX9daNLpa1tWiBn50FPfO767a8jhuBzj+cXTOF021Wm+M2dn+6uWL+61akD3w8AUQkWKZUulVQ2nijRellm0ZootFau5tYiVDNrqOXlldl5BywXgor7Jod28+27/5TGe5/MTF+tMvHg87GdLi4nxx56xsS2AK56IKLt4NTjBnC6eYQ6bx5LjStwsaEolLpEJXQvwVBYC3aFVdAUUp8tPsguuHYC3zb/kQrPPDAGpConEugXcATnW2rM9WhcwKxAIFnUHbIDjr+YLHK7SCFrPdEENg4mbBnlpOsocI9qBnAIU50haIMDnGeLCgeVRlb50dAEtyqqzLdrWoF41Ai4HYFtGF6F3AwQpOnE/9eNhucyHrZVsWFUT2xDn2Q0//eHGnCzxDbrbZZvsw7IdkTA7GjrzJC0qIGeg3BteP/fjove6rX3VvvqH6QwHHXHH57BgjozbqaQ5AoWNd5AbySCqqO6G1DFxbYLh/7+6dT7z47qMHT55dxSALLh3uhDCHfuudv9hcrJfrkKKVdkxDUeGbPhUWisYBEoBaUyggqYwWkIF208BRpxcCxzXUQ7lslzLI3WtP4mVfXqzv/uXPjt2Ybb77iVdWL9xhbL3UVVEXRZMhmLJiamUopiiiDckAVMb2gzeOI3OMLdGM4OQ0OGbygiRFLQAhqJjIBJMuAnlMwsKGAJQZakxnAVk2jID4MO73Zrsb90cSbhy9c8kFTjzgCjsp2wANB8iBYth5XbfJg+UojeTEuwLHLqBMI7DHYTpIwkKNORuUNJtEqUdZqRU0KeRcBHtBOOweu4tpWkOcs8ahenHS2djj9VVWsl2s0QrhF5+rc3IOz1N7ZobcbLPN9iHYhws5SIrTj+cODs/Te3iiG+QznSDEhfPX1/3br4/vviHHfbOs6vWCMRIQB4y5YC8lvpxV4no0y7o434hpDRm40wS9tKnVpqlXi3t37te6evjO4/3xQCnFPJXW5XBz2F9s1i/dexkaKSqfGTBvkgS4OBgGYFgR1KrhvG/tXXTcOfiney48KgRY4DJ2VYWtEU87EcT6J15ZvHxPy/rO3ZeqdoWShVM65aSjk4ABe109GKGLsgEmVV2yQ7JtmPIYD1CmwfsltNTUJ8n+UkklxCCODOpVEI0N9B52ylB9lDLlKqsKhIHiA/Yh8qxLNsQRX/dQr85Y4AS7Ti5G66NLIUQoYFXV3gbbGxAU5K/aBWuS2StxEcAfjdeut36w1gQzWheS4FrkBS4NozoBV1RjyFzuVVecvK7wuUaZmetT5PVmUwhxc3kZ0B5YrDjQyJQuFIIs+PQEmyE322yzfQj2IUIOPvIWaFOv5Almt++BTaQbQwwhN/qjeett+8brenvdFrJdLcrVQibgyRcJgodL0ySG3kd8j7F8ZakWC8Vl3ipZ6YA94PmFjV40uTMvre5szi7ee/Se9dZ7FZJdrKGvtIt2vVqfL1bOjOWy8jU02OhS70Pf9YcIWXW+BprA27opikWVdRzHbd9faw3NWIlc13Ile9mk9uz+S2cvc9GDpl5CgoaRM6VBz8QUyTIZaqkKKINIIrrY1yoWVfHCRXXvDk4N9JKcTy1BIXKGoZfpFN0voJOY3MRih1xWDhUGqowmdKM0HnWCAja0ae1WJlBROEvnnMepsnK4kmqEEuSScxBdkcu9KmbvEsGX05QDgBc8G6Ep8RWluRGQzNCX7F0INnKuXkxT2CeXOcA5lUVVVnUSEk0NXWjO8RtGFHVR1cKnY9+BiX60u90eKK7aplotJrXHITpijlefvPtYYW6G3GyzfST2oSo5NudhdHN8npJknIg3dWfhQzj06yv3+uvxjbfq46HKScLBQpGMVgz46XUCCgCxJNpGXazVZpnbOqjMd1JkyGJbiVIxFB47b0pZqmDNnbMzLeUbb75B/1umuqoXm2UfIVKGF9d3hPOhjOpOY4Q1442zew/eAZ3rBTRcgjgSNmgPiQcRp2RTqbM6ndVh0/pNLTbL1d1meSahtlymkHJeCVkVJYA0CSnKR6KYvZFcQwdah2d6cvigUCFBGsFYSwEgAdiMSWGsIyRgcIeD3+1EN4C/2QROvu566W3uRn88ckof15bjQqs5JtuPpuudgfTyQCYA6wOEIeQf6hZgi2BbW05r9NRFdbEIlUgyhHEMR8O1xQsuJA7FaZ2VEMxVAVAB1TgngK6uK+yE08d9cpCMoO/puuVsR9OjhFkAfZB04zAO/YBPzP5gDvuUIk6nattScXyOVx/fwzN7Lz9GNkNuttk+EvvwIEdPO8VPnuaP6Yl0dHOJv+MJAs4/eBBefVM9fNJ4K6NPKZAPXBiNw22MYoDrh2+sq1TXuanVclGcLdSi5qDQMGZroTWYsDhGPxrqwoXWqxKa5uWzTRz3T2+eiEp0HfSJL5ckZg7ybL3wsc9lChBcKRRFVpzPDKXoRrPPAtLIhFxUatOqlzfV59r8UhXvLPJFhb17LaMgIYgtIEsBTigu/01OHE4fUBHQlzJDDTHOgxuV+AqRFsBmrqoTuKi35igj4yprVRRMSmlsGAZ7PESclw8cY7MuDqPyXPoOCs8OIPUgoc9QnxBgXW+OR8nI/sTmBKpkAMg9VBQwyCoOLAUwWp61d/7aT7UvX0TTh2Nv90NwAeUE2JjxBCVdtWrZ2ME4Y8dgUUhrnbOe8tlAuBnoNg/WBS812ypoAYDj0IIJxjTODpcX6nPYbYfDYXSjqIrF5oyzxXmtSTjUD19+bGyG3GyzfST2YUKO6gWul7ELbMuTclOTPsMvx+3WvPGaf/NtfXNTRCfgtgt+SWdZ4JvOOy4FIFRdAxWibjiDzFgB72/ZBUlaQPNBtTjIMJ9GBo5oAYzlqFO1rNer6v4LZ4MPD68uu9FC1JQMmNQPH18pnV54ofV5kBVn5bFDLgou02ZCcNAq7bL+xKr8zHn1k+v8chs2ciiUK3XQpWASfpFjWRfNolWUVAUQxykNDKCHosN5ymKaDxAlCgiq4l1CkDQsOBkbMCLIQUqyAqeKMgC9OAsnvFMZkpTxKtE7N47JuYbT2RLkV4E3jUnDAI3mhz5ZA2yCfDJEHInHlspaKK8EfAL6ngktgVPvsHcIMWchzUock2ukj+AZGxKVjqDraK2NqqgpvBi7EpkfRRcBKPZOJEa9oP5d9GikQENPcZc4e05ZBPlwYImzmVbLYyJqe4xd56wt4NrPznjiUlDUkXSnW+NjYTPkZpvtI7EPEXKnMRj2UsK5SWZbJuTAE+OePh5f/Xp8791mGFT2Ct6V0+CEhrOGyy/IKnydeagghuBpIa2izSBD4vJp0k0zlOH7pdRVCZcbfWA/Z3dMQy8S1AakW1+crz75Uz/z+NGD66snySdv8IXC+dDtrs9WqmhE0lBzYEdVl3erfG9TfvbO+q/cWf/lu2d/qVUvFm6l+pSOvfaR0fGFZvqSQslSce2eqgQeUdiyrotli1+J9Um26rqAmuOZg9mTgiHV2O3K+uAEbZwcBCg2cC4BRdBJhz4eDkz8701VqBJqydhsOAccvArWhLH3wyCck6gNqL2u52wEjryFScsWEF6G09mDSrJGYYDuFE95UsCqOFrz5Gp8eh0s5Bg7NVn4UhWbuto00bnh5uDGCMkHpTlAroHbbQPGQS4C5OxZlZx4tz4/CwG6zvDrWqGRgZpnIyFOrRkuLBuycGkYE3Ar1eL8TrNZM3CUWDzdDpTxHwfczZCbbbaPxD4kyMGTcS2YW1eGpyncDo53PNr33glvvqavrxooBg7CQbhgC6iPDFmBhn9k/CA7AwmwCjJOilWpNo1eKtlwybcE3cMeRRcbpVaVWJbFxUrWyu6emaeP7PYGx7baW+HPzjfLOj599N6TR/24A0T1ullctItNs3zp/k+ulz+1qT9/5/zfuXvx71xs/sqm/syyermp7lSiygOXrSmi1ykVZVkvGkZwABqQLwCY1Gly6/qUWKQsMt04YKOm5YAYagkCMeikQHEjl7MJ1FJhGOI4hL7Dixw9F0x1FuIsj70YOtEP2YyAknJO2FGDf+Nou6Pt+xwCHtCRaAtAXUVsQ4HHzs9U6HrR5oCq7aYknIIz04FK6EfNSQBx9Hzg4P049oMzzHZZMh1XFi1n+5VNZa670FuWWgrjg4sRbwKG4DROirGgZTlGx67YaQkCtCg8h/8CaAfKORc4EKhRcAt9CI67Qx86J9tmcf9O1bSMQZkMeGPFfQw4N0Nuttk+EvuQIAcHNrkyOrMpTRf7EfNxb95+M7zzdnPY13inKiIb+FoXlVQFZJEALYAQTldTwAUT5kNCQNc0hVpWalHqRVlsWrUqRS28cCEY/MyN0gudhCtqKxsHd24GAx4tlq3td6taLeQybdPnX/6Jf+/f/e/99Z//G7/w8//BX/r8L9y//7PL8jPL8qVVc0+rtYxlsijkJD99gBArJmhB03hIvrYuFlPe/emfnk6tKEG4glSDt+dK4rEE03BGFKxw4dhbgg7L3RBu9uyevbp0Nzd5v4/XN3G3g1BTQJcF2AbpbXLsioxdnwYbh55vQn46E6zl0BoYygQkFE3QchRiqGH+Bm1LRQlgeWNFBHOCs4YT4UA5pWKIfrA5Mq9KovbiCnbQclXbKq6mkO7+1c+Vd9b9fuedNzGCfnXdoOioB2MtFzZQsuI6QeVgDbYBzaHtoKWtd6cKQVXwEisVJIQ4s3GiOAoHOnb9MMi2Xt29KGq0Rzhq+T7qWEM/1jZDbrbZPhK7bUf/hRt9Mrzv9Ao+MJiwvXbvPRDPnhV2VN5RDTCDFRjB0arEYagguGo2nR9cdoI/pooqQBtgL5YilZAV8LDQR2AipKGKEA7OuSl7lshB54Prtu5gK9+Eo8H3IDCcjLq6E+VyfffO6uxOESsVQR/AgwfMMspSAQAcO4MHTxxAdAPkVKzqMsvsvHUpLc43XEaHi8P5YEbOtpa6WLSAHEEM1jgvmL5SMBdXTuWygdwM3aBGl7s+DmMEH1LQJZdWSIOJzkACYjMXDEpTFKiKiEpyvckeqOAiBsWiAGpyENGm5IQbrTeGiwpkTlhglyckl/VRAkK15jjcaU68saMrID/LUhdgf+ZKciYUtebRISwTqi0AgKWWqREv/fXPtxeL7Vvvdg9v+qtROhSrCTJG7t7j6rG7EnXC8qeyrnF2BiJuGsyE1WiC4HIBcVWV0S7AdUV7RaXVegGMubpa/sznP/sf/Puf+fmfr1Yr3A2JkyVQTz/+Su7Xf/3Xf/EXf/Hnfu7nfumXfun+/fu3784222x/wfbfSsm9j8eTf7r9lZ749Or5O/j4fQ8GZwwX+/Th8NrXxeXTirF8ItS1qBsBb1hXEY5YFVIWAlBpSvwqm9IXOmoArcyKmiomSBAoJRGgakwM7H+LOcKxLnTRaKbkKqVTclDqqMpt9o/7vLWlqyp9Z7V66fzsU3fufHqxONfQOcxRYkQK0kNmJahHiJ6JslxXBj4Y0AWuIJ5UVWhoNSEhYvSiVU07pemSU16rwInWGRsDg873gxhN7o3fHd3NlquYOpe6Ie67sN1BvcW+V8GXKgExMlgBTFqbQbPk3PEQjoc4HH3fxxFizsYj98YJb4niijPMPdfmBj5PWSjBp0k4URkF5/ERUAY9LBi0wyFDFAyqjtyNnpPvtALPLY6I60PhlUuhOGEcgpCz4pyWsW0KVGLoTRwAVYaXTNPBNaf64doAXNgJyoBCg5qJ3ZTYCj8q8DkL6MXs47TsAQqo0GDhPmtc1DTuj8a5xb17yzt3UGKOz06EI+ROt8vp5/s3zI+LzUputtk+EvuBIAc3BAeJB/0SU4Scfjt9AG04eSi+x/+SfWPYiB/GkMejffrUPX0mY6iWbbFaydVardeyaTi4RekTpOFyptMyapIRk9a7gZlJooUjxp640gukU2TgiuJkBGDPy9C5cLRu9N7EtHPy2RgfDfHJqI9JmrzcXLT3X6ou7tTLFWckoGyg09CBZJxcXmA/04BWZs8cdA+nmHGWmIeDhvudPDFcNreAJMIWAj+xExco7XzAd1E4FCsb5w9dNgZgi12XrZ3ykxnhHVQOFx/HQaER4fvBBGsDtgSsrAnRAc26AaCFrFAIVFjgSKZMzE4JijKLFjOeZI4/egg1jsWxXjk3HqADf3Q1TTcvVNFA9qUkYl1XXAABlRQ96hegAqyElg7yC3WQCGWVFfQZVSzOE/pMaijb8TC63ieHi6yY2Aua1aNZkeuiatpytanLUnq8yUvMCwtKaaWbuimZIY11Oc1chNJmry0lG4S41lCf4/HopVjfv9es1yj71JnL+2TaEyv6/R8/TjZDbrbZPhL7AZXcRLPJE010u50SMH3EF4QfP5bgFAMp6b/Q8k/9Plw9zd0BnpiJ6usW0okKiI7bSWPlYEVv8ugigy9M3vX99dZ1RpigXCwi9gXoRPAuyMxgfSiWADHFBMfCRe0Zq1KMsdya9PDGX291Cs2irTar6mwj2ka3FXHLXrQAEQJxg/KVJRCH4sLTc7YyXk0rh3u85ijW1H/KIUGtI46CzbTOVaHqksEWoFSE4IvKR+hCBY3pcJoD6KXBQ+fARakkY/09FBJxJTlZDacMLjKwPzjjLNDHDMkBYg57qeX0UKkUATJsakaAnjZSLaE4nFshhc0J6g9VMiVhxoF4GQrwTOGInLsHhoIoMqdmUdfrWi+rXEmHc4ZshQHrWaDZYFGb7G1FpUDJ8kCud7vLQ78do+PsgAzAcsxPcqlWn0HNqhGLs7LdtOxPBgKh6CKUNqc+omTYBfaOzTiCGjMXZ9UF2ipTzZK2wO12vy/a+s4nPqGaBl+CnoQO5Aa3D2zI6/TjZDPkZpvtI7EfBHK3hJvs1A4/+Sb6sKmrEp8yNwh+nRrokDLSDXF75a+eOibpDwxGHE3ou9yNarB5sKEb9BgL+Ef4Xug1a92hc+NQNu3y4qxp6kqpUhVws1GLatGUVVHErCD4ugHfFRyUirVW1ejj42ux77KzUuVmvQBNi3VbLFsN6QERw/D3DLXEsEwpiqpG+YmcGOnkOaKWA3x55LrYjKTQGuTg5Lxp8dJJLmk6d7h3aDUz5uDwIhy6dOjjOMZjH/sBKq1QHMVibYFE1kZn2SnKB1diSxBQ+DrEEZCdA3auagCa416oMpTQQWVpyUCSESRm7krPwiXoTpA8Kqb+iolrnULYMgUJ6MsZ8zmxx9HhHHhRpASGIaFkUy5fub965YUxmLHrs/Uc7CxAVJy3dwzvJ2oo77BT9tQyfgU7ZEk552BCu1YetYMTSE7p3J5t2rPztqxxCF4WpanI2JNKlTkNpvJi4l12bIZQVWiVFMMwoFKxy2Ew7dnZ6u4dVU0pOnHaaK7c3kf88WNmM+Rmm+0jsR8IcgAXWUZTk0/ig6yja5q00G2bnj9SgHRzTx6O770bD5BWsbQ+Xm/T7qjh962BZ2V/IZSSS9BzGXquH83hEGu1/NSLq5fu12UB9w6tALmmq6pctvhRpCT6QQxGWyeBTJFKlUsf0/aQ+7FsS72q67Yu20atW71eQKVNkoQZhLkkTKNlW6uq0aqkc51KT91BIOQAhw+HDFUEklLmwHUzrkJQt1CGRWvi4SCOvez61PVxu3OXu3DohXHu2IV+wNG4wjcjNYCwAAqKGBQ4jHcYw5H9CAFnwCNsVTZVuWD6SmKCX3IgYdW2kEBusNEwR5duKsk8k1E3RSwhyAJzLvdW+tQwgASNDVyMqdN1elDwTRLKTmsdQGvVZ8vm7iYDv5CNhw6YIbCVwgsUhcOJCioUapGT0zONO4TMQ/VwgA56GcWPwbgxJ8+c0FLWVStcojgEzDRjK9kKSZzPgOJgX6jsEihFvUMZU3wzYgW3RSmFMfZgxs2L9xYXF8xHSrJN3doSBZjuHVyRHyObITfbbB+J/YBKbnqawDA5I7yDZ3ZK4gffRcs8MfwAeHv62L7zln/ySLmRS7YdBnl5I7quggaBa1SyOj+jJutd2FIJhf6YZVT318u//Jn23oUcvb3cGvAMKkVz/jiZYb0yFoTDT8nMxfhQlCFJYyGxqg10W6kn4ZWhkDYL1VagFCMvpj5JHFRypTOwoQCCgSF2VHKeWcD+VVPrZc01ASrm2eeYFecy2wiaTjKHeYuPB/PkaTrsJXTSMMRjJ7liDgNHAtA1/QzGZPZ5AmhceBSUxCFQJWYcPVjIIFBOo+CCcJOC8TEkbOYTl3lTGhIzcx0gw2YEJ4SjiFRHetWUd1blegGE4Ix8Z9DeqBZtwmZMlYmayFBSuA4QT84Ybyw2BGXMoe+Pe4C0KcuR08fHwAFO7F4xsBTyDZdOTXyZNBw+sxBlkKRNWSxBTGAeMJviXJQw1vTHIdnkhgE1hKIxWBMnyEUaclVVzHXJeXsJ5MY7KIHzNkDEV2VZVVNrIuy6Izbd3L/XLBcAJO8cVAqfTo2OHyubITfbbB+JscX9gxlRdnoFf8r+SYGmPjv7gC78N9Y9fDh8/Svmja/Hm6etTAt40G2Xn1xKIMFDfsGpZl1WnAC3P4ITqtLlqik2i/JT95Y//alquYjbo3t6DRkEMde0ja457qNdKAYjj0OeBrrgcsuS8RYlAMBORSWnTJZwlFzOZtmoRZ0UJAKXPdMlHDEFB4sL1eIIA5Qr+GDHPkZPB6ulbnE8QHWamm3G1HWqG/VxUJBo3qrkAezUHSLDILtkBsg9SB3m8aB2AR2gO33ylouaOkgxlHMKvsfhy9q6cDj21nK6NGgicuEGbzrnhmjxsw/JimSy2Y/jsa/qZv3CHVQFlZXzeZrHXTaL80+9tPzkvfqFjVhqEDgKTgmIOIw1lGBSTZGaMCvqQq0aXGfV2/xoZx9fq6Sq1TpPE9ijA5k5/w8tFlxENFZAqSnEJzhwMYQxTpkrW1W/tN58+lwvIX3RPiigurvePHt8ebMFPAfQGo0KHA/aFHcFuMa2A4g4BfVUTdksObUOb0EsorWCukBdqXF88OUvv/vVrxx2N8AnOwhwR04/Z5ttttn+rdgHVnLsxJp+Pu9QwjP9E8eEONoFpeXjfu/eejs8eEf3+0L6GgQYbdr1ahggsEAdXdZKlolKxYvDkPsRO5E1CCb0nVVx71wmlR9v49URIqRsISXAJl2UJdE4Gh2gdaZ1eRZV9eK5bptkPMQCXKdg6mO6WEbPN6VsqwiOoGwcWysZywfJQy/NTFfZBsEwkGB21/12WzMyEZCa+DT0qRvcbj9ud7kbFMjqfCFSAZZmJ4ZOgnwBUGRcDRCBcvoAQeSw87IqQGXsCs5cCobvQ9p5H8AUEMUMox0No3FAQw5Z4dSgr0rUJMAy9QKe1mXDuUbFRW1aiqB9F8B1F8aRmSUpkaAFR+e7IfsgoHGp+oah76GWcGDUE3hdtTVre91Oy8oloGk8DkyJhsdo2U+rpIM+A86xw5hQAbiiKGXA6SQwn5EpJrhY5HufeenuJ1/aHzowsK5q1CAOM1pnLMM02ZXJwFIu8cObA2eWcCM4nEYJ5diUOE/skILVT4OQUkDW4Rqx31WJerVanZ9DvDICiCIO/37cSDcrudlm+0jsAys5+B465+kx/c7YErzWIsE3SwiXy6fjq1+ND95tvC0LRlSIrs9XO22sboq8rsSq5gwzE/UolIGzDvDkEBJZB3XRyEWZD2N6ss83gxyDhvudZAH+5xA8kzQGWaoMIq7r6pMvqE/e81oAA9ABqm31aiUKuFTsS8RKeyYKjuzra2tojWm1GcdElxAs4+j7LnSHfNjK8ViYIR8P4tjl3d4/eWYePbFPL/12m/tJdzquH+r6g+t3wXVK+LbSDIyfxvFAMWNscBasY5QNQzPYm0hhJ1EWOOwUvD0eDn13pIJhaCNIgvPxwB82LaRsyxoUD6hcenkloKeOcbwcjo+3/dO92Q+ogLIFQFXcH/p3H/nLneiNYiBOLrBTLuLtZUk9bXozdsM0XZuHwTWuUMNtkSqot9hv9/bQ50guq0JM2UtQZzgsjkC9S10OJmXhWe9iNPHqanj43vWzZ3vG+oQckmQ+Ly79WnupjI+74/F6u/POUYoB+iGjBQPdjYYQaG6yL1ZNKNWA1gMEcsgWkhRohazrjtdvvPnk1ddunjyZoMgbbLbZZpvt35Z9d8idOHZ6PLdv/e3W6NcYc5fSMJoHD+wbr6nLx1UyOXsVs9yN8elOWSchFxolIMbg/Ll6dQAOdNno9YqBiyVe1gpK6zhCwIXrI/SD10q1dVnXEjoETNrucQjONq5UWhTlixfVepUOfToMECBcXxvuFTIBbh6edrFS5xu5XhSrhWobwQhJCd/LztSYsjHZUK7l4RC7fRlMA9jubtzTZyCc2O7UEUruoJ2thainHUfhrfR+o+W9ZVzpVMkEZZcg3hxX2bZOpYRz8946LkJjRtM7SjMSFbXD2Q8MPHQ4RbCfc97o01MQXMebC9oAOWgQFJx7DWkH1Mg+5xvvng3uGWA8ZqixdaUXUFtJGp9GaCiL7SUeKlWlWq6asxc21apxnFOXS1mJkLkQ7L7jVPSUQX3gVGfRCAV1LDjLIaxWzcXdzWrVoqY5dpYhHwugDgJLV+VytS6rRbJ6+2B/88az2EVr43a374+dSkw3AzUIWS1UiYt/7HpoVt4ToCUYD56BuJxMF+68/PK9Vz7BXNAQmtCvVHbU/H4YhqeXl6+98fi1N7ZXV7g42CFvs+eGV9/lvpttttlm+/Pteyq5k2P5Jvfy/hv0PHiG38Z/7AWE6zr77lvh7dfV9bNyHHN0dHGHg7jaKsPEHNB6Smoxpnzd5cMgfBAycCQIfr4tIO+wv7wfQKzYDZREtS42jTprBVx/iGHgmmolhOE0dARuFUUjtkN6eKN8Ek2V2xIsCdYkDvsI3TQAZHG+Ll84l20Lh0t3PzIYJDuTu6M4HnS/l+aQzV44FNhGO4TjPne9DqEooabYuZjj6P1gXZeFLdZTqsy6ItC9NeNoD53dH/zYCxKZ+VimhQYE1S0jZXRS0sjINXK4PgCETWbWMmCT7YII5HOUEWxhumbPSgIDmY4SypWbUHRaKCsm3YIuCmCpGwHQ2Pvkk2yK8rzVi2Lq/8v1oqrWdbuBUOYkdUaSikLGwo/edc7srRtQ5yA21Tj2V5cVR+AA8rpYnVX1Glib5jBMlxj8A/C01m1VQ7VKl+0xRIfz05CbXDY1iqrUVV0UlV6tF+vNGmeGxgYaMfg686sxuFQ548OYDg9vwnYULlnDGYEQwJzMn1TEflCLDx5dvfba9Ttvj31H8YmDTyOWfMkbjPfYbLPNNtsPYH/emNyp8+h5FxJ8DV+SGGxr8yUdZkqHnXnjjfTskfY9+y1LZrrIu2Pa7UWMnHDWVPDUuXPAkjBRaM2EkXDapsf/4v5Kr9o8hLwfIXjkNIykKiVLOuTkgSVCoKi4Xls+zcHSBdPjXx2hPYplC3fPJW8muDD4pVbFqhW1Zg7ilEHB3JmI8vQDxJiGhus7v98KM4rgcmJ8puKkNBZKL0rIxNxIjjZCbBkT3RjcqLiCa7YQK5e7dBwTfPXobDeGYSzxbRwbcrJQKBv7IkPQWi1WS5QNvjoexjg4zXFCaDXKNWCbc+0gnhJVF6P5C0Cajp3FSIy/oLtHHWNHdVEudLXk1Du0SjiTwEadM9Qb+MMp5gODP/EMcVZMC6N3aHNwhjhEIWArA3bKMTHIQ4guBkiinCAIpFXIAWzWy6q8WHLxOheyzzhKWaDqUPdQZvhW5tQJ9rHysuOqMI1KVfI+QAGB4Ir/gPcQuHoPc1WXhUeTwzJoFLXrIHZHx21w6bkgUMR+OcGCfbsMd1U4zaJoNxs8OAN/QjF/gN48CsM+eQv+yNo8JjfbbB+JfU8l910M7o6PKeSCua6OnX3vXXn5pHQjGv5o+XOedd/LbqRKqQrZlHiRjibth2wgJmTmm3DrQixL/am76u4KAoHRg4OF9y1e2Oi7awn3HeGGrUp4gjiLJ2mTKAJiGsaw65Ixsi3VioGXp4AJbMNwjwogmXoHt124OqSbQ8SDmZF7f7ONN5yllwcTGeg/QlwwDJIB9SEvi3R/6e7WbiFFgQM57UxhbQXQjkN4eh3efGzffhL3PUWGlpygXuKMmRcMNTFVzpTw2BqgFs66qKqmXZZFzZEuOHx8Ao2FEjYazAbFrQiUqIGBkaM1wCyXpoMSsg5UQiXoKWcmqAdaQBvW1aJpV0UzcXLogW0UnoGQ3kRjfM8wzaIV7aaQKLrrgByQUoJDDfuGc8FwGDCZV0rJqirLovRoBJTFnc+8cv7KC0CpFEEEzxSiE2p1KZsGzRYwBvWPoqFVg2sFpcg4mrqulksmX0Zl444AU6EOIQEXy3axWOAriRI2MvAmhEXbbtbMyzxCP05528BGil7sqO+3Dx5cvf32sNtSxqEucZ9MXZekHZ4o6qZ21myzzTbb923fU8mdms70MdOL9+2k4fgMDbf377ybHr2nwwAaiRS5dtrQC+v4Lc5sUxKN9gOXzcxoxaORjmZ+VUb4dpWLz9wrP/1Chjx650ncMhO/evmCzHNO9iN2Am8KZ56pN+D/oTCwU2b8R5ligJeUalEyDgVu1IxACxv8hVQVNgAokuidHF0+9PbyOpkRqkf2vT8c4tjD0aMAU4R8xD6ZJiS68mJVffJuef9MVTp0fTr04C6gRYDFKTPy4OwwTt1oPDMUJ2OfhWKSLjAI6oudjRxsI5nUaRb7lN6E6bOYsiTXQq9LVXJIT2xquWakIvYMoeOth+phQIdUpAggB2hPUolxnzxLCFrHFeA0NtMh+XEcgBzoZgZ0Qs6irVCIoi7aFm0Eie3ZNcjxQOBHFBUaG0w46TlLj72gzEZNQSaZpATXDrKb+jHZwOkVOEnowrapoPxAJVxuVBrKgtNG5VvINO+purgYEQ2oA/A0BKcUVUXtTgxmrsWDbRi+CeaJ7EIYg4/YpgHqNWqH2MyRMS8il227vLgoq3qCHK4iKxn/+GP67fT8I2ezkpttto/EvruSO3mT5z4Fzor+6vSA91Rwvjn1B/voQbp8KvtOcInoIVsr+p4Pa+Dx8T1pA2NJvJd1DUUBlIhSc6wpWLmqCkiuy5vx9XfD0xtS5O5S3V8zluPmZlo71AhCLpRTlhLiAp5yauXjCb+pkoNbyQwgHAoGj8lOS/hG68O2i5d7te1VP6auz31feKeig4/NTMNlPTv4OJWM3XZM+2E5TKYFiAqYAAvAGNwxJJ5Jrhs667lojss4FW+73h57Sk/45kKERuJndAb8AywAEigw4MqYsdsd7LGD2ML7AUKzhHaB+JOyUfKiWn323p2/9OkF9NO6BTwYPjqhDvwssJ2GwomgmjcuQKoNcTy4cW9tbwgYqJum9lrjXFklpWJgasWlDaBidSUX63oBjQWqMTEXdS6rSHKpVxAjMZ6f3ZMJwhJ86fzw9lN/uV1UenG2wK58IZhaLLJzEV/hlAjUC66jyA3zV3LSIi7BOPT90FFec4JbJH3Zwsh4u+86tks0LnfWJVf5YbmN5WAlShATqmvcH6nXIfSoSju73V69+97u8pL6j8IRtx+eKegm4M0222yzfTD7frsrpyGS9w0uJ0EY+ScP5dWTdLgS0Uvr6F0F2v9omEP0BOWTDlkaLv4i2iY3JbRCsWhBKNsfdCWKRuXdPr39pDiO1aKt7iz0nQUhtL1R42mNUBt6LpkmCoi/SmjNHjyKGpmNwyFSCmJKeayiZyR9zdT7RMK+c48uxwdP/NWN3+1dt1fZSq4JM8oqF6uyPVtUywZCBhXAnFOjSaODnAndYB9dmzcf+0dXec+BN0ZRADYoNPvnIlTVNC4YAcXAkTAUD+4YnzOnB+WpgNzR0KycUg3V1fe2OwRnoGpUJVStRAXpB9nk0ChgFEn04CgTOUMAMYtYHLrBHPpoHPO7QPoBcN14uDocrjrfsxexKWoVpO/BJ2B9AWnsbTCckR0gQIkPlA5IBuwrqFUBwWUM+BKAz2i9ErqkhJNQaSi2GzocS9pYmBSPprveB2OrUtdVyTFALmKe1ovli/fuLds6YbeeyaC1VOvl8nyzQTuFjQ5UPhNYx+PxAMHH5cI5hEeywizaClMaF3CxpOZk1ykELRpA2nP8tESRUMPD4Hbb8fLp9dtvD9st90Cb2lm85Lftrdlmm22279++K+TgUujZp8fJwLmpywhunFooXl+Lwz53eBylGdGOr9CUt1aCQ/BukBfYBV6EwJGf5VJJTsWG/w+ul0td3F1GaCTGYYJ8i2LZqjsrWUnsTY8jfOQJG+DcJNkElQokoGJORnLFGK7B5kZIHYbbR5fDyAgRO8Lf536Ih6Pbbsf91uxvwtgFN/bDPman4F/bEjhkzxl3zDANwIxLHNjot316upVPduLZPt4c8mihYTWXT9Ps8rOWfWuTrISXD8CT88rHCMDgRcHp2yBX5JI03D0qCgyFiAqFqBZ11dSyLqsXNtUn7jDQxoX+4XX/+Cr0o/fgnMhMX4mTZO9hGKb9cGkBrhLHJYSYDAUaOEeX/BCGy+H4YG+uIHYV2hWhG5niK6KGOXrG+eNQcCKkIji0CIJBgwE7cdB9VJQiqgyNnHWC9kJ9gk9MKOaTOZrYu0bIVaGgLhVISj3rm7rarFdQcKiuoR+gZqHyqrJs67YqK+pCKRfLZVmXODr7J3GlpwRjU0comhAucmxQcr64C6jAddMSb1KVWVETO+x38PtD2O/N9bP9sycn1ci+cYo43hCJncO3d+Nss8022/djf46S+2aXQmidmtTwhrurdPU0Xd7Eq4O0npIAjnnglLU4OFnoYrlQdQ14oBkPbxiOBzGMGsLLGfjp4u4qNZIDSBzA8sEGeHw45njch8MueyPgyzlni52GkzAZkzPAZw3vqAANF+yQg1Xw0SWcc2eGG9/t4ngItocuy8mBOBCFEI0am5kx+DFxeTYOmnkzjsdjf7Nz+2Myxg/GwbMblC2Jo/XXR3OzM9B/h86bwZrBJ8+YF6YCo4SD8BOSJ4y3UBvALmMzK6XbAr/70dr9GDqX7TSICNHESd6Mq8R3GW0IRdOgchY5F+4w+qd7HrS3Y9cnl7CbkmuLsqcO26d48upoXmhAXqkqJtn1/XHb9ze2ezYeHh2HG1QXPqzAj7EbqEqdm/p1Y1HLZq2bFT5kFCPaBs7GAeQuyvb8rN4symVVtJCzHO1k3yXOLGrlMiRzJWLJKBVtjT/s9of9AVw/22zqug7YC3gYQPkpgBNtAMV4E9QPgIcSM/szEY8P2e/L3lKu/C4MaA2cc1QQWPcnDOLqcxohlG9v0rGL+0M87I/Png67G+yQwScz2GabbbYf1L4H5KZQOrgoSrlJ0XG+N7njuqO9ehquL+OTq2LwWivR6OwtZJnpx1BWYr2CoAiHLh44JcAej/gKxB3a90kwkwaV32jUaOO2U4dRd1b0Y9rtsjU4HsQD/TEDLxJXkoF/nrKTJDMyvCM6B/AAhAq8gILwIY4Cei6ToNF00Y4enNNRVgIPpt9wY1nqxWalCsUgRgAMznQ0bhhOQgOud+j64dC74xhGS90TveK0BI2NnDe5kqmE0pK6KRmpwWALCFOG1VigCHpkUeVaRgUpx7AKRjX2BrvGHhgSMuU7ZhDkMHaPbrq3LsPTgwC4e2duOntzGPDYHqELIWsSzsdagx1FkCqh3pXUGWKVuSmDsZYFZAJInF7pTLK9RzXJVSsXFS+V4XQC6L+yrNpVszxrFudVtdBlA900LZcagvFOVQUgp9oiKa7fyv7gaTUD8BLHRBVDvuEWUBSWAkhCrWPfRY39FImr8XH1HBojQwHGkh3YBjqRuq1c1ss7a422Dv5pqjq8iZIzuWVE0TlbwxiDZghbTVCEmqnQCtQmLkfXjde77vpqe/kMjQIQDrznjUchh1pks2e22Wab7fu07wo5+hK2xOGExBTSDW9LLef7g3nrjfzkWdzulHcUCBUa+yYejtGatKn0p1+yLpsHz/z2RpZZrBi8V1aVbKRYylgFtYQkSCBmtl74gP1zFAlwYsSjzD5BUYXe2uMIeUd3mFxIrpygArURrU8j+QE9F/shHG10SXNmlkze5mFQDiy0uRV6XUD5iMIn5QUERlPAIcd+hJunMCtVeWdV3V3qDRcUheTyDMEfs4fCoAKTm0aftcAHOV9KUatciAxBxfnbeGKoZopgkYMMAoy9jePgjIG+AUmNGQacmK4ZZ4IXSmdmuQrRPdv3bzwxzzqONYIVg429A9HZpNCyWFTVsoIuRMUCJQHAYl8mvTvpOQxmBCegnvJEcamntVVTJfOiEJuqXNcoCYiIUgJYAR8uy9XFYnG3XryAR7VYlcA0TvN4s0eLRAK/NdfYQ0k4zx4Xg2eKKoOWZPRoQQkJFOEBOPnqXvXiX33xzqfWVculHxg1ahjEA3qhHcIuTEivWt/56Zd/4hc+v7mzQDuhKlTDhYT0mDyTvBWAatBczE5PMULJRkIXwo44w/Nx6C+vjo+f7B496LZb3HcS5zOLudlmm+0Hsu8KObJnmqV0Ih3dDJ5TGJ8+sY8eFYej6m1Cq72WU7R9x0B/tOfPF0CXffeZMr4+W6qzJnJOWCmYRjLlRsm2KM7aUCRoFWa8gABalGJVqQpiJ+V9L3dMWQmJAx6xn9Oa4Awz/DNTZE6DTdhmcEVMICOOpccgmSoEbHKgLMhTw3FPkX7MP1ImkAAPb8bYDWE/hM7AeQPMetO09zZ6VaUy61arVmcNL0v6isgdusgo+naxLEtmCYEmoZ4ldAP0H0exqLMiqhBVBC9vO+sHlJez77zhNqw1Ng+wGTWYlB4ybdwfj1f78Tgkn0DLrFQCvYsC1U2l431RQoPVCvtNkMd26KEK8V3Oncfnk6JWaHXg86otm3VTb2rRAnJKrcrYSM74m2YARK4b10OYMnNnW9atgtyKmZlZavAWWngYcDpNXRdFEThkR61WtUWzrKG+yqJoq6aBwisYa4MzBdCbZfXJn/7UK599ZbXGh5Vh4KdlP+hUGRkcZDBm3Hf7LCM1Xw5oEnCi+KIBLSMuSM21U3E3laeJeg3KojktwhgG0EIYDmMerTkcht1ud32JJgPuxqljmO0s3oSzzTbbbN+3fWfI0ZPcTsTFf449MQAii7jbpkePy9GI3olhhCDTCygdV5aSWazOWnjn9Ma7+tk19Q+8KcBnYs1pVVaIwIlxDSRSppOOEW9wv6UWhdAXq9SU5vJGclECC0/JnrFVDfhhLyAA8xlbHHdMwIOxXHw1JxVCYZ2AgrTw6EOIZkqslVKCNrJMEgwZCMcJv3/o3cOrcLn11sVKCVCtJrNdfxQsG2Pfoe1QoAC8Wg4TWsZxACQtV4tJ4GwZOIAEiHA0apr7LMq6aBaVqKBpRsgZYHpaY2fqs/PR9sN4OFo3pNqrtZBLpRaoAk5S96OzR/A75bqINRfdBr3ApP3lzeF6b3uLQk9iFXuFUGL3LNkVAke5koyM4gRQEpOnFDno0Jy3m5fvqHUVp0wlKM6wG4frbtwOkMWefYWjgXYbBqhMpbiWKag2HDqRUs0ViJjEDIznSuWOEwpRexI1D8Gl2WNprD/uh+vHu/dee9DdjIkz8jloiiaN40LqzDE99TdmNcbt208efP1tcom9o85AjTpLmQ5SMxsM9Cx1m0fDxDtATvIic8Y/Wi2uHyROHmXdb7vtzdh1vAV5B85ybrbZZvvA9p0hd/ImU6MZP9A+5/g/Z5c9eypurothjMNQSIgrKbwRdkDzHzKi3LSMPemOErIOFBhM2Pb+apf2XWYXYrDHgwxRjk71robKiYkJtwbrx4G+nnO6pwRZjdarBiJPTRmb4U2l94KrkjJYn5MGVIhcGtznsXeHg93twghX6HMDJQK323vLPCBMU0lQkE1+NH57xOHKulRtKVuN/djhGMc+WzDVhRyEYjYtAAhASYaT0HH+4CRnyAFaSdjRjd0IBFLVwFUz+TKVCrVQrSvQsEwAr2QfHxhEYGBf4K06b9afvt+8uFFnVXuxbNctWhAO1WgtZA1zQ8LT6xLKb+zH3fVuOOIoKHTmDDPOv8Zlgophc8MRdjw5D7JbD6RCtXGC3jhO4ZTAcqGaltPWGDhZAKooKDjkCXKu6iPZuYp6pjakJKVmDtg3ztDjFw/VmHBGGdfM9DgoZ0SwszT2vbl5vH3w6sPupkNV9F2P6pKciqA5pFcUXKwPzMWVRdm2IxRgu2xxM6XolRRNWYDb3kBts7sXBe45W2JEESAVm6ZhNAoFcT/s9qkf++ub8bAfjnvUNU8fdyCqYQbdbLPN9kHsu3ZXTs1nuBS2oWEAkr+6dg8fpsNWQgowJxOcaIz9UZoB+qdYlr47DE+f6VbriyY27KaDX2TU4HAYk0klE0qBUrbvmWI4ESdwq6bvEzwXhN1+4CAPRNNZo++0olXeAQODZPpJbDcwsTLKsdL6/rK4D+UnTBys64MbID6i8mpRiBp6wBjbWTtMXZR9GAZOrIO+Ublc1iUA05TirIpnRVzk3EgoQQsKUGgKDYGjC+mzdlBcknKu2w9Dx4UCHH4zwBZkIUHIZbc5Ezp4R92pc7PQVSML6FYNYERnLRw4k20N/ggpBabUWi3L6qyuN5WqJE7JdL0/Dnl0HNlkJyXnywOonF/mOesc6qXiMtvACFkH0II0Q+9QE4fDeKBMxNFz7MPu4fb6nSu7tclnzzneqGqAE0JYc5xMKg2WLtp60RRokVT4lRqN1OScAihu6GuAmes3rM5WF3cv2pZ8YswkNTz7hhmZeRjHm8H2qAGCHtqKCU84ZDvdNKi5yNAYN4Z+D23tsL8WZ6WLhqfOGE/sEcJxtVoJrkOAJkseIyqJuZxlWaiyxG7MsXPHQzx2/fVVd3MNjY798Ahzd+Vss832Ae27Qo4G1zIFtQF1oe+HBw/CdieZvSkXlZItOwajZYZ9wMkeDm57U1DZZLEoik0rKi0Z4i/1pqxfOivvLHVTRnhL6LMVIxGAk1yqVHN102ys7LmqtS9VqJhiUcB524krDP8LJowu2iS9umj1i6u8UAnCAHquTKphpkpmzU+O+SdxTvC8kB7G+mFMo0WJiqoMpfTAj8IvAhCtXjlT95ZyUwWVRgONZqWLClKIeU1iNp6da4KsgcKDloRwREWQAmAG1xOYnDs2huvfd/32aPuRA5Oe+g1qzx7d8WrYPe52D/fbty53bz/tr/bZOoYIsn2QGMaITY/9eLOLw4idstg4FU7ontKMMX+lZ/gnw1umMUqmikGRsHv2d44gLydppNIXqpfu0vBBonrPJe5M341Dh1PzrDkoVVQNF5vFoXMB3J+tl4slpDOHPAk5KZWCMOz7ERqxKIu2bTgWiLPn4grAmRZBugEabgR9mxq0YvvBOw8B2nGdHY7sGcgxn4fBXV/vzGCwESCnAho5qi3wego4QbNGT4kDUAVpyryZY7FalKsFagfy2Xc92lJyGCDTx8MxoXLAt5lws8022we07wE5+HHoCuaAylAOjx7kp0+14worCWSqhCqzd1Q2kd2Sh7Q/qhiqWmVvJZdrQcvfQBQtz9vFK2fVi2eyrSDDkrWqqXRVSuPywMEr1WJHPh57DtS0Sn7yvMDGWgfwyVjoAmi4mFzRgIUi1qK4vy7vLoPn1G9dS1HLWOdcw1GnOA4grqbswW8UKXmK+XDdCGR4EXs7QFYOAzgwJhQXgpTT6UQ4jv7m6HdwqcO4H6BIh13njS1K1ayqGhINYC4zV27j1L6UQgZquEwphFPnhpu+3w62gzCdsAeJkzlGCec9bAd/Y+W1DU+P7unObA8O4m/KA8n5dcAdB97Y+enBND9yGYGKk9vB9ayjT64fjoMdoNZIqEJWrSYoGlW2ZbnAaevgRDIqHLK5NH7r5AAFChKieQAKjuM0Euc6P9yMpjMAhdQSTQ1jB3CzbRZVWVNVTwNsHB6Tuj+aq2c3+MlbQOCwWSUuLQ4pCKGL5geYC/YDVZxKn7I1uD8sA21QO5zpwBVuAyRsb/CSdcXVv4FR2QKMdYmv4XSYBlOjlcQpgWieDNaCcJ/+uZ/Vizb4mKyXaHYMBnquu77GyVBPzn2Vs8022we07ww5tJhJOHZTUnfA0bjHj0o7avh3fNKUoeBYlTBjhTa+CWG0kB5SZQevD6928lDwcKtSfXIdLipAEYrKXR9Tbzm0hjb/ntOhQj9o7BHAA8zwfqX0ps1N4YbeATOWEQ3wqfCs9aKUtWK0CbRkdwzbvQheshesEFPAPVNH9h2TWFoXBgMpwygHJQG7MBqQWEEE2SlPv530weWVOez9ONL/QqxBEUGRONCQCxKwO3JgULwoM4giFc7Og6nYpWUkiBt7g4cfQ+g9Hlyepiyr1aI9a+t1Wa50uVTNuqhXRdNWOC2oE/h6KrJp5An7oJxDK4Dra0PtFqhszTh+qUuRq6xbfL2qW3IE7Kjqsm6oicpGNstiua4WZ83yYlkv25BEd3SH7dDv0CBgomOceAJuqqJaN9W6hfSG5Btx3j3bKBU7KqUHAwcjYgK9mJPS4gpGjcOWbaWbMAJREIMWAo59p9ajBYL7gavQVZBjxdRbCwEGXnuu3uqY7rmsGKeC6+VQ/2jBeOwS90WsqxoPSLjFYqEKjWtjiPlccSWGgmfICBt/vd+O1lSLFk2JgK+DzfuD7zqz3+HKQjfPUm622Wb7oPadIfd+ixkAStBrjx7J3U5DpaBJvmrrs1bmIPq+HF1hozl2aGgXDbsoy6Jyo6XEgXbyLt5r5V95Sf/EHaWlu9q5/Z7LhUMF9NYag4Ozee6dYPoMZhVBY99s98PDp/nZrhitVrlcN8WSUf6WK5f2Akrt2VX/5oO4PTKKoRBpXYlFmQvBjkZApLfm5thvj1BuEXjDWxAoItMT96OyocpqUdZVEuloLDY7Doy8EMLXKq3qtKqKVdPAF1ecVAd1BaGXGTnhQuQya/geMIh6gATBJxR2nFEwhbegCI3UG12cyWIjmvOyPiuKVkRlofe4jmtRcz5fWTIPJ76aZIXXNYDGisC5M6QRu8oRWNVLfFc3y3qxaYuG6Z4TJRSUESQgHkz0XHH+tACbu84OHQvr0MBwXDUhQfXhu3c3q3ubxcVKlIXxFMY5ibpumqbG0dAO6PZHXK+CaSUlNC9aCuASBwiLSnONhsQJhRnCFOeNE8XXmaMGTQCOojKIZFSFwt40U7rowKzRstIl2gs4EYhPM3L1BaUKqDA0DWShVVFyB5Zp1jhfQnF8UEW0l+zl1fbNV19HY0cUBRWecZx4eNiNN9d2f5h6TWcpN9tss30w+86Qu9VyjOzO4bCzjx9qrhSjHNTGnTrHQRz26tin4xCNhaTjvOVairKMXXLX0BPwhWx0F+eLcF7nRQFvF4e+3NRqVTDnv3NCyXJZRRWMG2LyVDFVAeEVt316dhC9hWCDgNMrGaSFCx+7fRyPYhzC1U24PkzxgpzHlrHPF5bxrM4Ng/vC4MZdH0YPboAEQBLH6koJP830j50LnY0jk41JE9POpK1JAxerE+DKAh6X2TWh2GShgCH4/pLLxHBginWFz0oOzHFFNlipZJ1zI0TNY4GEKcOPZy5lxwB79hlOY2ikgR9CGuG4uQI5KgfqCk/EBgQsA+ktv8A3+JPZkRc1wALIQOygWvA2EDV0djz6oXPjYJMJwoTIqWohWYbdiKCYb8vGwCkYHFJNpU+1r850c95mLt8DWctyT+GNGmIdagyiEvXWtC2AyvXQRZAiAJ9VC9mmfQyQXFOikwoAo0o3TBjNwVYQu9SLtmi5YI5w1h73/diZ4rQqK2iI0xo4ajgMph+GYTQp5aLgtH7cR1OCT07w1ykVjG4SowlX267njIQEBVkkHM5DbcebG3NzQynJobzZZptttg9g3w1y9CZ07t6NT5/4bg9cwC3rimme7O4qDh0gBL+eVVKrKhWZIR69G7eDBCaqSi5KdbdNNSTU0e23/dNnQFu9avW00hvb7xXHZjh5OPswDY9pOFYIm5QVHKOBPx+C8AIfuTENViXsVyZnuMzbwKgLKA9OuGu0XNexAMpssjZ0QxoNhED21psR4KE+KkQGkLSGHut2x5tHz3ZPLu3NIdz09rqPoy+0rkutQUTHVCvWAoaGw2aoA0hNCwzB7VZVBaDhvMFX/IB6o4ITWpAB0CMF+0wTCOM8c4P1PepEMSU/+0xtZw+Xx+2jm+7pbrzu4uBQRhKQ/X0cOnP4omTbgtP6oBs5FmnGQzetG0Cycka6kvzQmqEf8bDsJU6cd8jpHByJRJk5sdoalArYdmXwy6zu1MyI3aKyGMozDqYbeuyHSxZoqnPwo1C6bRd12+AQHCWc5voFHotpMNmr2rBrkToS0o5r4/BznPei5ro7AB4AhlYHpZsF6YF64Jv9mIx/IeCgrCOOa1CVgks14cIYHChBakeoNDQT0HQII0sPsnJvlvnJwjj22+3xyTOzP1BUzzbbbLN9EPtukGPMAZWE6f3NNfikW+iJoEvGsMfuABkQK8WYkVZzde+6LCAgdmN0sVosvIhdNnYhQhGUGfVh8NsjcOEYfx+1Kog3KiW8zmUFwkCyqRycGEdlLaiSVRQFgxflNEc4eSAWHpz5+DnTbgowZBelDLbr/f4Q+x5sS9ZAaGiRiMNpyhcgR5TAfS5qNa31Y6EtesMclYMVhosGACiZ08YYCKJqmdlV5jIYQFWT3RDsAKQG4DJ5EeiY2VcJvwwP7iFwg5c5onRCc4WArFQJaVNXAvWz0NVZVa3rknk9CnbTgWVM1IkzBUGgH6dwCikU0K8FWgAgMajXbfthP/reu0l34joUWi7aan1n1d5ZVOsKGjdyVjWjRUroKehOEYAeVOwprgSF0U0h2qJ+4ay9f66WRYVC1QUqELoKhE5AFaCMyomoqKngODZDaxQAw3wtKC5EnIA+p2ZFK2fKfJkLCloFxLEhMelIKFhjbGYrhIvG4ZtoG6iC43PgcvTBcNTO4yOuio5PUUKtcEpQchzWw3XlChO6xZEylC535dCSwNYD7qrY7Q/7Z5fHZ5fYFZsds80222zft30L5ODTJrd2a+xCGvpyHNm1tWxDBD+isk55B6/KJrodoKKKO6vmbAXXB8hxFrTW+KaAt+TSO1F2o7jcN3gDHtB5fwRjRrhmqDfIL6noNCmXRDK7rn9yba+2cRyKUi7Plni/3x3MsQdM4HfDobdXO3HsVPSqzABhNiY8vDRvPIpPd5KzzRJgKUrOTBAcaAIZOfcLDG4vVtV6qSAfpSohvcoaDh3qQZZlLDX4NdjRZScaWazKYlFCtoA9gcvTOGGF9DKOERovDA5eHA2AkjPh2UcH5QR044zYKAB0UAWLWq4qfadpPrEqP9EU96v2TrPctItFUzd1tahKyFyOgUXBjstpSgaXWStkBdBwnpzpre8BHtKTqEELgHPkglyo6oW2vWjbTVO3lWaYCqCqALBmAdQxGBZyuG4qih6GDSmoSgPhiWqo5LScKa4e4CLw9XpZlstCoya4sENEBQQOHbKXugIPq5IDcIyWYTpmUQCDoarFeskhPZCZuhI0gp7sIUW5hA/ewLXkLMLAFeCrqljifHGqOAOtUD4O6XG4UOOkGGFTlIzFzOBoVRdlrVTDWfXsz+QqBgrXOVpj0aAYd/vjFGPJs/rWu3S22Wab7XvYd4Ycf+IB79YN2ThdVvB8IgUCyXn2WXEGASDg2JcI5aCYxz4XRXW+4dBapEjQwYOIAppp23FFFbwDreSTg5KIkRziMB7oluJofG/8YWRuyX0XDJNV0iNHcKXz3aBREmPc9SHtO7g9SAgFQHqfr47+nUv79tN0cxAukmmaiZCh/eDcQQeoB+CqXtRFDSVX6bph9IfgYB/FAnOXTNMAGU4CtWGpXcBFqEycqpAJKm/0fnChhwIzoTfSRU1X7VFuOG6h4MDZ5QpplKELO44IjocOENcLJTYyXMh0V6VVihLFtrqWxUVT3Kn1CsfwXIOUA5TMQI1qDMxOTfeePReNg4iVqIS6SIVEZZvk5aJavXRebrAXySQjTVVV4CWDWHQp65rsxCVF7eHU3AGVaY+PdzcPr4AiXlVsiSYI175JCnRb1YvzptqUosqjH7uuG8YRIi9LVOFpYTtOkgO00GpZbNpypZJwuC0AeMjHggmdJZQYlF8NlinWxGLZgFeUvVI2ZbVp2xV0bRaV0OvFglGwOK1IdNdCLTXjTicEQisyjBOXgmEoGdXBKe2jsbhtGHs5DqHvorPPGcf8LLDTfTvbbLPN9t3sWyDH1jlkxWRwNxkiZXcIgBwc2/HIlJAhjIcjv5Uis1A2JdNyMCQcHkmXTG2hmcFkNIWLqnPp6hi3Yx5TGNn5BPnDsSWGCQbJbPfMiQy3F7oxHsCPJIwP4CIoU4i+P459B85B7jDgAX4T5aiVq5NfydSq7Fy8OYpDr61X8LQoMHzotJzNcOg9XDxAF6FhGLvvPLwzTlDBvzscZVrZLOJApYRqnFJtQGcISBmgBqijwvBANWWfxvujteMQnYMnZqovyBXIPoHPSvh7SCShCk9+O6DFHzrpLCnZqvLeon5pmZeps/thOAQd9KbQ51W5BibYcCBy2APqSLjsOVkCEg2cRtlzUm3FmfKQTDiYVtWyWWzWYBhX+E42ooioIE55gNgMXLU1c/IDB9PwdLR5a9MzI298Hdh5yLYFNBlOwDMhS4DOXsjF/bZ5oZE1CkKc4NITN9N6fqAYJ8Ox71HW5+36pXPRCAv5HiOZxOqEHEPLAUIM2ldBQa5WLWoSTQYzdMGCSRF6mdiOqVAQh7jqnGmombim2lTQn2jpAO8RcpLxuPjH5Ce4FCJw+JNT8tgpbAZ7PPi+Q/Hev1HxYrbZZpvte9u3QO5kJBzVTY790ex2mUEBeRoqi2EYod6qttZNJTaNPFuADxJaKEFBQCMo0fVxf+QSOUDFYMO1kYcovU4uV4slGvNTNx9X2GSMBDzfKezAQKhFLlKtlK50sSiY8jgZKWPL5aNFUFygp7yzUGeNPK/VnSavCj85ZVkXqi09lCOnIYfMjsNcSAX41EWFsrnBMhl/N3KyFwDgAuSTtQ7kKNdtucb+2bGp2TsnvYV7B4NlMMEeBz9YaKgCHyvFQEloLw1UJ/bEQtBx6tY08YGzpaUHiiCTpgUQ0FSgRE0R0qlsm3IBCvJXnCtzmATAEizhKBhXUitLymYUHj9E1Jx3zT5c4IB9iaWmox8GZ+x4HA6XW9ON1D8q4Txc4IoDKETJNdmYEwvSEBevLJgkrBKl7pPYO2U4cU5RxQGdpD4H1UTIVZJrWd9vqjOulo7aBqWquiJ+0baYEMdAzELHIotVoZYlw1TGUSUcsSjqsmpKwdwloW7LdgE9h0NCf4Jz01Aqs8LktmnBQ0g+SG0wDPsE+DSkni5wmaBJ8SaKjcKh1nCJOOFimiGOajHHwUG7x2D7buz625tzttlmm+37s2+BHDzI+04ELt1ur9PhCAWg4HW6Xji4MofXCtpG5WnyMJMk5qMTBg11UCd4C/cH1w7OwFE3ykvfhTxEhrlXhTpfykUDoREHm3qTRktvC+kGPUPvb9lP2OpUC1GlKQlkhO7TLXOdpBL0gUBAMayCLPMupCjqUp9VYikBHhQuBSOSL0pVLsAV5oFkXpLeun3ntsdxe/S9gSaCh4VQgcvXNeczmOE4Hg/TJPAsrBBj9EfDeQhM/c+1tiFoJbx3U3Dd1FrqtS7PIFsgm5hfy3bG7AbXj+BCBRmzKmUD5kh8ZC778c0b+7gD9cqq5bqkQfm9HS+PdgvfHaBdQXaJCi2gh7gEjfNmMD0rUKF14bhyKXy9sWgxSDj/49A9uQmHEUKqoX6CNOL1ASnAOXAB35k6k7MsVdFwbTk72n53NPsObCI+C4CL0f/4EgU5BNxSqotCroAtYCmAlE1TYZ9UU2i5UAGi7YHjlYsXzlb3zupFhcvO1omICpqz0rLIqhLNArQWqLJCi81qyaRfXEsPkj6w87OqkgJUUT7IZy7PxPYGLjnqnTjMPImCswjRNNGc4ciZF9gQTRPUpMzJHI7Hq2tOPnl+o0737GyzzTbb9zJIEHiLBGcLBYTGPgPEoQbAHGftfo+XcKTCWt8fqVKiZzoNEblE5u6YOud3Y+oiQyaqKkpRLWoJRLVwndoV2QY0wMdonF62at3qRaMZ4shYBqbktW4a0gmigFfGVkOCYFgVeVoExvth5OraA5QWg+6M9R3eGOHiw3UnrgfZoZhgFvtXp+nUXJvGTZ11gAM7PpnoJCSTwt6NN113dQM9xBP1OY1p+iiqKFFKiDY3euGytFk6hmRC8HF8bkoKZh0YDodeFPDvy0q3lUSdFBpaEI54PPZQG6E3ebSVlHXNlYMoUUcXnnbjW1f2nV04WGCFMyRkIcYcDsEeLI7INMcM/0xAD86ASo5qDwIIR0cleS7W0x1zsGWp2qrQAPth9J0BH0CflsmPsV8AaVp23DDJC1QSvovLyK5L5t+ieHWGC7miFsGQegp/4WVWsljU1UXbvrhsXl7rs9JDU9uRKwlAb5d6mqAuBUSYj25wja7unJ23m2WzXoBI3WCGwQDGEHN1WaDkZjTGjKi1BXZblThfiEqusgO1riVuBoeTw/WCQiwLcA6iD2UAzqjtBO89fI5/aGShtYM2B96sAGO2P5wf+v762nM9cZYdhrJRtvPmff7WbLP9eBjuZz4YG8H/t+06GNwSPdPJ+Mlsf54xTn6qp/cra0rmCIVmTfQJnh1aj6tpy5Q03hzBQQfXORq/G+TWxRsvDeSaz7uh5UozcNihfalVL9Xi3rK+s8nB9eGoX2yL8xYeKtoR+kC1paiK5B3X8m6EXuosvIiWCZ2LDJ0lvSV/G0g6yTGnzqeDl1YUdZvbJnrln43u2eD2kJsuDIEra3uONjHzcZAR8mH0vncRMBuTPboBSu7YgSAM5Qw5T2vB9NveD57KQpYiAa0czzPOyrJoNgtVF8BVUcADC2i2jNpgH5u2INpN53tPpQhuTJSCZ8bZMPASGmzK0yh9loNPezNe7d2hF8LnEi4+CGziFDNpcmgPxePgGpcO4GgU5x0Ch7rAdYicxoH2gDNJRdEA6GDQwBTPGfvnUJciL3ibQ5dy1mJWXCC9KpkTxUZUCMpbL9t2tayqmkqNc9QSAxmrEmywhqeg21qdN+0rq7PPnS9eaGLikkYAOhdLrdmTm5OyaMk8POxefRr2qBwdIN1qjQbP0FmACZpyUTUaQntA48QCU5N00wBr1/dgm0cJJcDLCYScrYH7BNtwpdgCJwGdiArm9D7IWI+LyWUdQDDUKWqkVlDyaBpBdavh8sodj9OfPTtzp9t1/iOf7cfU6Ia/ATm+YIuOmfKoTE5vz/Z9GLsrT97iubHi2Fc1WjTg+YKqhHEPwQ3w6OWq5jywrKXjLCeZsAc17jp3c6TYcpbe6Hwhz1fybJmVcmYM2HQJveX9zS7uek2RAhEGbgSgQ1dCAI4ilFKG0QzwYimSLouqPV8VjcY+zX60N6PtTJZa1a2sKgaIWBeMYcZ9sNIwHBH6gIvprOARNW4FY/Gx5Xou7CQTkBYgaJLRgxYKOKHwG8fBWquAFcok7wJKG3IJJ64UdBmdMEM2gWAg0x4NoOh2o73q3X5Mg8e2HFgkuziCxJ5Ysha6hONUWoM4Jdw7gFYUQpe4M0Etnj07JBMUMTNu4luTHIEyxLEUVJ3GNeFktYS3sRPIpiCywabWQLNCiAGjfe+7ox0Hz2RdWYEejIoswSAG6PDC1lItpF7IotYViFUw6pU7xW4D878Mu3HcGnM1jk+Pwof2omrvNqLhWqwAcHZCBRytYFBmUGgr7C+Px22fuJ4BlSKDTXA1yhovEjZFNeEUAkckcXoFM5kkA0HMTCvRWkZhep5RRm2DUtBmaBNAvQKIiuGuOjLghX+8jHll6AmtXS7bpuEJSTl0x263R03j5BjAcvIDzx+zzfZjYxPBOB8JrT203PEA2DzXQjYjh6jx+3zjf7/Gycjv19X04xRzEtM4nIJNvPeSYyVFDkO5qcq7K3ioaKhIICDK9bLaLEsGGjAfryi1L5SrNAhX3FmNpg/O6AreN5jdtbm8ToOBNNDsqzRFqXPJmDoOtBRSr1t4L4DJADxmxLscW0JJbADJhsNguJQo4/5Rxup8qTZV0aiyYV5EeF5Z1nJRijMVVjE1nIfns+UqcXChbd0uV3XTwnVCJEZ82kS50fVFo5fQlFICimWWoOd5U66qIDwHxiCvuOgqHXO0wQ6ApjOG+beARPhg56ECcQYaNxxXxWEjK3OkDeDpjB0til+1dQUZwjiSBN+OfUKxAMDvaxGwoSplU0FcgYMSaEweKLpdzhR3MqUZzpMNDwg1zo2DtDWDHa6H/mo4Puv9wReRq8ZxTt84xsECU9Wqru618m4RFmFMPdoCOFyhSuDHcyE70FXoUKm9CI9H/26XrwfJKB5VnTVqWbJPBOxEY4B3CC+CJ6jCMDg0KSDFwH7OGlA88YQqOK/0WtdtURVsGoDi+Aw4A4/wKw6dmIX7pFWxs4hzZUvHmUbrRlfg34ja5kAhxB3HAFG3+CvHy6Kul2dnaNz0zJwybq+vUc28T7/Jnt+/s83242MgHG9s/JcZ7cGr7smXH3/pi6/93oMnD9hMfu5AZvtzjUqO3gQ1in+s1qluo/N9z9wTaE7AL4nMVV2ky6vSVgkY8o61LJtGny/lsuY6nLWuN4ty3apNLZbwupEL8QQLXQKPJkNkGq2uj0zd6DSON+U7xtE4/2w/wHGrTVNftAq+tu9wDBG8B/EGgzKUi4XiuuGRC7Zx5CmWOBYQtVYKrXydZF3IVZXO63CuzCL5KifFDjH4degKOMuMA0EgBC7bXbRaLrVaaK5v1jK9P4gFREF9FA3dd2KOfcsV26CS2B2JzxhbD7WHCktQH21RQK2eNXLBHI8Vjs6RwWmRAajZ0doBVETzgIGcjicCscmCgEQeeIH+ZUJjSQFTSLzmmm64EhzunMJNuAw6R6S4AhwKx2kUjMJnlCc7KLkUD/WUiZ65zzgdHHQhS1BcaCaHdolUrdJnRfVCIxmJioYgVDBTg6FcHQfPILC16IW/tP2Dff/u3t8YHWW1qFAzshacmy3QxGFfKpQqK5+rJ3HaAqoVQgsnrArtUOZFvfrERXXRQEbjM46mgs+CK6r34wgZB3JxQl9Zofg4y5Ncwz2HsgKApdQhJMZQBnaEQ9TiOkxb8D8k7GKz4ey5qoJU7fd73FjTfTpJPfyZs5rmv/fZfrxsQhi7K2R2yT3avfW7r/6z3/7qf/1w9+ZyvaA8oA+FR6EPvf3KbN/FGPDOyoSd6oo/OUMuDD0cNj+hQvOQRKFM4qKNrU4xKqUZ27eoi01jPDzZGBRXBbDBqLXOlT9eP90+fmi6DrtnkPiQZefpmqG7WiGWkIhc1jN2zl/2fjsqyJdsIB804cQVZ8qyZG+mT0BBsaqgMKozAInjN85CsVvRnghnZeVzk1wrwroQ5wu1WXCmOXCgCy0l/K0dnYGzdXDIuawL3CLQPRnwGeyU9tgybMTGIkkUC/eUCrpImgoS9QC8lUnVUtdQI04kJ1QUZVSNKNYgq5brQq+gtSqcKb0y57MpFL5q4JSTZVmN7b0fp0hKDTHGlUOLCoggPNg1KYWDynEMJoRkJgc4B6BoGK2YXG+CBd2lN2EchpQCJ2GDttgJZOJqUSwbtC2azapZrnSNc0d1MIMaLoeq1Pre+fL+hayYWwTFg+IF64FtfN4fx247jEdjj+b47NC924c9517nIug2NRutW6g/ICpNYZJCSVwX9kpyxgD7iwVPu2rOLu6c3b1LaYsjonBcTMeP1qG5NHXOBrQ2GAKK70/9kJDGoNlJ8gU/QuUB0gwtBYfZGGGAaAHZmwREp4vxOKLFEYqaq0N4O6LxNN2lJN1UVc8fs832o2Zs752MTTo+3r+bJ7eMD9KT3Xu/85X/5qtPfn+wx5/85M/cO3+RMW+3NzxHSwI7f9h0nP8KvqNNHhVGETehDtTL2Q+974+oMWgXNOcLMAHOvSmLVQtgwRPVVcXEhOx+85z4rKFyZLfb9rtdTCbHQdtedB1gybEUaJiDK+HWFBjF6VGxEg6aBeC5PqaD1Ynx7LEf3dBniBcmuIJoYUMFEoKeMtnc5PK84upxkIXQhcCSp7vn1QZfNVM8M8YhMI1XdNkaeHk4c+whJuAtejhncIMzwKCwRlDcu870+26AZoU4iEnAoXJBGtwzcLXsYmNpIRRKVSxU1hB4Q9ahPqsKCM5sJUCrgqhltaw0JOOUE0tz5E8VnLXG+XWoV/Y0euHZ/8o0xIxErBguijZEyh7iBg4d2+EWxcFY4RC/BaUZ7nIufNoB6OwcJl2YnkVCFLELFFcAGFzVel169v86nGtCC0GXAHxAE+Iw2D3zIYMaTLrFafUQPVJXRbNoGjAYf0BC1It2fe+sXi2DE7afUnHqVC2LZl01i2qxqjnXu+K6CJBhNQ7LWX24SVBkcEi63l699+zqnWfjzRBNwrnVYDNIyRVZAXrQDX+JKTgHoYvSE3HMfSOx/819UJmZUhpI6KJYlOUCh0KNx4ivAaioT1wTKFvUEioXsGTIqZvaXie77dO5/W222X5UjDHtjJPEE0cDDJpvzrENyAfnieJD/BUdzPWX3vjC1559cTtc3l188rP3fqZkMDo7hYC3g92/+vSLX3zn154e3uYA/vyH8J2Mwgiujy/xA8DA7ymNx2M0hgNxEroklBWcmoP/ET7Hw6hiKkGLWnlIPTvUMsMJSrjWHAFAODWdQ52SHvAp84xwKbaDEZb8yj4F48ww4BpCQsXRcryvrXFFzU3PVT2ZIUx5kAjA4rIuUImdc31uhFrX0FqcXOZVGmLs2VOXA+AjgChmyuysf9r7SxOPnBXOuQreazpCpnuG8IIWRCndOEJK0MGfyA7wVQXkA/SeGe04MsIDh2duLzAHkqpiIAiwBE1a313UL60L7EcnqBAIrQjHy0jA4CBejGU3mgbUHBccioHZp0vUkGDsoEdBBXCIn4FxqChfhIaz0HBUOqcOS/Yq6hJMxQteFnb69SMYRXwAAdCCLcDDOewBuNcQmt6mbjAHM3bJO067UwVaBWnMqUvDk+74eD/uBkggnDPkJORtXWm0WBiJ2VbtC6vFJ89Xn7lYfHJdXOAviK2cKRoSh+ec82mgjKk+OZqWY1Vxit7UwAlFwRkAl289vnrtWThywBOXuyzlAiK/rderdrNpFzXPhguE51hCrjErDe4odf9T937qr/3U8qJhn3ZMbZaNlKdEb1SqABpvTo7k4TK0yxV0dFnXuKDdAUfisPtkt7cuDzzbbD96hj+31I/HNx+8fXVzg78w/vVN5qJ75+mr/+R3f/mff/FXd/6pdemnPvHXztoLtBSjiF08fP3pF/+L3/9//Gf/8u/8vd/9P/zem7/moC7eb/zN9k32fDSDLWI8+Gry16NKHCyBQ0rQwhRnHi1qMXoJDqHFoVKqVWR2wwghlSsojTgpGE7aYs4pOG4TKnCiLJJi0l5yAC0Tm+LehhuIPI9j6VUrgK4S/jGkPmqvsVMIF8/4Ds9ZBK1Sq4ILtrVF0mI4DnZnUhfjLrhDMBAPXbLH6I8u7626tunxYB8cwt4wRpGLcUIAgF9cTFQAcK1KiknCIE1l5AAYXGkJoVahHiASSBzrGRjCMTOiC1ygbkHRGQYCwwlXMrTKlSm1ZXV3I9atiVzrmjmpDAQkRKKxfvCEHKdXU14BXRxbo5DyNoxoszEIQ4QghtF2kLDYEJpzCpoHSDTUUFuWbVW1UDpoLdjAoESuy2AC8InvMesVxFGuZX3RVmelXkiJIgH4iYN/uCxpFLnL4cr4yyENPB4KMcnvgAc2y9HhOjnl40KUn1zWn11Un6iLBRCd+t24e9aZLqBJocD2XPACgjNM1MJpFdCgWqcWJazR9JHZQGTVISmTcH4WtdcuWso1KFogDi0RcAj6jC0Kht9Au1ZtcXH/vN20uA1KAcKpWrAzG02oqbogbXnHoNLYGmHSGZSdaWP67sii4E3KbN6+U/zZTLnZfpRsYhmAhds7Pb15ZsywWS7wh0B3nDkh9p3LV3/1t/7eL/+z/+yr733xMOwX5cUrdz5dCegBtXPb333j1/5f//L/+Ctf/L9++fpfvXP46jvXXx1Ch7/7ad+zfYvddleibp63hSX8XrZWQ5CAaoBBodizNo7s99t3+bpLhjkq4Fd0ha2m/CZAhJ8i3mX24zjsDu5olc11LpiisSxFyfQiEAV0woOPuzG4KNoyN0UCM6YOSLjLVtV+O5jtgVmY4cnhC+tCNxW+CM/rOzdc98P2aLuRgfDsjwZ/4GGl3Xrz1JiHw/huNz7q/G6EtlOlohecOM1pCdBPWqRKFW2pShm9s4feHZmREi5bVUk3uVhmBU2xzKLJWYE5UJMR1OOiPcCuSW4IXHLOWqeFvrvYfObFxYt3YilFgdoA5wP12mCisZxDJzITaR7BikjkQqTGPA5jt+vMceqERO1WzH8J4RhMdBCuluGZqtQ1FNCiRFGn4Ew694SWQEo4cteNXWdH450Sy3vn9z730uqTF+39VXPWykLYhCYG10VAa2B4cvQ7A721OmvbNS6EYN8oKgLwxt7IZpRviODjpk0rAUkVJERnRrvhsB26I3QUF0XnI0TNtMxs+TCbsuagJ5gNnuHMKOumEB0f2ARy1jMUs+MUexQeYMX2vPxsFJFQ3qeHbz/58he/1u96LiouJ2jhP/6CC3ZCg3Nc4Q9KkrlGcXjeZcagjsLYj2jw0hncjkLgJ2/e2/t3ttl+dAyNucGbg+leeOFiuWjgzpjJPsW3nr3+D3777//mn/7qw90bIFy/Hz5x/rk763tou16bq//6D371P/2v/k9feO2f35jLgxnw53EwT4/DNfc4/xn8GVNwKxzunyA3NS442wtOCO1uoAdt6XAaV4Jyq8pw6MzljmH5aG2bWEgVILict8cx91zpDdJHcoZAFgAHl6ie2v/wc3XN8ES05dHkZgQEA1fwYOb94LA70Uq5KSFNzLGHx+cYIOTO0btjsHvT3xz7yy7snGRgOVr+kIBaLZUs4J8ZjKdC6Y/Z3Di3dbkXEiIQ58b8/JQ02BvEZZwyjDDefdXIhnjmrErskBEhKZdRrWV1r1m83Nb3G3mhU8WdJBvt0YU+ZM9OPOmkHJJ2GUoRqoTLqdmBg1Xruj6riyVnArCfjWvMgWikCbQhnfLkwydvX0WbEk4axAHMVuWCakaAB8kzoSbUDr45DSRHAQ3E+EO0IRg0yb8JoaGu+qMZB0ZsetCEy+8JJmSpKjXNqMPFAVGEyWaL9khqz+rNy6vV3SarCDaiHIQ/9gvmcLwOmtgdn3bmaoQ4ZmrJoqjbGtcH2MLVQ/3gPJiipCx0UVDwQ4c1FRoY3FtOnCfHeFx21TLqy6PU0hzteLDsSWZoKxNx43w5ax6aGPrQxmEbrt7eDdcjmJag3nEjob5QqQ2uEO630FRFi/849ylelLNZhpFOYIDSP83B4O16+o9SzX/es/2I2XTHdkP33pMHWcJN5W443hxurrqb3/jiP/6dr/3jrX04ejseQ+GXn77z08tqeTNe/dMv/cO/98/+n1959CcDmqC9Gg9wCPo47vb99n0lh7+4b7aP+Z/GSclNQ3FwE/iZY3AcTGLH2tRFRY/DXiYJZwReMBS8KNKIqu9MNxJF8FmGjhy0yx6qRrXTFCo02eGkidCEw2jTwy8zxDCqrNZNtWoLMKYbsjdctmehDDZJvVqU+EgWpe9Dd9kPV+OwNWbPhdwmcaabTdOeNXoBaZBs4CLXoxngmxkCE8BdqAA4b3hUdpNRZ1ZKNAWkzXg4hMHgVvJcKFyCrBAlU9IN3l8eBW2K+s6qubeq7tX6vJILAAUIdjhNOwBmHqxkgKiLOqJ6ijS444Nn/eNL4Z2GQGwov8qW66Nibwakxmk0K100qFzUJKNiprjBGpoVtmg5RxtfrFXSyVGBMWkL/L09eH/0sbeZy4ILtAh0VWVUO7WQpLwMaDOgiaGOT/eXbz6xV0MaEjQgLgODFRlXyh/YBhcA0ktzqYUScrE7dpz8jgZGU6K0dcP8KGE79g8O9pHzz2zsfbko23vN6m7dLNjZCK0Jok/jZKhbho6gHbRY4FSrGCNuGsg7qDlUJuAJVYcrML3DETU+ps5e3Av8hPMCqehQEwHqOkB5Tm0CwfrBfrkikmRsE9CGNshmvUQlcbFWLjCH70AfewDfWTPdt98w/hWfqDfbbD8CdsIOHS/+Ot579vaz3bOY09uP3n64e/j1B1/57T/+tav+HU6Z4kqW+t7iM5976adjjl/4ym/+v//J//31Z1+GOBg7P3b4mbsxXfU3W3NzirF8bvBqDGSZGHd65/lhP2YGF/r8vE8+ImY/GtQt+5amLIgFfgab4OuN5cJf62XWBZ11UQBvqL2TRqEvTgyTiFwrRzAiHE6WyftBsQCgVGiuu4CtY1voT54X91dcjG4Y4AMzlMBCyEXW61xd1JLdiSUTUB5HSMZKN03VNHUFL5tVjtgloFhIDvDBwFfPzsvEdWcghUBCTkHGe94YXOlqWZfrlqvIcZqdZ/5+LZlTH5xTRDAqAHgAoSMIjJMtcyhiLEMqIsBjvfGRsovz1uGWvTXHbth2XMjm6NN2zAcjyHkL5DI0fsQ38ASmUZYw1FLA/ZP2EYKEXaOUPg1K1RREvsluDLwVOSNuug8nKkDuMEwEYrnmkkaqqWVdcGpFjYoFYnESqsiFtCoesuhlOEbTGRw625Ch8VC5ntMyEtBggumtMZFLxBYVB7cAmloznXSlwQ41xHIQ8ijSjgv04Oiq4JgZIFdDMddU8igQargsZMmVBjJEHVCNSw+1CePMAlx85jXhTERcJjQzgPCi4IQTnDz3idYESKmZjpoz3TmpMBbFtK75hEPcggkvOErKIFPvx8WiXC9xuwg0BjxHXweJE4N+HFFc3rfE5unVjLjZfqSMs2WmZzQgn+wevHv1LrzIl9/58lce/tGX3/rik5u3snRCFdaiUVd9+oWfffnOJ9+9fPCPfusfvv74a/CpDGy2cujzAA90DDe7ftttGQcAR8hlXcxN/+xmeAJnBNLBp8A3o8k/DXB/7Oyk5L5hVF+BXWT0OkUB1wZtB/fLFjxUQVun9VK2DZdfWzSSYeWKAksBReyrg2dy/QipEXxktEDTCI2dRPhZEA+qgEM454v6cy+Je+teeC4j1pay0YBcsVbVWQHUxYqKSSrO0CoaCdgE5QLkEvw35CXEFQ6AQ9iYLC51zkbkKDnspiM2zkWSJZQBuIPbxsOZQpAV9eRw2fsGl0sYcRRtihmcukatG6ztmQjM4ItlxsOq4LDXQixWTbNuVKPipE6DC+Ous1d9OoTM3JgxDjYcrD84uxvHm9Hsx1PgKEeorONUPPAPjAB3HWP0cb9B4LBWetNfMXGJHR3qENhDOatFBYEDlsta1cBzW5EgXETVA9WLs8XybFHhXFyIOP1QJqvHfRj3Ng+5gvBOCn8CxA2OB83FuQT9sO1jD5FdtQ14jzZFShLNB06WZ5/tENTg0S6AqpRR2MPoe6Iu68wJghUn7eGIuFcY34EqiH6aJD5F4rC3V5BK02Cf0AKyk2sasTNAMFMzxCJApnhrAHbTSku4ZRKkP24/pTSLyVUr8AG3AUxxCOazZq/pYnNxQfoB/IYRTxnHtahPO9HteQvteTttttl+JOz2tp3GiXDzX26v3n70Vu+6x/sHX/jKP//ag3/T2RspSz9oNO0W5eZzr/xlNDZ/9w9/71996XfZ6LbKDNJY6a204NwhDQfRHeBcoknjg91bX/jaP/4vfuc/+ce///ef7R5NPj7yL3dqR05H/ngZK+B06tQ0eEpRAT2MIJkyBTMEAI5smrNcFuXFurp/kdoSyodirS4h++CtKRgy3snQcYmp9JluGD4Q/ozxCUJFwxT0jA9EZbP/UMPZMwsY18zUEV+BaMRRIfaSGcfe+FG1oryQcenjIgiukpqDDtwS/+AgLSigCwHBJ8YBeAIFyctyWTbrEgqgKBS9PbY1Bo6eIgKKQDOLmD2ObsA7umwqwJnCBp+GlJke2ADtzQt36rvnsYb4ZKJhcIF9kFCjqCL4eohUKNgeJAHIUfgccN911uLRs4sXe8aGKCcXuWPVsHsxhsRuQ6nwvuOSABaqjicCyeadkFGX0EMKm08ZHqF7QAuGfeIkIaW9GazpUANyU4o1w005DAaUdW7cjodnx2FnOJdOlSJzYVjgrSi54ECpNXE6GNcNuAqshqpkeKX3oEjTtpBSAYw/DLjQdQvGFizcMEB2UggCRbiOt38hnNgxsQ0nDpwC1RPxcDNI6LaqaUFpEI1iEc1UEBAHwvXHgfATW6LypunkNLANLalpQh2JyM4UqFmUDx9xpBfVWHAqeIhVUTPFpZDLukbdoRHGu/bkJ3jv3nqM6edss/0IGO9Z5ss7/SJxm7/18M3r4/V+3P/pO196fHhDVWgRF7un0R1zq9rNcnOzu/mN3/0XDy8fj32wHcAWhz08j0xjMdzkZ08Pl4ebt67f/I0//Qe//IX/83/5h/+X33/6K3/w4L95vH97OsaUHWWKQv4Y2i3k8H/q+clgTQFl5oOMuAQMToQPd4G5DjnLer0s1gtwK+RUnK+KZZM8O+bYvG/kWDqxKfSq5sy3slGgF+PhRVNCjkkzQnrAZ03xKfsuPLpJl504BGEhtJQSCs6T/cbYZArHz6tCvFT7F5R8sapfXFZ32hKyoCwFJM2Axgw2Bj11rLSrpC+1aGvRVILLjUJBWYgNAIlLmuEcUQqovinjW3LZ7Y25Aefg8ZWsCQyOYumCU+sYzZG4TjjKrNn/SiZBtwRm9NendW0kHDRTMKKkmd6X+T/ZEMjCwq9T1ZZqmomGZgG7KvGO4iJ3FRfQriFmIX2ih0yC0G0W5/XyXtveqasldq6zTfZguMQBvTwqbwpZKbgAN+pRXrT65TNxf6UvmnpVg0Gm68ebo9n2vkelTT2mKU9oYLchJ2ZD9TVoS1Q4KFQo1DQ4g8ajGSFbLW58ICiEMBwHRnuisiAflyUELr7Opd4zJG0Gj2lc/A1NDHxHcUwSLYRaRTRsAiRaAMaqokwhAuE4x6ZpdVUydtMMUGqAFwUdGIjPiilKBhvHOI5Db0ZLzOeCVwMNJ64ezj99qccR1xGtCGayrnS1WazasoKSY3VDlPPmnOk224+gTT53Ig4advQRX3/zK5eXz3wSu+FoxAhnYXt1vIrZciw7KPvVd778x1/7A2uN8EoMRdiKeJRup+JRhV5e3ey+8NV/+p//2v/+H3zp//ba4bfTeVffbUITDuGGYkIwPgF/KNMRP3Y2BQPg5G97a+mtpQ8aPtxDaxED8Ohwy1AVnE6gGEUSBptqDW9b3z/TTUVn2hTNeSMaodeFakoggAEp0AfTgqiKA2UUVVMfo5PeqZtBPuvz1sY+Rk7rjgkvRmwkpJdlLAvZyM1KvHwhXj6Td9ZqXQemaoNOKbhm98CpYlw4tUrypeXyc/frF89Fi184FwE+sz9wahkR1y7wE/cQis0+TigqFzWO0gu35zCcKFVuZAbnuPgn3H0atvvx8sbuj8A8wMVoeEM1CBXJudgFJEwQVdZLJnhkXi6VoTR0DZHC0TdOpMMNpTQwKVTB1bAl179m3kiGVnKsUkPUcfQPoqYoFro5gwDl/DHoJkIN1cyYRqgtijqIRqghAUrWNSSqbuoCBK0go6EpcdeSs2il4aigC88Ie+Wc8akrpJRyWahN3ZyvqmWNwssCQj0wKH903a7bH46Mv+Sc70yUO4/boWReE3YXtk2jS06TR4MCV5DTG8hPUhsHhPRcbprlqq5qlAMl5lxzqlYzkQkyHjRFAwAPTshnGdnZGzzKDskNmOF8QV6GqOAKoWhStlW5bOq2xX80CQqgzHKCX0Cp8CkTBEwz7vEO6ocnONnH8093th8lI2SmP6NTFz+b86f2GQOh8Se9210fjjuVq2GIvbFCaLOP447hyqMZ/vWf/Kt/+pv/8HL7mH/sXiqn86ByL90+jVv4NFE24d3tH7z69DdjeVwsLnQ6z75Go/3y+NQG7I1qZWoR4m/l+Z/Nx8amk3/fcCHgKQdQooc3gXuGwS2hDc/AOSGjC+7QZ+fb+xfqk3ftWS03tSiYWNFT7Y0KCkDRO2M30Ap0dvDAmTnpF9Nq0RyNGWzc9nIIheaAD8RBf3Ucr6BF8DXmhvQ9GKtS3cr7d9tPvawvNjYJxpcAbSZwATYfoIWgMdJa6U+vNz/zUvvyuaghI/KUhARSjJlGcKMwvBAOGI6WfJaJi5vnIpdFKvKYvU0+J6dyKEUqGeIB5w7h5roOHp3ddPi6z2EIoQv+yKNnznlP1bpsXlis7i4XC0iTrMCURtfQQAX7EE13DKg9KB7o4TFGywycECxgs0MFQlFOc7+GwwgYR3AFd13iuKBBzTsHDJZrJduJeY4L7bFaTBRD8Nfd+M6lf3gjBys5Y13g0O15u7qzbtcL0I0TJialRaaCG2iLrJvq/ll5bx1q7aeaUOw2JW4BJvYsa1WtF8u7a0hJhtYeTb/j6hFoDfTjcRRdXgtZM9DFU9xDjTWK87bBJfxpFYtF3S7rxRLIlYGyHrhUkLhoHBhr8cestObKracAFXzMEVz2PeLPlX9zWrVtu1wtsV+WjoNzYrVuN+erdlFja4AXBQYivXdD36NxA4iakUuzntiG3eDFzLnZftiNaHMpM6IM7UHIBY4CZIlG4r3VXa3EGIelalInbw6DKOowSN/FFONh2P2z3/mVf/TPfmW320s4RrTuRy+MyL2IPduai3NVr1RUHg3LGIuxl2ZgcxPO7mr/zNoRfz9TM/OEt4/d3wo7hnnSZAFglOLJDUPRgADWwgmqgs12zyqScmfi1ZG9b4sWvgzAYPBgq1OZx8M2DoNmX13FsJTNSm/Yt1muatHCbStIkHLB3JGhH91hjGPmiqStKi8q1VZQRGihnNIrohi0CLCWRdviyrAH7+hIuDCNFFaK8CqVaiCpkk9oqgSmyUgoEkSblACFUNR8HQRlxKlACYBgXIgUWgQnGqAaM/BjwKMDB+1Ir0qWNXwsx9vi0SoDUct5cpzWhhvT4hZl+cASCWFWFlxGpwWnCYCy1nUpK6Ajx8jVPx0gASE4TWNIdrTH7XDYjf3eGSYfYfSK7UfPNXDgvH3oYxiT7z20Eoux4QQGDj8OQZgsmB47ZhPE1rrHh7QfII0o7VpdL1V7US5fqFd3m/X5oqoKhpwOXPA2go+4assKLYDly3f1sqIuNBGVjAvEhF6rul6XaiXLi6K+U5cNhCX4iEYKpCRnIYg2yxf15mfvLH96pc6U0kU2UvpCMYSIA5zsNJQRF3EN0G5qXHlg0E/ogqCN1nCqpcVJoRKzY9MH2OL6E7jImsFBCRDD3VcVZcllgDjxznPVIj+N7UGH8g7FC1w/j2sUMjQxGgjJoFL41zoRDhvRX+Bx+iOebbYfNsOdyS6trDpz2B4v4eLwJvsvmAavemF9L7uiH4a76zvalMcdZEU5dvjDh0dGWzaIou+HfezR2JcJbOu4NlUycM4gXFE2arThgIapKF1SHaSf4fLPXd/v9teBkW5s43OmzlSSj5tByeHE8Tj9gpYzFxltFk1Z6OjMVCuprHQqqIridReuDnBsbnDp0S483vsBTrlcnC3LtipBHjThIbPaMt/bqHtnat1k+LIiTalARnxeLOqqKCBQ/BDxXQ+vuVbl+YLzDdDazwLcqs4AtpiMD0czXu/M/iimhVdPi+cwiW8LtgmoA2gTeXD+yTZcH8JhBNU0lFVTJjR3cCZMsMWVrhMD/Risx6yRCcegxAFAU1D2EO2NDYOHUEhQpBANkKU34/D06A8WkAM48QVIUcYP4gWKOGnD/z97//2sW5aeh2Err7XTF064qXNPDuAAgxwJiiQo0abIsumySy79KwbKv9jlKqv0my2qSiQlQRIFyTJJMAEEAQIgQIShMHkw09Px9o0nfWmHFf28+9wZAqwCKBMDqNFzVn99zrnnfGHvFd7nedZ6Q4Lmmig6cE5QQOdnXDNAnauctpRkGBcwJSrqDWuOCQ5MpSoLlJeatvaUkcaRaQcEBsheSrmlAGS4jiyTbrVdmKIZ/okXSqNFZSn27nKcLsHMZklVK9co10rtsnJZ19zUSgFmcEm4LpKokIC4UEpwDZVIlWz2cX/Zb87QrVMBRVg5e6dlRyq1OTsg/jQyz5zChQlco0juyK5eWS8/slx8pGufb8AAIO22lyAOgCniRZmAa9IQlLhmrLfKYu3ik4BwxgrnJDRZvagwNwj8KIEOZhPtG9N2DS4tYRAFlSOaBjBWsBPayBGcHEnJLYU6Hcg6h8jNp3qGMm4ygNw04MUzwn1z8l4D3k27ae/NRuCCdfvo/K0vvf7b4La05YFVAbYneFcvYy+ePDlfteuKtdsnfncVk8daZsT7wc3BOhnoJ5SASH3JIwURcMPMAlwTK4v5CcuKHca0hxUMlD5htx+urnb9OGBNzQvjGbp9G64RdB4sCzFmPMCE8RWMnWKzjIaeo9MS2tDilXMGjKJHdyY6oUsiPd6MDy+oyAMUT1HC1IUKATCqjXPcmeeO5LqhXCeRwg/obBVUfOizLMYYARO8owRWmRJv4AIwDsDWyAJEhDBthU/nsQDbymZQY8K7Q52RWSWndqkayuiYDr5cDvrSs4shX/Vh10PuPEvMXykgK6SmpLo2BvCEjwCZgSagnB2SZwep5ISyxWPG0MlaKhLSi9ADuDQUv/dQgclnUjfQhwCNWeiWFCFAJETSMA3bPdQYBYlPuFbGa81bIxvtFq5e1tA3FPAgo7BQkYxzGPEgeAKw2UqbzshOJ8MwhyPk5VzJiLdFLbnqoORUdVQ361pU5PkBUK/bRgnd78bt2a7fTuBsNCqULE3T7aD/yK+EfB0BFSmwCPE68bJP5dL7R/3+/lU4GyjIYef91Rj7ORBytahfuK2P2yQTuRu1JdWFUb1ZKNvBj4ccPeW3HA5YZgbcotGRirfjT8AlqEvywpXAuzGOu0O/P6CTtYAQZdowOmhcCHmslq8emyOXmNeSV7P2BdfBdVJZveRKtgRmms7tkmTN0XL13KlbNWzePVbWQTiTr2ZJQoNjYHRoCCgqESj4jUZ+SzNLvWk37T3cIuYo7NSX3/qtd8+/nsjHgbY0YJca2/DI3nr7zcpVC7MctxO4rnVunvkUF+vHMQ4ge5SjECudyCLkiQFCghaXYR/DCPKtJs/2REHzgYKSYAZmuwrz8O3NAOczuW9s9MxmnIwHRS2RHwexbdqnLMxoC+1MIJAANJINYXh0KUI2ppJTSedDvAIkUDrLYqEsNCVmVlKQHSykripjtEoB5nD0hzFADm56ijFgSniu/exgiRcAyeiSlAii7IM4ZLXPcg9hBkuHaRCDiAUyySg6pZlS2k1xM0LwkcEFCLRadFo0AFxpZ0VC24+QLFLA/GfyfJQCekyKYoReVFVXWQsMtBIgnSQHSANWxyKi4kmSwqCNTspuAtHCZCaffsqIxSjDRy4R82gM8zZ71lbbo5ZDfrXCHlXNUV0vrK6FdEI4rhupK/CJENOoTHatUQ1tBhZDXU3HmOhq9PdC6ttGnCix4HhCtaxd66QBmNHmIT6ZhHIfIi6SZMz1bAfmQjjhb5DMc1WjIkJi4xDG3TCdD/3D3fRwl84mtksMrA43RBCItcFjYMByP3cgUFysTHW7MQsjnQSpYAHKrx8utuP5JlH6rqQrqQC6EJ+JPhjgT0V/rEsgJ/NBIxhEZZWzYnlvdfqR56o7dXXLvfzJV07uHaHXIeDBOTC2CfOIPEdoWxm3gH8aZyBtcR/oDXfSyc5A/EG/ko8OeaImMARMIsoR7r1WEnwISo5WLdmJ63aDcTftvdIwJ+cHDOezHzE7SYqBuVX1g83XfuPLf387PMQqAgRJmAeSEPmNt17zfjrqVnlKfhqYIpuDtd8twYW9P4Q0JjByDjMb6V1h0WCjEtV1yXmkKCSVTInguHTcRBxfSLzTmMZv2Pdn/1N7dl1zm/98fbXzBb/fGh2i0OP67ueOg3gTTsnKcgW7XIAMUECJkPA6rE2Q8/wUIIqqk4VZ1TD65aJ3eygIwSqnmyYPKTzesMteTBAWjEnFyC+RfO2BLwksxUf6lMpmrWhHsYeYYcJQpTUBCQYrvI/xfIrnY7j0YTMxYAngF0NORashLznJH4AuiBDYPWCs0nrt+FqzleRLKVroQSrQCjgGl6GtsdnxDz/jMmBqgYKmk2IhxVLjtVBvYixlG8PlSGkqyXdDktc+MBdmmRwgnYKUMpQsTNKhHDgWxOmsgmmLDZ8l3aKqj1u3rjWAtsJVZTwfwCBqid/U68qQCyWkIQNhUHg4LiuJF3LaWhcaVn1l9O1a32lSK4BB6Ff0PS4+kM+NF4q3XdMtO2s0VYbwwAoepwTFOW4oz2ceoLvAG7gCFM+hehlrYEcdiBEBZaQNV7pa7j0bLqfh/nb7pUf9a+f5ioShXTX1yZJDi1HQODpUs1ACSOVFn7YDz1QfR1cUzo+hI+9IY/ENg8g18A7Qox35RtJudHdr+dzHX7n14t3WOb/Z4Ubbppn3HokvkAcQlqAqus3SJQXkg9Yln04JqGzX62a5AKhD4OEOKDIvBEhNUUrwWN+5xu0nSpM6A9v1A9Pn2Q837ab9r99muKA9efK3miOsaBuK9huXzXqxbH7zS//wVz/3/9kMZzBjsCWVtlapt9/6+he//LnKWZ1EHiPld9LcLoXrYAESrCKdsXs6T4GRplMXrHUs60g1h1mS4zYP+zyN4TCA+5Nr+9BP+2G7G7YzkGF90IYPmULYgGdGkb7A5tMv5s2g9yfIXX+j/crrH+guC2VPdkSlr/OdAORAvGlvUQKGgB5g31m1Vt/qytJGyaZ+LIcA5gB7Z7SrYQ/PJn62FwFvJih/iSchRQdcML8CZl6wxujjRnUN1F/2oOvQV5ZlOWts2GJZJsZ7piYOpUgOmfiDg1ZzFMENigKw0MAQ2GOlGy07pdZGnlh2BJxTueFeQcfP2vNaxGH4KPPwdaAWcI4xl/0ix1NVjm22kiVRIHQGEjpAOIo+6CrXOcgaWQnXakNboIAV2kinAyKOeyWrTbOEAqIjRIVprFtWqtZZpYQ3IsaVyJuxUrpzFo/GAOdS9kJABON6ePDB9xPz2TCoPVPfWnb3jvWiBor1/bwxiHfCShDMVLpZVO2its7QG3tGoexcjfvp6sn2cNHHQy6eQN9Wqlm5uqutpf1Z8hFFn9bKdFY4iTGHIgJ6xTPv3+39kykHoG9lq8ZYSwHqWEPoonkSVMypQZRNTHuwgEjni3O+EpLgwvgIzkikMVLsP3An0masloft9tG7D/urw3S+f/C513b3zzFOlKMTaE5wRRShWup7ryzqI2VrV5Ki6H7As4Dcx1yjmUjrOKUCOoWRAzKTs+tcmlwIoN2s5J5xsxt4u2nvsQa7Byp3/f0aYgj18O3EnX7kzseHafPLn/27X3jz13zawSo2VdfYdtpefeY3f+nJw9clKP0BNpMCftoTLpsw0hYWyRHKC0/qj8gqVhzsAMjecrVsuyWl8QhlP/R9GBNLVPSr94ehPwyH+RJozwOmgC6FNmISVhcuCtQfViYRGL8P4e26XTPrZ2IOUEc+dfhOPwngAcABdw9wI4BibIJxkcI0FRTSqEpuDa91NCIaDV0BSkKp4vdD2k358lB6D1uGt89j8Ic+eg8eT7vERF6YgFB0gLQYh8QmRltwgaCOzlYgJbQVynAMLG2vUVXsajGns6rJUOKZgBdXk0eDBI0BzkFkNLo+auxRrVaVaDWvNCw14IgcKee3BSZBL0ChFZhpXiaZ+Nq455fu3sIcN9xocjBhuGBBIWKNc42zNbAOL6EDYJJsuG6oW1AsMqsUMa4BtEJAa4z9od/uxsOBkneo+QwSvAm9QRn04yyjqKoOhY7h94C5QgF2gEA/9f1+F6ZpphMEoOSEhX/QXkRIMcCoO6fr1tgKgIURo61JkZii8EXIKtykoLnu6V1n5Rch2Npl3a1rXDzQitIra6lrY5YOUgwyFMMJOJwO4bAbKQRQKPT97my3f7opkTxloBqpbCrFt/O0y/vHh+3Zzk8jHVAqAfl42GJJ9vvtEPoBMwbiUmkIbVwbJo4cH22efP7t7TuX09k0PjlMFyOwHoOE28MMoGIJdF3pzvPrdqEn9NEcvwgNmGJ+8uBsvznMaQRynEKg0oa0/NCZhhGtQPeFiWr/0G/Rh7R4r+cv/eKm3bT3QoNNJXU0r1QgDMPMDge/e5zO3n2Fqe+sj26n3fmbv7p5/DnfPzk9Xd67c2tZqxwvD/2ZxOrcen/wypWqSwGLYE8wBeMEEwlbBNKHlQ7VQDhXWN3UR0fHzjosDpD6yefdPo0DLJYBBd33PX55vTzI0pNlmq9w3oY6+MPjy4dTHMkmg7xjJb3v2gxyz+6fTAUlmqeyZ4D2TKKLwpkoKhqWy1owbuLYsKtUW7pr3KoDbKCrZFvLujGuLj6Nm0N/sY3TmAXkHp5ObCHBhunMHDmAkDoBddfo0xC2u2k7RA8NQE6G+HgK3iJHR6pcQAIkhgy0WlR2UUmD0SfvfxAW2t3UhmwrneSR48GsxXGltD2J0dKFzoBoN5NUEI0g7hA4QJwFnyINngWIatraNEZApVlOIdoUxkJJHyFAScvAGGtiTRPU/xDoogAZap61MLvkaVmgDOmqpynsDtPu4McBn4I/zImtAN4BMtf3+OZpygOiNbSuAY3ArVAwghaUAVkThyCJdBjGs8uw7zEuBDZQQFbaWlO9AlwIcCxSkT+8iFEIDaZ4hvxytaPTU1asg9Sh7qAdS3pPrJAp+aAxlhRVQVN83oIVlJokUM0CaekjMNLhapgu91S/z2ooZW447isMPvRp2mWIT5otkHy43cT9zu8vsECoEHlVW11TiT5cocLrpU67FJ+MZVvSwHzAZ1OWTFwWQJ+r3DaudRSPmAKUmc2U1ZOqXri65kr123Hq4+RnYoDRA9JRSpSAISgQmQlr2NMBbYrofJq9NBY0eecxuWk37T3RsLwJ5qJP+41/8m7/9S+d//Off+e//xtv/a3/O/+5/+n7duH7irx79frVZ//B/c/83fDkdz58G/xcTOPF7Xvuo5+4e3xccRWrRrStKiM7nAcYMSyxTGaMSDCgSlL+CDDA0vcDAKtWVvhEtcOiCBNYr+IJDzKihG24JqyQebVgZdHRUha+jG+evfa1t74yBSrrgefMWPB+W0nyJ3/yp64NBB6U1OTQp6vLEicWYu5HClUWE+eeAGNi06anfT9FKTvUstarivWTf3iZB1heXlQRHUyuYX1gMavK6qYmzISxVEU1itsyAuKCp96ESaa89oAcwaBRKs0AexLGywPYAK4YCvLoEDkbzvBaDU2WqF4rxYzTVcDCkd0n5KFsGaTZYCx7z3aBbXw6H3OfeQYGalh32oQjl/VMMsvQGVIIsK2h+FgO06wXgTGMB9r+BoICO9EjpLjImw94PRt3iC9cOlCdvDA5/RXyi3xi6PBMz2d4pFwpO0ik8G3aLkXPEv7CQGPCgSto4JBR5DhB1WfIE4Yi1ysDUMHUUyzLjJvGxfAyJmhZOp1C30c/HuY6q4n8qmi/GB8jqFyAqyg7CL0bOglgA1oCWHF4U5G9H+YAaoA1aTx0APUoABYEEzDG6lo1nTI1eS2yKWoCfshrQMqEgUTXeQpcQx9DBFvcPt1xoFA4LBISdUa6ZSUqjZE04D64HUOkZ7fp0wjRq/E6YFe1WDlbUQxgnCAx10cdrnGapmEIV1djJnROuMJuvSKfXjogwEwQMzBjSmGAIeYxBJDshjsqxdDevbd6/sWqa2lR4n/67xtf3qvtjTfe+Jmf+Zk7d+789b/+15umefbbm/ans8048E0wwAT+PcCAOQigGYbDo/vnn/3tR7/wD5/8/M+e/cI/vvhHPxu//Bn5+Kv66buLPDY5VP4gt0+np68dHnx5LbZHTWHpIJtsTk3puOxYe1otTsECy9XD7PdYGXjzec8CX2fGqitBuRmkSPuwtHZVW2ctFiHWVA5ZxLx2x9//sT/7yq1XwetpbRDIgcrnKQ+X09MvP/ncr3z+l3iRH3nh405XMxLO23jvr0ZKjhrpOXQf0GK21DCHszM67A2+wRAXyK3LA9VAhfHdgFpMINt+DJTvy1D8GWwS+u7a91KQHYQMqimf5LoWkEqkBannmRTueGnurcUR7CsEimAyMsf00praEBwELylRFpcQ74qBsGMwScXAZkMkEGRCPbGsWcjRH0YPe7qfeM/YgbGrxC5CuQxsm9MhpxHCjlwaYKFxC7hB2ivFg7ajCwOCP+rH+7t8HtkIUqQM7ZFqwiQA24RZFYaLqT+DRMuUHBOKEsJpimnwQCyiU3gXmUXFzcLwCvSIkg3ncQzbYdyMw95H6h4LOQgUpn2ARHmrJz9HsQHHYLaBXxTUQPu4aQzDVR+2nh0yg3LaxEJliChWhgLGD9fZOLmqjNAKWEwxnoVBzHarpj2uVSt4lU2nuqPWtto40a7qFnBioTvp2JBoA0gNnTcK4ZjFKxrdds5pF7d+8875cNZzz9NEhVQTucdI6ZS0MhVIvgkzAZhHgItRMkBIun7goEDHJNo9hkLNwHI6lgPWmqmkPpYsjLJARw5ZjKdhoulKmVZWC/S26jcgImkuG4/X0BBRnDmgjXHcJaFbShgUhffGTMWbgDNVtalb2jINnkaAVu31V7T32+K8ae/ZRnKKvtK+Ef2DcI3a7McR908evv3P/+mX/+Z/9tn/9P/xxt/6f53/g5/Z/fIvsPuvC38QWJBRifNdc3XVPH7k7n/Nfv1z9Vc/e+fB6z9op7/ywaNPH+k2bhPb+2YI7dSX3J4sXv7EcX1sCywz7VXBLMBGkb2mvRWtwy6OVz2MLIQAbKpTWJ9YiOEwHPwUsQI58XA0coDpw+GdzWu/8dY/+9nP/Xd/9zP//VsXb946vVW7er6pa8X3fmuz5UObEZ7YAZ0LzZ1BwqbA9Hjao4S8ADUoVbe0VT3ugCsDB8LNO3jALVDs7njtui4Oabga/C7EK896EjRQM2E/Bpjv/Yh+B/+HtYWQJx0lC6uFajUzOTJ/Hc8BEMPlkM4gL0gro2CgMIdcoCEh8KCxHAWZmQUwlOQl3ijsY9rncOanh316OpUN5bVk2oiqygoijXxZoBagA8k5wucwkie6KtxFKbbFXwW/pSIKeBKnnJMUVCDmaDmwnc3Tw/bpsL8Yhq3H3WWAHB2zAcD8tS7ENcia3AqTkRFzfIQ0DDDw0wFPKqZtq9US3MEPYTxMw27o97334XovFJhdOOURC+NUPFZHCVBrB0zZob/oR0rFEsMUAHKaqaZunHPAa6Cixn/KQJDlSDvzwnLTSGYZYLpeONdqyj3mgCV1d9TVCyqn9+yYEJ2MO7fMtqJZ4ZkOKEvurAPgOYSDj7tJJfL9hMZNwRun6w5vRKFsgBtbaVtRBmdgEcbRGMJvvLEWkvB7HPebDcuhbSyW3zRS5lIIXTAj3COGFVfNtapPVstba9dYp/WiaipQHVwrndgVQ12CoePWCTpiACZjssRAFXaiB2LiGVRjwpjZuPzeFUlPfPbjTbtpf9yN6DIhHE3DGeRgLRMdwg+b11//3H/333ztb/3n+3/yj+TXvtqM/UKILrMmZD0Ul62auBuzuxjUu1vxYNAX3PXaXpX260+ef3zxvXr6s0v1cSdXLMVpfPx0f7YZj55vb73Uco0ZT+cgWBhghMTvaN9Sxl1SrLQnpj0Fb1UZCkNQPvREoVmwAQtAXMz+ajz/6pPP/5PP/p2f/tX/9O/8+n/285/7e288fmtV37p79KISdLAEA0Fc/H3XaFfwm9YBFoVD+yqVc6E0/JDBlRVG02AqDp4A3cAVD5xMK9BDHEI8jHQ2NJ+GFaUpC0mE7pPx4IfHm/B4m88P6XJkE4BTZCmhTMbtZjq7CttDD01TK3PaCcOmiSqHZsJZEnJ5ZHHv+Vj4yAMgc+vTLvGBJbwP49IKUSvZatUYU4GDqNinvA3hHGg6xTFRSg3wmXVTtNj0uyl6zEkAHB234W8AWO8hWCjmK5Q0xEgZL3ETwGsKZMBtkmCMBciXySkm9Vu/uxoO+2mcKNkHxV9jkkESQXXgTSKXAtdkoVd5gspQMioGHQr7rw2Z78jH3TTtPJ7JyDcYT5NzEhYKmsAEw9TCxIWYhXSCzBvBwPoBqIEuQb+SBspcAUoiCz2wFpcFPctioGzUu91uGujcGDMbBE6oUs2bluN4SGkC7Bkgk9MQW0QvBPnWcGCmoxTPhJJ0SMm6ZdsuW/TOcLVPV33ZTHELWJ4gTpkR9YqqsQudOR64DgtB5Uh3YcWRj0wgv5ESpSI8i2F2lqFzOqPxYfO9QYgRcSrku2RttZwdwpylPVXqCK1wn3gC+pMytPDYrlrbWLwn3g6sVYIVUc0Emh0QvljdEbzoX+Pa9bf34fq8ae/NBrChTbAy20w6G4aNDMP547d/9Vc++7f/6/Nf/Ofm/gP+4IkbpqUQbYyLlM0YzOOd+NK79uHG7YI89+xBiRfOiBO95/rxfnk+1o/OV1dPP6H7H1uqT0hz7MGO2dn54XK/W93WTQeqSusp46OxpABMkeceizaAK7ul7W4vu+O6qo2Vuow8bsVpfe+4Pe79/nef/M4//sLf+elf+0/+x9/+G7/62s+/efb1YfJre/rBWx+5s7p7jW1413+9pN5HjWTTN+4LZhNWErYm0+nXXOSTWxheioRjTkfJxh6jwSGfZWXpORcwiHtdQRfozeV23I+aUb4siCHnalB8YFo+EH6QQYU8gLEDNHBokLlqOOw6EFRwD/CJMUJzTbRPmD0rQxov5+qjA5XNYX5OvD0UylMF6W0UTK000lSw3k4BFAGuIPnQMl4CRShawAA/YIcx/YDCYXZchLogIylheWHaPWUqgdCUGQaYFCE6ALqEdmuhW2kHFs9WjjJUNlqTlomwrMAb0B6oyUbbhqQm9OEEbbad0i6IofAoSBEWgJ6WkadtP17t40gJU8gVktwK9dTHzcV+f9lHnwCoTVvXjvLy409U9Weuk1fr2ggHpCSZNWaowMPVod8PfiLZh+4CJKMHscQwUt57jJsCxtAxogfOoX+HYT/jHAWr47ahvBLukeJByLWRnjd5vBbzG/jn6qZeLqoWxIG2PbRwuDeljXIW/Ab4SUeR+AjaWcQnT1zOVSU8vTPFyIP8GPygQBGgZkMI+AjTQPSRgw+Ql/gLef8rcJdHX3/n4sETQK4jdxpMPkI/ogt0nIhJSKGE3aKja2YQiyTn6AQSI8hpPuIaZjY2z1lqmL3vv4V5097TjZAG3+awbPIEC/7yK1/5zN/4L37p//p/+52/898O99/K+z2me8NFd5iMD/J4qU8WevAQcHofKODqANYe+dVePXnizp92lxcdKzVVZ75dD+YDefqRVn2Cy1vQfBPbb3vlWLM2105q3DBpGaX1Aik8kO2UTck6yUra2iw6Ms6Xj7Zpks89/+KT4cnf+8zP/M1//p/8D5/5f//WO798f//gaghhMmt768+88Okf/OiPrGuqS4x1d41w+Po+a980FTOU000WGDOYENI6ZJjJchH4zUau3+9GP8pKq64ikzR6MSUH4dC1kER8H4Vn00h146qua0+O7KKdvfcBdgIGls55YA8d5JtTylRAkIRB8pSHDTDTx3yIqc/4ofhMeCi4rihejch7SP5Akuw6TBhXGalwTxr3UxiAihxvqE0NKCI1iW+EfYwqDlQaVhiWd747YivAL3IW4SSG6Fezowa97XymCygSCkItAzpNrakqDICuqwy0idF4SCOYydzQaRynrMJUpWHa9/5ynyjtGbnLQN0AOQw6rR/yMAhd6lVlF448OaWA/Npe7Prt4A8e+AeMALzRji005QhAkOiZ1naW1+SduMeNxwDUpyIGnk7wHL2CXF/nG6CLMqAVhLiMCgAAdgF2BNi4I9wOFht4yzT4nvoqQUTKrPNUxr2fdiH1hftZWc5ZwrB0IPS4dAAUYyvIULyj3/lxO4Z+AufA82wDmC+Zh8Ohp81aBwaA6UNhJuQ7CvEKclBXoraqxtiZlNIwkph2VeW4GR5fbZ9uIFXJUHBiBASUBr0FjpXJgYWJs8dPry62AEZ6NwXQ10VpgC9YApEjaGA1p2/+Rnv/rcyb9t5tWHb0dT7aATdm5fL+O7/5t/+rz/2X/9Xmi5/Xm6vx0eMAWldjtiu98Xxk5daJfPVuXhjQbW9MhtZyrlrI1So7sWuUr1slllaf3lnc++5aP1+dD6+Ohx+oxUeEXE887ykQqWp1t3bg29yy5qSirEkwhFOBvLMrGSX50tEaSqGEiMUOK+vt9me/8N/+zG/957/5xq88ujrf7fmwkzxUS3n3Yyff/2Mf/fMvnrxE70Lkkm7rfbmOZpCDKby+PeAReLKCnhAsFYrE7QewddoEZoLSQDoDzgJ5pBrDrEp4HsxUoL3NytWWQSMHPkE8UIaOJLmnQgWz9xyIN+3lwcIbvGIM5KafAFFXB385KC9ccZopOjIKFGMA8Ue+jDC2jbRrJ5yYAJ7AVNB6ZXIqvvdxH2Gjh8OQZoUxxxjTfyTcSoqq+E7mo0oe13JRMQrlnn1VAh0yaqWgCUxlTG1Af1RFZV6BdbTtaE1VO6EZh4bpJB6iZdzhn0SdNO3S4XZS4hBTUIJBgE81WtWwwqACs+AnokCsAL2DZ2YZVS3MQuGBGyHfD0xLBtymorJjP/phCkDJ3W632Y79kHykTuj9sKGqN8M+ECxxJUENmto0lmLdzLwP6vBLqlBXgQpUBjMVEgqimPCcxBdF1QEPjDMY2OFwnRglDlfTuIOKFTwoINzhfDycT8PZeDjbj5spjGUa00AZnYOHjO69DKyMmYLH9yEc8AnB1MothMUaA5OFSKWjxJHqm5dCn1bVXdetj9c1IZwydH5GBZuod8E+uKAYVqpLR9KZxB0lpaQ9H/yKnGt8nK4OV48vp91EOcw8EHvOCVPVEkTDWgD87IXybM5Su16gN+2m/ck0OuKZ94YoXI0x77/2G7/+xV/+pWHcr1btSvL6MIb7j8PTqwxePqaw8bs3z3zfi8aGO7fEJz/BT+6IIPTE7BjtMNG2CAwnVdLkbNza/W7t48nkX+Xjd1T5bizOcxg912J1QcmB0Wcw2rp1oLM5pXqh2xPF1BzQDdQbxt32II289WL12tPf+LUv/cLD/VPyjuhF7rkcm7vmwz/yob/0l7/nr37o9of1vCXyTOK8T5ug7d1ZwdD/5HgB4KJNMNgy+iGS/0mmHSNyGQcTh1WiDT3YT12i4VRZde/TiP4FumQ/eEpHCDChXUZywGQ5KyCbJRdCoEthEtaNdkTxoWAP+B8wCAE3RfINsoLACVKIBBcemTa6ND4LV0S7VZSFgy6GQ2jpQtFcAviybKql4xpv6onI4KpFHnEd68o9dySOmtxqtajMouZGAgPIkx43TTKHFQ3dJKBeMnCLtmjxySTygKaUwrFmrEnMpaIC0wnQQrF6dGFAD7pCwDDgzSysWdd23coG4ANcoc1BECoG2LMMExcALDUnXegoYAzqpK5qoCn6gFQXqWTaM7UVoBfIkUgZ7gj1YoxzfkjoPw5IA/pSiQCDu8ZHZ+2gi3EdMdEGoZ9rakBvU8wD7T1QDA31MwlftACSofBiwIYf8VwQCpEDgxTenu/x2Dy83D/Zhv0YQTIo4AE4nlVm84fQOTc0LFGZ2tlWqrqYRhgtDpth2PYMI0afjE4lLOMAZAPmABwld9JCWU4y7TJixCm5igMpoqB+vIC8VyjSEJOHTvPGESQUk5JO+7IAzcKwo4swjerlAp83F0BAZ6KP1TcwjjjUDcjdtD/BhplMlBhTD1/7q4vd08fLWyenL72wqFw1jhVW4hhA8CPL06wEzNsP8uffZHVnvv+79Cc/kbnNZ1PepHRg2UvYvslrfxD84MuDrzT7+8u6HK3MLVterdMrVjSU7yTbmk+BHLuzZFSTy3MeRFFlcU82xwqmEZIueL/d9PtxPH6+Xb3ozvZPLi43fhQ8u+RFntRz3St/6Tv/yl/74f/dR1/4KHTLvGDpTuYvz27vfdaIiMy05NkNEtLNFh7mXkraBsMvIlVSixTmFKmmgGcw30xKBjMN4UO1QPcTjCaexjSMuFBWS0s15CgkmeLzizCz1YK4IbtGuU6UFbaFAqRe9mMYwGROnX2+40emNApKUTsLFYKuJ7KSMzQAjWGGwsTP5NenYSYh3OnsTRRTRKfwkC2dlsEIYhrCdFLoFp3KweonoAuuSjjytiBHGRKcY0gDtKUGP6LIscRCin0cdlTb2jitG6FrJqsibAaoEMDgigBhdOhM582kr2otccG1tg30lJMan65oSgJf0JV4Ae44iQI9RodnAUYfXQ3UB1YlEXEPtjLtolqdLtanbbt2VYvegyGPphbL4+ropK1bqEzIHJ9LAGABFerOuYWZi86S39Tg+5gjiXClE+AMgwGUw8fQhiBQPeBicSkAS4KoBoSAZ1kSupYOEEshh0ZygMFnxAn6emRYEJxK1tHeoWHSFV2BYeB+BYZMVxIyTlcE5wl42QcIUwP8px1gyFkOnT56HykrF6bNgDtvKGDdkuckgN5V1lboR8AVZgj+gKHFIKH/McvwBDAATElcFnmlcCjLHiDWrTrMnnEiZTe7ptL25vzfTbtpf9KNFhZttpcUxqfvvJ4O25Oj5fGi45N3MALLlrUwGQAwb1ipNFsoDoqrThYi7cJrX2D9VWD5ULXDCx+cPvCd/kPfxT/8HbpdsynB8hqRXMWbRoCWnzr2wbVewbZeHsiuOEouD/6I9b7fHOIU1rf1rZcdOb2BUqZpCH0UsT3S7anYjcO+B9nG+sNlQieuP3L6vf+HH/uP/+oP/9UXj1+AOcV9UJs3wGCk8SO51r/v2rxdOWMbLA6+zJ4ZMCBWkiMA14AxdIRUtGEGbIGea2tRW/B2P/ShnyA9hDaACwCjWzTuqFHLSta2wOIB5GDKlSiaeQUbPOMC9AFsoea6pWz3qUBQRA5FsKjknVY9t9R3OrWETSUHEdqcpCxsKc2yA4IgjFN/OJABhTmk4q4BE4kSYEH+weKvrIWi6ihJsPR5enSxe/tRON8VvKLfR1wF0Kg1BehChX0C3heWue5svXC4YwY8CB7zYn+5H/sBIgsG/drpRBkKScC0BswTfJFPOz6V3oIEDOY8TPQQ4yEAieZ4QGIGwJriM+X+70s6pMPlYX7nCW9CIXUAIxaYAqtjmKOU+1qlLAIQzi3t4qRb3eqWt9pqqaVDv2N0cMkTANsYWXWu6WpouxmHIN8S8IZWl4RQpph4jBWlOgPY0wjPtEBjGoO5JNMY21jTWNtWpjbNol6dLKpFrdEJnW2W0GoqxBE9TYm0JeAuMlNso0Ke9ofdYdiDk3AF1CdZjl7yUOEZkwV8Yj4vk1RYaIxTrkVzCxdqIQQhQZtmTvoM1XkYNpebaZxoulltF45OEXOurHNQspTuWYQYCZVpq5NITk0FDiHVEy1Jcl+afSyJoM1IftNu2p9sA8QRHpRw8c4b7/zLf7n50lfOfvdr0/1H6WI79uN+nLAI1ThVkTkouRRh+SiA+OnWf/YL/f03Wctjrcqrr7Lv/v7w4ofz8hYERVWY2sNSaqEtbRXl1Dl+eyk/etd86rlmmYqI3mCJG05lzwCzxCLT0Z36+PkVSCaMICwYTIGyzHR0hnDYRD8ISr8ExjvZV1af+D/++H/873/vX77Vnj47Ibg2/NdtXkbvS9IIjIBWmnXJ9b9pu9d4MHSLXweuyYlRkg3WrNLkdNg6vqznSEThoYdA4BdVFLnYrI8MP7GpFoAAEkaQ6yLzheV3urKiPM6YF3RQK8l9jzeukAt7lJWwp5U7bcRRW047sWiVofDhJDE8UNkw20pkQ7oDiALjt/fxQGc3kdO1iUoxQ4mm8kSZwUg0kUJgHLjyaD++c14OHvbdLJU8lfy24seqVCJTNhyoKK47JxeYFJmbxKv57A2IQhMTsxIoV3jNVUWFvymeLOfYU75/qlRwSKwvomd5m/yF7x8P27d3hweHdOXLCNyT3DjoNdwCFK6fJg9kPkS/i3wqlJELKq4WZmX1UjNXKLdqmqZx6HcH2uM1DHgMoZZLHOeNSJCPuqoqqCjHNFXwwVyXzkHQEsyBEmBkSLVCKROAg0uATEhhKLkxnf9xKj9EfjkKoBEoKoESK0Ma5Tl2G32S1UpUp6a97drbjcWo4d0AXfNBNniPctWMNxMlNUtzOu0j29wxzR1bahbpyBUijs5DIYZpUuEab1erD67dWmqTMQQ1VQFkKURA2ghgpGQuun5uuf7IXShpiXmRwaOuK+9hbEXijCq/lmzqZnF8aqyG+MRFQUJySvdMSo4mLXCOGOg8fW/aTfuTauC6WK9f+63f/tov/crDz3w2P3rKnl7o/ZD3Q9gexH7QXKlbp8NRe7AwVnRekM43+ckuPRr8gz3HfE5D/vwXh9/6l/HRl8Twdrl4Ip7u2aATW+bRscEp7+5o+4lb9b/38dNPP7dchNxZ3la5YolP5IxmKrm+a3UFVl/DAGiBpQ5dIedjeBM9gBI8F8u7efX44/+nP/cf/finfnRRtWCKWDrzoeK3RaONZWqEWWQzZpNok2TSKWHJWQOGct7rglSej8Wc1YvOOGLcpoNsqnljeKdlo4tlIO/R8iAyOZEQInlfS/2BW+7eCkhaKOcFkXCuzER7aknAai+sWlk62YLNrmoYPnw4LBwdzfUUV0AhaZgfU4A9t8aaAkpPA0Q+lI1RHVVFiJ6yn4TDSDuTc+1tKI0qQx2RbyS5Ld3rqpdW+oWOHVu2NLw2pDg07oGcMLOMXCWzNNXtRfv8qr3bVccVM4D5BNygPU90DumlHH0KfUgjJT7DFAXahSvvn/bT+eAPAdOOKmJAoAhd1W1VNQAHRlg6b/1qh9/TKZnikm68qk46e1Lzhcq2lLnKa5xDqindzLzfiE6CYIU2y5RajDYXoIyVAxZwXDZdF+UbU0pZjM00YOJH+nVmeQLWAPIh7TT6nE5YAWSLCpeQqSrbEPzY91so3CBDbApbK7kyrGJeTFDepmvqrsPHFHCVRIeQ+J5lcQvbHDW8wigzvpD2WHW36+aopqmC+yYUjKAY80Yt647b43tH9QpCGH8BYBGyRlxJLgoXTpHzhcq4g5JOHpcY/QT4xFMJpwP+p31XCGLjam3dNE2KJBzu6TpkAULyeuJiBl8/btpN+2NtmHE0zekxfwGjGw67aThgCjeYmv0kchawTMQOZT5ZDK/eO7x4lG43YIFUKSeMMpb6fDBPenBYgGL5rc+rdx7QOfnukHYj7F5Moj+wNLl8aPNDzd8Ny6vxFSM+1NSrII6NPG1hz5jwuBbulnJxClAEuYTxwMqKEG2zqxmVrNSK0nxJXq3t7Z/4nv/gRz/1ow1lNsHyZLCgZPFnNUf39Htv7n3X6D6/YSDmHyTIAAZIuqaWbU08QBnYWOAfUAHdQkkRrR2HaRgHUetUKWg+u6iLoj1A0zp73BVHqg3Cp6QoWs3WlWqtBcWA2Sb/8Bk0YOYk2MacLQu21GACjNPTDe0uDoH7woeEr7QxOEK60SEZpIcnU+jTBIoCDKC4Zkl1BXDlBdCoSfvAxEN/aqdwB1W36nRnIC5zI9Vxo48aTBCC5BqqlCoRUgJoiH6ZRa30USVuV+xIiaVkC8UASeiVRC75gIUxEIQIinazAh+ESZw5bUhGytnpjGqP6vq0UUsnG9yrZB6CJfIIKQrtYTHvANAU9QyAlpAisuiZEHQyrU1pjWiNrq2aw8Iw9ch4S/KNBOlSrBjobUAfFQsFhaRzQXQn8Nx72iAVkXPKykrpUSiUD18nz2Kay2ub4MP+QJnvTG1Mg35Ri0W1XDjroBe5PnH6biPvNKwznBKjkHsqoCgCZsbMNoFvEsXjTwGfaDpdao4HJG9WkdKdWQYop2XGi6kc2A8FEdbK1pS8BNjsLBWKw8X3+0McJly0hP7HrKKoDVH28envvjuc78lMdNY5kFHyP53PYTNuHw8oWAwwLgqwB5QEzaCzT4k5dtNu2p9Ee2b/8T89aP8D/4qUVnDrYly0VNTKb3f0eyMDueuxIMS+5IfvPri8f7XfgPnNgaQ8WylqDqorChaoaeLzd9Xyln/I8oPoyIc4+otz8kPbsvTFq/SFbXi9L1+/7N588pHsPwhiHKIOkYeMdWKtuHV34ah2QQy0QUr7RaCzILcJOsNLNYOYKPYHP/ZjP/E9f3FZd7h2PCjbYaFczyRr5v/wgfjLfKPvw0YREvM+7KxV8B8kG6QbUMgaUVmYUWAIyMlsminszA+DH0b0E8wh+QVoCjmQkDwT1FRgRqtFgxGYDgMdooKuaJ2pGnjPgCbEwm32dBKnMUS1g63HG1Ml0sbEcQwPz0jR+6C0gbkEKmioFFIqWhobGaWawkXjCXn0kAcgTbhubYix1DDelNKeJcoqApkV8Sl4c8IESAM6bRt8T6nF8Aa4+lwKiaQQOHCk0Xlp0kKlRmSVwLgSJCxAORdcNka+VBD9gKV5U4421DA9IBKtqSrbNdxp7oSj7btGHbkM6GJxnPrxsJ+mAR9Hp1Ww3SUr4DFpGOgTGPEIsSpaV5+u3KqRlgLCyGeGnlGuK/ABVywELCw67pOkEB70UgJ4DBiRE0xokklUnUhSfMOMyYFgkqoD0UxOmPaDx2WTZyyFBFLIASXoAubVWllAlz16/lZ9Z0WiHAMG7Ws1KfHex6spXIz+rBdjxlhBQTJb7MJpoLKRTBfKcKMJhyFPQSvwoDD4Slqnp21/9eQcEhy3X3IiN8uYgG0YVcAYehezLO388HAvk6xr26wcxbNHCjAH3IEWKCqjC81IShQij+IEfYAFqWoYCmI2+J/m7vx4fy7Qm/aeaM9grtDZDn4iUxnH7aPP/87XfvGXz197nfU9Jd1tnbm1Nus2guKmBOo2vvVkfP1ieDxEL4A9IIbQapS26VDEBliUxb0TdeeuWdziJ6elcSwGdRjV0wN7cyPuD+w8Me/yGdNvnH1k3PzEi+6TC6cOPA7kJdId6Vc+dKIrSlCVAyWqAJGVWQHe9lhW/TAFP435xdUH/tKnfuK51W1GRmWCTqAdu2uAe7Zm8J22jt6vK4j2wMhszyQFN0lnKcaAzsOekk3D38ifT9EZkpOm1WG3S9sDVdi0rcRTElOR5c2Q9xPlF8Q/V629fRQF7Z4RvkyRXR3SMPuKwDLLOZqMHDYyhxFzTlLKME6lTH3Q/WBBVcDwazoCnJOHkDXPRomGEoxZa9pFVy8XZKoLkAPGnGA6Q0pQHZZSYNUjzzCnA4V5pZBlzHqKeufTw114tClXk5yKgKXE+87IPs8XK+4u7Z21g/4g9Iu0mYZ3i+RApVpd31s1rx7bewvemsgBlFS/BnbWLShyQBxVeSF5x+yR1mtV6uz5GJmnbQswA4G3ohNFqLJq6ewa2odyFmhA+zwAmitAFB0rQljijQcqWZ8ogoMapScRPKU5Cg3kLOP9gL8AQ4wPqT7MUfK5ZyTaNGWAFBqQ37Ta6smD29EeIAW4407w/geqGZSIKoCfOIle7yfWB4c3JBGFlQJqUOplXR11QZQDYYoy3EBSo2MojXJlIPHr43VzutZdFVjAbdYdMFOjuxWEXO0wIAXDMIR40ftdD2mn8e5cGOcEhhLoiDHjfJz8HsJ9H2vt1ifrdtUWSQsN/1+7n8zwRSsSEhb4RhGEeBneyhnauqUJPKPc7/t+027at7jNeojmIWYmHSoU7qf+0Ze/8KW//7Pv/otfm958y19eBY+FGwbM1WurAqk3TAxWQvFQxFUoF2MZiz5IdcX4PkkPJHx0IT7zpfSbny+f+bIffb+EZcidjnZ/UN7TUURi5YLlx6U8ZPXD4RP58Fc/ee+HPvpCbZR2/Pi5qrul5oOhqGCkYVyDaPVSJjceYKMyluC99sW/9n3/4Xe8/B1T9q+dffXnPvP3fuOr/3znz8aAlT3BYiYyc/O9zeuOlt/7rsmf+smfpFukewRqwPRAME9+u2HTCP7MYxCyBAYLC3HiDRBq8sZYylPcTwQH45Sv+v7xefZeWsmXjq0a9DbfTOF8Tx6SFLksILzCbqCzHVB+GHBw8jAB2WAzqbof7DdmzmEQQ4AxLUJB+0BjweKSqsH8msMFMMFwecpZ7igcWAIvyTmFPP+h2/wYKYxdKowd3kQLLZ3RlaU6ajHQFiisN6QUbojKB0GdUz4ryA5WydKosqghGDETw9N9GjD0jNMxGFAKEKjlsRNrBy1DoQeRvJpISBiuG6MqQigKOFScal8bQTkyqeYZxQloGHTAMboYsswKvrJspUVH7pGm0j6DbMUyxLz1aR+n7dRfDX5KFP0n5gwgnvqKjHvEy5Vx6AgIWzrgAx0BrlPgPFUNoIGj7WE60GKAwKpykEHATdrknAJkt1EmxRzGgAsChkCdowtxM8P2AMIHPE9jLw5eBFBV6lusVD9CAyYKB5ESurioZFZOrqyEYFuscSGhn8oYoPGh6CkZW8qmhojTIDtAK/RLxhjOY0qHkfg4UE50hZ5lGBeYFGAxhtnE2fGd4+ao6Q8DxDnFYCipm7rpOtvVrq7pZBCTFVdVVd3dO+vnX9BVDZjDXeOBt8Qi/SbqvTfbTamdP80NJgpzjCQQ8WheNk8efO4f/v3X//HPLWNsgWrjxEBPfdzt+nAYafMBC9UK1QpzVEdMTuOq1cLXKsAYRlaa1rc2dtIct+x8z6aQXzxSd2pVgpJJknc2ETzaifHQBJK1Cw7+zabuhdvuxefuX20fXh3MSh09B84d+sFDKixqJzJ5ovSHtN31VjWn9Ys/8em//O//wJ+f2PZffv0X//5v/fQ//cz/sAsPPdu+/uCrjzePd8PlNB6wwI12tImHG53X1PusyZ/8yZ/EEJLRwTcaRTCQmPb7MoxQALTdJ1lME+V2nEY666ekuSUcoLUpuCpOMIsRFpdyDMLWNzJTTBdnl318ss0p6Jb2xHI/lu0ANUMp8IFEUIqQCJKydoHvwApj7ijSefibIVd6nyAv8E6qNqmBdDCMtuLo8shvAeBGIXD0dzpFhEKfcKmYSK5IMQEVxiSZFhY2EVONsnnH0ZMfbYGWZwzzBoBHisfMMcfz7qXgYe/94y3bJQrxmweb9g41w0eLRaVPlqJxAXI0Jvpg6Ch6f9IlND2o4+a9UxjweS1Qkso51dZ8eoRpXiTA8m5jX1joNdCP4hUmdDKU7pDTZooHwEyOI7muALbJWRI4SyUIJgyNBrxpOjCjs7o5bB2jRCeUGCNCDnLpwNPEnCPbDxOFnUlGMYvEJEhFUSA4HfHRL7BugH+ADE5qNdJRIdYWhnJiTjgldCToDRZPYQYQggGnzGQ1YAtThorNMvz96hA2veUqoTtHSH1cNrnOzpJQlCmHHuqPaWmmw4ghAxB7yscScBcU28D5NIHAMCP1hLvhCfNgGgIuhtRr5TimV1N3xysgOgWLzEeRRevlC8+vn3+eKvhAtBLCzTvI7/nVeQNyf5oblve8+UBAB722e/CFz7/5c//s8rOfJ//FWMwImGG0BlOytJ1ul7ePmnXNl6Z66fQA7igpeO4wDhAJlMj3+GS73/N1xRsnH24ou8GnPmK+4zug+4ixEW3nDCJCi3zq2J0lX1hJueSjWJ80zz9frHv49JLXqVmDrlMJzK6yDVZEckZ0m83eT/H5W6/+ue/589/9iY+/c/n5n/1XP/0PPvPTv/vg16N+0ud3v3r/Nz7/xq9+/s1/8dkv/fKDd95+6e6H1svTef2QonuPr6N/hwZDCmyhHb/rf4NCUPpBW1FsHIx3VQN1yAcdwwDm7mHsKK8SjCY5gKQIESMaU58uzLIShvPgxaGPl1fDdisacrnMAMhpUBCF5JSPD8xZc/JPIY0FQYZfyTJG7rMwTrWdcnUZct5OqQ8ZSiJk2Vp12qp7C3FnUVYuCigMH/dT2gHMMkuKwc6TTx8BCZfM4J1nbwuAAIQ8FBUQwtYUU0YykcqZhoivM84BieSY9S66qyg2HixKOacggzSduOnGQpfgnQXMPYQhJm/rDAWZOSgMu2gUJQADxFO8O4PuBUzuDiV4bYTtyGUUBh0NOIc+E47plbJ3K3fisoLZDhTciU+cShoCgX3IztjKOKBKmqsUAZDoZNJaC4VE8QC0AMJhmDYDeAYUHtDC1BQ1A5yDOIVsI+UH4CSYFJTNs22a1aJZd9WyoQjCOak06IEBmMwpMGtnuq7FGMpJlUFwykxiQVPy4MuUICUzerWWdmnbrqLwgf1INQouer6fNEYHE0WCn8zpoTOlDMCUoj0B0FXa2C3Ql0Ba4BPEu8d7UkQdw+fi2gzkJSYfxarn3Xa3O9/TwXmkscQkBCrjo11VEXGhtHyFdixT1pDy114nJJBB0PATodxNu2l/jG2eYJiZmOQPf/fL//M//sf+0ZM6s7jZ+c0WC8EJXgksFEx/xmq3vHMinb7ajA9fe9qfH2hrqGv1ENXFAaDkzy/L+T683R8++yQdshhDemcT01E5eYXVt4NcJ93lJGJjy8fv8Hs1O1yWqw0bEr/y7nL6vrvH/953QNPZaRNin4wQrTUiiVpTQorO2Xt3ulc+0La3L375q//lf/NL/89f+/Lfvzq828IAtNXkt9v+4Zgf7uMbu+kdW7O6cbhkoouzxqH7fH81+ZM/9X/BN1glfL1GOgB5Gsd02GM4waaJlYdJyJwPQ9z2nErROBEBHwEWE0Q9sRgoTxTEVyTQxOvHkHsPJFMndYF0h/YKgfa08HxDBjDlTJ9dQQZI3gMcMv1cV9BO/qwfn+wFJDveCzMKhn1p80rr44WuXYEciJkNIe2GNMTZfUEl2EXoQhg7vEgKowysNxQ/7KSuyKBDyQAp5nSH4jo4gZRiyfg97YLmYjK3lLgf2kcC5jNEA6w2UNjOZYYSukZCpyXIwf2goAWBnhCG+Bhn8WmwtRAxJWSPLhomhqu2Gq/FfeIiZQE9w73QxhxfyCBzOPQZPUnQXsjbBB86UT4TqCACf+hRTul58MlEN6rKUR4sK8jPB+BBCg5DJTUUlyK4bdDFpOZwM4AQ33sN0djWDv1fm2d4QL6sAsqvkJaKtOWiBTQjpcyju6C6+v583D/Z+j3l9qSEbJse4tKPxbR1e7eVDZ0jKiuIz2YgeiZnZ3Rm4hzThDinhL6EmLZNE+e8YpQuR1GyN3QdPrnvJyyirq6b1lGNuVziADCmo1To41SoSgHu3dUOk0PXjaoqrvHFkb9YQN+j01l7enLygVfxFUNPK/MZ66Rv73EGeqPk/jQ3oBtWOU0wv738tZ/+6S/8f/9uPU78EvAWaq0bY9cvPufAegUVNJ180OS1l7ePrsJZ30S2YmXJmdv1XSyy93yEZlPg9aLPoLMUCqxq2tj/3a+pr98XPeW4iFTVi3I8sbcv5YUXYNIKF+KHcbeouWv1a++cXV31sA23Vl1rrCq2tR0ZcTmqepP1w7fPvvjWk68N40ExSIejpbq3Vi904t697sMvHH38Q7c//UMf/9/++Kf/93fWr9IuGe6OdkhBQd/T6+jfof0ekLsWq3TSD3s9+f0GFpoSFqoqpb3gI3Br2vQChieL1A/QcKoyEHPQgQxmKMJcQrYokhGks0mkkZLTpC84bTVBZEHEkfs7fc5ccByfBltffCpQdfjtEKbzHXS6qZtiFPQRJRl2vBiygMKzPFEUJA/kTT6f0GnMqQibKrmmbFVk0DkUI9QTzHsjZUX+C7RBjk8neAWeqDyVDANNwRHQbbR9x2CUfeZChjncSwAycyaPf2PpHKsPbIgFyhJmGuhIh08lBc9zhIbSmgL1QvEw9pRLM9Glamg4A8seAHIQg0JLyC5oSiAaUCrvB9HHMtHKgZwCcqUpQHs5C6VYq/nGIckg1DAq5JsjQTHwiznGG7Y+FUggiFBIUQA/cA59gbnPIzC/kgzqbo6lo8qvHOoQMhGDQtvMgc7nwjCSV5FTM0wUiHTMbCrxupkE0DMCLYur0XHK76PfZQKltS42M1JQ8yIOVIQvYa2itxJPh4g+IUdXiOW6Elhu+rpEHHldYixK4MMAgQkRjoFh5AZLXpSBwuPAV+kEkCqMK2tqsF3jQsYFdLptAKgCHwFrwTimJERgd/fO8asvNesjUJZrZAPqEvlET92A3E37Y2vzRh6sZH7ylS//2t/8L8Tb7wDk4tWlVbLBEqyr5csvsAprN8sYynakcCuthl0vQl4IsQaT7ns2eRNAn3Vq21EQ9ClJCSLK4kQuqvLkTfH0oTw/kB9d6xhs6JTUec8PMIOu0LEDbfswkTRMQrd4OgxAyHWrTjpbK0XVzRg/u3r0dPvu4LclJJ2BureOzIuvnn76Uy/9+He98uPf/eqf//4P/8T3f+Qvfs+H/sJ3f/AvfPylHzruXoBdpuMq8HBaQvR4ds/vl/b7QI6+k7kgUR6HQwYFgDltF1PYpP0FODkjb0HKrxH9RC6D4BUhkolCD/lAjgyUQn4HKQT8o11QziA8eGSwx4QemmKZ6QCLbHik7M+wgodQpgQJg3cnqZEwBzSUPp6cYPgx4HQMluN28hcDH3LejTCvRlZaVLR3DQ2ZIsDMrmrVkBfomDygE4JOVdpUDiKG1Bj5kGS6PTwjZiAEaA/lDYHUUxLIgTlBiYVrYypLocqAAcqPSCdSJEMBez6KWHjgqcdvChUhpXM5ckVBb2VG2WGgYyReonlxDCCHOQO9h48FqOApMOamMsCUBOMOWJd04otPYQn0DDfO6qqi4y6ILrwz9NJER3SUMAwdAIiYIpUGCIFcahYOgAZ0B3CiBfJTHOiUVAK3NSVOA3LRSRxxDqrJN2srDC/UG64FCq9etqYiF0aoQdzJNAXMgKqp9eyt0y4W1joPtXyAXC6qYaqlZJvkyAU5OyY8DrsDZZLEJAgMEEo5cSQlm6FsJBbqlCqD40YA9IGqABJAYihxGdWyMlCEOZLbLG3IWhAnaTEcFiqQ6EjhrutE7SjDdaDoegxi8Bhlt3z+uZNXX3FtB9pJc5YYAkaV1uZ7G+NuQO5PbyMNR5aDHCY3X/6ln3/t5/7pehjsMNJZC6NT6zxM4/nV5vGTsN/Lw6ixgoWi8hyOEvMs8TTNgHu0MS90eune0NUHf2g/soLRiMmq9bGPV/rDSh/ZcHlIp8f54x+R61MQwQKzpGyql+zFVykrAw96uZK6lcu1PVnevnt0enyybparZl3priTrR1i+4xeOPvnxe3/uk8/9+Pd84M//yCf/Nz/0sZ/4/o/+2T/z6ne/eu9DL9x65fbqhaPudlutKPvtN3wI5vVDYPdeX0j//7drxxMyEjO4XQMdbSimoS/DgbSAs6n0ub+EOdWQYuTFDZsPXUIMHNIKAIbRjPsedJz8HbyH9VZdVfBPGNRh0jDFECEFswRjTMVnKFQZtJwCDPJwsUs+mdrCojGrZWWoWqfVQkNQ0VkryaOJp23I2wA9GbbTLI8obG3oYb4zZYVuuVhIuVBQG1B1VH4GgzfvMQBlCtXoxkfTbCVTj9t2yjYWKIgPTTn5ccJckzC4tVOwrRAPlAkOuo9M6BzhQMneyFFyknEPnOSudgTMnEOQkBsqbg4aygF8TcHMsZA1dB6HGUMJLqFuKXMHVfYpYAJ+wu/rppEan0WuL3NIH1PgdbMnJe3CwogTUUsRKA6xC0Iwnz7hfVRl3XGDf0UP/QcVmMIYwDOMplxc+CQy+bPpx81Dog37nqiGJkTnWHOKUXB6bdAPGEhKqScNUBFXO/cGrgT4SFmz/YjLIdcUW0vdGZ/9BDDEhwL48ElKmaYijY5+sljNlo7NpgkSX1MZcREOHnyW0nwFfAauibxj5hg4Oo6TFDMB8KKABzrzdU7MR4+EzEpXy0WCVCWX0Yzn45YiRWHa9csvnrz0knQVrmDeXsFfrlk23p+65z3bbkDuT20jy0jMn4XNw7e//iu/4h+8q3YHvjsoa1IIErN6CmUuoMEH7xLvjlfd3dM+jmJBCRKMlRGmaVWzvaf9/BfuhKH355d5P5We65O7Isvd/tx8YFE2U9pn/okPyT/z3UVU49PHKXuVc7JtfuUTYb/j4SDbJaVqZ6latsvVyfGtV05vf/T06OP37nz6gy/94Hd84Md+4JM/8cPf8R981wd//BMvfe+Hn/vk88evHLWnNdYweCY5yeF2yJKAyc/WkFYO7ZnNRoN+fm+vo3+HRtyADCIxFXoQDOBOlYYpyjCsVIdsP5t3Q3pIlYn73e4KggGkG/bRRDXuxgyxQrZRqqYS5BenyL2PkuJDmcMYU+k41icxpDmJG0Ayz+4YIvsReCMXdgTtPwzABNU4tXQJus5k15CWgqZTu1LOprINbB/FAMMpwyH0u3EcfIZOP1qY05Ydq3TM+anSVD8X9g9wG/y+BxtSJLvoYozVVAChgZmnOhi4c9rYJElGZ3vZ5wA4gNShszk6iwT6MMtka9xRpTraeqXIEhJ20FWQJQBu2oME0qfdkDHR0X3kaSoVdCRZ3yQNEAUgSVAJNUnxXsNIyarQ7ULhGsMul4EZ4+qugbLMCtSNnEYAeI4Khlcpl92WsiITLSCsnvcMtcoUKShlkGkoLOLm6swVHdYB8jWFm8WxjFvqpWFPzqUYY1yVbpRdWnylVJn9IaDXd8Plk824HbRVrgFMEvLFPeQ1ub3gEqzUYRv7s9FPBYgE9alWtb63Ms+vmtNVXdXUuRzQWSjRNNaQ5uq4UncqXVOKB8hphRXJk+iE6ygZV8abQxbTCeqM0yXTsWPtZpfLOfhRUUmIAPKRgnC6O1phXZKXkxK6hqj8ZpEdLHVS2tf/uGk37Y+p0RyD3QrT/S98YfPWOzXsSOOACP3QJ0pBUhpKJYtVS67lmNgSS9t7fnXI717QCVxmUx/81lPQbBj4u+8snpwdj3H1aDjKqls4UTO7PBq/HqZHXiyX+t7Lanl7eucRUNW+0uYGkmObXv96OT8XmfkH5/mtd+2brx89ePvO7vx2Kreq0xfvfOrDL/zoJ1/5C9/9kb/4na/8yAdvffzu+u6qW1kqQEeWaN7NwnfQRpgQejCi/8Q9538Q7NGP78fVhCGZbw2NumL+it9gmKylY6+c8jgmWG9JNTlBq8lvHmMVs++nsIPlLa7rTN2YRccpipyS4cPiAQNIi9BBUAqcTykHyJEhwXQmqv5CzraR4oiTPa3rux2Vu414wlh8wCuTZgFWDjqFKDymSAwDBEQGupCLR2b9fhx6gCJugAsrzcKpI6dvVWytSwU0CCV6gXcKuNAwbxrSzVGKFFhI0ugsQwPGOfCAanE22lRQqgzPpY+lGnikwwBOmLydkkuKD8sNz3VJmrxfSqAc/SJQZjEO5KaU1DSBoITQaZGKu9ERGv6s8d4LrWrBDfkfAtgolyU3FCpwSOFigDbFwoAqko3VraXAA8ALVLMzuqlI6NAsJNFDuwk0JjEOmPf0APhBq4U++SEHDwTGG2l8qA8B6HXYYRFSXjGQDQhLXBzGUOHDob0hVQGSRsecN+fb3WZXJLNdXa9aW6ErINRMs1hWXQP8UcnlAQBW182iWS2re8fuQ3f4vc6LSMVsJ6oTARCa4/opKxivpF1V6D3cKjnvQO61ev2h55fPHWMVxWE6XPXjfgKLmkbAcI8Z6ICdSpAjDDpRMqoBTw4/jAIS1OyKGjygXdaOE3+gxUiGh0DuevretJv2x9gwF/1u++7nPnv52hv7s8v58IVOLLSmEDPKXVdb09ps5cDScHG1f/sh241878PZzp9ty4UPTw+Y1CpmvdnU09hJOgGoStB+0Mv66GMfbVd33fqYXNQup7gd/aN36fxmYNNlEhcH+dZrwvcF7PtyZ/qDutrmtx6Jr79VP33cjJOFhS6WZ1i32aJjCc1yDSuFzMbsTkIajb6QlKMVRE+bf08LCF/wwvfnWkKX0jfc9DUK0He6edgmMPGGbCKdZwkINwwo/quaCg9RSvY+DiPUjK0rmPMApWLnmKop5z6bQ7YTE5B3EE+rTi5b2n3CO0U6wPKSklUWw7JjQYdkk105ZeR0sR8v9hR7J/BkQiAlzDThF0Fb260WtnauoQSJGDjYxLapIZPCvie/xwQoo1HORjByb6F9tgADPB4g5oiHjX4cJxJn5GiJaZsBBUAr2tcDOANMqhr/84R3LAAKGnM8sTayqwBy0Jf2yNV36u5Oa1rMbXwCwJRxYDjTQlRiriZAVbyBulRf1XINHaeYk7LGHzk+GvCsC8Skk0Who8ixaoKSm+UjphnF1hlD+fZNDHmz7w/jBGVWL2pL4Ac0BloBWEZ/sc8bHyeqwE6JrKdhPEx5yCJgqpI3KYYS9w68qZt6fbTEkNG54Jx7E3KJjjkxNri1VVUdLRbrZWUrcBrytqRwholqMwaS4riWnNl4SOMl3p8kv6oqve7kSQc9J+eNZV0bs7Cq1YVcZymXc9l5OlrAsJGfzAg2kzXvbh81xysFKQjtLuU0YCoIZ6p5p5R2uDFGADP0Ot7WNZVzzmoDLrK/oro8GCXXtqZpgdjznJ3bvCzxhW742a9u2k371jdwr/3Z44uvf/X8zdcv3n0YDhS9SqEwMHrO1Pduy6OVWy9E5Yh8RbD5AAJG66FAyCllXZRyF/PATOQVLEfECgX7uxj44x04oc5Bj6N8OopH+/zVr8ezC7a8Ex/z4fMHz0/LYkk1r658eTjooFUxiXLVNv5xyU93qj+Xu0eae5ZJNZJPJoEZHSTQ6vhmm397be/we/oXncfhH4R58zK6frzf2ozev6dR9xDWCaENDRhjBgYJhN/UTBBuZMgYrRMvuoLZ1WmEENkGP5JfA3DJQ7GlsCXakneQ50IaS0m5KgsJyCtyRIR+KkaXGpKLCh1QYBTEmqVcTfgkBjlyiAVCsEhJeacM7DLYUtO2zaK1FPFW4eeqgnmEqOQMEmIzlM3ErkI8H9MhCXqhgkDLmkEYmdoAbOnC8UxPp0nSzLF/nPlIoX6YFXOqyEjuKlC2IbGBJJpBFxhbtbWrK6GuvUyYMJzwprbaQpeVMPjsMUF0LioGTLuSJ6YogRfZfmlr4Bx6lNKyoFfBAEKKI/mYzBeUgDdAEeAExCnwirRrhBiikqZj77cX+93VISWiEe2iwY0oC+4BxYP5nCCb9EI3LyzqF1tzbKEMoY1FyRLkwaq6BmzhIpWulamBwYzK/UyB8GTWqKqxfG3TkZGn9eJ0UbeuYOy2Qx4JN/HkYbsfr3aMUq6E4TCM+2HcHciHxYf9dtc/2bB9UBjOWe+qWusF2IAlPVpEuhjjkz0j8Y1LAvJnvz3sH17E3Qhh1ixMu6wFFBr0bds0XQsuAz0ISEYXc0lVDKumdhQwz6DX8enoPvzJVLV2bo6tfDZrrxkaHS1c87ObdtP+OBqn4r+7p48M7ZpPlI+X8kKCfgfygXQyUs6TsD3bTvuBMrmCuGmJWU1rHtO87bi1QbCJld6Z8eT4ojJPK3HGyhZMz9Wp3+3f+Mpw+XbcXfHDwZw9VodBP/+yeOkj6var6vSFfOdOMlIkk/Wpv/dRX9/JaW2aV7l7MV+N6uptdf4lvv9q6V9L/inJTiyGa/D6vW3+1wxm1z9889vvf9r7rpGkvW4wFfNuWCGIh9SFZGibAhjJmXIruiYTyFHRZ6ZlFpTcEtYtZT8ddhIKSgo/+LgZ6bBIaBbZHNhLWRPD/pD7gbIN0uYV1R6lOORlWxoIHCNGoI2AnglG2EVXVS20ERtLZWto82nwKgiaRJgNKc0zawi01QYlp4qAbMDVSrbJ4jyKJ9lccDtIHchDL1vpTrv6pIMywIhLcu2cN+60sRTN7ZSjwzlBRQUEZdGi01eojljGSE6bQJ1ZX+WcfT+kw8hGnwFRMLhaUzUCrhj+FaFceE48kudnjpejPxsm6J4RfzaKKXLTiAI9SF4fATOQkmXS1QBrAfPAYIC1pjRabIRRp0eeIp7R6LbmEK0kaChgYI5coDXjHBgGX2j1Qms+tqr/zMnqEyfdC51ZaUYJE3A9hKpiDtCjHdsSyaky0pEh3od6wUrRKHWraT94m9+ppyrR1mIkbdrYarleNl2DZ/Wb/QiAYdlaWeE6vRcQZlOIT3fhy4/SV89Fj97HB3hgOwYQEE3RexzUJ/EJo00hHeTsqYUOOd+/8k+35M7aComxtSnwodgCWYveoCA4PNE42Ac6O7SaQgz2AzgBHQlnAb7RLJe6riivzL/Z3uer9Kb9r9sAF/3l07e+/EUs0nq9ts6kccTPdOqRYhqmLbTd5Sb2nkiq0tXxii8ruXKwPMLin0uuUr0w3Km4PEn3XtyfVvZ77/pjO3CRliuwxokf9Hcs85EA082wP1/8Iv/a79KWlTUqZnJWpgQTsizvsE/+8HTyasg294Hve/n4iXj9i/LJF9O7vz28/gvp4jWWRphxyvFBguWm/R6QmxUsvuP/Gdxha5oGOi5l6ByYdStMpYyFgSaHN4g8yK9YqqZRUFS1tUtIDfyS0jrb1UK3DZ4M4Qx7J8YshyjT7OFIuS8ETJU+WrG2BmKGqzFuYxhLAHBWmvzwYC0p+7HNWaQpQ9hT+dRCjvJU7QYmnBxUSHbBKEpLEEGxa9vCzlN64OPDKV7BFsN6am6BMlDw5Np5vedMScnIQVTgrwQVED4QENd5Q6iAHOVfBdqDsPlhDNs+bA5hs4cQyYegozQw3LhOAeTHEwU5N8aEi0GHWGuBf2EI06afLg6RXFEiVQafMsdTuKatWmII8zVBFAMbtYgye0rEQqlD6H3HPOzGcfRA4pY8+itOaboopzjVQ6cdENqOLEpGy+m8+7SqXzqqX1iqteUVZWklUUhuPOSRiR6n6jQQm5JqNQA5cNF4UE40iLzGuAVUKSCHQYqRrweULViDVNWy646WpoYK5/aoaU8WzaImj9WSVWJyG/P9XXh7A7GuK2UXxkPL7/dxnDAslZ0TnVEEvp4PH2UFoVg3FGg4Zdc2vJaeeVNL2ciiM2gAoNEaDWmuK4hmHXMZPVAZ4jvoOeMl7ggzzS4WGHGiCDRBabJ+Y4/lpt20b1nDxKKz60IJH+h/ctHO+7NHb33u87vL/emd5yjdeI4iUYgu6yc5Be2DE2CjFhOeyhCfrsuqMkvKags7Q6kBqUYHlhwdZYCxY61Nh0lNCXRb3LkXm2XmklIFe1hJUFUbzx+Iszf4m6+VN14vcaD4nEWTHISk9wfKjsetYP1jtXugL87Tm+/ks4di+ySdPYzbC8ozRFeNS8fd3KyOa5AjUzEbC5gPelz/KKVrobLJlnjPphi5KZAAGK5Cvh7S6OKTKIoxnZTkR11190it22iFPm7lqqYUk0xhSOLW+55sFng9ecmBllSVrmFZKWV+HHzaTJZZt1iLRVsoSRbAAOqJuWR1kikAk+i6YgzSmfpkVa07il6AqPIBcMQD1e6BkArnMT+M/l0/PY3+kBMBTALG4CuGXNVKtZrqcdKGYYYdhioifMHEwidKyjrGgQQLp1eV7mrnQNgY340MjwHwJYDDmPzaFtsqVVF6EUrknaleoemMO6n1Sc0WuBVFm7Jhmqtk46NJuuUQx8Poyb9U80kk4MQAsKZIAw6ohNzCXVJxPNy/IGcapwEedNIngCyEiVSQCPgIuQ3g8hG9KvZF9bz06Cua/BHDBOyFhg60SzjH/BlccITSEhnCUDcUmEExa0VpZspu2r3zoOz3TWd1BwKK24njxtPBHvqLJ720i+eWqxePqOY7xGTnZAvZy/nIuJc5sLHfsTo195buqIOuLbhfP5YIwuLjhCdBxuECuCMC4LYUVjfhXgsl58y2q7u7a72qCwXGZU2Z4yiDCnohhAKCgZVKZ5SCB3+AdajXK7VoAHLzXKBzhXmqXk9WmsU37aZ9S1uBVcB6AlxgVu8fvH3+u1+9evNdrBGs26ZrjdE1hACMiIAxNEGJifaPMOkla5eDlxcP9qD4tq7lctlPefdgK8dgxkuXd25fyufPWqq/wfXxuvvO70pxMX7Ni/o2f/nVqa23evKvmGiG2Pd+9skbNfedLuwQv/Ab/O3X+flWPnns+i1FZ13GfNbn7YU167zv/e6S2PS8Tm4a2qxuZnNBj2ftuncoCFG5BhY6Ux2IA7oNFpcrcqEkNz0OYxqG/YFNftj1EeB1vOCnHW8NBRTgr96HYeI+Q1YTq9DCQ8sAGfD/MObLg+yDYdIaA8gBN6qXCyhCEB9ZW2ZUGH0idJlfYqB4IEGKI3A0AkxrGPl+LPupTAHYRHkGtmF62pdtVF5QaB2Ekk9AUNp7TKxIoFerlg1rNJA58URh05QmC9JKQUdQIHOe00dro9vKdLVpa055WIjaUeBxJq/2ArwodJAGjIf4gumXtP8KqZsEOEAlRKVlV6lFBRGJFwGu6AwM7wFCQOlXZfFQe4ClwhPgSxErvC6gQxIXupK2RzGXq8rUq8otqbY9rujaQRJQocDp0IVDipspXYz+3d3+60/G+xu2CaLPgurqAM9s+8JR9/KxPa445ClmvBSqdbgvJQ0wftyP6Nu0Gfz5TsRc1VXVgmO0lXWCig3wPPhpOFAYP0AKzwhU+KM57uRxTQ5chSLfmWPSQW+LUinV1bi8OPbjuEvQ3aQgKRoy9mMZqf4DYCxH3DlVkQUk+2HCfJCrRtQGmn12QVHVAkgpyB2X0lwGdDyewsjOlGbZQVwa59QcmoEJOge70PRFv5FlmafsTbtp34KGmYVlSDsedICRWeqvzp5++avh3SfTo/NHb7xztdsHmEkLOmuLwUPrxTJoDQ5MGZpo5o9lCKxPCpx6pGrgVWS1jwssms1WPnp8xNRpUQta1eCb3N05Xnzow+3Hv8d8/w/mj304CD7txvF8HJTN3/ed6lN/pmwP6cGlh0zIwTx5yz15rM6uoCDpmKRbsOaIiUXpvQL9vXg8nj0BND+7l5v2e7crf3+DyYAQU7JZJBBtjDmVmeYUmm0dM46SXPhojhqxMIUlDdC4GCCI5GlXrIB9hK2VXPoxzBHDFSQFd5zKDcxpwIbHF8Obj9VlL2MCwAA+9oe9p9SXEBBZt8YuKhjFnra5J1I7rYMQEY5LC62Cd91PEWae3MphPhlFuWkeOEw/jCsD0qysaA0mW+592Yd8SCUKYSrZ1JRS2TCYb7zCAJCorEWmozplKDh9CGWi7VnMEcg9imi7ThUChCfBxoFlFAVBfjYFMFktKOUxJRdLPo5jPozcR4AVryxQECYbFx/xrh4aBvKNWcp9zMj/pQiIK4hUunrrjKsIvSTwhNw+IhVCBeSmoumwD5SSwJJrXCQeeE0caesv99k/3qe3t+zJyAeMg0Sv5CnR7vGt1r28tC8s7HFL8agkpYyg2jqAFImOSjuvhmwovCNP/TRMQ6baQEYW5nd9GieqV+oU3jJyTxHtZcwVCxgw5qVMrpPVraa6veDGALYoDM6iQ4CI+IEyalZNRSGOoBoUShEhKylHNrDWSA0qozWvTW5NpHNgur3m1tHyeI0xPRwOUMBAUkhccgsCvubijlZ62WGUxBzCeo1w32w3+HbTvqVt9oqctwsw04of3vqff/tLv/wrrKdTeTZ4k0TfT5thOgOnYzmRs7CwsajBO/JA88Mbb/Dd1knYPIYf9q+9roYRfNjB0AQ2Pjoft7uZmAlVSrz/tv/Kl80YKgpksryp1O079fplMZzq7gX9oU/aVz8qb5+q5ZG+86K9fVzVxdSZt0p0jWgasToRxy+y9gWRTNme5/NHmsqz4sppYdHZ3Ld9+4NAjhodXDUdd1WBRSd2LsjJAmZGw1ILSnp8uqhfPs3dbD2v+ulsR457sO054X2trbR2nNR6DSmWWODkFgfoVNBNCnByoKKeRQkquDMNGHjyXaK8U1Fp6SqgkVaOtB3TRbpiWqka6IbCQYHWtqxU6aRodDbkqoIJA7WWrCzHlXxxpe61pVZ0rDP4uIPgI4d48tlrKmgvAEKGXdaiSD7NgQZUKJXyUiaFyRpof3BODsBZLGwqtKtJ+45ARB7HNG0JZ2F8jdO61bwSuOiw9eliKhtfKJdjyRQjCITIrJKsmfPDUWk7wDixLOgeLAz8nVTWHD1eQBsJiGtTV9B4Bz8dDhQaMAfz4bkEEJB6JD81B07UXYclIaOQfRFjpn63xlP2Fqp7WhSrby2qOytJ2c5qJTXlF93003agPJZ4QswiQ3wq9IzfD9DqxBiAgZT4UsproGqrxbJroP9qAdoJOpopSWWCvMsmq0YXqFWsJB+h9fHP6qQVVoRpKLhvzB7K/0KngLqxzekK6paBWCwqt26p5Lc1y/UafYwnkJ6FmI6Aw0TxgVWF+UPxhoBHyMGYzKqTbQ02wGlvk9qzOXrTbtq3vtF5L/BhRrvUP3zw2i/94pMvfJ5KrCjuMFdhEJ/VccyUgNz7/urSjNMqlWUB+kiBtQQxpTVWOWjphCXBudcaRLIvfJD80pYLqvkhgvfT7341fvGL01e+Mv7Wb6Z/9Zn04IFcH9cf+Jg9fYlPmn31Qb7/SNy9Kz/8YblYCu5ZW+LSxmXHlkeFdtp0wMr0Nm48v9ryq3MOijw70c0bajftDwM5otjS1XaxjHPAmKRcvlQcR1hHBXEKNEDmpwv73AmzGv8I98/T463jqrKUEbIECBHJbi3KSRtlBiWnTMPkt1KUga6oYOw9tL1VdknpLsSuD9sDh9nvp/5qF1iWy0od1WbpZMVEVezKiFYkl/RSuVuVvVtX95pqDVlAuU3wuiSBf0rdaasX1/bFY31vJZY1XUMpeYIhplzflHnLYeKRcyTD98bRudGY4qYPeyBK4YFRFdPJA69rR0nGoDCh7dABdKqM6wfLCwVaCqiRJOWB1FA8sUxXOVykcpHTZQTgUUpNXfJCiluVud2SouocJEtkdDrols62BsshTyH0U+j9uB/C6NHFFHwNuYYPxUKZgCnkKxIox7LHa2cBakzr3BLMj7Yyye0yQvgoUUMogkeIsA9x5wWWFC6byyxUDAkIFzaHuPeADQrZB2Zow8lllpsiKEiCEgMwUzt31Jl1m0EXgE+Q0Qz0QrTo6hWQDwIOI75ijUopQGfLWBxtGWZoVLsEmtXQoONuF/seyEyeNSLKShgwIScjT9xSzSJcLcBc+ILuoHgVJeOhP3/4EEK2XS2rus0JpmOas3wxSvrcNEA/dA3FeBBTonY9TW/aTfujthnTZtHzzcd1y35z8fZv/PrmM5852RxaCsb1mOp2zuZgWWlDanyACGAUiZuwbi0QsHaXWlxWuiencxWk2GtxbsV5SoeUD6L0TogPHB8W9skYdymNcRvsuBH95Vtv9l/+GnvznfT269P9rxxe++L0pa9Ov/3r/ef+RXjwgF/s9Btvsnff4rKw1ToLN3nRezn1oOQqHXy+msrVIW33gOdM4bLgn89u49u8/SEgRw3iQ9R1kbBKYPgGGi7D+mqJgeRGT/0YQ7arTrVWATz2vjzZ581Enh0hRU8V28zRQqxbIA2oBQAMugp4RIlMKGiYcDRTMhxAjpBTiPuBQGDKVGYTtnVVi6XWC6kbAI5MjgdDoekQVtBsqmKsyoy8AmE8CS6lkYZSHNPnpDnSWEAIUjk2oBAPV4e4HcSUVRIKs4BYDkwlhW2DmolIfidQVT6GAW2k7FtQUBSUBgUGzVTX3FoBwYiXWKp9Ax2TNOPoGzwhiqlnaZRlVHEXwwhJpO1Jp2+1bGVYK+dq5jwlOs1UlaLTO1ukyoVi6nuKkhsn3w/jvo/DxEHFAgCAS67mjoI0BpAlpgoAVVkF6IMWoySdUIWRXE/pTgRViRMS9IKnC79//ax/64L3iYoaUH/j8i2VkbPadZXrWqYU7Yx6wkJKMjlSlDkELLOS14YbBZ05QqDvDgz3uJBMY81yu2qq507UsoIideCpiReqg4pxS95DSVLACUYo9ZSQFrMG7KVkdEiPdwULpkufYpyy3w7D0yu8XAGeuRiuNsN2J4D7GDWtc2HaOdNUDMK1ban/XaVdjfsEzqHNMHeziG/at6g9wzV8w4oC3M3+JtP+0Rc+88bP/7x868FqP61jxnrlLNE2TNsa8EylF5y8CiDUBiVGwXwmXjqy4golaRfQXuuVqAwzMiYKHoJJnFJheBKluC9R6Kuc4srmWoOJgvaxoU/+KV8dIrsq23N+2LCrx/7p/fTGW+bBU7Gdkqniop36idIGu+MYVA6lXF2IcUz9AOOClQO7fh1A8E24/nZufyDIXdsPOgtqmmxsSVAwQAGMBHkRlM6Z9ZLtU7i/iRcDnshBT6AFxuK33g8hDQHmlikJfQUdVQBiMGQ7Cnuiw64p+Z5+gIygdFMwlZrPmX9hcClFliowp5g9wjaCNzwZlhtdFjXvGlU5ek86HWTRpIlBDmSjZV0ZWymiVPuBne/T2V5sA9XNnRLwTAEHL/r9m093Xz9LT6aCaYj3gFnHJfUBl1Fb17aNsVA1pFqhSKTVVIPUx0KxLwqQiQk6b2Iwck6pnG6cbqlkGv7qCHkUsCji6R56T6m2kl3FHe3yosOgn8bNMO0H9IYmNSPpuTIVm2XDTSurpTWN8mk+vaOQQjAK3awa3elsEoNAstlTkBokboZGkiWn0UOekg5StBkKIWbp1E4SGZlUfjxO727i5R4cs+iiF1Vz1Dl8XdXVwgpNIwzKQNnNMvCTUfaUKUwjwHYELAIRoVv9ZjpcDRHPhCYLHgOEqaEqU0HBrxvbVZRdhVNlYw2p79Nh04MwUF1T2peNGMW6q2P0/cUFgKtxVRn9eLkdAZ1PthkUlrakrQDE9iNedXTnFsaXdgu0Xp6emKqSTSObqmBEuoWwZp6VN+2mfWsbFvU3H/RPQFlO4fwrX/j83/6vn/zir+irXc1ynTJ4tZzG6fzyar+/ID9+K7ta3D7eG+g2tS95M/SHq62b8vGUV4lVFHV64mKx/VQRDRV11a7cIn/tvDkbjmhnTAcv9/d78XjopKicCgH0b+rPB3nphVNl4eRJI1YqX1ymLVSbGVk36EW685y8d493LgEjt3uqDp5UVktz64PCrmGPYcFn6jvf0Ld3+wNB7npLGl+hYKrFklAPSk4Y8kfPmZJewc5Dj1xM4eEl2w9k/xsbhIKuALgx2EWy9DJd7QqkiZSUQlFImHxVuEgl7Id8mFgfSEZUNtUmkmMSlB1sJrSTKSGOG8ouTHV6nOJNJVYLtV6ZxUpWFciROe7USRtrk6ARrKGTJ2vJkW8z6qtgLoPcRjkW0BzYcVjzNKTx6WF4fEgb2kKjxCiB8zHnEeItQsMBxAF8mBVQfiR6tMrQObuhDInCM6cooHKgS8DlIulUdA9IHJQT1BmYk6aUIwH6BrcJhMZXCBpyLzxMEnA+MdZHMDXSKYTgVLSHQG4hzO3G3enMae1OG72EQKQQeTqkbqSoBTih6LhZKd0RLo6eYgXp0BowErEaMSZQ1WCNioKm0YEFfJPcL8er0e88uhFcwbVWLyzkl2wNcwB9LA1gP9gF7UcmAUmoIfHAU7A0JHrL++nQ+90Ye7ADySgYn9MRoLUgiIkn1Wo8Rio5kQXwDfIUyAQWEKEArQMyYVwwlpCPXU1JxagoTzQgCp5C3SFf8PoAAP/0SURBVC04QVF5gOQuPLH54C26Zbu8fQLpR3dlNNhDzsUuOu6cUNDFlVQUhHLTbtq3uGHN02YIOXvBtmH6gReOZw9e+7l/8vhX/4W9vFIAopx5jFXO68I6780AKjh5mAtKKgRyDftCByYwjCCgBkQ2RiiDcnERHjy0Y1hGcHUYBawz8F7pQiK8tFLcOlq98FLXnnRFt0ryWvPFIqdF3sDedfpkzRzvN7tDKnnVTLViVe3Pw/jEl+deKU2nLbM1V2nIlQpdl6tFqo9L1TLa1cdSJqC7afKnfuqnnv34BzROOeZ56A80+DkGoI5IWuvQT9IXHQuLXsZIZ11dm6HMpNSVAY+HyS/45gEjgVwucuCQIOQIPyf3CpFOZriIMM7LqlSaKMlhTDvofvB2DdwAQOG1UFYELa3iyxq2T0BMTNBLObSWHy+ENqTlErke5nlbjPkI6Iq7gN+DOkGyqEpD4CQSWWVO68YUXit12WS2I09KDiwxVLUNkxZmGgoPEg4Ks4QiRgg02rgrOcLIEuzPJdCBc74fyHUQ8mo/hm1Ie4AlFdUj5FOCOyYhPIACY9ajEHvGx+Ksq9qacnxAvWgqsFdqSeFrjUo1YxR+Z3DNkjqOijdQgT1VqrtN9UKtjo0wUEsFaM2gdzODqgPUYYAozCJjOkNs4WXkUx/RF4ni38mFpzYOfBArUUso03GzxWrEgvOUWjIR3kiAnVNZ8ikYkqUYixJ2I5Qi+g/QJkzWx5U7bkEm8PZ0aWH0WwoDAtrmMGE14ZPyLskBT6nJvxS0QmEQZwdToYx20JpQwCAR4D+uIS3pRw/Im2cKpgp3RyteuTlx81ydjmI7YBKMaFt3ctqe3jYNDAW1Z1PzT1W7KbXz3m6EBqTg5haH3eu//M/e+kf/oNy/X0/BxSjpAIHBftnC6hA1563SKymrGFU/yGFSPlLpLGvmElFcRuCOAXDuwz6JYilTrJKdmQwsHhYNZS4Kai6tP3i+25k0kXPAyZq/9FL1oU/Wp3eVPyjmKTo4KPX8B9T6WDvmlg3PFHqk2oVMUVeUkD0ehthfYR1nW0/HLzYf+ISuG9wJPfBJ3/Zq7g87k4M9p61doETXsbbm5IsIHeLC0DORZVuX2uYKpkhT2sMQpuQ5KA2woTFsYaGK8mGgMCmoDIunAVsYyZRaq1WtljWnjCQG40Uu/OuFee7UHHXSaV2pAniopVk3VLMtJWixMnh26PmhT9ttGnvK2VFXbrGojjrVWcopwMjNPwOoIj43hW2KIxNS266yKytbBU6kKsE0RY9nkWHED4824zmVsNGdlqdGHVFVbirhdpjKQNmkaBtQ2YgXTCkdQtwO6TClkIiskbtLDud9fjqwHUAPRp26EwCDvikDGx7107t7cZVUz9kIC8/lUsuVYYr8M+OY8WzplIEk6jRreVnJshLqyNoF1BIl+8iDh9ahQ6ilFM9b/XIjboPeWXKcMYQA+CygLJRo2B/AOcA1cbUzI2XAY9wLVu00jLvLHcWlUfJOj5FyQdaqllRWAsyS1hFuze+mcPCF6t6BqDDIRXL7VMpSHNucjNtHLFWgpWlqymXUD5DglMwlFo0ZQvnVQF8ltFraj+P5Lo+k7aDSKAXM6HXtONiGoUVH7ptAL+h5qp0HHkF1KYjmShtHSjSDESf3SxCaysq6casj2TT0zz+l+HbT3ttt3rPCLMfkErPfbtg8uv/kc78jn5y1Y4TBoPLfyw7IARDEk2B7YDCOJauzB3dmw2Bzrhk/Xq9cWzNyyybnxmzVaMWwdsPKjVgirRuNvJTsIqZ9Eb3Rh0oOOlztNpfbw6Dc0HRTbaL3YrPn017wScVBaWuWd6xacVOLk2N+dEQZ9nwyDx4b2gbBRaxFd8sEqalaS1C20w4UCpyXinjMSPft3v4wkHtGAWjvyNKJCAxn7VhD6eph5lllswXIuaJtdiZ2zpdIuRNheEdYLgVcBLqBsUwzSEmhpbXCSvLUoOQjNkoYSWi1SDtstZWnK3l7LU+WucOnmALl0RjZWFZpmjc+MJjOR5fTo7PpcqsLN1MuF3t58JJi8jJkkwQuriqzqHTj6q6rXQvqRcMMUIJw6LRZV/ZWJ49tkRF2ms5/bcD0TI0SXUXyTkP7FDLHlnxOgEwMFI7OcOcHrHGgMAOAAUSKkwaEDBbbtW217FxT1bZRXJNfJUDh3PfvDNPjGCCc/Jxph5dp6vdUJQjoldhYgLZYMNxKvW6bY/BCk3tgGxQaAIkStSgI5USF6pjGTS2BOVTbAwALmLPaVtex4QWvSvshD4AIShzLeMZz6s6169rVGojabzZhP+DKyYESd1WETLJiznI7bsf92R6PfkuJwyi8wWr0A5XGwigAWZiw0LmX/vB4N56N6SJOD4dyGVVSmXZoEiUy9VGmTO6j+DjIWYAlK7gHYD8YK6QyYJGC9MgJNXDINyooL52zdV0pRR4/kK8pxMP2AM3s1otq3VHBQgogcZh1snJ0IIcxmCfmTbtp39p2fdaOL+BR/rB78sXfmV57jT14qg++EqpeLZYvPJeNpsAbCcEEYUZbmpiRxtle8pEiYeYq+9roMbiRTuBU7dLSgakzLsZYcrMq3ZE/eP90AzQak+hZzif1phJP+7Cd5LRqp2N1dfXw/HP/avjiZ8tuG2sbT1pKF/vVr8qnj5jUYVHHdROvtvndR/HijPssTKfWJ/reB8q9j8XjD1bPfVBQmircyQ3APWt/IMhRF8EqX/8spGkX3MAkWrtaMW2mEHilMywa5Sc0WRm5Xtj1QqiiSpYTSASXTaVgwrSVMK1DoiyUeKdMUfuYIJJYeaHtv96Hs83w5DIeRpAPIChQhfwVBScnCzB+IyNmQwK6RNhxaBcGrdYP+WIb3j2LT65YP1jNqoV2K1cvakgCgAodNI1lvOrTGCjfPeQGJeZQam3E2jAIg2PXvbJyL7ZsSe6LEByxp3MjiDfbOmkN2W/IFy5cZV1N53TO0Y+48mkcAWSmtrqB1NBm4XSjNRXHNtJAslHvKS/zFZ8eT/4qUH4VW10XMJx3EekcTE5M4O2xOCT5WdC+qme5j6mnaHQsIqrhAJqQlNiX9CT4dw/+fJjrMzAg2ehHpgS0jgLU4f7BLlKk0Haecw6MRQGesHbt7c4e1TQqKdKYWhWooGPIuyle9GE3kZsP1GWgyh+EIorhRpbHy/XtdbVuwEhIkReZ+rx79+L8y+9sfudB+NqOXbAyUbQfPhrsBd9FTJRXshIe2hC9BnbgCdKAYbQVmoKqTQG5cQZCE3BHqUSNRjcGAB6AMOdhP0zDIHBDx0tZV2Au0JTAOW4MvpLLJc3Fm4V70771jY4h0EDGUjj74hff+ns/u//cF6WP4GLk0SFVmHw8HFyMbbfgq+VViB4r1LhDZg+HaQfpJPh+s4n7/aJwOrdjUAHm+M7dauLuoocCAFe8/cILdxfLdSSHFHV8zKQ5PNrKiz1FIjO29f2kfD8eDg8fxcfnWJfj0dK/sAxxO33ta+mdp3mf9tthc7kPwoWmS84Ea0aQycNhKCbc+mDz6R+tXnwVpBP2VRTi9zekEO0PUXKkzGdmQz/JuhHdEvzcNK1bHsVhonqijsybMC5lGfqkYMQtxA2jevAZdppc8mDDKzAQANPgw2Fgw5RGTJcx7g5525NroTDioo9ffyzevBAPYT37tBn9bmB9KHgJ1AmArZ/AZnAdGZKutW7dQsQrQG/mbDcUytAxTKEHxFrw/SkOZ7ur+2dn7zz224ME9+KUfg56KhZgs2CdzhVPrcjHUt6yVWetL+nBdnpwxQZvjamgISDI+khEiQ6i8fJEuVrRIbTpyosVqeJ4H7uugXBcFjqaU5kDTRqhHDSgkkXpqOI2T+c+j0VLvG1VN42rHDRiCSUfgGfQsZRRxe+n6aLPh0CwR6fGAu/AJcUPAOHlWQhfOt/9q3fDG5f8QLiLNUlpzyCkhEhGcShsLdHVBqunBeoS5k3TOPGQjrSh1CdL1tA2KoNYXboi2LTZ4TEeeq6Eayuq7Z1jgRpeGFlJQKuEiqu5Wehs2DCO4UA5LVWQfAcKqiDkKeUz2IBTM2uk5GFpnIxR7qiTjcuUbhYvFaTiWRAgSLcX9Uu3zFGrLDgHRfeFDNGbqERg18JiUPhB5t1qZZctMBfkp0Cy1jVkXNW0YFrPJuZNu2nf2vZNKChp++CNL/7d/3H7a7+hn1zQ2T8MZMn5cuvfur+a/BFn68rWtZ1to+DLZV6vJkY1NEDCQD8HTGKJBUqZ/NLl1jy9Wh7yUdGNUcPl4/PXvhout7NBpU3Puj2qRrUY2UJpGIj9zg/vjiZXoI109qLtcLbfv/YYVs+98BxrGn81Xb626/sqvPSR8tKH9Pr57JZe6mk7eQiOlz+8+OR3isUSFza7nNwg3LP2b9uu5CA3ZHqItC+X5EIYCqk6MPDNlYgTDL6nzWwl9zBL0M6VXFTZcR8HcAleKdZqChFjGXS8UKnuDAOdQwbhL0Mi+V+khUXdBPW01xvP9tHvPdVqwZvxObqu4N0pwSMADtaZMqQ0lW2rCqoKImIQpWcpZHJiELDLFia7ah0luTes6mD1YWlxI3SniaYgeZ2IpZsqMdpcKkHnhbjFIcWRDtZA58IY+u0QNl5MglwJfZiGqT8AaSPD9G6kXrnqtDPHjewMBFiOvsQgYcePtT2R3FIYAhQMFJssmo2cCnnDooeEiWecAepGtDGWMbMxlylTsQIfZczoKShF8tnJ5PvIKBOWEIeU3+0LHucTRX1GSplGh3sB1zyOfgglckhBgGvj3LLFevPQ2j5Qzx859lwj7jXsyDKdYhyypOSYgOSsomiEXVqGftBQWtweWbNyzLFp2u835+O445aphdYLCyUYBvJDmf2QZL8bxskDMrGcSYxRaAOIRAQRFUZKp7MSxULBRiGzAROGjF5WpTN98ZCGMBwQqlQCSVDYI5ptalAAIZWp6kLle5JQYE2VtpVGl7kKbAuT8V/bo5t20751DUaGDtO9f/iZ3373N38T7J2Kn+52ZvSG6Bhls2gFX0tR7bbuarvM3GYwULlo26WSDcyL1VvJN6xcsbyTfLK6z35z9nS8wr+0glWs+OawOd/vKUZumnZnT6a+T+RDRkpA1tXq3qtN+3x79Hy7PjaLBujK9zH7Tt75qPzQR+XtI6wLKWwlG3mY8JriVv1l2b5x6cWy+vin61c+qpsFLokMCKy2IFc0QtNv+/YHghx10LVBmQkBbBKvKlU1LHJDzq7G73bTsOeqwCrDiLEhhauBA3Xurdm9LmiKGROVNKedeuFogjSyytUWEIURTZANGNfKkfcilRCAeNEEqtAgdePqtnIdlBBhJ0xd7WTXMK1gQyXEBuwsBXX50I/jxWG6iHyCqqshB3RTJ8fZStYvNasPr44/eGxOXLSFalvM8KillRAHwMg7J+LOuizqbLUXJVCwc+26FkY2+jj1E2QcG0sZyfFGGdhYpyqTNReNtYtKOA1o1JWdDyBHrA1Np2ZSL4ReCekoYIE8G42ALqQvjBJTokOhWqmEKSVkTuTcOAQ5MBUpKg7AlqeRJU8pSq6LPVAXQS1RTSkG/RaVyLPIw7ugy5nIk099D+yWjtfrql5UHH9xeH1B/1AFG01J0dyqNevGLmoqWue90mJxvKhPF/qkqW63EozFBXmsKH3MkcsijBMICugoD95D/NmVq49AX0mjgy0wTXV5aCuE0p1Q7q1IOZdLxIINDF2X9iPh67Lhx3VwDOAOeAJgxZD9fiweKh/MqWDhu7oCdk7owMyqxYL8OB0u16FnQGkoj58msDTkdWIxDW+2Km/aH1O7xoPD2dOz3/lX1W5T/FgCpTLpqNwkeDgfpYiADxD03VZtdivGaliUqwt7fnGXC/wTvJaS5ZGLdmGVHWvdt/bg9F6I6Oyg+FjxUNte6alrU1expkQ1TJrFRnsHei4Lm/x0GPc9O2r5S3fK+oif3pJHt1g0ZZKsXcVFKxqXtxfp3bfS/pBUXaIrvVUf+JT73h+VR7gQ2MzZYnPa2qd2bcO/vdsfruQoATz1F/WcYNKougYQUeJ+1yZyDjTFUGUyYYnWTPvRT1Oi4I8url0k9w1FlXMXThw1VEZAU+IPDUiUFHwlagu0oAgBiLzaRKsmcgyExVfQeWE30BuC9kuRybGEfCZoa69QTkhKtBhh+MGCOB1qUWwaCBNPIifga53LoqiV4DXLiiqIUnhWX9iQ03aaNj0wAOjlyJdfwEwDqsmlQ9E85Z5ShNSmUniv0eOzwJl0rd2SYr+AlYqOnunywrZPtI8aRWTQW8ZQJDbXDOqHGagVCk7AtSk0EAG8DaCp0pS/XxVuJVYOhKwMTATgGoQN+jhBYIlG2c5akElM0ZwKJBeWk1SUnRIcAjJNAmwl7j+kSS6UuVuLO07dcqxiFBkXD4J2Gsl9P4+B7X25GowvVmiwCYhpDT4I0lpSMRQ7EYHyR9K+tMhHKnA/7g7Mp7pq6qaTFEU31/ehN7TOQZgDsBJvJQGnreadVfwGnc7TOO9K6pqFMnlfnaza4xVGbbfbBwrJZ/G8D493JvDa1ugUjCl6hRxYqRwPBG2aStJUp1fmksFtIPcAcswY20LhYfbQ8N+0m/ZHb5hHdPYPbnX9oLlVQFfP3vna4ez+Ikd7sdU+aq2yYsAV3nV9LqPgnjL7kEujs6oxIM3FD7uaF4i8hdSrItopdGBsRify9maUhxf2CjayaTTTcTOKTE7b0ppildd8TAF02R0tQEOzHoLoN+cPtofdxDQ/uVU9f6f4jX/09XFzNkiX6lWu26DBioVqFwW/Ab2987L51PfoF19l2hZYs9k5i3ztGGzjs/v9Nm9/MMjRpi6oM7QKRY+g54Ajsm4SmIgvYnEUrOPacqdZa8NcYgaN3PdT4o1z946zpp0oPqXYjxDjoqnmSOoMgZDGEZqDVcITY/KkBKGu6krCsAHYnmwPbz8ZH1yl3URxYMoETEqr2emCnXSx1gA6XA/eC6hkqiIt+c9y5uMwCJhu2lAj6GTcW1ucowqlYirikMLTPj45iPNJPtqJx1u58zIUgg6q4wb5FRKLgCbKTECVd0ik0P6lLhP30WRmJR0/X+39+X56upmebsshlon5MfXjNE2hBMhPgihdU0KS0IPXZSwFCMl4IH0TGfRMgJJzCypNnjkbhwAsz703jNnGyKU1x43uLAXKHabSD9lPjMoiAKcjHuNhOGwhl2ICUi5N/epJ96l75hO38l2XIcNYsCo3S6qGWgpwfWLnh8Nrj6e3L9P56PsgjQVqD5e7uO3ZFJKfgkjqdtd9+I65u6CNaQ+MymMPXSmdbaF9cwClADuIVFYiTEFmWUvc3HS1h5LmMbm6rtuVk3XaJ1t05Zq66zBC0/6gYnFQz1mFPoUn/Xj/KhwiRrP3E+WArqw1VinKLEO19ZxzC7wQvECTg+nsdWLaRs8bmDPXxky8aTftj9q+MYswn2ChQOQJ5fzm7PHnf3t6/FSDEcKAOLuj/IGyuXvL3DkFZoAEw8plo4pW2iin9TaVN7zfSpG0SuNQx3hEIa8QARwc0PWh2gzVFHmYQJqP7cqCsPssYhIJXNFhtVPtLQ4j1saYw57xCP5nYSaybfY5Xm7O+8eP/JMHpd8x46ZiPYDx5MXywU/Gk7uXTzabqdQ/8AOrT30Xpb4ji1fmMBv6iW6JfrgBuj9cyVFDN9G5GHUa45QhF1QC0kg3GJk5j6XiqyovbKrAZFppHNvFfEhusRR1Rc51KcXtAZKCGwOxA8PlJ0pKCqCCpvCRBAlMKz5GAVtylpQiOVIJHihFOpMjj34GO2hUXFbptCtHNWs0VGUZKXZNsCwM5RgGz8+7SeyTAOMai/SJe6rMTWEAgULfEuaOL3oS1aTqrTBnoVyNdAwGbjX7lHAtKJTt2IiFhASUNQgX5rUQ1oh1LW+1akkJgod+HHZDHhKPACkKuyZV2afpqg+7Efdia6sq2tzD7TESMSX3Oe9L6VkcgH34sMhctrcqvbaQgcUHQblf55pB6E8ANC45UGgalCmlVNFCO8qgmWnHL4zbAehFO7md5QurF7VrK6BAYdEaaR2kkdIABUppFziAezOWsz5d9Oh2DnrpKZI75+K0neulU7j8nLdBC4UlwkM/bc6vQu8lUxkgezWxPkMnKweFmppbHRDaD4d8oGQuCRep8ESRsJZ3cdhMVLY4lfPX7+8en1dzkMBcqNbnQ4Bem/rp0PdDnGgDQGGFUw9R6BwXzYIqxmGmzfXkorZOVZVpF5hURE6vj2dvFu1N+6M1mkuFMuYSf6UpRY9U0u6N185+5devvvi1Ybtrbp/oe3cGrZSSpj/oi/NmCpYV7SibAUlArH0NZi36MW4Z31fmSskwH2FoSlNJiXyclo1SteSGZb+7vLp44ilZhAZ9GyYfhsijwguYcIwottTdHbd+rn3u5eWLr5rjW32fx0Hz1W1+fEstVxBqokjwctrZfPH5vQYG69UP/+jJD/2gWqzpnuaNDhh0wjlYENrmom2W67v+dm7/1own4BnoQFAeMqKkj7iI+0MaJnJB8fsoQd0r8gWfJt02GUZ/N2UfILIkxMeOCstBUYjIrIAhLFQ4BtAAZQNltqjzfoLtA3bSfh8EzxAod4lz1aoVZuZZcwNQKWfVrWWsFWanhd33fHrST5ck/6EIeS3J4X83JCodR8WwKcMW4AJzztYc0nE3QOJTYmWp6PBrO6a9x91JwUvAjeDKAFeJEVQ7SXk4OYWvUwKyFA0TayeOKwpmJ9zMgDrXueqoVo0MECWhmKJpGxzXyoqQhk1iOu/zPlCkIHUfJW8ZYehFMQvNW54aJgCoNYGzKQB4gCP1Nbny94lRvquIngfu4t7JtieKvwfmYd5mSiQaKVFJrSigDQry/JCfHiCCcQWALcLCw4AOrG8tVWMl4yZDmdJeMLprjt1WWOYUloc39hG8MofJT30MnuLvhMT4SnQ7HeGNYYKU5AI93wLvuWoteAvoiGucsNKsGiA63jlgTeKWfQbighqMm52pVHd6xCgiHFaExz1WNX7mojKys93JGj02gf1g/lgntdOrBaVNySVksiDd0ZFdrZrjE8rLTDQLN4C7/9O6bm8ynrxHGtH1bzAl2qSiCZX7x++8/g/+p/s//wvj47MqpAUW/hDDtm9iNLud2w82s+aoM63xQB6wR5/q9UprW4YRpHKb8i4lcGmsHVeRYOtZymBxYJ21YViD6zrDDgXYHBW0sgttGw3a5pzVjTOLul61RovNkyeUMHHR8bpOXMI+2WZhbq1511DdqcPgNxuxWpiPfkS8/Orx9//w6Q/+kFodRfJSALzhZnAvz1bHDbh9s/0vUHLksjGzHfqnALm2y9UsuWAZCwMp3/ea0AJ/zepowVoHcs7OD3yI0PWYDRqmPoI6KeHqAtoP3QXNArV/3JmThY9x6sc0pTIkYFlU0ltxkNFTgv3E9oO6HPjFEDa93wFOBMWNBcEFZk/FtJwwmYBURkCOwTyO4yHGSMEFTKfi+OTEHm8jyd+E8gaTWR/nt4LZpXo7lJsAxnY+2hO0I6strk0kQSHNphHGch4hyCIQKw9RKFYfVc3t1pw6vpKiE7LmwBDthHGWQuQgyTY+7nymYEGQK3KUBIRCucYw10ZoTF7btNYZaAdAXdkExAlJTdl4boGtYJg5uc50L9XVc0Z3kKK46EIPoKmBltamwcoyAqjxaDt85VF8/VJsqTYRm12rQOIoiNtapazMEmQUvU7F6qwlpYh7xKUqBU0ZBx+3E8VsbAYvk7hDZXSa251baeawSqeogVosqfkowii3aAC5435TMhQxLw26nVPAfa3bVdO0LkM5wh7Y0tTWVBZzhKI+iCvM4JQSMLJ67rheLirlks9cmXa1cm0nraUzjAwApQfUKzSpbRpTVVi7wDcsYJqAN+2m/dHbN4COvoKDT8P9X/+1N37pF8t+20BbcVEeX9jHZ0cpUbqjVEC7sJ5USabEZW3ICQELLSdb4qlUt47Wq8VCUr3j6HMKUg6wW2O6HMMml9g0qeu8q/RyQdHilW7W9eJksV41Ik4selOZJNh2czGcPfDnD+NhE9PU7/cgxeHpeTrfwuSmzvWbnY/BvPSc+uAr4eR2/clPr77v++R6lUl40OqAFJgVyU37N9u/FeTQYGFmkKMenOXQ0dqAdFd1KUr5yA99vtzKENN2J7UQ6xYiXI3g9jBwsN/kvyKkngSbDCUL4A7yXLJc8Kz61hoDP13uIOnSfoq01wUggcIXpqXi2nj5LDWy8Ck92vC3LtmbV/F8gNG0t1f1i6fmiE6w9MKZY6dPK32rSpbBtsIgqwMfXzvfv31REp3uzLM5MkpfCXys68XCVbW2lXWVAbIxqiDqEiUZwz2T9yM9OwD4VJFyX9QlE5e5bCMbEqVDESX4HrJONIoDrjpNiSjRoVHErZ8uDxBcsPJAGSwZUiC0E0lRhbzSDKStdZAujLxUBJQp9fLBx81IQpYygBRRS33L2TuVu93g1korWCslHk4uVt1y0WkpoY85tPS5F1dBjJBoylrnAGMUqOBUUfHpwT+48ud7dCz5wGjNwCHoBIzyZqE/Yh/SIYSriftStW11a5VbGVQAeOsTo247fa9iKzWxaTgcwjRivkDfgi8oJ8XCiJM2L2ypNPTq5A/MZHVs00LEikHzJXTQbj8eBiq6REmsAbPaPXfUPH8CSnG42E0DOIvOUgPTpHORnNMg/Ek3aoh7mh8NwfNMUecv32DgN+2m/dHabNKIN3GW+4vHb/76v+BXl6u2hjpzgtasoM0mLCR54PwgeJA8eZiEqaNqJ6bq6in2w7hzshiWjit7S+sVVdTQQWmBZ2jLRyrTL4UztgvMTZMCn125+vZ6rZKIfeJD4MNkMp3HSOaEapcnzzXLW1xXw74vJZt1o48bXTvKiNeu6o98Un3nd6WXX+k+9rHliy+AdF4vDEUhe7Q+5hu7WSP/ZvtfkKD5GbrNXXj9k4TZptRMdJI07Gi3ChIlhNIPAEHoBIoEp6rwnDJyjVAvTCsVU4CmMcZAa+TgobmAYUDMuB3z3lPSj5oOaTBIeIZSlOyDCo9honDBqJK85CHyy104u2Kp4LU0vpQdilvKr69yK0Kr1LqjjKW911NRQxm2OwgLe2ehGk1lavoxTom8MZWChQf3UlaRkxQX4GDFhwSxpUXBm5OsAyJJFliCld76tPUMXy+HtIfUVPhwYDJNLsgUPFtIrIEYoigK8EiBgGTTKYGkcZR/DmsqhYnprI+d6GjTleNKxiQD+XdBZ2UqGEBJJ2nLE0qsJStPymzOmGxao1pdJDqDW2MUlc8JqtJAa/C34P0cVwgchWyNdKDlKqcrNgSq9lCSwCuebdXTWqCdSm0gMykDNTEO0FSO9wcOhQN6bcDHyrUrx1VqJbFW0MUwUXYWdI5kpnJV18ra5baWS3Bf7S82+6dXctGYu0vw2+I9HaWiA2ErUlHgLMqAWwTJ2g8+j1W/v/807PFRHuoSFoGhm1wFykT3KwWztj4+rk9vtcdH1AkgCXTlz2bis6n4p63dbFe+ZxrNHzodwNIlRIiXb7/29i//M7G9dCGJbS9TpM0HTnGcA+Uwp6UjlY6WlxqsvZDHpLHn2e+9d1jakqVxL7GsrJVNS8nyKq1ro3OhSlIUE1VRTiCsssPQ1vgXMV+9PjKGdpbsojULWK1K2tosVqJbSkupkWgz42StVm05HKbLXt57YfkjP+Y+/onVxz++/MArylGt4nld4H3n5fHNLzft97c/RMl9g+g8+/nZN1LEUvOqo6phzVHSDSy0XDpuJJMlX+7Y020Zybu/WGPr1t06Zg4qvyhf+AHyHKaV5hfbTf7hJW1mLhu36nRrRWv4QjHHYpx834/9kIec9iVchOlsP1zu0jTRzqPBbClxHEIPlXDl/UDZt0pOtcm3FuXegp1UWUPr74LxzcvL7qWlWDDeCb40E4eo8MAvDo121Xu8JyB2DGGinI14UObHNEkjyEOyxUyVyuK2Ujn0/umVf7wtl8D1lCKd9ylACm5TQbJF0TDKs1xLSvJRK7t2GnN4rd2C8sAoRyiS+Yw//aHsB/90M9w/S082+XLPfWZU19uZugIuAPREo0Wl45DChkLjc452ofRSiDarRnBdCvRPw2WN64QotAxaELhsOUlDSpUGPUSBB1NMeOcKmrWtMZBA0eujaFxGKsnUGB/StM7VlKTy3Od3rvjFAIGIrvBa+M7K44VaNKARLZ5JelcWvOn8oHL7h6ySRJ+GGOytrvrArfqlY0UHjAn0U0ks4spWhIISWr5xuqvBfPLFVs+1DHLmFFY3eG2q+boBwKVAxlPq7WW7Xos5ERrW8PX0m9vNGr5pf9Q2mzNaEPghcz4OfRoP5w+e7s/3POY+xS1WD1X4lSpjQRfdVOrOetIqCL25GkuWsa4TvbgEY8aYx5J6ViJXzNgg5SFRIS6ORbduQ8W9jiIPwCp3tJTLCqxRW5X2e7fo7CvPi5N18XF8853+4mJqQNYN2+75+SXLEQY09dyXpvrUd67/yl9a/tnvW3/XJ+uXXwCa0r7ITPcI1uY1Mf/8DUt9035P+4NBjgwOfYOqmL/PCoB+ouAo5Ra2WjFZKbekGto58sqIhgo352GEZoIo4+A7Q6DtSkFVcaHSXF3jXQLeylXQcLyP6WIPjVM15EkOSygdcIUepiVnlhQBOyxspnQxUAJMKSjlzVEtGith6hV3jpRhGvxw0eeRa+nojAjWvtK8kakr8o6RS54jZt0hqSBx1UedW3eKSmgrB/DJbDqMuIWcArCPKn6ThBwYABbXJwfRFnus23vt4rmFPankWgMvk6FSBnPe8gTIkZ0oSy6PrF5b1gjVCr1Sci34iuPlSfkoPDNZd9ouDBAoDn0kCPdpTyoWIEddTHHvUDFQS+gHAxAqfchXPp6N09N+PO/joYd+k+CHKopOyoXOKvd+n5g3TtatrVorW2uXDRReDCAK+xyB6BRi56w1AB+oawnggK4CNgNOKA5DzvuBeUj5YhLnkxmoft+syGWOmZJqV1U2dKiGYc+RRU/Jo4Mv+WrKj3bhwVXeDSR7W0fF6jQGhlKcDrvD+ePziAkGsU6nf6Q1tVHxcu/PthgmqDfbNpClc9puW6AnOU8UL69N16q2002Hy5hX8Te2lug7TcGbdtP+3dv1XOLzsQTxwZCHQ9ke4vkW5kiOkRLp4TkxqSliCraMtbWpTjC/pXy6aw7R6aZ9+YUT29xKvD1ai64bIu8Hn0NU5ANCWQCnLcxKUG3NtASEjrtt7Pv2aFUtl31I/ejHswvKf3lyPNn6ME64kLqrCboK7YuCc5rTNVuu1SsfOfoP/9rd/+j/fPQDP6hWa6ZV4TBapNlgmufVca3frpFuXiU37fe3P3S7Er0IpCMDg16lTqRfUC+inzHgKvRDGoEuO1ECYEPXXaYTFXLgE5IqxmEwQddjP3LJkxUzTkHTUJob2sgD3I2BJ0rTDPtL+1R0CJcNLKbTTEi/8XEbsi+yNvb2Sq4sb3UiFBLJJ5YyDLcMLPQRoqdQBVSWrwaxn2TKWVGexmTyBA4VPQBJcknHb67iVEotlpBc7YrEZPZAxtklk7KBqAqSi7ZfM+4EGGCNqZ1oAOFaLo1ea7XQTJcwDVB9RKcqnVvNW5sEiROSJ8BLChBjzJF6A2gocmbhstPASFYzCE3upK0bmPRCtdjQKYLjmocpeq8bqtWQxsAOrPSFT8wUSwecMWkNKqDnn8jxknxVc5x7FBdCRV9ZpdS8kUuVb0ZvBW0CQ97hT5lelqTVCveCIbBynKY4TOhsquuGoYxgpVo7Te6wVONfpykAReVU/Nm+7LxrusR42A9YwzLz6el2uDqkyYMvzFUTKOJ+vNyCllbSsX2aNhHWgJJq0gknicgMpJQKb8KU9kxka9xqWS2WlAdHS/LPxgxpa3d03N2+Z9qWNmKuHZ/m9TzvWj5bzH/q2s125XulzRPo2UEv5Nf+/8fenwbdkpznYWBVZtZ+tm+9S69oNBaCWAiCEMAFJAeiRVn0DEcjCQ6PTElUTMSEZUu2Q2E7wnaEHbIky5b/OEYRExI91igkS5TFkQambJMySWlsWaIscRFJUQQBEEt3496+99vOVmtm1TzPm3W+e7vRaBDdALtv+7zf+aoy33wzK2t7n3yqsjIv7v/D/9/l3/9Zc7nMO5fZPuEk/EEC9zKAxoW4iWLdp2pIAEV1kxnce+Eww8Vq420ZT/Lsmac4z/BqnXCA2iw/nM6KfChrA3SczZKUA4S5K3DEIZlzIpGmD02UqUCxc8N0MUSJKrL09rE5PO6s7pwabt4sPvT+7Fu/JX7v+xa/7SMHH/qW6NYNZRLcAMglt4AHNrkrHtH74bdQviLI8fDJCieUF4QcV//gSKhdGOgYLZF2e6VaeL0y4MgeOV8rOYsQ/KDBKQd/EKccZpE5nLRd69DqNwYWgE3TcPhjnFM/UG8Yx30awx/aLb8mMyoatt2w6fquH1KjZkkPjr7Ignmu04RDQTYNXC3oTtiCTcVBPdjLsr+/DrY1nHiXqCEO1TTtAS0ZxwvhU85+aBqO/Tg0tqtbZRSwzlqbzYqQM1k7k8fE0TjswXvAO5IUGIBdtS3y9OAoKgtVogLDB4IcmsyATkVgsdG0cBqoOBg4e9wMro2naXowCSNYOtc3A6BukaqDuM8DsL1oUXCOWRzGbghkPh0Aa7vdhjqIFwW/GKzaYTM0y7rZdoojogRoOrDjijbsfqgGACcUwCOcDIAcEBdHSmcxGqhQhmiHoHZFEs0yjiCKZgduD5zBNOH3CkoB4NlmrDstEIvCSNUBf3k8GI46A6zqrraaA68Nw/1tgnaCiWwwpNgsr4qAQ70kST6buNU2aDvyvMoOZcNhXAC7ODkVO/0n7H0TAwuxpzikYZaq6QRUvkO1p9Pi8AhNjw44nxiO9AZiB+WNG5OTm/yqklcdfmxcySXI64+X4CMoe5B70wjuGP9EAJfTUN39/Bf/P3+j/flf4iRt7G+tdchWY8quAfwsSAPegh4uYFA9Wup8/W47V8HpdUFvjbVoNCvXRMqZNDZFlp0e4Go1zsUEvURPijiGA4qjSaazbJjM9OwgyiZBmm631XK9HebT+NaNJkqu4DbyRfSud8++66OH3/4di29+//Qd70xv3TRZTH6IC18+fPNvHNihUnaAt8ReXlW+8uPKB4JjCrPREoeUhxc/eDV4qNkh/BidamLQjieVgYMGT+Ln3oAKBaoRyfxkAKroeN6aoGs6dn/PUsuPiLWZ5cEshSWuIlxdfagqzijQBm7A2TVFFE2MSlCDYbC44iJcNGo+iw9nZAkm4mMudisE1LAH53DZ2bM6qODqsdFMLxbJjWN1NAty1ZumC2sbNqD7SY5mVBzMwFoCx3GZOeRKPCv0JAbWhlGiQWpizk0KdOnbDths12CEHE+aw3JmOpJpylHPYd2odReAPlowNB4dfuASJjFukzjWRRwWIZgf0LzvWh7HNFGTAociOp6EB4k+jqM5LJOwG8DHsoNcT6IefLZ2AAYOH8PBgbpO90Ecw2S9roA+JgU1RItTo4EBlOzSwMZdH/EV+WDZ3z6McJsCMFGdXtnehMYkCe9aYNC6a9Zlu+JgJeR/ODCpSYqJ6uPN/e12uQWSRUB33KmckafuLrZDaUPbdfWmtTX2KJsXOg6nN2bzp28oUNhNg0ZGPueXAHGcyhvVTTc0HapSt6bjgNegziFIZBavmtKmusdhnhXz09O0mJgo5nvWWBGeIzDmeXZ4yt6wcpXh5x+T82amY9rLXr4OEvJdA9/FtJeX1ac+a642cd9zytPDGfuQFJE+nnSJtpozDNhwcPBv0yg4LVo04NsuRoN4ptoJrm6nNqsQbXXcbrZrVxtc/bjbggTlBc1qbatGxamaL7pIrS6vms4FR4fd0eEqist0Gpw+5k4fq44eM+/8wOP/p//zu/5vf+idf+D3P/Hbf/viXe9Oj2+YtAiNvHrzN4A8oaT7xT//9vKbkq8McjiE0mYgJwCgkSYzDv/JIZbREgKfSfPi+FZULCzIPVyrCcCS0GbhU0krowiAl3VdV1VB3YCfARWS4wM02F3daoKTtuA+YZjMp8l00m7rcNPEXaiiyMym7GuHpv0kTk5ykwED+3yI1JXrX9h2L66Gqjdw3YC4GQBj2qeqsiUqoEBQdBy0Q8zu9S5Y2mhIgIF9ZPpoCNIgmrBbP0ffP83To0kyyQHW/Hrh/jZYN9gB7B8/lxtCjdrz1ROnLui2dbOswN7gqdUkVbNU5QbELaw6vW3lo5iNOq/1WRVcNqoOdKftsqkvVkHXssvVNE+BlzA735qSnTUUdrPvTaJ0plTM4wq6k57M1CIBKHFEBtDl0AJr5os8zgFS4MYdMNVuW9UDrHS9qa/uXjbbNpwk4a0iedtBcnPGr7qrFi0NkDye2n5oATnr0nIuVs5U155vqruXHKmkAfRUrbYhXyKaQTuZCKkN6jYAJ0SLIwpRnyAzfJc2SYM0jEA+Fzmbrx1IbwAO2CUDMBI23SwbDmbmYMZhAdpeO/LfYpJmecpv1csu4hOaHMCcH8yT+aRqK8MO0GHNoc4GnegkiTjgC66oo+N0OseZx0XGJ+VyIfLakxt7L3v5OgnHSqJvw1XY95FigzBHUxDtbwTyJLt5qKYZfR/uehX3B8dNkjk03VvX67BNVYc7Eq03tDn5CTCu7wjO0m3qoHTaZCqb4orXzYDm7TDL0IZWHEcCreSoKSbNYmGefefNH/zBZ//QDz/ze/7lJ3/g//j0/+UHn/id33/0rd8yuX0zyTm4Kx/F4DagD0Yl+P0rLv9xiXsbAYG/vXxV+eojnsiBfHAsEZKOKEyA7wETY49auL2uAVew4AcO7RgOLtz3LuKwjS6wYAGcXcyAjWhTLzfV1TKI4QaHrqz6vpd+ipwcrq/boazDLI6P5q7jy1t2dS8ybLIpK7cBS9sMZ6VeO81JajqAZZBEcZ4Gna2WK5On2dEsLzi2MR8hXNXN/Q24JHw9LkhH4hLFgQkAFbYLMn7AAKxVaCuhfXW+6suOmiLqQZucQ8YB17cLI1zF5dB1fQwGM0/5gM9oDd981eqmJ1rHIfnUOQqpVD0EzeDqBsTHKUt41mwZgMhxNOeqM5wFFip+sRDgBgH/a4K+bHEvmHkykMD0HAeZrwQd8vGzvpQP5Luqqc43wO8U0BfpZlVWF6vksIifWajbWT/lEFnBBtyrBQJFuId5Q+khQl35lNNVbbfmdFc8n4kKZ0mNIw4GBbbdNbaqXdtw1tmjXIZDccM0UsdTm8gLPxmsRqdxMZmgYuv7V6C/2eHBkKD1KiNPT1KOqVJb0L52WWU6VlUfWKXzFPlxQeg05QNjnOi8qOu2XFZguk3rwHj5jNSwa1KHJs2t2wePP5lMpnL37lCNR2G8BrHwukdO9o8r3zQiV5BwIzSjbLm8+MWfs3e+lLi+iEzYtFnX5oqt4SRL9bY0Le7iTL/zHdHpcXh2lV2VaRYFh3kf52rLuT7UfAIMSxcLTqMRxcnBgZrPzCTFPZ5kRfzEY8PpcRBEDu3RGzfi938g/aZvXrz3/Scf+W03vv0j02ffnj12Kzs5jqcFP2OFT/VVw5KXPzyHEAsIqsvlw3fDXn5T8lVB7ssOJg4w2th02zgLWPH9C1rcYBCBbcPaDl2P5nwfsqUET44/OHUOe1F23b1lv627snFlFSUcs7+pKjSOBhv0rUPRA78eaDnwCS8XXD+BipQDXwMPa119sQ1WbbC2Eby34lj17KcQGwBqUMG/dmERJ4uCYzz2XQ9M27jhsg42Ldw/7as2Aj9rh3ZVtnXL0fzleameZOAU/RI0xwa4rBMOQALolcf2amid2jrdwrcbcLgwNx0AEuAEdF42fdPHYGqJsYDJktSVzzn57WZgJpGeJ2FhQIkC+U4cQAh2i70UhoImnnNtF7o+5iTmnPycjC1misZRBTZyKJYQtE7nEThf3/BzPfDfKAEBBA90AMPk9ix5YhofABuHYGP7u2V3bws+iiM3WLQ+HGodcVY+jjaNkqMoBm1yhVG35uZkGqfxULftegviaPIoOi2ym3OQthoIP0+TGwdApQgHtmzdle2XQG2cW40mQ5znxeJQ4VhzPOtwaJDKUWm6K85djnZFYGEVDkUCFHVk9QE/eRxQE91tGgUWzk9gDdoNaDHguG2qJjk5XTz59OTkhK9FlOKVw5t6vLl5ez/K9/Ye5N40IhjBJiHgI3BN2bzw+f7inmnrJGRzOMti7eqgKePQRYPDjdgnsZ0UZl4M9ZbjeE2y6GAeHR6iEDiWYJoHi1loUsuB07tsMdUHUxuiUbu1OjPveCdngzu4GT/5zOxj33n43d97+L4PzJ99R37rJid1gfMEYfO1GS/xh6718Qbw1X4gX6bYy6vJV/8Y/OWCA4yLRP7ZpFDEGevavgXTWmqOs88+D+AhtFEhCBROYFpkphvs1bbd1mkCXAqBcwm/M1Od5afQyGITBXgLE378y7dfwIk8hnOu2moA3QrMUPdRmMCpDvxmWgW51gVfBNuSL4GjIjFTfq4HCAEO4WodOs2ZeqsOZAsFNyt+BKPBabgbESfm4UylnA0DPpgUB9RuWoCV9mClKRiGfIvtAjLCKzBHrXK+PYqwZ1UL7OwrmbEgjlB9bDHUg5nGio88jM6VAhOaRAFnisJOEbEUB9SKo1y+vONQYwEu8KHtAQzNVYXbJcxR9uDKdrDYBo6dMSpxnIqHdxpaCsBRDbjLIg7bXMTmIFOHCbtrdm1wUelL5+5WLQJgVTgFhDU7GBTWtrEFTQR4tNsG8GcOC3NzkRwv0JwYNvzyD/eqCy1nuMWJAgXLYjBd1FmXVm3q7v6me76xZ2j1bkyu8pOJSdNuifZKrRNw0W5z/5KTxeeTHjgOwEMt2fqIzKwAaw4GVp8znacTHDCCPPgpWPVsksyngwraptPF9OCZty8ef4JzDlzf3Q8tH3XZg9ybRsSF8SLDIqw367uf+/X+7H7alMq2LVpjsU45nFyMu6zjZzdoesI3uabdoKmso9TNJwOnQgz6bcVRXolqBxy1JzZd0/Qm0zefGE4fM29/9+Tbv3v2nd8z+8C3zt73/oOPfNvsPe9Jb9yOCjbs4A5wH4Rs9hHXBLhwpaP9++BqH9V7eX3yld/JvYrIscfpINzgPEXw5vMwn+soB76FRrm66evGtXybNbTWbUHdOiBBfDCLjg/CaW7Q9jGma20MKhEnHDE7ibPHT5NnbvRzuEcyGfZ45yXXc+buiN14VRp3wWD5+LPvOseeUMPQbDn+DWfQnsbgImAQQdOGHL8/gH0A1oKrc1OhMhwjgHMDpWY+jecz4IfpTdyFwWWFCusJh0nt265bVqZSUWtCB5qqdZa6SNdtDV8ebtv+qgw3bVjZsO0N302qpu661kVpnBzm6jiz07AxFSjtEDkDMAp1EqIogD575wycNRsgp9mlvhuyMIp7Y7fgiYNO0yDlO66gHvrSNpu2WbbdVes2XdhwElbXYdcdMCJQMrhJGrGjRud07YZlbb+0bl5Y9oDavDBpooCoaFvgRp1GwUGkHpuqx6fhQdwa5zRbsM3FurmztHc2m+eX1VXTdQO7j4L+lhXfnjZOX9XVp+7Un3mxP29NGxtOCD+fTKc9O8TyTUG72nSr9cAP4+X7jINp8tixmuY4oUWc4uRij2NQZ6WjDGc3w70dZqll7Y2KUxwH9gXVaGe4IYrzGzeKGzdowwYPL8u3Brbt5c0q7CSG1aCjc9s/X7dVhHatSWLlLFqsYZDnXZSVVm/KoVNpkGVd21bLsqq6IJ+6tKjXlbtag7qhEY/r3OCums70N70v+b7fOf3dnzj9/X/41h/8v9/4vZ+YfduHi8eeTG7eMgeHKi34cRWuazXAf3JBF+wX8oZNNNe/vXxd5DWBHGSk+3IiwjDKp9HsxExO+oToNTinWqfY46CJ4iQBeQ+Germ24RA9fWM4XdQqDKZFOCuGyKRo18SmajixWnBYqHnqDKdw61VvuxbboUNtukibKEt5ZQI6wZvaztadXdbBtmVHEX5XxweAcNDtvWVwVvbLOh76NI+jzHDKTjVki0mUp0BHTmVqTM+WGChjzy/SoEljE8fDttVNaGzcXbbDsmP//sREBxMzAYoGqmqCdcUXhw7b4ldqIKbsCDqAuWTBJO2m8TBPgyICAPKLOcuHt2BGetuHJYe05sBZ2IWu54DH7RC2HDyIE3jPCw791XEkk0k2TeMiHLTdNuu7V8OqmYSJsQF2WT7hsF1ddn1r27o7Xw7nG106VYf9tuvKBtR2cvsIFQBt5rgsekgOJvGNRXHrMF4U4GdJwU9a7bK0L1z1n7+sPn9W3l2pTifZdHrzxIBlBg5AjHZruG7MRW3ut80L22A95KjUjTh/YpqgnDhV4OPHRXFrHoCAgqnOisnRwhg9NA2OUl9WOHkG2Jai4ElU5CH4Lg4vP3UNeqVNnnHCd+A950HHET4sbt7KFgc4POB5vK7YqB2F45zBHV3/9rKXr4N4HBlAqqowfn7Qq+NTc3oaR1ExBLpy3bYbcJlOFxEHUS2ieJ6HU1WrwYYBmr1mptOZObkRPvVEd3q6ySfuxuPDN33w4Pf+X0//r39o+u0fy97x7vTWbT2Z4mKXASp46crjHF7a4z8VrAZljO6v76+/fO2PK69lbHRggfNjtI4DQEZXBg5On58tG37ZzSE2ONkELibbWxWokxlncN/UfMuap479hgC0Q1dVgBuzKDhu1GYNwjbwrRgnmRvK1q3qACSuYcf6CJclWj38jE33vQtCFOt0BrqAq9Fs11X54nKoye4CE0TTJMhAmTqQvDBSwCS7Bi2KwiSybQM+yDl5QB1A8vIUBQNXODi0jsv1BvwkLhJ+L4MNNuxPqNmhJQQ7cyEIDBjiYBtrohj4ZLXq4bgXc76hAskLwo6jknOEVmXDfmO7je05aDVdOG4k0B00/shz5MEFh0sOOU0B2wcAZBAxNA05TV3LSd602naVI5YSgGwgk+ThcHUu5oDSqOlgQDuBx1mUJhHnZ8feBRyGJjmcwSBSUb9s6ufO+6sa58UkCacQrm27LFF6vpgnE/Aq5aI+jAaTmQE0MU7Ya4XgnwU4FIeRuhFHByngs21qND4GbHtaWNfJwLXg10O3LOsXrwK0SPI0KfJkPsNJsjyPoIjgiZqzMERxdswRKRUIOmceCIcsLW7fnt9+IuFUq9LOlUvKryH+GqPggpBr7lGU/ePKN5ew93KAxiru/qqq71xcdirOJoe4ybRS+XQaTqZ2NlFZgssNjXiVFAqXa2hcPrWHJ+7o1C1O1NPPpB/5qH7/t9rbz6r3fGD+HR+bvvcD5vAoMNL0eyXB/c8kPqn0IuCGushVLrHxGve/vbx+ec0gJyeDOCdYB6+s+DVxV6678gqw1avBJdrpsGkbOidneSbh4zpHD4uT2g/6YNJN4sHaCG6x6wE5OjYq0/1gFTiQ63n2OQVPy8/Fq86Vdqh7YADKgx/v+i5I0JzKg0SpzNjcBHyMniSTSQwnEpsuC8LTLJwmlS0Dw7FL2i27RaT5RMsEofxCGlADWMhSGVw1G8DXnOJMeeVW6SHOOQJW2DrgK+4HzicUsRcMLlFghImxYeN72PAloMlNVljUdsuP/LCn7DfjcFACwGG9aV3l2CGmd+ztyGcjSRBHUCEzMHtIUCFt25YTDwHqNNBPevT0/batLRLzHPdH5B/estcyKBkYl6vrCtFokoT8UgcNgi0fEaOVoIY0y0K0LtZ1c15Wd5bBVRPaAbxKFykwGtUDLOJvGFzDz8K7YWb6QvecOi4NNd9IhC2H+wzTIb09UezA2TfbrR4sxwgLgNCx663uwX1Vu6w4Ix8O0qKY3T5FmxVUtQfSdwAyzYG00wzNi+ToIDk+aNkXW4Xa9DqKj44mjz8+OT5V/oN0/njLv/Id7g0eQdmD3JtKBtz5+MPFpM3hyenR7SeD6eFKJVuTNJM8PDnUpzd0kePix7Wubj3W33yiO7npbj0Rvef9k+/57vRD32be+e7Jb/vI/GPfO/3At87e8/7pO96V3ryF5jJ9YQj3gBYZ4Wzc3k4Ey65XO3k0L+lHRV4TyOHSIKvmiWJ7hCtCHfsWBGp7ed+VVyBwYGM6TrogAIGz8KJVrYEWVdNXTdg527RhlsQ3FkAtjthbWXhtGVurg+dW8iCR6FKBzrCPEpgf8KMvLWhUz49VLPgYOY/0KulD6+IwSE1cZPnJgt0aQxtNInU8cYukz7VK4rQo+rqzZSczAvBloSYUYYNtyBFO+CSx66p6XbpVpYDKauAn1SBE6zaw2F+Yg00NYF78jtToOItBPFC9oAdVCfix3dW2vygBFj3sXB9zQgawVI7IGNTIBqQCQyI4cffZy4aTIQw1vx8IwDVxJOsWe6XiGJA6oGHQoyLsRGpmaVTwI4sI7QDkJwCG4JENP1F3MXArS8l0151rujg16Swj6UT2dWOXNY5bABIsqAleyDG/1lUEmE0nOHZNWQ6mjw6i8CgNjzIznxiTBqsuxdYiUzWbaJ6YRdY2FQ4Pv7pPDY57APLW2mZbImvQBOyGE+p+nh688ykzL9pNZVc4EApozS+LpvNoetCjgTObg7wSDGGdFUFeZDdvzG7fFgjHRUOvwOWXuweIVz2aHmEPcm8yEceFvxAN4/Tw9Matp58+ftvb0yee7G/edDduxTcfj2bHjc66w1P97HvVO983++h3HHz3d80/+tHJB74lf/YdxdNvix9/Qk0XKkETOVURby/AGjuU8Ds2Fo3gI3q5vpVEXnh8rYIcuwdHACOshfoPA0hHXa0/98vLz/3ijF1AXJCmdcuJRk02DJflcPeClC4y7B+vgAu9ujHjB3TP3Q9eOFdwn/O07uuga8IQvr3nQFyd3axWidbT6cH6zqr5wtpUoXNBZ7rF7UVv3Ob8yqRhchLr03SYRAEfgsHdd+2dsyiKhuNpM4UmDraNKlt7f+XurdWmVWliUjAV11YNAAjoGE2Bx64qy27VRI2eFHkQKxvz1V3YDHFosH/bbT10Q5omQRbYtDcTzjnUlA34VdCa6qxsS5DOTueRmgHM+niStJbjL0edae932sVqluoJx8wqV5toksbA4N5Vl1cctOVgEnRWAUXixORptdxW53VQBn3TByjt1mwAx0LhG+dWNSgVv1yrHT9NVTY9ncWTrLncAufiLBpIWzkZAaKbs5Wtu2JaROCpOuxaZ4zWaK4ua1v2A/Cz64ahiw5U8kRunjkIDzPOSXRR9XfWExyXUJXbTTrPwWLrunTY4Tn3Iuq12ri+svzMvEE7gKOu93mUPXYyOZqX58vmziooQzOboaXc2GF666k+Krq2Tw+mOo3Lso7zqV4cqIOD+duemd1+LMTZxzXR83U8X8VLS/it5B9+5md+5vf9vt/3gQ984Ed/9EdPT09H7V7eCMGdgbuDL/HlYyi2/OgFB3bJ5gebXVc3vW1U3dhy2Q+BSWaGrbRCcVYueW3Ma5R+j+IzQ4My8UcS4B2k4Ohe3mh5He/kBOTkYaUwf55RtMV1bJKuWjbVBR9GQRlFrm9liufcbeqhAajIpwLGKOAffHTXAWz6qrM139npxmohNgS5LBmKxGUxO/TzaR4n8ubDSvhCAOc0xsXaXtWkRgmJo7NwtXxO2C/LYA1KpEGpbNOhWNX1blN1bSdzxAW6SNJpFjjkaEyiFAffMi4JhywMc6Vn2uRRj72yYbPpdBdokCoVWlT/gj1F+TSSH9C4JDGAE2TnK8Qm4DgvFVhrhwOTTlIzRf05tQInzblqY1CpoW9bjjXSg6Ti6AxBt6naVcXv9QITdeHQ8jEidrat6/q8JMLFYXiSJ287DA9TZcIEN1LV2rrmMAxpFhrwzZ4v9lBe1QZoRkb8WMOBnhqF9gRoZpyCxabF0QywDTRNiwx3arWpXdlqsK9ARVmk+S1jH6qo31r73IW+2KaBMnGEs+DAw4zpN02/bbqgjx47im4eWbQPLrftRWWGuK1tU7W0QWHdUL24svdrVwXgo0GagCZni6NidrhZbh0qn5qm7wiz84WazbKbN+c3b7PbDr0DvQ/awriwXpnJPcqyZ3JvJpGLi9fY7krbXXQK1zHHms/jyTReLNKT0+zkRnJwyM5TfIEgTyBJ2LwgH5c+L1tpEuaDSl+iB7u9vKFCz/L6BGeRCNfzVKIZrsPZYvL420sV8wOCCq2hFiBRv3AVlH2Yp0Ge9WHYW7hOAIzraxs5DQ4XFLnO8x6wV/MDOaP5kZqrmjjP5m9/TD1x1AIZ4yA6ivpJ7zSolgZobIMuyOJBmabu4Gfh29HUQgvNNgj3fWmH80Y9two/e27ubKKrWveDnmTJ7YPo5iw4zNRxkZzO9CJTE6OmMcLxY4fqyXnwRGEXpu5Kt90aftTcd2jzZVlxeJDPZ3wzZxQ7Q2rDHiLS9aMdXBiFcZZEeVZMp7DNi4kBX4yNYY8YQBFfr9l1XV9tu5IA3HfB6t6qvCjDVvXr3t6tui9tyhc3TQWs7jnlLPAnVuYkN6e5mYP/Dqqq1LYOmgbNBcB2msQ5JM012FxjcQaiNNZJFLje8kuAdd+V2SydnS7CRLcdOwSFfctP3fn4tYt0n2UKjRBra36b36n2C8vu1y6Gz1x1d9ettY0GQiZDGG/OtzXq2aHsPI2LeIhVEzQXpVs17ZbDhrU4mYT5bvPCeX1/6xr2ru2iiNPuRYnOJ2WFatvUGMBYbHQ2BUuMzWKeHB6prPBegw1jtKz9ZbWXvXwjhdeb4NJutRO2PMWXEaSwxJWp5PGj2FGNFR9fwVDCYwpiYyp/LAI/X9Re3lh5/SC3Ezgnad9wnrDjx2c3nm1tAHfm1pvwqgnuVeULF2jI6+kkgterrYzxAV/eg2XpotAcHDmLspR9zVGKUvkEbCtlj47egeeAAwVNFWmXLiJzGOmjNLo5z95+Sz990nFcqDieTdTRRB/n4SINJpGNQyCfXdXhsnV3ls0LFwCYuHXglQE2G/Rt6Fyu1EHGwbTUwNlSXReC0hws9HRqJll6PAlnRs+VPk6Hg9TFoU51MjUqD4c01EWsQHTcUG/bvnQxP13r+bZLDyrmF3RN3TZXm+3d8+5sGQW9jkLL14RxfjRjt/5JFvNxKhoFxkQp0MdubLtsWxJQEyVFNp8lh5P4tMhvz+JFPJTlcOd8eGHZXGw4GpaJURfdDTKFqUP2kP1letu2fcivepIZp+hTzvIBZdOCzoIvDusu3Pb2qrKrCjQ6HDg9Qgcs7xo0C5pl1Z/V0SZowbhAyItp36nm3ra7s+nuozkBEAI3j+rnltVn7w2XLch1khR13aw2qxa7hiM5SaM0VVHa8fNJA3MQNtDw7dW6vFrHHFwMjJGzUzhtwnzClvJ8MWh+Hs5LiP5i5x72spdvmPhL7KGr7FrBS3BEKh/Z/Ual14qf839eu9O9XL5cs5ffevm6gBxP5XiG+QAzUMl0cevdqjixOgAVG9oA/rdtmmZT2bpTA/sc6g78h2BmwemCQMcxGFhUZCrnxCvgcgF8dKybatvcvwgvNsO2tm0DNhQd5MXTp/qosGooDqfzJ26oPJbRuXJ9OA0OcneQhDem5nCiNGd4A/zBr7JjcBJzzut13V5u2suV23AuNM4WBAzY1uG2HS5K++I6uGjDNd9mcXru0zg40tGNLDspQpDPDWjWtrPsnY8d6tkPBWy17rfgiN0QtAYcpzD8bnvoUDKIqVuBuq0H2wIgO2DZRJuDJJgbmww9OCyITcgRJsOYgzb34FbGIDNH/W+GOOUMDANnMW/7K7YVTBmoTkV5kR8f6IwTk67OL1fLVQu6zMeVQJxyyAJzs9C3CjcFC3Vu23SrcqgsfuX5ZntRdquWPSGDACS6itrwMA8WOdB2qIeoN2k+yQ4Ps8UheJs7L6vnzqp7S7RFdJQ02+bsiy92d1dq1aFSoY7YAzvSh0/dPH7n49HhpNOBxQkdQhxWDQiPZd6Ddgi2rUETxYFsOraKFRoKs+ToJDs4MmnKa0YuQ/EafDAgV9Je9rKXvXwd5LWBHF2zDBnAXv7X8gDolI4WJ/ljzzZhNGSZnmVDptJFliwK+MEBLn1aDLFptlVfNirQDT+0ah3Qg5PL8LMqFcUgK4MCKYqTXpmmN6EONeestkPvAFtFMmzK5a9+1j7/YtKHblOFoClXrbusQzeYOErjKImQidOwgZaZSR6aCKyGHVqCoFvXw7IGobRlU5X1gBr3Jm6UOmuaXz+zX1i2l9uGTLAGVRv6hq+8bFdVJYe8AoXLkygz2DmgnUkDHfW9cuxsH1o1jfWcHU+GRRwepsnNRXQ6BSNUC+PyoQ7LjoOhdMMsGE6i4DQKM/CluovbYRqq46w4nQdNu/7i3fruJUf7vFi396+Cq2rYgHRx+Md63RiOGtJv18uqWgGbQI4cQBe/dNA3s/jx+XCUVrnuskglaCmYtmy6pglNEE+T5KAICt2nvX4sNe+Ym7fNkqcW6ek8HPSwBYwPtW1MYobOledXbVO1WahuFcVTp+npTM9SjR0nA41whHHG666NDyfz28dJkTZl1VY4fYHuOVBMkvEMhKhZ1YGwpsZwoOdI9Uo5nNPDk8mNW9n8gG9IBdf4OJcheRS0h7m97GUvXyd5TR1PgGXyo0+SnifXP4goiRqgGm21aTZX2SRhd5HeGQQmiUUzHxTOKMeejYM6nqlp1oOL8AWX0nDgrVUajjAaODUqP+eKTaQTw7EY+TmdDcEfemXPlvX51cCvrUFiOnaYH/qhbsJVFSxLs5ZJ6eA0kZAnKACA2m1L9qvSHDpa9awjsDbMs36S9YbzZ/fgaZclvzNLOQncYC3nnWn9twPhEOl0kZsiMpnSOerFt1loJpgk1lGsh6gBahrVZ8ZOVH8QBYsoPcyieToAlFAVDRLjlLYmV+YgNUcp4FDnqIDus1AfZGqWRHnsUErdxDpWoQEfVJzB1KBwu3WudOHQA7jr7bppKgPUAYTjqEVaL9LoVmGenMXHBXax37TBulH8TiFiF5UiToFwk4wjZ+aqn4bdSTTczLPDuRmS+rnV9jfOQCmTWe6M5cyyXTUkSt+YJm8/Sk4nXd1gD9hFM49Xq0vXNqhG1zscJ7Q+mvW2OV92m5bzK7go6II4TbMDwHjYbTvsOI5zkkS4HlSWOJPow5P5M+/IT2+CYfMEsXkkVxMuIN+RaWwtjUKDR1/2HU/2spc3RF7P40p5kfJljW4o5BVLGE0WsyffbcO4KtchMMOE1cWqL9nrDw66d104T8LDwhVGH+T6qNDTPJ5POBbGELlVW5+VuotUFdgX1939Fb8iT1NONa6MtkO4rpMgXJwcZkeTOiTUgIYFcaK6wL246i+2cNUqj01m+sFxNh9twHfAgcIaEKvTk0N1NKuAGpsmjNPo5Ci4edRO0yExSRFHs9SczPXpYXRyqOdTEJOmbWym9c2JuZkVt2fxYR7G/ObTwHlPpyrPwRHrVdnLfLBhGulpEp9MgpkZCmJYAPI3zSan8+QgG/IQvBZ6mys71fYgHo5T0Kn8qYU6jm3W60VcnM7M0SQ4msQnhybPbdP3FeDW6SgEFetnephp9XiRvudUPT4JYhcE7WBsNE/iWLfryl1U4VlVvXBVrzZoIJgiBmL1UbC+urp87m5XNhGo7WISL+ZhXGxfWJefuWrvtzh8cZaaKDSp0kUU5Mac5sUzB8Okt8PWdeUQsu9PflyYiW7D1syS/GjC8bNfvOw2DSdMGPjYGWCFJgpQ3VZoZPBxMdC9B+/XQdtz+qXJY09kpzd0koKx+8sFLSA0O7AUqKPqVX972cte9vKbldcDcl+hfY12N7gFm986Pbg5efKd2xY443SeJFNwgpZUTAeuIzkIN7VZlsN6bTu+EeK8287pNBmcqu9t67sbyzEk2/piAy8fwcfzk4QonWRDHJhpAj8bpEN0mifP3uhPJwNn52Fv/Bg0sCjSw7nK09AN7XLrwMbSeEiTPtbhooieODW3jgYdlXeW28/eH86rONBRYoIkdNkQzjhAfnR44OZTl3AmBNX1kYnB5apyJc8wna27ftubIdZJpgyq7tpqa5sWrAvkanAD2KKC98bONn3YEvX5kVmqzKyIFgdBnHHYsTawmw6cyGjw1K7bLG29CgHUxlnVBmkfL2I1TQYD125V5Fxih2kQHEb6yUn87GK4lerH0vAkUjmq5tymal64rD99r/niZbh1fJxqe1eVA44tDrrrm03dXJV8CWjAslX4Ylv9s8vzf3KnfbFJ8wUAu6tKnIgu6OyAmrWqqofLZb9Z50D9WdqA0toW4XCiq75M5tn8+KDI82QyGbIUB6g4nM9OD1RCAupasHmjExw2pVLjIjMoQ4p3+/HiybeZvNjhFddg4OzTxrh8qyTik6jh+G74gRPuZS972cvXJq/tOzm6bP7YyQTOiQ+bHvrBH41BQE48Kbqmqy4ugGtgSMpwWkJAK3xZj4ytbS7XgXN9XQ9NDcx1bQc/FydJaJ3dbOG6+YQtCji+SRR2rrW9fE7OGV6cdZ0GViyK9MmT4sYCueHTASWGrCDgLN4yXW8ELpZEfWqGnMPecxa6PGZHyNIZF4K3DNuqvbgM66qvyxDOHWIDt6511ydD2F9sglWbzmaDZucONaA402zralmGHEVTA0GifsjyXEdZ0AUBGGLbBr2N7NCvyKuCq7ZtnQyE0psoMnnWq1A3Ntp2w7qTLpmDK6ugqsGDOCC1HMY4jdnbpWq0CiP2TAmGaAhzM2T84CE+LHoT9o0NSgIiIM2VbXX3Itg0/BBQ6cRoHHgH1J6myTTHwWq3DczSJEWjo7m3sZ9drX/5vHqu0mGS3ZhGNyKX2W4yuFnUcV6fQTvXbcGnceSSsOfkdmihdNikw5lCi8Nc3bkAhxtM1IYqm8xO5ydhM1RVE6Up+DpzKA5CakOcURz/XJ/euvEtH8pPboQ45jgaO9yS55W8bATMeOWgeSA458WHeUH55aP4AHP/uHIve3lD5PUwudHh+OADkU4EQyCToGID6WLxzPtselSVNZDMj0kVcHTmTB0u8OMMONsua3tj2aHCzJMgHlzQRnkUcijLJJlP8qNFnMP/w+8ODkgDt9n14BuO35MNXbutl5d9UykOpUJ86suuA7qAI2KjnJa8BnMEcQpTHWfpgNT7SwdwRX00p8YOQMLundmrKxMAhHRQNe75+92vfyl8YZm2KDWGf+84xjDQSINJct7SNMumEx0RLIeyadtmmETxouAgXldNfGHjM6vP2+Fe07yw7i9aU4NzhmkY8YHqtuq3m/ps2d3fcMK2daPWdeKCNOL0eD0IbmLiaR4ZbVeb1Qt31/fPt22lpymnJk9jHXEqumDrwiurL91wZV3ZBxae3wBd0uNpdFJ02oKQ6YPMHOZhoq1yTRLokzw9Snug1HobrJrgsjWNAuYlRdQHm86sh5tJ+p7b2bsej44XKG5o+9hgcwk/kcV28yg9nSeLwiTxdFJUl8tmtW7arqk6zo9aBssXLtbnqwhH5nAOAhdqW7blptxwZiQd1Fm6ePd7JzcfkyG5HQnaTnAR8VrB/xgnjLECY8wLg14DGXV72cte9vKq8vpA7qVC1yPOR9idtM0Jdzqenh68430um7eb1q62lsMHc45qPSuSm0f6YBroUHOsKWXrWiU6uTG3SdDqfigSG6q6c10W16kpXeeqTuEno6LYde3qFhtT1obLVXnnxfryysLpdtYOHM6YH2C3HT89V64dGguWti6j2plta+8tu4tl1zac0CcewgKVAZpmwSK1x0VwXDiD/aEXBq7Fi3lysgDEurpG6U3H0UiQEqVxOklRbdA5AJ/OE8AJZyeobXtVNvc3qtW6j4Zt0Kz7dtVo0KrScT7xZaW2bbhp26u2L/uhC7tmAAq3oGLbiqM9xkloDPabX3ADg8nJurqs7KburjbIOFzUm8+ebT91t/rcWXu2bbbAWBdOYnM664/z/tY8fvvN+Kkbk8dvhJN05Zp2EqdPnOiTgoOfHSfDVIcx57uZzKfzeTq7GRe34/QoSm4SRIMax7My4KazPPaDgeEoJZwmWac6XUw5+cAw1HXT9K5G9RsXVypYomHRgUWDtKHmaIh0rikdyXI6najZYvHe9x68412BToDinLQcNE5wDtcNNPJUkkecjA5agTFeRTsRBZgfk8WC5qK5/tFiL3vZy14elq8nyFH4ZoV+ipN/cmybXsto9bMnnp48+a42zOgUgQGbym5Ltyr73hEHTdgafnmlgtBCMhPePqwzsCatXNit4ejj6NZpeLDgpKHlEDTwcMokeRRlrukC2+axylWQtE5bfsLWcTwV19p2vd3AfeYHEz2Jg9C1q9X28mKwnXFucD07xE/SuEjTw2l8Ou9nWX9QBE8chc+c6CePzPEUSANHyl4rSYz8SRgUi0kQBdty1dTbQFurrIt6Gw2cA8+1oKphP0SxAdEDZ5WZdOI8neTJLI1zeP7qqqwvt3y66LSyqt/2zWVdl13dDXVly4tNt2niKE2yIkrSHoQtjuI8z7Jikha6D4e6sxfb7sWVfXHb3t1Ud5d91U5n03SWO9QkaCwOLvAjMsnJUbiYAu3Ba+M0NZyXKGiuNm3Vhkmikrx1wNYwAi4WgZs06kYUH+XGDt1n7rtfvdM9d2a7JoyDvq7a5ZIz4wVus77aLq/Wy6Ub+NauwyE0URDHkUkTZ8Jq6B3APgO4VZvNcrO62m6dGtL5dEiL6Pbjx+9+n85zIJMTNGMPV+lpwgh08uINSAYVoQ9akfG6EmHy2P/SIxzNfIosvdDmlX572cte/vcoX2eQgy8JiXEgUQr+h48tB8t+80k6f+abo8eebVTa1r3bdqay4f2lu3Mewu3Ca8IqjABcaL1b2+lpMn3yhskS3QXBqtt+5r49a6YnN/InHguLom+HbtvoKE5nU5XEte63yAQM25ZB1eScnE3J5DcONA4BwdtQJ5FaZHZqgilYF/Lm8TRXaUIXCIcZCqb2KsQvidUkGXrbXlw1l6t6venqZmgbA8zWg4mVTkJV6HAe20I1xvZJYPu2u1x1l0tbrru+CQuNXbCOX68DqNq20SG/s9Zx0nCUkd61QdCGYTc4MMteJyC2DksT2bC+Wq/un9db9tXsWztgWbWqC6KITwk520AHLB9mWXFweJAcTPpC2cgZw08eItfnKOfS1p95sf3cubuzal5cDVeVu3tVffHFYFk291bBZRdxpMk4P8zjk2Q4UslJGiRBV3Xt86vgC8uiVsBlYF6Yqs42ABJ+iKAGHL/N8oq9N7cWx8OivmGEVoqOjFVhFw46T0OtIxdUm2rZNCrLi8VhNJ3boxvH7/twfngKKAM48lG2oBwPvExh5HFIAItnjCjme+iKFkZYUbN7gMlL60GYF52UgAJZ5iv99rKXvfzvVF7HAM2vLIA4/hHpGJbmNl2QUnEWRmZ7dhauSu168Cfb1tXFkt/Mgc65PuLM0UFvBt113cUSLIiDDi9LMpiqK8+uwJXMJIdDa5frbllaZ/UkI0VbpHaRqsi4qy07koAzqSHg7DyKs9lo9k3k8MGxDk4m6hAoQNaA8lExuEjASbMqQTjTONVN352vVNXqqh1WlRmCKM9UDHSDX7aag0LaXgccH7IwXWH6ScwxtWwPzw48VnXfbMo+dMHMqIlSioMjDyrcLFdNVaLmZpIOKffYbhrdDahiqKOIwys7OOh0kkRGOemkYmJjN2WzLQHkcOnldluXpaW/50BodNs61GCvGbiu61wT8T0h9jWKw7S5uy5/40V3f00s4ohiWmVxMMuS+WTg6KCkS5z4Jwp0GqgiyKbx0HdBHbjzprm/DbM4enwWnRZdPETTSXF6zBkbCCYD0FkFUV2BMIZ1G5brxtXWRInK06jIoyxtm7at26q32fFBPpmFKimj7ORD337zXe/n5Hq9xW5ybnSAHBiZgBWXcuUIVj1AJGyQjyv9UtJA3xgQePMBn7TDuZeIT9oJwi83+C2WfceTvezlDZGv9+NKeBw/ZMVAr90Hmn014NSoCfKjW4t3vdctjlsVQx+dHg/TPExSFaecJ7VuVdPFrQvWG7XZ2POLCKxqGvez2Mymuh7cZ+83n79L2rUowlRra+12S0oXmGI6jeYTtZiAu1XbjQ5VBBzSnMWz7tqmbpp1VS43/ETuuEifOIpvzoM0clXbryqADdQa6Lq2YI3hWTW8cKU3bT5JI8AnQCrWURYTn5RqqsrWlQFc8VsFo+D9wQXTOJjmNo+iIi5OpvFJqmZBWAxD2g9ZqA/j7AQUpy83/FIiL5Isiuy2Kcuqj4ZolnAK8XLTd7UFIZzH6tY0vSVTdaseBYaLLAT1xFFsKhkejHPFac5O3toEhyKKTif50Rzs2bXgU0l5Xm4v1sBiHPQ0y8DJXKz64zx5iu/kTBbjiODkJFma5aZXTZCqpmntunPbtq/tYIdqXQKYB2wzTbPTUzOdtV232a639RZA0SLS9tvz8urOVV/1WZ4n8zw9mS2euhHP83VbnjfrIU/iKEMVS6tmz37LrW/6lsDEtuNEuAHgvLdo/fADEmCTPJAESgGnZEn08gGgVP9Q5xQmiFw/w7xOhaUPXIs32Mte9rKX18Lk4EKuf7vmMR0L/uFtqCVTAMgB7HQos4MFnCYsDMGn8gxkqVleRttaF2lyMO1sC6hlJmfdatvWZRgFwJXA2rgbOts1wZDNpqEKe2fjLNY5/KfhnJ11ha3x5cymYu+UqsFmgZTuouy3FWiXyvllG1xhV7fNaqtsr7Sqqo1tmsBxQEV3WRkOz5GZaZHMisH2nPVGabDMINJDAqyE9wz4AE0FKon4ghHlYaOtc41DGdwlzkqA+quuaUMgtA5iTnAaDSnnRNWxwU5zjo5IxiTjKM2ttn0YKJNGCTak+GlElCc6j4JcqZOpOi6AqRE7dHRgTo0lquCwdsD8RMexwQEIAw70b44I7XD5rrL91nZl16xbUEk9AfJNOWJykYDhDToIM9Bi17xw0T+37S5smBTxAqwOR8xZ7CNnT4ibug6LPMky9uWZaNCzviEc1puyW6ONsAFJi0LTVkG1ts1lO9R9kfGFY1wUOU+QOrt3b9s0fZoknM4n5pcgT77jHR//HfHhCXYEFVA4drxKcOT4bk2uFeFqcgkJq+OlhCivh52MoMV3d5Rr9saV4BsiNFBssUEhugeWu8JY9O7n9b+lsmdye9nLGyKv/XGl9xNYwpv4BVreVImzog/jMgj5UBBmO/MoSqYT27bt2aW9WqYxAA38pOZM4m6wZdXCuxdmiGDchzKoFVr+oDEqAe3gAF7w75y6Lea4GhzQajrhFGS2ByfryppoEoR1WalJFi0KDv4szrTZVEMzxCaCqw27Lijb9sX1sO3jfAJAtbYelEPRIEB9y73o0wjW8r0DSg9IcUIZ4lne29nKurIL2yEsO1W23cW6vlwO2xosB45cG5gGjlON66Bx7bYmxuexLhIgZVi1IKAB4CoHVitX1XwMm0RdEgyzND0ogIuuacmrOsC+DWOtiqTKVJ2YIk0D9taxahqZeRanRbtpqrM1IFwHAYDKANXNkDw2T56ZBcdacRqI2KICbatb11/16irsl5Yz7QVDW277tuIsCPMpP4+YmfTtN8ws4eiSQDjXthsYcAQvHILGdg7Hx+mmCppVb+uA+J1qwHM6mdiuX55dduBqfAYaTfNpgGbC7Wee/e3fP3nido1T5qzpew2YCgfHDkYcLQCYJtcGBdeLXDnXgEcFA/yJagdZXnwMaOYDkn209HJtLoGHk66LuQ78Vsge5PaylzdEXtfjSrgYeWSEIJwMVvAadDaylN4eACrAEj2bNLfhSYcgmSwO3/1e9diTNkjaJZ8WKhsAF6I0CQ+K+Gie3zgIYwMS0eqhy4IgVdV62W/KVKm+bvptGwym7IMwT8GNwPWmJ8fpjUMN8tAHYE1qlqeLiRoCzrMT6i7R+sYie9tNGwVgilHT65avhTj/GQpCVfnuz9XrVVeV0STrw75ebUOYgRfy8zNOhgMeBsQJjDKRCeGsgzAGgVt14WWt1m24bvqrEkQjOpzGt45sbvjld90OZRPUnS35qYOtWle7RKV5MUvmiz7W62oLMIb7b6u6vFy2q63blv39ZfvFe+vn7m3Prtptg8oleRLNUptwtK0sBT1ym3JTY2MurO9frZ+/1zft5HCSzjPXN+zYoTUORcABlNVQu+airF5Y9WfVUIdKFw27gWpVu+ps1ZVt3wbBsmm/tGy2VZgadqeMBhcHqOjGtYBkHKRytZInnBy+GUBJzuoAZqiZAZAD0KI03W7LugFTNs7ZRV6ApbYHx7e+8ztmTz8BzdC2AZobA59U4nohIZMnjePjRizJjnl5UEMLGiHiBSZEKV5Bcqn5pdfj34s8w3wpDo6WvoyxmB2kym8ve9nLW19eI5OjqxDfAq8i8Mb4A78h5ImpbGezie2dCp8iBYEDUqRFNJ022219/yyoa9Wz40lvwjCL0NDvwbqcY9f9PHGLPJxk8ICq68KuDTrLQbDCSCdpGwVdWXUXK3YhSUDybNB2oFoAVaJv17Xrsms7fux9NE1uLAbwok0JEBx6p8AgZ4WFnbUqDgc4d4CG1mEaW4BYaKOID1oHwCpiZctPwTnYR8eKDkMMEgnGiG3xSIBPapXGyckiunmgTxZDpC1cftPattM6MlHSt7ZZ1W7TaQvGFQZp7BKDVoBMuzAMoHGhM9MkRE2qSjWu74J21XTbSsUgwqBUlbPtBNyp7geQKSD5oF0D3tRHh5PZYyf5tLBlU56t+wZ7ycl52rNVfNXFy7C9WwVb7A54cNzbCKimje6Vq7UNC0I8JxVy4FUouAIZ7dZb29sq7NQ8K+bToe26qnOdw1rHSRCYqrJNbU2agMNNjmcHxzc22/L87HIIwNNUUUyyfDrkR7e++/9w+L73dGjjdBbHjINnA5jY5JGmkL8g5CKSC4ZXBy8aHh25urzw8hljch35oBiIHqm+BAZ8ad5crj+a8Pocf0yUXP5ilICXh8PfKNkzub3s5Q2R18LkxHVcC33LuPYifoQuhlbibCRKH4MV4MfB06n81u2DD3wwOnmsrUNbddWmbJbboLFGRe2qqi7XQA6L1n/dxokJDvP+IAEUWdsFDhSti6Nicuumnk/MJO/qprpa8dM4jnLVBZFyugcwaKWC0tp7y+ru2eb++aCDYRKB/+npZMjT6NYi+6bb7jSr+dlda0D45imHYH774XC7qA2HX1SRBmK1vcWuJEoBaHt5fthHyoLgTdIojrt103DigiHE5jiJAp//AdgQ10BB6wiCeRKDaIamXdf1qhpsn0YmNvzwIMii9PGT2bOPxQcTYoBScV5MpguTFCC3IckRv4eP6i6V0b9MHGd5kcZpPp3NHr8xu32MzdYXq37VpH2ShWnam/o37rWfvq8vXeQiNBXMpIjTiTtr3ZfWYdM0pm2OVf7em9k33wpOJ20MtlnVm2XAadwbAwBfZNnNg+LmUafRbOCDzLbqQvl6oiqbCgVkcTLN8FscHuFcnr143rX8KGF+cDBbnLQmX7zvA6ff9N4WFW9xQmzAT+pw1jlmDKfA5RUgI54IvSL84crwVAtLec26u1que5dQKQFcV0wjYtKi9+iGQga+O0VGh3YUp4JClPSQHaDk54Ul7K7fh/V72cte3pry2pgcHQXdjW+Q7+BN3If4j93aN7NpKUt554JcdD1oUyfFNEjTZrPWtuU348CDrtcAoUkGhqNSAFLSrjb1/auhcym4leZsnM6FIFRNWYa91XXLj8Hh13rnuhawCpoC1hHEWqfGNs5Utq8bFw4deyqm0MsUreCSqh5aPc/iOYeupFfluyL2aw81h4Tsq5p+dMLBkVMNuBwcKhE6zk4XGcunZT023YMpgjnBqUID/Gttv6nb8xXAgd+Pm9iuKz0EyXyioiiwQVC1oFodeBQHg7TbuuztoJIoShPVtQN+qArqu3Ec2zjNgI9JlkRJnGU5cK3nK0ETh0DWrtxUgE/U9OrOveruZVQOAVAl4tQ7rq4jxQFNbOU2m42Z524Y3LILSlDETj82nbz3MX2S2822P1s350vgbXpSBOmAVkJ8MIummTJhvdl0q61/tFvXwHDT9eCZNlBA2UlWFDqOQImXZ+vqqiTqHR5M8oULJ8V7vuXmRz4Smtixg48MeRkCTAhcuApwyewaVuOVg7OGtcAOedgYkfi1eAYmKZJHLisGfJAGu0wMsAwJ+JhEZMFrcCc7VidW33jZM7m97OUNkdfUu5JCvBrdzgMRvfgd78hoIQgnebBCJsQ6AJp2oDqRmc8H+NP1lWpbZa0aQn5n1TThtmmv1maapYtpff+yuXOhSuBUPyili7zpuvL8sr9adesSkANwAsj1JUcbgTRNFSS610FXNaYPzTTvjyZukabHM5NEru7CrlfidYGaqKgifVKDCvvaVvcum4sLDbgaBr0ooqNZD5zhk0whCoJt3CNOOT5sV2trXQ6elGUBihpsUHXd5caeEeRA3ZQKOQ4ZCk9RHxUrA5Dr26q1lc60KrTt3fb+slmWOgSYogDLCcXPN+7eRr7tDpttxWevsQFSoF3gQA3L1i3r8rnl5efOg6aN87gD20w5YRwsXRLqwvDoy3ftbdkAK5PTGc4KZ3XY2DA3yTHwLNzeO9v++peGsxr8LD9ZhIvY6i6MQCR133drAOfFJU4HZ8CzQ8Xh03TL544A2VRF8TCotnPNurZlr7pwOl9MDw85NujpUze+/bv0bN53DZobPCPXCIc8iMllQOLFC4IRWfnAQ0u5XBAc20mMYCcQlgbTwzY0kn8vcrnJlYawIsTRygOfXIuCezyJbHF5qNvl/UbKHuT2spc3RF4jk6MvodcQtzOKBPg+jG5j50RESddEv8JEwBG4T+CUhavjB8nRYhZGplttbFlaaznTdddHlW2uNo3u0+M5nzlVbbvcDkq72KhpGt+ag1T1yzIKORUnRy5OY+JH36tpFp/MwnkaWAvY0IZjgUSLKXy9bRpX1a5uwpZd2NkthvMVDKruXcnZ1CKTRqgQPyIPNbJmmU6jONKgaGBsA9DRutCoIYuHaaIXeTjN+BiuaasNaFSPAuuq7tu+21bNZsth+Dm4mdYRh5TmAenDdrNG0clBFuRROEvMrMiiTLWgmnLwUAbAxILi8RFpuy3b7RYAjgPQAa44fksAMtuzi4oLlY6POA94dHORFVm3wtFrk6OieOLYHMwA4JBIRyaLAT04/vVZNaCwOGxV47oqxQ5aHQ9xPsn7aKibFQlpyi42rmpcU6dZipPMviJ8CBg6dj9FUyAOwwj0DCF2c6l7ZcM4yWcnp4HJ+sXJyYc+nJzc7Nq2dx1aD/5S4QfsQ499lGuDQ+EQqwRZ5ALZ/YvsCNbD4g8PwYnCvCzs2nBcC4JJ2CvGJVX4H1coyYdGnJOgt/zGyh7k9rKXN0S+JpC7dkQUOgY6DbgpBDltjjz0oyMbDcSP0JV4mzEwgCXRht5TfJzW8Xzh9GD7ktn4LJMzsQGWgF46NRz5yfZ949LjQ3O6qIdGpeFsOtF1DyRQOuwN3DMfJDYynLG5MVcHueGIkpy3c3O1sZt6KJu0H3JgKiCnc0MHxmeDulV8kBe0V9X2S1dB1XNm7jTtrR06+PbAAr22lULpHZCH1eXTxlQPRdynJgJ+AH62FXhWlqbs+p8m0elhPM8V0AKpHGvZACLceus61zWta1szTc3JNJjGwSTVkzyO075z/NggVAjwaWRRhCZuObx/DfYH3EN9wsaGdYcADkgc63hRmJtF9vQ8uj1hPc/W7sXV0LhkPkWzAPjXlR1OV5wmrqya9SbO0rBL0bCIDtPJ2w/mt+b8eoFfn2OnulbX4UybgyxcTDSq7BwpXRr3GnuRtZbfMozf9Q+ms7gQAPXGVdIiMXG+mOtkYrP50fs/OHnqKU6cZFuO3MWLAyeY3WvBLRnkNYTrgiN4X78P48UhLaaHxQOPRx9SLy4lzKIIVburjIIgsu+yPEiQsOSWFP/vVwwwlflk+ZKfVMf/rm1er+xBbi97eUPka2VyuOFH4X0v/okrqr0vQHzENmICgQ0JSBIFM4hvYyK8IHkdx+YFFMxmNo5adp5sQbmGtg2Hvmy2zXYzVHWcmGg6qdoOWQEf3dWyvViFHYfOiMLQds2QRNnjp2aWt6s1frbp3LbuNlvb2DhM6rNteNWlQ8LNg6mhnmtrL8p2tYG7VtNcqQh8Lli5oORENAA+ncJ7R31VdlebeAAri1tgicbOhX0Nn2/BhtrWNRvODJCFBp48APjMp+p4CqJpDgugEQCOu285+CS7o0wLsD0HgqPBisDtgg4MtWxDhJ1znDxI8WVlpG3Qb8ttuIjzxw6CVLV1mWoSSpfo9GgazdIgM0GhhtjhcAH/1KYPt/3QoJyh5xBom/YKzM+YXq3uXtp1FYWpXVuN1a2sL4LKVUB9Vdmws4PqhkOdvO0ovnlgiowjd5V12PUhmOAkb4dhvV4P/MoCPFYFNmpKNE/An3MOBK3MZDEfsnyYHh5/8wemT7/dovViG+4R37ti59l1RBCMh06uEYCUoAivFF49XIPejRa8jqiU60mEyfzbrXxhoxn+ZYGSRntvgbikURjlP0JUjvl3qRJ/WGDii5WYT702fu2yB7m97OUNka8Icri5/Q/y0C1+7REe8DVZANjknwgHp0aco3pENj62EodHqGP3DiFxdMkgbmz4w4VGcX4AAGyuln29NSB2rlXYCkgMWMM0So4PVBtsP/8ifDrow9B0HP4x1LaubddFWeISpSdpFqru7nl5scSGlLW9C0EJu2Vnz6rI6bbpOs6zZts1HHwQHiT65sSB3xWpmU6AjG7TKr55CuMsARiCtvUO7IqvlTh9TMZBvGxVd7VNsiKfzVGBuAv7bVsuS9sNYDogfSEnBADylpzoB3sOGJdRK6M0BU41m7KuajtgB11b1sOmi9jZpOnWjepUWzZNuR1CFx9Nk7cdxrenySxhR5VI5Yez6clhWqScE6AFiwqCpuXX6BUYp+1K4qbSoIN9fV7yeWYLlsmxXVRgysuyvNyEug/zwMWBikyqYltxMJUw02oa6TQKuqG+2LSXW2BsgEL4BYRrq5bnXEdNO/TWuBpVU5NijiaAIn/Nw3zSzxYH73zP7Om3d9rgEOKEksUF7M2KK4EcTn74H3FnBD0J+gAuBwnI9UIZV5QxRVT4Fwv/0pdLXGO+pABAKY8LJChIJZayVaIbl6KQ0lDoWBsKkwXbrnW7VFru5IH9a5A9yO1lL2+IfHUmhzv7+ua+9kFwAYSrEcXEFXj3wsBoAB8jnkleR3lLsR4DbOwT6BDmeIbOhqGKJlOAXVVtgtBFsQ47IpfW4Tg6mFZB2w1NGxgTaD517Osa8CNj/Id90zartQYWgaMU6eTpm9HBtDPwtVHc66GxQ6xcEraGI5J0YauOkuLpY8BnV27o3RaFmyZtWzv8lS2AE046ylKTJtwccA6uE8A3K3SSgCCqZtDNELYgOUA6A4RozpauqjniVlUFZW2Ajx0/yDNZwn7z1sXYy2VVXm1Mnk5v30huHDoUutqq1uk4VlFMhsOvAEPOAXQ6C2+lYR4qvrgM00mukwjNh3J5ub04C9sGWBsAqKvQnTXuvGIbY5Hpw8I1XXXvqgdAOdv2bTFNdUy84+ypkep1OHniJJkAqksgJYhaOp2YIHIXtb23bi/LoOFLzD4AGQsCk4QZKOnU6KJZu3qJgzuAw2mOChrowfQmCY5Oj9/5nvlTb2911HIW256dPeRiIGSMUCHLa6yRJLk2RD1aeUteGjwdgoSixmK09CaKG8AWmPE6s5iJgkaykDhELHeqUcRSMvJqvFaJvFTjf4w9tHwtsge5vezlDZGvGeSIXVAIbnkNl4F/6ULHxSWS6CMRRKpfyuo6wMFGhO4h6NjVTkautJ1SejYPta7OL4ftltgQBEkSs8BI64RdQuhATdQCTBJQBc4aB3+M4lAf13WcMWACWpabLB2yKEyiODCqBXFy+ngSP36Y3pzrPCY1s7UCClRVWNmg4WiU6bRI8lQ5FdS2rSqrhkC6NRJQAWSAS9SfXfMLqMKq66/qZr3FfvZBzzG8AtWZIZnl3K+qiQY+8GOffhyn1jYleJPjxHHYX8BYxDHJ2s122Gx4KPLUpeBZAYeUZjd9FU5NkPNtYwjM7ofIxDhIXQvG14RxaBLToMyNG9rIrUEPrT6aJE+dqIOiBlNsGj3L4gmOF/BS60WanAD2Y06iAEbWdUHd9ChoVQErdZy6rQxytrFm0HGWtTgV4H+9Bm+rSxvpvF331VUzNEMUSdcUIFwQoRUQndw+fs/7Jo892bG3EIERR4kci2cZC0EW/BCW60YS/PXE2KihUCVXBleMSy5AJXWipYiVX41ByYSlN/eGcmFy05LVQybt+JNsOCMSpErMR8T1lzSWEJ/Xi9fv5OHw1yB7kNvLXt4QeQ0gh/WD+xwaLP1LFu9m6BG81j+llCDW/od/YJo4PMlAOsf+g0J7AFaEu3gyU1FSbzZtue1AN/itgQoBjG3bd027WXe2DhaZujHJFxN+XQeSxI8NJsm8aPQQphE0mwswngsQuyRQ9XqDLXWhG6IgiiLgDT9yK6tuVSmQod701dBy3rUaIAuY6cqSXQ357g6/EFwNyGRZR3Cxvi0bkMVh2/JTBOwv8quAPVoO5+poEs0K2iy3BB5OHoQqOBwUned9EgElCFdtpwBMTc2ZV9kHMQThA05mGUiiKu+tcIhMFirbDGUVuEGbxKJWm87VNsqz5NZRyCEus7DVAT8xUGqSmEWh5Mv0elmZSTF76mY8K0DmOoDV8STMo25bApeU5ZgpOEdt67abKlvMpk8cA75QQWVyO2BjAz/AiNiXslt1/crWy3q7bMD2imKamDiL0jjJGxWntx4/fe/749u3W607nDYg3MBx1nD62eTgkaP4J4dyBVDk+oH4KK248uvxwvGGXyZiI0UiMubmYlfiddEQH2KxI7iyQqgZGxxjObsKQcT6uhwfwNLLTsmFDz8U+BpkD3J72csbIr7Z/ZuUl3gfwpf4CdzxfCQkGjgFgBGjgnD+qzII1xyoC97ba8jeSBgcsEOGwwAQ9KG2vSLXUenjT0/e90F988nBzAAiXWn7tW3O+WLJuo44c3Xmyo0NbTiL+0IDIdreqsjApbmrTXe5Aq+Cg63rpmwrXZhskaUgf2V59YUvXXzhzupq7dLULBZxOh2sBgAOKP/58+3z97abq9o0W90M8ZDEUdA4e1V2q9a1QQOQ5as5/GztusY2QAXgCLv11xVAKymybDFPFwfRZBpEMT8TBwQTOsKkmOSzRX58mN04zI4XfSb9M28s0idO9Dyr60p11nB4EhVN03iWmzh2V7Vd2aw4iPJZU7r23qa7s23XnQtT/IZeh20QcuTofkh1W9bLT79QfuZe0ppUJfX55vyLL55fLIPpRC8OgNjtpi5XG9BalcQ4MpzZIDd6kYCNur5WmVmV5da1IKM2Djucu47fegDZh84dTKaTgt/fRYE2cdImiXnyscP3vVefACCRpxlsG9omcJylnV9c4DTzgkBbgi2X3fgmfJjpNaIUPa4DuR68hogvcdEzib1td+ITxrC0ql6i8WEPQEjlFSjXpChEaIkocyJACBzzejBj9gfirQQdpeCd0i/9by972cubXX6zTM7f5eIURqdBDTGN+msfMKYFDzgcl3A0DHuNoB373HFqMTg8LMTFIQoUHEDCBtdZIGWSR5MZe6XUgDiOogWsQFnJNDW5cX0HH9g6t95sVD8oNzRVVa63Q9WYVmYxLdL05mFyOGU/CNcbrY3RHHYrCHUSpzeOJk/cUEXSgk2dX+nWpUnMb8+PpuZ0kjx5GN2cqSyOTdTVYIWd3XRdZUHXgtiEk4zv6rRWk0zdmvWHRQBsLbtuzWkQOPbjsuJQYE3XlDWYG78BwI41trvcqtq5qq3Kba8DM8t1kcKJms6ZGjApkxgMg8oSU8Tgka7qOF3AoDbny/6iMisX1iSTwBq9df39bX+xVQ3wy6A+ygXDqgFTDbq+WW02ZxdgmUoZrWK3busXl93Z2oCmGcPHuxqk1qU3J+E8aa42blWbPuqark+CPg8dyJwNQOOUM0Nosum0mE7qprM45IHp0iJ6+qnpO98RTBeOH725EK0S9uzH2ZczDoRRbGHsUAAruS549Yhqt6KVj19fODvYGSmURBAemZ4wM6qYgWoIrgnq+IMghzeQyBjiwgd9RKKSDQhIu2tLlOa3j/AYEPXDer+GIPQg8lVlz+T2spc3RL4Kk6MzEASSe9wDFpvd/p4PiWWjJ/IaaZaPbXAv9BUPYkQ4YBVcNYtlSVxxeEFmEWbH92x24Esjq/PF5NlvCp94dhtO11twKm1DE0ZpkBZDlnNOt6aBL21sWzW17lW4tbpTJstBwS7vXSyff9Ety0Tmtqs7EC/Qkj7SUaLj5nzVfuli+cK9bVNF8wJEsI/C6KAA7HXW2hpoEWrOvOOqsmqqFsXqMtClcmUfNoMB+gCIneUDMIUtmyCK4Ah11bVnq/pibYGIwJNet+uau8r5u1EDENDl5u55d7bt7q5Wn7m7/I175f1VU9WK07xqVE4tsuzGJEiGbluBPnbLdnnnvF1ttQp0kcSziWqH8O5mOK+CpjeQGLwsscuOH3rDAceohNNFNH/bjcWzj01ODu2ytnfWZjMk2TTMsqZtbOCCiQG8AUqxjxx8uRnW23rAPk+i6HiSz6eRjh0qP4QqzXSercuSHziYxM0Pi6ffPnvi6SHJO5wtEnGwNzRQSLlwCgG14GtowkjHFbRm5NzzvStPOk42/uU6kKvFX0iMyYUgQtwYlf7aIsNDPpQkFxIjkiQmcv35ZSjbYmwniPICFp2o+SqWD8u5lB/z0cwb00JADGFEJF0shM95kRT8dvG97GUvb275ao8rxU2wKSvvMOSHhdzhuNPl34sYwFh8gDcbV96pyRILrn1YOBzNYSWOjI+5ug5eF3CHBAe06WxSFM+89/jdHwoPbtWBadpheW+7frEyNs1VoddN1pt8Nu9NZO2gBt2WHRxyUEzy4+N40N295fr5+5wBPNR9EutJAb9tXJiUYfP5S/vZC/VimWRF+tTt4GC6WW7Ls1V7f2O/eOW+eNm9uK5WoIkcMLOs6+qqrMCc6rC+t97ev0KZ3dVm+xt32l+723z6Pid1G/qGMIqjADKkwjRVWabyVM/y5KgIZnGfhfx4LY2NioxKitlhcXiSZhMQRAeILfI0L9hvcWgBPQ4wj6KyWB1NzM2ZPp0Mi1jNEmTt6xYNgTiJOBMCIHzj6i9tVpdlEylXhPrQxCd5OMWW+P4tBBhvm9Dx63anbJgN2SIDlw1UfIUdWTXp6alaLFo3oNCQI19qNC/KdQPkNtNZPJt3aHcAANNpfOvxybvebW4/3oVRWPXagvBZQAH7mgycSYLbE2zjp/4cCBNhD1I83TzX/gpgHl47vAy88JnkeC0h5hN8FFcWwrwIxxx+ROZRaHZ9MYrpNRo9EMk2opfEEUQUymuh+iVCSugFuXfFj/IK5nvZy17erPKbeScn7kWcGX7wDzIuk7/3rx2EBMST8cWbpPLhFAPUM8QhRHwZ4utEJCMjoadz/i0QSuCTJD7BRKQblDp5bPJN782eeFuQzu0Q2Xqoz+v6xc1w0bYXVQjXnU+COAJ3inVUXWzqq20+meazA9cSM5uq2SzXrrZEwc6VZS0+T5k2DFfD+W9cfOlTd8v7tV331drWbe8C3aA6cRwXWZiGQzyEhQoPolI1ZbVu1msdDsXRYvHk7fTwgFO6bly36dQ0NU8c6CdmwRS0C3ugA5BLq/pt115VdtuqwARJ1E9jOzMDuFSqrG2aq013VfUNDo1pN2V3cdVuNrZtqk3Zw2QxmRzNzSSzkXFBWK03gRpMEYHQBmgLVLbZ1pv1pm4rFDt/9rFonm3Xy9X9+8svvXh596wqy+V2U9UlXxwCHuIgO8zRFug3Ldhkeb8cQB6zSQuW1gGTArfpmher7d2qrYIkmSXZBMd/29o6mUWnt/PHHw9mkxZnD9Sts0PHcdTGM8yzSDSTCM6kfP4I2k7mNr548+jDnikIQwFjWcJErhB/bVCDxViopEs+BuVSZG7EZdNUYcW20igBv8LEikjK/k1i7TctZUpJEvFNN18pKhFCeQLAwFHuiCyg3dmIcBsUfzv4pdfsZS97eTPKq72T8zc37mDfdpYoqRoDVIiSboI3Pl0NdQxizVSE4TSwhELWXNKvMT5q4ar4JApuis+yoGRXDZQEIzpBuBnXc+YB1ysV5RMdpxzdGfVWSjf9APxouqqs2GslUS2YBQJBUG/KdlPbbrBtX1cV4CafFoC68+fudFWlUrC6kH4fuKGTIYyqF1fNnctk0FGSFrNZcbCobNc5a4zpXBOaIATdOplOby5caNt6E/Ts7sEZWuMErDPslTb8pFqd5MHUAJrtst6erbp1XV5c9SUnerX8BK2PogSVoQ+2jSu3Ieq2quxlE3CsM04d5wJLmmZdV7aR5jcIYJF23YTloDd9f1GaeZbengdGN8sNtjNMEnU6cYdxdntmTVeX23bbtKWNcbAmBwN4cevyPEnyyBmHvUZG1/Tt1jUlYE916+by+fvDpkmTJE5THcZ6SIbO9F0Y6jgwcatMMDuIbz5hDo/RlAD047xwzGoiyRBqnH/E+MW3QAYUCq0HDmvCjoxyzmmCCFtHZFDjezhcU0iQi+oaaSByOclalLgeKGOKhEZjr5VrCD+GaSApPj6WzT8pgqrRROKiQJDXoaSgHM8Rd0Y+uMM4n2kMyZILr9gFXk327+T2spc3RL4iyD104wI24KvEc3CBsATFO4xgxXcxXHkNlyO8IS/ciA8T3vDHREKYhzdptntT0Da+qxszMpW9LoF5bdDWcPsWjjMqVFy40KD5H9qut10yLUweWfCaqA85bnLBZ5Lt0K/atu6AWKFRnXL54cIUCQiS0X08TYpbhzqL27IOI5MdLyY3DuGZy9UG7JHDifBjMtduK9QnmU+ig4LTCACW2jZkfxN+gQfqs713Xt6/GppWJxFwq+uaytZNXfWbGqi23VYN4C7qTWyMCztgT90Eienx0/zeTgfKcrY1gIYBaId5ZE6m5rggUPRBZEyaJVC7pg22Nti6cM2ZfaJbB+ow3y6vyqtlFwf6ME9Op+Ywt23ZNWUyS5PJhKWr2G278s5lHmqTapf0ySEwzNgtahoFURbN+JjUbivAuDYqiHWPQzPovsOe8EmyU8ommZssksMbYHuDZiVx8nBC2atE4EwroJz0MSFcMIhThNOJIJYkQh5vaEANwY7R0RxhRnCyvaXXMAfDvAp2EQR3W0GUYa/3iIkF1WLL2E4YEQXK8RctLblBIpeky1bFwF/UopQyfGncEG2lLqLwBpJNAl4/1vRVZA9ye9nLGyKv8rhSbnx/73vh7fyym1mcAnFLEnci7kkWEvZLwAeEYdoy3T+tIoMjt2NV6AtpDKeHBAemAk4DYgPmhHht+9KFDXDu4GZweKuZHDfFQRlFYVFk08XgdLVtwfOGJApiBcLVL8vN+arphrYJVvdWTWnzm6fx6VHTu9XVqtyWgwp65fgxWtQkTy707UmTwMPb8moFlMp0blQKblj3YERDq/qr84uruxcNDsHxfJhnA4Cha9zQqVwNuQb/jAIziZFL92Gf3VgU77hx8L6nsydPhixxwJ0sCUG8Dgp9OFd57gYTmXx+dGNyeBSkMcEvVkFENhUkoV7EQxZYZdMiy+N8qOx6sxnS2LXd+Wef2z5/ZuCoAYFA1rOzzXNfsperODQy2Oc6mUa6COp2PSjQ1e58e1XFoU1Mtd5uX7ysV9s0T7JZ3iXDsNDZk7P8yZlepJXtq9Y6AB7HSEvbpOgn82GyaFTE0TzZCHFw9jhHPDU9ZxOXM4uFnEy2WnhaiT9Igoo0TK4XJDDKQnjq5YewV0FYhGh2DwAZ8aV7UylIzK6Nx0TBHx/yST7ORNGNel6okkBBabJmCtOYjVUG1lHLHF4H8ekPZWcm6nfiQ95yL3vZy5tOviLI4b4VTOLTP0boZdiGvr67RQ2h/4Iw+aW3vihw6+80kIccjSSNOnbTZAlsHY+bQxTJDPSwcEPo6BL5dUHPGQFCl06CxS07v11Fi6tabSrwD9Nv7PqFs+2LZyB/Ya70NGbnv7YBz9wst/eeO7taVq1JBpOXZ+Xqi/e7q61tqq7edKvLdrOMi8gAWtLBKgeyxX11QXO2Lb9wbq+aOJ9MTk9UF2y+cL+5czl0vZ5k6dEcjBA43Mp3D27T2k0bJRnwrA/AhVCC6/lpXQjojYtCt333wnn73Fl7f92u6r7qg1Xb3bnowAhX2+7sqj27tLbpM60LcEB+Egho4ZDQmwbHyRSpAVKSqEXDEKk4NXlu4pRzxzVBd1Zv7myarnNxb3VjDkz+trl+ela8/USl8eb+ulnX4NzsNbrZbC/O67YMD/LhsOizyPb85D6ZToJZXmZJNzvUi5thehCqmGeLDRGeIwUupsDoNBicnMJ+d8rYfOEJ46mVMwVgEI2/MORckrZLSbJk1Ic8m2dmiYxXFASqsfeKL1osCUUMEA59ZmyCWxHooqVcWbTfRSGSFVGsEEe1kfIggRERX1vskyhpf/0LQ/6wFxKFjLl2lt54L3vZy5tLvnrHE7oMApG/qfkv4u9qf4f7uA9cG1CQ6l3WGIcbEKciKaRroz1jQDHiGL8woO+j3n9HBZiAn4ffVA7EBoSq4yzggerSIlzcHCZPWHO6bpJNpwaV6F71m7oD4BTJcBSHRyY6Sopb0+LmIp5mfW3Xd66q87Kvhsn8OJhNShyAJEomGfs0hpZf4CV9nw1t3NdD23UgQkPm4qjW/ZVzZW/iLFZJs2pcYMzxkTueNXHU1Dao3DQr8iCu7q0395bwh43rlqt1W1a27kCetldbV7XyGV/Pj9tsHyrdWLcsKxDVJNWRGsKy5pQCSaymWZBoPQdYxl3TcXKGLDIn8+h4FsQmStIgSoYijWdTlHC5XG03JRmlHbKomE0OlDK9CtRBFNyIhiPldFtdXdo1aq/14VTnCQhfs6wiG6kuWp3Xy7tVuXat0pWJVkG0NUWXLmycYx/R8gCe4QLAWfMuHOeErwq1wVmjUkj2g/YJTi9pHlN8DtHybCKAH68GL0iH4ALYNX1gQ7leA724aZb7INWHxygJFmQs2auYxB+SxHA0Hh9JCn6JmST5/CKIeguJSIkUX/b4E7VPGA0hfsd38qCMvexlL28GefXHlcQhNKV5b7NBTT/wkHgvJS4EyzG2cxYPC9vbu2Rvyxj/ZSvIE9ArEgLFQDYMLXLRX/JzNH5rLO9kYIPacEIyBOwQWp25aO6Sg204vRrSVZBshqjsdct5Pl0XtG1Qd+0mCJoog8PmGz5n26qsKufC2SScTa2JXBR1oeKnC+BBgQvnyXCQRifTMI3atis5PUHQ10G56TpwmKIIQlNfbMvzbQ9kDaLNZVkCwzq08rUZotDpQJlkPtdAPbC6OEsnU2Oi7XJbrrDZYIhMGwZt4HRs+sEGuY4PJ512VV2CQZjQmDjmA8zYAEA26822b8PDPJynm7a8euHF6uwKB2xQfb28Wi8vG+VcpodUc3KFs4vl8+fbu5sNsPZqU3ZNPTR9GpiTzDw2G24WzcxstWujYEjitg+2y7pd9401lYraON6GUR1kg5mizhwOWxOleCbgyMnhHnhz1BMaBHiJDM5DCM7paIETxTNJ4doji782RJB9vA526ImYmAuGeJtr8BB7cqvdVQRhCVKkN6OGZOtBOUxi4Yj7cnalUbBFXmuSyIKhYlT+/K7IJcjNSsbdj89i/Vs65vC/XXYf4G0iqXvZy17eFPLqTG68mXFzMyg3L+5kaiXsG8Vedq4GGu88/MJHRjOGfBgZSdOunYV0SUBxO2dJHZdsj4M20LvC49BYcXhJcTTwQOyProI+Mk2UN/F8qw8uh+n9Lr1Xq2Wtqlq5Tg/8isDWIC9Aq3oFwHNhF02jslqvV2unVNMHl/fW28tqu7HABMCTKfLB9Zuzi9XZ2XYLkFmzH/66tGBsURQkiYlzQFD1+cvLX3mheX4TNMaFcdkHy6qpa2t73aeZidJwbTefP7t8/qxy1kxylSRNYzvsyrQwNxZqlkeR0kHfR4GbGgVYXRRdY9vzdXu5tZ18PKGj6OQgPln0agBqlduNAu+cTofUtMqqWVrcPCqOD7PpJOw6tylxprLZNFscTI5Os8mh7jPbGVPMzOHMzeJglsQHk2CatUWyjdVmGPhpu4nLKGuzqY0nzhSDyaI4NawZjjSHTAHmsl8MwoodTwgLCBl5fwpGJ+dRXtIJS5ezKadKLhsPM4SnMSCnlQ0VmskVwSIll6RDPMyMcTF8EJb1qPQXhJjKStLHa0osUUNcHrtMhEMsfSoEhjtbCjNK4miDykmyxLytN8dm8YMaCZLmd+Ohkveyl728eeTLQY63rr9j5e691kngWvz9Lis2d4lCzCZL+hafzlc4dDSjpxEdhKFr4514x8jMUipjLIWwx1EtZVpqajie1tiWlrLFsVqthjjV8SSMFq2ZL9v0zko9twzuLcP1Rq/KsLYqihJIkGiXDKYw09NZNJVhvZalXTbNVbu5KLfbbr1qNmfLarPtwqFNw2GR6iKuaoDdGnUMlXaNXZ0vN8ttOJh4SNzWcdvFPJpOgH9N6+qyKTfN9moTrDt91YbbzgxhOp9kN4/iG4dVMFxcXm6WK9s1TVcHcahTHaSKs43nMYe6anp3UZYvLqt7y67pVJHqSLvN1nQ2nxbRHNTTVLazcRROJrZx1b1NV7u26XWcZPPpYIKqK50Oe2faSxtcBu25W90v12ebduvKjbtYt/fX9dXWlp3e9GbtojZIhnAi30lkJjY6CnQUKsOh0LC/PAs4gZxlAWROkI9hnAV2bqQGQjAZz6VnZ4SBHfVCkIWMJ5shQiLTRAGh1SjejudXUj067hDypZch0YZKsfEmuxQJyYd4PpOHpFHEANsgg5TUnbBqXNO2H/isgJajMEGikjyGRKjHkfBhiY4WD/32spe9vDHy5SAHwT0pLmP0NdIif+g+lSAXYiKJY9OcIMS7XRrBCMNgxCMReCIsWJz0YmCXPTo/wtuYX5yF+Ex+70ZrJIjKMwYUxidi4IEIq5AfkEuH8ogSw8ooE8WZSqZNUFw22RfPw8/ccV88C790ET5/1py3roqVy1StumW33bSbgV+o9SaL41leO1s1th8Uh8YKlI1Cl5thZtxU90Vg074J3WqzrrpaF2k8zVURcYK6qLdxOEThZrO1LXiT5ivEqk1UXExnAFbXdu163aw2/AJBhXmRzdIsHXQSZ30Wu0K7THcqaF3fdAC1brss13eW1ZdW/bJp19X58y+c3b1TVqWz/Xa5vXzx4up82VqQvLjdtMPGuTXy2CFKgmnexeF6vVxfrDbnq+X9VQnDzbC6s10+ty3P3MWXqi+9sD67bNeNKfusUYVV0yCaKjPhdwZRosHgSN00v5SI4jCKQjA2jSjOCTGODQzwORIznByBuQAK46EPyTyh8PZyafCPZ5BLnDu5lnACeUb5w3XC54n+SoMSP/+U2oclmwgDvKheLpJLrgnZJDWS228RS6kK4+MVxq3zatulI4QtMuMoUHBFK19fRkb0Ysou7EvDrtDGJz2UOia/9LeXvezljZGvBHK4Y8VHBKrnrfvgnkcKB/8bb2YRCUPGKITOgho2sR/c4Qxcj9oLEQ/pfwjTR/jN+C35Ir01PSNf/IQDwA9RcAyIMaF0uIcj1mQc9LRIUkiN4zhPTTJxOl928d2r4PN37K8/137mefvcneCFF4MX1x3I0rIsN7bZht1aNU0aDPO4jmzZN+uuWdfVcrOp27p2zcaVpbFtHtZBU9u6hZPP1TA1fRq2sQMKquOkz1XvYF22g+1N2LTN+fnl2SUn78kWCxUl5brcXq67ukHtgHEpq2cUYCU2/Bi+G1xtHXtG2tI2Nhh0nA5xbnWs4hQlREcHzkQcf7OxOD4Em84OVctujEbzJWVkGiClVq0zTaVWy261aVfNcFHZs023rMPlVp2tQVmDJkz6KHdx7pJcpUWU5EBiErgYuGlMlBiTAPBwJAXW0GzAkeaSG5XLgIyaQn7Hc8QTJaeTCIgfP41/8OpKxNO23UXEzD6Vpx9hApKcbFqgOOFYVDMX47sA/pnEAmnjr8PrYv3qYZHCZSssn2gnm9kJ0c83pWTJFKhYTi9Eb1TJBmRTcifQBNcrdh96xpHqRcIPlU9B9IHBXvayl99ikabuSwRRcUg+QpTi7U6HI1Hcx2h9SxN4FLoNoWg+5gM0Zz87fiTOOOFu9+k3fZb8SeEBn1z5SVg4sgkDEGux4MfgSOVcNZbDgAACnDd2rutg0LVt19Rd04It9aBRDDdQIrlpGjCorrVNVddVi1hT15wpR4bGVFEdxS6OQAHDBJyL83IHfD/mOiNvAVm/wIGixLDgEemx22Fjo0E5WAjKAgdMwC4zgF9CbOPstgIXm0wmoGmoxGbFUU6OZgcosGpLZYI41W7ogCX0kDhSzuneDaCgE9QDDrKPOJgLZ2oFo2wqsLsB7ApH1zV2aFAjjhkNeI/zyLJLTtDW/KKCXy/ARvx5Ww19FwImZT+1UygqAO9DLgUIi9IoSSPOrxBzGeo4MhGS2M2EydBjBT48kL5RRZIWwRDNB0EwFeFIoTTNZ5q+dYGLQloYADas2M4wONHQidtHPkPOpxTaKBByPoSxu9JR8xokqJcD6Y2ImsgPS6RRJRlluVPw8bEP+Oxe78OogNfwAhbK5ZMYlIBkQ4URhLCqPkQ9DXjZstps5LEKXnapTL4OPyzX290J8rLwn/mZn/l9v+/3feADH/jRH/3R09PTMXEve9nLN1heBeTwL01ouAUPch6uBNDGEd8hAlQSFtBigM1lvs8YRpCDXiyw3r2Jwb9PZQHELcInoAvYBt9BYJPxCJkD8GY5+gmAD5DWWZghCpCjxgLXAGw1y0Ja09CoqQGXSOoAch3QrgW/6lrXtKMABWuW1LmhBZrgp40LtNOmpx8WtwlUQ7VYawWc4+NQDZ4TBOCN8Oom1pnR8yydp0nQoxzSXROE8RACboGkAyc7SPgN3tUGmJAXU2AHSgVkYN9wKFA/bgYOEZwn1kMc9JxGYfBPCkHWcCyGtu5tD/gF0rm6RwwI2Pf0/r3iIJydC4iqLb+js46HnMfPAqs14GQAVANNIpmpIE2SJAVdi/BPhMPf+M4tBorycaMJDKicRgqRH1ACZgf4E4bM7if8OA6oBqdOsGSYHxcI5ngDeHbBIPI/47EHzh1pHN8FS5RAzGA6O8diBcQAyOEagCmW0BPYPG4R/HwhZFv4IRWCKJY4Lz4JJ8PDznUhEntJQBL4Yy7mFdDxBlB6PHoAWPiXXNgmszGMLGw/SMyvRItyvCXlOiSXDFFtjIsdonuQ28te3hB5BZATFMOtCb28uSdi4a6WkIgks0GMsFdJkJAkAUkhaInGgxz1xC2AEUsW1ANUSS5+GMccSHPAMEkjh+N2QN84QqMDS+ltZ0ngOAyKBCSjJ3PIDHRDhHMXEMbAqizpW9uCHhLQEORsO0wC/rVAEJYBpECpnJO8Q2nY9gAI4oiP/DKPY3zxKzDUBzURMB+PD1x6HpvCcACTPFVZavCjJkuLJJH5a5rQ2RSe2rmmbkCXsizFHtm2xvbgqoEkcJV02ylQIwgNToSrttsImBpHPF5wjK7DRnsdNTao66GqAKchar6puqrCIQib1pYt6odGCKxJo/AjeoGOJQnfUsZRAkiLDSJJBLqq+IAUEEWQI4CBw0UkZWByBkwOaSRiADlwL/wAQYQuCNYAOSNhIhwiJFnYB49GZGvCyQSTZMdI1wSbsHsI8wHmuMv0+WByNJAIBQFmx46IDaEeuLgrELLLS8E58CrYYCnpNPCCsLfBckyg0QOQGwCyHopYOPGNVvInh5ExWrAcnnxmFo3fEhSoq6ylbqPBKIK/3K4vlsl7kNvLXt44eWWQ80oEpOVKsOM97YVPKpmNiMA0n0Aj2I9cjlkF3IgQWDvCJQ08daMRNzKSJdI76tkNHaQNW+A0p9CgGABRRyYHnCO5Aj0DsWO5ADkBRUAVAQ+BrgUMAgIBbvghFcQOgAcwg47JnCmOUAfUA1H08MZJ4WAJ+MHW6cYGWAk+w3WxfnwQyCpy32DCqrC+SOUuSM957mqkQ75iMyaLzARoFxH/FmmUgySFDi4deEEmI/0K6cOVRu1RhyEKojjCviIKLgZEAu5Irfq6tU3nSttvW1d3YVm5qrHdEILAodkhjAl/BmAGXBLEAljxCSOAS6AO2IofihfmRWwLxxdvfEIJxAOqSV7JJ6/fUA54WkzvHgh7I6bw5ZwHLhQWApBFSRIGP+5f1Akng3sXf0/II/jhOiER1CCVKGFgCmJIZIInYSxEBEkoFmumsXhAIwVJO9ZGvQ9A6cMPP668DvgwlrDZhfG/AzkPSl4vAWi8JS84qiQX7UjreQdIzcVASpJUCUtm6q6TRclXlSN2UkHM24PcXvbyxsgrgBxcOLwH1LxReQt7kEOMYSyBVJx3ks5dhCmUXYgrpGIFxy1hGpJ4EeceCLEC/4DAXZj28n6OCAIBhMlLOAFKP4glfsAZYB7A6MFbOgEsABuH8XJ8EdcA+UbwE5Fnl7UUyZd5gBqiJ7ngQCOBOsLVEFiOqEKOyP3A9vgukfPbMRf0HHsF9AzJ9LBI8jXw6ag8DUjE4Pw5YXgM7mSAf4FRYZqYNIrSGG7ddx3FYQ0Hoyw2weeNKIVf3nt8x+at060L+FhWDiGfFwI+pJtJHJCEAXkIX2Bg9P8BiRjQgW/QhJ3JSzRStpjv2iSr4hs3PnuEQaT4fBIIB1pGskUNciCJ3IuwJCAKnWdLAD9IDJ3AEGgWyx9YLU+JqIZnRwB2dPGM0QxggS3iGmKR5HBMITIQ8EYcgjAseMAwIFM2gzC3zgqMoOXtfRLsPJgwLOJTX76UquBcIxtRCRHRI4AFNNcl8xommWMCQ57XUXwGljX+04IKZJfyri2hZWnYnER9otqD3F728obIq4McsY26h0EOPAvrwclrOd7KVIrs1iIym5esR7ctYEGQQ1hQRIRQAu9OgR5oBGAUkBMV0Yf4QbCBWKcEXGWkL8Ka8C+AniTa1gHnwMMsQA7hFmVIJpjx3RxwDaYdSB6Hv/RZwOiIVgzzaajFfmJ7pGt8Keg5HB9ggurhYKAyoeWeoBYO2TjuiMAaQjggZKA90tlJBSVBS0PUt+ecPsNAz89ROVgSSJU8mQMCYPPQEEhQJiEUrhU4w8d87MvhUUSwgktSF2gZpg28KQM0AEphyQVxDNQSqTAWEgc2h1wEPDBFIgvQjX1JYIvcSCaj8sDGPMwrnpm1QibZKkqKYACNRziukIsf5HuNgJygBfMii69uwHdyBDl2CmUuHBYkyM7T4lqwaUEVKYE75HXcIn9yeUn1PMZ4+7EEaBD1Bgh7g+ulhyEfxbEehFXuolgxr5ghEadxNEbM670aInrkGPNSNaZex7yMNiIIo857kNvLXt4YeQWQu4YiLMc7FR4egrjo+QgS3ptmY36/gDfHWqy4gnsQpAKmkNWJA6cNSgCoeDPItdG4BbIlhMUUEDZaClqNTI6P9QBQTBIYI0KJsbXNIEwOGAVcIxhC5CklqB42hAhKItR1LfEJKYgSQTtsFTHWBrsmQ3hw21yi+j2fYMoO4x/Iyo/4Ao4ZTXzmQ126NCGZfmgpHiNOlc3HiszFbQ4D2BX30PMGfkvBDamwF7fN3oaIib8U3CJGIDoiB7GIx5gbIpkTH8uXZqBNxBqgHM0gCIGdCTASzfjIUV60AflA3QBs5H5kbDAHn5MXb3yOOWKoVIkp2BRTSeAi1pC8zXd0ZE5uhxUjWPChHlWwoZq7yFoLSkHLCWQF/HZGXpALhUHjl9AwvNsKM6IyXMsxETOIKLmkjsDMtcSoxr8vkBFR7UJSlixwnHEKqKGalzKCqJ+YMiwLsRQs9gVgp8bIWM64hHx50kuFe4Oj99M//dOf+MQn9iC3l738FstXBzm4cXqEUUGhMyEGgcvsKB7toaEadsiCgkFzaAQRF888tGWYmARLwT7GpJsl8zJGWIEV4wh7FigIxzdz3IYT8LIy3iXAi2lShiAiH/zx6SPf1TkAG6EPOMei+ECQNJG2fKzZog4sCAwPqQPsBOS4RdZQXsARxqS+IHOwCcDqQLzoJpEZP8Fo+DE4Wq4ZxCHlEYMZlLLXyAWeB/8rtAMqHHf6YnrTgXOI04gJ4iJHT89+f/DjhBH6SOiQjlT6dkEj/9JMiiJOIY9giYcfABuhC1vhOzZSPj7BZI8ShuTHR50IoHjkCPixIYGNeAI1aCRADyAHeyR5yBHU4sM8Cool2rH2zEMoYgXkSsFSqBiBU2pFI+hhxieGLEZUAkjM67crhVDJjWAfGcXxluJ8tlGgZJQ/hFECi4GJT5XqMRPMvIZoxiVtmT5WkWoEaSxFiB47hO1Shw0jhxiyqAelPVQyc+0EStmXVxABuZ/6xCf+5T3I7WUvv8XC23UMjgKFxySG6BAouztexHsLCcKby/oh8RmRhBVwZYwStORfGBtBA5ZY0IhZqMHCWtoDTohGDAKEUAeiEpSkbnxM6myLMLILEvGrA9hZgBRtCHjQg8qFACZo5b0dTYGL3ARiQDWBPZTPbPyiDFuHAYskqPGrPKxkT1k2qyl8TjDveo9QHIMQ2UvuHqDO+1CBe3pL+kTJQac86ugiJUg/S1bHQ00NFIAuumvaEACgRX7iDgGDiBEZg80yH1NRkqdsRC5iATkZbYFu8jQShEy+BKDGAwOFzzPl4SHLJ9jxmSQqDiykyxcVCSTyIy6WBDmCrlRcyoAC9UCIkMY9woJeHuX4B6HcH7/j4v2xxF5x51hRrLmknrlYZ2+DI4EIQkjgkdkJcFuMqfTZWQHmYEhSKNdZfADbHnN5AOPlNppiQzhLrPh48OXKRlhq+DKQY7ZdxutNeKUXr0TgZXrIHuT2spc3Sh7cvTuhox5vav8v6Vjxlf1OI0px6t5n7Jy9t8RCnD1Xo4MfDUCGhP4IqtHGl8kkxIAgPhf5ltddL4lwBE4CoVA64hmLQJHC4VAIigZoEc4IikAm6Zkir+5YCkvwuSQg5szJVELaCHKEZpbLHQyQwMoQj5HEF4KsEbL5PUVJCMCnQQ1zKRme0SeKE2QZ2BJXQA0kwNwnIwDvzCAfboq39iI2TIJLHlUUE/rXWvwGDZmFvMlDRUIQ8EbYD5w44EZQj4XQiF1OCHgiDPs3YSNuCTYyAaVKFOjitdCHBDxWQ4whrCJTsRo5HH60JCax2r7eAjzIQpooWuq5y36LrBuVCCAvDwTLkTqgZGTnjvPLcRxD2DB1Z38d5pKbuhapv4iP74xkKSJKHucximqgTiyTUX/CqOfVj8VoyNCDMvyJk01zbx7ovSDxYXt/PSOK478Hub3s5Q2RVwM5OGfcrBLwnhu+nA3f0WnTFrAjNh6cRHxAQIIh3u6CACgWasDPaEcb5uJSonxtJsIKcBukX8wrwOIzMpEB9vYAjMkSsMUOk/BwRC3f35IAhryuE84npRP2QAHB7GAIL0SUFNqHTAJO2IoHN5I9QhbrTAhke56prAnLFkE9EUVu8WfsZYIc0MOjUcvcEpUjjM3Ruwq6P+QZ6ZmlqIfdq3/ISRcMEZNRiDZkTKJgIvuxENgY8UAlzwZlfgCPOmJGsMGP6chK8BLsoQltBGhYiFQLNrQjDyNsEka4BO4Ij0RG8f+sga8Iai85ALXSBYWVl61jrzy9o46CXRNEkS3sBGFvIMWIntvkitu6ziziDxGzSEA2RUSUDKwDrxBJgOxsePZ21lgT2LjGP8shHCO/FzlT3hK1ZSYx9ZqHhPvM080jMKp2AjWrwhIY47a4RFND3sntQW4ve/mtFu9kH4hE6cclLN0m5GbH7U/CAT3i+JMndXJPU0VEEU+AGFy8L4kQIO/zEIQecfwDWWDGuH/ZRiW3RUJGWuTN6GsYIBvzGET4kc2xEI9YLJJPHIlngCWUBQO+fhOGh1Rkt67zmUSJJD6o5DYggmgIc9vcFjGVSay5wCRKtABUFssULn0Wv+PcSZrxqMCGx0SSAHIAePFxPEQ8Kjg0+PlUHxBPKAefUSzkj5qesAQ7+nzxv2QMNCaqSJKPQiE4o56/d/Xp51/EkSD18nSO7leYFrdHGzFnHIwOC9Ejv2daDMFirJVEkYq1ry6zSVRMQ+6qCKvH2knVWTh0fjf4SJARUcKGOimGSYwIkEOFzIhyLwlp+I162kpeCYgwtyh93K+5YBlMYEYJUin/vhKjeGsJSXzUcC3LUa4TZcHlgyIeFl+1l+Z9SKD3Sb52PGWf+tSn/uv/+i8+9thjP/zDPzyZTLx+L29aecc73vFd3/VdnLdkL4+4vBzkcFvCz3olvDyS4aIR8M5Y9PJqgxnlUaQAlhdomUzA87DwQCSvh48RLgUyoEPJyMTejJKHiIE1t84CRgzzQrdFcBT6BXtvIkTNWWIegRFRQJSAIgsS6GKYC0IjxzZhAObMC/CTQhHAtrAEZYGCcSmMFfXbkbriMPD/mo9yl+WY0IQr+jaGZKcQwpagAWr4I8ssImKB7OxkAdePsuFNR/SCMUsQQBDXTD3+xEKiVOLPP5/86Z/71Z/5xd9Is9wX+2ryaulIkzrvIl8H+Sqbe5RlBLlXEZ/OEylCfo/LBudIePMjvvtvacFN2jTN93zP9/zJP/knF4vFqN3LIyuvCnKj3yZhwV05WsI3SxrykueNAEDBrYulJBFTmG8EE4IBH2wKovkk5CPWkOtIhgFYRbgSKJFCuJDyqRCaJeUCfqQjo0/gAqVAzRd11mOSUDjCKcyQRXCOuOZBjt8eICR1gEhHFQEz2CMgUIosrIyUzjUhHakoUKgDN8fKsxMpEgBCMEKAno0VZ8kI4oAgtw/IDiGGzbJdz61RLbhFVGOCPBEEjHFLTGE2ekMJjfRuXIqT5QO6QP1P/+iX/8E/f25+cAgjlr6Xvezl9cl6vf7whz+8B7m3hrwyyPmVX2JFUPEAJkKlhIkHghZ09yLUE+0ewJsXSSIyySPPnYao4WNYXz+rFKhDIYxTYOfzkj+N39gxCo/OriLEMGYU4HGsJQoBnPhXcUhDVNCUYZbBh5lY+irJRkHLBLekFJZASuf3S17OMYFPWX0OVJ15ZJhNltg7I08RBScJq/wxThST7OxqKJkpSAEaIaPHJAKZfDlH2BIF/pFKIGSE5pIoyEZz/tN+zB785D/8pf/5l39jOlv4LHvZy15ej+Am3Ww2v+23/bY/9af+1B7k3gLyCiAnZ1lC3ukjBFc6mtFNi3gdTWiABM+NSGa8dycAkPoIf4EtwnTnAgVeGECaCOEOnp95CFF+7ErohXIxuxjTWmgYnxbCy5PWyXs7Cp9YYhOCPEQsgh/L4E6wIF+yp26iRR6/8K8JUSy1koWwB2MBVMISVAj4/USAdrLj5ItgcjgW+Jc60phr5vH/OHw8WPLvCyGwjQcQMZQDBRfcJsPelkpP5/gvGuYFlAnz8yVrpf7H//Xnfubnf302X4jNXvayl9cr2+0WTO5P/+k/vQe5t4C8IsjJinLt2QVR+AxtRAbvT2kgvp4uW0z5z64JQkYEEBgEcjCVIOcBy2tkyRRZEOHwR18vpArJow2FCimUKEetlCzpBCQEe/niGzVEFNgDBTBKSpe8NCRiUY8gDPy2uR2pHkJMxd81z4MKiCjY4mNijoVsb1xSIfn5zoxdP4jVUPOxI/cWR4pHhBZSDv5JuRgXoBPmSBCTQ4rCgGG+RwkOpVdCJJ1ETSBOqi5hWP4P//M//ql//KvT2ZzF7mUve3l9gvsRIAcmtwe5t4a8DOQQHr2qhEcHLh7Vu2U6eoj43hHXxIDJD2wYpxA/xgBRB25ZzAdFqGJRSJIso3h7GRISdsQkiC9ckiQujyslJFuRMGELwMLnmUQsj2HYIDmZ3ySShcyRBPHZ6O5TPBRCkJOiBTqxddJHFn69FVkhlRtjDxeCk6SzcOlTgCR/4BgXc2ASLaV3CYuXUsSEuWU5UjfUAEvSwZHbUcnnkTwXZG6+EIRYAn4EPE/pkKZ//O/9w7/zs788mc6o3cte9vK6BSD30Y9+dP+48q0hLwO5hwV6OnZx56OD9kiD5c6fShhOV5wvIYKWxAbvwcVevDmDwvkEPqTHCpPFnuLLBBAxzFQ+ePRJKMADEoxhxiQpWYpkmURQn8QCaUCUYpLfDEuXUgXM/MNJESmTL/9YjV2BCAoRZDZfPV9FScLhYOlQy1GhSKKUw92EIJVgtYsiicfKFyNkbOxs6Q8+zCTM8saQCPCLSCaPKlkIQkS70QRKiNioT/7U//o//q8/X0ymYrCXvezldQluN4Dcd3zHd+xB7q0h4kBfWXwKnTMWcK6Ie/FJ+If7hesfQU6QY8wAHPLYuIMCySdCLBHPTogR0zGXL5aUiCvQNW535FgsBttgzxJhZvhHNt8rxEOOzyzUCrXhuzQpQepFfEPl+FpOcIvUSd7YMSp18AUiIJWRkliUVBH4wgSoHEPUOhlreix+rD/J1qgi1CBEzXh4WcYojMrB4R9giUYPUike26gTzsbk3Yq5JcSwrJXSn/yf/v5//z//b3smt5e9fL3EM7n/9D/9T/cg9xaQVwO5cUUDem/8PBx5JZy7BzkUosVnX8toRVc8xvBPe3k1BqFzB0aKLYrAijjEHIItIpKTcCRl09ETugSKfGmyRUEvcjuuqZBtkW1dPw+FlswMBlySYI4aGnPL0ifT75pHCX45jhRJx4aQQAPRsE6ERq6wGFGFYdkFsdfYbUkS1IEeFoKAUjcaCxo9sJKXcNwCUyWXZGRotBR4I7XzIrkIhCRzf+sn/97f/ns/mxeTPZPby15ev+AGBch953d+5/6d3FtDXgXkKDuHjLX4dDGWiBcCAJwzPDQcruABBQljQEALcbhkwacRwLzvhpmsiHPkdyNzotIHvAiMSWkU4VDcpg+QYaEAhLn2dEqKYSZWT1Jk00QKpHk+J9WSP1I6pJAjctNMYG3I23wGYDNXLEd2BFq/K6iVPHeUp6kwlbxII8Ni6VwIU0OSoCR1suc0ELKL/57HzR8QYB2XDOOHRKIfN8XSaeOfYI4Gu2FD/uZP/N1P/vTfLyZT0e9lL3t5veJBbs/k3hqi/+P/+D8egy8V8dH0uPJP77n7p8CfwuuLUyUmjW5dMODhJZSgGwyPJkJeQDh2NtiMuHp2zYALZ6owFp/3WqTbhdcgFzMhHSqvEGPJi3IYwR+sBRPkX1KYn6jkoQV5Pe8hF4LIIBRQMIeM2UgDhr2wABmGGGv5IYVhLJkq9ojRSAZE5vhb7N5P4SdvnMtGxvXnPKVaGSyRi6NqceBIbfw+I4nlKk6TI6UhF5cQ6mVqG04Ox9GWWWFgOCx/7Tc+/2uf/eI4Gfde9rKX1yfwS13XPfnkk9/3fd+Xpumo3csjK4I0ryTQesjBUtAAhhDyJ7jmnYJ9Ghmh9ShwtVheZ5AAcmDBKAtESHgWC5EHj2KDKJUQzwvl9ZsvZHzkxxJ8Rm7FJ0mnSuaV+FiA3yjM+HySdR7LkWQqvMFYFEpn5qDnH3cQMWFd3o4L5pMVd59BYrMcHKrHJdYSZlSAlgZ+78RU6siIaLwIF4SSP8fPJwhncrxZD2I/0RO5kT6u+McQkpAL+Pc3/4ef+ls/+ffSrNiD3F728nWRsiw/9rGP7ZncW0MEv7660EN79w1fK57aC+mH8BiKROlnH15KDkbonFEETai/NvAiQSjIfjhY1k7laQx9P3mbeHwISRg7XdAe3EhIlswdQ/4mNiREwpywILGCggV5+iUUC/xp/JkoZCGcfU00LFPoVKxVJKyLmwBVgpLFIcCgCWXJyUPxw9bJ4ajREXJxtjZuQ8IIwJg7A6WiGRkcLVEIx/tn6XGMJULYpwBVpo3iJsSYm9MahxJbQaoouRcQ6Pyp4XHcy1728vqEXm5/N72F5NWY3LV4LBJK9OD0P8gp5CJwiIEbeTMGICOPEWFOAB7gCRZkSrTwSh8Qq2uN0CxshUwNWppLUIgjmZc3GwMski/KwMRGa5ixViRo153+yb8kE0mbvEgTkfx+tcszGkuZEO6OUC7iL2O0lNxc03LMyDAriOqglthZyc2Xft4YiASjEZYC+WBcAtCwDF8hwvSol+eusgU/KQ9zehM/xQzlx3787/zYf//TSZoB8ESxl73s5XUJmNx3f/d3/5k/82f2TO4tIF/xnRwc6PUPflX8KT023bEIYmNARDy3OF8KAxCf5MM+Lxz3mIylJD1Ywke/RClhaBS2PrpvIWRevRsWWUpmnpHFSXbZskTwL3tBxuOtEOFyjNPQ68WYJcgbuJCTdnJjTAH349szGo4mnOqThYJSUU9TUDPZCsVzRdabb+OQg+yRS3mvxoyaxY4kGLaep0pQYvxBQOGofYkgKQSPY61opP/5r3/2Vz71G2CBSJO92cte9vLaBf6k67qnn356/07urSGCEL858RRGsIe54FG5pN6njkMqk05JV0ASr13hCEgSjbxAOSKehL0dFZ5FSWwkTcjkX/xBz84WY65rGZMk9y5NxkzhFiAoZMw0psoOoHpjoZLsdWPY75t/mYd/fj/OylIp/1R7ykhTzwnlgFz/kSqOIhloOcZ3EfxkI0LzmHcnclCBZAyKLYyIwfgB8rDyGcZf8N9+8n/40U/+RJKke5Dby16+LlJV1fd+7/fumdxbQ74ik/tyERc6Omtx6N7zwptD6R0zMYC8y3tb74yxxL/nZYzuSpCID+DH/JITSqFqPgcNxE74C+1JByVAgQW4jA+D/IjhCARSEgkVwn4J9a4O3BIVLFJxM6PIRrR00QRIswQx5cJHxjBXJGEa1ZYYo8QlhIX8QSWWKBCcT3KyfvI2EHrWUTTSSdIvYaxDcEFOaIAwckm92EtTitekkz6jlIzNkQ8q9au/9ulf+eefFkK5l73s5esg1to9k3vLCInVGPzqAkuyoh01Ee4mn3tJlEWRechHX4gLT0FgDOIfa34ux4AvxOu9pbA/MacprGSsZtp4bscFouN4yXwFJy/MGIHddWnejpyMcaaKni/rZMu7bchvzMIlAwwTniQiSaSqYiBkDVtGSaJASBawYQ7/Fs+zNynHb8XHSBmJm5IKITPz9fAl0k4WQCwfHU0liw8ju7fzEaoJlgz/9b/53/3VH/vv4j2TexQE56goislk4k9W0zSr1Qou1afu5U0idV2Dyf1n/9l/tmdybwF5LSAnAa7hwAWG2EMDC6hQmlCNsVcHor58WRAPkSALSZaEnaWUzFvfAxLRZdSIjeih4thaECIcEnfYAzOvkTywFyyUXiMskSLblHpIVcnTHphJFlZPUBBVwWaZKjmp4XaYl9WQTIwjCT+WKGmigcofE5RJFaI+s+zMzpABD82+Rj6FVRVCK8jpcVoOiSSD+EFDG24FESiZ+qN/85N/5W98MopiMDspay9vUsF5A7z94A/+4Hd913fFcYwL7POf//xf+kt/6bnnntufuzeP4DQB5D7+8Y/vQe6tIa8N5HyYQmQZ3br31/wfEUIuFyZIACIOWibc2amuk3xgF5W8+PNrrxTF0HPALQE+KYVqOnuJ+LwIXieOMgLDmLTL6O1ER5gTqCNuQCELqYZsVIQ6Kcen4Z8aRhD0T27HingLVhK7SoAbyyBcyXbQCmBcypM0HjGBLPz7leRASLIwyhD1jHkDyQH50R/75F/+b/8WQM6X8ehKFEVgOVj6D9shuIqcc13XVVUFvzPaPbKC3XnmmWf+o//oP/rwhz/sNXfu3Pnjf/yP/8Iv/MLLnjbj5ONQfNu3fdu73vWuNE2ttV/4whf+0T/6R+fn56PFXr6Rgovtt//2374HubeGvGaQGwX3LX0rlCiI5IKOiZqHUrFE2OuooTXdPKLIxAoIntBz+ygtyexos6NZO2MEaDtuhRRvLGrc1nWxoESyHPVc7lJELwuuuCEGfCp1Ihwk2oMp/rktmpBj+mRWSUpBkqTCylPY680hM8oeDWgvQjs22z0jHHToqzkKLLH0Gm+JjLsso16FqlcCq7QN/urf+P/+5b/2Nx/d3pWoNvz4Y4899o53vON973vfjRs3ZrMZiA6S2rbdbDZnZ2ef/vSnP/WpTz3//POXl5c4CP44PHKCU/lN3/RNf+JP/Ansptd4kPv5n//5lzE57CAQ7t/79/69d77znTgUQPovfelLP/IjP/LJT34SkD8a7eUbJk3TfN/3fd8e5N4a8jV0PMGtJ0j0ck/qPY5AzUiqRu977ZR3NzBiSvp50IqeHzraQgV8GOPXQjOusGQnDxH21WBp1xrpbQK5Lg4LSZOiReu3LhqvgEgAZijOxxlG9XwEMZ8bf+yuzwK5ZRaBZDGRBS2kHNYKy2vxu4y1fAPgDbyNN3w4QOHWaC7NhFHk8wNR8l92lHn485sd8/6zX/21X/ylX+Xn4VKlR0uSJHn3u9/9e37P7/mhH/qhH/iBH/jQhz4Et/7UU08B8yBPPvnk29/+dgADPP5HPvIR0BrgH3Buu92O+R8pwe1wfHz88Y9/HEDuNYDwn/zJnwTU+QvmWkBnYfa7ftfv8h0fkIodB9j/w3/4D8HqvM1evnGCgwzO/S/8C//CvuPJW0Becmu9qnhw8n6V7nWHbfS8Phla+GjpXPgSkewQZvekSP74jA8xmCPnGPB2YxArOHT2KvSCnOxPyD6TOxVE6yDUAATRi0itEGdHR/wkG5Y+EWtxGqMA5v1QkDSjCbsycv8AJNwgP32DiJJ9GpnGF2LALo5ZwgFMEFRa+jqyMqyERzYsATxUUeerQStvSaF+VLIMZmKIZbN4xAi3ogmwm/whHCIglrJt1FxOIljCIyfgKN/1Xd/1b//b//Yf+kN/6IMf/CAAAJiHHZOrYBSeA2Pm8/mzzz4LFPw3/81/E4gIs7GIR038XXMt2DtoIGPyTrDLBwcHDx8KWHqHO1rs5RspLztNe3mk5SUO5VWFEPXQ74HggrhGKC5fkkgRgzGBgUF8N4JeLUoERCUhYiERBv9MHtX062OISYQEqBj2wpGuCAwUr/SmUgiWVIjXoGbXR59GUHigkexStBTLKLMjgVloLODjBxIT6FI64jBdBCUW4625RF5kGLclWxD45FIy0uz6x1JlrC8/Tpigo2wdyzE6hpgXW+cwYCiNG5INipfE4lGSLMu+//u//1//1/91UDSE5UTzUmnbdr1eg65BQHQQhdInYccBhLA/OTlhEY+afLn3fFj/sDRNc+/evYefTDrnVqsVlqPFXr7xMh76vTzi8psHuYfFn3748PE64PXAD+TgbX3nDX+J8OWZCOMSxVK6DlLg+sfsYjIGxqhAxi5MO4kyTKpI/0+fL45exg3hDwvBAxFiA+IPiS/Lh1mOlE8ZC0Z2iKwkIqCE/10SoIjUSkJkflzKb7dpySd5ZL2rwxgVA5EdEkPERuzGH0sai5UkCkfUHNNF6VNhKDMbGNRe3htKE/TRkfe85z0/9EM/9K53vQs7jJOAHYBn/+xnP/t3/s7f+St/5a/8+T//5//CX/gLf/Wv/tWf+Imf+IVf+IWLiwvv32E5nU7BcsZSHinxJ8nvxbUg6vUPCw7Fr/zKr3zuc58DxiMKtHvuued++Zd/2Uf38o2Wl52jvTzSQhIwBr8GQRbcloAG5r0uAbgh/TJI7K7hD/+4ZhgSM7h72ai/jLAgm2MY7fSXVuY67FMZYIwXIKJADcYkkRrA9ZgBK2/vu4ggLEbynAdL4rAURTufwDjFgx7q5hVeKzrk4i5R/NpruRr/mdfraYSVV/n0Vwz7COQ68BWFFtd5JYLcgtE8nH/lr/2Nv/D//is4IHJsHwFB7Q8PD/+tf+vf+sQnPhFFEaKo+dXVFfDsk5/85Gc+8xm4eEAaLIHwMAB7e9/73vfRj370277t2x577LFf/MVf/Pf//X8fAOBLe4QEVyCg/U//6T/9/ve/32vu3Lnzx/7YH/u5n/s5j/QPS5qmH/zgB9/xjnfEcQyQ+8IXvgCwXy6XY/JevpGCxsT3f//3/9k/+2f3HU/eAvISXPmaZJcRy7EEaOh8wdhILehycVdj5eEQSfj34CQgB6WHJ1+UzC86hum8d3l9N8XdJphVvlO7FoAcu1jSwjMaBrwltiJ7CCtsiUrgF41o4cukPQISlFwjFo5R6hlmQOosm35Y+8oBCA0fmPoVhYeFR4kqMZfdHs29PJRJTL3A+BrFUMdrr/iX/9pf//P/9V9+hEAO8uEPf/hP/ak/9cwzzyCMagPVfvzHf/zP/bk/B77iDV4msAHUfehDH/r4xz/uvy17FPueXIPcBz7wAa8ByP3RP/pHXxHkvFxfUY/QyX0LCEDud/7O37kHubeGvPKt9VUF9x7uOi/ioHkrIsxHaHTFVAq2gV9B6W38zwsDvozxNoarZ7oXFCcgKUsflihMuA0fhfgyBThhx0T/dHFXOUTk4aY8WmSUeaGRgDzxEw2ffobKyCym8jxQ3ofBko8Ox8eDtN89KuQ7OYnKU0ROykMNrUd7ii+cxY8VGX9+D7Dc1Rb1YYXHJZOkv4zkZE8T1MpH5VkmX92h1N34zlziJAqkPyoCagJOdvPmTR4ZnsQA2Pa3/tbfAlkZLb5MAA937979yZ/8yT/xJ/7EX/yLfxEINyY8UoK9wNLv8rVc619RRiMx28tvpYzHfS+PvrxGkNvdqLgUPNL4ciTKJEZh42FsZ/NAcA09pKeN9/6IAaoAi+LBmSIdUDztofgwTQUWmIVOHgFOwC0leOQQU2IM0YcYB63EvBb2BIwdqnlk8kk+PwOMjWEIbCQJFSPCEREJhIQcqS1KgIlHuwc/j68MjFFfPsuTn1/jn2rZmg9IiMkPDCFeQzv+JEbkGxnsoyJRFD311FMPd87+1Kc+9dnPfnZM/gqC4+E7XwDhXgUV3syCPfXLLxdvsJc3lYznZi+PuLxGkNsJnwV6ZEGYClwaDFPophl86FrZJXnxuei1RcYHc8Qv4BwLFogUJJOMDI+CwFismMlG5edtZH1tTGFRUr6sx7BEpbAxqxcJ7wqBjHYIaYCZKASpmODRVvaBUOc7bXqQRphWXCLMAKs6Rn2BPP5j8Tt5KPhARiVX3tgfNIR9wN+Tj5AA51Bz7rkIONy9e/cQGJO/foIysyw7PT19/PHHn3766be97W1YPvbYY0dHR/514G9ScJCn0+mNGzeuy4E8+eSTt2/f/s0XdY3NstMUr/xGYzaoM44AaouaQ5544glEkyQZk79GwaGYTCYg4ijHHwr/XePh4SFaeaPRIy7j6dnLW0LoH8fg6xDcqjtXCxeMOxZLnyB9TuRm9qjEUb3wJ0rEUAHc4Ah4e5ghQFvWireT1wZO3q5JFB6BSi+7bcKGBUMhYZ8ohYwBCNAAeWHgtb3P4WN+Ifb9wC4PCIEfjkX7+vjSZDevjR8WbB0qOC2GYYaVt2Qiq+0PkcQoCEmcGtlPhCSV++0Pw6jfic97bSsGYfiX/vJf+3N//v+FGDM9CjKbzf7kn/yTP/iDP3hd4f/qv/qv/syf+TNt2/ro10VQODb07LPPfuADH3jve997cnJSFAW8MOjgcrl84YUXfuEXfuGf/bN/9vnPf75pmi8/m15QCBgngA0O/f3vf/8zzzxzcHCQ57kxBql1XW82mzt37vzTf/pPf+VXfgVQXZalz/iKgmvgPe95z5/9s3/2+p3cl770pT/yR/7IP/kn/+RhyPeCqgJCAB4IIOPl5eWv//qvv+LYZsgLS1QSltba50R8zx0gGbDtgx/84Ec+8pFbt24B77GnVVXdvXv3H//jf4wj8LnPfa7ruq+0+y8THA3s/rve9S4/3hhQDQVi6zhxOKTPP/88jsPV1dVo/ZDgCH/6058+Ozv7TW7oDRcckx/4gR/4L/6L/2L/Tu4tIC9xu69DWIx3zAJ4UiYW18Ns+QVXLxnFCvJwFMEdELBtOzpBxEespLzEniV6BTc81uBlWCLC0Fg/6sR8tJGIBETDCAoA1AicPFBKp0v8ebnOfi078GGaBMfA2I9lp/zywLV4Dbcr20YEy4erIUEsBhnsTNoKAnL/j//nj8DgGjPe5AJK9J/8J//J7/7dv/vas//9v//3/8P/8D+EH/xyX/8aBIcCOPSt3/qt/+K/+C9++7d/u3fuHpa8wABgsF6v4eL/7t/9uz/5kz+JTXtUuBYcTDhxoNF3fud3oiiAnB9sDEAyWoj4ogB1AMuf/umf/tt/+28j8LKirgV6wO1//p//59/yLd/iNQC5f+1f+9eANy8rFqgGcPp3/91/92Mf+5gHuX/+z//5f/Af/Aef+cxnXnaIUAFQyX/n3/l3sLMeb378x3/8v/wv/0ugDsjW7/gdv+Nf+pf+pXe+852o/MNHwO8+9vqTn/wkdh80GuWMaV9BwN4AlijN4yXg8+E6IzuAARj8ivuO4/MjP/Ij/81/8998fdsx3zjBvmBP9yD31pCvaVivVxH4BDpkcbO8XxjyLhcu+TpBHtt5453Qwi99QPJKPllSxrjQPeKnWND82tRznweCGoyhh8KyaeTgigWJjJqHAkyF6YggXiEBPhfkv49iCYFbeaCR35jEAsbwdUDWDx7PIjCKlCtrWY7po4zF8r0jixjDUpov+Rd/6Zf/t//t5+AHua1HQeBtP/zhD7/vfe+79pIAIWDDpz71KTjf0ei1CkoDY/u+7/u+P/bH/tjHP/5x/1xOjpOcFxGEcZwBhLdv30Y14LJBwl588UUcw7GUYYDyh3/4h//wH/7D3/u93wuEg4uPouhl5UB8Uag/7L/5m78ZRAc4dHFxMZbyZQJCCeAB/PjsQBrgImglwqOFCGry9re//V/5V/6Vp556CoWjqtD8xE/8BBjYyywh4HCf+MQngGQgnbC8f//+//K//C83btz4A3/gD/zQD/3Qu9/9bihfVnOEUSx2H8wSsAS0Awcdi3slgfHv+l2/69/4N/6N7/me78Eu+EMxlrUTnFYcalh+ueCMYB/RlAHIjSW+uQVHG8fz+7//+x9+c7yXR1S+Dg3nh8XDGwQXCm4lLDzBQBTuWZwzDB78EBONXzLVy8NhCMrAT3COaSwVSikfSg8LDElpEHgeQusYHsWHsURGr/VrMZKAL4Aab8CDc71HImIrKyw9LD0sXj8GaLuz3ukhD4cRwTaIcLIxLKUri0RHi1FeWgIW11bsZ/mAYD4Kgvb+L/zCL1xdXclFQgEX+YN/8A/Cp8Ahes1rExQIh/57f+/vBQcCCQPx8kr4LDhxYA8oC5ZVVV1vGrQSqAMwAxxeK2H/0Y9+9Pf//t/vP1ODBklo3a9Wq+effx6QAAEqoygofRbIfD5H8x/Qcnx8PKpeKtflPyxQfrnea3CB+SgEGtRqjDwk0MPMNxdwWSCKJZD7j//xP/6v/qv/KqAXejQdwKUAfn7fUc61JQxQYVTbv6KTIl8uOAI4NX/kj/yR97///Qj7mgCeP/vZz/7iL/7iz//8z//ar/3a+fm5b6CMeV4qSPLDtYzxvezlt1C+XkxuFO/RcfNIjHfgzj37qPTbGBMhuCUEA+WmZgrBBTf2l98sNPOCNI8u0NIcP18GF6OSEa8QQcAL67MTb4jtMCwablMC17IDIB+RPFy8zIrildzYV7Z5WEYDWT7YHQmPJcjvWq5Td1G/pvzTX/rln/1H/8R7QOzgm1/g7NCi/+AHP/jkk0+i/n7XgHNPP/00fDEYlXfEo/XXIvD1H/vYx/7oH/2jzz77LMqEBoVvt9tf+qVf+pmf+Zmf+qmfAsVB+Itf/CI2AXoBzw4D5MKB/dmf/VkAmD+GcOVAvu/+7u/2pwMlfO5zn/sH/+AfoJAf+7Ef++t//f/f3nuA2XHU6d6d++TJQRrlaEmW5ICzsQ2GxQaTwQSDCQu7D3eXvSzssgsP1x9cm2gbDCy2CWvgGhZjsxiwl2DjnKOypVGaGU3Oc/Lp/L1V1XN0JkhWtmb8/6nVU11dXR1OVb31dvz1n/70pyeeeAL+D7OgbdBmpBQLQixh5nbu3Mk2aArCyQntAZCKe+65B+sVW1sJ0iAl0ouU6BP84Q9/wMFBOEwxDg4dUra0tIhZkPNVq1ZdeOGF2EEcxtHR0Weeeea+++574IEH0LeAo4LlwjaXz14iGSaff/75aTMHUHrYYnQaxI+Fnw87+Lvf/e6nP/3p3XffjZwfeeSRzs5O7Du2FtmKfcGREVc9oYVbtmzBEUO34Mh+1hMP9pGc3KzhGIucAKVE1AcGAuUwQJgJCx/YCH+QHJ1W1tLxFCI5phgiXTmDypz5bPEP8SIxm2JyyWNDAROw5k5kNg5PyJdhlIVSIFKUEVM8Jsw2jBynHCMCgv2TQpvGp9jfiSlBeVrMxXh/TEX+IjwegaZV2bhx81PPPCtEbkaAHxFihubjtNNOQwsrYrAjMEBoSefPny88EwwfKxmHw9KlS6FwZ555phAnLN7T0/OLX/ziBz/4AbQE7fimTZvgPB5//PGnnnoKUgfbh5WidU6n05BAiBY/tmzBU0899bzzzsN2Iv1//dd//fznP7/rrrsgbHAt0CRki8TwMVA+aMOSJUugNGJZ7BEECboy9SYR/EZNTU1oOssih93EhkF4xLJlkBKihZRTRW5qSuxCWeQwN5VKofeAw4ueBGTmRz/60U9+8hMonHBd2AXIPPwr0gidE4sgZ8TDcvFcQ3AccHDgjN/xjncIq4fVIc8bb7zxzjvvhJ3FUjCI2H7IGI4txBI/ga7rWBbdCEjgt7/9bWw2ji16CZMyP5nBbq5cuZJEbnZwPEQOtYbVQ4xRK3iY/RdeDWE+tT/A5QnSgdlhkM/FzNDf8DAbiRwmwNrA8hJc3UQQ/8Xy44oUOkYxClOzAI9giJllWMw4IswT8UmhiAz2MEAY5knY/4n5gPHE+xlf2fgy5bFo0sd36xBgeW/YtOmpp58V54JwwE9+sJ3Y2uHhYbT1aBNF3x+RUCa0tmhcIHVo3NFGw+iIWx8PBRiyt7/97VdeeSWkC7kBmBgoHJp4eAjkhkYW68UYYawdcoVmGokhDxCtP/7xj+UrXkiD3NBYQxv+8z//8/7770cOaLWhvmj++JFnZRvJoIJovmtqatatWyceJMBeIH9oybQPRWC/LrvsskonBw2Y6uSmFbnf//73016TQ5o3vvGNZZHDZmDjcdwg6jfddNO9994rTquKfUe8EGmoODYDW4scoGSQZBgy7I7Iswyy/ehHPwpbw3daHhoa+vGPfwxhFtfw+KYxxA8KwYNBh5AjJeQBuij8Lg4IEogMZwQ4/qeccgqJ3Oxg/0n/YwEXjnAQIBCUzU/FXD5gTtiyi5hpYIvxBQUQzfHEfOAZsP9cxZATG4thfHnkzzWET/DFmViKZcIkE6iMLIf3x7BReBMIwiyah7HG8fzClJMQS4hBRPBFJwyBwgaeRmR4QMI18RQYh1VzRtHZ2fnDH/4QzSXcTLg3vPlGgwud+9jHPvatb33rmmuuueKKK9AWo9UWSx0ItEpIdskll5Rvh0Or+thjj8GEoeUNE1WABGjWn3vuuW9+85tf+9rXIIR79+7FwRRzEYDp+dKXvnTzzTfDowhPJmZNBfIDpwLlQFj8NFAdWCVskkhQCduyiYQzJiLiRYIyYta0hCnGgahg37/+9a9DtxAOE1UA0/anP/0pz1+NxsqQLMNAC5kMU3CwC7W1tYsXL0YCTGLu9u3bH330Uei9SFAJDjjmwiKXH8lYtmzZqlWrpj0OJz/YfmJ2cGxFrtz4oojwpppFhJG8Ku2HR4l4NuYbEqbE4iIBL2oijNn4i34n7BkbMMkEj3kp/iqsMJoNfM183TwTvkiIiB+PCVNzPeFhFuDDOCKlyERQjhdhjESYTSnsPVvsgfHxbMa3JNyeSsKFOCKX/RmxgY3Y1vHwdANPz9cF2GGaaaBNfOmll7773e/eddddMD2iKcS+sN+fv54YTSRsGZTmX/7lX6BecEtsTw8AFocpXL16NZbFJMbQtj//+c9Cew4EloLPuP3222GSoLVhLAfagJhpW/NJIJN+Dt9wBtyhcHVTQeIw0TjhjImIoxGmGEfMOhBhIn6qbdu2bbfccsuzzz4LAxfOngj2a9OmTThE4TL83p8FCxYgEKbg4IDjsEOwWSHjBx8yNvVe0DLpdHrDhg3oEyAx0sTjceg9ymk4e6bBjgsx8zm2IleGFXGUEl7WUTeYJolIgZglZrJROGaNN/vLAjyCj5GeV5n9iPJXjgxCSxhOs8UYPMwjx1fHwuEMxCNOBEQ8fzSBzd+fJqQ8ybKogEsS21QBDib/K1SKDfxlmGECkcPL1hyRMlyEjzBmA982NnBRFrAEEEKerWgWZxau66LRvOGGG6677rqHH354dHQUyscPQ4imaQsXLoTUwZT827/922te8xpxZWgq0Wj0tNNOg+3AUjgqiNmzZ88LL7wwrY+ZBJyHMB9HDCzR0NCQ2GZMilIx9RcRCoeASCkQsw5EmOjAyZCnyLZMLpf77W9/++STT+LwhommgGQ7d+6EwItFAHoVMMHh7HHE8Re35wBkCF08iPBDU4eHh8WPiEkcB9hrSD62UCSYQYhdJmYBx0nkAGuAef5CCZh6QWtQ+MU8kYjBmm5E8uY7XIpFiTZcEKbklGPK8UgYBsbjeSFlyZgGsLHCnzpg6sDWxLPGRvFgCI8PcxGZABEoKxlyFYEyIgFbKlyC7en+gS/NhzCTclagvEwllZFIWp7khyRUTJ4RG8RcxLP9HW/vZhbYbHigO+6445prrrn11ltffPFF+CcRj70DCBiGsWjRoquuuuqLX/zi3/zN34ibBieByJUrV5abY7SzmzdvFlewwhQHhh27ozh6WBarE4qC1bFfhG92OLsCEcm2r4IDrVrkVsmB8pyUEkYKOy48XJhoCpgF11Xp5GA9oXPh7HGwX6KXINKwcsdtWTh7CkiA3oY4AmIMxRU5hClmCOVdJmYBx0/kQnhRDxGFf2IB4srHXrbFJ/C/wnUJRHoRMzGeTQrCqHHKcVhSDFxvhFSwIBvCZOGyIlymMrJyrogXYMNEjJhVRswF4TRfd8XkfkSyMmHsxBzKgTIiBoTTQtRnMjBSW7du/f73v//Zz372+uuvh6sbGBgQhgB7J3YWTfD555//hS984b3vfW8qlQqX5KBVgueor69Xx58uR4bwiLCGYYpjBJQAa5k3b97ixYuXVQC7k0gkypsKwgUmMm3rKWZNBYnDFOOEMyZyoBZZxB8EJBBCKNLjAKIzIWaVwWGEIS7fY4I04s0vB8ocXY1169aVb9ZA/r29vbC54ewZhdgFYhZw3EWuDFoA3iCzzmAYhUgex+YhiIIFQxVaPuiHWAROMFwQcMFiIBNuxdhCYHwuiy9Pivs4OJKvQElZpshZNB488wmIabZ6Hi6PsQa+4GTYFhwCyHB8k7j/Cgex+PTDgeCZAJGMwXflgA3lTEHsAhrTTZs2/ehHP/r3f//3G2+88dFHHx0ZGalsxHEEVqxY8clPfvKCCy7AvvNFGZiF9hctrEgG4B5E03z0YEUwiFCySy+99P3vfz9k+Ctf+co3vvGNG264ARspQMzpp58erpuDBcW4knIMT8IQk9Mi5opkQEROpTxLJAPlSRE4ECLxVMLZ4+AnKJ+JBWvXroXAh/MmgrktLS1nnXVWWeRg47B4OHtGgY0XY2IWcOJEbhymYOOtM2unuAqwSXYus2y9UMK4uIhkmD/engO+CE/DMuLLixkIs+XCSJaET7MoFhZpeG5sQqgXm8Fz5wOLCRfF1HhaNuKFXsRwRAzf/vG5B4An3y9LAn7kJ8SUwSLIVQxiQ3mApR9fCmMkRIB9hofdfRNuy4wH+w5xggm77bbbPve5z33ta1974oknisUiP5DhQYbeXHXVVQsWLKj0E42NjXAYIhkolUpHL3LIH8J59tlnY0u+/e1vf+973/vqV7/6t3/7t29/+9vf8IY3XHTRRa/lIHDuuec2NTWF6+aIxUU+ZSoFu4yYNRUkDlOME86YyLR5AjH3IExdsBxZBpHd/E3WwlUDdDKuvPJKiFmYooLa2tp3vvOd5WfGQVtbW2trKwJhipnD1INPzFzQPp4wwiZ7vAqUQQSL5P/Zk2csGZMroShsKtQ/Jlfllp9tu7jMxnLgKlKWATEwqyeWFxMV8Bzg8zDGGlkSZMtkZYJr5LDEjPHswq3hM1hqHhqfOz45EbZtYmBrEuvmlCcnDXyWSMSWEvDJED7JYnh6NCIvf+VppiBaGagU2sef/vSnX/7yl//85z/DE4gDglkwbeecc87FF1+MgFgEs+rr6ytfCea67sEvSr0sWLahoeF973vfdddd94//+I9QMrTsyWRSPIU26ecoE65+XDAmgchw9jhY5EAbGaYYBynDGVOYmu2B8qxk6lJg0oKYHB4evv/++8t3VEL13/Oe9/zDP/wDdL2mpsbgIBIOD/L/gQ98oKqqSqTET/bwww/v3r17Up4zAmwzPx7EbADN7gkGpQcVm1VaTIgxilSln2KxHCY7vBEP/7MBc3kcZu5XGzYN9RPwOJZQrEXEiFJbniyvZTxPPsn/iLlcbCcPYSqRmg08HzFgU9miLIFgPMlEyvHcNYZJp6OyGR1fdD8ipgK2f+wwziKwV5C6Z599Fn7unnvuEX5O7HtdXd3rXvc6tKdh0vEfF2MBwuGMIwXODNombuksP12O5i+fz/f19e3cuXNTBS+99JK4/ieSiRzKgUmINIIw6gCEiThiUsRXUp5ViZh1KIQLcMKoiWCXn3766eeeew5mThxh9Cc+/vGPf+c734G7RQ/g//7f/3vDDTfcdNNNn/70pxcuXCjSoJPx2GOP/eY3v4HUhRnNNPghIWYDrC0IgxWgZKMjXD5HcXwQ6w3Xzv5MV1fFXzYw0ZqQAJPQCqZ07Jzj5GX5UmKRcmB/M1iZVWUQ/0Nd5bBkFU3nhKQ8jP9iNgL8g0AVicV6w/9lwomKnA4Iv+YYguC0S2IzbvvZ//vGN28oP5w0+8A+XnDBBddff33lda8XX3wRfmLjxo3Ya/CmN70JzS4aWTG3p6fnM5/5zB/+8Af0FUTMYRGJRD72sY99/vOfL5+ERKsNTwM927JlS3t7e1tbW/nzNBhDdLG6yy67TPwEmPXRj370r3/9K7wmXzoE1WrdunW33HLLmWeeKWK6uro+/OEPP/nkk+VbZgSoerBKN99885o1a0TMnj17rrrqKuzvpD1Cnqeeeur3v//98847T8Rg7dBmCMzB6y9cKcTpQx/6kNhm27a//vWvI2bSUph79tlnf/Ob3zzrrLMQFrssFgEiceXGI4FlWfh1kBUs4HFuQ44X2It3v/vdKHLCmBInMyiNhmEIVxBGTWR6kUO39KGHHtqwYUM6nYbaYXnUpXDeMWbq2itjxjePbfyElBXRYt7UfCYycTcPkDqMnv5QsTwOtpaDbcOUOQfNKaRS5MpMXlCWXtq+Y8OGjfiBDvQbz3Rw2OGlvvzlL0PVxKtPsKcdHR3QlT/+8Y+i0UdD/9Of/hRjsQgE6Z//+Z/vuOOOSeJxKCD/M84443vf+x6kSBxSVAFYGeQPdwIbh4YbmleuEUgPLfzWt771vve9T2wMZObqq69+4IEHJokcFly/fj1EDu5QxEDkIF1PPfXUVJE755xzbr311kqR++AHP3ggkfuP//iPssj19/dD5O66666D19lEInHjjTdCYsU+CpHDXlQuhfCcOXOuvfbaK6+80jRNbBV2X9d1iPrUA4vjgAOFBNC2X/ziF+IhxRlaJrHjixcvPv/888sPpRAnFagFKG8Yx+PxFStWXHrppeWzCFOZXuTELd3PPvuseAcrKi3alJGREdRtFFyU9WmXmhWI/RIH6zjs4wGynDb6UJsH/tPO0NbkEMHefe5zn7vmmmvKjQ4aU8jYf//3f4sdnz9//u23315u6HO5HNLfdtttkyThUECv8B//8R+/8IUvlO9kQS3AquEL0YhPPc7TihzEY1onB5GDdJVFrrOzEyJ3ICeHlGXZ3r179wc+8IEDidwPfvADtMgiBhUWHhQih0xEzLTAyUHkIMZij1Cvv/a1r2EvKpfCut761rfCk4mXoeCYf/e738VBuPjii1euXFlTU4OfA2nQLBQKhcHBQTQajz766H333dfb2zujm4jZ277NYFDSUN5QU9A/Q4FE96uhoWHp0qVnnXUWqhVq64HawGmaAPzAyOv000//xCc+8dWvfhWdRHDzzTffdNNN//qv//qOd7wDVRTiWVtbi/Uh3wNlPTPBvpR3R4SP6YBjNd0wLZPSHHDg4Feb9Yg9FYj7J9HEIx5jtLxjFR+oQwFG6UcvTyQ4LFCq0YJDA0RWaPTRcD/44IOQAUyGiSrAKkTKSYSzKxAbE87m4FcWs6YSpqggnDGFcPZEwnkHZupmi0gxV4ADWP4wECYhsb/5zW/gRP/3//7f/2s60D6gqwF7egSH/aRCHBDilUU0g5A0uOrTTjsNRRFlDP0wlEBIEjp2119//ac//ekLL7ywqqpKVKVwyYlMI3JIjTFkU9f1aDSK/hrq/Bve8IYPfehDn/nMZ7COH/7wh8gdPeWPfOQjV1xxxdq1a+vr61Ef0AXGgmJNvKgQxLEBZVKYBlZAOZA0GCYEMBfjYrEIVwSp4zPZVSLUChgssfhhgXXF+Ke0RVZQ0z179qTTaYTDFBNB/FT1ErMmUZ4lAmXE3GkJU4wTxk4hnD3OoWhMmHQK4WwOnGhLSwvaAcRD7OHPcNgh9vv27ROf1vvlL38JVfvVr34Fm/v000/DzImfIFyeIA4TFDlICURr2bJlEJ2rrroKMnbddddB2L73ve/927/928c//vG3vOUtqN2NjY1IicJZbhbKdXYS04jctGD1GCPTefPmnXrqqW9605vQm7vhhhu++93vClG99tprP/axj11yySXQPFQMNEliwZnepyNecdC8Qq7Et2xEoQJoZ0GYIghGR0efeOKJbDYr5qLcr1q16vTTT0cgTHFgkCYSiYQTHFFbEMAYa0ezLuKnBSUcNbP8OisBIjEOU4yDSBFfRkSKuVMJE41z6ClBOOPAlHOrTD9pFYgvn3FFv2Hu3Lm1tbUiHgcNMWUwid0XSxHEoSAKmyhaDQ0Np5xyynnnnffe9773C1/4wve///2bb74Z4nLTTTdh8l3veteZZ565aNGi6upqlDReHkMOJGyVHKrITcoLa4Jvg5GE5p177rnvfOc7//7v//6aa67BlkHz/s//+T+f+tSn3v/+97/2ta9dsGBBKpVCE4BFyvtGvJpBaX73u9+NvpiQljD2wCAZOk/l61ggn89v2rRJnJ8UaVzX3bFjR09PT5hCkubMmfPWt761ublZJJgWLF5XV3fFFVd88IMfRDWDnolIgBxEmYeyom+HgFhkKti8Cy64oHzxrJIwxTiIETlPJUwxjogRsyrB4iJBGb6xk/Ocmmwq0y41dUEcWDEXR+Oss85CvT7//PPR50Ddx2GB5RWgguM4AHGfW7gwQVQgChjKEsoJyg9KEaQL2vGJT3wCFu3b3/72rbfe+o1vfAPWDdqBKg8zB+1AYqigKIRHiFjx0VDeegEmHccpFotDQ0Nbt279y1/+8rOf/Qz6BzU+55xzVq5cCTUWXb9wC4hXE2gZv/a1rw0ODj755JOf//zn4c/E+fRw9hSSyeT73ve+559/Hq1tuYBt2LABuhKmGKempgYdrErX1dfXh8pTX18fppgI1AvK9K1vfWvPnj0oqBdddJGIR5P9wx/+sLJU//rXvxbXpaaCuvqhD30IilvePNDf3//6178+TDER7O+zzz4bpgsCmFH0EcN5E0Fl2bx5c5guCHbt2rV+/fpw3kTWrFnz+OOPh+mCoLe3F5r9su0CDuxtt90GXRdLlUqlL33pS5NqJdKgT41Z4mhgnMvltm3bdu+9995xxx2//OUvf/zjH6NhAuhxf/WrX7322mv/9V//Fc0WdlN8ZCfMiHgVg2IAUPEXL158xhlnXHbZZf/8z/+MMvP73/8e9RodU/RZLcsqF8VjzjEQuUMhnU53dHRs3Ljx7rvvvu666z75yU++7W1vQxODBghajd7fobhOYhaAtu/nP/+5aDSHh4cffvjhr3zlK/BSy5cvR0komwMEIFqwDlApFJtKCUFZQhEq3xhSyZvf/Gb4ubI+IQABQwdr9erVUCPTNFHSMEbm4rMGqGbIDSm7u7uxrMgE4vdP//RP4qWLIqvOzk70LrHlZeVAcUVWS5Ys+cxnPoNGX1hAkRhA5F73uteJlJM4YSL3sgKDA/KyIofJyy+/XEh45Q6WweKYBdBIFQoFtFajo6Oo6die73znOzikqOBUtV+FaJqGAoYqvHTp0je+8Y1XX331F77whdtvv/2ZZ55BlYT/gREKyxBnatE6hhzwjpRjAlvBxCKOWgFQJdDAoWVBc4AWZMuWLbt370b1wM4D1Bm+bcdxw4hXirq6uuuvv/4jH/mIaE/xK6N5hbFD0UeLPzY2Jj5XBp1rbGyE71+2bBlqCxKL8gCj9oc//AHN8c6dO3l+E4BMfvazn4UgiUtHKHsYI0800/Bq7e3tMCKRSGTevHkQBnHtWugWZv3d3/3d/fffL/JZu3YtHMyFF14o5qIGoqz+idPW1oZJSOxrXvOaSy+99Pzzz8ceYS3ZbBbqiM1G+oGBgfe///0PPfQQz2wCELmf/OQnEG8xicJ/5ZVXPv3002KyEogcfBK2REyigrznPe/BjojJSrAvsJ5lawv/+rnPfQ5OC9spYqYFR/V73/te+YdAlUTXASZ70lLoEMBJ45CiS1q+Pvey4ICgFcMPim7Ej370o2l/LGLWgIomqK6uRp3CeP78+Sjq6AU2NTW1tLQgElUDtQkgWbjYdAJxXMBqTjCTRBttHKpla2srGoVbbrkFTvYDH/gAaixaInQEcGgm9S6JGQ2M1Be/+MXyR+MmFQZhCMDUez2QEkKCRhOtf5jXdKxYsQJOsZx/GWSIXhTkBxZN6KgAyTDrL3/5i/iquAAb+Q//8A8QtspMUFChcM8999xTTz2Fbhl6aeiuIR6tOcwcVrp3716RctY4OQEaLMgtEoiUOFywvziYOMiwbgL8ZPjtcCiQIQ5a+bihhwEpRV0O8yJmCxAn9BerqqogY6effvq73vWuT33qU9/61rfuvfde1I6uri7UVlEGXnHUL3/5y+FWnyjK0o3VIyyMLbrDCxYswMFC6wAuuugijNFNhtvFcQRQO9QumDwsggVFDsSMA40gZAb+oKGhAWO0quIHFaUCHT34IYCASC/A745q85vf/AYucOPGjQcpAMgcHSZUP/QfkX+5sCFDRCImGo2WHQnaYrTXf/3rX9EQv/DCC5gU8dhIeCwsguInfCQisRS6qHPnzkXOqNjIB5Fo3KF53/jGN7BVr3/967FTiESjj02FO2R5TQRd2re+9a3lRh86cdddd2HXxGQlWJG4cUZMYr/uvPNOyKeYrAR1581vfvOiRYvEJNzqfffdB+d68GpiGMbll18OOysOEXb50UcffeyxxyYthV2+igNzjJToHzz44IM33ngjNgZqjbXAhgKE4TWh2WjaUFVxqEW2CCxevBibDQ+KVYg8iZkIflBUBBQblEz8pugUvuENb3j/+9+PsoHxlVde+ba3vQ3mBL1M1A5xEQpLlav2K8grIHJlJu08JgEaOLREqNvLli1D1/Wss866lAP9w+FDo4MjKFpApMQRLDdMxExhaGgIigLfg+ZY/OhlAyEmERC/LJwB0kAD0LDeeuutP/vZz/bs2XPwthsMDg4Kp4XWtixpIluAxdHainOkL7744i9+8YtbbrnlmWeemdQEY73is6to5cWZlvK2ASSGksHYoa2HQD788MOo0vBk0BvIHizg3XffjbFIXAkKLczcnDlz0GMTOfzud7+bVrqQIVKitMMhISWcHFJip8LZE0FK9BFFSuR5zz334PCG8w4A9ujUU09FhcK+QLqwtf/zP/8z6XQojh7ar8997nPinUnYZvwQ1113HXrrO3bs2LBhA47bExxYyUceeQSGGEoJu4z6i0MhflYheJiL/oTIlpgpoJCgNU4mkyiH6A9deOGFELZ3v/vdH/nIR1Aw0EmCD1mzZg06bULV8IuX67KgXGVeQWaGKxJNXrlt6unp6evrQ2VGW9bR0YGWCJNjY2NIg5QzYo8IVAaYA3QJ0YCeccYZS5YsgV+HbRJ9F7Sn8AS9vb2bN2/etm0bzBl+4kk6dHBM00SeqJnQHqwFmYuuJRp0uKKdO3eigYZyQAxQqMQiU0EDvXz5cvS0zjvvvPnz52PzUO2xbRAbCCRadqgCip9IKdQLYbTm4r2vPI8JYK9FXw3Si91EPsgBghrOrgArWrVqFfwZAijYKPY4FFDQcHYFlXkiJfKEwYJHDGcfALQ+OPJYUFhSbC2OM9Yi5gpw6CDh4goithY79fnPf/6hhx7CWkSCacGR/+AHP/jVr34VRwNLYUU4zldfffW0lx6JkwohUSjn6KbU1NTgF1y7di0KCSYRxhiah2KGMlmpXuJXDidOPmbwqT9UeNRkVM7Ozs6XXtqG1go94ra29q6uzmIRDRfj4LWROElAV1HIGxAxKJawcRAk/L4IiMgjAHUPVgw1Ewon6iGUUigoEGleFqHHyETUbWwbPBO0bVrJmTXgt/jsZz/7pS99CT8NJqHEN9xww/XXX38oew15/slPfoJuvpiEdiKrX/3qV4fVTSFOACjPqBro6GAMu4Z+IcRswYIF+AURRrGHRUMBEOInOMklbSozUuQmHWUoGWye49gwc+j7o8vf3d29bdtLO3bsQK92cHAI4odWCSln4s4SxCvC3LlzYePe9a53ibrW1tb28Y9//OGHHxZzDw6s880333zZZZeJyaGhIfFaSxK5Vxzxa6K7VldXB1UTd/nDrsHWYxI/en19Pbw4VA3MLDE7EDPYyVXAdgI9bOwOHyTHsWDyMpksupA7d+7csaO1r6+ns7Mbbg/OAIKH3ijqG2keQRyIlStX/uhHP3rta18rWrrW1tarr7762WefFXMPzrp162699dbyRyEgkB/72MceeeQRMUmcYCBXsVgM0oUxxGzRokXQs2XLlsGutbS0wKslk0lx1npWMjtEToAdwd6EJk/sF8bM5XkeVA1+Djavv79v167dW7Zs6e7uERfzIIYiGc+EIAgGRO7HP/7xhRdeKCpUZ2fnJz/5yb/85S9i7kGAS7jqqqu++c1vNvNbQ1G5II0f/ehHd+zYIRIQxxv8ZAC6BTGDM2toaFi9erWQNGHXoGqapgm7Fi7DfynxW88yZpPIAaZz/MdiP7PYtfIvJ8v4OWXfd/P5PIRtbCzd3t6+fft21N7e3t49e/ZAAoXJw3h2HRaCOGzQ3//BD35w+eWXi+qDenH77bffeOONqCkH6RHCLsDAXXPNNRdddBHUDjHFYvGHP/zhV77ylbGxMZGGOObgN4JoiWvPdXV1S5cunTdvHsRsBQcxUDU4NvGLCMoN46xnljk5/GaofixQ/gkRKIcnEnieuE/dHhkd7u2Byevv6Ni3devW3bv3jIwM9/cPDA8PO+OvnwkXIohXB5Crf+dE+Hu0UYNGRkbuueeeX/ziF9A5VJbKO1Awt7a2ds6cOeeccw5M29lnny3uZQVbtmz5p3/6p0O8mEccOsKHVVVV4bDX1NSIl4wsW7YMXg0eWrxkBL8L0lS2fuKnDCdeHcwyJwcm786h7F/5V4eHE/fdwdvt2LFj79694lkFAP+HPqm4mCcSE8Ts5uKLL/7Od76zfv16VBBRR0qlUnt7+86dOzdv3tzd3W3zF9OgGU0kEnAMopFF84oYJEYPsqen56abboKTm/YxCeKwwFFFhwPShXFLSwvsGuRt4cKFp5xyyoIFC6B28GqYG6Z+VerZtMy+05XH5kfFYREX8yB46LRC6iB727dv37ZtG8JweJiE5olk4TIEMbuIx+NXX331Zz7zGbSn5TNdKPOi2EPhAGLQ+MK36fzzleVWFQkgh5C32267bWhoSEQShwXvWrBb/BsaGtB1qKurW7ly5amnngpJw6QwcDjsSCN6FcS0zD4nd8zAkUHpCSd4pUVvFJo3MjKyZ8+e1tZW9FK7urp2796NOoweLqyeqPN0SIlZA/zBW97ylg9/+MOnnXZabW2taFLDeRMR9QVj1ILR0dEXXnjhzjvv/MMf/kCX4g4LcWktGo0mk8klS5YsWrSomb/+CfIGYUMkKD9OCiY1U8RUSORenknFCJMAmgdhE5ZuYGAAsrdp0yZ0XVG9EYOKLR5RAOFiBDEzQbOL1vbiiy9+3eteh6Z27ty54n50Yd2QAHXBdV1oG7qA6Plt27btkUceeeyxx9ra2hAvMiEOhLC/EDYcWDizlpaWtWvX4jjDqDVxym8hqGyFiEOHRO7YAMFDDc9kMvB2O3bs6OjogNRB+To7O4vFIkxeoVAgzSNmLpA0NMELFy5cs2ZNXV0dWl5IXVnkxJkMlPnW1lbR1SN5mxYhVOgiJBKJSCQCc7Z8+fJ58+ZB21asWIHORHV1NbwaDm+lpKHdIIU7YkjkjpZJ5Y/pGH8lVTqd7u/vh8mDzm3ZsgXKNzQ0hElEitevoGkQixDEDAKlXRT4ScVejEWAqEQcMbgxdA7EhTSI2fr16zGGyDU3N9fW1kL2RDIQLkYcI0jkjj04pJUlFV1adHLh8yByuzh9fX2wevB56PAKC4g09EMQxOwA1R8eV5hdODbYX+gZxGzx4sXifC+8GuIhbOECxPGERO44MkntMAlg4IrFojB5ULvW1lZxN7a4vEevXyGImYg4cxuJRODVxM2Qq1atOvXUU+fNm4dwU1MThE3TNObUJrYJlZPE8YBE7oQyqUxjslAowOel02l4Owge1K6rq0u4PWhhLpcTDyqAcBmCIF5pRC02DAPSBWGrq6tbtmzZggULoHAr+GePxGVL8Op8ychJBYncSYH4FTC2bXtkZERcuoPsbdq0affu3TB50LzBwUFxMZ98HkGceKBPAvGB+NraWqja+vXrly9fDqMGuwYDF41GhaVDMrEUIG17ZSGRO3mB4MHkwcxB4eDt2traENizZw8CmUwGFhCzxOtX6EckiGMOVzQ5FovBrkG9xA2QkLf58+cjgHEqlYJXm/T+fpK0kw0SuZORynpS/oGgZ9A86Bx8nngaSbx+ZWhoCJPiRYJk8gjiaBA+TNd1/ogae4W/eF3ZwoULxaW1mpoa8dQakpGYzQhI5GYGk7qHEDMIHoRtZGQExm737t3QuX379u3cuROaVywWYfXEgwr0+xLEgRB1StM0eDU4NjizZcuWLeFfx168eLF42TG8GmZVvmSEmFmQyM0wJqld+ecrlUrl5/CgeRs3buzo6IAEQvwwhiiSySMIAewaKhHUq6WlBV6tubkZXm3VqlXQNtg1kEgkyrWsHJhU9YiZAoncbGBS9YOHE0/mdXd379q1q7OzE1IHkwerB/OHeMyF5tFPT7waQNUAkUgERk18R3TlypXz58+fO3cuvNqiRYuqq6vh1UBlJSJmDSRys5byL+t5nnj9yuDgIHRu8+bNO3bsQFg8qEevXyFmH0LYxEtGxJ2QS5YsOe2005YuXdrQ0CBeMlL+4h1p2+yGRG6WM8nkQfDEk3lDQ0N7Ob29vRjv3r17bGwM8ZBDx3GQkgoGMYNAIVcUJckRLxlZsWLFHP65Ndg1BBAJr1YWNuLVA4ncq45K2UMYwgZXB82D2m3fvh0+r6ura3h4uKenh16/QpzMVL5kpKmpCRZtzZo1a9eunTdvXn19PWJSqVTls9jEqxMSuVcvlWonKPJPn0Pb9u3bt2fPnu7u7s7OztbWVugf4mHyMMZSVGaIE48oq6ZpVlVVxePx2tra5cuXL168eO7cuUuWLEEAMeLSmhA/wdRCTrzaIJEj9jOpRRBfvxzgtLe3b9q0adeuXSMjIxA/mD/P8+juFeJ4Ix5Kg7DBn9XV1c2fP/+0005bsWIFjFpjYyMcG5xcudCSpBFTIZEjDgnHcYTPE29dER/Mg+bt3bsXzi+Xy2Es3jpGJYo4YiBRIJFIQNXgySBsK1euxBgsXboUCpfk74oE4QIc0jbiIJDIEYdKZVMCDwdhg8MbGhqCsdu6detLL73Uz+nq6hIvlaaLecShoHDg2Jqbm+fOnQtztnz58vXr1y9cuFC8zr+6ulrTNJGY9Iw4XEjkiMNmUkMDMSuVShC2sbGx9vZ2eLuenh7xUQWoYD6fRzwSICUVNkKUHIgWpAuODeNlHHEnpLjFP8opCxtBHA0kcsSxx7Ks4eFh8Sjezp07N23atG/fPng+mLzR0VGIoud5VPBeVQjFgqq1tLQ0cdauXbt69WrxzhEQj8fLPadJvSiCOBpI5IhjydTmCYIHG5fL5WDvYPK6Odu3b4fsCZOXzWbFiU0qirMGlAEAN1ZTUwP1gqSdcsopixYtgl1bvHjxggULqqqqMLfynhFA2kYcD0jkiONOZeMFPUun0+LJPPH6ldbWVnFhr6+vz7Zt4fNEYmIGIa6rYQxbNo8/qQZVK79kBNTW1tJrjokTD4kcceKY1FV3XRc+r1gsQuTa29vFHZt79uyB7I2OjsLhwedB9pCSSunJhvgdoWqpVAq2LJlMwqKtXLmypaUFCrdkyZLm5mZ4ONM0K18yMqkAEMQJgESOeCWZ1OoJwQNwdTt27IDP6+npGRgY6OzshOYhMXSRSuwriPBqkUhk7ty5c+bMgT9bs2bNqaeeKqwbgOaVf1CSNOJkgESOOBlBsRQX86BtUDj4PJg8WL3t27dD9vL5/MjICMZIRgX4+CEkCpJWU1MDr1ZXV7dixQpxJ+SCBQsWLVqEeHFpDconFgH4RUjbiJMHEjliZgAPNzY2Jnze3r17N23atGfPnuHhYUjg4OAg5nqcMDVxpIhLa+I8JJQMXg0ubf369StXrmxqaqqtrYXUVT6LTZJGnOSQyBEzD0iaeDJvYGCgra2tq6uru7u7tbUV4pfmQA6RBimpeB8coU8QtkQiAQHDGJK2atUqyNvcuXPh1VpaWhAJVaP39xMzFBI5YjaQy+Xg8GDsoHbbtm0Tr1/p6+uD/hUKBd/3xfeDCIGmaRA26BbMmbictnz58nXr1kHVYNTg3ia9v5/sGjFzIZEjZjaT2l/omcWBmdvHEXdsiu/EZrNZCKF4/Yp4OO/VgDg+uq7X1NRUVVVhvGzZshUrVsCrQeEWL14MkYNXM02TXjJCzD5I5IjZxiTZE99SgLYNDAzs2rVr8+bNnZ2dCHd0dCDe8zzXdWef4OEICLuWSCQWLFjQzFmzZs3q1avnzJkDuwZisViYmiBmLyRyxKxlktoBCB7I5/N9fX3t7e09PT2weuL1KzB5IyMjmUwGsjcTK4W4vxG6BfVKpVJNTU2rVq0Sn1uDyM2fPx+RhmHArlUek6mHiCBmGSRyxKuLymYdYagaTB6Azm3ZsmXnzp2Dg4Ower29vZBD4fNO2jqiqqqu65C3+vp68c5+jNetW7ds2TLEQO1qamroDCTxKodEjiAY0DOomsVfLd3R0dHV1QWdg+a1trbC4aXTaYyRAPXllaoyQpshWuK6GpwZjNrq1avnzZsn7oSEe4tGo7Brk96ehQ0mu0a8aiGRI4iQSWJQKpXExTzx+pVt27ZB9gA8nzir6TjO8b6Yh+2BYsGxRSIRiFlLS0tjY+PKlSvFS0bg1Wpra5PJZJia9IwgpkAiRxCTmSQVmISHg6Rls9nu7m6IHGSvra0NsodJ8fSCeP3K0Wse1gtM0xSvyIKMrVq1asWKFXPmzIGqzZ8/Hx5OvBBSXIQjCOLgkMgRxGEDMRsbGxsZGYG8Qe02b97c3t4+ODjY0dExMDAAOQTiafRDQTyyBrtWXV29cOHCpqYmOLa1a9dC28RLRiBsSBCmJrtGEIcDiRxBHB6TNAZiBkkrFosQOZi8np6erq6u7du379mzJ51OixOek+5eweIQNhg12LVkMgl/tnr16kX8c2sIY5xIJHQOiRlBHCUkciE4Dkd0KMJFjuYoTmnHDrNdU5BeplNXryAoOZVqVCgUYPIgb93d3S+99NKOHTt6+QPpO3fu1DQNXg161tjYuHTpUtg1hIVXq6qqIkkjiGMOiVwI1zhGOP1yjKfEmAXQyonJiRmUr9CIufubMN6a4T9LPd6yledCsET8+AwZ+YognxifwcaIVzAikTspwM9fKVQ+f52Ybdu5XO7ee+/9l3/5F0jatddeu2bNmjr+mmNxU0mYesriBEEcPdQ2TgBNzCFSTs21hv0djytnUg4AEUYTJikKG3hMmIAvrlQEIFwsfhzkyhZESFEwmzk3PolUEDeWa6iKxCuN+LXKiIttyWRyzpw5y5Ytg42rr68///zz4eGqq6tN06xUODBpcWI24wcY8I8NDE/84f1Zqs3HEhK5I4S1R+h4s563IIxEoNxS8cky4dyJ0ZiATCncCPLpcEE2lAM8JWARfOCz+BwRGh8RJx3iZwPC42PMGjJOeRbxKiRAWUD/lJ1Lk0p2IVMYtRyLyxsp3DGGRO4IQQvF7+FGiURThQFh5sYQzeeyBBUwJRsfMB+qhmRiQWHvMBZ2DWHm2CrYvyzLGLDFWC4EQcxQ+PUN2Q+8oWzvhvYndnRv5SInB1S1jzWsRSaOGK44IeI0I/plXIgYwp/xgc0fD4BQzyqG/fAfhSUGE3NgKcVf8YcgiJkAO+fDTHzAT0ryMK/DwWC275Ed97y477FIJBKLxNESuL6bKYwU7TySk6k7JpDI7YcLTBioBCVSxE8LEogAUrGyy7RuXISY7PExIvaLGRxg2ashvN+oYXrcDobZjudNEMRMhbUCrHHw88XsaJZ9zhcNhed7/aNdj2794/Ntj0T0+PzaJaosjxQHn937wO823Ly15wkkEIsTRwmJ3H6ERIFKVTuwwiGeGTIxLg9c4KBqbGBCxf7xO0XCBAzh1cbDbAE+ZgOTyHCSIIjZgiy5njuUHrLtksLO9wRdQ22/+usP7njglr7R3pba5Qkz1Ta4+xdPfO8/Hvz8bzf/YEPnQyW3EC5LHB0kctPAtQf4fOBaxSJ53H4miB/mjvszFmAWTVZ5BPpnzKWx+yK5Vxsfs4UqhjKVYYIgZjowcexPwSoOZYd1U7PsYv9o/5+f/+/7N93Z3rvb8BLza5d2jXTe/vBP7nz8pzu7d4xkM0PZ3oKVRWMgzg9VMKnhIV4eErmXgQsSdI4VLygTD4sAYAGeho3EEM4MzzoCTPA/4wnGCykCBEG8Sghsx2rr3TMw2t/ateOp7Y88svme0eKAXdQWVK+JaPE7H7n9t0/9cnB0ODcqjY36vaOD2VIGTYXnu0U777jjn78glTt8SOT2w6WoEnFSEQEmTuNCVVYv4czYRTUeycY8AQOzxVLlmAqmxhAEMcvxA79zcN++wX0b2p5/dOufBjNdVkmS7diSxjUdPV3/8+SfoHCFgpTLBOkRb2AgN5bLDOR6X2x/5MFtd3YO7wkCn13LgLcL8yMOFRK5ECFcFSAm1KpJjEvX/oFHsh6WYxWsQo73uKgsEgQxDmtMlKGx4T29e/YM7m7t22B5drpfki1TVY3HX3yide9uKy3nB6TSqJofVDo6+h/a+sdfPXXjbzZ/8/49P981tNGXXDQq4d3WxOFAIncgQgGrGA6ObBVzLz1333OP/jY9OsDuFt7/Tq+DweRwnDCKIIiZD3+TicefGGDvMdEUzXf9/qHeYsFJF/OOLRWGAqtgP7XpoUeeva+YL0h51R2V7aHAzUkjuZ4Htt2+qefBnJ+zVWco32e7Dmuu2U0CYf7EIUIid8wo5NIvPP/AvXff+sRf/ysz2o+yyM+gh0VShMUEK/vAdVzbdgtFu5C3CwXHKrmOw97yw+VODARBzFxcz8pZWTdgDwOYulkTrXZKtuEamVGvmFOdjF8sZp548U9btm0M8pKb8f2xILAkM6b4mpOxMyVHLuTlXL40MNbnQBVDXrbDTUyARO5YEcSral5z4dtPWXPujk0PP/Pgf6WHe5idwwwOk7WS5WQyxYHBfFdXur19ZM/ekR2tQ1u2Dm/aOrJ56+i27elduzOdXcXhUbdUCjyPix1BEDMRdv0sX8rv6tqcK6QDSdE0LWlUZ8eKETlWGg3yacl3FF/2bC/vlhyInJ/zYfXUqCypcqEU5ItSpuhmcsXRsWw6m4FSQtz2X/YnDhkSuWOGYUTXnnHJuz/yxde/5ePdbVsf//NtwwPtvuN4hYLd31+EgL24Mf3M8/nnn8w+/8Tw88+Pvrgxs2mbtbtd6u5X+4eUzt5g117rhY2jjz7W/8zz6fZ9Ti4vXo8QroAgiJMbfgKGnbPhQSmQ/Z09L27b96Trl1RFTRiRvp5ut+QqJdW2HVlXVUPhTYQHAxc47KZsT/KtvOfA2JXUfM7JF+2i7RZdy/GdcuasTWCjCvjqiGkhkTuGyIqqpaob1p395gsu/XDf3l0P/PcP+zc+bW/ZVHr+OfvFDc62l4KBtsDutEYG/XQuUrTjnhRVtGgkEotFI6psloqR4T5166bCfff3/eZ33fc9kN7b7tnlu4dFxSEI4iQlQKeU9Us9dhUukGJ6XNeCJ7b8Znf3Bkn2k7H4UF9X297tqu37JVeNyNFaCfbNK0kyRM5lFzJ8W1ICTfFNqyAVCqWCnS+UrEwhW8A02gD2LBMjvOTBz/cc4uX/Vy0kcscEiA87i8CKm+9Llj1fbzyv+azBLVsf+N2to63PKaPdbqbHsfoccyyfL/jFoMrQqyNG3NQiUV0z1MBzvUyu0NGVe6nV27dX72wNtrwwdNdv237+X/3PPW9ls6wkk8IRxMkOr6nQIs9zCxl/qHeJp0ZHO/Zu/0NmuLU2GY1pQXfH5sAuBIVAj/iRpF8o8qsa7PZL9rJK3/YjZrSmGuqnFIqlbN4q5Px8vlgoFcNWhj1FEEAyM4X0SG7EZ3e10CnMg6F++ctfDoPEkYP+FVM4yXW84WF3V6u0e0+NEU1VV29r35wZ3VdbJTta1op7XtKUcrF4tCZenTSipgaFM3W/aFm9A6W+vlxnT75/xHcc17I9xyumC/me/mxvr6vIkfp6LRbhNYEK9Iykra3trrvuam5ufs973hOPx8NYYsbC+5z7RwJoW2lsJLu7NfPiMyNP/HX04bvVHY8326MpJ+0N9ziZ7vxYh+WOmXW6F5GMlBSvlsd6vOIY8vAD9tStrBiyFtdiZiSmyZqhub7i20FTYs4Fq17fWNWE+o+GxvOc0eLwpo4N6Bs3VDWpssJaBq7L8maIAAApAklEQVSAxFRI5I4VgW8V3a52f8dL0mCfogdSykxVJ01D2dffGYkbidpaQ6uLS43JeHMsnlJlTWZPGbhBPuv091mdXVZvf354JJ/OsZsu+X2X+bxlOU5heHSkfZ/re8l5LUYsRiI3QyGRm21MOLsC7fHdUnFg84sd/31H569/OvaXu0tPPy4PdkRyw1VWOlEYCXp2K3175qnF5qrAj/tjMcdOSmY8YshGdth2LV8OFEmR1JiqqLLhBk0NsWgsanuSVSw2Jea+/vTL6xN1SNeb2bex86mHdv5lb3/b6nlrG6ubsXbxrC4xLSRyRwW/LYT1rPxCzu3eF+zd6w+P+J7kq5rneVKhWCtH5tYvb6xaVhNZGJPqIkpMdbwgk/GHhuyujkLn3tLgPqu/2xodLo2OeaWS69mFXDFfLLmBa5fsQA5KrlMczRT6+tRkLLVwgWYY4bqJGQWJ3OwjfP1IIHuem+3r2ffoIx2//lXur3/SuvamSrlo0TLdIOq4UbegjpWkgqYV/eTIWINUrK2WLDXoK9pp20+monbeK4zasqwqGpycIrlSPKkuOKVBT2iW5RYz9tKGVZec8frR4sDTbX/906ZfPbzjTx1D3csa156z9Px4BGWJvV+XRO5A0DW5I0Wcn8TYcby+bm/zi9K2bfJoWvE9xXaVTFEfLRh5LxmtnV/XUqvHtUIpyI05Q92F1h357Tvye3Zm9uzNtHWme3vz+RFLytl+0XULsmw7kpUpFAaGszlm50qeY/uuXezrb/3jX7o3bxLf6Qi3gSCIVw5h5aBwA1s3P33jt5/8xjdHn3laz+aqbS8pqZHaKmOkYPRmtbSrjnrmmJUcTldlitVBbEkQu1QJLpDUVMaBUUvWaWZclSOymmCvB3SLrhLxjRo9WRNVA9lKe8lE1XNtj97y0LX/+fi3H9zx157hkSU1q1+78nVVsWq2ETL76glxIEjkjpBQaBzb29fmbX5eat2hDA2rfkmTfc0taZ6lKr5iyJ5r2T377K5d9sBeu3NnsWN3qb/Lzg0XcumiV7RcpzTqlMYsp5gLlLzLvoNflDxLi8q24udcN2c5lmU7MHOWNbB7746/PgRR5CsmCOIVR5YDpTA6uvHu37be+/ugfW/QNxAUHS3v+VnXN42gJuHNmSPHqqKSFHfzUaekRnS9qj7pJxYXShdrzvpAMnKeHlWj1ZoWk2JVBvtwiSZF6tCOeIHvlfJ51ZB6rB13Pf/TJ3c+3ts/LBWr1jdd/Jb1V65sXqUpWnjKlHzcgSGRO0ICGSXQdXq63Jc2SN37gmzWDwqBm/OtjF/I+vkxrzBkD3ZbbbtKvW3Fvs7SQFdhoLsw0F8qjhXyWcsvOYZX9OxCppQdLGT6IWclKQoPaEuyr0quofi6wr54ICmBospQOidbGHxhY8+GDTB44UYQBPHKIQfsUly6t7MwMlBXV11rqIZte/mS67hytih39KtzGpRTlga+4eZRn6vdRKOtVAWZTCzb3RTxVib80+NSjROoiisZgacHnh9IXpBqUlNzdFnzC8VCybNSc43+/L6O/m6rpMW8xkuWv+XqSz55+uIzTN3g5yhJ314GErkjxxsbdXZs8fv2ebkxXyoGUsHLpd38qFsctfJDVqarNNZRHO20vXQxP5YbGCo5+RK73JbPjI4VSrnC2Fh+KJ3P5DKj2dHhQhZmzXEkzYUTDAJXDVzFc5gRLFm+78kKu3ErPzTct3FjfniITk4QxCsOerrZof59zzxld3ebhaJsOZ4iKb6ny5IpexEvkDNZZ99uxy3Yjc2lxac6c5fq0ZSedw1JjhpqfUI9rclcV6MnfU+LKIapuCUHqtm8NBmpiri+60pWpEoOjCCb9z1LiUsNf7PuPVdf+rer568yNI2tn9+PiW5w6OeI6SCRO1Icx+nq8Hrb/PSA5+e8mOVZWaeYdkppqzhQcgaL7mAh3VcYHc7lhnOF0UIha9n5fCZrFXLsxsmx0WI6YxXyllNwJMvynPRAIT1Wsti9LD4EjT0jWrJKWahhMTeSlWwXUflSaWj33tG2Nt+jT+MTxCsFFIWJSuB7/e17dj38cHbr9qCbveHByxYVM+K1NJSSBvqmQe+Qv7s/KHhy4Lq72/zBDmV0QB4puXbcL8QjWeOUiH7ZkpqVMbMuKlVHAsXyowmtZm5M0wwlCFRVMWMmFDPwIlGt5pJVl33wdR9a3LSIPTMgNkJcNaHnBw4KidxhIwq4Vyx4/d1BYcRz2JU118p5kKvcmDXaX8r0FYa78yP9xdGxYj6f7xst5nN2qVhKMydXKuWlmOPrtl0sOk7Jckue6skoxq7rYJA8V/fRZ5NVX49KuibJgR9AUB3P9yGskNThgV27nWJxwg3MBEGcIFjF43UvcOxifqDPy+aUkq14bqChJst5VR5w3Bx7CUmgeX407xk5Pyj5csmTxwI55yCxk7a9fb67ydZbc8uHs2cbygJViQeBoUp1c2JmXHYsG62K50qBayqeocraKXPXv/OCd82rm+v5gS/DxDFZw2awN/+haaCm4MCQyB0JEBgvl/Uzw55d8mzPlaFWBcfK2YVR2x0tldKlbNrK54tOKT+SLeYKVrFYzOUheJaLUMnO5T07b1sl10VRtpxS0Xct/kC559mOL3tarWokVEVVNFOLxFVVk52A3yUc+FbJyg0MlLJZKtYEccJh2sb+sW92+8Ntu3fe+z+Zl3Z4+bwX0aSqmCPLueFstm0gO2TlLcWVdNtXnHzg5124NDkdeGZUk+3IcEbZl5W7bb/dS7aOvl51Lm2prlKNZLUxd0lK0WXPsSXXV12zlPWLeavWbHjL6W9d1LRgd19r5/Beyy347Pod2w72oi9ycQeFRO6I8H0vm/FtKI3jBZYTFNxczs6m7ULastIlC3bNwpAvlooQs6BoOQXbL9puwTVdR3WsfM5KQxQtH101DwLn2K7v67IbeF7gukVUH1+JyEqAnwd9NoW/D89VVMmE7EmKbdmlfI7OTxDEiYerHBqAoJgZaX3g/oEnnzQyGblkjWUK2XRe1VQ9rulNsVJVbCwaHzGMdDQ6ZibysuznMv5Ixm9uCuY26Ias6b6mBrKjKna0Me9fvqTporULatg9lg76vhEVDUDElGKqZzQl5r/x9MuaGpK/f+GnN9//xV89+Y3fPnvzvc/+vxdbHy2UkDFrJOgZgoNAInfYsFLue0EhJ7klXw5cv4R+HPTL8TxHsUpBqehy5zZcKI3kPQnWzHJUy0l4Jc+C43OcYjFftAu2Z7nsoTeoHLp2kmRZrp1xPMuTFd8tOliFpim6Jvv8uTh2ldnxtUCKGapk204hz2JJ5wjiBIN6J8m+Y3c8/1zP408HQ6OG7UYDRfN8yXGjNalYc3XJ1Aqq6sRiqPyuF5SsAF3iUkEOPCWoXuzOWePEG3wt4ldHgkUpGd3ZtN1Ykt60rOX0+VVSvhhYXso04lospkcaquOnrmpR4v13PHXjr564aXvfw8/s/e3vn73x7idvfLH1PssuoCvMmiTiwJDIHTbwVuwVJ6UC/gSGHuhSoKswXX7BcizHNRU3JjuSZ8OZqTJUzC6h0HqWbfHPZdiBZ/vsDUCea7seEkYCSZVZjiUXM11f5lffXMn05GSgqlIkougRVTcVrFZTlFg8qkJP8wV+VYAgiBMIUxT2cpF0b/fGO+9Kb95iFu2oJNU21TXOb44lI67jOLaX783Kw4XoWCaRscyMLeUtL++ym9JysrOly3mxw+8sub7p+ao0XJIHLSnrq+2dy0sjFzalagtes6c2mbGUFtEVK1WVK7hbN7ffPzLav7hq7Vnz337ugvdecsoHrjj7Yxed8fZkrBrtAL84RxwQErnDIyxM6M0pcuBLkiPJss5eqqoGftEOSrJUUCWYMU3VIoqS0iVJkyOmF2jemIfFsJAWlY1qVTYDyfSDeKA2qKoqq0ihKLInuzmvlHU8LZBjvqyyi9cRQ4kn9GjUjEZ1MxbRoxHJdT2L3YYptoUgiBMGNM7z3N4dW9KbNhjDo7rvsvsgbcu3S5EgMC3Xt1zDNKK6ElhF9jXUZHUpFfdqFbshlo8nLGvAzQ1YjuLNWxxEaoJR2debvPhcteikMsV1tdVvWLH4nKaWVdVz5ybq41qiObX0lNpL3rjyIx9/3Zc+/eavfepN1/7dm6798CX/39vP/ocVLa/RVLQwoh2gszoHhETu8BBFifXlVDWQ+XPagSFnJJg635A8RfIKnmxD9XTFluHHfEUJoFaeLrm6VwoC2ZcUz7NdicUGiuT7ebg+T5MUM6YmanRdCxTH98dcqeArvgcnp+mK6iuaYqQS0QhsHWpZgNWqfEMIgjhxiCsE+ZHB/u1bDSlQWbX3g5LtDY3YfcNawUnFY4YiR6KakorkErptKrIhGyVLHSjqkURQFS3KsqUZ3tJl3pJ1ViLpVRmuHrXlKs8ypJ7cvJHMRQ2NFyw997Wr3/OWc//XJ97ylU+/9fqPXPqld53796879Yo1C9fPb1hQn2xKRasNHZ1odj2OtUn0AMFBIZE7fNjdu7KkaYGuBzoKmsZKu6ZKphZEtQDiZ0mSL8muHMCLpWDTfE2T9biqRBRf47dEFdnnB1A7FFVSSp7sBWZCNeOyFpFUDWZP8YqBXwo0TTKrJd2QY4lYxIwYqm5gruerpqnBz1G5JogTDCpd4A+37+l+9nk3X/BVBbIXUfRYMhaJmaj0TjrnD6alwZybKTkZG91ZY2SkJpOrzXspx43XVUWizXIpIstRN2s76azrS97AoNzdLY2W1K7+yN72qrZ9zUV/bmrh4qYzV8x7zeLGU+qrGqKRmKrAtLEbXsY/kYpN4Q0RVzg6q3MQSOQOHyZeqhqLy8mYHDOkhCnVGlJcUxKmVh1RTUNixVFRdM2QVTOpqjWa1qhpc3Sj2WB3ksCaoaNnqlqdpqYUSGTEVKIxjZ+u9HVDMeKqXqOrhqIoUmyOHqkzYqgaJvycBEk1QDymRaKiF0cQxInEdeyxfXtH9u4ujqRdz5MMVU1G1UTc1zXMDWxHcj3ZR+3UPUnNBUoxkihEjbwsuVlHdRzFzqljeWl3h5Qt+UG9Y9VLsaRSsCUnKWn1finlDxha9z5zuDXIdwZOjvWo0eRgjO60jDaB2Tf+OBELoEMsS+wu7PB7CMR0UEN52LDyhNIWTyjRhMQ+AQUvh7LmKyY716hJqpqISHBtiqFH2V0jhq/qimbEDL0mrlfFzSoz0qjFmoxona6yE/yoN0Fgeyi57CuJho5Om+HIclFWZQ3GzohrZoT1GNXA0yXZTMSZyBkmO2VKEMSJABIC/8Ru8SiMjQx1tJumqaHOW7bve16pVBrL2NmiomhmbVJJodNq6FUJLa578VihqTmzIJWrjZSiiUKpYKmjnmbJQ6NSZ6euG2qsWk5VSZGo37DcnnOqF1QpeUnZ26rsfdRpv98d2wXjyC6LhJsRsr/m89D+ETEdJHKHDTsvr8gK+l+xpCyrUsA+PCAHKnsJj65BprSCrOSUwDDUOl2P6ZGEGZH1iG5G44ap6qqr6vEIe5jGgxLCl5mBJ7N3GBiqJKuB5Blwfij9ji67WgCBNKFzkhGTo3E1URUzY1EjFjMTCX53JXXfCOK4wz5vjMGH4Pjpno7OFzYEtmSaqM6K4QWa7TIV0jQ5Gglqalw0CoauxKKBF+iBpyqOnLONvGM21KkLFrt+PIjXObFoKd/ljXT42bSnqnZCc0oZZ3BQSg/pQ/uUrj6/o10e7PaGB3y3xG5zQ2eaKvuRQiJ3uLCiBhelwl5Fk4oZVSKmrEZ8Xw0UJdB1RdZ0VYemybkgKEiKrhpJuDNdR8ln96Poks9KviRriq2pkq4puo6sDKTT1KSuJQwtphsJSKJhJCF2shaHofOjETlWG43UJKCjZjJlJOirmwRxokDHFiInB1Yx17Np49jW1rGuvqLtBpqGQYlEpWjEZTLkOfmCn7FVy5FLtp534kUrMjiUGrWrbd+ECNbVx5tWamvOdJubS67qJKultaf6qulKmmqPmZ279dExLQjkWH3gJZSS6w8P+sUC3wL4SPJqRwiJ3OHCTo+zM+ToxqXqlWQVs1qyDiGSHd7hMlVtjmkuNnUolq+pDvuMhhLIiidJRVmRVNmVvZysqLoW0dUaqJqu1Rm6qStFWZNUdlYTJd5RNFON1BtmvalHFUhdNGEakQhsYqS6KjmvRYtEYCbFvV4EQRx3UOk9f3D7ltZ777EGBlXHkSynULKKruv5rmZZVY4X81w7PcouM3heaXSEvcXBlwvFUk71Sopi9/U4L20Ounqk/gE1njSrFkp+jRyYakOj3tBsxGW1SpJqUlKy2k82+XJ9MDAmDfXKnhfQhYmjg0TuSFE1rbZRqa6VIjE5ZqpQKfg7n334QjYlLSJHEpopQ/sUOaIopqJ40DlFUWV4NjUnq1kFwmbUmlpCU7EolmLvqpS1JEvDTohG0G+EF/QlCKSqmnF4PqTQInOaYnPmIoBNoLJPEMeLQFyGY//5VFAc7e+4/z5v45ZEsaQpgaEqpqxUwc65ru86MVWVdT2nqza6qbFoPqKNqHImCHIRJZ8yR3wpk0/n8v3p9t2ljVuDoW6vOOTu3OO88LQ32KcNjsq5Mb86YWtxK4g6tuqmLYicXyjyJ70DemnX0UAidyQE7NYTWU1Uq7VzpKqkUpvSkjFFM2RLUnKB70OyFPaIQZLplxYws6cZED9FjapGXNExvyCzSUkyI4phBaovGTWamVRQc1Rd1utUtVZVDPadKBk9QwUlXVYjEb2qymxsitTVQRTDTSEI4rgAYUFFx3+mc1Z2bPe9v+v6zd3JwZFq1zMdx7csR1ai0YhWlcppasb38iXLLLnVATq4iaiqGZ6nsVusDWPIinmSq0ZsW9HZy/m8Yj7j5NOSiz5swckM+N19blEpmrV2TaOfrHELtp/Le74pJ+ZIqhluDnGkUFt5JPDzB4FiGFrtHCUelxVdhnZF4sLPBVnUDUWJKeyVXaasFgLVk7U6VY/IqhHI1bKRUtR4ICdg3gIjokaqjWhcQf9P12TdkQxZ1XxZiclyUlEjSKlJJrtRWEGi6tpoY5OBNdIZDII4rqCGsftJuI3z3YFtG9t+d3fQ1ma6run71Y4bL5Q021HZG48kg72hCx3fwAz8qOfK6bReLFajvxrTVV01/UAzdTWaMB09rmp6fbVSv9iMtURqqjxZtmNVXmN9YCT8gi5XNaiJiKZ7vm+5kYifqJfRaojtIY4UErkjgz8QDnGrbtDq5kmaKamGbMaUaExORVRXldKy4qqKr8gRSU1AyxRVU/SYwm4+gVFrVswWVY/Kmi4EzZMislKlqlBEQ4WksW/9Sr7qBAr7oJQveYGiG0qqKrpgfnLefFXVedUjCOJ4Efo4aF0gF0YGeh57KNi9NxUEqVRSNSO6JFVp2hxVSXqOksunfKk2mTBN9EZlyTSKCdWKaUrcLMWMIc/J6HompqWd7MhIphBPFGsTqqYZkD9T1tS4rtYqc1vU5ibT8vSBYRVUN2qS7geGFKtWdU1sB3HEkMgdGez8Ib/9JGrOWaok6yByihmVEvEgyUpuMOhivmKoAXROU9hbuIqSUpJUjF1ZNhR2e2UBR18J4PwMSVIDhX350PdRe7yA3chiMgWEv4PIBZC8SFyrqUssWRqtqQ03gSCI4wm7pzIIXKfU9/zTw489po3kUHEjyaSGGmyYftQM+Hsh0kFgsye0pZjrp9wgGo+a1Sl0XAM9Zqaq1aLny2YpYhYcJ1d0M7qaUYojO7ZZ7e120rATsru3zU/nC4pWcnw/X/DQKhjxoHaBvOwcc94ySVXJyR0lJHJHDioAPJde3agvWMFeW8BeWBnRVVOvM7VqQ5JVOcae5mZPccd91/A99kpl/p4S+DMs7khekb2zWa3FQpLseQpsn+cqqBSlQC6yN1RC4KxC4HiGZ8SiixanFi5SdF2cLOWbQBDE8YHVMPZ83NDOl3b++tfO5u2SZQWO6w+NVBWLTboe0TRJUeVUlYV6qkh59r1jT0eP1rZimVKNrSi+Y2czmutzoTKMrBeTZTvQXNtQfXR/pWIpsFxNSaWcQpDpcyyzMWhebGupbM53a5Ykzn69OXc+Wgz+/AKaDaryRwiJ3JEjLozJmmHOWaw1tASwXrqmQud0w6jTFV1VnECx2dvmfAXdOkmKy2pCVSOyGlGVak2u1+QUuxVTVX0pGvgxKYhKgREgpWcFvucFpu/6ruvB4xlKqjq+dLmeSATsi8DIk10PZ5+Uo6JPEMcOVqM4fEp2bHvghWfzrdsMy4qUbNROz3VNWY4U8sl8ISVJMc9rVOSopuVlOStJhaieVvxMvhDohh2VRq18VpZLyMYreJoSxEw9mdDVhFFdqzbWSnpS0huUxgVBTY0i6VK2IClRuxhz1EbzjNeazfNliCg7XSq2ixzdEUIid1QImdFiqciitXJVEzv3qMm+r6KLx15g6brs9KMKlxaokqQhEEX9kGXflW1PKriS7cq670mOr3nsbSfIS2fnPfS4rCTkICYVfM/xdb+qOnbaGWbzHM9zIX4+O7Hp8VWXdY4tSxDE0cOrFOtF4k9+oHPkpU2xTFZ3fFlXjdoqLxq1Nfawq6lKMV0tFLOq5yUU9ixBlQS/ZiAHdE4DXTXNmGTLkqrLUdPVVc9Q9dqkZMglK5dzbbu6zq9NOekBK5u1YzVOLOXHErYas83a6LmXRteeKRkRdkkkoHfUHi10AI8KpjH8DmOjdm5k0XpZT/qy58vwYQrmeL7nyr6n4TCzRwEkTeIS5cG3yexT314AQUSc5knsq6uSBAOXY7ImxQJYuoJl5Yu+G4tHV62NL1vly5LrWC46ha7N1A41ibtEbAOHbY7YKoIgjggmbBAW9l+WPcca2vT84LPPa46npRK2ppqKFPX9qKHJJnqjsq7rGU8alaScwt4GETc0XWW3VCfEd7c8V0V31EW1RQNganpMNaOKltBidWZtsxNN5m2Z1XwD9V8PPFNasKxQ3aisXFt1/vlaKoUGg7XO/I3MCvtksthC4rAhkTtiRF8PIz/wPEyZLYu1ZWd5Rq2ryo4kOQ7USxbWC7aLSRIv9a7Ll4YWRgJP8b2io7KP08EDBoETeIXAQxrNs32nkAt8ORlbvCax+jRPkuxCzrEsx7Y8pnPsu/rQS/Y6vVDnyq6OIIgjAZUH1ZBdAkPY90d3bd97z+9Ke9vlTMHIFeOWow6MpAqF6qgej6oGuraK1qAb8WgsJ8tj6J0aeoEJnuRXxeXahJQy9YSupSLRKtNU5UgipsYjcmA7xZwUNT30cx3NbJ4b1FTbRUuKRqXly1OXXdH05iv0uga+BWyT0EDzv/TQ0JFDIneEoC5AVZiNY+9tRQG3oDnynCXywtP8aK2nBZAldgoykF3LZwas5Nk51+OfkfNdCbaMvZYZecDSoX8IjSr5Nsyd4UELbdstpgPPSkQblseWrA501S7mnGLRtUpQONd1IHIwcxBXcfaSKxwzlKRzBHHEQEd4/eHPx7mlvo3P5Xe1Vqmq4Xp6sRBR2DuIHGig50Y0JRozfdkxJbcuqtca7D4U1zQ83XTZc9+mHKuSjGTciDXUJFPxOPt+CHv/kS75kmlEJU132JPhqho1JU3TmudFLjg/dtY5VevW63U16PAq7EKcwk9X8ktyxFFAInfkoACy/p7neY7j2o5dLKHgBrUt7tx1hUhT3lMLOa/keKWiXciwmYWCW8xZlm0Xixhcp+C48Hea5+ZctxBYrleSXEv2ir6fc+SCn5QalumLVgS67hTybJlSEU7OhZODjWMfXfX4wODaxm9GIZ0jiCMHggIfh+qjoEOZ7e20M1nNdi1UroiuaezFfH4qVjI01OvANIuaUlQD23dkzzZicT8WlxJmtLpKi8cUXY74QSqVSCZjpmYk6xuiTY26ZqiKoTU3aWZE9yW9sV5O1GgLltW+4+2N73xH7emn67E4ezAJ/9hzuGKLSOOOFhK5I4NrCfwTkxh22hC+ynVgsCwEvFhNqWbZqDFnoKQN5J2Rkp227bRVylhOtujmS27ecgt5CJbH3nmnerBmBd8pyG5BcTOaPxYoGSVZTLUE9XMk0/RdZOnAKnpIyE5UihOg/FwlFzm+GR6TNxYWYAth7AiCOBxQcYTMSZJTyjtDg07fqJQrKY4ne37U81OqkqiOGpKkZW0jGoeEpcyYWlVlBQoW0gwddVFSFDUVsX3LK+QiVUkpEnFKNuya0tjo6hp7sxEqtappTQ2RZSsSF7+x8YMfrD7/XHNOsxqNMPPGzkyy76HCz4mNIo4SErkjhqsJv9zGvZTHT+ez595kFVWhyquePxZt6Silto+qm4ad5wfzz/ZlXuzNbRss7R6yOtNOf8nrK/ldY/berN066uwY9nePKPvs5HCs2WlYrDXN15Mp9lIElf1GYiV+ILSNT7BTlAIeGJ/iNRUTbCG+nQRBHBpMV9BdhL54xc52b8u2Ks8zVf4FZHb/hxSR/VguG5ccw5DVfCbq23HFS5lqbSoSjyrJqmhdbSoZMaKmGY2l9FhSMqNKXZPRPN/RowVZl5YtC05ZFSxcGX3zFQ2f/PumD32o4e1vji1frpgR/laISaaNTNyxgUTuiOGnBsMwYG+XlDVV1XUtFo2mUsmmhur5i5Lzlun1i91kS8ZoGFSqO6zo9py2LcuGrWPa1kH9paHYrlyiy64eU5vcxEKzfmlVy7LqloXx+kYzVaPHYrJpShr7hDgv87yfKYDmsW0ouzdsCzvTwjdLEG4ZQRCHDrsiJwV2f3/Q3pVEnU7FpaihNSS9mM5O3aiKkzK8qBLYBV+xnMBWCtloVFXRs7ShZTFd1TzL1atqtFTScjyvus6ZtyBYukJfd2b0vIvr3/buBR/+0Lx3v7P27HMTi5YYqQTzbUzQGOwqHLsKQhxLWIsZBonDAIXdC+/78FzPdV3Hdm3LLlmuXXJKBauQs/LZUi5TyI4V82PFQrZYyllWwbJsflYTSsQ0i31eR1UNzTB1wzRj6P5FYgkzHkdAN6J6JKYamBlR2RfFDYzZ9/INU9MNjX14B4qKscq+zcM+e6CKcxzsjEfAbzqW+CRxcvDggw++973vXb9+/R133NHY2BjGEicXvDXkncfBJ+5r/dIXjL3tGiqaayfrk5JlKcM5ff48r8oM9u5DdbSr4u5IUa9KKql4KWtJ8aTaXG+PZNhrbJctdcdyfjwZfc3Zesv8xLz50aYmdFh102Cvo0RvlbUBbG3jqsaqKlXX4wGJ3JHBTh8GPhO5ACLHBo/dE2k7jlNybduximwo5Z1S0S7mHatk20X2lJtte56DhVm55qVaURVN02EA2RgCxjSMyRhTNV1XVKiaoWAWBh0Dj0dSNkuTIXIMyBsEjkkd/yYPU0/2gR6hecTJAYncjIAJD2qnLA1vf7Htpq+rTz+lFixd8uNRVDDJL7pBTZ1Uk1D6h4yo6ScS7mBWqoortbX2WC4wo9qSxQ6q5bylkbXrFTWiz22MzFugJxLsUly4AnbRrixndCbtBEAid2SwS2DsvCDTOXEnCPNzzNK5DrvZkusZxuyOf8fy4d4Q5rf+M10M31fCYMrEfBj7Ah37bKrGLBobtHEZY2Fm2pjmsQAED51LllhWVXaVm4scMmFv0kTlgZdjL0nABIsXayFecUjkZgShv5Klnp1bX/zBDTUbnkuNjsqOk0pGPSlwsq5RVe2pblCyIw2N7KV7Q2NqU73a2OQlqvSV62KvOUdrbNJr69VEij0fjhrKKiFqO/dr4rIbq5XsLyJI5E4AJHJHBj9qTOTg5yBy/P5K9hYSdickQr5rQ+5YHRDPtLkuDB+XQ/agHLuDhF1LY0LJqgBzXkznFPZ9VG7IVBFQ2UU+HoCqCfFTEQGB46KIsYIxvzMFIZ4XEvM6hATMzJHInSyQyM0IuMixWySHu/c9cvt/6ls3zO/vjYyMRhORwNT90aKZqnPRdbVtfd58ORJhz3fPbZaqGqKnrEmcdqZe34DaKzRM1D2umSJcHjG5Y+HKEHHcIJE7EnjRZEduXKuYl2N3WjKpg+IJPRP2LhQ/Ngtjdl8keoRMHCXJD28SFsWc6xxkiYPw+BlIpmcAro5fwWOTzPKxC3oMNhYiiSxEDsiQL08idxJBIjcj4HWa9T0dx+7vaO/fvt3Z1ar1dlQFrprPeLmi2bRIrW9Ua6qNRYuUREKvq9NrawNN1+NJ2TDYLZIBq4Y8KzZitXG8xSiPiBMJidzRwLRK5q88Ef8kdiqSKR77VoD4J0Zc5Fgkt3ES+w+NY+8oERmFCFFiIheaO6ZzgKsZG7PXfzFdEwrHk3Bd5EnFyQ8ez5cmkTuZIJGbETDjxW88YZXJl1zLzqXHSiNDWiEvjY26jm3WzY3MnWtUJZVIRFIVpmGsvrGKLCob1zR23YA4SSCRO2JYl0y4Of6GL6ZyfMzDAN6OTXBdE3MhdTyA4PhFvcpHtlmGYZAJFxMqZu8E7K/CFExoG1M8HivOUuIvq1eI4ouy2ciKRO4kgkRuJoBKiUrtM+kSsL/8rA17oZDHY9iFcERjOkyEuQjxysbjMQ7nECcDrO9PHBGsHLOCzYZQddh/fk8/G9jZRXaLiI5/qg40w2B3ThqGzh4MMDE2+LMDLJ7H8IGFdfaQAH9UQNxjwrNi5ypVja+IrYcpGxczBlM4wDeLIzaPIIhDhz/XE7DTImVYDKtU7NKBpsuazqo5j+WJeH1j1ZF3NlmlE2PiJIJE7qhgHT9WqFlJF108VgXYbSN8zAcmThq7WxJSp0HqmIDxwWCPBwhJ46qGIZzL4tmjAuzJAXa/ZfmWSy50ocyJmsUv5bHqxkFkuGUEQRwmXJ2mkahyPP9fmWDCBHFyQm3iUcHLeCgwgCscxEcObwpBCD1A5u04XPD4EJozpmF8XDFwbROSxuUtDIcLYg1C54TUsVG45nFEDH5Zqn8EQRAkcscEflZeSAu7sZFpEXQuHNi1NCFL/Ivh/EwmfwCO6R8/G1lWMj4I66bxZ+bE6cr9UsfUkT88wDOUNfbMAL/BROgc72uGCkff6CAIgiCROyYwfWHywv9yvYHwcKOFgdsvid82wgLch7FI7uaERYPmCaljNg36JsJsHguE8saTcj8I2DJMSlk4XBNfLzuBybaCbxJBEMSrHBK5YwhUJcAoYPdXQWLYVToheFAgJk2hGDEfpig6BIypF3sALpQxRdXDQSkPGkvPBiZvXDs1ftskv9OECZuAaZtYK/vP7vAiCIIgSOSOMUJpIHRszO/AYsrEtAqeTGMvqGQ3TKrsZZXszcx8ENfhxKypqOFfYe9CuEyKnJl7Y6sS6sY2oDwmCIJ4tUMid1zgHzzkOhcipCgcyghrJ/5MSnPgYQJcz9gwHiYIgiD2QyJ3nCC9IQiCeOUhkSMIgiBmLSRyBEEQxKyFRI4gCIKYtZDIEQRBELMWEjmCIAhi1kIiRxAEQcxaSOQIgiCIWQuJHEEQBDFrIZEjCIIgZi0kcgRBEMSshUSOIAiCmLWQyBEEQRCzFhI5giAIYtZCIkcQBEHMWkjkCIIgiFkLiRxBEAQxayGRIwiCIGYtJHIEQRDErIVEjiAIgpi1kMgRBEEQsxYSOYIgCGLWQiJHEARBzFpI5AiCIIhZC4kcQRAEMWshkSMIgiBmLSRyBEEQxKyFRI4gCIKYtZDIEQRBELMWEjmCIAhi1kIiRxAEQcxaSOQIgiCIWQuJHEEQBDFrIZEjCIIgZi0kcgRBEMSshUSOIAiCmLWQyBEEQRCzFhI5giAIYtZCIkcQBEHMWkjkCIIgiFkLiRxBEAQxayGRIwiCIGYtJHIEQRDErIVEjiAIgpi1kMgRBEEQsxYSOYIgCGLWQiJHEARBzFpI5AiCIIhZC4kcQZwgZFlWFKpxBHFCoSpHECeChoaGyy+//PzzzzdNM4wiCOL4IwdBEAYJgjhuOI6Tz+c1TYvFYuTnCOKEQSJHEARBzFqoR0kQBEHMWkjkCIIgiFkLiRxBEAQxayGRIwiCIGYtJHIEQRDELEWS/n/0r1mfz/wUwgAAAABJRU5ErkJggg==)"
   ]
  },
  {
   "cell_type": "markdown",
   "metadata": {
    "id": "ySLRU1rjT_bd"
   },
   "source": [
    "Ранее были созданы три датасета с признаками:\n",
    "\n",
    " * features_train_1 (включает все признаки)\n",
    " * features_train_2 (включает два важнейших признака)\n",
    " * features_train_3 (включает девятнадцать признаков, а именно: все за исключением важнейших)\n",
    "\n",
    " Принятое решение тестировать модели по этим трем враиантам необходимо скорректировать. Поскольку в рамках 3-го раздела будет проведено исследование нескольких алгоритмов балансировки классов, для выполнения первоначально намеченной прогарммы потребуется провести 36 тестов. Это чрезвычайно трудоемкая задача для реализуемого проекта. По итогам тестирования трех вариантов датасета с признаками на несбалансирвоанной выборке был сделан важный вывод о том, что тестирование выборки с малозначимыми признаками лишено смысла. Отдельное тестирование выборки с немногочисленными важнейшими признаками на самом деле представляет практический интерес, но для этого необходимо, чтобы уровень влияния этих рпизнаков на целевой признак был выше того, котоырй был выявлен в п. 1.5.1.\n",
    "\n",
    " В связи с этим далее по каждому алгоритму три выбранные для исследвоания модели будут тестироваться только один раз на выборке, включающей всю совокупность признаков features_train_1"
   ]
  },
  {
   "cell_type": "code",
   "execution_count": null,
   "metadata": {
    "colab": {
     "base_uri": "https://localhost:8080/",
     "height": 226
    },
    "id": "7ZO9fEbXIP9K",
    "outputId": "891f9994-9e86-4f89-fc1b-bd0f8fb0d5a0"
   },
   "outputs": [],
   "source": [
    "# выведем первые пять строк датасета с признаками перед масштабированием\n",
    "features_train_1.head()"
   ]
  },
  {
   "cell_type": "code",
   "execution_count": null,
   "metadata": {
    "colab": {
     "base_uri": "https://localhost:8080/"
    },
    "id": "ahkwW9KuIXRG",
    "outputId": "6c4c4139-e7a4-4890-f010-c367d7236824"
   },
   "outputs": [],
   "source": [
    "# выведем информацию о размере датасета перед масштабированием\n",
    "features_train_1.shape"
   ]
  },
  {
   "cell_type": "code",
   "execution_count": null,
   "metadata": {
    "id": "-fDXIvrTy4UI"
   },
   "outputs": [],
   "source": [
    "# создаем объект StandardScaler\n",
    "scaler = StandardScaler()"
   ]
  },
  {
   "cell_type": "markdown",
   "metadata": {
    "id": "h3B6I1hPXpOC"
   },
   "source": [
    "Обучаем и трансформируем созданный объект scaler на датасете features_train_1, включающим все признаки"
   ]
  },
  {
   "cell_type": "code",
   "execution_count": null,
   "metadata": {
    "colab": {
     "base_uri": "https://localhost:8080/",
     "height": 74
    },
    "id": "VcNFEmvXWwgN",
    "outputId": "8376a66b-110e-4221-9ed3-883caa1f3b7e"
   },
   "outputs": [],
   "source": [
    "scaler.fit(features_train_1)"
   ]
  },
  {
   "cell_type": "code",
   "execution_count": null,
   "metadata": {
    "id": "cpPJAKOqWwsD"
   },
   "outputs": [],
   "source": [
    "features_train_1 = scaler.transform(features_train_1)"
   ]
  },
  {
   "cell_type": "code",
   "execution_count": null,
   "metadata": {
    "colab": {
     "base_uri": "https://localhost:8080/"
    },
    "id": "lxHrv2iYXAM6",
    "outputId": "0449789f-3b56-414a-b2e2-2e5efa22d89a"
   },
   "outputs": [],
   "source": [
    "# выведем информацию о размере датасета перед масштабированием\n",
    "features_train_1.shape"
   ]
  },
  {
   "cell_type": "markdown",
   "metadata": {
    "id": "-ZhOl1AZZV7_"
   },
   "source": [
    "**Выводы по 3.1 Масштабирование данных тренировочного комплекта**:\n",
    "\n",
    "**(1)** данные обучаюшей выборки features_train_1 масштабированы с помощью объекта StandardScaler"
   ]
  },
  {
   "cell_type": "markdown",
   "metadata": {
    "id": "C3BOfPj7aF67"
   },
   "source": [
    "### **3.2 Обучение моделей с учетом устранения дисбаланса классов методом SMOTE**\n",
    "\n",
    "---"
   ]
  },
  {
   "cell_type": "markdown",
   "metadata": {
    "id": "FBEa4Od9lHTl"
   },
   "source": [
    "#### **3.2.1 Устранение дисбаланса методом SMOTE**\n",
    "\n",
    "---"
   ]
  },
  {
   "cell_type": "code",
   "execution_count": null,
   "metadata": {
    "colab": {
     "base_uri": "https://localhost:8080/"
    },
    "id": "sa7LJ2l_Z5Ei",
    "outputId": "f1b22934-86ac-473f-f542-a7e530a84cd0"
   },
   "outputs": [],
   "source": [
    "# устраняем дисбаланс классов в обучающем комплекте\n",
    "# методом SMOTE\n",
    "features_smote, target_smote = SMOTE().fit_resample(\n",
    "    features_train_1, target_train)\n",
    "print('Оригинальный датасет:', sorted(Counter(target_train).items()))\n",
    "print('Сбалансированный датасет:', sorted(Counter(target_smote).items()))"
   ]
  },
  {
   "cell_type": "code",
   "execution_count": null,
   "metadata": {
    "colab": {
     "base_uri": "https://localhost:8080/",
     "height": 390
    },
    "id": "LTTKZyIIy47s",
    "outputId": "df06bc2a-bceb-4308-d6a6-7c6e91500590"
   },
   "outputs": [],
   "source": [
    "# визуализируем результаты устранения дисбаланса классов\n",
    "sns.scatterplot(\n",
    "    x=features_smote[:,0],\n",
    "    y=features_smote[:,1],\n",
    "    color='r',\n",
    "    label='sampled')\n",
    "sns.scatterplot(\n",
    "    x=features_train_1[:,0],\n",
    "    y=features_train_1[:,1],\n",
    "    hue=target_train)\n",
    "sns.set(rc={'figure.figsize':(7,4)})\n",
    "plt.title('Рис. 8 - Балансировка классов тестового комплекта методом SMOTE',\n",
    "          fontsize=12)\n",
    "\n",
    "plt.tight_layout()\n",
    "plt.show()"
   ]
  },
  {
   "cell_type": "markdown",
   "metadata": {
    "id": "Q8FNTqkQfPFU"
   },
   "source": [
    "По рисунку 8 можно заметить, что с помощью метода SMOTE были добавлены значения, позволяющие сбалансирвоать выборку, преимущественно по внешней границе признака '1'"
   ]
  },
  {
   "cell_type": "markdown",
   "metadata": {
    "id": "5vQUDIBbknrR"
   },
   "source": [
    "#### **3.2.2 Обучение модели классификации деревом решений на выборке, сбалансированной методом SMOTE**\n",
    "\n",
    "---"
   ]
  },
  {
   "cell_type": "code",
   "execution_count": null,
   "metadata": {
    "id": "EDXxfT3wwvo8"
   },
   "outputs": [],
   "source": [
    "# объявляем модель классификации деревом решений\n",
    "model_tree_2 = DecisionTreeClassifier(random_state = 1)"
   ]
  },
  {
   "cell_type": "code",
   "execution_count": null,
   "metadata": {
    "id": "IMEhF8_6fQD7"
   },
   "outputs": [],
   "source": [
    "# создаем словарь с гиперпараметрами и варьируемыми значениями\n",
    "params_model_tree_2 = {\n",
    "    'criterion': ['entropy'],\n",
    "    'max_depth': range(1, 31, 2),\n",
    "    'max_features': range(1, 7, 2),\n",
    "    'min_samples_split': range(1, 11, 2),\n",
    "    'min_samples_leaf': range(1, 6, 2),\n",
    "    }"
   ]
  },
  {
   "cell_type": "code",
   "execution_count": null,
   "metadata": {
    "id": "_H0tB_Tci1tN"
   },
   "outputs": [],
   "source": [
    "# объявляем объект GridSearchCV\n",
    "grid_model_tree_2 = GridSearchCV(\n",
    "    model_tree_2,\n",
    "    params_model_tree_2,\n",
    "    cv = 5,\n",
    "    scoring = 'f1',\n",
    "    refit=True,\n",
    "    n_jobs= -1)"
   ]
  },
  {
   "cell_type": "code",
   "execution_count": null,
   "metadata": {
    "colab": {
     "base_uri": "https://localhost:8080/",
     "height": 151
    },
    "id": "Is-LU2Qwi1yJ",
    "outputId": "20f96b22-40bb-421c-e136-ec7e2b55125c"
   },
   "outputs": [],
   "source": [
    "%%time\n",
    "\n",
    "# обучаем модель с помощью функции fit()\n",
    "grid_model_tree_2.fit(features_smote, target_smote)"
   ]
  },
  {
   "cell_type": "code",
   "execution_count": null,
   "metadata": {
    "colab": {
     "base_uri": "https://localhost:8080/",
     "height": 92
    },
    "id": "efg07n7gi121",
    "outputId": "59f06ea3-6f45-48ff-9841-e40b527cf8fc"
   },
   "outputs": [],
   "source": [
    "# сохраним лучшую модель DecisionTreeClassifier\n",
    "# в переменную best_tree_model_2\n",
    "best_tree_model_2 = grid_model_tree_2.best_estimator_\n",
    "best_tree_model_2"
   ]
  },
  {
   "cell_type": "code",
   "execution_count": null,
   "metadata": {
    "colab": {
     "base_uri": "https://localhost:8080/"
    },
    "id": "rL676pqAi16y",
    "outputId": "e4702a4a-1d20-434e-e567-36d7f32e4fd3"
   },
   "outputs": [],
   "source": [
    "# выведем на экран гиперпараметры лучшей модели\n",
    "# классификации деревом решений\n",
    "grid_model_tree_2.best_params_"
   ]
  },
  {
   "cell_type": "code",
   "execution_count": null,
   "metadata": {
    "colab": {
     "base_uri": "https://localhost:8080/"
    },
    "id": "J3BG3IAVfQIH",
    "outputId": "24877a25-221d-4f86-c213-3ad4b3836d76"
   },
   "outputs": [],
   "source": [
    "# вычислим f1_score лучшей модели\n",
    "# классификации деревом решений\n",
    "print('f1_score лучшей модели на выборке features_smote =',\n",
    "      round(grid_model_tree_2.best_score_, 4))"
   ]
  },
  {
   "cell_type": "code",
   "execution_count": null,
   "metadata": {
    "colab": {
     "base_uri": "https://localhost:8080/"
    },
    "id": "prlaV4ogfQLy",
    "outputId": "6301b319-c5b0-46e6-94ed-d89a7eb0b717"
   },
   "outputs": [],
   "source": [
    "# вычислим метрику roc_auc лучшей модели\n",
    "# классификации деревом решений\n",
    "probabilities_2 = (\n",
    "    best_tree_model_2.predict_proba(features_smote))[:, 1]\n",
    "\n",
    "roc_auc_tree_2 = roc_auc_score(\n",
    "    target_smote, probabilities_2)\n",
    "print('roc-auc на выборке features_smote =',\n",
    "      round(roc_auc_tree_2, 4))"
   ]
  },
  {
   "cell_type": "markdown",
   "metadata": {
    "id": "1UCqO0Gdmhvs"
   },
   "source": [
    "#### **3.2.3 Обучение модели классификации случайного леса на выборке, сбалансированной методом SMOTE**\n",
    "\n",
    "---"
   ]
  },
  {
   "cell_type": "code",
   "execution_count": null,
   "metadata": {
    "id": "HKn-U2pVfQPr"
   },
   "outputs": [],
   "source": [
    "# объявляем модель классификации случайного леса,\n",
    "model_forest_2 = RandomForestClassifier(random_state = 1)"
   ]
  },
  {
   "cell_type": "code",
   "execution_count": null,
   "metadata": {
    "id": "8o-siAAImeii"
   },
   "outputs": [],
   "source": [
    "# создаем словарь с гиперпараметрами\n",
    "params_model_forest_2 = {\n",
    "    'criterion': ['entropy'],\n",
    "    'max_depth': range(1, 17, 2),\n",
    "    'max_features': range(1, 5, 2),\n",
    "    'min_samples_split': range(1, 11, 2),\n",
    "    'min_samples_leaf': range(1, 6, 2),\n",
    "    'n_estimators': range(1, 71, 10),\n",
    "    }"
   ]
  },
  {
   "cell_type": "code",
   "execution_count": null,
   "metadata": {
    "id": "Cd6aAyIemepy"
   },
   "outputs": [],
   "source": [
    "# объявляем объект GridSearchCV\n",
    "grid_model_forest_2 = GridSearchCV(\n",
    "    model_forest_2,\n",
    "    params_model_forest_2,\n",
    "    cv = 5,\n",
    "    scoring = 'f1',\n",
    "    refit = True,\n",
    "    n_jobs= -1)"
   ]
  },
  {
   "cell_type": "code",
   "execution_count": null,
   "metadata": {
    "colab": {
     "base_uri": "https://localhost:8080/",
     "height": 151
    },
    "id": "Dt3mvLcAmeuj",
    "outputId": "5570ea31-a765-471c-e3be-0cb8556adb93"
   },
   "outputs": [],
   "source": [
    "%%time\n",
    "\n",
    "# обучаем модель с помощью функции fit()\n",
    "grid_model_forest_2.fit(features_smote, target_smote)"
   ]
  },
  {
   "cell_type": "code",
   "execution_count": null,
   "metadata": {
    "colab": {
     "base_uri": "https://localhost:8080/",
     "height": 92
    },
    "id": "orGEEsLOmezW",
    "outputId": "fecb1da9-b0f9-4dbd-e9cf-8f95da9b73bf"
   },
   "outputs": [],
   "source": [
    "# сохраним лучшую модель RandomForestClassifier\n",
    "# в переменную best_forest_model_2\n",
    "best_forest_model_2 = grid_model_forest_2.best_estimator_\n",
    "best_forest_model_2"
   ]
  },
  {
   "cell_type": "code",
   "execution_count": null,
   "metadata": {
    "colab": {
     "base_uri": "https://localhost:8080/"
    },
    "id": "lufqGDYyme3K",
    "outputId": "76005553-7383-48fe-daca-d6f861acc783"
   },
   "outputs": [],
   "source": [
    "# выведем на экран гиперпараметры лучшей модели\n",
    "# классификации случайного леса\n",
    "grid_model_forest_2.best_params_"
   ]
  },
  {
   "cell_type": "code",
   "execution_count": null,
   "metadata": {
    "colab": {
     "base_uri": "https://localhost:8080/"
    },
    "id": "ZhAOfHJVme6p",
    "outputId": "f35b4cc8-a113-4831-8168-2bede9897b45"
   },
   "outputs": [],
   "source": [
    "# вычислим f1_score лучшей модели\n",
    "# классификации случайного леса\n",
    "print('f1_score лучшей модели на выборке features_smote =',\n",
    "      round(grid_model_forest_2.best_score_, 4))"
   ]
  },
  {
   "cell_type": "code",
   "execution_count": null,
   "metadata": {
    "colab": {
     "base_uri": "https://localhost:8080/"
    },
    "id": "be89WcXLme-H",
    "outputId": "a2ea608a-9f67-41c2-eba3-b6068170577c"
   },
   "outputs": [],
   "source": [
    "# вычислим метрику roc_auc лучшей модели\n",
    "# классификации случайного леса\n",
    "probabilities_2 = (\n",
    "    best_forest_model_2.predict_proba(features_smote))[:, 1]\n",
    "\n",
    "roc_auc_forest_2 = roc_auc_score(\n",
    "    target_smote, probabilities_2)\n",
    "print('roc-auc на выборке features_smote =',\n",
    "      round(roc_auc_forest_2, 4))"
   ]
  },
  {
   "cell_type": "markdown",
   "metadata": {
    "id": "ZY5-U6who_hQ"
   },
   "source": [
    "#### **3.2.4 Обучение модели логистической регрессии на выборке, сбалансированной методом SMOTE**\n",
    "\n",
    "---"
   ]
  },
  {
   "cell_type": "code",
   "execution_count": null,
   "metadata": {
    "id": "Q3f6IGvLmfBX"
   },
   "outputs": [],
   "source": [
    "# объявляем модель логистической регрессии\n",
    "model_logreg_2 = LogisticRegression(random_state = 1)"
   ]
  },
  {
   "cell_type": "code",
   "execution_count": null,
   "metadata": {
    "id": "UpxsNrWJpD2Q"
   },
   "outputs": [],
   "source": [
    "# создаем словарь с гиперпараметрами и варьируемыми значениями\n",
    "params_model_logreg_2 = {\n",
    "    'solver': ['newton-cg', 'lbfgs', 'liblinear'],\n",
    "    'max_iter': range(100, 5001, 100)\n",
    "    }"
   ]
  },
  {
   "cell_type": "code",
   "execution_count": null,
   "metadata": {
    "id": "PGVFTvi9pD5i"
   },
   "outputs": [],
   "source": [
    "# объявляем объект GridSearchCV\n",
    "grid_model_logreg_2 = GridSearchCV(\n",
    "    model_logreg_2,\n",
    "    params_model_logreg_2,\n",
    "    cv = 5,\n",
    "    scoring = 'f1',\n",
    "    refit = True,\n",
    "    n_jobs= -1)"
   ]
  },
  {
   "cell_type": "code",
   "execution_count": null,
   "metadata": {
    "colab": {
     "base_uri": "https://localhost:8080/",
     "height": 151
    },
    "id": "pyhTNoffpD87",
    "outputId": "bd3d5628-305f-4ee9-fb5c-9f4c05f561f5"
   },
   "outputs": [],
   "source": [
    "%%time\n",
    "\n",
    "# обучаем модель с помощью функции fit()\n",
    "grid_model_logreg_2.fit(features_smote, target_smote)"
   ]
  },
  {
   "cell_type": "code",
   "execution_count": null,
   "metadata": {
    "colab": {
     "base_uri": "https://localhost:8080/",
     "height": 74
    },
    "id": "bMB9SkrKpEAh",
    "outputId": "c06b6691-b13d-4d26-f376-33acc2986b4e"
   },
   "outputs": [],
   "source": [
    "# сохраним лучшую модель LogisticRegression\n",
    "# в переменную best_logreg_model_2\n",
    "best_logreg_model_2 = grid_model_logreg_2.best_estimator_\n",
    "best_logreg_model_2"
   ]
  },
  {
   "cell_type": "code",
   "execution_count": null,
   "metadata": {
    "colab": {
     "base_uri": "https://localhost:8080/"
    },
    "id": "btQRLcB9pEDR",
    "outputId": "714ac903-0bcb-484b-ac44-6062d2e3e522"
   },
   "outputs": [],
   "source": [
    "# выведем на экран гиперпараметры лучшей модели\n",
    "# логистической регрессии\n",
    "grid_model_logreg_2.best_params_"
   ]
  },
  {
   "cell_type": "code",
   "execution_count": null,
   "metadata": {
    "colab": {
     "base_uri": "https://localhost:8080/"
    },
    "id": "FdwrZGt3pEG3",
    "outputId": "22831a10-6abb-4e4b-de7b-d00c82da87f4"
   },
   "outputs": [],
   "source": [
    "# вычислим f1_score лучшей модели\n",
    "# логистической регрессии\n",
    "print('f1_score лучшей модели на выборке features_smote =',\n",
    "      round(grid_model_logreg_2.best_score_, 4))"
   ]
  },
  {
   "cell_type": "code",
   "execution_count": null,
   "metadata": {
    "colab": {
     "base_uri": "https://localhost:8080/"
    },
    "id": "rIsDDtlDpEKC",
    "outputId": "2c489b9a-a54f-4e35-dfb5-18eebca263d8"
   },
   "outputs": [],
   "source": [
    "# вычислим метрику roc_auc лучшей модели\n",
    "# логистической регрессии\n",
    "probabilities_2 = (\n",
    "    best_logreg_model_2.predict_proba(features_smote))[:, 1]\n",
    "\n",
    "roc_auc_logreg_2 = roc_auc_score(\n",
    "    target_smote, probabilities_2)\n",
    "print('roc-auc на выборке features_smote =',\n",
    "      round(roc_auc_logreg_2, 4))"
   ]
  },
  {
   "cell_type": "markdown",
   "metadata": {
    "id": "N5d-1gTyq1-Q"
   },
   "source": [
    "**Выводы** по п. 3.2 представлены в итоговых выводах по 3-му разделу проекта"
   ]
  },
  {
   "cell_type": "markdown",
   "metadata": {
    "id": "WNS2aOgYwdEJ"
   },
   "source": [
    "### **3.3 Обучение моделей с учетом устранения дисбаланса классов методом ADASYN**\n",
    "\n",
    "---"
   ]
  },
  {
   "cell_type": "markdown",
   "metadata": {
    "id": "CsG7eMlirQjf"
   },
   "source": [
    "#### **3.3.1 Устранение дисбаланса методом ADASYN**\n",
    "\n",
    "---"
   ]
  },
  {
   "cell_type": "code",
   "execution_count": null,
   "metadata": {
    "colab": {
     "base_uri": "https://localhost:8080/"
    },
    "id": "xpKim3NupENI",
    "outputId": "36f58c00-02eb-4020-8f88-62b300427730"
   },
   "outputs": [],
   "source": [
    "# устраняем дисбаланс классов в обучающем комплекте\n",
    "# методом ADASYN\n",
    "features_adasyn, target_adasyn = ADASYN().fit_resample(\n",
    "    features_train_1, target_train)\n",
    "print('Оригинальный датасет:', sorted(Counter(target_train).items()))\n",
    "print('Сбалансированный датасет:', sorted(Counter(target_adasyn).items()))"
   ]
  },
  {
   "cell_type": "code",
   "execution_count": null,
   "metadata": {
    "colab": {
     "base_uri": "https://localhost:8080/",
     "height": 410
    },
    "id": "XFFBYkAGpEPl",
    "outputId": "6728feaa-d7e3-48b5-aabd-17e1a805ee02"
   },
   "outputs": [],
   "source": [
    "# визуализируем результаты устранения дисбаланса классов\n",
    "sns.scatterplot(\n",
    "    x=features_adasyn[:,0],\n",
    "    y=features_adasyn[:,1],\n",
    "    color='r',\n",
    "    label='sampled')\n",
    "sns.scatterplot(\n",
    "    x=features_train_1[:,0],\n",
    "    y=features_train_1[:,1],\n",
    "    hue=target_train)\n",
    "sns.set(rc={'figure.figsize':(7,4)})\n",
    "plt.title('Рис. 9 - Балансировка классов тестового комплекта методом ADASYN',\n",
    "          fontsize=12)\n",
    "\n",
    "plt.tight_layout()\n",
    "plt.show()"
   ]
  },
  {
   "cell_type": "markdown",
   "metadata": {
    "id": "KZhM_iZfrCdp"
   },
   "source": [
    "#### **3.3.2 Обучение модели классификации деревом решений на выборке, сбалансированной методом ADASYN**\n",
    "\n",
    "---"
   ]
  },
  {
   "cell_type": "code",
   "execution_count": null,
   "metadata": {
    "id": "r-kgARjnmfFp"
   },
   "outputs": [],
   "source": [
    "# объявляем модель классификации деревом решений,\n",
    "model_tree_3 = DecisionTreeClassifier(random_state = 1)"
   ]
  },
  {
   "cell_type": "code",
   "execution_count": null,
   "metadata": {
    "id": "JvbgoAy3raaO"
   },
   "outputs": [],
   "source": [
    "# создаем словарь с гиперпараметрами и варьируемыми значениями\n",
    "params_model_tree_3 = {\n",
    "    'criterion': ['entropy'],\n",
    "    'max_depth': range(1, 31, 2),\n",
    "    'max_features': range(1, 7, 2),\n",
    "    'min_samples_split': range(1, 11, 2),\n",
    "    'min_samples_leaf': range(1, 6, 2),\n",
    "    }"
   ]
  },
  {
   "cell_type": "code",
   "execution_count": null,
   "metadata": {
    "id": "foaFJu_8radx"
   },
   "outputs": [],
   "source": [
    "# объявляем объект GridSearchCV\n",
    "grid_model_tree_3 = GridSearchCV(\n",
    "    model_tree_3,\n",
    "    params_model_tree_3,\n",
    "    cv = 5,\n",
    "    scoring = 'f1',\n",
    "    refit=True,\n",
    "    n_jobs= -1)"
   ]
  },
  {
   "cell_type": "code",
   "execution_count": null,
   "metadata": {
    "colab": {
     "base_uri": "https://localhost:8080/",
     "height": 151
    },
    "id": "ckib9GFErahY",
    "outputId": "e09e73d8-6f6c-4c3b-b3dc-934e25a37d37"
   },
   "outputs": [],
   "source": [
    "%%time\n",
    "\n",
    "# обучаем модель с помощью функции fit()\n",
    "grid_model_tree_3.fit(features_adasyn, target_adasyn)"
   ]
  },
  {
   "cell_type": "code",
   "execution_count": null,
   "metadata": {
    "colab": {
     "base_uri": "https://localhost:8080/",
     "height": 92
    },
    "id": "F-ihzLVomfIi",
    "outputId": "ee58482b-970f-4f69-b994-9c6c04020f8a"
   },
   "outputs": [],
   "source": [
    "# сохраним лучшую модель DecisionTreeClassifier\n",
    "# в переменную best_tree_model_2\n",
    "best_tree_model_3 = grid_model_tree_3.best_estimator_\n",
    "best_tree_model_3"
   ]
  },
  {
   "cell_type": "code",
   "execution_count": null,
   "metadata": {
    "colab": {
     "base_uri": "https://localhost:8080/"
    },
    "id": "zEfKX0RKmfMR",
    "outputId": "6eb2a808-002a-4bb3-f482-1c63af3e02cb"
   },
   "outputs": [],
   "source": [
    "# выведем на экран гиперпараметры лучшей модели\n",
    "# классификации деревом решений\n",
    "grid_model_tree_3.best_params_"
   ]
  },
  {
   "cell_type": "code",
   "execution_count": null,
   "metadata": {
    "colab": {
     "base_uri": "https://localhost:8080/"
    },
    "id": "QzkxD13nrzvk",
    "outputId": "09fa982a-f76a-41dd-c348-d9ee4107ccf7"
   },
   "outputs": [],
   "source": [
    "# вычислим f1_score лучшей модели\n",
    "# классификации деревом решений\n",
    "print('f1_score лучшей модели на выборке features_adasyn =',\n",
    "      round(grid_model_tree_3.best_score_, 4))"
   ]
  },
  {
   "cell_type": "code",
   "execution_count": null,
   "metadata": {
    "colab": {
     "base_uri": "https://localhost:8080/"
    },
    "id": "Jo3zfoZkrz1E",
    "outputId": "ae5162f0-5add-4205-c26d-b7f121b9dd45"
   },
   "outputs": [],
   "source": [
    "# вычислим метрику roc_auc лучшей модели\n",
    "# классификации деревом решений\n",
    "probabilities_3 = (\n",
    "    best_tree_model_3.predict_proba(features_adasyn))[:, 1]\n",
    "\n",
    "roc_auc_tree_3 = roc_auc_score(\n",
    "    target_adasyn, probabilities_3)\n",
    "print('roc-auc на выборке features_adasyn =',\n",
    "      round(roc_auc_tree_3, 4))"
   ]
  },
  {
   "cell_type": "markdown",
   "metadata": {
    "id": "9v0YtcLjsyT7"
   },
   "source": [
    "#### **3.3.3 Обучение модели классификации случайного леса на выборке, сбалансированной методом ADASYN**\n",
    "\n",
    "---"
   ]
  },
  {
   "cell_type": "code",
   "execution_count": null,
   "metadata": {
    "id": "DO8_wBZNrz5V"
   },
   "outputs": [],
   "source": [
    "# объявляем модель классификации случайного леса,\n",
    "model_forest_3 = RandomForestClassifier(random_state = 1)"
   ]
  },
  {
   "cell_type": "code",
   "execution_count": null,
   "metadata": {
    "id": "FcojbndWsxVM"
   },
   "outputs": [],
   "source": [
    "# создаем словарь с гиперпараметрами и варьируемыми значениями\n",
    "params_model_forest_3 = {\n",
    "    'criterion': ['entropy'],\n",
    "    'max_depth': range(1, 17, 2),\n",
    "    'max_features': range(1, 5, 2),\n",
    "    'min_samples_split': range(1, 11, 2),\n",
    "    'min_samples_leaf': range(1, 6, 2),\n",
    "    'n_estimators': range(1, 71, 10),\n",
    "    }"
   ]
  },
  {
   "cell_type": "code",
   "execution_count": null,
   "metadata": {
    "id": "8_LBf9P3sxY7"
   },
   "outputs": [],
   "source": [
    "# объявляем объект GridSearchCV\n",
    "grid_model_forest_3 = GridSearchCV(\n",
    "    model_forest_3,\n",
    "    params_model_forest_3,\n",
    "    cv = 5,\n",
    "    scoring = 'f1',\n",
    "    refit = True,\n",
    "    n_jobs= -1)"
   ]
  },
  {
   "cell_type": "code",
   "execution_count": null,
   "metadata": {
    "colab": {
     "base_uri": "https://localhost:8080/",
     "height": 151
    },
    "id": "g3KDREKSsxct",
    "outputId": "e8ad643c-05b3-489d-efac-a15ccbf361db"
   },
   "outputs": [],
   "source": [
    "%%time\n",
    "\n",
    "# обучаем модель с помощью функции fit()\n",
    "grid_model_forest_3.fit(features_adasyn, target_adasyn)"
   ]
  },
  {
   "cell_type": "code",
   "execution_count": null,
   "metadata": {
    "colab": {
     "base_uri": "https://localhost:8080/",
     "height": 92
    },
    "id": "HOR3UMRksxfn",
    "outputId": "2e26529e-4cdd-452e-a415-1ce823d82833"
   },
   "outputs": [],
   "source": [
    "# сохраним лучшую модель RandomForestClassifier\n",
    "# в переменную best_forest_model_3\n",
    "best_forest_model_3 = grid_model_forest_3.best_estimator_\n",
    "best_forest_model_3"
   ]
  },
  {
   "cell_type": "code",
   "execution_count": null,
   "metadata": {
    "colab": {
     "base_uri": "https://localhost:8080/"
    },
    "id": "VF0XvfFxsxjJ",
    "outputId": "2e99c95f-b4e2-43f3-9429-9e4538636319"
   },
   "outputs": [],
   "source": [
    "# выведем на экран гиперпараметры лучшей модели\n",
    "# классификации случайного леса\n",
    "grid_model_forest_3.best_params_"
   ]
  },
  {
   "cell_type": "code",
   "execution_count": null,
   "metadata": {
    "colab": {
     "base_uri": "https://localhost:8080/"
    },
    "id": "m-yw1ckPsxpc",
    "outputId": "e0152302-f36f-41dd-f8ce-13264e888762"
   },
   "outputs": [],
   "source": [
    "# вычислим f1_score лучшей модели\n",
    "# классификации случайного леса\n",
    "print('f1_score лучшей модели на выборке features_adasyn =',\n",
    "      round(grid_model_forest_3.best_score_, 4))"
   ]
  },
  {
   "cell_type": "code",
   "execution_count": null,
   "metadata": {
    "colab": {
     "base_uri": "https://localhost:8080/"
    },
    "id": "Qx_R3sLnsxs2",
    "outputId": "1cc95377-fb2a-4dff-8950-08f5c550066f"
   },
   "outputs": [],
   "source": [
    "# вычислим метрику roc_auc лучшей модели\n",
    "# классификации случайного леса\n",
    "probabilities_3 = (\n",
    "    best_forest_model_3.predict_proba(features_adasyn))[:, 1]\n",
    "\n",
    "roc_auc_forest_3 = roc_auc_score(\n",
    "    target_adasyn, probabilities_3)\n",
    "print('roc-auc на выборке features_adasyn =',\n",
    "      round(roc_auc_forest_3, 4))"
   ]
  },
  {
   "cell_type": "markdown",
   "metadata": {
    "id": "ShebYXZ2uFLf"
   },
   "source": [
    "#### **3.3.4 Обучение модели логистической регрессии на выборке, сбалансированной методом ADASYN**\n",
    "\n",
    "---"
   ]
  },
  {
   "cell_type": "code",
   "execution_count": null,
   "metadata": {
    "id": "bPXUOupYrz9r"
   },
   "outputs": [],
   "source": [
    "# объявляем модель логистической регрессии\n",
    "model_logreg_3 = LogisticRegression(random_state = 1)"
   ]
  },
  {
   "cell_type": "code",
   "execution_count": null,
   "metadata": {
    "id": "Adebnl-uuKmk"
   },
   "outputs": [],
   "source": [
    "# создаем словарь с гиперпараметрами и варьируемыми значениями\n",
    "params_model_logreg_3 = {\n",
    "    'solver': ['newton-cg', 'lbfgs', 'liblinear'],\n",
    "    'max_iter': range(100, 5001, 100)\n",
    "    }"
   ]
  },
  {
   "cell_type": "code",
   "execution_count": null,
   "metadata": {
    "id": "u085_XyZuKtq"
   },
   "outputs": [],
   "source": [
    "# объявляем объект GridSearchCV\n",
    "grid_model_logreg_3 = GridSearchCV(\n",
    "    model_logreg_3,\n",
    "    params_model_logreg_3,\n",
    "    cv = 5,\n",
    "    scoring = 'f1',\n",
    "    refit = True,\n",
    "    n_jobs= -1)"
   ]
  },
  {
   "cell_type": "code",
   "execution_count": null,
   "metadata": {
    "colab": {
     "base_uri": "https://localhost:8080/",
     "height": 151
    },
    "id": "-q2FmTW_uK0U",
    "outputId": "21f2fc31-f104-407a-e83e-fda7d15e614c"
   },
   "outputs": [],
   "source": [
    "%%time\n",
    "\n",
    "# обучаем модель с помощью функции fit()\n",
    "grid_model_logreg_3.fit(features_adasyn, target_adasyn)"
   ]
  },
  {
   "cell_type": "code",
   "execution_count": null,
   "metadata": {
    "colab": {
     "base_uri": "https://localhost:8080/",
     "height": 74
    },
    "id": "o3RlE2chuK6Z",
    "outputId": "d7b17106-823d-4660-8144-5322c3c37233"
   },
   "outputs": [],
   "source": [
    "# сохраним лучшую модель LogisticRegression\n",
    "# в переменную best_logreg_model_3\n",
    "best_logreg_model_3 = grid_model_logreg_3.best_estimator_\n",
    "best_logreg_model_3"
   ]
  },
  {
   "cell_type": "code",
   "execution_count": null,
   "metadata": {
    "colab": {
     "base_uri": "https://localhost:8080/"
    },
    "id": "Cn3Tktz1uLAj",
    "outputId": "d9f9592e-9818-4207-d019-67df9c6ad9fe"
   },
   "outputs": [],
   "source": [
    "# выведем на экран гиперпараметры лучшей модели\n",
    "# логистической регрессии\n",
    "grid_model_logreg_3.best_params_"
   ]
  },
  {
   "cell_type": "code",
   "execution_count": null,
   "metadata": {
    "colab": {
     "base_uri": "https://localhost:8080/"
    },
    "id": "49xNBbHRuLGl",
    "outputId": "b1560111-37af-46a4-cc16-e6a8caf5d038"
   },
   "outputs": [],
   "source": [
    "# вычислим f1_score лучшей модели\n",
    "# логистической регрессии\n",
    "print('f1_score лучшей модели на выборке features_adasyn =',\n",
    "      round(grid_model_logreg_3.best_score_, 4))"
   ]
  },
  {
   "cell_type": "code",
   "execution_count": null,
   "metadata": {
    "colab": {
     "base_uri": "https://localhost:8080/"
    },
    "id": "sjEk93_xuLLZ",
    "outputId": "f5fe3dac-86aa-4072-a69f-8edbc29f8930"
   },
   "outputs": [],
   "source": [
    "# вычислим метрику roc_auc лучшей модели\n",
    "# логистической регрессии\n",
    "probabilities_3 = (\n",
    "    best_logreg_model_3.predict_proba(features_adasyn))[:, 1]\n",
    "\n",
    "roc_auc_logreg_3 = roc_auc_score(\n",
    "    target_adasyn, probabilities_3)\n",
    "print('roc-auc на выборке features_adasyn =',\n",
    "      round(roc_auc_logreg_3, 4))"
   ]
  },
  {
   "cell_type": "markdown",
   "metadata": {
    "id": "w6cIWFfalAuQ"
   },
   "source": [
    "### **3.4 Обучение моделей с учетом устранения дисбаланса классов методом RandomUnderSampler**\n",
    "\n",
    "---"
   ]
  },
  {
   "cell_type": "markdown",
   "metadata": {
    "id": "UQZKs5h2lNaP"
   },
   "source": [
    "#### **3.4.1 Устранение дисбаланса методом RandomUnderSampler**\n",
    "\n",
    "---"
   ]
  },
  {
   "cell_type": "code",
   "execution_count": null,
   "metadata": {
    "id": "f_uFsc4ruLQI"
   },
   "outputs": [],
   "source": [
    "# создаем объект RundomUnderSampler\n",
    "ros = RandomUnderSampler(random_state=1)"
   ]
  },
  {
   "cell_type": "code",
   "execution_count": null,
   "metadata": {
    "colab": {
     "base_uri": "https://localhost:8080/"
    },
    "id": "ZlDKYon4lblg",
    "outputId": "726ed576-e7dd-40da-a003-f8cdf9198128"
   },
   "outputs": [],
   "source": [
    "# устраняем дисбаланс классов в обучающем комплекте\n",
    "# методом RandomUnderSampler\n",
    "features_ros, target_ros = ros.fit_resample(\n",
    "    features_train_1, target_train)\n",
    "print('Оригинальный датасет:', sorted(Counter(target_train).items()))\n",
    "print('Сбалансированный датасет:', sorted(Counter(target_ros).items()))"
   ]
  },
  {
   "cell_type": "code",
   "execution_count": null,
   "metadata": {
    "colab": {
     "base_uri": "https://localhost:8080/",
     "height": 410
    },
    "id": "wmDOuzBAlbo7",
    "outputId": "1ed5169b-d6f8-4630-d17b-c0d2f51265c5"
   },
   "outputs": [],
   "source": [
    "# визуализируем результаты устранения дисбаланса классов\n",
    "sns.scatterplot(\n",
    "    x=features_ros[:,0],\n",
    "    y=features_ros[:,1],\n",
    "    hue = target_ros,\n",
    "    legend = None)\n",
    "sns.scatterplot(\n",
    "    x=features_train_1[:,0],\n",
    "    y=features_train_1[:,1],\n",
    "    hue=target_train,\n",
    "    alpha = 0.2)\n",
    "sns.set(rc={'figure.figsize':(7,4)})\n",
    "plt.title('Рис. 10 - Балансировка классов тестового комплекта методом \\\n",
    "RandomUnderSampler',\n",
    "          fontsize=12)\n",
    "\n",
    "plt.tight_layout()\n",
    "plt.show()"
   ]
  },
  {
   "cell_type": "markdown",
   "metadata": {
    "id": "Icbn_TA6or07"
   },
   "source": [
    "С помощью рисунка 10 можно увидеть, что количество значений класса '0' сократилось - сокращенные значения указаны на рисунке бледным синим цветом"
   ]
  },
  {
   "cell_type": "markdown",
   "metadata": {
    "id": "Ojw40KktpaET"
   },
   "source": [
    "#### **3.4.2 Обучение модели классификации деревом решений на выборке, сбалансированной методом RandomUnderSampler**\n",
    "\n",
    "---"
   ]
  },
  {
   "cell_type": "code",
   "execution_count": null,
   "metadata": {
    "id": "c8pehZsRlbr4"
   },
   "outputs": [],
   "source": [
    "# объявим модель классификации деревом решений,\n",
    "model_tree_4 = DecisionTreeClassifier(random_state = 1)"
   ]
  },
  {
   "cell_type": "code",
   "execution_count": null,
   "metadata": {
    "id": "t0MSLduqpZhl"
   },
   "outputs": [],
   "source": [
    "# создаем словарь с гиперпараметрами и варьируемыми значениями\n",
    "params_model_tree_4 = {\n",
    "    'criterion': ['entropy'],\n",
    "    'max_depth': range(1, 31, 2),\n",
    "    'max_features': range(1, 7, 2),\n",
    "    'min_samples_split': range(1, 11, 2),\n",
    "    'min_samples_leaf': range(1, 6, 2),\n",
    "    }"
   ]
  },
  {
   "cell_type": "code",
   "execution_count": null,
   "metadata": {
    "id": "uLUMCJ8epZkx"
   },
   "outputs": [],
   "source": [
    "# объявляем объект GridSearchCV\n",
    "grid_model_tree_4 = GridSearchCV(\n",
    "    model_tree_4,\n",
    "    params_model_tree_4,\n",
    "    cv = 5,\n",
    "    scoring = 'f1',\n",
    "    refit=True,\n",
    "    n_jobs= -1)"
   ]
  },
  {
   "cell_type": "code",
   "execution_count": null,
   "metadata": {
    "colab": {
     "base_uri": "https://localhost:8080/",
     "height": 151
    },
    "id": "fi5kXMPdpZod",
    "outputId": "fbf11a03-f167-4790-b996-e07c67a7df04"
   },
   "outputs": [],
   "source": [
    "%%time\n",
    "\n",
    "# обучаем модель с помощью функции fit()\n",
    "grid_model_tree_4.fit(features_ros, target_ros)"
   ]
  },
  {
   "cell_type": "code",
   "execution_count": null,
   "metadata": {
    "colab": {
     "base_uri": "https://localhost:8080/",
     "height": 92
    },
    "id": "omz3Yzdglbur",
    "outputId": "c23b3668-5ae4-4d7d-a4ed-b4088ac54a75"
   },
   "outputs": [],
   "source": [
    "# сохраним лучшую модель DecisionTreeClassifier\n",
    "# в переменную best_tree_model_4\n",
    "best_tree_model_4 = grid_model_tree_4.best_estimator_\n",
    "best_tree_model_4"
   ]
  },
  {
   "cell_type": "code",
   "execution_count": null,
   "metadata": {
    "colab": {
     "base_uri": "https://localhost:8080/"
    },
    "id": "whmpmB4nlbxA",
    "outputId": "707ef678-096c-4af2-c070-a06efe639494"
   },
   "outputs": [],
   "source": [
    "# выведем на экран гиперпараметры лучшей модели\n",
    "# классификации деревом решений\n",
    "grid_model_tree_4.best_params_"
   ]
  },
  {
   "cell_type": "code",
   "execution_count": null,
   "metadata": {
    "colab": {
     "base_uri": "https://localhost:8080/"
    },
    "id": "pheYO_75mfO1",
    "outputId": "fdfa4fda-ed37-48ac-d0c1-8c6253fe1da3"
   },
   "outputs": [],
   "source": [
    "# вычислим f1_score лучшей модели\n",
    "# классификации деревом решений\n",
    "print('f1_score лучшей модели на выборке features_ros =',\n",
    "      round(grid_model_tree_4.best_score_, 4))"
   ]
  },
  {
   "cell_type": "code",
   "execution_count": null,
   "metadata": {
    "colab": {
     "base_uri": "https://localhost:8080/"
    },
    "id": "v_ClPJYwqfZ8",
    "outputId": "c52bfc25-0de0-46a7-9ae7-77a4282aa77c"
   },
   "outputs": [],
   "source": [
    "# вычислим метрику roc_auc лучшей модели\n",
    "# классификации деревом решений\n",
    "probabilities_4 = (\n",
    "    best_tree_model_4.predict_proba(features_ros))[:, 1]\n",
    "\n",
    "roc_auc_tree_4 = roc_auc_score(\n",
    "    target_ros, probabilities_4)\n",
    "print('roc-auc на выборке features_ros =',\n",
    "      round(roc_auc_tree_4, 4))"
   ]
  },
  {
   "cell_type": "markdown",
   "metadata": {
    "id": "5CnhznnyrlFn"
   },
   "source": [
    "#### **3.4.3 Обучение модели классификации случайного леса на выборке, сбалансированной методом RandomUnderSampler**\n",
    "\n",
    "---"
   ]
  },
  {
   "cell_type": "code",
   "execution_count": null,
   "metadata": {
    "id": "6eVH8FVlqfdU"
   },
   "outputs": [],
   "source": [
    "# объявим модель классификации случайного леса,\n",
    "model_forest_4 = RandomForestClassifier(random_state = 1)"
   ]
  },
  {
   "cell_type": "code",
   "execution_count": null,
   "metadata": {
    "id": "312vwIW5qfgh"
   },
   "outputs": [],
   "source": [
    "# создаем словарь с гиперпараметрами и варьируемыми значениями\n",
    "params_model_forest_4 = {\n",
    "    'criterion': ['entropy'],\n",
    "    'max_depth': range(1, 17, 2),\n",
    "    'max_features': range(1, 5, 2),\n",
    "    'min_samples_split': range(1, 11, 2),\n",
    "    'min_samples_leaf': range(1, 6, 2),\n",
    "    'n_estimators': range(1, 71, 10),\n",
    "    }"
   ]
  },
  {
   "cell_type": "code",
   "execution_count": null,
   "metadata": {
    "id": "r6GKGp0AqfkL"
   },
   "outputs": [],
   "source": [
    "# объявляем объект GridSearchCV\n",
    "grid_model_forest_4 = GridSearchCV(\n",
    "    model_forest_4,\n",
    "    params_model_forest_4,\n",
    "    cv = 5,\n",
    "    scoring = 'f1',\n",
    "    refit = True,\n",
    "    n_jobs= -1)"
   ]
  },
  {
   "cell_type": "code",
   "execution_count": null,
   "metadata": {
    "colab": {
     "base_uri": "https://localhost:8080/",
     "height": 151
    },
    "id": "-5CqEk30qfm5",
    "outputId": "7e8d4733-045b-4f7b-b65f-f08bf21ac93a"
   },
   "outputs": [],
   "source": [
    "%%time\n",
    "\n",
    "# обучаем модель с помощью функции fit()\n",
    "grid_model_forest_4.fit(features_ros, target_ros)"
   ]
  },
  {
   "cell_type": "code",
   "execution_count": null,
   "metadata": {
    "colab": {
     "base_uri": "https://localhost:8080/",
     "height": 109
    },
    "id": "_Lx0UPHsqfp9",
    "outputId": "3a81036e-0b7f-49d3-d1d5-08adc4a52c41"
   },
   "outputs": [],
   "source": [
    "# сохраним лучшую модель RandomForestClassifier\n",
    "# в переменную best_forest_model_4\n",
    "best_forest_model_4 = grid_model_forest_4.best_estimator_\n",
    "best_forest_model_4"
   ]
  },
  {
   "cell_type": "code",
   "execution_count": null,
   "metadata": {
    "colab": {
     "base_uri": "https://localhost:8080/"
    },
    "id": "mEKxzeCnqfti",
    "outputId": "d5f9a9f5-9afb-4d15-8c7e-ed02b7bf661a"
   },
   "outputs": [],
   "source": [
    "# выведем на экран гиперпараметры лучшей модели\n",
    "# классификации случайного леса\n",
    "grid_model_forest_4.best_params_"
   ]
  },
  {
   "cell_type": "code",
   "execution_count": null,
   "metadata": {
    "colab": {
     "base_uri": "https://localhost:8080/"
    },
    "id": "j6rse1PRqfwg",
    "outputId": "c8717929-6a20-453a-89f0-683aab9fc359"
   },
   "outputs": [],
   "source": [
    "# вычислим f1_score лучшей модели\n",
    "# классификации случайного леса\n",
    "print('f1_score лучшей модели на выборке features_ros =',\n",
    "      round(grid_model_forest_4.best_score_, 4))"
   ]
  },
  {
   "cell_type": "code",
   "execution_count": null,
   "metadata": {
    "colab": {
     "base_uri": "https://localhost:8080/"
    },
    "id": "JgoHcm8wqfzk",
    "outputId": "3d26c4e5-591d-43f7-a9da-3d1c2fa6b33f"
   },
   "outputs": [],
   "source": [
    "# вычислим метрику roc_auc лучшей модели\n",
    "# классификации случайного леса\n",
    "probabilities_4 = (\n",
    "    best_forest_model_4.predict_proba(features_ros))[:, 1]\n",
    "\n",
    "roc_auc_forest_4 = roc_auc_score(\n",
    "    target_ros, probabilities_4)\n",
    "print('roc-auc на выборке features_ros =',\n",
    "      round(roc_auc_forest_4, 4))"
   ]
  },
  {
   "cell_type": "markdown",
   "metadata": {
    "id": "SxponPZUs8kc"
   },
   "source": [
    "#### **3.4.4 Обучение модели логистической регрессии на выборке, сбалансированной методом RandomUnderSampler**\n",
    "\n",
    "---"
   ]
  },
  {
   "cell_type": "code",
   "execution_count": null,
   "metadata": {
    "id": "TvQ-jwPGmfRn"
   },
   "outputs": [],
   "source": [
    "# объявим модель логистической регрессии\n",
    "model_logreg_4 = LogisticRegression(random_state = 1)"
   ]
  },
  {
   "cell_type": "code",
   "execution_count": null,
   "metadata": {
    "id": "GyDuN-QNs6iT"
   },
   "outputs": [],
   "source": [
    "# создаем словарь с гиперпараметрами и варьируемыми значениями\n",
    "params_model_logreg_4 = {\n",
    "    'solver': ['newton-cg', 'lbfgs', 'liblinear'],\n",
    "    'max_iter': range(100, 5001, 100)\n",
    "    }"
   ]
  },
  {
   "cell_type": "code",
   "execution_count": null,
   "metadata": {
    "id": "dWmlfpsfs6mn"
   },
   "outputs": [],
   "source": [
    "# объявим объект GridSearchCV\n",
    "grid_model_logreg_4 = GridSearchCV(\n",
    "    model_logreg_4,\n",
    "    params_model_logreg_4,\n",
    "    cv = 5,\n",
    "    scoring = 'f1',\n",
    "    refit = True,\n",
    "    n_jobs= -1)"
   ]
  },
  {
   "cell_type": "code",
   "execution_count": null,
   "metadata": {
    "colab": {
     "base_uri": "https://localhost:8080/",
     "height": 151
    },
    "id": "ehwHDWQos6rC",
    "outputId": "e1e2ac26-12e6-411a-b438-2cf2e614c71e"
   },
   "outputs": [],
   "source": [
    "%%time\n",
    "\n",
    "# обучаем модель с помощью функции fit()\n",
    "grid_model_logreg_4.fit(features_ros, target_ros)"
   ]
  },
  {
   "cell_type": "code",
   "execution_count": null,
   "metadata": {
    "colab": {
     "base_uri": "https://localhost:8080/",
     "height": 74
    },
    "id": "JX6qyGJrs6up",
    "outputId": "4ee17908-7680-430f-c0c5-41a49fd394f3"
   },
   "outputs": [],
   "source": [
    "# сохраним лучшую модель LogisticRegression\n",
    "# в переменную best_logreg_model_4\n",
    "best_logreg_model_4 = grid_model_logreg_4.best_estimator_\n",
    "best_logreg_model_4"
   ]
  },
  {
   "cell_type": "code",
   "execution_count": null,
   "metadata": {
    "colab": {
     "base_uri": "https://localhost:8080/"
    },
    "id": "OA0pzwAPs6yT",
    "outputId": "4532f9f3-eb66-4c8a-c1ef-ac1cec430311"
   },
   "outputs": [],
   "source": [
    "# выведем на экран гиперпараметры лучшей модели\n",
    "# логистической регрессии\n",
    "grid_model_logreg_4.best_params_"
   ]
  },
  {
   "cell_type": "code",
   "execution_count": null,
   "metadata": {
    "colab": {
     "base_uri": "https://localhost:8080/"
    },
    "id": "dA410FUus617",
    "outputId": "b1ad934a-7b5d-4a3f-d9af-417b1561a07d"
   },
   "outputs": [],
   "source": [
    "# вычислим f1_score лучшей модели\n",
    "# логистической регрессии\n",
    "print('f1_score лучшей модели на выборке features_ros =',\n",
    "      round(grid_model_logreg_4.best_score_, 4))"
   ]
  },
  {
   "cell_type": "code",
   "execution_count": null,
   "metadata": {
    "colab": {
     "base_uri": "https://localhost:8080/"
    },
    "id": "X7Ph0GuCs65Q",
    "outputId": "078a04cb-3c18-42c2-d0f8-af35ddd6d722"
   },
   "outputs": [],
   "source": [
    "# вычислим метрику roc_auc лучшей модели\n",
    "# логистической регрессии\n",
    "probabilities_4 = (\n",
    "    best_logreg_model_4.predict_proba(features_ros))[:, 1]\n",
    "\n",
    "roc_auc_logreg_4 = roc_auc_score(\n",
    "    target_ros, probabilities_4)\n",
    "print('roc-auc на выборке features_ros =',\n",
    "      round(roc_auc_logreg_4, 4))"
   ]
  },
  {
   "cell_type": "markdown",
   "metadata": {
    "id": "vZqG9jnAunQK"
   },
   "source": [
    "### **3.5 Обучение моделей с учетом устранения дисбаланса классов методом SMOTETomek**\n",
    "\n",
    "---"
   ]
  },
  {
   "cell_type": "markdown",
   "metadata": {
    "id": "MRhxkyCSvG3N"
   },
   "source": [
    "#### **3.5.1 Устранение дисбаланса методом SMOTETomek**\n",
    "\n",
    "---"
   ]
  },
  {
   "cell_type": "code",
   "execution_count": null,
   "metadata": {
    "id": "QwJMo9wuwX8e"
   },
   "outputs": [],
   "source": [
    "# создаем объект SMOTETomek\n",
    "smote_tomek = SMOTETomek(random_state = 1)"
   ]
  },
  {
   "cell_type": "code",
   "execution_count": null,
   "metadata": {
    "colab": {
     "base_uri": "https://localhost:8080/"
    },
    "id": "XTQUc8iUfQTE",
    "outputId": "3c914921-3382-4b1c-e73c-4f6b10aadce4"
   },
   "outputs": [],
   "source": [
    "# устраняем дисбаланс классов в обучающем комплекте\n",
    "# методом SMOTETomek\n",
    "features_smote_tomek, target_smote_tomek = smote_tomek.fit_resample(\n",
    "    features_train_1, target_train)\n",
    "print('Оригинальный датасет:', sorted(Counter(target_train).items()))\n",
    "print('Сбалансированный датасет:', sorted(Counter(target_smote_tomek).items()))"
   ]
  },
  {
   "cell_type": "code",
   "execution_count": null,
   "metadata": {
    "colab": {
     "base_uri": "https://localhost:8080/",
     "height": 410
    },
    "id": "mlrZ5YIovFne",
    "outputId": "1d4ed52c-ba78-4b95-91de-af406aa84f61"
   },
   "outputs": [],
   "source": [
    "# визуализируем результаты устранения дисбаланса классов\n",
    "sns.scatterplot(\n",
    "    x=features_smote_tomek[:,0],\n",
    "    y=features_smote_tomek[:,1],\n",
    "    color='r',\n",
    "    label='sampled')\n",
    "sns.scatterplot(\n",
    "    x=features_train_1[:,0],\n",
    "    y=features_train_1[:,1],\n",
    "    hue=target_train)\n",
    "sns.set(rc={'figure.figsize':(7,4)})\n",
    "plt.title('Рис. 11 - Балансировка классов тестового комплекта \\\n",
    "методом SMOTETomek',\n",
    "          fontsize=12)\n",
    "\n",
    "plt.tight_layout()\n",
    "plt.show()"
   ]
  },
  {
   "cell_type": "markdown",
   "metadata": {
    "id": "fy7ldJcnxnpA"
   },
   "source": [
    "Красными точками на графике обозначены значения, добавленные алгоритмом SMOTETomek для обеспечения сбалансированности классов"
   ]
  },
  {
   "cell_type": "markdown",
   "metadata": {
    "id": "fyzqhWqzyJ_q"
   },
   "source": [
    "#### **3.5.2 Обучение модели классификации деревом решений на выборке, сбалансированной методом SMOTETomek**\n",
    "\n",
    "---"
   ]
  },
  {
   "cell_type": "code",
   "execution_count": null,
   "metadata": {
    "id": "mBbPEPO6vFrA"
   },
   "outputs": [],
   "source": [
    "# объявим модель классификации деревом решений,\n",
    "model_tree_5 = DecisionTreeClassifier(random_state = 1)"
   ]
  },
  {
   "cell_type": "code",
   "execution_count": null,
   "metadata": {
    "id": "ou6sQqT9vFvN"
   },
   "outputs": [],
   "source": [
    "# создаем словарь с гиперпараметрами и варьируемыми значениями\n",
    "params_model_tree_5 = {\n",
    "    'criterion': ['entropy'],\n",
    "    'max_depth': range(1, 31, 2),\n",
    "    'max_features': range(1, 7, 2),\n",
    "    'min_samples_split': range(1, 11, 2),\n",
    "    'min_samples_leaf': range(1, 6, 2),\n",
    "    }"
   ]
  },
  {
   "cell_type": "code",
   "execution_count": null,
   "metadata": {
    "id": "LWFEJMDmvFyp"
   },
   "outputs": [],
   "source": [
    "# объявляем объект GridSearchCV\n",
    "grid_model_tree_5 = GridSearchCV(\n",
    "    model_tree_5,\n",
    "    params_model_tree_5,\n",
    "    cv = 5,\n",
    "    scoring = 'f1',\n",
    "    refit=True,\n",
    "    n_jobs= -1)"
   ]
  },
  {
   "cell_type": "code",
   "execution_count": null,
   "metadata": {
    "colab": {
     "base_uri": "https://localhost:8080/",
     "height": 151
    },
    "id": "pOhC4-otvF1x",
    "outputId": "2d54a916-fa6e-4b41-815c-88947be500bd"
   },
   "outputs": [],
   "source": [
    "%%time\n",
    "\n",
    "# обучаем модель с помощью функции fit()\n",
    "grid_model_tree_5.fit(features_smote_tomek, target_smote_tomek)"
   ]
  },
  {
   "cell_type": "code",
   "execution_count": null,
   "metadata": {
    "colab": {
     "base_uri": "https://localhost:8080/",
     "height": 92
    },
    "id": "F-B8WMUUvF-F",
    "outputId": "b218a2f9-9c11-4932-97d6-3c1b0fb99e03"
   },
   "outputs": [],
   "source": [
    "# сохраним лучшую модель DecisionTreeClassifier\n",
    "# в переменную best_tree_model_5\n",
    "best_tree_model_5 = grid_model_tree_5.best_estimator_\n",
    "best_tree_model_5"
   ]
  },
  {
   "cell_type": "code",
   "execution_count": null,
   "metadata": {
    "colab": {
     "base_uri": "https://localhost:8080/"
    },
    "id": "c3_XrBF2vGCM",
    "outputId": "3cff616c-c5d6-4e6c-b1c3-0a894c4d90bb"
   },
   "outputs": [],
   "source": [
    "# выведем на экран гиперпараметры лучшей модели\n",
    "# классификации деревом решений\n",
    "grid_model_tree_5.best_params_"
   ]
  },
  {
   "cell_type": "code",
   "execution_count": null,
   "metadata": {
    "colab": {
     "base_uri": "https://localhost:8080/"
    },
    "id": "iCjp733dvGF2",
    "outputId": "65aec7db-4be0-4e73-cb9b-fac550137456"
   },
   "outputs": [],
   "source": [
    "# вычислим f1_score лучшей модели\n",
    "# классификации деревом решений\n",
    "print('f1_score лучшей модели на выборке features_smote_tomek =',\n",
    "      round(grid_model_tree_5.best_score_, 4))"
   ]
  },
  {
   "cell_type": "code",
   "execution_count": null,
   "metadata": {
    "colab": {
     "base_uri": "https://localhost:8080/"
    },
    "id": "_n4LTuLJ0zFj",
    "outputId": "fd222867-bf93-407f-f556-ddc710c4cc5b"
   },
   "outputs": [],
   "source": [
    "# вычислим метрику roc_auc лучшей модели\n",
    "# классификации деревом решений\n",
    "probabilities_5 = (\n",
    "    best_tree_model_5.predict_proba(features_smote_tomek))[:, 1]\n",
    "\n",
    "roc_auc_tree_5 = roc_auc_score(\n",
    "    target_smote_tomek, probabilities_5)\n",
    "print('roc-auc на выборке features_smote_tomek =',\n",
    "      round(roc_auc_tree_5, 4))"
   ]
  },
  {
   "cell_type": "markdown",
   "metadata": {
    "id": "_8mrD6q51X8J"
   },
   "source": [
    "#### **3.5.3 Обучение модели классификации случайного леса на выборке, сбалансированной методом SMOTETomek**"
   ]
  },
  {
   "cell_type": "code",
   "execution_count": null,
   "metadata": {
    "id": "fqu4nCA90zNP"
   },
   "outputs": [],
   "source": [
    "# объявляем модель классификации случайного леса,\n",
    "model_forest_5 = RandomForestClassifier(random_state = 1)"
   ]
  },
  {
   "cell_type": "code",
   "execution_count": null,
   "metadata": {
    "id": "smY1Hz8M1cBm"
   },
   "outputs": [],
   "source": [
    "# создаем словарь с гиперпараметрами и варьируемыми значениями\n",
    "params_model_forest_5 = {\n",
    "   'criterion': ['entropy'],\n",
    "    'max_depth': range(1, 17, 2),\n",
    "    'max_features': range(1, 5, 2),\n",
    "    'min_samples_split': range(1, 11, 2),\n",
    "    'min_samples_leaf': range(1, 6, 2),\n",
    "    'n_estimators': range(1, 71, 10),\n",
    "    }"
   ]
  },
  {
   "cell_type": "code",
   "execution_count": null,
   "metadata": {
    "id": "JiAU4Kqf1cF7"
   },
   "outputs": [],
   "source": [
    "# объявляем объект GridSearchCV\n",
    "grid_model_forest_5 = GridSearchCV(\n",
    "    model_forest_5,\n",
    "    params_model_forest_5,\n",
    "    cv = 5,\n",
    "    scoring = 'f1',\n",
    "    refit = True,\n",
    "    n_jobs= -1)"
   ]
  },
  {
   "cell_type": "code",
   "execution_count": null,
   "metadata": {
    "colab": {
     "base_uri": "https://localhost:8080/",
     "height": 151
    },
    "id": "D3sKTKOV1cKY",
    "outputId": "34d8f247-df6d-4ae7-d23a-67dd649949f6"
   },
   "outputs": [],
   "source": [
    "%%time\n",
    "\n",
    "# обучаем модель с помощью функции fit()\n",
    "grid_model_forest_5.fit(features_smote_tomek, target_smote_tomek)"
   ]
  },
  {
   "cell_type": "code",
   "execution_count": null,
   "metadata": {
    "colab": {
     "base_uri": "https://localhost:8080/",
     "height": 92
    },
    "id": "vNDPVm0W1cNw",
    "outputId": "58a58418-47aa-48d1-9989-2b30594ec887"
   },
   "outputs": [],
   "source": [
    "# сохраним лучшую модель RandomForestClassifier\n",
    "# в переменную best_forest_model_5\n",
    "best_forest_model_5 = grid_model_forest_5.best_estimator_\n",
    "best_forest_model_5"
   ]
  },
  {
   "cell_type": "code",
   "execution_count": null,
   "metadata": {
    "colab": {
     "base_uri": "https://localhost:8080/"
    },
    "id": "nxd8o58C1cQ2",
    "outputId": "b185f21b-b21d-412c-bfc8-0fd287e02bcd"
   },
   "outputs": [],
   "source": [
    "# выведем на экран гиперпараметры лучшей модели\n",
    "# классификации случайного леса\n",
    "grid_model_forest_5.best_params_"
   ]
  },
  {
   "cell_type": "code",
   "execution_count": null,
   "metadata": {
    "colab": {
     "base_uri": "https://localhost:8080/"
    },
    "id": "l759olzB1cUL",
    "outputId": "7fa80dcd-5ab4-4928-bf3c-3d40d7a15f90"
   },
   "outputs": [],
   "source": [
    "# вычислим f1_score лучшей модели\n",
    "# классификации случайного леса\n",
    "print('f1_score лучшей модели на выборке features_smote_tomek =',\n",
    "      round(grid_model_forest_5.best_score_, 4))"
   ]
  },
  {
   "cell_type": "code",
   "execution_count": null,
   "metadata": {
    "colab": {
     "base_uri": "https://localhost:8080/"
    },
    "id": "p0rY6ne_1cnP",
    "outputId": "6a10759f-5a40-427e-ccc4-d3fa3e14e7b7"
   },
   "outputs": [],
   "source": [
    "# вычислим метрику roc_auc лучшей модели\n",
    "# классификации случайного леса\n",
    "probabilities_5 = (\n",
    "    best_forest_model_5.predict_proba(features_smote_tomek))[:, 1]\n",
    "\n",
    "roc_auc_forest_5 = roc_auc_score(\n",
    "    target_smote_tomek, probabilities_5)\n",
    "print('roc-auc на выборке features_smote_tomek =',\n",
    "      round(roc_auc_forest_5, 4))"
   ]
  },
  {
   "cell_type": "markdown",
   "metadata": {
    "id": "dEeSSnxX2-In"
   },
   "source": [
    "#### **3.5.4 Обучение модели логистической регрессии на выборке, сбалансированной методом SMOTETomek**"
   ]
  },
  {
   "cell_type": "code",
   "execution_count": null,
   "metadata": {
    "id": "mLXC-jxg1cqg"
   },
   "outputs": [],
   "source": [
    "# объявляем модель логистической регрессии\n",
    "model_logreg_5 = LogisticRegression(random_state = 1)"
   ]
  },
  {
   "cell_type": "code",
   "execution_count": null,
   "metadata": {
    "id": "olshRK6S0zQy"
   },
   "outputs": [],
   "source": [
    "# создаем словарь с гиперпараметрами и варьируемыми значениями\n",
    "params_model_logreg_5 = {\n",
    "     'solver': ['newton-cg', 'lbfgs', 'liblinear'],\n",
    "    'max_iter': range(100, 5001, 100)\n",
    "    }"
   ]
  },
  {
   "cell_type": "code",
   "execution_count": null,
   "metadata": {
    "id": "gm_IQo6l0zVH"
   },
   "outputs": [],
   "source": [
    "# объявляем объект GridSearchCV\n",
    "grid_model_logreg_5 = GridSearchCV(\n",
    "    model_logreg_5,\n",
    "    params_model_logreg_5,\n",
    "    cv = 5,\n",
    "    scoring = 'f1',\n",
    "    refit = True,\n",
    "    n_jobs= -1)"
   ]
  },
  {
   "cell_type": "code",
   "execution_count": null,
   "metadata": {
    "colab": {
     "base_uri": "https://localhost:8080/",
     "height": 151
    },
    "id": "sT4wVGKV0zZB",
    "outputId": "9c6d8491-a53a-4e88-cd75-b6bf213f32d7"
   },
   "outputs": [],
   "source": [
    "%%time\n",
    "\n",
    "# обучаем модель с помощью функции fit()\n",
    "grid_model_logreg_5.fit(features_smote_tomek, target_smote_tomek)"
   ]
  },
  {
   "cell_type": "code",
   "execution_count": null,
   "metadata": {
    "colab": {
     "base_uri": "https://localhost:8080/",
     "height": 74
    },
    "id": "bpHyrjOs0zde",
    "outputId": "e1d72bfb-e83a-4838-d19a-d894c49f562e"
   },
   "outputs": [],
   "source": [
    "# сохраним лучшую модель LogisticRegression\n",
    "# в переменную best_logreg_model_5\n",
    "best_logreg_model_5 = grid_model_logreg_5.best_estimator_\n",
    "best_logreg_model_5"
   ]
  },
  {
   "cell_type": "code",
   "execution_count": null,
   "metadata": {
    "colab": {
     "base_uri": "https://localhost:8080/"
    },
    "id": "hEYoPjKr3aIK",
    "outputId": "824f084d-d46d-41c7-b616-3697ab6fcac5"
   },
   "outputs": [],
   "source": [
    "# выведем на экран гиперпараметры лучшей модели\n",
    "# логистической регрессии\n",
    "grid_model_logreg_5.best_params_"
   ]
  },
  {
   "cell_type": "code",
   "execution_count": null,
   "metadata": {
    "colab": {
     "base_uri": "https://localhost:8080/"
    },
    "id": "QPasiqAh3aMj",
    "outputId": "d7061f6d-1c09-4019-9cff-5e4d6507796e"
   },
   "outputs": [],
   "source": [
    "# вычислим f1_score лучшей модели\n",
    "# логистической регрессии\n",
    "print('f1_score лучшей модели на выборке features_smote_tomek =',\n",
    "      round(grid_model_logreg_5.best_score_, 4))"
   ]
  },
  {
   "cell_type": "code",
   "execution_count": null,
   "metadata": {
    "colab": {
     "base_uri": "https://localhost:8080/"
    },
    "id": "zpNR8yj-3aRr",
    "outputId": "d7b05a8d-9050-4ce7-a11f-fc6906a5bb12"
   },
   "outputs": [],
   "source": [
    "# вычислим метрику roc_auc лучшей модели\n",
    "# логистической регрессии\n",
    "probabilities_5 = (\n",
    "    best_logreg_model_5.predict_proba(features_smote_tomek))[:, 1]\n",
    "\n",
    "roc_auc_logreg_5 = roc_auc_score(\n",
    "    target_smote_tomek, probabilities_5)\n",
    "print('roc-auc на выборке features_smote_tomek =',\n",
    "      round(roc_auc_logreg_5, 4))"
   ]
  },
  {
   "cell_type": "markdown",
   "metadata": {
    "id": "FiVzNwTv4QH1"
   },
   "source": [
    "**ВЫВОДЫ по 3 Обучение моделей с учетом масштабирования и устранения дисбаланса классов**"
   ]
  },
  {
   "cell_type": "markdown",
   "metadata": {
    "id": "M2CZDlMnZiA2"
   },
   "source": [
    "Результаты тестирования моделей Decision Tree Classifier, Random Forest Classifier, Logistic Regression на обучающей выборке, сбалансирвоанной с помощью различных алгоритмов (SMOTE, ADASYN, RandomUnderSampler, SMOTETomek) обобщим в таблице и визуализируем"
   ]
  },
  {
   "cell_type": "code",
   "execution_count": null,
   "metadata": {
    "colab": {
     "base_uri": "https://localhost:8080/",
     "height": 425
    },
    "id": "ED8571OP3aWx",
    "outputId": "215c7525-97a5-4c09-b2a9-e7ad7c08f1ab"
   },
   "outputs": [],
   "source": [
    "models_balanced = pd.DataFrame(\n",
    "    {'1': ['SMOTE Tree', 0.8334, 0.988],\n",
    "     '2': ['SMOTE Forest', 0.8912, 0.9935],\n",
    "     '3': ['SMOTE LogReg', 0.7175, 0.7872],\n",
    "     '4': ['ADASYN Tree', 0.8264, 0.9933],\n",
    "     '5': ['ADASYN Forest', 0.8911, 0.9941],\n",
    "     '6': ['ADASYN LogReg', 0.7175, 0.7712],\n",
    "     '7': ['RandomUnderSampling Tree', 0.7193, 0.9127],\n",
    "     '8': ['RandomUnderSampling Forest', 0.7688, 0.9588],\n",
    "     '9': ['RandomUnderSampling LogReg', 0.7011, 0.7774],\n",
    "     '10': ['SMOTETomek Tree', 0.8406, 0.9988],\n",
    "     '11': ['SMOTETomek Forest', 0.896, 0.9949],\n",
    "     '12': ['SMOTETomek LogReg', 0.7198, 0.7891]\n",
    "    }\n",
    ")\n",
    "\n",
    "models_balanced = models_balanced.T\n",
    "models_balanced.columns = ['Модель', 'f1_score', 'roc_auc_score']\n",
    "models_balanced"
   ]
  },
  {
   "cell_type": "code",
   "execution_count": null,
   "metadata": {
    "colab": {
     "base_uri": "https://localhost:8080/",
     "height": 419
    },
    "id": "zuCa6TaCdgWe",
    "outputId": "e30d27fc-42f9-43eb-8994-b0fbf6fd4699"
   },
   "outputs": [],
   "source": [
    "c = sns.barplot(data = models_balanced,\n",
    "            x = 'f1_score',\n",
    "            y = 'Модель',\n",
    "            palette = 'crest')\n",
    "sns.set(rc={'figure.figsize':(6,4)})\n",
    "c.axes.set_title('Рис. 12 - Метрика f1_score лучших моделей \\\n",
    "с учетом масштабирования и балансировки классов',fontsize=10)\n",
    "c.set_xlabel('f1_score',fontsize=10)\n",
    "c.set_ylabel('Тип модели',fontsize=10)\n",
    "c.tick_params(labelsize=10)\n",
    "plt.show()"
   ]
  },
  {
   "cell_type": "markdown",
   "metadata": {
    "id": "B9YKshB22xgK"
   },
   "source": [
    "**(1)** в ходе подготовки раздела было проведено исследование четырех алгоритмов балансировки классов: SMOTE, ADASYN, RandomUnderSampling, SMOTETomek. Самые лучшие результаты показали модели, обученные на обучающем комплекте, сбалансированном с помощью SMOTETomek. Примерно одинаковые, немного меньшие в сравнении с алгоритмом-лидером, но тоже достаточно хорошие результаты показали алгоритмы SMOTE и ADASYN. Самые низкие результаты показали модели, обученные на выборке, сбалансированной алгоритмом RandomUnderSampling\n",
    "\n",
    "**(2)** лучшие результаты показывают модели Random Forest Classigfier. На втором месте - модели Decision Tree Classifier. Самые низкие результаты у модели Logistic Regression\n",
    "\n",
    "**(3)** самый лучший результат метрики f1_score показала модель Random Forest Classifier на выборке, сбалансированной с помощью алгоритма SMOTETomek. Величина f1_score  = 0.8406, roc_auc = 0.9988\n",
    "\n",
    "**(4)** для финального тестирования отобрана модель Random Forest Classifier, обученная на датасете, сбалансированном с помощью алгоритма SMOTETomek"
   ]
  },
  {
   "cell_type": "markdown",
   "metadata": {
    "id": "xJHF7Vfv5L39"
   },
   "source": [
    "## **4 Финальное тестирование лучшей модели**\n",
    "\n",
    "---\n"
   ]
  },
  {
   "cell_type": "markdown",
   "metadata": {
    "id": "92JMVBTDz6Lv"
   },
   "source": [
    "### **4.1 Масштабирование тестового датасета с признаками features_test**\n",
    "\n",
    "---\n",
    "\n"
   ]
  },
  {
   "cell_type": "markdown",
   "metadata": {
    "id": "890CjSs9_yvw"
   },
   "source": [
    "Для финального тестирования лучшей модели необходимо масштабировать датасет с признаками features_test. Для этого применим на тестовой выборке объект scaler, обученный и примененный выше на обучающей выборке."
   ]
  },
  {
   "cell_type": "code",
   "execution_count": null,
   "metadata": {
    "colab": {
     "base_uri": "https://localhost:8080/"
    },
    "id": "DrKDZijOmCSA",
    "outputId": "859e22e7-5fb9-4c83-dc6f-7ff9f4d4f155"
   },
   "outputs": [],
   "source": [
    "# выведем размер датасета features_test до масштабирования\n",
    "features_test.shape"
   ]
  },
  {
   "cell_type": "code",
   "execution_count": null,
   "metadata": {
    "colab": {
     "base_uri": "https://localhost:8080/",
     "height": 226
    },
    "id": "VZl1TSDPmYtl",
    "outputId": "c5b2d3c7-8f77-431c-beba-295bfbc9e3f8"
   },
   "outputs": [],
   "source": [
    "# выведем первые пять строк датасета features_test до масштабирования\n",
    "features_test.head()"
   ]
  },
  {
   "cell_type": "code",
   "execution_count": null,
   "metadata": {
    "id": "PDvM3gPU_qRV"
   },
   "outputs": [],
   "source": [
    "# масштабируем датасет\n",
    "features_test = scaler.transform(features_test)"
   ]
  },
  {
   "cell_type": "code",
   "execution_count": null,
   "metadata": {
    "colab": {
     "base_uri": "https://localhost:8080/"
    },
    "id": "MEvxpxM-_qVP",
    "outputId": "37fc3d8c-f6c3-453b-df34-06cd7cdf8a0d"
   },
   "outputs": [],
   "source": [
    "# проверим размер датасета features_test с масштабированными данными\n",
    "features_test.shape"
   ]
  },
  {
   "cell_type": "markdown",
   "metadata": {
    "id": "5csA8rdJ1lOl"
   },
   "source": [
    "### **4.2 Тестирование модели Random Forest Classifier (best_forest_model_5), обучающий датасет с признаками которой сбалансирован с помощью алгоритма SMOTETomek**\n",
    "\n",
    "---"
   ]
  },
  {
   "cell_type": "code",
   "execution_count": null,
   "metadata": {
    "id": "o8KHBvBP0PNT"
   },
   "outputs": [],
   "source": [
    "# получаем предсказания лучшей модели на выборке features_test\n",
    "predictions_tomek = best_forest_model_5.predict(features_test)"
   ]
  },
  {
   "cell_type": "code",
   "execution_count": null,
   "metadata": {
    "colab": {
     "base_uri": "https://localhost:8080/"
    },
    "id": "e0cONkjCvGND",
    "outputId": "ac8bfd09-4259-41c4-d7e0-d08f6c71c399"
   },
   "outputs": [],
   "source": [
    "# рассчитаем метрику f1_score лучшей модели\n",
    "f1_score_tomek = f1_score(target_test, predictions_tomek)\n",
    "print('Метрика f1_score лучшей модели (алгоритм SMOTETomek) = ',\n",
    "      round(f1_score_tomek, 4))"
   ]
  },
  {
   "cell_type": "code",
   "execution_count": null,
   "metadata": {
    "colab": {
     "base_uri": "https://localhost:8080/"
    },
    "id": "t5hnWD78UzZM",
    "outputId": "654aeaff-549c-4776-f615-94df0f0bce0b"
   },
   "outputs": [],
   "source": [
    "# вычислим метрику roc_auc лучшей модели\n",
    "probabilities_tomek = (\n",
    "    best_forest_model_5.predict_proba(features_test))[:, 1]\n",
    "\n",
    "roc_auc_tomek = roc_auc_score(\n",
    "    target_test, probabilities_tomek)\n",
    "print('roc-auc лучшей модели (алгоритм SMOTETomek) =',\n",
    "      round(roc_auc_tomek, 4))"
   ]
  },
  {
   "cell_type": "markdown",
   "metadata": {
    "id": "SwOethgqLsbp"
   },
   "source": [
    "**Выводы по 4 Финальное тестирование лучшей модели**:\n",
    "\n",
    "**(1)** модель Random Forest Classifier, показавшая лучшее значение метрики f1_score на обучающей выборке, сбалансированной с помощью алгоритма SMOTETomek, на финальной проверке на тестовой выборке показала результат : f1_score = 0.6067, roc_auc_score = 0.8565. Условию выполнения проекта, согласно которого цель считается достигнутой при f1_score > 0.59, модель соответствует. Лучшая модель сохранена в переменной **best_forest_model_5**"
   ]
  },
  {
   "cell_type": "markdown",
   "metadata": {
    "id": "7JYqeqitOg2A"
   },
   "source": [
    "# **ИТОГОВЫЕ ВЫВОДЫ ПО ПРОЕКТУ «Предсказание оттока клиентов из банка»**\n",
    "\n",
    "---\n",
    "\n"
   ]
  },
  {
   "cell_type": "markdown",
   "metadata": {
    "id": "_pHspDXFOhnX"
   },
   "source": [
    "**(1)** на первом этапе исследовательского проекта проведено общее изучение датасета, проведена предварительная обработка данных, необходимая для последующего анализа и использования данных для машинного обучения, в том числе включающая кодирование категориальных переменных алгоритмом OneHotEncoder с учетом устранения dummy-ловушки\n",
    "\n",
    "**(2)** обосновано исключение из выборки с признаками столбцов датасета 'row_number', 'customer_id', 'surname'\n",
    "\n",
    "**(3)** проверен дисбаланс классов в целевом признаке target. Целевой признак target в своем исходном виде не сбалансирован: 20% значений '1' (клиент прекратил использование продуктов банка), 80% значений '0' (клиент продолжает использовать продукты банка). Результаты представлены на рисунке:\n",
    "\n"
   ]
  },
  {
   "cell_type": "markdown",
   "metadata": {
    "id": "57jKdCVQa_cM"
   },
   "source": [
    "![Рис 2.JPG](data:image/jpeg;base64,/9j/4AAQSkZJRgABAQEAYABgAAD/4RDsRXhpZgAATU0AKgAAAAgABAE7AAIAAAALAAAISodpAAQAAAABAAAIVpydAAEAAAAWAAAQzuocAAcAAAgMAAAAPgAAAAAc6gAAAAgAAAAAAAAAAAAAAAAAAAAAAAAAAAAAAAAAAAAAAAAAAAAAAAAAAAAAAAAAAAAAAAAAAAAAAAAAAAAAAAAAAAAAAAAAAAAAAAAAAAAAAAAAAAAAAAAAAAAAAAAAAAAAAAAAAAAAAAAAAAAAAAAAAAAAAAAAAAAAAAAAAAAAAAAAAAAAAAAAAAAAAAAAAAAAAAAAAAAAAAAAAAAAAAAAAAAAAAAAAAAAAAAAAAAAAAAAAAAAAAAAAAAAAAAAAAAAAAAAAAAAAAAAAAAAAAAAAAAAAAAAAAAAAAAAAAAAAAAAAAAAAAAAAAAAAAAAAAAAAAAAAAAAAAAAAAAAAAAAAAAAAAAAAAAAAAAAAAAAAAAAAAAAAAAAAAAAAAAAAAAAAAAAAAAAAAAAAAAAAAAAAAAAAAAAAAAAAAAAAAAAAAAAAAAAAAAAAAAAAAAAAAAAAAAAAAAAAAAAAAAAAAAAAAAAAAAAAAAAAAAAAAAAAAAAAAAAAAAAAAAAAAAAAAAAAAAAAAAAAAAAAAAAAAAAAAAAAAAAAAAAAAAAAAAAAAAAAAAAAAAAAAAAAAAAAAAAAAAAAAAAAAAAAAAAAAAAAAAAAAAAAAAAAAAAAAAAAAAAAAAAAAAAAAAAAAAAAAAAAAAAAAAAAAAAAAAAAAAAAAAAAAAAAAAAAAAAAAAAAAAAAAAAAAAAAAAAAAAAAAAAAAAAAAAAAAAAAAAAAAAAAAAAAAAAAAAAAAAAAAAAAAAAAAAAAAAAAAAAAAAAAAAAAAAAAAAAAAAAAAAAAAAAAAAAAAAAAAAAAAAAAAAAAAAAAAAAAAAAAAAAAAAAAAAAAAAAAAAAAAAAAAAAAAAAAAAAAAAAAAAAAAAAAAAAAAAAAAAAAAAAAAAAAAAAAAAAAAAAAAAAAAAAAAAAAAAAAAAAAAAAAAAAAAAAAAAAAAAAAAAAAAAAAAAAAAAAAAAAAAAAAAAAAAAAAAAAAAAAAAAAAAAAAAAAAAAAAAAAAAAAAAAAAAAAAAAAAAAAAAAAAAAAAAAAAAAAAAAAAAAAAAAAAAAAAAAAAAAAAAAAAAAAAAAAAAAAAAAAAAAAAAAAAAAAAAAAAAAAAAAAAAAAAAAAAAAAAAAAAAAAAAAAAAAAAAAAAAAAAAAAAAAAAAAAAAAAAAAAAAAAAAAAAAAAAAAAAAAAAAAAAAAAAAAAAAAAAAAAAAAAAAAAAAAAAAAAAAAAAAAAAAAAAAAAAAAAAAAAAAAAAAAAAAAAAAAAAAAAAAAAAAAAAAAAAAAAAAAAAAAAAAAAAAAAAAAAAAAAAAAAAAAAAAAAAAAAAAAAAAAAAAAAAAAAAAAAAAAAAAAAAAAAAAAAAAAAAAAAAAAAAAAAAAAAAAAAAAAAAAAAAAAAAAAAAAAAAAAAAAAAAAAAAAAAAAAAAAAAAAAAAAAAAAAAAAAAAAAAAAAAAAAAAAAAAAAAAAAAAAAAAAAAAAAAAAAAAAAAAAAAAAAAAAAAAAAAAAAAAAAAAAAAAAAAAAAAAAAAAAAAAAAAAAAAAAAAAAAAAAAAAAAAAAAAAAAAAAAAAAAAAAAAAAAAAAAAAAAAAAAAAAAAAAAAAAAAAAAAAAAAAAAAAAAAAAAAAAAAAAAAAAAAAAAAAAAAAAAAAAAAAAAAAAAAAAAAAAAAAAAAAAAAAAAAAAAAAAAAAAAAAAAAAAAAAAAAAAAAAAAAAAAAAAAAAAAAAAAAAAAAAAAAAAAAAAAAAAAAAAAAAAAAAAAAAAAAAAAAAAAAAAAAAAAAAAAAAAAAAAAAAAAAAAAAAAAAAAAAAAAAAAAAAAAAAAAAAAAAAAAAAAAAAAAAAAAAAAAAAAAAAAAAAAAAAAAAAAAAAAAAAAAAAAAAAAAAAAAAAAAAAAAAAAAAAAAAAAAAAAAAAAAAAAAAAAAAAAAAAAAAAAAAAAAAAAAAAAAAAAAAAAAAAAAAAAAAAAAAAAAAAAAAAAAAAAAAAAAAAAAAAAAAAAAAAAAAAAAAAAAAAAAAAAAAAAAAAAAAAAAAAAAAAAAAAAAAAAAAAAAAAAAAAAAAAAAAAAAAAAAAAAAAAAAAAAAAAAAAAAAAAAAAAAAAAAAAAAAAAAAAAAAAAAAAAAAAAAAAAAAAAAAAAAAAAAAAAAAAAAAAAAAAAAAAAAAAAAAAAAAAAAAAAAAAAAAAAAAAAAAAAAAAAAAAAAAAAAAAAAAAAAAAAAAAAAAAAAAAAAAAAAAAAAAAAAAAAAAAAAAAAAAAAAAAAAAAAAAAAAAAAAAAAAAAAAAAAAAAAAAAAAAAAAAAAAAAAAAAAAAAAAAAAAAAAAAAAAAAAAAAAAAAAAAAAAAAAAAAAAAAAAAAAAAAAAAAAAAAAAAAAAAAAAAAAAAAAAAAAAAAAAAAAAAAAAAAAAAAAAAAAAAAAAAAAAAAAAAAAAAAAAAAAAAAAAAAAAAAAAAAAAAAAAAAAAAAAAAAAAAAAAAAAAAAAAAAAAAAAAAAAAAAAAAAAAAAAAAAAAAAAAAAAAAAAAAAAAAAAAAAAAAAAAAAAAAAAAAAAAAAAAAAAAAAAAAAAAAAAAAAAAAAAAAAAAAAAAAAAAAAAAAAAAAAAAAAAAAAAAAAAAAAAAAAAAAAAAAAAAAAAAAAAAAAAAAAAAAAAAAAAAAAAAAAAAAAAAAAAAAAAAAAAAAAAAAAAAAAAAAAAAAAAAAAAAAAAAAAAAAAAAAAAAAAAAAAAAAAAAAAAAAAAAAAAAAAAAAAAEVnb3IgVW1hZXYAAAAFkAMAAgAAABQAABCkkAQAAgAAABQAABC4kpEAAgAAAAM4NQAAkpIAAgAAAAM4NQAA6hwABwAACAwAAAiYAAAAABzqAAAACAAAAAAAAAAAAAAAAAAAAAAAAAAAAAAAAAAAAAAAAAAAAAAAAAAAAAAAAAAAAAAAAAAAAAAAAAAAAAAAAAAAAAAAAAAAAAAAAAAAAAAAAAAAAAAAAAAAAAAAAAAAAAAAAAAAAAAAAAAAAAAAAAAAAAAAAAAAAAAAAAAAAAAAAAAAAAAAAAAAAAAAAAAAAAAAAAAAAAAAAAAAAAAAAAAAAAAAAAAAAAAAAAAAAAAAAAAAAAAAAAAAAAAAAAAAAAAAAAAAAAAAAAAAAAAAAAAAAAAAAAAAAAAAAAAAAAAAAAAAAAAAAAAAAAAAAAAAAAAAAAAAAAAAAAAAAAAAAAAAAAAAAAAAAAAAAAAAAAAAAAAAAAAAAAAAAAAAAAAAAAAAAAAAAAAAAAAAAAAAAAAAAAAAAAAAAAAAAAAAAAAAAAAAAAAAAAAAAAAAAAAAAAAAAAAAAAAAAAAAAAAAAAAAAAAAAAAAAAAAAAAAAAAAAAAAAAAAAAAAAAAAAAAAAAAAAAAAAAAAAAAAAAAAAAAAAAAAAAAAAAAAAAAAAAAAAAAAAAAAAAAAAAAAAAAAAAAAAAAAAAAAAAAAAAAAAAAAAAAAAAAAAAAAAAAAAAAAAAAAAAAAAAAAAAAAAAAAAAAAAAAAAAAAAAAAAAAAAAAAAAAAAAAAAAAAAAAAAAAAAAAAAAAAAAAAAAAAAAAAAAAAAAAAAAAAAAAAAAAAAAAAAAAAAAAAAAAAAAAAAAAAAAAAAAAAAAAAAAAAAAAAAAAAAAAAAAAAAAAAAAAAAAAAAAAAAAAAAAAAAAAAAAAAAAAAAAAAAAAAAAAAAAAAAAAAAAAAAAAAAAAAAAAAAAAAAAAAAAAAAAAAAAAAAAAAAAAAAAAAAAAAAAAAAAAAAAAAAAAAAAAAAAAAAAAAAAAAAAAAAAAAAAAAAAAAAAAAAAAAAAAAAAAAAAAAAAAAAAAAAAAAAAAAAAAAAAAAAAAAAAAAAAAAAAAAAAAAAAAAAAAAAAAAAAAAAAAAAAAAAAAAAAAAAAAAAAAAAAAAAAAAAAAAAAAAAAAAAAAAAAAAAAAAAAAAAAAAAAAAAAAAAAAAAAAAAAAAAAAAAAAAAAAAAAAAAAAAAAAAAAAAAAAAAAAAAAAAAAAAAAAAAAAAAAAAAAAAAAAAAAAAAAAAAAAAAAAAAAAAAAAAAAAAAAAAAAAAAAAAAAAAAAAAAAAAAAAAAAAAAAAAAAAAAAAAAAAAAAAAAAAAAAAAAAAAAAAAAAAAAAAAAAAAAAAAAAAAAAAAAAAAAAAAAAAAAAAAAAAAAAAAAAAAAAAAAAAAAAAAAAAAAAAAAAAAAAAAAAAAAAAAAAAAAAAAAAAAAAAAAAAAAAAAAAAAAAAAAAAAAAAAAAAAAAAAAAAAAAAAAAAAAAAAAAAAAAAAAAAAAAAAAAAAAAAAAAAAAAAAAAAAAAAAAAAAAAAAAAAAAAAAAAAAAAAAAAAAAAAAAAAAAAAAAAAAAAAAAAAAAAAAAAAAAAAAAAAAAAAAAAAAAAAAAAAAAAAAAAAAAAAAAAAAAAAAAAAAAAAAAAAAAAAAAAAAAAAAAAAAAAAAAAAAAAAAAAAAAAAAAAAAAAAAAAAAAAAAAAAAAAAAAAAAAAAAAAAAAAAAAAAAAAAAAAAAAAAAAAAAAAAAAAAAAAAAAAAAAAAAAAAAAAAAAAAAAAAAAAAAAAAAAAAAAAAAAAAAAAAAAAAAAAAAAAAAAAAAAAAAAAAAAAAAAAAAAAAAAAAAAAAAAAAAAAAAAAAAAAAAAAAAAAAAAAAAAAAAAAAAAAAAAAAAAAAAAAAAAAAAAAAAAAAAAAAAAAAAAAAAAAAAAAAAAAAAAAAAAAAAAAAAAAAAAAAAAAAAAAAAAAAAAAAAAAAAAAAAAAAAAAAAAAAAAAAAAAAAAAAAAAAAAAAAAAAAAAAAAAAAAAAAAAAAAAAAAAAAAAAAAAAAAAAAAAAAAAAAAAAAAAAAAAAAAAAAAAAAAAAAAAAAAAAAAAAAAAAAAAAAAAAAAAAAAAAAAAAAAAAAAAAAAAAAAAAAAAAAAAAAAAAAAAAAAAAAAAAAAAAAAAAAAAAAAAAAAAAAAAAAAAAAAAAAAAAAAAAAAAAAAAAAAAAAAAAAAAAAAAAAAAAAAAAAAAAAAAAAAAAAAAAAAAAAAAAAAAAAAAAAAAAAAAAAAAAAAAAAAAAAAAAAAAAAAAAAAAAAAAAAAAAAAAAAAAAAAAAAAAAAAAAAAAAAAAAAAAAAAAAAAAAAAAAAAAAAAAAAAAAAAAAAAAAAAAAAAAAAAAAAAAAAAAAAAAAAAAAAAAAAAAAAAAAAAAAAAAAAAAAAAAAAAAAAAAAAAAAAAAAAAAAAAAAAAAAAAAAAAAAAAAAAAAAAAAAAAAAAAAAAAAAAAAAAAAAAAAAAAAAAAAAAAAAAAAAAAAAAAAAAAAAAAAAAAAAAAAAAAAAAAAAAAAAAAAAAAAAAAAAAAAAAAAAAAAAAAAAAAAAAAAAAAAAAAAAAAAAAAAAAAAAAAAAAAAAAAAAAAAAAAAAAAAAAAAAAAAAAAAAAAAAAAAAAAAAAAAAAAAAAAAAAAAAAAAAAAAAAAAAAAAAAAAAAAAAAAAAAAAAAAAAAAAAAAAAAAAAAAAAAAAAAAAAAAAAAAAAAAAAAAAAAAAAAAAAAAAAAAAAAAAAAAAAAAAAAAAAAAAAAAAAAAAAAAAAAAAAAAAAAAAAAAAAAAAAAAAAAAAAAMjAyMjoxMToxMSAyMjowMjoxMgAyMDIyOjExOjExIDIyOjAyOjEyAAAARQBnAG8AcgAgAFUAbQBhAGUAdgAAAP/hCx1odHRwOi8vbnMuYWRvYmUuY29tL3hhcC8xLjAvADw/eHBhY2tldCBiZWdpbj0n77u/JyBpZD0nVzVNME1wQ2VoaUh6cmVTek5UY3prYzlkJz8+DQo8eDp4bXBtZXRhIHhtbG5zOng9ImFkb2JlOm5zOm1ldGEvIj48cmRmOlJERiB4bWxuczpyZGY9Imh0dHA6Ly93d3cudzMub3JnLzE5OTkvMDIvMjItcmRmLXN5bnRheC1ucyMiPjxyZGY6RGVzY3JpcHRpb24gcmRmOmFib3V0PSJ1dWlkOmZhZjViZGQ1LWJhM2QtMTFkYS1hZDMxLWQzM2Q3NTE4MmYxYiIgeG1sbnM6ZGM9Imh0dHA6Ly9wdXJsLm9yZy9kYy9lbGVtZW50cy8xLjEvIi8+PHJkZjpEZXNjcmlwdGlvbiByZGY6YWJvdXQ9InV1aWQ6ZmFmNWJkZDUtYmEzZC0xMWRhLWFkMzEtZDMzZDc1MTgyZjFiIiB4bWxuczp4bXA9Imh0dHA6Ly9ucy5hZG9iZS5jb20veGFwLzEuMC8iPjx4bXA6Q3JlYXRlRGF0ZT4yMDIyLTExLTExVDIyOjAyOjEyLjg1NDwveG1wOkNyZWF0ZURhdGU+PC9yZGY6RGVzY3JpcHRpb24+PHJkZjpEZXNjcmlwdGlvbiByZGY6YWJvdXQ9InV1aWQ6ZmFmNWJkZDUtYmEzZC0xMWRhLWFkMzEtZDMzZDc1MTgyZjFiIiB4bWxuczpkYz0iaHR0cDovL3B1cmwub3JnL2RjL2VsZW1lbnRzLzEuMS8iPjxkYzpjcmVhdG9yPjxyZGY6U2VxIHhtbG5zOnJkZj0iaHR0cDovL3d3dy53My5vcmcvMTk5OS8wMi8yMi1yZGYtc3ludGF4LW5zIyI+PHJkZjpsaT5FZ29yIFVtYWV2PC9yZGY6bGk+PC9yZGY6U2VxPg0KCQkJPC9kYzpjcmVhdG9yPjwvcmRmOkRlc2NyaXB0aW9uPjwvcmRmOlJERj48L3g6eG1wbWV0YT4NCiAgICAgICAgICAgICAgICAgICAgICAgICAgICAgICAgICAgICAgICAgICAgICAgICAgICAgICAgICAgICAgICAgICAgICAgICAgICAgICAgICAgICAgICAgICAgICAgICAgICAKICAgICAgICAgICAgICAgICAgICAgICAgICAgICAgICAgICAgICAgICAgICAgICAgICAgICAgICAgICAgICAgICAgICAgICAgICAgICAgICAgICAgICAgICAgICAgICAgICAgIAogICAgICAgICAgICAgICAgICAgICAgICAgICAgICAgICAgICAgICAgICAgICAgICAgICAgICAgICAgICAgICAgICAgICAgICAgICAgICAgICAgICAgICAgICAgICAgICAgICAgCiAgICAgICAgICAgICAgICAgICAgICAgICAgICAgICAgICAgICAgICAgICAgICAgICAgICAgICAgICAgICAgICAgICAgICAgICAgICAgICAgICAgICAgICAgICAgICAgICAgICAKICAgICAgICAgICAgICAgICAgICAgICAgICAgICAgICAgICAgICAgICAgICAgICAgICAgICAgICAgICAgICAgICAgICAgICAgICAgICAgICAgICAgICAgICAgICAgICAgICAgIAogICAgICAgICAgICAgICAgICAgICAgICAgICAgICAgICAgICAgICAgICAgICAgICAgICAgICAgICAgICAgICAgICAgICAgICAgICAgICAgICAgICAgICAgICAgICAgICAgICAgCiAgICAgICAgICAgICAgICAgICAgICAgICAgICAgICAgICAgICAgICAgICAgICAgICAgICAgICAgICAgICAgICAgICAgICAgICAgICAgICAgICAgICAgICAgICAgICAgICAgICAKICAgICAgICAgICAgICAgICAgICAgICAgICAgICAgICAgICAgICAgICAgICAgICAgICAgICAgICAgICAgICAgICAgICAgICAgICAgICAgICAgICAgICAgICAgICAgICAgICAgIAogICAgICAgICAgICAgICAgICAgICAgICAgICAgICAgICAgICAgICAgICAgICAgICAgICAgICAgICAgICAgICAgICAgICAgICAgICAgICAgICAgICAgICAgICAgICAgICAgICAgCiAgICAgICAgICAgICAgICAgICAgICAgICAgICAgICAgICAgICAgICAgICAgICAgICAgICAgICAgICAgICAgICAgICAgICAgICAgICAgICAgICAgICAgICAgICAgICAgICAgICAKICAgICAgICAgICAgICAgICAgICAgICAgICAgICAgICAgICAgICAgICAgICAgICAgICAgICAgICAgICAgICAgICAgICAgICAgICAgICAgICAgICAgICAgICAgICAgICAgICAgIAogICAgICAgICAgICAgICAgICAgICAgICAgICAgICAgICAgICAgICAgICAgICAgICAgICAgICAgICAgICAgICAgICAgICAgICAgICAgICAgICAgICAgICAgICAgICAgICAgICAgCiAgICAgICAgICAgICAgICAgICAgICAgICAgICAgICAgICAgICAgICAgICAgICAgICAgICAgICAgICAgICAgICAgICAgICAgICAgICAgICAgICAgICAgICAgICAgICAgICAgICAKICAgICAgICAgICAgICAgICAgICAgICAgICAgICAgICAgICAgICAgICAgICAgICAgICAgICAgICAgICAgICAgICAgICAgICAgICAgICAgICAgICAgICAgICAgICAgICAgICAgIAogICAgICAgICAgICAgICAgICAgICAgICAgICAgICAgICAgICAgICAgICAgICAgICAgICAgICAgICAgICAgICAgICAgICAgICAgICAgICAgICAgICAgICAgICAgICAgICAgICAgCiAgICAgICAgICAgICAgICAgICAgICAgICAgICAgICAgICAgICAgICAgICAgICAgICAgICAgICAgICAgICAgICAgICAgICAgICAgICAgICAgICAgICAgICAgICAgICAgICAgICAKICAgICAgICAgICAgICAgICAgICAgICAgICAgICAgICAgICAgICAgICAgICAgICAgICAgICAgICAgICAgICAgICAgICAgICAgICAgICAgICAgICAgICAgICAgICAgICAgICAgIAogICAgICAgICAgICAgICAgICAgICAgICAgICAgICAgICAgICAgICAgICAgICAgICAgICAgICAgICAgICAgICAgICAgICAgICAgICAgICAgICAgICAgICAgICAgICAgICAgICAgCiAgICAgICAgICAgICAgICAgICAgICAgICAgICAgICAgICAgICAgICAgICAgICAgICAgICAgICAgICAgICAgICAgICAgICAgICAgICAgICAgICAgICAgICAgICAgICAgICAgICAKICAgICAgICAgICAgICAgICAgICAgICAgICAgICAgICAgICAgICAgICAgICAgICAgICAgICAgICAgICAgICAgICAgICAgICAgICAgICAgICAgICAgICAgICAgICAgICAgICAgIAogICAgICAgICAgICAgICAgICAgICAgICAgICAgPD94cGFja2V0IGVuZD0ndyc/Pv/bAEMABwUFBgUEBwYFBggHBwgKEQsKCQkKFQ8QDBEYFRoZGBUYFxseJyEbHSUdFxgiLiIlKCkrLCsaIC8zLyoyJyorKv/bAEMBBwgICgkKFAsLFCocGBwqKioqKioqKioqKioqKioqKioqKioqKioqKioqKioqKioqKioqKioqKioqKioqKioqKv/AABEIAbwClAMBIgACEQEDEQH/xAAfAAABBQEBAQEBAQAAAAAAAAAAAQIDBAUGBwgJCgv/xAC1EAACAQMDAgQDBQUEBAAAAX0BAgMABBEFEiExQQYTUWEHInEUMoGRoQgjQrHBFVLR8CQzYnKCCQoWFxgZGiUmJygpKjQ1Njc4OTpDREVGR0hJSlNUVVZXWFlaY2RlZmdoaWpzdHV2d3h5eoOEhYaHiImKkpOUlZaXmJmaoqOkpaanqKmqsrO0tba3uLm6wsPExcbHyMnK0tPU1dbX2Nna4eLj5OXm5+jp6vHy8/T19vf4+fr/xAAfAQADAQEBAQEBAQEBAAAAAAAAAQIDBAUGBwgJCgv/xAC1EQACAQIEBAMEBwUEBAABAncAAQIDEQQFITEGEkFRB2FxEyIygQgUQpGhscEJIzNS8BVictEKFiQ04SXxFxgZGiYnKCkqNTY3ODk6Q0RFRkdISUpTVFVWV1hZWmNkZWZnaGlqc3R1dnd4eXqCg4SFhoeIiYqSk5SVlpeYmZqio6Slpqeoqaqys7S1tre4ubrCw8TFxsfIycrS09TV1tfY2dri4+Tl5ufo6ery8/T19vf4+fr/2gAMAwEAAhEDEQA/APpGiiigAormPHHjWPwVZ6bKdMutTn1K/Swt7e2ZQzSOGK8sQP4cfjVLRfiTb33ieDw7ruian4e1a6RpLWK+RTHchRlgkiMVJA5I7UAdpRRRQAUUUUAFFY/ibXpfD2ki7ttIv9YnklWGK0sIwzsxzySSAqjHLHgVzuj/ABKefxbbeG/FHhu/8OahfK72H2mSOWO52DLKHQkBgOcfrnAIB3VFFFABRRXmkHxdu7621G80vwRq97YafPNBNdJPAq5iJ3nDODjjPSgD0uisrwxr0Pijwvp2uWsMkMN/AsyRyY3KD2OK1aACiiigAooooAKKKKACiiigAooooAKKKKACiiigAooooAKKKKACisjxV4hg8KeFdQ127hknhsYTK8cWNzD0GeO9U/FXjK18MWtgPslxqGoanKIbDT7YDzLh8ZPJICqByWJwBQB0dFcv4X8bLr2r3ui6lpV1omtWMaTS2Ny6Pujbo6OhKuueCR0NaHhnxJb+KNOuLy0hkhSC8ntCsuMlopChPHYkZoA2KKKKACiiuTsvHsWofDm18XWOi6nex3SBo7CziEtwcvt6ZA46k54FAHWUVzPgjxpH40s9RlXTLrTJtOvWsp7e7K71dVVj90kfxYx7Vb0vxPBqvizXtBjt5El0X7P5srEbZPOQuMfQDHNAG3RRRQAUUUUAFFFFABRRRQAUUUUAFFFFABRRRQAUUUUAFFFFABRRRQAUUUUAFFFFABRRRQAUUUUAFFc/D4vtpdZ8SWDW0ynw9HFJO4IPmh4jJ8o9gMc96veHddtfE3hyx1rT0lS2voRNEsygOFPTIBIz+NAGlRRRQAUUUUAFFFY2s+J7LQtX0bTryOdptYuGt7cxqCqsF3HdkjAwO2aANmisTV/E1vo/iPQtHmgkkk1qWWKKRCNsZjjMhLfUDHFbdABRRRQAUUUUAeXfG97uNPBD6ZDHPeL4otTBHM+xGfa+0MwBwM9Tg1Zs/Cni/wAQ/ELR/EnjX+ybG20NJjZ2Wmu8rySSLtJkd1HAGMAdx2rrPEnhSz8UXGjSX008X9kajHqMIhIG+RAdobIPy8nIGD7itygDwzSda1K60TWPCegXLDW9d8TalF5+4k2dosv76c+mAdq9PmYY6VR0TUNQ039n7SdO0zULizfVPER0l79WzLbxSXTqzhuzbVxntnjBwR6p4S+HGjeENe1nWrJ7i4v9XmeWaW4YHywzlzGgAGF3MT3PTnim2vw00KLwDP4QuvPvNOnlklcysBIGeQyZUqBghjx9KAJtD+GvhTw7qkOpaTpfk38KlRcm4kd3yMEuSx3kj1z+grqa5TQfB2paRqNvPe+Mtb1a3tUKRWt2YgrZXGZGVA0hHUEnrzWnoHhyPQLjVZY768uzqV694y3UgcQlv4I+OEHYUAas88VtbyT3MqQwxKXkkkYKqKBkkk8AAd6820UT/Enx5p3jAR+R4b0MTJpG9SJL6ZxsecjtGAMKDyTk11PjrwZbePfDLaHf6hfWNtJKskpspAjSAZ+Rsggrkg4x1UVR0PwDdaJf2kw8Z+ILu3teFsp5IfJZQMBSqxjgegI6UAde7bI2YKzbQTtXqfYVznhzxbd69qMlrc+FNb0ZEiMguNQjjWNiCBtG12O7nPToDXS0UAIzBFLNwFGSa8i+Gy+Z8ANav1/1eonU7uInqVZnAJ9/lrrfidpGr6/4ZtdI0SW6hW+1CCC/ktHCOlozYmOT/sn/AOselY9v8HjaaGujWvjnxPDpywm3W2SWAKIyMFf9V6UAc1/aV7Zfs6+CLHT7ySxOsz2OmTXUTbXhilYh2U9jgYz7/jWj4l8LaV8NNc8Jat4OSXTZLzW7fS7u3Wd3jvIptwO5WbBYEbg3rzWl4Q+HrP4D1rwb4sW7utKh1Jo9Me4kUSi1RIzG6sgG0hw5HAPXsa1tP+G4TX7HVfEPiPVvEEmmMWsIb5o1jgYgjeVRV3uAeGbpQBjePNLsvE3xj8G6LqURubSKyv7m4gDsoIIjVC20jjcOPeqHgfS7q3tfibo3haT7HcRX0kGmlnJWBzbjYcnJGGIOefxrvtJ8H2GleJtR18z3d7qd8ChnvJQ5gh3FhDEAAEjBI46nAySRmobbwVb2MfiM6fqV9az+IJ2nmuImUPbsUCfujt4OBwTnnmgDwGabSW8L6TJb+HNbh1+11y1s9T1i4uTcRPcJIolHmmQ53H0XHOK+o65S7+HWi3Hg7S/DNv51np2mTwzwiAjcWibcMkg5y3JPU5NdXQB5F4K8F6B4q1fxreeINP8AttxD4nuoI3eaQbYwkRCgBgMZY/nXOXQ+wfs5+P4bNniS21u7hhCucoi3KKFB64A4r2fw94ZtfDb6u1nLNKdW1KXUZvNIOyRwoKrgD5fkHXJ681wvxE8HLo3wR8W6foq3d9PqNy980e3e5klnRmVVUZwOw5PvQBkeOvCmn+Bfh2vjTQZ518Rae9vcPqBuHZtQLyIrpICcMrbjgY44xitTxP4otvCXxo1LVb8ySQ2/hGMx26HLTyteOqIo7sxwP/1VsW/wstpJNNTUte1i+0jTpI57XR7mRGhjdPuBjt3uq9lYnoM5rS1X4daPrXxF07xjfyXMl5p0Cww225fIJVnZXZcZLKZCRzwQDQBxXww07VtO+KviJfEd3JPqd9pdte3ibzshlkeQ+WnPCoAqj/drK1/wvpXhjxroZ0Xw1N4TtYNWhD+JDdM6XC5/1JVWY/vCdu6TA65Pr6yvhS1TxRqmvJdXUd3qVnHZvsYARqm7DLxkNljyeOBxWA/wxl1G4s18TeLta1uxsplnhsp/JjR3U5UyGNA0mD6mgDHuNc1LSvjtrq6dod/rYbSLTMVpNEnlfPJyfMdRz7ZqPwbr00vxP+IWo69aXWiw21jYySQXMiO0CLFIWb92WHQZ4Jrv7Xwza2vjK/8AEiSzNd31rFavGSPLVYyxBAxnOWPeq8XgzTk8QeINWleaZ9ft4ra7gcjywkaMgC4GeQxzkmgDw/xDp1tZeBZfGPgnwPe6IYI0vbPX7jV/37JuBDtEXYuHU4w3ZvpXbfETxBqNj48+Hl/o2mTane3NrqHkWMTbRJI8UO3cTwFXcSWPQA1el+Cdld+GW8Oah4p1660WMbbWyaWNVgA+7yEy+3sGJUdcZArsJ/CNjPr2gas81wJtBhmhtkDLtcSoqMX4ySAgxjHJoA5D4d3Ub+CdV8XXE8t/4mlSU6mLldjWs0QP+iqmf3aKRwOrcMeoxzeleBdN1n4Nt40v725bxVc6dJqX9uG7kEkEoVnULhsKq/d2gYwDXqdn4SstP8YX/iCzmnhk1KFY7u0UjyJnXpKVxnfj5c55Fcufg7YrYy6PbeI9ctvDc0heTRYp1EWCctGr7d6xk5yobByaAON8ValP4ms/hPd6npVxrDalBNLc6fBKI2uWNspzksoHPzckdK3fhWv2D4heJdN+z3mgwm3hmtvD95cPM6Lkq1wrEsoUthcIzD1xwK6/xH4AtNem0Oa11G90aXQt4sn0/wAsbAyBCMOjDG0Y6d6f4d8B2Wga9c67NqOo6xrFzALd73UZldkiDbvLQIqqq7ucAdaANrWdGsPEGjXOlavB9osrtPLmi3sm9fTKkEfga4TxAFj/AGg/Bazr+6/sy+W1yekmF3Y99lek1z/izwfZ+LILRpri5sL+wm86y1CzcLNbP0bGQQQw4IIII/A0AcxqHzftKaOIDl18OTtOo5wnnAKcdvmJGa7jSNE0/QbWW20q38iGWeS4dd7NmSRiztliepJOOnpWN4W8DW3hvUr3VrjUb7WNYvlWOe/vnBbYv3UVVAVFHXAHWuooA89+I14lj428Bz3E/k28eoXLzOzYUKts5JPsMZrjtMudR1740+DvF989xDaa0b9dNsnJAjs4rc+VIV/vSb2c+xWvSPHHw90rx+umx63NdRw6fOZhHbOF87IwUYkH5SMggYOCea0b/wALWN/4k0PWXeWKbQ1nW2ii2iMiVAhDDGcADjBFAG1VDRNE0/w5ottpOjW/2axtV2Qxb2faMk4yxJPJPU1fqhremy6vo89jBqN3pkku3F3ZsoljwwPylgRzjB46E0AcV8KP+Qn4+/7Gm5/9AjrtLPQtOsNa1HVrS38u+1Pyvtcu9j5vlrtTgnAwDjgDPeuT8MfC4eFtal1C08Wa/cC4uWurq2nliMdzIwwWcCMH06EdBXeUAedfHmRo/g7qhQyczWoIjYhmBuI8gEEda5fRbOLQ/izoDwaHqHgm0uFmieG5vDOmquU+SIKjOiMpy2SQTgYz29R8Y+FbXxp4Yn0S/uJ7aCd43aW3271KOHGNwI6qOoNZFt8N4D4g0/WNd8QazrtxpjNJZxX0kQiicjG/ZHGuWHYnOKAOzrzn4QSO/wAB9Okd2ZzDdksTk58+XvXo1efaZ8KptG0VNI0rxv4htdPjDqkCfZiFDEswyYSerHv3oA4qXX9U0v8AZt8GR6bJdefq11a6fNLbShJxHIzFtjsQFY7doYkY3dR1Fmz8NajpPirQL7wR4D1fw55d8iam0l/C8VxaNxJvXz2LMM7gcZzk9cV1Hhf4cmPwLqng3xQbi70mG/K6XJJKnmrbKkbRsGQDawkDnoD+Fa2leCtUsL22kvfHGvaja2rK0dtMYV346CR1jDOPUE8980AYHjnR7PxR8ZPCWj6lE1zZw6ffXU8AkZQQfLVSdpH8X61zEeozeBvAPxUn8OD7O2n6oYbQbi3kBo4kyMnqu8sM9x3r1XR/Bun6T4k1DxA011farfr5b3N3LvMMW7cIYhgBIwedo9skmmWvgfSYYPEUFwJLuDxFcPPeQzEbRuQIVXABAwo9896API7zwrq9polveeC/AuvWXimB4pl1mfVIJDdMCPM80+ed6uM5GCOnGBitbx5apqfxtt7a88MXniJf+EZEgsLe6WLyn+0kbyxdRxnbwSeelddZfDa9sIIrC18deI49Jh4jtBJDvRM8IJjH5m0Dgc5A6Gr+veAxrHiyPxFZ6/qmj362IsS1l5JDRby+CJI25yf0FAHmekeINR8LfBXx1LY3Nzbahpt5J9n025keabSY5CiopZ+pwWcEEr3Geat+NvA+lfD74b/8Jh4bluovEGk+RcHUXuZGe9LSIribnDhwTkdPwr0LRvh3oukaRrFhM93qn9uFjqNxqE3mS3GV24JAAGB0wBisqH4TW7NZWuqeJNZ1PRdOlSW00m5kTylKfcV2ChpFXAwGPYZzQByPxHfULf4ywa5pXnNPoPhxNT+zhyBJGtyVmUjuTE7++QKr6xqreK/ix4a8TWF07aPDrUek2GxzsuNsUkk0uO4LlUH/AFzPrXrreF7J/GreJneZrttN/s0wkr5Ri8zzCSMZ3Z464x2qteeCNHuG0JLWBdOttDvDeWttYxpFHvIYYKgYAO9icYJPegDoq8a+FvgTw34l8KXWo67povLttUvEMrzSAkLMwA4YDgV7LWJ4U8L2nhDRW02wmmmje4luS05BbdI5YjgDjJ4oA8QSS4b9kzQvJvJLeZtUCLcbssn+nuAeeuPf0rrvGXhjTfh7c+HfEfhcTW2of2tbWN00ly7m/hlO11k3N8zdGBPcZp/jbwDBo3wb07wjpUN5qdpHqtvuVl3yOj3W987AOBvbkDgV0dr8NYf7esNQ1rxBq2tw6W/mafZXsimK3kH3ZDtUGR1HAZyTyT1NAHJ3viuTwv8AE/4gXMMbXl9JDpdrplkWP7+5kjk2IB7nJPspPap/hRoNxZa1490LXr6TU5TNbLeTmRh5ry2+6UqRgqCztjGMDHSutT4baL/ws2bxzM9xPqTxLHHC7L5MRCBA6rjO7bkZJI+ZuOmLkPg63trzxHeWeoXttdeIGRppomUG3KRiNTHlTg4Gec80AeWxaFpvhv4s+HRpvhm58H25vpYBqMly0q6plGCRbVZgC5G7MhB47mtvTdf1TS/jF4/i0/w7qOtq0un5NrNCiw/6KvH7x165PTPSuhtvhs0+t2OpeJ/E+reIDpswnsre58qKGKRc7ZCsaLuYZOCfXoa6DS/DNppXiXXNbglme51p4HuEcjYnlRiNdoAyMgZOSefSgDzrwrr0Mdn8TdU8UQXmnWkd4WuLZ5FaWFPsyAqCjEbj2wepFcj4hsj4dtNL8X+HPBF14YMd7bMuoSasHlnikkAKSwhm3FlPO45Hc8V7GfAGkS2via2u2nuIfEspkvEZgAnyBMJgZHCg855rCm+EEOo6NBpev+Ktc1S0s5I2s45XiQQBGUr91BvbCldzZwrHAB5oAwfiB4j13w/8aIf+EX0ifWdTufDEsVraof3aSfaA3mScjChUPuTtXIzkX9AvrbQ/ghq/jLQ72bVdWurGa+ub66UeY1yqnKsnRVRgRsHAC8V3Z8M2p8cp4pMs32xNNbThFkeX5ZlEm7pndlQOuMdqg07wZpumatrd1btJ9l1vDXWnNtNuXxtdwuMhmH3ucH0zzQB4vb+Fr6+8D2uoaT4K8QTeKpreO7h8RNqkBaWcgOHJ8/8A1ZJ+7jgHpmvftLe7k0ezfU4hDetAhuIwQQkm0bhkcHBz0rjLb4YT6dbf2dovjTxDpujKMR2MMkTGFc52pK0ZdV/HPvXdQx+TCkYZn2KF3OcscDqT3NAHNeJfCujy6F4ouDZbp9WtM3jCV/3xijIj4zxjA6Yz3zXIfDLRPDfh74O2XiieBrSV9DZr68jkcv5W3c5AyeflBGBnjivVZI0mieKVQ6OpVlPQg9RXG6N8NLLR9Nu9IbWdWv8AQ7i0e0GlXcyNDFG+MhSqhxgZA+bgE0AeReJof7B8Gp448J+Bb7w2bVoLmHVZtYzNJG8qDEkO9t4dSAQ5J5/PvvHGjL4h+NnhfTLue4SwfTLt7mGCZovOUFMKWUggbtucHkDHQmprz4KWuq+Fx4e1nxXr17pcKotpbtLEgtwuNvITL4AwN2QAemcEdrc+GbS68Y2PiSSWYXdjay2scakeWyyFSSRjOfl9aAPOrnwpo1/8U7LwJcW/leGNM0VtSg0pZXEc88lw4Zn5y4XJOM8FvTineHLKPwn8YfFNppslxPZWegQzW1o8rSeSNzt5aliTjOSP97FbfxJtNHXUNJ1O/HiKzv4RKlvqegWzyvCpAykm1WG1sjAKnJB6c1lfC/w7MvjTX/En2TVILC6t4bSGbWlZbu+ZSWkmkVgCoyQqjAG0DAAGKAOJ0DTbjxj4JTXr3wdr+r+IdRjeaPxBDqEMZil3HYYVM48tUIA27RnbyK2/E2hTazefCw+ONP8A+JvPK1pqCNNnfthYnJRscn5uPXFdovwxbTpp4/DHivWdB064kaRtPtDE8URbk+X5iMY8nJwDjnjFauteBbTW9B0vT7jU9TjuNKdJLXU45x9qWRVK7y5UhiQTnjmgC3b+DNAtP7I+z6eI/wCxXlksAJX/AHLSAhz975shj97PXityqOjafLpWkw2dxqN1qcke7N1dlTLJliedoA4zgYHQCr1ABRRRQAUUVn65rum+G9GuNV1u6S0s7dcvI/PsAAOSSeAByTQBoUVzXhvx/oHim+lsdNuJor6KMSm0vLaS3laM9HVXALKfUZ9+tdLQAUVwlx8ZfBdveTx/b7iW2tpfJnv4bOWS1if0MoXb+IOK7iGaO4hSaCRZYpFDo6MCrKRkEEdRQBj+LPEf/CL6It+tlJfSSXMNrHBG4Qu8sixryeBywrN/4SXxb/0IVx/4NLb/AOKqL4n/APIt6d/2HdN/9K467KgDkv8AhJfFv/QhXH/g0tv/AIqj/hJfFv8A0IVx/wCDS2/+KrraKAOS/wCEl8W/9CFcf+DS2/8AiqP+El8W/wDQhXH/AINLb/4qutooA5L/AISXxb/0IVx/4NLb/wCKo/4SXxb/ANCFcf8Ag0tv/iq62igDkv8AhJfFv/QhXH/g0tv/AIqj/hJfFv8A0IVx/wCDS2/+KrraKAOS/wCEl8W/9CFcf+DS2/8AiqP+El8W/wDQhXH/AINLb/4qutooA5L/AISXxb/0IVx/4NLb/wCKo/4SXxb/ANCFcf8Ag0tv/iq62igDkv8AhJfFv/QhXH/g0tv/AIqj/hJfFv8A0IVx/wCDS2/+KrraKAOS/wCEl8W/9CFcf+DS2/8AiqP+El8W/wDQhXH/AINLb/4qutooA42HxZ4pn3+V4EuD5blG/wCJpb8Ede9S/wDCS+Lf+hCuP/Bpbf8AxVb2k9Lz/r7k/nV+gDkv+El8W/8AQhXH/g0tv/iqP+El8W/9CFcf+DS2/wDiq62igDkv+El8W/8AQhXH/g0tv/iqP+El8W/9CFcf+DS2/wDiq62igDkv+El8W/8AQhXH/g0tv/iqP+El8W/9CFcf+DS2/wDiq62igDkv+El8W/8AQhXH/g0tv/iqP+El8W/9CFcf+DS2/wDiq62igDkv+El8W/8AQhXH/g0tv/iqP+El8W/9CFcf+DS2/wDiq62igDkv+El8W/8AQhXH/g0tv/iqP+El8W/9CFcf+DS2/wDiq62igDkv+El8W/8AQhXH/g0tv/iqP+El8W/9CFcf+DS2/wDiq62igDkv+El8W/8AQhXH/g0tv/iqP+El8W/9CFcf+DS2/wDiq62igDkv+El8W/8AQhXH/g0tv/iqP+El8W/9CFcf+DS2/wDiq62igDkv+El8W/8AQhXH/g0tv/iqP+El8W/9CFcf+DS2/wDiq62igDkv+El8W/8AQhXH/g0tv/iqP+El8W/9CFcf+DS2/wDiq62igDkv+El8W/8AQhXH/g0tv/iqP+El8W/9CFcf+DS2/wDiq62igDkv+El8W/8AQhXH/g0tv/iqP+El8W/9CFcf+DS2/wDiq62igDkv+El8W/8AQhXH/g0tv/iqP+El8W/9CFcf+DS2/wDiq62igDkv+El8W/8AQhXH/g0tv/iqP+El8W/9CFcf+DS2/wDiq62igDkv+El8W/8AQhXH/g0tv/iqP+El8W/9CFcf+DS2/wDiq62igDkv+El8W/8AQhXH/g0tv/iqit/Fnim5gWaHwJcMjdD/AGpbj+tdlVDQ/wDkC2/0P/oRoAwf+El8W/8AQhXH/g0tv/iqP+El8W/9CFcf+DS2/wDiq62igDkv+El8W/8AQhXH/g0tv/iqP+El8W/9CFcf+DS2/wDiq62igDkv+El8W/8AQhXH/g0tv/iqP+El8W/9CFcf+DS2/wDiq62igDkv+El8W/8AQhXH/g0tv/iqP+El8W/9CFcf+DS2/wDiq62igDkv+El8W/8AQhXH/g0tv/iqP+El8W/9CFcf+DS2/wDiq62igDkv+El8W/8AQhXH/g0tv/iqP+El8W/9CFcf+DS2/wDiq62igDkv+El8W/8AQhXH/g0tv/iqP+El8W/9CFcf+DS2/wDiq62igDkv+El8W/8AQhXH/g0tv/iqP+El8W/9CFcf+DS2/wDiq62igDlNJ8YahdeK4dB1rw7NpM9xZy3cLtdRTBljdFYfIeP9YPyrq643UP8Aktmh/wDYCvv/AEdbV2VABRRRQAUUUUAFFFFABXnPxNxceMfh9YXG1rSbWjLIjfdZ44mKAjvyfzr0auc8beE/+Et0aGG3vDp+o2Nyl5YXojDmCdPukqeoOSCPegDm/HSC3+MHw6vLdcXEk95bOR1eIwZIPsCM+1eiyMiRO8rBEVSWYtgKO5z2ridI8Ga5deNLTxN421WzvrrTLd4NOt9PtmihiMgxJK29mJdhheCAAPet200rVG1bXW1jUlvNLvvLSzshCF+yoEKyAtjLbic89KAPDbC58T2vwd1LR/DuiC98EHz1h1pkjW4+xM7ea62xfLlfm2sSpYAHHPHu3hMaePBujLok5uNOWxhW1mOcvEEAUnPOcAZzzXn9t8OPG+leGLjwdo3inTo/DkiSQRTz2Tte28Lk7kDBgpOGI3EZ9MV6PoGjW/h3w5p+jWW429hbpbozdWCqBk+5xk/WgDzz4h6r4omtbG3vPDFvbWA16wC3i6oHZgLuPafL8sY3cd+M98V6J9q1P/oGx/8AgSP/AImuc+J//It6d/2HdN/9K467KgCh9q1P/oGx/wDgSP8A4mj7Vqf/AEDY/wDwJH/xNX6KAKH2rU/+gbH/AOBI/wDiaPtWp/8AQNj/APAkf/E1fooAofatT/6Bsf8A4Ej/AOJo+1an/wBA2P8A8CR/8TV+igCh9q1P/oGx/wDgSP8A4mo5dRvoADLYRrnpm5H/AMTWnWZrX3IfqaqKu7GVabpwckRf2zc/8+cX/gT/APY0f2zc/wDPnF/4E/8A2NZ1FbeyR5/12fZGj/bNz/z5xf8AgT/9jR/bNz/z5xf+BP8A9jWdRR7JB9dn2Ro/2zc/8+cX/gT/APY0f2zc/wDPnF/4E/8A2NZ1FHskH12fZGj/AGzc/wDPnF/4E/8A2NH9s3P/AD5xf+BP/wBjWdRR7JB9dn2RNp+qzxi522sbbrh2OZ8YJPT7tW/7Zuf+fOL/AMCf/saxrPpP/wBdmqxSVNFSxk07WRo/2zc/8+cX/gT/APY0f2zc/wDPnF/4E/8A2NZ1FP2SJ+uz7I0f7Zuf+fOL/wACf/saP7Zuf+fOL/wJ/wDsazqKPZIPrs+yNH+2bn/nzi/8Cf8A7Gj+2bn/AJ84v/An/wCxrOoo9kg+uz7I0f7ZuT/y5xf+BP8A9jVn7Vqf/QNj/wDAkf8AxNYy/fX611FZzionXh60qt79Ch9q1P8A6Bsf/gSP/iaPtWp/9A2P/wACR/8AE1forM6ih9q1P/oGx/8AgSP/AImj7Vqf/QNj/wDAkf8AxNX6KAKH2rU/+gbH/wCBI/8AiaPtWp/9A2P/AMCR/wDE1fooAofatT/6Bsf/AIEj/wCJo+1an/0DY/8AwJH/AMTV+igCh9q1P/oGx/8AgSP/AImj7Vqf/QNj/wDAkf8AxNX6KAKH2rU/+gbH/wCBI/8AiaPtWp/9A2P/AMCR/wDE1fooAofatT/6Bsf/AIEj/wCJo+1an/0DY/8AwJH/AMTV+igCh9q1P/oGx/8AgSP/AImj7Vqf/QNj/wDAkf8AxNX6KAKH2rU/+gbH/wCBI/8AiaPtWp/9A2P/AMCR/wDE1fooAofatT/6Bsf/AIEj/wCJo+1an/0DY/8AwJH/AMTV+igCh9q1P/oGx/8AgSP/AImj7Vqf/QNj/wDAkf8AxNX6KAKH2rU/+gbH/wCBI/8AiaPtWp/9A2P/AMCR/wDE1fooAofatT/6Bsf/AIEj/wCJqlpFxfrpUAisEkTBwxuAM8ntityqGh/8gW3+h/8AQjQAfatT/wCgbH/4Ej/4mj7Vqf8A0DY//Akf/E1fooAofatT/wCgbH/4Ej/4mj7Vqf8A0DY//Akf/E1fooAofatT/wCgbH/4Ej/4mj7Vqf8A0DY//Akf/E1fooAofatT/wCgbH/4Ej/4mj7Vqf8A0DY//Akf/E1fooAofatT/wCgbH/4Ej/4mj7Vqf8A0DY//Akf/E1fooAofatT/wCgbH/4Ej/4mj7Vqf8A0DY//Akf/E1fooAofatT/wCgbH/4Ej/4mj7Vqf8A0DY//Akf/E1fooAofatT/wCgbH/4Ej/4mj7Vqf8A0DY//Akf/E1fooA4aaW5k+Nmi/arZYMaHe7cSb8/vrf2FdzXG6h/yWzQ/wDsBX3/AKOtq7KgAooooAKKKKACiiigAooooAKKKKACiiigDjfif/yLenf9h3Tf/SuOuyrjfif/AMi3p3/Yd03/ANK467KgAooooAKKKKACiiigArM1r7kP1NadZmtfch+pq4fEc+J/gsyaKKK6jxAooooAKKKKACiiigCvZ9J/+uzVYqvZ9J/+uzVYpLYup8TCiiimQFFFFABRRRQAq/fX611Fcuv31+tdRWFXoelgdpfIKKKKxPRCiiigAooooAKKKKACiiigAooooAKKKKACiiigAooooAKKKKACiiigAooooAKoaH/yBbf6H/0I1fqhof8AyBbf6H/0I0AX6KKKACiiigAooooAKKKKACiiigAooooAKKKKACiiigDjdQ/5LZof/YCvv/R1tXZVxuof8ls0P/sBX3/o62rsqACiiigAooooAKKKKACiiuF+J2s6jbx6D4f0S7ksb3xDqSWjXcRAkgtwC0zISDh9owOO/Y4oA7qivM1S+8AfEvw7pcGs6nqejeIVuIJIdSuWuHgnjXzFkV2+bBGVK5x3+npTrvjZQzLuBG5eo9xQA6ivFviV4XuPCfhNZ9I8Z+MJdXvruGw06KXWHZXnkbABAGcYDH8K9d0iyk03RbKxnupryW2t0ie5nYs8zKoBdiepJGT9aAOZ+J//ACLenf8AYd03/wBK467KvPviTr2kXOjafa2+q2MtwNd07MKXKM4xdx54Bzxg5ruvt1p/z8w/9/BQBPRUH260/wCfmH/v4KPt1p/z8w/9/BQBPRUH260/5+Yf+/go+3Wn/PzD/wB/BQBPRUH260/5+Yf+/go+3Wn/AD8w/wDfwUAT1ma19yH6mrn260/5+Yf+/grN1i7t3WLZcRNyejg1cPiOfE/wmZ9FR/aIf+eqf99Cj7RD/wA9U/76FdNzxeV9iSio/tEP/PVP++hR9oh/56p/30KLhyvsSUVH9oh/56p/30KPtEP/AD1T/voUXDlfYkoqP7RD/wA9U/76FH2iH/nqn/fQouHK+xHZ9J/+uzVYqnaTRATZkQZmYj5hVj7RD/z1T/voUk9C5xfM9CSio/tEP/PVP++hR9oh/wCeqf8AfQp3I5X2JKKj+0Q/89U/76FH2iH/AJ6p/wB9Ci4cr7ElFR/aIf8Anqn/AH0KPtEP/PVP++hRcOV9iVfvr9a6iuTW4h3j96nX+8K6X7daf8/MP/fwVjV6HpYJNKVyeioPt1p/z8w/9/BR9utP+fmH/v4KxPQJ6Kg+3Wn/AD8w/wDfwUfbrT/n5h/7+CgCeioPt1p/z8w/9/BR9utP+fmH/v4KAJ6Kg+3Wn/PzD/38FH260/5+Yf8Av4KAJ6Kg+3Wn/PzD/wB/BR9utP8An5h/7+CgCeioPt1p/wA/MP8A38FH260/5+Yf+/goAnoqD7daf8/MP/fwUfbrT/n5h/7+CgCeioPt1p/z8w/9/BR9utP+fmH/AL+CgCeioPt1p/z8w/8AfwUfbrT/AJ+Yf+/goAnoqD7daf8APzD/AN/BR9utP+fmH/v4KAJ6Kg+3Wn/PzD/38FH260/5+Yf+/goAnoqD7daf8/MP/fwUfbrT/n5h/wC/goAnqhof/IFt/of/AEI1Y+3Wn/PzD/38FUdFvLZNHtw1xEpAPBcepoA1aKg+3Wn/AD8w/wDfwUfbrT/n5h/7+CgCeioPt1p/z8w/9/BR9utP+fmH/v4KAJ6Kg+3Wn/PzD/38FH260/5+Yf8Av4KAJ6Kg+3Wn/PzD/wB/BR9utP8An5h/7+CgCeioPt1p/wA/MP8A38FH260/5+Yf+/goAnoqD7daf8/MP/fwUfbrT/n5h/7+CgCeioPt1p/z8w/9/BR9utP+fmH/AL+CgCeioPt1p/z8w/8AfwUfbrT/AJ+Yf+/goA5TUP8Aktmh/wDYCvv/AEdbV2VcVdzRTfGzRPJkSTGhX2drA4/fW1drQAUUUUAFFFFABRRRQAV578V7S7t38M+J7O1mu00DVFuLuKBN8n2dlKyMq9SRwcV6FRQB5S+sWfxK+K3hmbw0ZLrSfDqz3l5etBJGnmyJsjiBYLlurHGemD0Nd/pviO21TxDrGjwW90k2kNCs00sYWKUyJuHlnPzYAweBg+ta9FAHnF7BJ4r+PFnFJGzaX4TsvtLFl+R72fhR77Yxuz2Nej0UUAed/Ejw5olrpFheWujafDdPrunbp47VFdt13HuywGec8+td5/Z9l/z5wf8Afpf8K5X4n/8AIt6d/wBh3Tf/AErjrsqAK/8AZ9l/z5wf9+l/wo/s+y/584P+/S/4VYooAr/2fZf8+cH/AH6X/Cj+z7L/AJ84P+/S/wCFWKKAK/8AZ9l/z5wf9+l/wo/s+y/584P+/S/4VYooAr/2fZf8+cH/AH6X/Cs3V7K1RItltCuSc4jArarM1r7kP1NXD4jnxOlJmJ9mg/54x/8AfAo+zQf88Y/++BUtFdNkeLzS7kX2aD/njH/3wKPs0H/PGP8A74FS0UWQc0u5F9mg/wCeMf8A3wKPs0H/ADxj/wC+BUtFFkHNLuRfZoP+eMf/AHwKPs0H/PGP/vgVLRRZBzS7lO0ghbzt0SHErAZUcVP9mg/54x/98CmWfSf/AK7NVikkrFzk+Z6kX2aD/njH/wB8Cj7NB/zxj/74FS0U7Ijml3Ivs0H/ADxj/wC+BR9mg/54x/8AfAqWiiyDml3Ivs0H/PGP/vgUfZoP+eMf/fAqWiiyDml3GLbQbh+5j6/3BXSf2fZf8+cH/fpf8K59fvr9a6isavQ9LBNtSuV/7Psv+fOD/v0v+FH9n2X/AD5wf9+l/wAKsUViegV/7Psv+fOD/v0v+FH9n2X/AD5wf9+l/wAKsUUAV/7Psv8Anzg/79L/AIUf2fZf8+cH/fpf8KsUUAV/7Psv+fOD/v0v+FH9n2X/AD5wf9+l/wAKsUUAV/7Psv8Anzg/79L/AIUf2fZf8+cH/fpf8KsUUAV/7Psv+fOD/v0v+FH9n2X/AD5wf9+l/wAKsUUAV/7Psv8Anzg/79L/AIUf2fZf8+cH/fpf8KsUUAV/7Psv+fOD/v0v+FH9n2X/AD5wf9+l/wAKsUUAV/7Psv8Anzg/79L/AIUf2fZf8+cH/fpf8KsUUAV/7Psv+fOD/v0v+FH9n2X/AD5wf9+l/wAKsUUAV/7Psv8Anzg/79L/AIUf2fZf8+cH/fpf8KsUUAV/7Psv+fOD/v0v+FH9n2X/AD5wf9+l/wAKsUUAV/7Psv8Anzg/79L/AIVR0aytZNIgaS2hZiDktGCTya1qoaH/AMgW3+h/9CNAE/8AZ9l/z5wf9+l/wo/s+y/584P+/S/4VYooAr/2fZf8+cH/AH6X/Cj+z7L/AJ84P+/S/wCFWKKAK/8AZ9l/z5wf9+l/wo/s+y/584P+/S/4VYooAr/2fZf8+cH/AH6X/Cj+z7L/AJ84P+/S/wCFWKKAK/8AZ9l/z5wf9+l/wo/s+y/584P+/S/4VYooAr/2fZf8+cH/AH6X/Cj+z7L/AJ84P+/S/wCFWKKAK/8AZ9l/z5wf9+l/wo/s+y/584P+/S/4VYooAr/2fZf8+cH/AH6X/Cj+z7L/AJ84P+/S/wCFWKKAOJuoIYPjZoggiSMHQ77OxQM/vrb0rtq43UP+S2aH/wBgK+/9HW1dlQAUUUUAFFFFABRRRQAUUUUAFFFFABRRRQBxvxP/AORb07/sO6b/AOlcddlXG/E//kW9O/7Dum/+lcddlQAUUUUAFFFFABRRRQAVma19yH6mtOszWvuQ/U1cPiOfE/wWZNFFFdR4gUUUUAFFFFABRRRQBXs+k/8A12arFV7PpP8A9dmqxSWxdT4mFFFFMgKKKKACiiigBV++v1rqK5dfvr9a6isKvQ9LA7S+QUUUVieiFFFFABRRRQAUUUUAFFFFABRRRQAUUUUAFFFFABRRRQAUUUUAFFFFABRRRQAVQ0P/AJAtv9D/AOhGr9UND/5Atv8AQ/8AoRoAv0UUUAFFFFABRRRQAUUUUAFFFFABRRRQAUUUUAFFFFAHG6h/yWzQ/wDsBX3/AKOtq7KuN1D/AJLZof8A2Ar7/wBHW1dlQAUUUUAFFFFABRRRQAVg+MfFtn4N0Nb+8hmupZ50tbO0t13SXU7/AHI1HqcH8AfpW9Xm3xO+Txv8Oppv+PYa2UYnp5jRkR/jnNAGvoPjy6vPFC+HPFHh+fw9qk8BuLRJLlJ47pFPzBZE43LwSvpz0rsq858eoZPi18N1gH+kC6vWzg8RCAb+nb7v44rvNUMw0e8+yNtn8h/KPo2046e9AHEyfEnVdTv7tPBHg668RWFlM0E2ofbYraJ3U4YRb/8AWYIIyOMjr0Nd3ayvcWcM0sLQPJGrNE+N0ZIyVOO46V4N8NfDviKb4FWet2Pi6+0ie0t55LGzt0iW2QRvJxKrKS5ZgxJJ7jjivYPA+vzeKfAmja3cxLDPfWiSyoowocj5se2cke1AGX8T/wDkW9O/7Dum/wDpXHXZV5X8QtL8VxWdhPfeJrK4sDrthttY9J8txm6j25k805xx/DzjtmvRfs2qf9BGH/wF/wDsqAL9FUPs2qf9BGH/AMBf/sqPs2qf9BGH/wABf/sqAL9FUPs2qf8AQRh/8Bf/ALKj7Nqn/QRh/wDAX/7KgC/RVD7Nqn/QRh/8Bf8A7Kj7Nqn/AEEYf/AX/wCyoAv1ma19yH6mpPs2qf8AQRh/8Bf/ALKs/VYNQVYvNvon5OMW+Mf+PVcPiOfEa0mVaKr+Vd/8/Kf9+f8A69HlXf8Az8p/35/+vXTc8flXf8/8ixRVfyrv/n5T/vz/APXo8q7/AOflP+/P/wBei4cq7/n/AJFiiq/lXf8Az8p/35/+vR5V3/z8p/35/wDr0XDlXf8AP/IsUVX8q7/5+U/78/8A16PKu/8An5T/AL8//XouHKu/5/5BZ9J/+uzVYqhax3J83bcIP3rZzFnJ/Op/Ku/+flP+/P8A9eknoVOK5t/z/wAixRVfyrv/AJ+U/wC/P/16PKu/+flP+/P/ANencnlXf8/8ixRVfyrv/n5T/vz/APXo8q7/AOflP+/P/wBei4cq7/n/AJFiiq/lXf8Az8p/35/+vR5V3/z8p/35/wDr0XDlXf8AP/Isr99frXUVx6xXe4f6TH1/54//AF66H7Nqn/QRh/8AAX/7KsanQ9DBJJS1L9FUPs2qf9BGH/wF/wDsqPs2qf8AQRh/8Bf/ALKsT0C/RVD7Nqn/AEEYf/AX/wCyo+zap/0EYf8AwF/+yoAv0VQ+zap/0EYf/AX/AOyo+zap/wBBGH/wF/8AsqAL9FUPs2qf9BGH/wABf/sqPs2qf9BGH/wF/wDsqAL9FUPs2qf9BGH/AMBf/sqPs2qf9BGH/wABf/sqAL9FUPs2qf8AQRh/8Bf/ALKj7Nqn/QRh/wDAX/7KgC/RVD7Nqn/QRh/8Bf8A7Kj7Nqn/AEEYf/AX/wCyoAv0VQ+zap/0EYf/AAF/+yo+zap/0EYf/AX/AOyoAv0VQ+zap/0EYf8AwF/+yo+zap/0EYf/AAF/+yoAv0VQ+zap/wBBGH/wF/8AsqPs2qf9BGH/AMBf/sqAL9FUPs2qf9BGH/wF/wDsqPs2qf8AQRh/8Bf/ALKgC/RVD7Nqn/QRh/8AAX/7Kj7Nqn/QRh/8Bf8A7KgC/VDQ/wDkC2/0P/oRo+zap/0EYf8AwF/+yqlpFvqDaTAYr6JEwcKbfOOT33UAblFUPs2qf9BGH/wF/wDsqPs2qf8AQRh/8Bf/ALKgC/RVD7Nqn/QRh/8AAX/7Kj7Nqn/QRh/8Bf8A7KgC/RVD7Nqn/QRh/wDAX/7Kj7Nqn/QRh/8AAX/7KgC/RVD7Nqn/AEEYf/AX/wCyo+zap/0EYf8AwF/+yoAv0VQ+zap/0EYf/AX/AOyo+zap/wBBGH/wF/8AsqAL9FUPs2qf9BGH/wABf/sqPs2qf9BGH/wF/wDsqAL9FUPs2qf9BGH/AMBf/sqPs2qf9BGH/wABf/sqAL9FUPs2qf8AQRh/8Bf/ALKj7Nqn/QRh/wDAX/7KgDnNQ/5LZof/AGAr7/0dbV2VcNNHcx/GzRftdwk5Oh3u3bFsx++t/c5ruaACiiigAooooAKKKKACsjxN4Z03xboj6XrETPCzLIjxttkhkXlXRuzA9/6GteigDlPDngCz0HWW1m81PUtc1YwfZkvNTmDtFFuLbECqAMnqcZOK1tN8PW+ma/q+rxXN3LNqzRGWKaXdHF5a7QI1x8oIOT1ya1aKAOBu/hFpFwb23t9Z1yw0nUJWmu9ItLwJbSsxy4xtLKrc7lVgDntXb2NjbaZp9vY2EKwWttGsUMSDARFGAB9AKnooA434n/8AIt6d/wBh3Tf/AErjrsq434n/APIt6d/2HdN/9K467KgAooooAKKKKACiiigArM1r7kP1NadZmtfch+pq4fEc+J/gsyaKKK6jxAooooAKKKKACiiigCvZ9J/+uzVYqvZ9J/8Ars1WKS2LqfEwooopkBRRRQAUUUUAKv31+tdRXLr99frXUVhV6HpYHaXyCiiisT0QooooAKKKKACiiigAooooAKKKKACiiigAooooAKKKKACiiigAooooAKKKKACqGh/8gW3+h/8AQjV+qGh/8gW3+h/9CNAF+iiigAooooAKKKKACiiigAooooAKKKKACiiigAooooA43UP+S2aH/wBgK+/9HW1dlXG6h/yWzQ/+wFff+jrauyoAKKKKACiiigAooooAKKKCQoJJwBySe1ABRUFre2t9GZLK5huUBwWhkDgH6ip6ACiqR1rS1JB1KzBHBBnXj9au0Acb8T/+Rb07/sO6b/6Vx12Vcb8T/wDkW9O/7Dum/wDpXHXZUAFFFFABRRRQAUUUUAFZmtfch+prTrM1r7kP1NXD4jnxP8FmTRRRXUeIFFFFABRRRQAUUUUAV7PpP/12arFV7PpP/wBdmqxSWxdT4mFFFFMgKKKKACiiigBV++v1rqK5dfvr9a6isKvQ9LA7S+QUUUVieiFFFFABRRRQAUUUUAFFFFABRRRQAUUUUAFFFFABRRRQAUUUUAFFFFABRRRQAVQ0P/kC2/0P/oRq/VDQ/wDkC2/0P/oRoAv0UUUAFFFFABRRRQAUUUUAFFFFABRRRQAUUUUAFFFFAHG6h/yWzQ/+wFff+jrauyrjdQ/5LZof/YCvv/R1tXZUAFFFFABRRRQAUUUUAFec/FljqV54T8KyyuljruqiO+SNipmgjQu0e4dAxwDXo1cV8SvD2qapa6PrHhuFbnVtBv0vYbV5AguUwVkjyeASp4J9KAOe1PR9O8A/F3wfJ4Xs4dMs9b+0WF9aWq+XFLtTfG5UcbgSecZI716tXm1raa/42+I2g67qugXGgaT4fjnkiivJo2luriVAn3EJAVBkgk5JPT06+z1LWrjWNct7jRhb2ln5Y065aYH7aShL8dUCtheevWgDw/w5p/h/wp4RtW+IfwuumVJ5ftmtTWMUqoHmcqzjdvChWQZI7YxwM/Q1vcRXVtFcW0iywzIHjkQ5V1IyCD3BFeXeJPEfjTxX4WvfDth8PL6yvdSt3tZri/uofs1uHBVn3KxL4BOMD0OD0Povh/ShoXhnTNIErTDT7OK1ErDl9iBdx+uM0AeffELxpo1/YWOnW39oG4TXbDd5mlXUafLdx5/eNGEPTjnntmvQ/wC2LT/pv/4DSf8AxNc38T/+Rb07/sO6b/6Vx12VAFH+2LT/AKb/APgNJ/8AE0f2xaf9N/8AwGk/+Jq9RQBR/ti0/wCm/wD4DSf/ABNH9sWn/Tf/AMBpP/iavUUAUf7YtP8Apv8A+A0n/wATR/bFp/03/wDAaT/4mr1FAFH+2LT/AKb/APgNJ/8AE1n6tqdtKsWzzuCesDj+YrerM1r7kP1NXD4jnxNvZO5g/bYf+mn/AH6b/Cj7bD/00/79N/hViiunU8a8O34/8Ar/AG2H/pp/36b/AAo+2w/9NP8Av03+FWKKNQvDt+P/AACv9th/6af9+m/wo+2w/wDTT/v03+FWKKNQvDt+P/AK/wBth/6af9+m/wAKPtsP/TT/AL9N/hViijULw7fj/wAAoWt3EvnZ38ysRiNj/Sp/tsP/AE0/79N/hRZ9J/8Ars1WKSvYubjzbf19xX+2w/8ATT/v03+FH22H/pp/36b/AAqxRT1IvDt+P/AK/wBth/6af9+m/wAKPtsP/TT/AL9N/hViijULw7fj/wAAr/bYf+mn/fpv8KPtsP8A00/79N/hViijULw7fj/wCBb6EMP9Z1/55N/hXRf2xaf9N/8AwGk/+JrFX76/WuorGpfQ9HBWtKxR/ti0/wCm/wD4DSf/ABNH9sWn/Tf/AMBpP/iavUViegUf7YtP+m//AIDSf/E0f2xaf9N//AaT/wCJq9RQBR/ti0/6b/8AgNJ/8TR/bFp/03/8BpP/AImr1FAFH+2LT/pv/wCA0n/xNH9sWn/Tf/wGk/8AiavUUAUf7YtP+m//AIDSf/E0f2xaf9N//AaT/wCJq9RQBR/ti0/6b/8AgNJ/8TR/bFp/03/8BpP/AImr1FAFH+2LT/pv/wCA0n/xNH9sWn/Tf/wGk/8AiavUUAUf7YtP+m//AIDSf/E0f2xaf9N//AaT/wCJq9RQBR/ti0/6b/8AgNJ/8TR/bFp/03/8BpP/AImr1FAFH+2LT/pv/wCA0n/xNH9sWn/Tf/wGk/8AiavUUAUf7YtP+m//AIDSf/E0f2xaf9N//AaT/wCJq9RQBR/ti0/6b/8AgNJ/8TR/bFp/03/8BpP/AImr1FAFH+2LT/pv/wCA0n/xNUtI1S2i0mBH87coOcW8hHU9wtbdUND/AOQLb/Q/+hGgBf7YtP8Apv8A+A0n/wATR/bFp/03/wDAaT/4mr1FAFH+2LT/AKb/APgNJ/8AE0f2xaf9N/8AwGk/+Jq9RQBR/ti0/wCm/wD4DSf/ABNH9sWn/Tf/AMBpP/iavUUAUf7YtP8Apv8A+A0n/wATR/bFp/03/wDAaT/4mr1FAFH+2LT/AKb/APgNJ/8AE0f2xaf9N/8AwGk/+Jq9RQBR/ti0/wCm/wD4DSf/ABNH9sWn/Tf/AMBpP/iavUUAUf7YtP8Apv8A+A0n/wATR/bFp/03/wDAaT/4mr1FAFH+2LT/AKb/APgNJ/8AE0f2xaf9N/8AwGk/+Jq9RQBw093Fd/GvRTD5mF0O9zvjZP8Altbf3gK7muN1D/ktmh/9gK+/9HW1dlQAUUUUAFFFFABRRRQAUUUUAFFFFABRRRQBxvxP/wCRb07/ALDum/8ApXHXZVxvxP8A+Rb07/sO6b/6Vx12VABRRRQAUUUUAFFFFABWZrX3Ifqa06zNa+5D9TVw+I58T/BZk0UUV1HiBRRRQAUUUUAFFFFAFez6T/8AXZqsVXs+k/8A12arFJbF1PiYUUUUyAooooAKKKKAFX76/Wuorl1++v1rqKwq9D0sDtL5BRRRWJ6IUUUUAFFFFABRRRQAUUUUAFFFFABRRRQAUUUUAFFFFABRRRQAUUUUAFFFFABVDQ/+QLb/AEP/AKEav1Q0P/kC2/0P/oRoAv0UUUAFFFFABRRRQAUUUUAFFFFABRRRQAUUUUAFFFFAHG6h/wAls0P/ALAV9/6Otq7KuN1D/ktmh/8AYCvv/R1tXZUAFFFFABRRRQAUUUUAFFFcn8QfFt14V0mxj0e2hu9Y1a9j0/T4ZyRH5r/xvt52KAScfmOtAHWUVwWneJvE2i+OtN8N+Nf7MuU1iCR7C+06GSICWMbnidWZv4TkEEdOld7QAUV5h8T/AIm6p4Wv4bPwvaW109rLAdVmukZkgWVwkcY2kfvGyW68KvuK9PoA434n/wDIt6d/2HdN/wDSuOuyrjfif/yLenf9h3Tf/SuOuyoAKKKKACiiigAooooAKzNa+5D9TWnWZrX3IfqauHxHPif4LMmiiiuo8QKKKKACiiigAooooAr2fSf/AK7NViq9n0n/AOuzVYpLYup8TCiiimQFFFFABRRRQAq/fX611Fcuv31+tdRWFXoelgdpfIKKKKxPRCiiigAooooAKKKKACiiigAooooAKKKKACiiigAooooAKKKKACiiigAooooAKoaH/wAgW3+h/wDQjV+qGh/8gW3+h/8AQjQBfooooAKKKKACiiigAooooAKKKKACiiigAooooAKKKKAON1D/AJLZof8A2Ar7/wBHW1dlXG6h/wAls0P/ALAV9/6Otq7KgAooooAKKKKACiiigArzj4pMLDxJ4E1q5+WxstZ8u5lZtqRCWMorsegAOOSe9ej1W1HTrPVtPmsdTtYrq1nUpJDKoZWB7EGgDz/xrLHqHxp8A6ZaHzLqza7v7kIQTDD5WxWb0DNwPoa7a81dXtdWh0GS11DV7CEn7Cs67llKFo0kGfk3YGM445qt4d8GeHfCXnf8I7pFvYtP/rZI1Jd/QFjkkDsM4FXrPRtOsNSvtQs7SOK71Bka7mUfNMUG1c/QcUAfPXjBfFOi/Cv7FrXgu6gubrVILu/1WXUraQ3NyZQfuoxIB4VeygCvobR7u9vtJgudU01tLu5ATJaPMkpiOSANyEqeMHj1pNX0bTtesPsWsWkd3bb1k8uQcblOVP1BFXqAPLPiD4QWys7HUP7e124L67YH7PcX7PCu67j6JjHGePTivRP7JH/P9ff9/wA1znxP/wCRb07/ALDum/8ApXHXZUAUP7JH/P8AX3/f80f2SP8An+vv+/5q/RQBQ/skf8/19/3/ADR/ZI/5/r7/AL/mr9FAFD+yR/z/AF9/3/NH9kj/AJ/r7/v+av0UAUP7JH/P9ff9/wA1n6rpwjWL/S7tsk/elJrfrM1r7kP1NXD4jnxDapNowfsf/TxP/wB/KPsf/TxP/wB/KsUV02R4/tJdyv8AY/8Ap4n/AO/lH2P/AKeJ/wDv5ViiiyD2ku5X+x/9PE//AH8o+x/9PE//AH8qxRRZB7SXcr/Y/wDp4n/7+UfY/wDp4n/7+VYoosg9pLuULW13eb++mGJWHD9an+x/9PE//fyiz6T/APXZqsUklYuc5cxX+x/9PE//AH8o+x/9PE//AH8qxRTsiPaS7lf7H/08T/8Afyj7H/08T/8AfyrFFFkHtJdyv9j/AOnif/v5R9j/AOnif/v5ViiiyD2ku5Atn8w/0i46/wDPSuh/skf8/wBff9/zWMv31+tdRWNRWsehgpNqVyh/ZI/5/r7/AL/mj+yR/wA/19/3/NX6KxPQKH9kj/n+vv8Av+aP7JH/AD/X3/f81fooAof2SP8An+vv+/5o/skf8/19/wB/zV+igCh/ZI/5/r7/AL/mj+yR/wA/19/3/NX6KAKH9kj/AJ/r7/v+aP7JH/P9ff8Af81fooAof2SP+f6+/wC/5o/skf8AP9ff9/zV+igCh/ZI/wCf6+/7/mj+yR/z/X3/AH/NX6KAKH9kj/n+vv8Av+aP7JH/AD/X3/f81fooAof2SP8An+vv+/5o/skf8/19/wB/zV+igCh/ZI/5/r7/AL/mj+yR/wA/19/3/NX6KAKH9kj/AJ/r7/v+aP7JH/P9ff8Af81fooAof2SP+f6+/wC/5o/skf8AP9ff9/zV+igCh/ZI/wCf6+/7/mqWkaaJdJgf7ZdpkH5UmIA5NblUND/5Atv9D/6EaAD+yR/z/X3/AH/NH9kj/n+vv+/5q/RQBQ/skf8AP9ff9/zR/ZI/5/r7/v8Amr9FAFD+yR/z/X3/AH/NH9kj/n+vv+/5q/RQBQ/skf8AP9ff9/zR/ZI/5/r7/v8Amr9FAFD+yR/z/X3/AH/NH9kj/n+vv+/5q/RQBQ/skf8AP9ff9/zR/ZI/5/r7/v8Amr9FAFD+yR/z/X3/AH/NH9kj/n+vv+/5q/RQBQ/skf8AP9ff9/zR/ZI/5/r7/v8Amr9FAHDTWv2X416KBNNLu0O95lfdj99bdK7muN1D/ktmh/8AYCvv/R1tXZUAFFFFABRRRQAUUUUAFFFFABRRRQAUUUUAcb8T/wDkW9O/7Dum/wDpXHXZVxvxP/5FvTv+w7pv/pXHXZUAFFFFABRRRQAUUUUAFZmtfch+prTrM1r7kP1NXD4jnxP8FmTRRRXUeIFFFFABRRRQAUUUUAV7PpP/ANdmqxVez6T/APXZqsUlsXU+JhRRRTICiiigAooooAVfvr9a6iuXX76/WuorCr0PSwO0vkFFFFYnohRRRQAUUUUAFFFFABRRRQAUUUUAFFFFABRRRQAUUUUAFFFFABRRRQAUUUUAFUND/wCQLb/Q/wDoRq/VDQ/+QLb/AEP/AKEaAL9FFFABRRRQAUUUUAFFFFABRRRQAUUUUAFFFFABRRRQBxuof8ls0P8A7AV9/wCjrauyrjdQ/wCS2aH/ANgK+/8AR1tXZUAFFFFABRRRQAUUUUAFU9W1aw0PS59S1e7jtLO3XdLNKcKo/wA9quV5z8UAL3xV4B0m4+azutaMs8TAlJDFGWUMO4zzg8ce1AHT+HvG/h3xVNNDoWpLcTwAGSF4nikUHodjqGwexxg1v15v43RLL4zfD7UbcbLm5ku7KZlwDLD5W4KfUK3P4mvSKAOFh+NPw/nuI4k8RRgStsSV7aZYic4x5hQIPzrugQwBByDyCO9eUfGO+8SXPhvVNEi8LL/wjs0arc62J1mMEQAd5BbDDHaQec8bc+lekaElpF4d06PTZTNZpaxLbyk8vGEG1vxGDQBznxP/AORb07/sO6b/AOlcddlXlfxC1zxBcWdja3fhKe0tF12w23rX8Dq+LuPb8obd82B1HGea9F+23/8A0CpP+/6f40AX6Kofbb//AKBUn/f9P8aPtt//ANAqT/v+n+NAF+iqH22//wCgVJ/3/T/Gj7bf/wDQKk/7/p/jQBfoqh9tv/8AoFSf9/0/xo+23/8A0CpP+/6f40AX6zNa+5D9TUn22/8A+gVJ/wB/0/xrP1W6vHWLzNOePk4zKhz+Rq4fEc+IV6TRVoqv59x/z6N/38Wjz7j/AJ9G/wC/i10XPH5H/TRYoqv59x/z6N/38Wjz7j/n0b/v4tFw5H/TRYoqv59x/wA+jf8AfxaPPuP+fRv+/i0XDkf9NFiiq/n3H/Po3/fxaPPuP+fRv+/i0XDkf9NBZ9J/+uzVYqhazTjzdtszZlYn5xx7VP59x/z6N/38WhPQqcHzf8FFiiq/n3H/AD6N/wB/Fo8+4/59G/7+LRcnkf8ATRYoqv59x/z6N/38Wjz7j/n0b/v4tFw5H/TRYoqv59x/z6N/38Wjz7j/AJ9G/wC/i0XDkf8ATRZX76/Wuorj1nuNw/0Nuv8Az0Wuh+23/wD0CpP+/wCn+NZVHsehgotKRfoqh9tv/wDoFSf9/wBP8aPtt/8A9AqT/v8Ap/jWJ6Bfoqh9tv8A/oFSf9/0/wAaPtt//wBAqT/v+n+NAF+iqH22/wD+gVJ/3/T/ABo+23//AECpP+/6f40AX6Kofbb/AP6BUn/f9P8AGj7bf/8AQKk/7/p/jQBfoqh9tv8A/oFSf9/0/wAaPtt//wBAqT/v+n+NAF+iqH22/wD+gVJ/3/T/ABo+23//AECpP+/6f40AX6Kofbb/AP6BUn/f9P8AGj7bf/8AQKk/7/p/jQBfoqh9tv8A/oFSf9/0/wAaPtt//wBAqT/v+n+NAF+iqH22/wD+gVJ/3/T/ABo+23//AECpP+/6f40AX6Kofbb/AP6BUn/f9P8AGj7bf/8AQKk/7/p/jQBfoqh9tv8A/oFSf9/0/wAaPtt//wBAqT/v+n+NAF+iqH22/wD+gVJ/3/T/ABo+23//AECpP+/6f40AX6oaH/yBbf6H/wBCNH22/wD+gVJ/3/T/ABqlpF3eJpMCx6c8igHDCZBnk+poA3KKofbb/wD6BUn/AH/T/Gj7bf8A/QKk/wC/6f40AX6Kofbb/wD6BUn/AH/T/Gj7bf8A/QKk/wC/6f40AX6Kofbb/wD6BUn/AH/T/Gj7bf8A/QKk/wC/6f40AX6Kofbb/wD6BUn/AH/T/Gj7bf8A/QKk/wC/6f40AX6Kofbb/wD6BUn/AH/T/Gj7bf8A/QKk/wC/6f40AX6Kofbb/wD6BUn/AH/T/Gj7bf8A/QKk/wC/6f40AX6Kofbb/wD6BUn/AH/T/Gj7bf8A/QKk/wC/6f40AX6Kofbb/wD6BUn/AH/T/Gj7bf8A/QKk/wC/6f40Ac5qH/JbND/7AV9/6Otq7KuGmmnm+Nei/aLVrcjQ73ALq2f31t6V3NABRRRQAUUUUAFFFFABXL+PfCc/irR7X+zLqOy1bTLyO+0+5kTcqSp0VgOdjAkED9cYrqKKAOC0vwl4k1Txzp/ifxzd6Z5ujwSxadZaUJDGryjbJI7yYJJUAbQMD8OeksrbxAmta3LfX9rJp83lf2VCkfzW+EIcucDdlsHqePStmigDzfVdG+KXiDR7nRNQvvC1haXsTW9zfWaXDzCNhtbZG2FDEE8luM/jXd6NpVvoWhWGk2O77NYW8dtFvOWKooUZPc4HNXaKAON+J/8AyLenf9h3Tf8A0rjrsq434n/8i3p3/Yd03/0rjrsqACiiigAooooAKKKKACszWvuQ/U1p1ma19yH6mrh8Rz4n+CzJooorqPECiiigAooooAKKKKAK9n0n/wCuzVYqvZ9J/wDrs1WKS2LqfEwooopkBRRRQAUUUUAKv31+tdRXLr99frXUVhV6HpYHaXyCiiisT0QooooAKKKKACiiigAooooAKKKKACiiigAooooAKKKKACiiigAooooAKKKKACqGh/8AIFt/of8A0I1fqhof/IFt/of/AEI0AX6KKKACiiigAooooAKKKKACiiigAooooAKKKKACiiigDjdQ/wCS2aH/ANgK+/8AR1tXZVxuof8AJbND/wCwFff+jrauyoAKKKKACiiigAooooAKKKKACiiigAooooA434n/APIt6d/2HdN/9K467KuN+J//ACLenf8AYd03/wBK467KgAooooAKKKKACiiigArM1r7kP1NadZmtfch+pq4fEc+J/gsyaKKK6jxAooooAKKKKACiiigCvZ9J/wDrs1WKr2fSf/rs1WKS2LqfEwooopkBRRRQAUUUUAKv31+tdRXLr99frXUVhV6HpYHaXyCiiisT0QooooAKKKKACiiigAooooAKKKKACiiigAooooAKKKKACiiigAooooAKKKKACqGh/wDIFt/of/QjV+qGh/8AIFt/of8A0I0AX6KKKACiiigAooooAKKKKACiiigAooooAKKKKACiiigDjdQ/5LZof/YCvv8A0dbV2VcbqH/JbND/AOwFff8Ao62rsqACiiigAooooAKKKKACuH+Jmu6pYQaJofh66FlqPiDUUs1u9gc28WC0kiqerBRx257cGu4rzr4sQS2M/hbxUsMk1toGqCa+8pSxitnUrJLgA5C8E+2elAEUMur+BfiVoOjXGu6hrejeII54w2pskktvcRrvBV1UfKwyNuMD17V6POsjW8iwOElKkI5GQpxwcd68svNa074i/Fjwl/wit1HqVhoPn32oXkIJjiLx7IY93TeTuJU9lP0rvbXxZpN3q2uadFMwn0IRm+3RkLGHQuMHv8oPSgDzjxroniPwL4JuvFUfxE1a61PTgJZI7zyltLnLAbBEF+XO7A5POPbHq2mXUl7pNpdTReTJPAkjxn+AsoJH4ZrwqL4l+D/H3iiPVvGOv2+n6Dpc+7S9Fk3FriRTxcXAAI4/hTt3/wBr3m0uoL6ygu7SQSwXEayxOOjKwyD+INAHGfE29tX8P6dGlzCz/wBu6b8okBPF3Hniu286P/nov/fQrzT4h+CvDGn6bYajY+HtMt719d0/dcx2iCRt13Huy2M85OfXJr0H+x9N/wCfC2/79CgC150f/PRf++hR50f/AD0X/voVV/sfTf8Anwtv+/Qo/sfTf+fC2/79CgC150f/AD0X/voUedH/AM9F/wC+hVX+x9N/58Lb/v0KP7H03/nwtv8Av0KALXnR/wDPRf8AvoUedH/z0X/voVV/sfTf+fC2/wC/Qo/sfTf+fC2/79CgC150f/PRf++hWbrMiFIsOp5PerH9j6b/AM+Ft/36FZ+raZYxLF5dnAmSc7YwKuHxHPiLeydyjvX+8Pzo3r/eH51F9itf+feL/vgUfYrX/n3i/wC+BXRqeP7ndku9f7w/Ojev94fnUX2K1/594v8AvgUfYrX/AJ94v++BRqHud2S71/vD86N6/wB4fnUX2K1/594v++BR9itf+feL/vgUah7ndku9f7w/Ojev94fnUX2K1/594v8AvgUfYrX/AJ94v++BRqHud2MtHXE3zD/XN3qxvX+8Pzqna2lu3nboIziVgMqOBU/2K1/594v++BQr2LnycxLvX+8Pzo3r/eH51F9itf8An3i/74FH2K1/594v++BRqR7ndku9f7w/Ojev94fnUX2K1/594v8AvgUfYrX/AJ94v++BRqHud2S71/vD86N6/wB4fnUX2K1/594v++BR9itf+feL/vgUah7ndk6uu9fmHX1rpvOj/wCei/8AfQrk1sbUsP8AR4uv9wV0X9j6b/z4W3/foVlUvoehgrWlYtedH/z0X/voUedH/wA9F/76FVf7H03/AJ8Lb/v0KP7H03/nwtv+/QrE9AtedH/z0X/voUedH/z0X/voVV/sfTf+fC2/79Cj+x9N/wCfC2/79CgC150f/PRf++hR50f/AD0X/voVV/sfTf8Anwtv+/Qo/sfTf+fC2/79CgC150f/AD0X/voUedH/AM9F/wC+hVX+x9N/58Lb/v0KP7H03/nwtv8Av0KALXnR/wDPRf8AvoUedH/z0X/voVV/sfTf+fC2/wC/Qo/sfTf+fC2/79CgC150f/PRf++hR50f/PRf++hVX+x9N/58Lb/v0KP7H03/AJ8Lb/v0KALXnR/89F/76FHnR/8APRf++hVX+x9N/wCfC2/79Cj+x9N/58Lb/v0KALXnR/8APRf++hR50f8Az0X/AL6FVf7H03/nwtv+/Qo/sfTf+fC2/wC/QoAsPd28Zw88an3cU37daf8APzF/32KxNV02yiuEEdpCgK9BGB3qj9itf+feL/vgVqqd1c4amK5JuNjqft1p/wA/MX/fYo+3Wn/PzF/32K5b7Fa/8+8X/fAo+xWv/PvF/wB8Cn7Ij66ux1P260/5+Yv++xR9utP+fmL/AL7Fct9itf8An3i/74FH2K1/594v++BR7IPrq7HU/brT/n5i/wC+xR9utP8An5i/77Fct9itf+feL/vgUfYrX/n3i/74FHsg+ursdT9utP8An5i/77FUdFvLZNHgV541IByC49TWJ9itf+feL/vgVBZWlu9nGzwRsTnJKj1pez1H9cVr2Ow+3Wn/AD8xf99ij7daf8/MX/fYrlvsVr/z7xf98Cj7Fa/8+8X/AHwKfshfXV2Op+3Wn/PzF/32KPt1p/z8xf8AfYrlvsVr/wA+8X/fAo+xWv8Az7xf98Cj2QfXV2Op+3Wn/PzF/wB9ij7daf8APzF/32K5b7Fa/wDPvF/3wKPsVr/z7xf98Cj2QfXV2Op+3Wn/AD8xf99ilF7bMwC3ERJ6AOK5X7Fa/wDPvF/3wKmtbC0a7iVraIgsMgoOaHTHHGXaVjp/Oj/56L/30KPOj/56L/30Kq/2Ppv/AD4W3/foUf2Ppv8Az4W3/foViegWvOj/AOei/wDfQo86P/nov/fQqr/Y+m/8+Ft/36FH9j6b/wA+Ft/36FAFrzo/+ei/99Cjzo/+ei/99Cqv9j6b/wA+Ft/36FH9j6b/AM+Ft/36FAFrzo/+ei/99Cjzo/8Anov/AH0Kq/2Ppv8Az4W3/foUf2Ppv/Phbf8AfoUAczfOr/GzRNrBv+JFfdD/ANNrauzrh7i0t7T416KLWCOENod7nYoGf31t6V3FABRRRQAUUUUAFFFFABRRRQA1ESNdsaqi9cKMCnUUUAFFFFAHG/E//kW9O/7Dum/+lcddlXG/E/8A5FvTv+w7pv8A6Vx12VABRRRQAUUUUAFFFFABWZrX3Ifqa06zNa+5D9TVw+I58T/BZk0UUV1HiBRRRQAUUUUAFFFFAFez6T/9dmqxVez6T/8AXZqsUlsXU+JhRRRTICiiigAooooAVfvr9a6iuXX76/WuorCr0PSwO0vkFFFFYnohRRRQAUUUUAFFFFABRRRQAUUUUAFFFFABRRRQBj6z/wAfMf8Auf1rOrR1n/j5j/3P61nV1Q+FHh4j+LIKKKKswCiiigAooooAKr2H/HjH9D/OrFV7D/jxj+h/nU9S18D9V+pYoooqiAooooAKKKKACprP/j9h/wB8VDU1n/x+w/74pPYqn8aOjooorjPoQooooAKKKKACiiigDjdQ/wCS2aH/ANgK+/8AR1tXZVxuof8AJbND/wCwFff+jrauyoAKKKKACiiigAooooAKKKxvFXiiw8IaE+p6n5rrvWGGCBN8txKxwkaL3Yn/AOvQBs0VyWg+P4tU8Qf2Fq+jajoGqyQme3t79UIuYx1KOjMpI7rkEZrraACiuF0v4p2eqeNLHw7/AMI/rljJfLM1vc6haiCOURruZlBbcR0wcDrXdUAcb8T/APkW9O/7Dum/+lcddlXG/E//AJFvTv8AsO6b/wClcddlQAUUUUAFFFFABRRRQAVma19yH6mtOszWvuQ/U1cPiOfE/wAFmTRRRXUeIFFFFABRRRQAUUUUAV7PpP8A9dmqxVez6T/9dmqxSWxdT4mFFFFMgKKKKACiiigBV++v1rqK5dfvr9a6isKvQ9LA7S+QUUUVieiFFFFABRRRQAUUUUAFFFFABRRRQAUUUUAFFFFAGPrP/HzH/uf1rOrR1n/j5j/3P61nV1Q+FHh4j+LIKKKKswCiiigAooooAKr2H/HjH9D/ADqxVew/48Y/of51PUtfA/VfqWKKKKogKKKKACiiigAqaz/4/Yf98VDU1n/x+w/74pPYqn8aOjooorjPoQooooAKKKKACiiigDjdQ/5LZof/AGAr7/0dbV2VcbqH/JbND/7AV9/6Otq7KgAooooAKKKKACiiigArzn4ltt8cfDvzSBbHWm3Z6eZ5TbPxzmvRqxvFXhey8XaGdN1CS4g2yLNBc2smyW3lU5WRG7MP60Acj49GPi58NjblRdG6vQPUxfZ/n/DGK9HrkNB8BHTvEo8Qa9rt94g1SG3NrazXSRxrbRE5YKkYALN3Y8kACtjTNCfTtf1jU31O8uhqbRMtrNJmK1CLtxGO27qfU0Acb4p/5OC8Cf8AXlqH/ota9JrzbUvhNf6l4ni11/HetJeW3mi1ZY4T9nST7yr8vTGBzzxXoNhbyWem21tPcyXcsMKRvcSgB5mAALtjjJxk49aAPNviJF4vFjYtfXeiNp39vWGxIbWZZsfa49mWMhHpnjnnGK9D26t/z1s/+/T/APxVc38T/wDkW9O/7Dum/wDpXHXZUAUdurf89bP/AL9P/wDFUbdW/wCetn/36f8A+Kq9RQBR26t/z1s/+/T/APxVG3Vv+etn/wB+n/8AiqvUUAUdurf89bP/AL9P/wDFUbdW/wCetn/36f8A+Kq9RQBR26t/z1s/+/T/APxVZ+qrqO2LzZLU8nG2Nh/Wt6szWvuQ/U1cPiOfEu1JmDi7/vwf98H/ABoxd/34P++D/jViiumx43N5FfF3/fg/74P+NGLv+/B/3wf8asUUWDm8ivi7/vwf98H/ABoxd/34P++D/jViiiwc3kV8Xf8Afg/74P8AjRi7/vwf98H/ABqxRRYObyKFqLn97saL/WtnKnr+dT4u/wC/B/3wf8aLPpP/ANdmqxSS0LnL3ivi7/vwf98H/GjF3/fg/wC+D/jViinYjm8ivi7/AL8H/fB/xoxd/wB+D/vg/wCNWKKLBzeRXxd/34P++D/jRi7/AL8H/fB/xqxRRYObyIVF5uHzwdf7h/xrodurf89bP/v0/wD8VWKv31+tdRWNToejgndSKO3Vv+etn/36f/4qjbq3/PWz/wC/T/8AxVXqKxPQKO3Vv+etn/36f/4qjbq3/PWz/wC/T/8AxVXqKAKO3Vv+etn/AN+n/wDiqNurf89bP/v0/wD8VV6igCjt1b/nrZ/9+n/+Ko26t/z1s/8Av0//AMVV6igCjt1b/nrZ/wDfp/8A4qjbq3/PWz/79P8A/FVeooAo7dW/562f/fp//iqNurf89bP/AL9P/wDFVeooAo7dW/562f8A36f/AOKo26t/z1s/+/T/APxVXqKAKO3Vv+etn/36f/4qjbq3/PWz/wC/T/8AxVXqKAOd1Vb/AM9PNktidvG1GHf61Qxd/wB+D/vg/wCNbOs/8fMf+5/Ws6umC908XEStVZXxd/34P++D/jRi7/vwf98H/GrFFXYw5vIr4u/78H/fB/xoxd/34P8Avg/41YoosHN5FfF3/fg/74P+NGLv+/B/3wf8asUUWDm8ivi7/vwf98H/ABqCyFz9jj2NFt5xlTnr9av1XsP+PGP6H+dK2pal7j+X6hi7/vwf98H/ABoxd/34P++D/jViinYjm8ivi7/vwf8AfB/xoxd/34P++D/jViiiwc3kV8Xf9+D/AL4P+NGLv+/B/wB8H/GrFFFg5vIr4u/78H/fB/xqa1F79ri2vb7twxlG/wAadU1n/wAfsP8Avik1oXCXvI1durf89bP/AL9P/wDFUbdW/wCetn/36f8A+Kq9RXIe8Udurf8APWz/AO/T/wDxVG3Vv+etn/36f/4qr1FAFHbq3/PWz/79P/8AFUbdW/562f8A36f/AOKq9RQBR26t/wA9bP8A79P/APFUbdW/562f/fp//iqvUUAcNOLofGzRftjQsf7DvdvlKR/y2tuuSa7muN1D/ktmh/8AYCvv/R1tXZUAFFFFABRRRQAUUUUAFFFFABRRRQAUUUUAcb8T/wDkW9O/7Dum/wDpXHXZVxvxP/5FvTv+w7pv/pXHXZUAFFFFABRRRQAUUUUAFZmtfch+prTrM1r7kP1NXD4jnxP8FmTRRRXUeIFFFFABRRRQAUUUUAV7PpP/ANdmqxVez6T/APXZqsUlsXU+JhRRRTICiiigAooooAVfvr9a6iuXX76/WuorCr0PSwO0vkFFFFYnohRRRQAUUUUAFFFFABRRRQAUUUUAFFFFABRRRQBj6z/x8x/7n9azq0dZ/wCPmP8A3P61nV1Q+FHh4j+LIKKKKswCiiigAooooAKr2H/HjH9D/OrFV7D/AI8Y/of51PUtfA/VfqWKKKKogKKKKACiiigAqaz/AOP2H/fFQ1NZ/wDH7D/vik9iqfxo6OiiiuM+hCiiigAooooAKKKKAON1D/ktmh/9gK+/9HW1dlXG6h/yWzQ/+wFff+jrauyoAKKKKACiiigAooooAKKK87+LE897N4W8LQ3EttDr2rLFevFIyM9sil5I8rgjdwMg+vrQB6ICD0Oe3FFeVXGjWHw5+KvhSLwrB/Z+m699osr6yjdvKdkTzI5ApOA4ORnHQkV6bf3YsNNubxl3C3heUrnGdoJx+lAFjIzjPPXFFeG6J4EtfEnwbl8YapJNJ4uvrWbU4tWEzrLbyZLxLGQ3you1Rt6delep+BNbl8SeAND1i52me8sopJSvQvtG79c0AZnxP/5FvTv+w7pv/pXHXZV5T8RviB4Yu9MtbC21RZLq21qyeaMQyZRYrpGkJ+XHAUn8K6T/AIW14H/6D0f/AH4l/wDiaAOyorjf+FteB/8AoPR/9+Jf/iaP+FteB/8AoPR/9+Jf/iaAOyorjf8AhbXgf/oPR/8AfiX/AOJo/wCFteB/+g9H/wB+Jf8A4mgDsqK43/hbXgf/AKD0f/fiX/4mj/hbXgf/AKD0f/fiX/4mgDsqzNa+5D9TWB/wtrwP/wBB6P8A78S//E1Q1T4p+DJ1jEWto2Cc4gl/+Jq4fEYYhN0mkbFFcr/wsvwj/wBBhf8AvxL/APE0f8LL8I/9Bhf+/Ev/AMTXRzI8b2c+zOqorlf+Fl+Ef+gwv/fiX/4mj/hZfhH/AKDC/wDfiX/4mjmQezn2Z1VFcr/wsvwj/wBBhf8AvxL/APE0f8LL8I/9Bhf+/Ev/AMTRzIPZz7M6qiuV/wCFl+Ef+gwv/fiX/wCJo/4WX4R/6DC/9+Jf/iaOZB7OfZnRWfSf/rs1WK420+JXhEed/wAThP8AXN0hk/8Aiasf8LL8I/8AQYX/AL8S/wDxNJSVi50582zOqorlf+Fl+Ef+gwv/AH4l/wDiaP8AhZfhH/oML/34l/8AiafMiPZz7M6qiuV/4WX4R/6DC/8AfiX/AOJo/wCFl+Ef+gwv/fiX/wCJo5kHs59mdVRXK/8ACy/CP/QYX/vxL/8AE0f8LL8I/wDQYX/vxL/8TRzIPZz7M6tfvr9a6ivLV+JnhEMP+JwvX/nhL/8AE10H/C2vA/8A0Ho/+/Ev/wATWVRp2PRwcZRUro7KiuN/4W14H/6D0f8A34l/+Jo/4W14H/6D0f8A34l/+JrE7zsqK43/AIW14H/6D0f/AH4l/wDiaP8AhbXgf/oPR/8AfiX/AOJoA7KiuN/4W14H/wCg9H/34l/+Jo/4W14H/wCg9H/34l/+JoA7KiuN/wCFteB/+g9H/wB+Jf8A4mj/AIW14H/6D0f/AH4l/wDiaAOyorjf+FteB/8AoPR/9+Jf/iaP+FteB/8AoPR/9+Jf/iaAOyorjf8AhbXgf/oPR/8AfiX/AOJo/wCFteB/+g9H/wB+Jf8A4mgDsqK43/hbXgf/AKD0f/fiX/4mj/hbXgf/AKD0f/fiX/4mgDsqK43/AIW14H/6D0f/AH4l/wDiaP8AhbXgf/oPR/8AfiX/AOJoA2tZ/wCPmP8A3P61nVh6p8UfBs06GLWkYBcEiCX1/wB2qP8Awsvwj/0GF/78S/8AxNdMGuU8avTm6raR1VFcr/wsvwj/ANBhf+/Ev/xNH/Cy/CP/AEGF/wC/Ev8A8TVcyMPZz7M6qiuV/wCFl+Ef+gwv/fiX/wCJo/4WX4R/6DC/9+Jf/iaOZB7OfZnVUVyv/Cy/CP8A0GF/78S//E0f8LL8I/8AQYX/AL8S/wDxNHMg9nPszqqr2H/HjH9D/Oud/wCFl+Ef+gwv/fiX/wCJqvY/ErwiLKMf2wnfpDIe/wDu0uZXLVOfI9H0/U7KiuV/4WX4R/6DC/8AfiX/AOJo/wCFl+Ef+gwv/fiX/wCJp8yI9nPszqqK5X/hZfhH/oML/wB+Jf8A4mj/AIWX4R/6DC/9+Jf/AImjmQezn2Z1VFcr/wALL8I/9Bhf+/Ev/wATR/wsvwj/ANBhf+/Ev/xNHMg9nPszqqms/wDj9h/3xXH/APCy/CP/AEGF/wC/Ev8A8TUtr8TvB6XUTNrKhQwJPkS//E0nJWLhTnzLRnp1Fcb/AMLa8D/9B6P/AL8S/wDxNH/C2vA//Qej/wC/Ev8A8TXKe6dlRXG/8La8D/8AQej/AO/Ev/xNH/C2vA//AEHo/wDvxL/8TQB2VFcb/wALa8D/APQej/78S/8AxNH/AAtrwP8A9B6P/vxL/wDE0AdlRXG/8La8D/8AQej/AO/Ev/xNH/C2vA//AEHo/wDvxL/8TQAah/yWzQ/+wFff+jrauyrzfT/FGj+KfjNpc2g3n2yO30S8WV1jdQhaa3IHzAdcH8q9IoAKKKKACiiigAooooAK4b4m6Hql9FoOt+H7U3t9oGpJefZFcK1xFgrIik8BiDxn0ruaKAPM4Rqfj74laDq8ug6no2jeHo55gdUhWKS4uZF2BQm4naoyd3HP4V2EF9d6zqmv6PfaPNaWFuscUF7I+VvRJGS5VccBTx1OfatyigDxmzn8UeG/hnN8P4fCmqXmqrDLp9lfwops3jcsFmeTI2bVbkEclfQkj1Dwroa+GvCOlaIj+Z9gtI4C4/jKqAT+Jya1qKACiiigAooooAKKKKACiiigAooooAKKKKACiiigAooooAKKK57xz4rXwb4Vm1QWrXtyZEt7S0Q4NxPIwVEz25OSfQHr0oAd4U0K50FdYF1JFJ9u1a4vY/LJO1JCCAcgc8e/1rfrz+y8XeKtE8TaTpnj+x0iKDXJHhs7rS5ZCsEwG5YpfMHJYcBl6kHivQKACiiigAooooAKKKKACiiigAooooAKKKKACiiigAooooAKKKKACiiigAooooAKKKKACiiigAooooAKKKKACiiigArA8EaFc+GfBlho97JFLPaq4Z4SSpy7MMZAPQjtUnie88RWljD/AMInpVrqN1JJtf7XdeTHEuPvHAJbnAwKzfhl4svvGvga31nVYLe3uZJponjtt2wbJCnG4k9qAOtooooAKKKKACiiigAooooAKKKKACiiigAooooAKKKKACiiigAooooAKKKKACiiigAooooAKKKKACiiigAooooAKKKKACiiigAooooAKKKKACiiigAooooAKKKKACvN/jSPJ0TwxqUx22el+J7C7u2PRYg7KSfbLrXpFVtR06z1fTZ9P1O2jurS4QxywyrlXU9jQB5/8VHF74k+Hul2bZvZfEcV6gU5JghRmlOPTaw5r0mua8O/Dzwv4Vv2vdE0sQ3TJ5YmlmkmaNM52IXY7F9lwK6WgAooooAKKKKACiiigAooooAKKKKACiiigAooooAKKKKACiiigAooooAKKKKACiiigAooooAKKKKACiiigAooooAK82+An/JJ7b/r9u//AEe9dp4h8NaT4r01bDXrVrm2WQShBM8fzAEA5Qg9CeM1k+Hfhl4R8J6il94e0k2dwisisLqZwA3UbWcj9KAOrooooAKKKKACiiigAooooAKKKKACiiigAooooAKKKKACiiigAooooAKKKKACiiigAooooAKKKKACiiigAooooAKKKKACiiigAooooAKKKKACiiigAooooAKKKKACiiigAooooAKKKKACiiigAooooAKKKKACiiigAooooAKKKKACiiigAooooAKKKKACiiigAooooAKKKKACiiigAooooAKKKKACiiigAooooAKKKKACiiigAooooAKKKKACiiigAooooAKKKKACiiigAooooAKKKKACiiigD//Z)"
   ]
  },
  {
   "cell_type": "markdown",
   "metadata": {
    "id": "pTWoat8ka_nz"
   },
   "source": [
    "**(4)** проверка на мультиколинеарность не позволила выявить признаки с сильной линейной корреляцией. Наибольшее значение линейной корреляции выявлено между признаками 'exited' и 'age' (0.49), 'exited' и 'num_of_products' (0.57), 'balance' и 'geography' (0.46). Во всех указанных случаях степень линейной корреляции может быть обозначена как средне-слабая. На рисунке представлены результаты проверки на мультиколлинеарность:"
   ]
  },
  {
   "cell_type": "markdown",
   "metadata": {
    "id": "0MEv05jnOhv6"
   },
   "source": [
    "![Рис 4.JPG](data:image/jpeg;base64,/9j/4AAQSkZJRgABAQEAYABgAAD/4RDsRXhpZgAATU0AKgAAAAgABAE7AAIAAAALAAAISodpAAQAAAABAAAIVpydAAEAAAAWAAAQzuocAAcAAAgMAAAAPgAAAAAc6gAAAAgAAAAAAAAAAAAAAAAAAAAAAAAAAAAAAAAAAAAAAAAAAAAAAAAAAAAAAAAAAAAAAAAAAAAAAAAAAAAAAAAAAAAAAAAAAAAAAAAAAAAAAAAAAAAAAAAAAAAAAAAAAAAAAAAAAAAAAAAAAAAAAAAAAAAAAAAAAAAAAAAAAAAAAAAAAAAAAAAAAAAAAAAAAAAAAAAAAAAAAAAAAAAAAAAAAAAAAAAAAAAAAAAAAAAAAAAAAAAAAAAAAAAAAAAAAAAAAAAAAAAAAAAAAAAAAAAAAAAAAAAAAAAAAAAAAAAAAAAAAAAAAAAAAAAAAAAAAAAAAAAAAAAAAAAAAAAAAAAAAAAAAAAAAAAAAAAAAAAAAAAAAAAAAAAAAAAAAAAAAAAAAAAAAAAAAAAAAAAAAAAAAAAAAAAAAAAAAAAAAAAAAAAAAAAAAAAAAAAAAAAAAAAAAAAAAAAAAAAAAAAAAAAAAAAAAAAAAAAAAAAAAAAAAAAAAAAAAAAAAAAAAAAAAAAAAAAAAAAAAAAAAAAAAAAAAAAAAAAAAAAAAAAAAAAAAAAAAAAAAAAAAAAAAAAAAAAAAAAAAAAAAAAAAAAAAAAAAAAAAAAAAAAAAAAAAAAAAAAAAAAAAAAAAAAAAAAAAAAAAAAAAAAAAAAAAAAAAAAAAAAAAAAAAAAAAAAAAAAAAAAAAAAAAAAAAAAAAAAAAAAAAAAAAAAAAAAAAAAAAAAAAAAAAAAAAAAAAAAAAAAAAAAAAAAAAAAAAAAAAAAAAAAAAAAAAAAAAAAAAAAAAAAAAAAAAAAAAAAAAAAAAAAAAAAAAAAAAAAAAAAAAAAAAAAAAAAAAAAAAAAAAAAAAAAAAAAAAAAAAAAAAAAAAAAAAAAAAAAAAAAAAAAAAAAAAAAAAAAAAAAAAAAAAAAAAAAAAAAAAAAAAAAAAAAAAAAAAAAAAAAAAAAAAAAAAAAAAAAAAAAAAAAAAAAAAAAAAAAAAAAAAAAAAAAAAAAAAAAAAAAAAAAAAAAAAAAAAAAAAAAAAAAAAAAAAAAAAAAAAAAAAAAAAAAAAAAAAAAAAAAAAAAAAAAAAAAAAAAAAAAAAAAAAAAAAAAAAAAAAAAAAAAAAAAAAAAAAAAAAAAAAAAAAAAAAAAAAAAAAAAAAAAAAAAAAAAAAAAAAAAAAAAAAAAAAAAAAAAAAAAAAAAAAAAAAAAAAAAAAAAAAAAAAAAAAAAAAAAAAAAAAAAAAAAAAAAAAAAAAAAAAAAAAAAAAAAAAAAAAAAAAAAAAAAAAAAAAAAAAAAAAAAAAAAAAAAAAAAAAAAAAAAAAAAAAAAAAAAAAAAAAAAAAAAAAAAAAAAAAAAAAAAAAAAAAAAAAAAAAAAAAAAAAAAAAAAAAAAAAAAAAAAAAAAAAAAAAAAAAAAAAAAAAAAAAAAAAAAAAAAAAAAAAAAAAAAAAAAAAAAAAAAAAAAAAAAAAAAAAAAAAAAAAAAAAAAAAAAAAAAAAAAAAAAAAAAAAAAAAAAAAAAAAAAAAAAAAAAAAAAAAAAAAAAAAAAAAAAAAAAAAAAAAAAAAAAAAAAAAAAAAAAAAAAAAAAAAAAAAAAAAAAAAAAAAAAAAAAAAAAAAAAAAAAAAAAAAAAAAAAAAAAAAAAAAAAAAAAAAAAAAAAAAAAAAAAAAAAAAAAAAAAAAAAAAAAAAAAAAAAAAAAAAAAAAAAAAAAAAAAAAAAAAAAAAAAAAAAAAAAAAAAAAAAAAAAAAAAAAAAAAAAAAAAAAAAAAAAAAAAAAAAAAAAAAAAAAAAAAAAAAAAAAAAAAAAAAAAAAAAAAAAAAAAAAAAAAAAAAAAAAAAAAAAAAAAAAAAAAAAAAAAAAAAAAAAAAAAAAAAAAAAAAAAAAAAAAAAAAAAAAAAAAAAAAAAAAAAAAAAAAAAAAAAAAAAAAAAAAAAAAAAAAAAAAAAAAAAAAAAAAAAAAAAAAAAAAAAAAAAAAAAAAAAAAAAAAAAAAAAAAAAAAAAAAAAAAAAAAAAAAAAAAAAAAAAAAAAAAAAAAAAAAAAAAAAAAAAAAAAAAAAAAAAAAAAAAAAAAAAAAAAAAAAAAAAAAAAAAAAAAAAAAAAAAAAAAAAAAAAAAAAAAAAAAAAAAAAAAAAAAAAAAAAAAAAAAAAAAAAAAAAAAAAAAAAAAAAAAAAAAAAAAAAAAAAAAAAAAAAAAAAAAAAAAAAAAAAAAAAAAAAAAAAAAAAAAAAAAAAAAAAAAAAAAAAAAAAAAAAAAAAAAAAAAAAAAAAAAAAAAAAAAAAAAAAAAAAAAAAAAAAAAAAAAAAAAAAAAAAAAAAAAAAAAAAAAAAAAAAAAAAAAAAAAAAAAAAAAAAAAAAAAAAAAAAAAAAAAAAAAAAAAAAAAAAAAAAAAAAAAAAAAAAAAAAAAAAAAAAAAAAAAAAAAAAAAAAAAAAAAAAAAAAAAAAAAAAAAAAAAAAAAAAAAAAAAAAAAAAAAAAAAAAAAAAAAAAAAAAAAAAAAAAAAAAAAAAAAAAAAAAAAAAAAAAAAAAAAAAAAAAAAAAAAAAAAAAAAAAAAAAAAAAAAAAAAAAAAAAAAAAAAAAAAAAAAAAAAAAAAAAAAAAAAAAAAAAAAAAAAAAAAAAAAAAAAAAAAAAAAAAAAAAAAAAAAAAAAAAAAAAAAAAAAAAAAAAAAAAAAAAAAAAAAAAAAAAAAAAAAAAAAAAAAAAAAAAAAAAAAAAAAAAAAAAAAAAAAAAAAAAAAAAAAAAAAAAAAEVnb3IgVW1hZXYAAAAFkAMAAgAAABQAABCkkAQAAgAAABQAABC4kpEAAgAAAAM4MAAAkpIAAgAAAAM4MAAA6hwABwAACAwAAAiYAAAAABzqAAAACAAAAAAAAAAAAAAAAAAAAAAAAAAAAAAAAAAAAAAAAAAAAAAAAAAAAAAAAAAAAAAAAAAAAAAAAAAAAAAAAAAAAAAAAAAAAAAAAAAAAAAAAAAAAAAAAAAAAAAAAAAAAAAAAAAAAAAAAAAAAAAAAAAAAAAAAAAAAAAAAAAAAAAAAAAAAAAAAAAAAAAAAAAAAAAAAAAAAAAAAAAAAAAAAAAAAAAAAAAAAAAAAAAAAAAAAAAAAAAAAAAAAAAAAAAAAAAAAAAAAAAAAAAAAAAAAAAAAAAAAAAAAAAAAAAAAAAAAAAAAAAAAAAAAAAAAAAAAAAAAAAAAAAAAAAAAAAAAAAAAAAAAAAAAAAAAAAAAAAAAAAAAAAAAAAAAAAAAAAAAAAAAAAAAAAAAAAAAAAAAAAAAAAAAAAAAAAAAAAAAAAAAAAAAAAAAAAAAAAAAAAAAAAAAAAAAAAAAAAAAAAAAAAAAAAAAAAAAAAAAAAAAAAAAAAAAAAAAAAAAAAAAAAAAAAAAAAAAAAAAAAAAAAAAAAAAAAAAAAAAAAAAAAAAAAAAAAAAAAAAAAAAAAAAAAAAAAAAAAAAAAAAAAAAAAAAAAAAAAAAAAAAAAAAAAAAAAAAAAAAAAAAAAAAAAAAAAAAAAAAAAAAAAAAAAAAAAAAAAAAAAAAAAAAAAAAAAAAAAAAAAAAAAAAAAAAAAAAAAAAAAAAAAAAAAAAAAAAAAAAAAAAAAAAAAAAAAAAAAAAAAAAAAAAAAAAAAAAAAAAAAAAAAAAAAAAAAAAAAAAAAAAAAAAAAAAAAAAAAAAAAAAAAAAAAAAAAAAAAAAAAAAAAAAAAAAAAAAAAAAAAAAAAAAAAAAAAAAAAAAAAAAAAAAAAAAAAAAAAAAAAAAAAAAAAAAAAAAAAAAAAAAAAAAAAAAAAAAAAAAAAAAAAAAAAAAAAAAAAAAAAAAAAAAAAAAAAAAAAAAAAAAAAAAAAAAAAAAAAAAAAAAAAAAAAAAAAAAAAAAAAAAAAAAAAAAAAAAAAAAAAAAAAAAAAAAAAAAAAAAAAAAAAAAAAAAAAAAAAAAAAAAAAAAAAAAAAAAAAAAAAAAAAAAAAAAAAAAAAAAAAAAAAAAAAAAAAAAAAAAAAAAAAAAAAAAAAAAAAAAAAAAAAAAAAAAAAAAAAAAAAAAAAAAAAAAAAAAAAAAAAAAAAAAAAAAAAAAAAAAAAAAAAAAAAAAAAAAAAAAAAAAAAAAAAAAAAAAAAAAAAAAAAAAAAAAAAAAAAAAAAAAAAAAAAAAAAAAAAAAAAAAAAAAAAAAAAAAAAAAAAAAAAAAAAAAAAAAAAAAAAAAAAAAAAAAAAAAAAAAAAAAAAAAAAAAAAAAAAAAAAAAAAAAAAAAAAAAAAAAAAAAAAAAAAAAAAAAAAAAAAAAAAAAAAAAAAAAAAAAAAAAAAAAAAAAAAAAAAAAAAAAAAAAAAAAAAAAAAAAAAAAAAAAAAAAAAAAAAAAAAAAAAAAAAAAAAAAAAAAAAAAAAAAAAAAAAAAAAAAAAAAAAAAAAAAAAAAAAAAAAAAAAAAAAAAAAAAAAAAAAAAAAAAAAAAAAAAAAAAAAAAAAAAAAAAAAAAAAAAAAAAAAAAAAAAAAAAAAAAAAAAAAAAAAAAAAAAAAAAAAAAAAAAAAAAAAAAAAAAAAAAAAAAAAAAAAAAAAAAAAAAAAAAAAAAAAAAAAAAAAAAAAAAAAAAAAAAAAAAAAAAAAAAAAAAAAAAAAAAAAAAAAAAAAAAAAAAAAAAAAAAAAAAAAAAAAAAAAAAAAAAAAAAAAAAAAAAAAAAAAAAAAAAAAAAAAAAAAAAAAAAAAAAAAAAAAAAAAAAAAAAAAAAAAAAAAAAAAAAAAAAAAAAAAAAAAAAAAAAAAAAAAAAAAAAAAAAAAAAAAAAAAAAAAAAAAAAAAAAAAAAAAAAAAAAAAAAAAAAAAAAAAAAAAAAAAAAAAAAAAAAAAAAAAAAAAAAAAAAAAAAAAAAAAAAAAAAAAAAAAAAAAAAAAAAAAAAAAAAAAAAAAAAAAAAAAAAAAAAAAAAAAAAAAAAAAAAAAAAAAAAAAAAAAAAAAAAAAAAAAAAAAAAAAAAAAAAAAAAAAAAAAAAAAAAAAAAAAAAAAAAAAAAAAAAAAAAAAAAAAAAAAAAAAAAAAAAAAAAAAAAAAAAAAAAAAAAAAAAAAAAAAAAAAAAAAAAAAAAAAAAAAAAAAAAAAAAAAAAAAAAAAAAAAAAAAAAAAAAAAAAAAAAAAAAAAAAAAAAAAAAAAAAAAAAAAAAAAAAAAAAAAAAAAAAAAAAAAAAAAAAAAAAAAAAAAAAAAAAAAAAAAAAAAAAAAAAAAAAAAAAAAAAAAAAAAAAAAAAAAAAAAAAAAAAAAAAAAAAAAAAAAAAAAAAAAAAAAAAAAAAAAAAAAAAAAAAAAAAAAAAAAAAAAAAAAAAAAAAAAAAAAAAAAAAAAAAAAAAAAAAAAAAAAAAAAAAAAAAAAAAAAAAAAAAAAAAAAAAAAAAAAAAAAAAAAAAAAAAAAAAAAAAAAAAAAAAAAAAAAAAAAAAAAAAAAAAAAAAAAAAAAAAAAAAAAAAAAAAAAAAAAAAAAAAAAAAAAAAAAAAAAAAAAAAAAAAAAAAAAAAAAAAAAAAAAAAAAAAAAAAAAAAAAAAAAAAAAAAAAAAAAAAAAAAAAAAAAAAAAAAAAAAAAAAAAAAAAAAAAAAAAAAAAAAAAAAAAAAAAAAAAAAAAAAAAAAAAAMjAyMjoxMToxMCAyMDo0ODoyMwAyMDIyOjExOjEwIDIwOjQ4OjIzAAAARQBnAG8AcgAgAFUAbQBhAGUAdgAAAP/hCx1odHRwOi8vbnMuYWRvYmUuY29tL3hhcC8xLjAvADw/eHBhY2tldCBiZWdpbj0n77u/JyBpZD0nVzVNME1wQ2VoaUh6cmVTek5UY3prYzlkJz8+DQo8eDp4bXBtZXRhIHhtbG5zOng9ImFkb2JlOm5zOm1ldGEvIj48cmRmOlJERiB4bWxuczpyZGY9Imh0dHA6Ly93d3cudzMub3JnLzE5OTkvMDIvMjItcmRmLXN5bnRheC1ucyMiPjxyZGY6RGVzY3JpcHRpb24gcmRmOmFib3V0PSJ1dWlkOmZhZjViZGQ1LWJhM2QtMTFkYS1hZDMxLWQzM2Q3NTE4MmYxYiIgeG1sbnM6ZGM9Imh0dHA6Ly9wdXJsLm9yZy9kYy9lbGVtZW50cy8xLjEvIi8+PHJkZjpEZXNjcmlwdGlvbiByZGY6YWJvdXQ9InV1aWQ6ZmFmNWJkZDUtYmEzZC0xMWRhLWFkMzEtZDMzZDc1MTgyZjFiIiB4bWxuczp4bXA9Imh0dHA6Ly9ucy5hZG9iZS5jb20veGFwLzEuMC8iPjx4bXA6Q3JlYXRlRGF0ZT4yMDIyLTExLTEwVDIwOjQ4OjIzLjgwMzwveG1wOkNyZWF0ZURhdGU+PC9yZGY6RGVzY3JpcHRpb24+PHJkZjpEZXNjcmlwdGlvbiByZGY6YWJvdXQ9InV1aWQ6ZmFmNWJkZDUtYmEzZC0xMWRhLWFkMzEtZDMzZDc1MTgyZjFiIiB4bWxuczpkYz0iaHR0cDovL3B1cmwub3JnL2RjL2VsZW1lbnRzLzEuMS8iPjxkYzpjcmVhdG9yPjxyZGY6U2VxIHhtbG5zOnJkZj0iaHR0cDovL3d3dy53My5vcmcvMTk5OS8wMi8yMi1yZGYtc3ludGF4LW5zIyI+PHJkZjpsaT5FZ29yIFVtYWV2PC9yZGY6bGk+PC9yZGY6U2VxPg0KCQkJPC9kYzpjcmVhdG9yPjwvcmRmOkRlc2NyaXB0aW9uPjwvcmRmOlJERj48L3g6eG1wbWV0YT4NCiAgICAgICAgICAgICAgICAgICAgICAgICAgICAgICAgICAgICAgICAgICAgICAgICAgICAgICAgICAgICAgICAgICAgICAgICAgICAgICAgICAgICAgICAgICAgICAgICAgICAKICAgICAgICAgICAgICAgICAgICAgICAgICAgICAgICAgICAgICAgICAgICAgICAgICAgICAgICAgICAgICAgICAgICAgICAgICAgICAgICAgICAgICAgICAgICAgICAgICAgIAogICAgICAgICAgICAgICAgICAgICAgICAgICAgICAgICAgICAgICAgICAgICAgICAgICAgICAgICAgICAgICAgICAgICAgICAgICAgICAgICAgICAgICAgICAgICAgICAgICAgCiAgICAgICAgICAgICAgICAgICAgICAgICAgICAgICAgICAgICAgICAgICAgICAgICAgICAgICAgICAgICAgICAgICAgICAgICAgICAgICAgICAgICAgICAgICAgICAgICAgICAKICAgICAgICAgICAgICAgICAgICAgICAgICAgICAgICAgICAgICAgICAgICAgICAgICAgICAgICAgICAgICAgICAgICAgICAgICAgICAgICAgICAgICAgICAgICAgICAgICAgIAogICAgICAgICAgICAgICAgICAgICAgICAgICAgICAgICAgICAgICAgICAgICAgICAgICAgICAgICAgICAgICAgICAgICAgICAgICAgICAgICAgICAgICAgICAgICAgICAgICAgCiAgICAgICAgICAgICAgICAgICAgICAgICAgICAgICAgICAgICAgICAgICAgICAgICAgICAgICAgICAgICAgICAgICAgICAgICAgICAgICAgICAgICAgICAgICAgICAgICAgICAKICAgICAgICAgICAgICAgICAgICAgICAgICAgICAgICAgICAgICAgICAgICAgICAgICAgICAgICAgICAgICAgICAgICAgICAgICAgICAgICAgICAgICAgICAgICAgICAgICAgIAogICAgICAgICAgICAgICAgICAgICAgICAgICAgICAgICAgICAgICAgICAgICAgICAgICAgICAgICAgICAgICAgICAgICAgICAgICAgICAgICAgICAgICAgICAgICAgICAgICAgCiAgICAgICAgICAgICAgICAgICAgICAgICAgICAgICAgICAgICAgICAgICAgICAgICAgICAgICAgICAgICAgICAgICAgICAgICAgICAgICAgICAgICAgICAgICAgICAgICAgICAKICAgICAgICAgICAgICAgICAgICAgICAgICAgICAgICAgICAgICAgICAgICAgICAgICAgICAgICAgICAgICAgICAgICAgICAgICAgICAgICAgICAgICAgICAgICAgICAgICAgIAogICAgICAgICAgICAgICAgICAgICAgICAgICAgICAgICAgICAgICAgICAgICAgICAgICAgICAgICAgICAgICAgICAgICAgICAgICAgICAgICAgICAgICAgICAgICAgICAgICAgCiAgICAgICAgICAgICAgICAgICAgICAgICAgICAgICAgICAgICAgICAgICAgICAgICAgICAgICAgICAgICAgICAgICAgICAgICAgICAgICAgICAgICAgICAgICAgICAgICAgICAKICAgICAgICAgICAgICAgICAgICAgICAgICAgICAgICAgICAgICAgICAgICAgICAgICAgICAgICAgICAgICAgICAgICAgICAgICAgICAgICAgICAgICAgICAgICAgICAgICAgIAogICAgICAgICAgICAgICAgICAgICAgICAgICAgICAgICAgICAgICAgICAgICAgICAgICAgICAgICAgICAgICAgICAgICAgICAgICAgICAgICAgICAgICAgICAgICAgICAgICAgCiAgICAgICAgICAgICAgICAgICAgICAgICAgICAgICAgICAgICAgICAgICAgICAgICAgICAgICAgICAgICAgICAgICAgICAgICAgICAgICAgICAgICAgICAgICAgICAgICAgICAKICAgICAgICAgICAgICAgICAgICAgICAgICAgICAgICAgICAgICAgICAgICAgICAgICAgICAgICAgICAgICAgICAgICAgICAgICAgICAgICAgICAgICAgICAgICAgICAgICAgIAogICAgICAgICAgICAgICAgICAgICAgICAgICAgICAgICAgICAgICAgICAgICAgICAgICAgICAgICAgICAgICAgICAgICAgICAgICAgICAgICAgICAgICAgICAgICAgICAgICAgCiAgICAgICAgICAgICAgICAgICAgICAgICAgICAgICAgICAgICAgICAgICAgICAgICAgICAgICAgICAgICAgICAgICAgICAgICAgICAgICAgICAgICAgICAgICAgICAgICAgICAKICAgICAgICAgICAgICAgICAgICAgICAgICAgICAgICAgICAgICAgICAgICAgICAgICAgICAgICAgICAgICAgICAgICAgICAgICAgICAgICAgICAgICAgICAgICAgICAgICAgIAogICAgICAgICAgICAgICAgICAgICAgICAgICAgPD94cGFja2V0IGVuZD0ndyc/Pv/bAEMABwUFBgUEBwYFBggHBwgKEQsKCQkKFQ8QDBEYFRoZGBUYFxseJyEbHSUdFxgiLiIlKCkrLCsaIC8zLyoyJyorKv/bAEMBBwgICgkKFAsLFCocGBwqKioqKioqKioqKioqKioqKioqKioqKioqKioqKioqKioqKioqKioqKioqKioqKioqKv/AABEIAvsC1gMBIgACEQEDEQH/xAAfAAABBQEBAQEBAQAAAAAAAAAAAQIDBAUGBwgJCgv/xAC1EAACAQMDAgQDBQUEBAAAAX0BAgMABBEFEiExQQYTUWEHInEUMoGRoQgjQrHBFVLR8CQzYnKCCQoWFxgZGiUmJygpKjQ1Njc4OTpDREVGR0hJSlNUVVZXWFlaY2RlZmdoaWpzdHV2d3h5eoOEhYaHiImKkpOUlZaXmJmaoqOkpaanqKmqsrO0tba3uLm6wsPExcbHyMnK0tPU1dbX2Nna4eLj5OXm5+jp6vHy8/T19vf4+fr/xAAfAQADAQEBAQEBAQEBAAAAAAAAAQIDBAUGBwgJCgv/xAC1EQACAQIEBAMEBwUEBAABAncAAQIDEQQFITEGEkFRB2FxEyIygQgUQpGhscEJIzNS8BVictEKFiQ04SXxFxgZGiYnKCkqNTY3ODk6Q0RFRkdISUpTVFVWV1hZWmNkZWZnaGlqc3R1dnd4eXqCg4SFhoeIiYqSk5SVlpeYmZqio6Slpqeoqaqys7S1tre4ubrCw8TFxsfIycrS09TV1tfY2dri4+Tl5ufo6ery8/T19vf4+fr/2gAMAwEAAhEDEQA/APpGiiigAooooAKKKKACiiigAooooAKKKKACiiigAooooAKKKKACiiigArHHi7w21+1iviHSjdq5ja3F7H5gYHBXbuznPGK2K+btOvPDs/gzxjpF34Svtd1i41fUUtza6O07BmZghE23C7TzkHI64oA+kaK818O6rrnhmTwH4a12aNTNo1xLqLzHcytCke0FyewYgn261W8I/E3U9d8ba0b+CKDw7FpR1PTtqHzpIBIyCRif72xmA44ZaAPU6K888LXPjrxbpVj4mOs6fpNnestxBpQ0/wA7/RzyoeUuDuZecgYGfwr0OgAqr/amn/2p/Zn262+3+X5v2Tzl83Z03bM5x74ql4o8RW3hbw/capdo0vl4SG3jI33ErHCRr6szED9a818O6Hd6R8b9IudadZtb1LRLq61GUHIEhliAjU/3EUBB24J6k0Aew0VHc3MNnay3N3KkMEKGSWWRtqooGSxJ6AAZrP0XxPoXiPz/APhH9YsdT+z7fO+yXCy+XuztztJxnacfQ0AWdR1bTtIijl1a/tbGORxGj3Myxh2PRQWIyeDxUt3eW2n2kl1f3ENrbxDdJNM4REHqWPArzT416LB4ibwho93/AKm91gwsQeVzBLhh7g4P4VzWu+Ibrx54F0nwzfOrXsVtd3PiGNTnBsQV2nHGHn8s/QfhQB7ja3Vve2sdzZTx3FvKoeOWJw6Op6EEcEVLXk/hjxDqPhv4f/DSZFhfRr2GCwvyy/PE8qAQuGzgLvGDx/EK6zT/ABLd6x8UNT0eweM6VotnGLx9mWe7lJKoG9FQZOO7DOMcgHWUV5Hqvi7xg+neOtY0zV7C2tPDV1NBDavp3mNKI4lfl94xy2OhrW1D4kLoXirwxba9qFlYaZqejvdXE1wQn74bNoDE8febigD0aisVtQHibQftHg3XrEF2AW9jjW7jHQldocc4I78VyHha88b63ruuWtz4l09YtF1IWjbdI5uF8tHJ/wBb8p+fHfpn2oA9JorzqX4iXenW/i+S6hW7n07VV03SbSJcNcyvEhjjPqS7nJ7AE9qy7b4i6/bfBuLxFrEtimpR6utldSBNsKoLvynIyePlB5P1oA9ZorivB/i668d6xdanostvH4Xs3a2iYjdPezDBLnn93GARtBG5s5OBgHFsdd8c+LNM1XxJ4bvtPsrC2uJ4tN06e0843qwsVLSSBwU3srAADjjk9wD0+ivPNf8AiBdyfAtfGnh5I4by4gt3ijmHmKjySpGy9s4LMO1S6Vq/ibT/AIrQeGdc1a01O1uNHkvg8Nh9nZHWVEA++2RgmgDvqK8kl+KOsj4UWN/Zx2tz4o1OW8S2hKERpHBNIHmYA/dSNB35YjrnFXn+Jc+naF8PNU1u6srO116LfqU8o2ImbYuNpJ+X58fyoA9Norg7D4jWOv8AxOsNE8N6tYalp0mmz3Fy1s4kZJFdAoyDwMMeK4Q/GHUNZsb/AF3TPGPhrSIoZJPsOh3sYeW5SMsB5j7wUL4BGBwCPqQD3eivP9R8aHUfAmg+ILbxJYeF4NTiWR2vLcXLszKD5cY3AEg7snB4HQVU8CeP7/WV8Tabf3tpqVzokMc0Go29s8C3SOjEbom6FWQg44ORQB6XRXkVj4q8fS/C2Hx9Pe6UYorMXkuki0P72FRlz527KuQCwAXA4HPJrb1L4nWOk+P9JtdT1KzsNB1HQ2vkmumCEymRQgDZxypPHtQB6FRXnmnfE6y1DxH4plsr+01DQtE0mK9EtowYlsSmQFgfRBxWPceJ/H2m+CLb4gX17psmnPDHeXGgrZlDFbuQQFn3EmQKQeVxnjFAHrdFcHqniHXte8cSeGfCF5a6dDZ2Md5e6lPbGdlMpPlxpHuUZIUklu3atU6T4xOlW0I8U2KXkTP51z/ZG4Tqcbfk80bSOc4ODnoKAOnorz74aaj4t8TaDp3iHWddsntZ2mEljDpuwnY7xjEnmHHKhvu+3vUfgH4r6Hrfhyy/4SHxDpNvrcskqS2xuEiIIlZVG0nqVC/WgD0WoZLy2huoLWa4hjuLjd5MTOA8u0ZbaOpwCM46VNXE6XGmt/GLWdVADQ6FYxaVEc5HnSfvpiPQhTCvr1FAHbUVy3j3xNfeHdN06DRLeGfVtY1CPT7MXBPlRs4YmRwDkqqqSQOelMgPiHwtp+pat4p8QW2r6fZ2MlwyQ6cLZ1ZBuJBDsCNoPB5z3oA6yivJLjxP4+0rwRbfEDUb3TZtPaGO7udCjsyhjt3Ixtn3ElwrAnK4zkYrX1nxD4n1D4qJ4U8M3lnY2U2hJqTX09qZnhJmZPlTcoYkBRg8Dk89KAPRKK83n1jxndfEKbwdpuqWMIt9Ht7qfVZrLewkLMrFYg4GWIBAJwoz14rJ1/4jXkfjG98ML4w0Xw4NHt4VudR1CBZJL24ePcfLj3gKoBBPXk4oA9U1LU7LR7B73VLmO1to2VWlkOFBZgqj8WYD8atV4hrPjSTxp8Btclu5LWa807V7aymuLNsw3G27gKypycBlYHGTg5+ldt491y50q+gii8a6b4cWWEmOCaw+1TzPk5YDeMIPlHCnnPI4oA7aWaOCJpZ5FjjXlndgAPxNVtS1aw0ewN9qd3HbWoZVM0hwuWIVRn3JA/GvHNf8Wal4z/Z68WS3FzaC60yaWzuZoIGEd2ihWDKrEFNwdTznBB4546LxRd694Y+FT32qX+n6zMJrIQpJpoSONWljU5Uu24jdkHjBAoA9NorhdW1zxBrfxAuPC3ha8t9Ki020jur+/mthcMWkJEcSIWAHAZix9AMeuLqPxE13TPAHjNrr7GfEPhaVYmmijPk3CvtaOXYTlSVY5XJAIODigD1SivM7/XvG/hvVvDt/rl5pl1p2t6hBYT6fb2pQ2TS52lZS+ZMHAJIGewHb0maWOCF5pnVI41LO7HAUAZJNAEF/qdnpccL6hcJAs8yW8Rf+ORzhVHuTwKtV4Hqut+LPiXrvhJ9Nu7PR9Pvr651DSYpLQzOVtFbZPMSRgMzKAoHGc8kDPp3gnxzB4i8D+HdX1No7W71nMUcKg4kmXfuCjrjEbNz0HegDrqKp2Or2OpT3MVhcLcNaSeVM0YJVHxkpu6FhkZAOR3q5QAUUUUAFFFFABRRRQAUUUUAFFFFABRRRQAUUUUAFFFFABRRRQAUUUUAFFFFABRRRQAUUUUAFFFFABRRRQAUUUUAFFeP698foNE8Q6hpZ0ISmyuZIPMa8Kl9jFc4EZx09az/+Gkrf/oX0/wDA5v8A4zS5kZOtTTs2e4Vy3gHwtdeE9K1K2vZoZnvNVub5DCThVlbcAcgcivOP+Gkrf/oX0/8AA5v/AIzR/wANJW//AEL6f+Bzf/GaXMg9tS/mR1/xE+Hd9448RaHPDqKWem20c9vqUYLCWeCUxlo0IHG4RlScjhjWpH4NK/ES81o/Z10yfRI9LW1QYK7ZGbpjAXa2Me1eef8ADSVv/wBC+n/gc3/xmtnwv8abnxfrH9maN4dga58tpcS6kyjaMZ58n3p8yBVqbdkzX8PaB478KWFroOm3Og32j2bLHb3V35yXCwA/cZFBVmC/KG3DoCRXWW8Otr4ou5bm5tW0VoEFtAqHzklz8xY9CD2rN/tfxd/0LGn/APg4P/xmj+1/F3/Qsaf/AODg/wDxmnc1NPxB4c0jxTpf9neILGO+tN4k8qQnG4dDwR61wkfwP8MWnxA07WdP0ixt9Ns7ds2wL7jc71ZJOvYA9+/Suo/tfxd/0LGn/wDg4P8A8Zo/tfxd/wBCxp//AIOD/wDGaLgdI6JLG0ciq6MCrKwyCD2IqK2srWz3fZLaGDfjd5UYXdjpnH1rA/tfxd/0LGn/APg4P/xmoZ/EXim3cLJ4YsMkZ41c/wDxmk2luJtLcm8WeGbnX9X8NXdtNDGmkamLyYSZy6iNlwuB1y3ekuPAejRN4ivtIso7fVtetnhuLlnYhiVIHGSFGTk7QMnk5qr/AMJT4m/6Fmx/8G5/+M0f8JT4m/6Fmx/8G5/+M0uePcXPHuYniTSdH8M/s/nw74w1G2iFrpIgWVXwXnjQFDEDgswcKQOvStD4b6FrWjfDIS3Dwt4l1YyajdS3Skr9ol5G8Lg4VdqkA/w4GBUlzret3jxPd+DtLnaFt8TS6nuMbeozBwfpU/8AwlPib/oWbH/wbn/4zRzx7hzx7lMfDu4h+F/iDw8l/Dcarrpuri6vXj8uN7ifq20ZIUDAA54Wo9V8GeIF8R+HNY0R9Kmk0nS3sZYr8yBXLbPmUqp/u9/WtOLxJ4omlEaeGLHcemdXP/xmrH9r+Lv+hY0//wAHB/8AjNNNPYaaexV8C+D73w7fa5qusXNpJqGt3Ec00NhE0dvAETYqoGJJPUluM+lXfDHhu40PWfEl5cTRyJq+o/a4lTOUXykTDZ75U9KZ/a/i7/oWNP8A/Bwf/jNH9r+Lv+hY0/8A8HB/+M07jMPRfhtc2vxS1XxRq19HcWT3DXWm2Uef3UzxrG8j8csFQKvXG5uhqCb4ZXk/w1fwxNcWcryayb+QupMbRG784oRjkleMYxn2ro/7X8Xf9Cxp/wD4OD/8Zo/tfxd/0LGn/wDg4P8A8ZouAweFbnTvH66/oU0MFrfQ+Tq1m+QJSi4ilTAwHX7pz1XHTFc9H4L8aeH7LVND8I6lpA0fULiWaGe+WT7RY+c2XVVUFZACWK7iDk4Oa0NX8c6/okkSX/hmzBlBK7NVJ6f9sazv+Fq6n/0Ldt/4M2/+M1DqQTs2Yyr0ouzki7c/DiaTQfD/AIVtr+OHwzpYhe6jMZNxevE4dVJztVCwDNwSegx1rYm8M3MnxTtfFAmhFrDpElg0RzvLtKrhumMYX1rmv+Fq6n/0Ldt/4M2/+M0f8LV1P/oW7b/wZt/8Zpe1h3F9Yo/zIj8G/Cm78P6HrSare215qd5bXFlZSIG2WtvI7ybMkZyZJCWOOy+laVn4BvYLPwBDNcWr/wDCLxlbr7xE3+jGL5OPU55xxVH/AIWrqf8A0Ldt/wCDNv8A4zU9l8StYv72K1t/DdqZZW2rnVGAz/35o9pB9RrEUm7KSOguPDEsnxH03xFFJDHbWmnT2jwgEMzSPGwI4xjCH9K5vS/CPjDwbBPpPhEeHr3RfNllsxqhmjmtt7FyhKKwdQzNg8Hmtv8A4STxR/0LFj/4Nz/8Zo/4STxR/wBCxY/+Dc//ABmq5o9zTmXcpa74W8TXOs+GvEOmXOlTavpNvJBcW9yskdtJ5qqJHjI3MhyvHByOCeKqaX4R1zS9a8XeJfEN/Z3Eur6eiCG0RlWDy0cbRu6gAjnqTk4HStj/AISTxR/0LFj/AODc/wDxmmt4i8TupV/C+nsrDBB1YkEf9+aOaPcOZdzgvCPhnxprvwX0bw/b6npUWhalYIs92yyfbIoJAC8aqPkJwWUMSPl7V36+DDD8RdO1yAwDTrHRW0xLdslwfMVlI4xgBcdc1HDrviO2gSG38KabFFGoVI49VKqoHQACDgVYj1zxZIm5fDFhjOP+Qwf/AIzT5kx8yZG3gr7R4t8R393JEdP1rS4dPMCAhlC+YHJ7YIk4x71zcngLxlqPg638Earq2lf2DGiW8t/Akgu5rdD8sfl4CKSFVS248Z4zXVf2z4t/6FjT/wDwcH/4zR/bPi3/AKFjT/8AwcH/AOM07juUdY8Ka1ZeMF8TeCptPW5mtFsryy1EusUyIcoyugJVlyRyp4Ptz0mhf22dNz4m+wC+MjfLp5cxKmflGX5Jx1OB9Kyf7Z8W/wDQsaf/AODg/wDxmj+2fFv/AELGn/8Ag4P/AMZouFyTwB4cufCXgex0W9mimntmlLPDnad8ruMZAPRgK4Bfhd4sn+HieCbifw7DpzSsZL1Y5ZrhVaYykopCqHBbg57fiO8/tjxcf+ZY0/8A8HB/+M1hyfEbWYpGRvDVpuUkH/iaHt/2xqZTjHdkSnGPxM7tVFjp4VFkmEEWAAAXfaPwGTj2rmfhro97pXhDz9ZhaHVtVuptSv0bqssrkhTj+6mxcf7NZH/CydY/6Fq1/wDBof8A4zR/wsnWP+hatf8AwaH/AOM1Ptafcj29L+ZG/wCOPC1x4o0uz/s2+Fhqmm3kd9Y3DJvRZUyMOvdSrMD9ajtLHxTrFvqGn+MotFj066tZLfbpssrvJvG0kl1XaMbuBnqOeOcT/hZOsf8AQtWv/g0P/wAZo/4WTrH/AELVr/4ND/8AGaPa0+4e3pfzIoy+APGWpeDbfwRq2q6T/YEaxwS38Ecn2ua3jIKx+XgIpwqqX3HjPGa6uPwvPH8U38TiaIWh0RNNWHneHWdpN3pjBA65zVGx8Y+I9RgeW28M2RVGCndqxHOM/wDPGrH/AAkfin/oWLH/AMG5/wDjNVzxfU0U4tXTLVn4cubf4k6n4jeaI213p0FokQzvDRu7EnjGPnFZGo+FPEOmeM9T8QeEJNKnXVo4heWOqb0XzY12LKkiBiPlABXGDjNXf+Ej8U/9CxY/+Dc//GaP+Ej8U/8AQsWP/g3P/wAZo5l3DmRU13wv4j8UfDq90bV5dJt9RuLuGVPsYkECRxzRybSWG4thDzgckcCjVvDPiW0+IUvifwrJpM32yxjs7mDUjIhjCMzBkZA2c7uVIA4zk9rf/CR+Kf8AoWLH/wAG5/8AjNA8ReKT/wAyxY/+Dc//ABmjmXcOZGHpXwy1EeCfGOia9qsN1c+JLqa5+1QxlQjSRoPuHoAy8AE8YGc1Y1fwl4s8TfD2XQNdudHjuxPatFNZiUIUilR2LBskMQnAHFbB1zxYrEHwxYZH/UYP/wAZpP7d8V/9CxYf+Dg//Gad0O6Kms+GNftPG0nijwdcaebi8tEtL6y1LescgRiUkV0BIYbiMEEEHseayLr4Z6rf+APFVlfajaS+IfE8gmuZ1Vlt4iNoWNBy21VXAJ5Oa6L+3fFf/QsWH/g4P/xmj+3fFf8A0LFh/wCDg/8Axmi6C6F8YeFrrxHZ+H4rWaGI6XrNpqEpkJ+ZIWyyrgdT2zXR3lrHfWM9pNu8ueNon2nBwwwcfnXN/wBu+K/+hYsP/Bwf/jNKNc8WFSf+EYsMD/qMH/4zRdBdHk+keDvGlz4yuvCsGraTFbaDoSaS2oxwOZEt7hiwKpnHnFIgCc4A55JzXReMvC9y2reHvC3g8vBF4f0ia7WBZdj3Clo4RGJBgozp5w8wc8npmuxj1PxJDcTTxeEdLSafHmyLquGkwMDcfIycDgZqX+3fFn/QsWH/AIOD/wDGaLoLo0PCN7pV94WspNAtlsrJE8sWflCNrVlOGiZP4WU5BHr+dbNct/bviz/oWLD/AMHB/wDjNH9u+LP+hYsP/Bwf/jNF0F0dTRXLf274s/6Fiw/8HB/+M1p+GNbPiPw3a6q1t9lafeGh8zfsKuVPzYGfu+lF0wua1FFFMYUVneIdXXQPDGqay8JnXTrOa6MQbaXEaFtue2cYzXjP/DTSf9ClJ/4MB/8AG6TaW5EqkYfE7Hu9FeEf8NNJ/wBClJ/4MB/8bo/4aaT/AKFKT/wYD/43S5kR7el/Me70V5D4U+OV54x19dH0nwoq3LRPKDPqW1dq4zyIjzzXqtv593pqjUbdbeaVCJYopi4XPUBwFJ+uBVXuaRkpK6LNFcP4A0uz0XxJ400/TIFt7SDU4PLiUkhc2UDHrzyST9Sad4ssrbW/iF4b0XWY0uNKltL25a0lG6O4mjMKoGXo2FkcgH69qCjtqK5D4aMy+F7qzDSPbafqt7Z2rSMWPkx3DqgyeoUDaPZaKAOvooooAKKKKACiiigAooooAKKKKACiiigAooooAKKKKACiiigD4w+IP/JR/EP/AGErj/0a1c5XR/EH/ko/iH/sJXH/AKNaucrmlueDW/iy9QooopGQV6d+z/8A8lO/7cZf/Za8xr079n//AJKd/wBuMv8A7LTjua0f4kT6eooorY9wKKKKACsvVf8Aj5T/AK5j+ZrUrL1X/j5T/rmP5ms6nwmdT4SjRRRXMcwUUUUAWtO/4/4/x/ka2Kx9O/4/4/x/ka2K6KfwnRT+EKKKK1NQooooA8/+JX/H3Yf9c3/mK4mu2+JX/H3Yf9c3/mK4mvNrfxGfO4z+PL+ugUUUVkcoVq+F/wDkadO/67rWVWr4X/5GnTv+u61UPiRpS/iR9Uek0UUV1nvhRRRQAVoWf/Hr/wACP9Kz60LP/j1/4Ef6VpDcqG5NRRRWxsFFFFACj7w+teT3n/H9P/10b+desD7w+teT3n/H9P8A9dG/nXHitkefjdokFFFFcJ5oUUUUAdf4R/5BVz/13X/0E1uVh+Ef+QVc/wDXdf8A0E1uV30/gR61H+GgoooqzUKVfvD60lKv3h9aALcv+tb6mm06X/Wt9TTa0e5oFFFFIQU9f9W/1FMp6/6t/qKaGNooopCCiiigArF+Gn/JPtP/AN+f/wBHvW1WL8NP+Sfaf/vz/wDo960gXA6qiiitDQ5v4j/8ks8V/wDYFvP/AEQ9fGeK+zPiP/ySzxX/ANgW8/8ARD18b4rGp0PMx/2fn+hHijFSYoxWR5lz0X4BjHxbt/8ArxuP/ZK+pyMgg9/Q4r5Z+Aox8Wrf/rxuP/ZK+pq6IfCe5hP4KOf0bwPoXh/Upb/S4LqO5m/1jyX9xKJDgLlldyCcKBkjIAFSS+DtDm0my042siQWBJtXiupY5oCQQdsqsJBkEg/NyK3KKs6irpmmWWjabDp+l20draQLtjijGAvOT9SSSSTySSTyaKtUUAFFFFABRRRQAUUUUAFFFFABRRRQAUUU2SNZYnjflXUqfoaAOY0v4gaXq19ZRQ2l/Da6jI0dhfzwhILtlUvhDu3cqrMCVAIHBqfSvG2l6ze2tlYJcveTCUz25jAey8ttrecM/Id3ygcluoyASOc8LfDeTwxNYW66f4eu4NOP7i/ktCLxgFIUk9A4zgsO3OB0rR8O+Cr/AEDxE2t/2mtzd6oGOtq6kLO3JiaP+75Y+QA9V6880AU9K8fX1xrHh+xh0+61W21HRWv3u4oY4ndxJEm7YZcKuHJK8nlcZ5rXX4gaW98qJbXzWDXgsBqohH2X7QX2bN27d9/5N23bu43Vn6Z4K1XRE8Lzabd2T3WkabJpt0J0fZNG5iYlSDwQYRjI53Gqmn/DZtL1c+VYeH72xN+bxLm9s2e7jDSmQpnOGKk4ViRjAyDjkAl8UfEdbWzkXRLe7JXVbbT11BrcNbPIbmNJowc5yFMg3FQuRgHOAew1fXNK8P2a3eu6ja6dbM4jE11MsaliCQuScZwD+VcTeeAPEElnLotlq1hFof8Aa66nGrQOZ8fahcNCTuxjfuIbr0BHU16LQB8U+Nby21Dx1rd5YXEdzbT387xTROGR1MjYII4IrS8NmzvfB3iS1n0qyaazsftUV6UYzh/PiTGS2AMMeAB15zVT4g/8lH8Q/wDYSuP/AEa1M0DxTFoWm3tmdCsL77dH5U8txJOGePcrbPkkUAbkByBn3rnfxM8So0q0r+ZW8J6VFrnjDSdLuSRDd3kUUhU4O0sAce+M101rZ6d4x02UpplvpclvrNpaRNbDZ+4uDINjA53MuwEMcnrmuRt9We0Fs9nbQQXNtdm6juUDeYD8u1OSRtUrkcZyTzWjqHi+e6tfs9hp9npSNdreyGzD5kmUEK2WZsBdzYUYAyetJWIjKKWps6tDp+paR4lWDSrWwbQ7iJbR4EKuYvNMRWQk/OeVO485B7HjV/Z//wCSnf8AbjL/AOy1yWseL5tWsbqBNNsrFr+cXF9LbB91zINxBIZiFGWY4UAZPsAOt/Z//wCSnf8AbjL/AOy01uXBp1Y2Pf8Ax1rF1oPgbVNQ04qt5HDtt3ZchJHIRWI5yAWBx7VmaObvQviEPDzape6jZ3Okm8T7dJ5kkckcqox34HDCReOxU4610+raXba1o93pl8rNb3cTRSBTg4IxkHsR1BrHsPB/2O5vby41rUr7ULi0+xRXk5jD20QyQECoF3ZO4sQSSBngAVqeyZ2sre6/8Rf7AXVL/TbGz0kXrGwkEbyyySvGpLYPCCMnb0JYZBAxWJo2tar42bw7ptzqF1p0c2kT3l5NYv5clxJHKsK7XxlVyWfj1UdOvW6n4Q+3XlpfWmtajp2oW9t9ke9t/KaSeIkEhw6MucjcCAMEnscVG/gWwgttITQ7m40aXR7drW0mtQjMIWChkYSKwbOxTkjO4Z9cgD/AWp3mreEIZtTl8+6guLm0kn2ged5M7xB+OMkICccZzV/Vf+PlP+uY/mal0PRbTw9odtpWnB/s9suAZG3M5JJZmPdmYkk+pNRar/x8p/1zH8zWdT4TOp8J5/qS33iDxdq2mwatdadDplhBJCLWQIWmlMh3ue6gRqNp4OWzWz4X1OfX/BWlalOTDPfWUcrsgHysyAkjIx1ORxUereFo9S1GS9ttRvNNnuLcWty9oU/fxAkgHcrYI3NhhgjcfbFtNFW28mPT7qeztoLI2cNtFt8uMcbXAIPzKFwO2Ccg1hpYw0sc7p8s1j46ezsdYu77TrW1kk1Vr2UOlvKdnlhXxw23cxXIAGDgZFUdL8SXmqfEfTbgX+zSdQsro21kGABSN4hHKwxnc+9iB/d2981ueHvBz+H4RbDXL6/sSH8y1u4bcrKX5ZnZYw7MSSSSxznnNPTwF4cg8RWWs2mlWdrPZRyJGkFtGikuV+c4XO4bcA543H1p3Q7o63Tv+P8Aj/H+Rp3ivV5dA8G6zq9vGJZbCxmuUQ9GZELAH2yKbp3/AB/x/j/I1pXlpBqFjPZ3kSy29xG0UsbdHRhgg/UGtaXwmtL4Ti9K/tDQfFmgWU+rXmpRaxp8zXIu5fM2zxiNvMTsoIZgVHy/dwBzm54he81Xx1pnhyG/utPspNPub65ktH2SylHijRA/VQDIWOOuAKsaL4Ji0jUYr6fVr/VLi1tWs7Jr0xt9liJBIXailidqAsxJIUc9cyXXhATppk0esahDqmmwtAmpjy2mlRwu8OGQo2Sqn7vBUEdwdTU47T9X1bXv+Ee8O3Wr3UJe91OC9vbV1SW5SzkMagOB8u7KElcH5T6mut8D393dWGp2l/cSXT6Zqk9lHPLjfJGpBUsR1IDAE9yKSTwLZR6Ppdnpl7eWFzpTvJbX8RR5t77vNZ9ylX3lmLZXqcjBAxqeH9Ct/DulCytpJZ2aV557iYgyTyuxZ3bAAyST0AA6AACgDkviV/x92H/XN/5ivLL8zah4mTTBdz2sEVp9pP2d9jOxfaMn0GDx6kZr1P4lf8fdh/1zf+YrzfUNH+2Xkd3b3k9ldRxmLzYAhLISCVIYEdQCD1FefU0qM8HENLESv/Wg3w3ez3/h61nu23z4ZHfGNxViuce+M/jWNo81zYatb2+uf2nHcXLSLE806vBIckhQFJwdoyM+ldBa6ZHZRWcNrLLHBaRlBECCJOAMtxknv9TVWHQmF9Bc32pXV8bUloI5hGFQkFdx2qMnBIyfWoutTBSjeXZlC5tZYvFWnWtpqN6xcyXVwj3GVES4AG33dl/AGu78L/8AI06d/wBd1rnoNNig1S61Dc7z3Koh3YwiqDhV9Bkk/U10Phf/AJGnTv8ArutCd5IcZXqR+R6Ff3Js9NuboJvMETSBR/FgE4/SuC0K71aym8Hahd6vdX7eI0IvYZSpjVmt3nVo1H3NpXbxwQeeQK9DdFkjZJFDowwysMgj0Nc3pHgi00i9sZRfXl1BpcbxadbTlNlorgA4IUMxCjaCxOFJHvXWrHuId49huT4L1K7s9SvLCaxtZrlGtHVTIyxMQrEgnbnB4IPHWszxfq17Z+ENDkgurhWurq2juEtSPtVwjKSyQ/7ZOCf9kNWxqfhmXU/C8miPrmoxJN5iz3IETSyxvu3RkshAXDYGACAo565hl8H/AGjR7C0uNZv5LnTZxPaX+2FZYiEKBcKgUrtYgjbyD170KwKxX+HmoXV/pOoC7ubiVbe/eGCO9/4+oYwq4Wb/AGuSfXaVySc13ln/AMev/Aj/AErl/D3h2Hw/HeMLq4vru/uDcXV3cld8r4CjhQAAFUAAAAAV1Fn/AMev/Aj/AEq4/EVH4jmPEc11qHjbRfDsV5cWVncWl1e3L2shjkk8sxIqBxyozLuOCD8o5xnNnwLqV1qGg3EV/ctdz6fqF1YG4dQGlEUzIrHHG7aBkjvmrWv+Gk1u6sL2HULvTb/T2cwXVrsLBXADoVdWVlIA4I6qD2o0zwzFo9np9rYX14kNnNLPLudS148m8uZTjnLOX4xyB0AxWpqcNDqutHR7HxkdUvHkuddFm+m7h9nW2e7+zBNg/jAw27ruyOhxWv4ggvNK8UaWuja9qlzqeo6iryWEsiyQLaB8zEpgBERDhWHJbaCWzWnF4CsYtSjlF9eHT4b9tSi0wlPIS5JLbwdu/AZi4XdgNz6AR23gWez8UX2t2vijVUlvp1kniaK1dSin5YQzQl1jAyAAw6k9STQB1w+8PrXk95/x/T/9dG/nXrA+8PrXk95/x/T/APXRv51x4rZHn43aJwOnXt+NP0bXJL+5lk1O9VJbd2HlLHIWCqq9tvy89Tg568dLreqf2baxpAYzeXT+TbJIcAsf4j/sqMsfYepFVbbwrb215A/2u5ktLWZp7aycqY4ZGzyDjccbmwCSBn2GLr6LZ3MbJqcSaivmvKn2yNZPL3H7q5HAHQVzScW7nHKUW7nKR6lfx+D3zqNxKItWkt7q9XDSx2yzspfgcfKAMgcAkjpWl4S1X7ZqWr2UN1Pe2Vo8TW1xPyzK6nI3dWAZTyefr1rQsvDVrpOnXNro0jWDXFw07TQxR7gS+7bgrjaAdoBHAq1pmlR6YJ3E0tzcXMnmT3E2N8jYCjoAAAAAAAB+ZpylFpjlKLTsd74R/wCQVc/9d1/9BNU/Fd1cy614f0O2u57KPUriU3E1swWQxxRM+xWwduW2ZIwcAgdaueEf+QVc/wDXdf8A0E1PrugQ64lozXE1pdWM/wBotbqDbvifaVP3gQQQxBBHINdNP4Ud9H+Gij4OvLqaLV7C9uZLttL1KS0juJsF5E2JIu4gAEgSbc452881UnW8sfinpkY1W9mtdRsryV7SV18qMxm3C7FCjH325JJ561o6d4Xi0yxSC21C9EjXpvrq5Lr5l3ITyH+XG08DAA4UAYqvqPhK4v8AxRBraeI9StpLZHjggiitzHGj7N6/NEWIYxqckkjsRWmlzYyPHOnXAurKLS9d1a01HWL6O3hSK6by4kHzSuEA7Rox9NxGa71fvD61mTaLBceJLXWZpJGltLaWCGI42L5jKWfpndhAOvTPrWmv3h9aALcv+tb6mvLTquqvoh8ZjWLsMuvfZBYDHkfZvtotfLKf3sfPu+9k46V6lL/rW+prlpPA9tLqQlbUr4WIvxqX9mqyCE3AbfuJ27yN437d2N3PtV9Szd1KybUNPe2S8ubJnKnz7VlWRcMDgFgRzjB46E4wea4Cw8Q6rH8DbDUBeSyaldPFaC7kYF0Mt0IfMyRjKhsjIxkDNds+lXRs7+KDWb2CW7n82OcCN2tRhRsjDoV2/KfvA/ePtjG0vwBbWHhGfw3d6rf6hp8igRCfyke3IYuGRo0U5DYYE5wQKADRGudJ8dX2gvfXN7Ztp8V7AbuUySRMZHR13HkqcKRnoc9sAdev+rf6isDQvDKaPfXWoXWoXWq6ldRxxS3d2IwwjTO1FCKoC5Zj0ySTk9Mb6/6t/qKAOV8c3l7Fa6Rp2nXUtk+rapFZSXUOBJFHseRypIIDERlQe27I5pPCVzdw634h0O6uZ7yHTbiI209w++Ty5YlbYzdSVbdyecEZz1Or4g0GDxDp8dvNNNbTQTLcW11AR5lvKv3XXIIPUgggggkVUsfCiWNjeJHql61/f3Mdzd6l+7WaZk2ALwgULsQJtC/dJ7kmjoBn62Lyy+I3huWLVb029/PPDLZF18gKts7DChQc7lBySfwFZutTalrGueKvsusXmnnw/aR/Y47V9qtK0JlLyAg+YPujB4wD35rc17wjPreuWepx+I9S097Es1tFbRW7JGzIUZvniYnKsRgkj0xTdb8EQaxf3lzFql9py6lbrbajFa+Xtu413AAllJU4Zl3KQcH2BABsaDqDat4b03UZE2PeWkU7KP4S6BsfrVT4af8AJPtP/wB+f/0e9a8USQQpFCgSONQqKowFA4AFZHw0/wCSfaf/AL8//o96uBcTqqKKK0LOb+I//JLPFf8A2Bbz/wBEPXx1ivsX4j/8ks8V/wDYFvP/AEQ9fHu2savQ8rMfs/P9BmKMU/bRtrE8q56F8Bxj4tW//Xjcf+yV9SV8u/AkY+LVt/143H/slfUVdNP4T3sF/AQUUUVZ2BRRRQAUUUUAFFFFABRRRQAUUUUAFFFFABRRRQAUUUUAFFFFABRRRQB8YfEH/ko/iH/sJXH/AKNaucro/iD/AMlH8Q/9hK4/9GtXOVzS3PBrfxZeoUUUUjIK9O/Z/wD+Snf9uMv/ALLXmNenfs//APJTv+3GX/2WnHc1o/xIn09RRRWx7gUUUUAFZeq/8fKf9cx/M1qVl6r/AMfKf9cx/M1nU+EzqfCUaKKK5jmCiiigC1p3/H/H+P8AI1sVj6d/x/x/j/I1sV0U/hOin8IUUUVqahRRRQB5/wDEr/j7sP8Arm/8xXE123xK/wCPuw/65v8AzFcTXm1v4jPncZ/Hl/XQKKKKyOUK1fC//I06d/13WsqtXwv/AMjTp3/XdaqHxI0pfxI+qPSaKKK6z3wooooAK0LP/j1/4Ef6Vn1oWf8Ax6/8CP8AStIblQ3JqKKK2NgooooAUfeH1rye8/4/p/8Aro3869YH3h9a8nvP+P6f/ro38648Vsjz8btEgooorhPNCiiigDr/AAj/AMgq5/67r/6Ca3Kw/CP/ACCrn/ruv/oJrcrvp/Aj1qP8NBRRRVmoUq/eH1pKVfvD60AW5f8AWt9TTadL/rW+pptaPc0CiiikIKev+rf6imU9f9W/1FNDG0UUUhBRRRQAVi/DT/kn2n/78/8A6PetqsX4af8AJPtP/wB+f/0e9aQLgdVRRRWhoc38R/8Aklniv/sC3n/oh6+QMV9f/Ef/AJJZ4r/7At5/6IevkTbWFXoePmf2Pn+hHijFSbaNtYnkXO/+BYx8Wbb/AK8bj/2SvqCvmD4GjHxZtf8ArxuP/ZK+n66afwn0WB/gL5hRRRWh2hRRRQAUUUUAFFFFABRRRQAUUUUAFFFFABRRRQAUUUUAFFFFABRRRQB5v4a8F+G9bfXLzV9FtLy5bW71TLNHubAmOBW3/wAK08F/9Czp3/fmjwN/x6a3/wBhy+/9HGunqHuZuEW9jmP+Fa+C/wDoWdO/78ij/hWvgv8A6FnTv+/Irp6KQuSPY5j/AIVr4L/6FnTv+/Iqrq2haJ4H8Oat4g8N6JYWmoWllK8cixegzg4PTgV2Nc38RP8AkmviH/sHzf8AoJoFKMVFtI8J/wCGhPGX/PHS/wDwGb/4uj/hoTxl/wA8dL/8Bm/+Lry2isuZnj+3q/zHqX/DQnjL/njpf/gM3/xdH/DQnjL/AJ46X/4DN/8AF15bRRzMPb1f5j1L/hoTxl/zx0v/AMBm/wDi6908D6xP4o8D6XrGqRQm6uo2Z/LTCjDsOBn0FfHNfW/wl/5JPoP/AFxf/wBGvVRbe514WpOcmpO513kQf88Y/wAqPIg/54x/lT6KqyO+yGeRB/zxj/KjyIP+eMf5U+iiyCyCKKJZQUiRTzyBUufYUyP74p1NbDWwufYUZ9hSUUxi59hRn2FJRQBUv9Nsb8xte2kU5QEKXXOKqf8ACO6N/wBAu2/74rVfotMqWk3sRKEW7tGb/wAI7o3/AEC7b/vij/hHdG/6Bdt/3xWlRS5Y9ifZw7Izf+Ed0b/oF23/AHxUttoelW9zHLBp9vHIjZVlTBBq7Tk/1g+tCir7DVOF9kJ5EX/PNfyo8iL/AJ5r+VPoqrIuyGeRF/zzX8qPIi/55r+VPoosgshnkRf881/KnqqomFUAZ6AUUv8AD+NMYfgKPwFJRQAv4Cj8BSUUAKDyOBWa+jaYzszWEBJOSSnWtIdRUJ+8frUySe5Mknuij/Yul/8AQPt/++KP7F0v/oH2/wD3xV6ip5Y9ieSPYo/2Lpf/AED7f/vij+xdL/6B9v8A98Veoo5Y9g5I9iO2srW1hZbe2jjVmyQq4ycVJ5cf/PNPyp6/6s/WkqrIqyQ3y4/+eaflR5cf/PNPyp1FADfLj/55p+VKI48/6tfypaB1oAVtu8/KvX0pML/cX8qVvvn60lMYYX+4v5UYX+4v5UUUAGF/uL+VKMbD8q9u1JS/wN+FACZH9xfyoyP7i/lSUUALkf3F/KjI/uL+VJRQAuR/cX8q5/4a/wDJP9P/AN+f/wBHvW/WB8Nf+Sf6f/vz/wDo96qI0dTRRRVFHN/Ef/klniv/ALAt5/6IevkfFfXHxH/5JZ4r/wCwLef+iHr5K21hW6Hi5o/g+f6DMUYp+2jbXOeLc7z4HjHxZtf+vG4/9kr6dr5k+CIx8WLX/ryuP/ZK+m666fwn02A/3dfP8wooorQ7gooooAKKKKACis/X9U/sPw3qerGIzCwtJbnygcF9iFtuffGK4bwz4o8ZX19YyXGnzXlvfWDzSh7IW0NtOEDRrHJuJaNjlckE9DnnFAHpNNLoHVCyhmyVUnk4614/reu65d/DPxFFqesXtlrMOmrPLZzaettJD82HMbgkOhPy7gWx684rp7+51DSfGGnQXdzDfXI0TUZxdtaojqUe3wox0X5uR3IHpQB3dFeY6brvjW5n8KRS6nYD/hJdPe5lJs+bApGknyAN+8JD7TuIAPzAY+U2I/F+qXnh2yt2vZItcfULyxZdP09ZWuDbSujOod9iLhVJLHqcDFAHo1FeRLreveJpPBMzai2lXo1nULC52woyu8MNwu4rkjnyz8uSAW4JwCbOqeNPFs2ta4nh22nuRos4tYrRNOEq3jiNHYyShx5ZbfgADjgnOcAA9TZlRSzkKqjJJOABSghgCDkHkEd68k8ea14g1fwv4/NrfWllp2j2klk1m9uWkuN9qruzOSNvEuFAHVTnORXqWm/8gq0/64p/6CKALNFcPYa9rMfjQ23iO4l0yKW6mitLU2Aa3uYwHMZW5BOJCqbyrY7gL3rM0Txtq1x4u0KJp5r7R9dedIbmbT0tkOyJpVeL94XKFU/iXuDntQB6UrK6hkIYHoQc0teU6TrN9aeDtA03Rbu8S/uvtkiwWenrcuyrORvZnZURAWAOSCdwwRg1Z07xp4i8SWvg4adJa6fLrKXovpHg8zyzAdu5F3dSwPBJA3fxY5APTaK89vfFmrWFze+GXu4ZfEMmoW8WnyGIKHtpvm80r0JRY7jOP+eY/vV2uq3Go29oH0ixhvpy4BimufIAXByd21vbjHegDn/A3/Hprf8A2HL7/wBHGtLU/FGh6NqFvY6rqtpZ3VyMxRTShSwzjPsCeAT1PFZHw7e4k0nVnvIUgnbWr0yRRyeYqHzjkBsDP1wK5XxHd6bZT/E631x4llu7COS3ilKhpofsuxQgPLfvd4H+01T1JPViQoJJwBySe1Zmj+JdE8QNMuh6raX5gwZBbzB9oOcHjscHB6HHFc34mmu5PhVqujRTeZ4hTw80klvG+ZsmJl3ADnllYD1IrG1S9g1jxFZ/8INLHNJB4WvVY2cm4RK4i+zKcdG3K20HnhuKQHd6T4p0LXbqe20fVrS9mtyRIkMoYrgkH6jIIyOKofET/kmviH/sHzf+gmuR8P3umX+p/DeLw5JBKLXTZjcRwHcYIPs6rh+6/vNgw2CSD6Guu+In/JNfEP8A2D5v/QTQRP4WfHcEE11cRwW0TzTSsEjjjUszsegAHJNT6lpV/o939l1aznsrjaH8q4jKMAehweaggWZ7mNbUO0xcCMRg7i2eMY5zmuu8caVqX2zQFexug8ulWkKBomBeTbjYOOWz261h0PDUbxbOd0nQNV155U0ewnvDCoaTykztB6ZPqew6mm2Oianqd3LbafYXFxPCCZUSMkx4OPm9OeOe5A610kGn39z8Nvsen2073lrrrG6hiRjIhMSrESB0wwkA9ya3/FaPqdj4vtdFje4ul1y2kvEt1LtIBHIjMdo5UTE+2WHqKdjRU1a55lcW81pcyW91E8M0TFJI5FwyMOCCD0NfWfwl/wCST6D/ANcX/wDRr183fEJifGlwsgAuI7e2jucf891t4xLn33hgfcGvpH4S/wDJJ9B/64v/AOjXqo7nRhVapJG9q3iPRtCaJdZ1S1smlBKLPKFLAdWwewyMnoMj1FaQIIBByD0IrgL7UdM0r4jeJX8Tz29vbXGh23kPcsqq0KtP5ygn3dcjvleKseHprqH4UaZpEk2PEDeHRJHbMxExIiVckEg5DMoPoTVnpHSaf4m0TVtQmsdM1W0urqHJkihlDMMHaenoeD6HiotN8XeHtY1BrDS9Zsrq7UFvJimBYgdSB3HuOK4XQL3Tbu7+G1voU8Uj2NhMbqOJhut4RbBGEgH3f3vlgg/xD2NWbzVIrv4q+GJLfXLHWLeZrgWtjZbVazXyDmZmDNvXClcHaMuMZIxQB6ZH98U4kKCScAckntTY/visbxtBd3PgDxBBpu/7ZLplykAjzuLmJguMc5z0pjLGleJdF12aeHR9Utb2SD/WLBKGKjOM/T36VLqut6XoVuk2sX9vZRyNsQzSBd7YzgDucAnjsCegrhtJvNJ1Hxp4Qfw3LbTRWWh3AuWt2UiCA+SsaOQePmU4U/3X9DVzUNZ00/Enw1q895bnSbjSLwWV40gERlZ4GyGPHMatg9wDQB1F94l0XTdGh1a+1S1g0+fYIblpRsl3fd2n+LPbFXLK+tdSsYrzT7iO5tpl3RyxMGVx6givJfDs9vp9z4P1G7dINHk1DWfsU8hxGglldrfk4ADRh9p7gjHWuz+HMiz6XrFxbMXsZ9bvJLNudrRmTkr/ALJk8wjHGDQB1r9FrJ1nxHo/h2OF9c1K2sVnYpF58gXeQMnH0HX0rWfotcPqd/aab8W7abWriG2tpNDlS1luXCJvEymUAnjJXyyeei+xpCOyiljnhWWCRZI3GVdGyGHqCKzrXxLol9q8ul2eqWs19DnfbpKCwx1474746d65/wCG13FbeAdDtLmVLee7Wd7KCUFWeESMyEKcHAjKHHYEVyPh+W1k8NfDnS7SSGTXLLUv9LhDqZ4CsU32pnBO4AscEnqXXrkUAek2fi7w9qGrNplnrFnNeqzL5CyjcxUkMF/vEFTnGcY5rbT/AFg+teZ+KNYhufHHhlote0/U7JtURYNLsyPPjl2OpmLqzFlXL5GFAyMk459MT/WD60AOrMsfEuianqUun6fqtpc3cO4vDFMGYbThunoeD6Hg81a1KOeXSbuOzZluHgdYmU4IcqcEH615l4ansby2+GFro8qC70+BvtcETqXgiWzaOUSAHj98Ywc/xc9RwxnpGr61pugWH23Wb2Gytt6oJJn2gsTgKPUn0qNvEejJoi6w+p2q6c2Nt0ZRsbJwAD3JPAHUngVy/iLVdOn8WeDNUe7hk0dbq7QXJf8AcrceUyJlugPEqjPcnviuXtZoE1DTtTkdB4fbxtdSRysxETA20iJID02+fuwehJBz3oA9Y03U7HWLFL3SruG8tpCQs0LhlJBIIyO4IIPuKt/w/jXG+BJo7vWvF97YOsul3Grg2siHKSMtvCsrKc8jzFYZHGQa7L+H8aAKOq6zpuh2oudYvoLOFmCK8zhQzHsPU/0BNT2l5bahZxXdjPHcW8y7o5YnDK49QR1rk/ElxDYfErwzfarPHBp6Wd9Gksz7I0uG8nbkk43GMSgewb1qP4d3tnb+Hc+dFBb6prF8+loWA86JppHXYPQqrMMfw89KAOjHiXRDrf8AY41W0Oo52/ZRMC+7bu249dvOOuMHoabL4o0ODX10SbVbRNTYAi1aUB+eQMepHIHUjmvMrSe3/wCEQ03SBcRL4jj8X75IBIomMv29pJHIBzgwFiT3U+ho1Ce1Xwn4j0p5Y/7ek8Vh4YCV87zHvI2gdQf+mQUg/wB1TyOcAHsY6ioT94/Wph1FQn7x+tJiMm18UaHe63No9pq1pNqMBKyWySgupH3hj1GeR271d1DUbPSrGS81K5itbaIZeWVgqj/6/t3rybQ7qCTwr4E0m2mT+27PXMXNvnEsTJ532kso5AwXyT13D1rrPGN/ZXU3h28+2Rtpun+IFW/kWT5InWOVFDnoMTGMHPQ4pWA6BvFGhLobaydXs/7NVgrXfnDyw24Lgn1yQMVPpGuaZr9o11ot/BfQI5jaSBwyhgASMjvgj864CCDTNbm8VzHWYNN0q4120lsr+KSMK9zAkLsULgqx8yPHQ5Kt1xW74C1281W512yudUj1u20y7WG31WKNVE+Y1ZkOz5CyE4JXA5HANAHaL/qz9ap6nqtho1k15qt3DaW6sF8yZwoLE4AHqSeAOpq4v+rP1rjfGTRW/i3wfe6g8cenQX04kkmOESVrdxESTwOdwBPcgDk0wOo07UrLVrGO90y6iu7aXOyaFwytg46iqcvijQoNfXRJtWtE1NtuLQyjf8wyox6kDIHU1zngfU7GGPX7w3USafqHiOVNPkLALOWSNTsPfdKsuMdeTXManf26eFPFmkyTLHrsniPMFuDiZ3eeJrd1A+YjYEO4dAp9KAPR7nxd4es9aGkXetWMOoFlT7PJOobc2Cq+zEEYXqcj1FbA615t8V9Rgk0KaFPENiIoJI/tGjLs+03zq6sIkfduRz8uMKT6EdR6SOtACt98/WsseJdFOt/2ONVtDqOdv2UTAvu27tuPXbzjrjB6VqN98/WvGxdW/wDwhh0lZoz4kPi8sIVb980o1HzC+3OcfZxnPTaOtAHrl5e22nWUt5f3EVtbQqXlmmcKiKO5J4AqjF4o0OfR59Vi1W1axtztmn8wbYzxwfQ8jjryK53x9eWl9o1q8c8M1npuvWY1T58rCqyIx39gBuRjngDmotH1Ww/4TbxhqkN9aR6WI7GBrx3Uwm6AcH5sgEgPAp564HBFAHV6Rr+k6/FLJouo216sLbJfIkDGNvRh1B9jWl/A34V594HujL4/8SRT39rrV0La0aTU7JQkYX94FgZASA6/M2dxJDrnG0CvQf4G/CgCrf39ppdjLe6jcR21tCMvLK21V5wOfckD3JqPS9X0/W7Fb3SLyG8t2OBJC+4AjqD6Eeh5rm/iE8dvH4cu7x1jsLXXIJbuR/uIuyQIzHsBKYzn1xVbw1qen23iTxnqa3cEWlNqNtEJw6+U1x5MaPgjqSzRqf8AaGOuaAOlvfEuiadqcWnX+q2dvezFQkEkyhyWOF47bjwM9SDjOKjv/FmgaXqY0/UtYs7W72q3lTTBSAxIXOeBnBxnrivPPEd7ZQaV8T7HUZY11O7cLZRF/wB5NvtIltxGOp/e7sAfxZrV+Jd/HJ4FvrGfxLptlJDZEalZS7WmuAyA+WvzExswyAQrE7hgUWA9GrA+Gv8AyT/T/wDfn/8AR71radIZdLtZGgkty8KMYZSS0eVHyknnI6Gsn4a/8k/0/wD35/8A0e9VEaOpoooqijm/iP8A8ks8V/8AYFvP/RD18m7a+sviP/ySzxX/ANgW8/8ARD18o7a563Q8PNvsfP8AQj20bak20ba5zwzufgmMfFi0/wCvK4/9kr6Zr5o+Cox8WLT/AK8rj/2Svpeuyl8B9Tl/+7R+f5hRRRWh3hRRRQAUUUUANkjSaJ4pkWSN1KsjDIYHqCO4rBsfA+gaarpY2s8UTxPCIBezmKJGGGEcZfbHkf3AO3oK6CigDDtfB2iWkF3EttNOLy3NtO15dy3LvEd2Y90jMwX5m4BA5qS28K6PavE8dtJI8ME1sjz3MkrCOUqXXLsTglF+gGBgVsUUAZ0WgaZDJpkkVqFbSoWgszvb90hUKR154UDnPSqVz4J8P3dsIJrFgq3U12rR3EkbrLKWMrB1YMNxZsgHGDjGK3qKAMIeC9ATRYtKhsPIs4bhrmJIJ5ImikYtlldWDL99hwRwcdOKZfeBvD+o373s9pMlxIipM9veTQeeqjaBII3AkwOPmzxxXQUUAc9rPgTw54gu7m51bTvPkuoRDcATyIsygEDcqsFYjPDEZHGCMClnufFsFw8Wm6FoklpGdsLy6zNG7IOmVFqwU47bj9a6CigDEs/CekWuqJqYt5mvFdpU828mmjhdwQxjR2KoSGYZVRwcVX0/wD4Z0vUrO/stM2XNizNaO08j/Z9ysjKgZiFUhj8oAHQ4yBjo6KAMG48E6Bc2dpbPZyJHZmQweTcyxMgkbc67lYMVYgZUnBwOKm07wnoekppyabp8dsmmecLNUZgIRKcyADOME9j07YrYooA5xfDUlz4+HiTU/srGztWtdPWKM70VyC7Ox6ngAADABbruro6KKAOS8Df8emt/9hy+/wDRxroJrG0ubiGe4tYZZoDmKSSMM0Z9VJ6fhXP+Bv8Aj01v/sOX3/o4109Q9yRvloJTKEXzCoUvjkgds+nJqK2sbSy8z7Haw2/mtuk8qMLvPqcdTU9FAEMNnbW0s0lvbxRSTtuleNApkPqxHU/WsH4if8k18Q/9g+b/ANBNdJXN/ET/AJJr4h/7B83/AKCaRE/hZ8cI7RurxsVZTlWU4IPrU8moXkxQy3c7lG3IWkJ2n1HPBqvRWJ4JPBfXdrK8ltdTQySAh3jkKlgeoJHWmQXE1rJ5ltNJC+CN0bFTj0yKjooAVmLsWYlmJySTyTX1t8Jf+ST6D/1xf/0a9fJFfW/wl/5JPoP/AFxf/wBGvVROzB/G/Q6q5srW82fa7aGfy23J5sYbafUZ6GpfLQyiUovmBSofHIB7Z9OBTqKs9QiitYIJZZIYI45JjmR0QAufUnvUdtptjZTSS2dlb28kv+seKJVL/Ugc1ZooAdH98U6mx/fFOqugyCCxtLXzfs1rDD5zbpfLjC+YfVsdT9aJrG0uLVba4tYZYFxiJ4wyjHTg8cVPRQBDPZ211aG1ubeKa3YAGGRAyEDoNp47VKiLFGqRqqIoAVVGAAOwFLRQAj9Fqtc2dtexCO8t4riMMGCSoGAI6HB71ZfotMpMTGNFG8qSNGrSJnYxXlc9cHtUcdlaxXUlzFbQpcSgCSVYwHcDpk9TU9FICrBplha3L3NtZW0M8n35Y4lVm78kDJq4n+sH1ptOT/WD60wHVDFZ20NxJPDbxRzS/wCskRAGf6nvU1FMZDJZWs1m1pLbQvbMMNC0YKEZzyvSle1t5LX7NJBG0G3b5TICuPTHTFS0UAMhhitoVht4kiiQYVEUKqj2AqT+H8aSl/h/GgCC6s7a+tzBe28VzCeTHMgdT+Bp/kxfu/3Sfuv9X8o+TjHHpxxT6KAIfsdt9r+1fZ4vtGMedsG/Hpu60hsbRr5bxrWE3SrtWcxjeB6BuuKnooAUdRUJ+8frUw6ioT94/WkxECWVrHeSXcdtCtzKoWSZYwHcDoC3UinNawPDJC0EbRSZLoUG189cjvmpaKkCq+mWElitlJZWz2ijC27RKYwPZcYqW3t4LS3SC1hjghQYSONQqqPYDgVLRQA9f9WfrUc0MVxC0NxGksTjDI6hlYe4NSL/AKs/WkqgI/Ih8uNPKTZFjy12jCY6YHbFMaytXvUvHtoWukXYk5jBdV9A3UDnpU9FICs2nWT3y3r2du10ows5iUyAezYzVkdaKB1pgK33z9ar/YrX7Z9r+zQ/adu3zvLG/Hpu64qw33z9aSgBghiCyARpiQ5cbR85xjn14GKiWws1szaLaQC2IwYRGNhH+70qxRSAhtbO2sYBBZW8VtEOkcKBFH4Cp/4G/Ckpf4G/CmBFLFHPC0U8ayRuMMjrkMPQg1HHZWsNqlrDbQx26Y2wrGAi4ORgdBzzU9FICCWytZriO4mtoZJov9XI8YLJ9D1FRy6Xp896l5NY20l1H9yd4VLr9GxkVbopgFYHw1/5J/p/+/P/AOj3rfrA+Gv/ACT/AE//AH5//R71URo6miiiqKOb+I//ACSzxX/2Bbz/ANEPXyrivqr4j/8AJLPFf/YFvP8A0Q9fLOK5q/Q8PNvsfP8AQjxRipMUYrnPDO1+DAx8V7P/AK8rj/2SvpWvmz4NDHxXs/8AryuP/ZK+k67KXwH1OXf7tH5/mFFFFaneFFFFABRRRQAUUUUAFFFFABRRRQAUUUUAFFFFABRRRQAUUUUAFFFFAHJ+BgTaa3gf8x2+/wDRxrp9p9K4DwuTnW+f+Y3e/wDo5q3cn1Nc8qlnaxhKpZ2sdFtPpRtPpXO5PqaMn1NL2vkL2vkdFtPpWD46s7m+8Aa5a2cEk9xNYypHFGuWdivAAqPJ9TVvTSftR5/gNNVLu1g5+b3T5P8A+FceM/8AoWNU/wDAZv8ACj/hXHjP/oWNU/8AAZv8K+ws0Zp8qOb6nDufHv8Awrjxn/0LGqf+Azf4Uf8ACuPGf/Qsap/4DN/hX2FmjNHKg+pw7nx7/wAK48Z/9Cxqn/gM3+FfTXwz0290v4a6NZ6jbS21zFEwkikXDKTIx5H0IrqM185ftESyJ8QNPCOyj+yo+Acf8tpadlHUfJHDJzWp9HbG/umjY39018NefN/z1f8A76NHnzf89X/76NLmI+ur+X8T7l2N/dNGxv7pr4a8+b/nq/8A30aPPm/56v8A99GjmD66v5fxPudFYOMg07afSvlH4KyyN8X9FDSMR/pHBY/8+8lfVlWndHXRq+1je1h20+lG0+lNopmw7afSjafSm0UAK6kgYBpmxv7ppZOi0ykxMdsb+6aNjf3TTaKQh2xv7ppyKwcZBqOnJ/rF+tMZJtPpRtPpTKKYx+0+lG0+lMooAftPpS4O3p3qOnfwD60ALtPpRtPpTKKQh+0+lG0+lMooAkCnPSoijbj8p/KnD7w+tZUhPmNz3NTKViZSsaWxv7p/KjY390/lWXk+tGT61POiec1Njf3T+VGxv7p/KsvJ9aMn1o50HOa4Vth4PWk2N6Gq1kf3D/739KnzVp3Rad0O2N6GjY3oabmjNMY7Y3oaXY3oaZmjNAEjKxY8HrTdjehpzfeP1pKYxNjeho2N6GlopCE2N6Gl2tsPBopT9w/UUxjNjf3TRsb+6aTNGaQhdjf3TRsb+6aTNGaAF2N/dNc/8Nf+Sf2H+/P/AOj3rfzWB8Nf+Sf6f/vz/wDo96qI0dTRRRVFHN/Ef/klniv/ALAt5/6IevlzbX1H8R/+SWeK/wDsC3n/AKIevmHFc1foeJm32Pn+hFto21LijFcx4Z2PwcGPitZf9eVx/wCyV9I184fB8Y+K1l/15XP/ALJX0ZNLHBC80zqkcalndjgKAMkmu2l8B9Rl/wDu8fn+Y+iub0Lxzpmv3sNtb299bG6ha4snu7YxLeRDGXjJ6j5lODg4YHGDV3XPElroUlpBJb3V5d3hcW9rZxb5JNgyx5IAAGOSR1Fanea9FUNF1my1/So9R0yRngkZl+dCjKysVZWU8ghlIIPpRQBfooooAKKqW+oJLZtc3EclkqyvERclVPyyFA3BIw2MjnkMOh4q2CGAIOQeQR3oAKKja4hSZYnljWRuVQsAT+FK80cRUSSKhc7VDMBuPoKAH0VkDxLYy2uqyWIlvZdKkeGa3gUeY8iIHKIGIBOGA64z3rVRw6gqf1zigB1FNMiKFJdQHOFyfvH2p1ABRTfMQSBC67znC55OPb8RQjo+djK2CVODnBHUUAOopiTRuhdJFZRkFgwIGOtHnxBC5lTarbS24YBzjH1zQA+isyXX7ODxGujTb0nNmbzzWwIwgcJgnOc5Ydse9aDzRxxebJIqR9d7MAPzoAfRTHmjjiMkkiqgG4szADGM5z9KeCGAIOQeQR3oA878Mddb/wCw3e/+jmrcrD8Mddb/AOw3e/8Ao5qpaz4vurC+1JNO0pb620aFZtRk+0iN1BUvtjTad7BBu+YqOQASenFJXkzjkryZ1NFVXvGl0n7bp0X2svD5sEYcJ5uRlRuPAz61laV4gvpvEDaJremxWd59l+1o1tcmeJ037SNxRCGBI4x34qbE2N+rmm/8fR/3DXIaX4uXVfGN3o1vZOLa3tzKl8z8Tssmxwq46Bsjdnkg4GOT1+m/8fR/3DVRVpIqKtJGlRWb4h1qDw54dvdXu0kkis4jIY4hlnPZR7k4H41n6L4i1C61yTR9f0qHTL77KLuFYLz7Qkke7a3zFEwysVBGCPmGCa6TpOiornda8RX9trkWjaBpkOpX/wBmN3Os939nWKINtGDsYlmO4AYA+U5I4zFH4n1HVvD+m6z4Z0u1uLS7gM8x1C+Ns1uBjKkLG4LfeB5ABXrQB09fN/7RX/JQdP8A+wVH/wCjpq988Na7F4m8NWOsW8TQx3ke8IxyV5I69COOCOCORXgf7RX/ACUHT/8AsFR/+jpqmWxy4r+EeT0VvaDoFlrOmajLJqjW97Z20tylqLUuJEjUMcvuAXPToelYtvBJdXUVvCMySuEQE4yScCszyrMjorqdY8IWljaamdN1Zr+50iZYb6I2vlqCW2bo23Euof5clV6jjmpNW8FQ6dFqlvb6obnVNGjSS/tvICooLKriN95L7GYA5Ve5HSnZlezkX/gn/wAlh0T/ALeP/SeSvq+vlD4J/wDJYdE/7eP/AEnkr6l1TUbfR9HvNTvSy21lA9xMVGSERSzYH0Bq47Ho4P8Ahv1LVFctofivUbzVLOx1/Ro9Lk1K1e7svLu/PLKmzckg2LscCRTgbh15yObeueILqx1iw0bRrGK+1O9jlnCzzmGKKGPaGdnCOfvOigBeSeoxVnab1FcZfePbpPh7L4o0rQmu/sqXDXlpNdCA2/kbxKC21txDRkDAOa6+2m+0WsU23b5iB8ZzjIzQA+TotMp8nRa5rXPEl7aa3Foug6ZFqepPaPePHPdfZ40iVgo+cI/zMxwBjHytkjFS9yXudFRWb4e1u38R+HrPV7RWSK6j37H+8jdGU+4II/Cud0nx5c38umXVzo62+ja1cG3067W68yVztZkaSPaAiuqEjDN2zjNAHaU5P9Yv1rkNO8Y3Ota95GkWVjJpyTvC802oBLhwjMjSJAEOUDqwyWGcZAxXXp/rF+tHUBaKbJIkMTySsERFLMx6ADqa4/RvHV3qF9o39o6Kthp+vxmTTJxdeY7YQyBZU2gRs0Y3ABm6EEg8VRR2VFYniDX5tJudOsNOslvdS1OV47eKWYwxgIhd3dwrFQAMcKSSwGO4o2PijV9Y0MT6Polu2pw3clne2tzf+XHayJncfMWNi4+7jC8hh05oA6mnfwD61ieGtfOv2d201m1nc2V3JZ3EJk3hZExkq2BkEEEHA69K2/4B9aAG0VgeIPEVzpuraZo+kWEd9qepea6JPOYYooowN7s4Rz1dAAF5LdsVa8N66viLRVvRbtazLLJb3Fu7ZMMsblHXPflTg9xg0hGrRXFjx9cfa4LptHUeH7jUjpkWofa8yGXzfKDmLbgRmQFQd2eh2gHNWtZ8U6voOpQNqOi2v9k3F7HZxTw6gXuGaRwiHyTGB1OSA5IAJ7UAdWPvD61kyf6xvqa1h94fWsmT/WN9TWc9jOY2iuRs/G81zdWM8ul+Xoup3TWdnercbpGkBYKzx7RtR9h2kMx+7kDPHQazeXthpslxp1it9MnPlPOIhgAkndg+np3rOxnYvUVy83jMp4J0XW4dOMt1rQtVtrPzsASTqCFaTbwoBJLbeg6Vd8Pa/NqtzqNhqNpHZ6lpkqR3EMU3mxkOgdHViqkggnqAQQaLMLM6my/1D/739KnqCy/1D/739KzPEWvTaRJp1pp9kt9qOp3BgtoHm8lBtRnd3faxVQqnorEkqMc1tHY2jsbVFYvhjX21+wuWubX7He2N09neW4k8xY5VAJ2tgblKsrA4HDDisa+8ezWlxe3MWkedomnX6WF5ffadsiSEqGdItmHRWcBjuByGwpxzRR2dA61ynibxVqnhhpb260i1k0aOWKITrqBFxIXKjKw+Xg4JPG/JxwK6sdaAJG+8frSUrfeP1ri28eXAuDef2Sv/AAj41T+yzfm4IlEvmeVv8rZjy/O/d535zzgCmM7OisnxNrw8O6N9sW2a7uJZ4ra2tlkCGaaVwiLuPAGWyTzgAnBxiqGleJ9RvW1iwudIij1vS9jNaQ3e+KVJATGyysinB2sDlRgqaAOloP8Aqz9RWH4P8Qy+KPDq6jcWS2M32ie3kgWbzQrRStGcNtXOSmenetw/6s/UUAMorG8S682g2Ns1vafbb29uktLS2MoiEkjZPLEHACqzEgE4U4Bpnh3xBLq82oWOoWa2Wp6ZKsV1DHN5sZ3IHV0fAJUg91U5BGOKQjcorjNZ8d3OnXmsPZaOLvTNACHU7prgxumVDuI49h37I2Vzll64GTVnxn43j8KadbzW1i+p3E5DiGOTYEh3KGlZsHCguoAxklgB3IAOqrA+Gv8AyT/T/wDfn/8AR71v1gfDX/kn+n/78/8A6PeqiNHU0UUVRRzfxH/5JZ4r/wCwLef+iHr5lxX018R/+SWeK/8AsC3n/oh6+aMVzYjoeJmv2Pn+gzFGKfijFcp4h0Pw40w6r8SLG3F9eWJ+y3DebZy+W/GzjJB4r3/WNEmuvAuo6JbXU009xp81tHPcvudmdGUMx47mvD/hGMfFWx/68rn/ANkr6Lruo/Aj6fL/APd18/zPONCuZPEPiHwl9n06/tP7Bspv7QN1ayQrFK0SxCEMwAkOdxypYYTOeRlvjS+GqS+G9Rnj1zTNJKXEs15Y2covLZyEVEYKrMiMC5PBB2rXpNFanecp8NY7qHwPBFeW00Gy4uBC1xEY5p4vOcpNKp5EjghmzySxJ60V1dFABRRRQB5FdaPF/wAIxpzaqslvc22r6tNBBd6LNfwSb7ubBeNBwSrAo2c4LEZ5r0bwq88nhPTWu9Kj0iY26lrCJQq2/H3QB0Ht26Vr1kX/AIch1C8e5k1DVIWbHyW9/JEgwMcKpwKAPK/iTDfTavrs1ppBGqQNA+mmy0Fp7i4VFRvON3ghArF12gg4TAyWweguLXSbf4ma7N4x0S41B7n7OdIuDpkl3GsKxqGjQqjeW4lDseRncp7cej28It7aKFXkcRoEDSOWZsDGSTyT71JQB47qejW9tpPxM0+Lw/MNYvFu5rKaHTHPnwvaxgBJlTacuGGzdnOeK0fF9hrNrrk2n6Nb3xt/F1tb2txc20TMLGRHWOWVmH3CbdjgkjmEV6jRQB4z4r8PhfGetrrKLBYz2cEGk3I0GfUWt4lj2ssTxN+6dZMtjGTlTzjj1zTI3h0m0iklkmdIEVpJE2s5CjkjsT6VarFu/DEF3dyXDalq8RkbcUh1GVEH0UHAFAHnGr+DI7vw94gvRpdwdWl8UxvBcxRsLiOFrqJGMTD5lTy2kJxxyxqfxH4ZvrKDxtpfhLTDY2M9npssVvZ2u2OX97ILlY1XaCxiRQQpB6dCc16yqhFCjOAMDJJP5mloA8Un0OG58GeKz4eEjC80+GNrGw8Oz6dGGV8hlDZ3SbTg7eQFXPaul/4QDQX+I1xZSeH4Dor6Mh+zmH/RzP5kiF8fd83Y2N/3sHrzXo1FAHitpZxfbfBt3450C9v7RPCqw3Bk06W4WG5zGQHiVGO7AYcjIJ9SKrzaDq0GmeEW8R2JfSLa1uV8i+0uTUhaO8wNv5sKMDuEJCbyDtII4Jr3KigDybTvCFtfal4Lt7u1n1XSrVNUkIvdOkhjjzJH5SGKTJVR/AHzkIpHY16TqmkLqWnx2kV7eacsbAq9hIImAAI29CNvPTHYVoUUAeaeDLf7JZ6tbmaafytYvF82dtzviU8se5rL1nR9cgvfEkejWEd0viGJFS4eZUW1k8oQkyA8ldoDDaGJORgda2/DHXW/+w3e/wDo5q3K4pO0mccnaTMUHUtI05rHTdMF6llp6C2ka4WP7RKoK+WQfujCqdxz972rB8N6Zrc9tqf9uWFxp+r6lbMJ9XWeJvLbGESJVYlVTcSo9QSSWYk9xRU3JucPoXg/V9F8aWtwdT8/S7bS/siKLeOPoxxHgc8cNu9sd69E03/j6P8AuGqdXNN/4+j/ALhqou8kVF3kir4z0OfxH4N1LSrORIrmeLMDyDKiRSGTd7blGfasqytdbvPFE3ia90c2clrpLWdrYvcRs88jOJHyykqqkxxgHPckgYrsaK6TpOPvLXW7LxVF4ks9G+3SXelJZ3FnHcxq8Eiu0i/M2Ay5kYEjngEA1nP4auLDwLpPhnVPCsXiqOOLdclZokjSckkkCQg4yzYYc47V6DRQBh+DdO1HSfCGn2OtyiW9hQiQiVpNoLEqm9uW2qQue+K8L/aK/wCSg6f/ANgqP/0dNX0hXzf+0V/yUHT/APsFR/8Ao6aplscuK/hHI+C5tItF1OXVtXSxa5sprNIzbySEl0wGyoIwD+NZNm9rplwmoQ3iz3FnfRmKARMFmjUli+49OVUYIz83tWXRWdzy+bRI7bVta0a0tfEUmi3zXUmvXEbxwtCym1iEvnESFgAW3BB8u4Yyc1Y1nX9DM/iXWtNvmnu/EMJjWxa3YNamSRJJC7H5TjYwXaT1BOOlcDRTuV7RnefBP/ksOif9vH/pPJX054k0n+3vCuq6QHWM39nNbB2GQpdCoJ+mc18x/BP/AJLDon/bx/6TyV9X1cdj0MH/AA36nEaTpuvan4l0XUdd0xdNj0Owlh2rcJL9quJBGpZMZwihGxu2sdw44qTULbXl1zRPFNtopmvFsZbO/wBMju490YkKOCrttVtrx4PTIbIziuzoqztPOrnw/r9p8IdS0aLTFvtY1pL43EcNyipbyXRkf7zkblUyBeOTjNdpoMt5LosH9o6e+nzooRoXlSQ8DGcoSOa0aKAEk6LXJazZarp/jCLxBpGnHVBJYGxmtkmSJkIfej5cgFclge44IDdK62TotMqXuS9zl/Cmmal4c8P6Lo9xaR3O5JZL+4SYBLeRiZCqqeXUs7KOnAyfSue0Xwxr6Wnhfw9f6fHBYeHbrz3vxcKy3KxrIsKxoMsCdyFtwGNpwTxXpNFAHklh8PdQsbq00yDQ7aFrfX/7TbxAkybnhExkEeP9ZvKEREEFcZOTXrqf6xfrTacn+sX60dQIb61W+0+4tHO1biJoiR2DAj+tcJoWheIpZvCNjrGmxWdv4YQmW5W4V1vJFgaBDEo+YKQ5Y7gpGAMHrXoVFUUchq1prd1eaD4ij0nN5pk1wk2mpcoWkhkBQMrkqm75Y32nAwSM5HOW+n+MNJ8LX76Pp6tq+uarLc3IjuI82ELYUFC5CvII0Qf3QxJ5AwfQ6KAMPwhZf2d4djtBo8ukiJ2HkzTpM8hPJkZ1J3MxJJJOSck1vfwD602nfwD60Acp4lsNUg8UaR4i0bT/AO02s7e5tLi0WdY5GSUxsGQuQuQ0Qzkjhj1IAo8LadquhaZDHcWKy3Gp6jc3t/tuBtshKzyADj58ZROOpy3SupopCPNrfwxr6WFp4VbT410211z+0Dqf2hNslut0bpUCD5hJuwh4C4GQx6VP4l0XU9e8RW01h4XXTtSt7uMJ4ia4iylukgYgBG8xtybl2MAPmOT3r0Kii4Cj7w+tZMn+sb6mtYfeH1rJk/1jfU1nPYzmedab4Z1mKz0Hw5Lp8cOn6JqAuDqHmoyzRRlzEqIDuDElQ2QAMHGc11V/d6s2jXnl6K0s/mvDFBHdJmSPkLJlsAZHO3qK2aKi5FzhdP0W8n+FVjo2veHZpLnToLaBbeG9RJXeJUAljkVgEIIyPmB4Prza8CeF7jRb3WdVvYpLebVZIv3E901zKqxqVDSSkncxJY4HAXaB0rsKKLhcvWX+of8A3v6VgeK9N1CTVNC1rSbX7dLpVzI0toJFRpYpImRthYhdwJU8kAgHmt+y/wBQ/wDvf0qetY7GsdjlPD9hq+kRX17Lpsb3es6v9puIBcj/AEWEqkYJbGGISNSVHckA96wtR8L669jrXhm2sEew1jVftn9ptMm2GKSRZJVMeQ5cEMFxxyDkYxXpFFUUeeeO9E1XxHdtDpfhhItThZFsPEcl1Ev2TkMXXBMnGW+XGD34NehqMYBOfc96KB1oAkb7x+tebHwxrpsT4SbT1OknWv7Q/tT7Qm3yPtf2ry9n3jJuynTbjnPavSW+8frSUxnK+KNP1fW9Lc21hHHdaXqkF3ZRyXAxeJEUc8j7hbMigN3AJ4PEek2erw6zr/ia70lkuL2C3gtdOE8Zl2Qhz8z52AlpW4BIAUcnOB11FAHHfDiz1nS9FuLDW9IewYXlzco7XEcgcTTySADYTggMAc9+ldif9WfqKKD/AKs/UUAc14w0q91C30q80uEXF1pOox3qW5kCecAjxsoY8A7ZGIzxkDNUdGs9csrjXtfn0tTe6rdQCHTjcqGigQLHl3GV3Y3vtXI6DJJrsKKQjzvWvD/iCNvFek6Vp63Vn4obcL43KoLIyQLBIXU/McBAy7Qc5wcYzUfi/wCHmr3lhqr6FrMhe8jtoVtJIIztjiK4QSNyo4Z8f3mb1r0iigCK1jlitIY7ib7RMiKskxUL5jActgcDJ5wKxfhr/wAk/wBP/wB+f/0e9b9YHw1/5J/p/wDvz/8Ao96qI0dTRRRVFHN/Ef8A5JZ4r/7At5/6IevmzFfSfxH/AOSWeK/+wLef+iHr5w21y4joeJmv2Pn+hHijFSbaNtcx4p1fwmGPirYf9edz/wCyV9EV88fCgY+Klh/153P/ALJX0PXdR+BH02X/AO7r5/mFFFFaneFFFFABRRRQAUUUUAFFFFABRRRQAUUUUAFFFFABRRRQAUUUUAFFFFAHnfhjrrf/AGG73/0c1blZ/g6wFxFrchl2/wDE8vhjbn/lsfeui/skf89//HP/AK9csoScmzllCTkzNorS/skf89//ABz/AOvR/ZI/57/+Of8A16n2chezkZtXNN/4+j/uGpv7JH/Pf/xz/wCvU1rYC3lL+bu+UjG3H9acYSTHGEkyain+WP736UeWP736VvY3GUU/yx/e/Sjyx/e/SiwDK+b/ANor/koOn/8AYKj/APR01fSflj+9+leb/EX4Qjx94gt9U/tz+z/JtFtvK+x+buw7tuzvX+/jGO1Jp2MMRCU4WifLlFe7/wDDNI/6G3/ym/8A22j/AIZpH/Q2/wDlN/8AttRys876tV7fkeEUV7v/AMM0j/obf/Kb/wDbaP8Ahmkf9Db/AOU3/wC20crD6tV7fkcJ8E/+Sw6J/wBvH/pPJX1fXkfhT4MReAfEcPiebxE15HpsU0jwCw2FgYnU8+YegOenatD/AIX74K/vaj/4Cj/4qrWi1O2h+5hapoemUV5n/wAL98Ff3tR/8BR/8VR/wv3wV/e1H/wFH/xVO6N/bU/5j0yivM/+F++Cv72o/wDgKP8A4qj/AIX74K/vaj/4Cj/4qi6D21P+Y9Lk6LTKzvDfiGw8W6DDq2lGX7LKzKnmptY7Tg8Z9RWr5Y/vfpRYvfVEdFSeWP736UeWP736UrMLEdOT/WL9ad5Y/vfpSrGAwO7v6U0mOw2ijK/3j+VGV/vH8qYwooyv94/lRlf7x/KgAp38A+tNyv8AeP5U75Sg5PX0oAbRS/L6n8qPl9T+VIQlFL8vqfyo+X1P5UAA+8PrWTJ/rG+prXG3cOT+VVGsVLk+b1P93/69TKLa0IlFvYo0Vd+wL/z2/wDHP/r0fYF/57f+Of8A16z5JEckilRV37Av/Pb/AMc/+vR9gX/nt/45/wDXo5JBySFsv9Q/+9/Sp6ILcRRkb85Oc7af5Y/vfpWqTsapNIZRT/LH979KPLH979KdhjKB1p/lj+9+lGwf3v0osArfeP1pKeQNx5/SkwPX9KYxtFOwPX9KMD1/SgBtB/1Z+op2B6/pRtBU8/pQBFRT/LH979KPLH979KVhDKKf5Y/vfpR5Y/vfpRYBlYHw1/5J/p/+/P8A+j3rovLH979K534a/wDJP7D/AH5//R71URo6miiiqKOb+I//ACSzxX/2Bbz/ANEPXzptr6L+I/8AySzxX/2Bbz/0Q9fPG2uXEdDxc1+x8/0I9tG2pNtG2uU8Q6f4VjHxU0//AK87n/2SvoSvn34WjHxU0/8A687n/wBkr6Crvo/Aj6fL/wDd18/zCiiitTuCiiigAooooAKKKKACiiigAooooAKKKKACiiigAooooAKKKKACiiigDkvA3/Hprf8A2HL7/wBHGunrmPA3/Hprf/Ycvv8A0ca6eoZIUUUUAFKO/wBKSlHf6UAJRRRQAUUUUAFK3b6UlK3b6UANooooAKKKKAM7xF/yK2rf9eU3/otq+Ja+2vEX/Irat/15Tf8Aotq+Jazmebjd4hRRRUHAFFFFAH1X8Dv+SS6d/wBdZ/8A0Y1eg1598Dv+SS6d/wBdZ/8A0Y1eg1stj3KX8OPoFFFFM1ClX7wpKVfvCgCGiiipICiiigAp4/1Y+tMp4/1Y+tMaEooopDCiiigBV+8PrSnqaRfvD60p6mmAlFFFMYUUUUAPX7n40lKv3PxpKACiiigApaSloAD94/WkpT94/WkoAKKKKAClH3TSUo+6aAEooooAKKKKACuc+Gv/ACT/AE//AH5//R710dc58Nf+Sf6f/vz/APo96aGjqaKKKoZzfxH/AOSWeK/+wLef+iHr58219B/Ef/klniv/ALAt5/6Ievn/ABXJiOh4ua/Y+f6DNtG2n4oxXKeIdJ8MBj4p6f8A9edz/wCyV9AV4D8Mh/xdPTv+vO5/9kr36u+j8CPp8v8A93Xz/MKKKK2O4KKKKACiiigAooooAKKKKACuJ1Hx1Jo3jXWNOuLG+v7WzsLa7C2MCsYUYzeY7kkZHyLhRljzgHmu2rAfw9M2ua/fCaPbqlhBaxrg5Ro/OyT7HzR+RoAbq3i9NMskvodG1PUrE2wunurNIikcZyQcPIrMcDOEDHketMuPGlsLy3tdK03UNYmns477FkkYCQOSFctI6Dna3AJPHSuWu/hbeTWunxmfS7xoNEg0rOoWpmFm0akNPbjOAzBu4B+VTkj5as6n8PdRvfC+laPE+lJNZaXFZJqhikW7tZETaZInVgcZAIXIGeuelAHolYGn+LYdW1aS10zTNQubSKd7d9TRIxbCRCQyjLh2wwK7gpXI601/G3huxmayudaj+0QMYZA4Jbcpwc4GM5Haqnhrw7rfhi4fTrW8sZ9B+0zXEQkicXMQkdpDHkNtI3McHjA4wetAFvwr4ytfGFv9r0vTtQjsSG2XdzEqRyMrbWVRuLEg5GcbeDgmrOv+JINANpEbS81C8vZCltZWSK0smBlj8zKqqB1ZiAMj1FZujvYfD7wdpel69qUMZiVo1l2kK5yTx+dQXyp4rvtO1/wbqdnLfaQ0sWLhGMUiSqu9DjDKfkQgjPTGDmgDUuvEtxbafb3Q8N6xK0wYyQIIA8AU4O/dKF56gKWz2zVC4+IulrBob6bZ6hqr69avdWEVlEpaRU8ssDvZQhAkB+YgfKRnOAc/xB4L1jxBeadqN9/YV5dW9tJC1rf2jz2sMjOGE0aFuXAG0k4z2K9Ks+F/A02gf8IyJryOf+xNNurNiE5kaaSFgw9MCIg/WgCh4m+Jf2azZdFsb4Eara6eNQeBGtmkNwiTRg7ichfMXdt27hgEnFdrqus6bodoLrWb+3sLdnCCW5lCKWIJAye/B/KuIvPAGuyWEmjWWr2UWi/2wupoj27mbH2oXDQlt2Mb9xDYz0GO9eiUAcb8O7u3v9J1a6sp47i3m1q9eOWJgyupmOCCOorE1u41PU9W8Z3EOr3unr4ct4hYx28myNpBB57PIMYcHeqEHgBTjBOR0Hgb/j01v/sOX3/o40mt+A7HWry/m+339jHqkKwanb2jRhL1FBUByyFlO0lSUKkrx2BE9SR2v+JZ9P8AhbfeJbaIJcR6U15FG3IV/L3AH1AJFc9e3+peB9UgH9rXerxXOhXt7Mt4S+Z7ZY28xcY2q3mEFBgcLgDmuzuNAt7p7qOeWZrC5sRYtp4IECp82SFAyGIbb16KOKy9G8C22m3P2jUNT1DWZEsmsIDfsmIbdiCyAIqgk7VBY5J2jmkBh6JLqek634RabWbzUV8QWspvkuZN6CUQiZXjGP3YHzLtHGCO4yfRR3+lczofgm20W/tLl9Sv9QGn2xtNPiu2jK2kRCghdqKWJCKNzFjgYzySemHf6UAc/wCOdYudB8D6pqGnkLdxw7IHK7gkjsEViO4BYHHtWVoqXOgfEI+H/wC1b/UrS70o3q/b5vOeKSOVY2IbGQGDr8vQFTgDJrqdW0u21rR7vTL5Wa3u4mikCnBwRjIPYjqDWPp/g/7HPeXdzrWpX+oXFr9jivbgxiS2i5ICBEVc5O4sQSSBngAUAUNW+2a78RjoA1K90+xtNJW9Y2UvlPLLJKyKS2OiCNjt6EuMg4rB0fVtV8bt4c0291K70+OXSJ727m0+XynuJElWFSH6heWcgcEle3Xr9R8IJe3VreWusalp+oW9r9ja9tzE0k8XBw/mIyk5G4EAEEnsSKik8C2ENnpMWhXNxos2kW7WtpcWgRmWFgoZGEisrZKq2SM7hn1yAO8Aane6p4Phl1OTz7m3uLm0ecjmbyZ3iDnHGSEycd810rdvpWfoei2nh7Q7bStOD/Z7ZcAyNuZySSzMe7MxJJ9Sa0G7fSgDhdTGoeIfGmt6ZFq93p1vpOmwSQLaSeWWnmMp8xyPvBREuFPBy2Qa09C8SzXnwtsfEt3FunfSVvZU6bm8rcfoCf50/WvCEWq6nJf2uqX2lXFzbC0u3sjH/pEILFVO9W2kF2wy4I3Hnpi/b6Fb2k1strJJFYWtibKPTlI8jZ8uCVIySFXaOehNAHF6BPqemal4OurrWb7UW8S27/bop5A8Ky/ZzOHjGB5YBVlCjghhnkA1reGFvLP4heJdNuNWvtRt4rSxuIheSK3ltI1wG2hVAAOxeAO1WdE8C22jahZXDapqF9FpsLQabbXToUs0YAHbtUFjtG0FiSF4HU5XTvB1xp/iy515vEuqXMl0qRz28sVsI5ETf5a/LEGAUyMcggnuTQBreIv+RW1b/rym/wDRbV8TxOI5kdkWQKwJR84b2OOcV9seIv8AkVtW/wCvKb/0W1fEyMFdWZQ4ByVbOD7cc1nM83G7xOp8apavZ+HLy1sLWxa80zzZo7VCqFhPKmcEk9FHftTNEjt9O8F6lrr2lteXa31vZQLcoHSIOkrs+w8MT5YAz05qHXfFUOuafY2h0GwshYoIoJLeScsse5mKfPIwILOTkjPvTYPFRil1GOXSbGbTtQlWZ9PIdIo3XOwoVYMuAzDryCc9sT1OVuPNc6fUNK0zRxrmuWum27hbTT5rS1uELx27XUYdiVPDbcMAGyBuHoK5nxhZ2tve6fc2UEdsmoadDdvBFnbG7AhsA9ASpOO2aF8YXj6lqNzfWtrew6kix3FnKrLFtTHlhdrBl2BQFwegwcgms7WdYuNc1D7VdLHHtjSGKGEEJDGihVRQSTgADqST1JJOaHYJSi1ofTnwO/5JLp3/AF1n/wDRjVoa0bnXPiFF4e/tK80+zt9LN8/2GUxSSyNIY1y4/hUKxwOpIzkcVn/A7/kkunf9dZ//AEY1dJrXhdNW1OHUrTUr3SdQiga2+1WfllnhZlYoRIjL1XIOMg/Ug6rY9ej/AA4+hD4C1a81nwLp99qknm3eJIppFTHmNHI0ZbA9dmcD14rkdD1bVv7L8G+KJ9Su5X8Q3ix3lk8u6FUmSR0CLgbPLIUcckZzuODXd6f4et9Jt9KtdNuLm3s9MiaJLZXBWYEAAyEjLEYJzkckk5rK0z4f2OmahZyJf309jp00k+n6ZK0ZgtHcEZXCBzgO4Xcx2hjjthmpy9lqmqf2ZpPjF9XvTLqOuiyl095Qbb7PJdG3RFjwMMq7G3D5iQ2eCRXqi/eFclF8PrCLVIJlvr3+z7e+bUotKygt0uWJbfwu/AZi4XdtDHOOgHWr94UAUdQujZaZdXQTzDBC8gQfxbQTj9K878Pz6rp9x4L1O51m91B/EyEX0E8gaJXe2e4DRJ0QKU24HG0+telsqupVwGVhggjIIrl9G8CWejX9hMNQvbu30qJ4tMtLgp5dmrjB2lVDMQvygsTheO5NIkb4smurvxBoGgwXtxY2+oPPJczWr+XKyxICEV/4clgTjnCnBFc08viXUfDs+n2E2p38uk+IntJZbS5SC5mtVQsMyOVUkb0BPfbnrXX3fhJbqxsVOr6gt/p80k9tqO5GmRnDBgQylWXDldpXoF7jNJH4Taz0RLHR9b1Cwn+0Pcy3qrDJJcSOxZzIHQock9lGMDGAMUAM8C6rbanoMqQNqIns7l7e7h1OTzLiGUYJRmBIPDAggkYIrqB/qx9axPDfhu18M6fLb209xdS3M7XN1dXThpbiVsAu2AB0VRgAAACtsf6sfWgDkfEct3qHjfRPD0V7c2VnPaXV5dNayGOSXyzEiIHHKjMpJwQflHbrY8Cald6hoVzFqFwbqfT9RurA3LKA0yxSsis2ON2AM47g/Srev+G01y4sLyHULvTL/T3ZoLu02FgrjDoVdWVlYAdR1UEdKbpnhaHSLHTbSwv71IbKeSeTMgLXjybyxlOOcs5fjHIHYYoGcPBqWsf2PZeM21S9kluteFo+nb/9HW2e7NsIxGP4gMNu+8WzWj4rmu9G8XaVLY3euRG71CBJriaQvpyxvIFaJl/hYg7VwB8xGW652k8BWMeqRTC+vP7Phvm1KPS8p5C3JJbfnbvxuYuF3bQxzjoAuo+Cm1m+Dav4g1S801bpbsaWwgWEsrBkVisYdkVgCFLdhnNAHUr94fWlPU0i/eH1pT1NAHlej6rqx0Xwx4qk1a9nm1vVFiubR5AYBDKzhEROilMJ8w5ODnOeOq8a3l4tx4f0mxupbMatqYt554Th1iWGSVlU4+Ut5YXPUAnHPIWx8B2NjqFrKL6+msrK5kurPTZTGYLaV92WXCBzje+0MxC7uBwuLOo+E4tT017a41PUPOW+N9a3YkXzbSTJKiPKldoBK7WByCQc5pjMXSYbnUrjxF4cvNb1BLfR7+Ly7uOfZOYXgSXy3l6kAufmzuIAye5t+ALm9u7XU5mvLi+0Y3e3SLm7bdLNCEUM27HzIX3bWOSw56EUl78O7a98M32kPrGpB9Suxd317ujMty2FG1gU2bNqKuzbjauMYJzuaHpV3pNs8N3rN1qg48s3MMEflADG0CKNBj6g0Aay/c/GuT8YXFzPrXh3Qbe7uLKHVLmX7TPavsl8uKFn2K2Ply2zJGDgEd66xfufjWRr/h6DXo7RmnmtLuxn+0Wl3Bt3wvtKn7wIIKsQQRgg/Q0AZ3ge7u5LfWNNvbua9Okam9lFczkGSWPy45F3EAbiBJtz1O3nnJrk9R1TV/7H8R+LE1a9jm0vWGtrayRwIPIilSNkZOjF/nO4/MNwxgDns9M8Iw6Tp0dta6nqHmm/N/d3RkXzbyQnLCTC42ngbVAG1QBiq914CsbvUbiV7++WwurtL650tWj+zzTrtIY5TeASisVDBSRyOWyAcxrup6tNp/jbxDb6tcwP4buGjsbSF9sWIYI5X8xf4y5dhz0GMYPNemQSedbxy7Su9Q209RkdK5rUvAdlqWoX0hvry3stTdH1LT4jH5N4yhVy2VLLlVVWCsNwHPfPU0AB+8frXln9saq/h8+M/wC17oOviD7ILEf6kWv277J5Zj/vY+fd97PHA4r1M/eP1rlT4CtG1g3L6nqBsDfDUv7KDoIPtIbfvyF3kb8Pt3bdwzjtQA/x3qF3Z6NZW1hPJay6lqVtYNcRHDxJJIA5UkEBtoYA9iQe1crqWs6r4YXxLodtqN5crA2m/Y7y5cSzWwvJzC3zEfNsKl13Z5ODwAK7PUPCtvq2m39lqV7eTpdXa3cLlxvs3XYU8o4+UKyBhnPJbPBxVOPwDp8mm6xb6teXmp3GssjXd5MypJ+7A8oIEUKgQjK4HXJOc0ARaG9zpPj6/wDDzX9zfWbadDfQG7lMkkLGR0ddx5KnapGehyOmAOvH3TWHoXhlNGvrrULjULvVNRu444pbu88sN5ce7agEaqoALMenJJJrcH3TQBy3jm9vIbfRtOsLiW0bVtVis5biFgrxx7HkfaT0JERXPUbuOcUnhG5uYNc8Q6FPc3F5DplxEbae6l8yTy5YlfYzYydrbsE5OCMk9Tra9oVt4gsY7e5kmgkgmS4t7m3IEkEq/dddwIzyRggggkEEGqNn4RjstPvIo9UvzfX91HdXepbo1uJmQphcqgULsQJgL90nuSaAOT1/UNWurXx1rdrrF1Zv4ZLLYW0TARForZJ2Mi/xhy5XB6AcYPNPvrzU/EV94mng1e90w6JYQyWcNs+xRM8HnF5Fx+8H3V2njAbjPI6DWfANprWpXs0mp6jb2epqi6lYQOgivAgAG4lS65UBG2MuV4qTW/A9rrN/eXKalf6eNSgS31GK0ZAt3GoYAMWQlThiu5CpxxngEAGt4e1B9X8M6XqUyhJLyzinZQOAXQMR+tZnw1/5J/p/+/P/AOj3roYoo4IUhhRUjjUKiKMBQBgAVz3w1/5J/p/+/P8A+j3poaOpoooqhnN/Ef8A5JZ4r/7At5/6IevAsV778R/+SWeK/wDsC3n/AKIevBttcmJ6Hi5r9j5/oR4oxUm2jbXIeIdD8NBj4pad/wBedz/JK98rwX4bDHxS03/rzuf5JXvVehQ+BH0+X/7uvn+YUUUVsdwUUUUAFFFFABRRRQAUUUUAFFFFABRRRQAUUUUAFFFFABRRRQAUUUUAcl4G/wCPTW/+w5ff+jjXT1zHgb/j01v/ALDl9/6ONdPUMkKKKKAClHf6UlKO/wBKAEooooAKKKKAClbt9KSlbt9KAG0UUUAFFFFAGd4i/wCRW1b/AK8pv/RbV8S19teIv+RW1b/rym/9FtXxLWczzcbvEKKKKg4AooooA+q/gd/ySXTv+us//oxq9Brz74Hf8kl07/rrP/6MavQa2Wx7lL+HH0CiiimahSr94UlKv3hQBDRRRUkBRRRQAU8f6sfWmU8f6sfWmNCUUUUhhRRRQAq/eH1pT1NIv3h9aU9TTASiiimMKKKKAHr9z8aSlX7n40lABRRRQAUtJS0AB+8frSUp+8frSUAFFFFABSj7ppKUfdNACUUUUAFFFFABXOfDX/kn+n/78/8A6PeujrnPhr/yT/T/APfn/wDR700NHU0UUVQzm/iP/wAks8V/9gW8/wDRD14VivdfiP8A8ks8V/8AYFvP/RD14diuTE9Dxc1+x8/0I8UYqTFGK4zxDd+HIx8UtN/69Ln+SV7xXhPw7GPijpn/AF6XP8kr3avRofw0fT5f/u6+f5hRRRWx3BRRRQAUUUUAFFFFABRRRQAUUUUAFFFFABRRRQAUUUUAFFFFABRRRQB47p3i7UdG1DXbS0WAxjWbxvnQk5Mze9X/APhYes/3LT/v2f8AGuUl/wCQ9r3/AGF7v/0a1OrzKlSam0mfP18RVjVklLqdT/wsPWf7lp/37P8AjR/wsPWf7lp/37P+NctRUe1n3MfrNb+ZnU/8LD1n+5af9+z/AI1teFfFuo6zrJtbtYBH5TP8iEHIx7155XT/AA//AORmP/Xu/wDSrp1JuaTZtQxFWVWKcup6b5h9B+VHmH0H5U2iu890d5h9B+VHmH0H5U2igB3mH0H5UrORjgdPSmUr/wAP0oAPMPoPyo8w+g/Km0UrsVx3mH0H5UeYfQflTaKLsLiuiXUTwTxq8UqFHUjhgRgiuc/4Vr4L/wChZ07/AL8iukj/ANYKfT6Byp7o5j/hWvgv/oWdO/78ij/hWvgv/oWdO/78iunooFyQ7HMf8K18F/8AQs6d/wB+RR/wrTwX/wBCzp3/AH5rp6KA5IdjyH4m+NL34Wf2Rpfg+x0+2s5opZDE8BIU7h0wR6muD/4aE8Zf88dL/wDAZv8A4utr9pL/AJDGg/8AXvL/AOhLXidRJtM82vVnGo4xeh6l/wANCeMv+eOl/wDgM3/xdH/DQnjL/njpf/gM3/xdeW0VPMzD29X+Y9S/4aE8Zf8APHS//AZv/i63PBnxt8U69410rSr6LThb3dysUhjgYNg+h3V4jXU/DL/kqHh//r9T+dNSdy4Vqjklc+mf+EjvP7kP/fB/xo/4SO8/uQ/98H/GsmiuP2k+5r7Wfc1v+EjvP7kP/fB/xo/4SO8/uQ/98H/Gsmij2k+4e1n3Nb/hI7z+5D/3wf8AGtvSb6W9sDLMqbhIV+UYHQf41x1dR4e/5BJ/67N/IVrSnJy1ZtRnJys2au/2X8qN/sv5U2iuq52Dt/sv5Ub/AGX8qbRRcB6v8w4HX0qBrlwxG1evpUq/eH1qo/32+tKTYpN2JftT/wB1fyo+1P8A3V/KoKKjmZHMyf7U/wDdX8qPtT/3V/KoKKOZhzMuRzs0RJC/ex0pfOb0X8qih/1J/wB7+lLWl3Y0TdiTzm9F/Kjzm9F/Ko6KLsLknnN6L+VAlOeg/Ko6UdRRdhcmaQhiMDr6UnmH0H5U1/8AWN9aSmFx/mH0H5UeYfQflTKKAuP8w+g/KlDkqeB2qOnL9xvwoGL5h9B+VHmH0H5U2igB3mH0H5UeYfQflTaKAHeYfQflXPfDX/kn9h/vz/8Ao9636wPhr/yT/T/9+f8A9HvVRGjqaKKKoo5v4j/8ks8V/wDYFvP/AEQ9eJYr234j/wDJLPFf/YFvP/RD14tiuPFdDxc1+x8/0I8UYqTFGK4zxDa+Hwx8UNM/69Lr+SV7nXh3gAY+KGl/9el1/JK9xr0aH8NH02X/AO7r5/mFFFFbneFFFFABRRRQAUVn6/dy6f4b1O8tiBNb2kssZIyAyoSOPqK4/S/EHiW1vdFTWrm0u/7c0qa6EcFuY/ss0aRuFU5O9SHYEnkkAgAEigD0CiuH07xZf3UHw9Zp4WbX7cyXm1R85FmZSV9PnA6fSue0rxJ45vdJ8L6i+p6fjxDePZtD9j4tlCSuJQ275m2wscEYywHbJAPWaK57whqd/fQ6raatNHcXOl6g9mbiOPZ5yiNJFYr0BxIAccZFUvEGpa1deNrDw1ol7Hpay6fNfzXrW4mZtjxxiNVYgDmTJPPQDjNAHVyzRwRmSeRY0GAWdgAMnA5PvT68kiur7x1f+DZ9QubcKZdQSSH7IskLy27tF5oD5+8Acf3dx5r0zXryXTvDmpXtvt862tJZY9wyNyoSM/iKAL9FecaD4o8QxzeFLjVtQtdQt/E1i8vlRWwj+yyrB5w2sGO9doZTnknBGB8opaR4k8X3vhrwlc3Wr2cd94qeJQRaKIrOMQPMxUFsvI4QDB+UEnAGOQD1Smh0ZmVWUsvDAHkfWvNW8W+IhIfDqXtq2pjxANJOrG2/diI232nfsDbfNx8mOBu5x2qrp2q61o+r+IfMu4Lq6bxTptlcXEUO1Xikit0JK5O1trAHHRulAHq1FcBrvjbUtM1XxFaWn2d3tZtMtLQyr8kMl0+wvJgglRkNjIzjGRnNQeMNO8QW2k6JHc+I2uJ31+z/AH6WSR7AWxjAOCM4PP0OaAPRqK4PWtZ13RdejTV9RlsdEiSDbqMWnrMkzk4kE7A/ugTtAwoAznd6dbq9xqdtZq+i6fBf3BcAxT3Rt1C4OTuCNznHGO/WgDxCX/kPa9/2F7v/ANGtVW71fT7C4jgvLuKGWT7qu2CecA+wzxk0+B7iTUdYe+hjt7htUujLFHJ5io3mtkBsDP1wK5XVbm0tZfFkWoyIslxbp5KOQDKnk7QFHf59w+pry5xvUZ87Uhz15Lz/AFOwllSCF5ZmCRxqWZj0AHJNU7TXNNv0lezvI5lhXfIVP3R61AzQSaI+najdLHN9hH2jLAMispUufxDflWdod5JFrx0mDVF1W0jtPM8zCboCGCqhKAA5GSM8/KahR0ZioJxb7GraeINKv7pbazvopZmBIRTyQOtdz8P/APkZj/17v/SvO9N/4mXibUNRLlorP/QIB2B4aU/99bV/4Aa9E+H/APyMx/693/pVwSVRWNaSSrxS8j0mSRIYnlmdY40UszscBQOpJ7Cs3RPE2i+I45H0PUre+EeC/kvkqD0JHXB7HvWT8TYppvhnraQI8mbfMiRglmiDAyDA5PybuKzrXVNNuvigdS0u8t5dNtfDx+2XMMgMMeZlaIMwOBhRMcdgc969A+gOp1jxFpHh+OJ9a1CCyExIj81sFsdSB6DIyegzzUOq+LNB0NbZtW1W2tlukMkLO/EijblgR2+ZeenIrm73V9K0/wCKX9o6ze20GnXnh5RZ3Nw6rC4WZmmAY8HKtCSPQCqvh28fTvhPodo3iOx8O3bWvmQyX6IxW3ydg2O69FKcnpjBoA9Atbq3vrOG7spo7i3nQSRSxMGV1IyCCOoIqd/4fpXJfC+SOT4ZaL5MBhjWFkUbtwkCuy+YDgZV8bxwOGHFda/8P0oAytW8SaLoUkSazqlrZPMCyLPKFLAYyeewyOenI9a0gQQCDkHoRXAX2o6ZpXxG8Sv4nnt7e2uNDtvIe5ZVVoVafzlBPu65HfK8VY8OyXMPwn0vRWn8vX28Oh47dmIlBESrnB5yGZQfQmkI6PTfE+h6xey2el6ra3dxFu3xwyhiNp2k+4B4yO9Nh8V6Dc662jW+q2suoqzI1vG+5gyjLKccBgOSOtcFoN3p99c/Da10CaKSWysJjcJFgvbRC1EbCQfw/vTGCD1Yexxk/DzVtR0PTvCWnDX4725vLqS0v9D8mPzLYqshklJH7wMHUFi5IO/tkUWCx7ZH/rBTyQoJJwBySe1Mj/1grH8bQXdz4A8QQabv+2S6ZcpAI87i5iYLjHOc9Ka2GtifSvE+ia5cz2+j6pbXksHMiQyBiBnG4eozxkcVLq2uaXoUEc2s38FlHK+yMzOF3tgnA9eAT9ATXDaRe6RqXjTwg3hqa2njsdDuBctbOpFvCRCI0cg8fMpwp/uv6Grt/rWmn4keG9XnvLY6Tc6ReLZ3jSL5RlLwNkMeATGrYPcBqYzqbzxHo+n6PFqt3qVvHYz7fJn3grLuGV24+9kc8Z4FW7K+tdSsYrzT7iO5tpl3RyxMGVx6givJvD1xBY3Xg/U72RYdIl1HWfsdxIcRqJZXa3+Y4ADRh9p7gjHWuy+HTifTNYubZt9jca1dyWbA5Vo9+CV7bS4kIxwc570AeW/tJf8AIY0H/r3l/wDQlryPTdB1bWIbibS9OubqK2XdPJFEWWMYz8x6Dofyr1z9pL/kMaD/ANe8v/oS1wXw2sb668VLJa2txNDFbXXmNHGzKha2lC5I4BPQetZP4jyKy5q7RyFaVx4d1i00mPU7nTriKykxtmZCBz0J9AexPXtUD6XfRC5aayuEW0ZVud0ZXyixwA2R8pPbNek65Dcx6/471S7jkj0e7sNtrMyERThpIvs6ocYbCgEAdAp6YNJIxjC6dzz1/DusJo66q+m3IsGXeLgxnbt3bQ2fTPGema1/hl/yVDw//wBfqfzrqryKd/Euu6rslGhv4a2RTspETKbZEiRT0yJdo2jup9DXK/DL/kqHh/8A6/U/nTtZlKKjNep9B1QtNe0q/vpLOy1C3nuYt2+KOQFhtOG/I8H0PFWL5JpNOuUtSVmaJhGQcENg4/WuC0C4sryDwFb6XKn2myhb7TDGwLQxrbskgcDp+92Dnvz2rhUbq5rGN1c7fU9Z07Roo5NUvIrVZW2oZDjccE4H4AmorjxFpFrp0N/PqNuLSc4inD7kc89CPofyqK/1e0m0kPY63ZWTzllguZirqSjYfClhuxgg88Vh+EdXttM8A3upXU3nW9rcXUj3aklboiRi0iD0ZiQAOOwz1LUdLjUdLnTaXrOna3byT6Tdx3UUb+W7xnIVsA4+uCPzrtfD3/IJP/XZv5CvPfCOn3Gn+GbYahn7fc5urzI5E0h3uPoCdo9lFeheHv8AkEn/AK7N/IVrStz6GtGyqaD9Y13S/D9mLrWr6CyhZtitK+N7YJ2qOpOATgdgT2qzZ3ttqNlFd2M8dxbzKHjljYMrg9wRXK+I7mDTviP4bv8AVbiK308Wl7AkszBES4YwlcseASiSAfiO9RfDu9tIPDgZpYre31TV76TS42YL50TTSSJsHoUBYAfw+1dZ3HRL4l0RtbOjrqlqdRDbTaiUb923dtx67ecdcc0y+8VaFpmqxaZfapbQ3spUJbs/z5Y4XIHTJBAz17V5tZTQS+EtO0YToPEMPi7fNAHXzt4v2lkkIByR5BZs9CpA7iqsetat4fvfE94muRpqieJhHHojQR7r+KR4xGCSvmMxjYBSp2gJyMA4dgse1r94fWqj/fb61bX7w+tVH++31qJbEy2Mq38R6PdaxJpVtqVvJfRlg0Cvlsr94D1IzyByO9T6pq+naHYPe6xfW9japw01xIEXPYZPf26mvL9DuoZfC3gjSbWZP7Ztdaxc2+7EsTR+cbgsByON2c9dw9a9E1TWdI/sO9uZr+zWG3aSB5ZJVCxyqCpXJ6MDkYqWibE9z4g0m00OPWbm/hj02VI3S6LfIyvjYQffIx9afpOtadrto1zpF3Hdwo5jZ4zwGABx+RH51xGiNo+tfBbw3bzeIINPWC107/So54sw3ESxyBPnyu7KfdIP0rX8C65d6rPrVpPqUetWunXSRW2qxoqi4BjVmU7BsLIxwSuByOAQaLBY7aH/AFJ/3v6VV1PVbDRrE3mq3cVpbhlXzJWwNxOAB6kntVqH/Un/AHv6VyPjAxQeK/CN7qDxx6fb3sweSZsJHK0DiInPHXcAT3Ix1q1sWtjp7DULPVLJLzTbmK6t5M7ZYmDKcHB5HvVOXxLosGuJo82p2yai+AtuZBuyRkL7EjkDqRzXO+CNRsoI9evDcxx6fqHiKVdPkLALOWWNW2H+LdMsuCOvJrl9SurePwr4r0dpli12bxHm3gDATNJJPG1u6jqRs2HPYKfSnYZ6PqvivQdEvobPVtVtrW5mG5IXf5tuQNxHYZOMnitgdRXjGs6vqvh7xB451CLxBDYX9vcwzWWnSQo76inkxhI8MCxQtlVEZBDM5PWvZYizRoZF2uQCy+h9KAJX/wBY31rJ/wCEm0T+3Bow1W0OpElRaiUb9wXcVx/e2/Nt6456VrP/AKxvrXjouIF8H/2L50a+JD4u3iDd++L/ANo+b5m3rt8jLZ6baYHrV7fWum2M17qFxHbW0CF5ZpWCqijqSTWcnizQZNFudXTVrVtPtTie4Eg2xHjhvQ8jg+tYHj+8tL3RbV45oZ7TTdesxqg3grCqyIzb+wC7kY56Dmsi7j0jX9W8cmbVorHRZ006CXUUlQRi4UsWw7ZXdhoF5yM4GOMUAd5o/iDSvEEUsmjX0V4kTBXaMnCk9q1F+434Vw/gnW7298R65pb65H4isLBYHh1JUjBDvv3QsYgEZlCqeBwHGa7hfuN+FAdSrqGo2elWMl5qVzFa20Qy8srBVH/1+2O9M0vVrDW7EXmk3cV3bliu+Ns4YdQfQj0PNc38Q5I7aPw5eXbBLC11yCW7dsBUXZIEZiegEjRnPriqvhnVtOj8ReMdXjvYF0eTULaJLlZFMLz+THG21hwSWKIf9oY65oGdNeeJdE07VIdNvtUtYL2YqEt3lAc7jheO2SCBnqQcVHf+LfD+laoNO1LWLO1uyqt5U0oUgNnbkngZwcZ61534ju7Sz0n4m6fq0yJqmoPmwhZsSXCtaxJb+WvVsShlG3+LNa/xJ1NB4JvLSbxPp1hJBZldSspSrS3IZAfLUht0bMMgEKxO4YHSiwHotYHw1/5J/p/+/P8A+j3rW012l0q0keF7dmgRjDISWjJUfKc85HTmsn4a/wDJP9P/AN+f/wBHvVRGjqaKKKoo5v4j/wDJLPFf/YFvP/RD141ivZfiP/ySzxX/ANgW8/8ARD149trixXQ8bNPsfP8AQjxRipNtG2uM8axa8Latp2ifETS7vV723sbf7Ncr5txIEXJCYGTXtF5r9lB4WutftZo72yt7WS6V4JAyyKiljhunavJfAox8T9K/69Lr+SV7HqenwatpN3p12GNveQPBKFODtdSpx+Br0sP/AA0fSYD/AHdfP8zktC1zxDbaxolv4kubO7j1+1kmiFramH7JKqrJ5WS5LrtZhkgHKZ74Enjzxm/hu+0nTLaeG1m1LzXa4ktpLlo449u7ZDH80jkyLgdBgkggGl0LwlrUGraTc+ItUtruPQ7aS3sxbwsjTlgq+dLuJw2xcYXj5mOe1S6n4b1y7fQtXivbB9f0lZUZpIWW3nSUAOuAdy/dQg5P3enNbncbHhjUk1bw5a3kepwaqHDA3cEJhVyGII2EkqRjBBPUHgdKKg8JeH5vDujzQXl2Lu7u7ua9uZETYgklcuyouSQozgZJPfvRQBuUUUUARXVtDe2c1rdJ5kM8bRyITjcpGCOPY1WGi6eLmwuBbL5unRtFatuP7pWABA55yFHX0q9RQBgWPgbw5puqwalZ6XHHd27M0EhkdvI3KVZUBJCKQT8qgDvjNXLfw5pNrZ6ba29mqQ6XKZrNNzHyX2umRzz8sjjnPWtOigDGubW/0uaV/DWlWE7XszXF211fyQEybVUEYikz8qgdsYHXNVbzw1B4qs4j4w0q3iuoHYQmw1CYsqEDI81ViYA916HAznt0dFAGXD4e0zT7exGm6fBEdLheOxjUlEiDDBHGeDgZOCe9Zl9H4q1bTLvTrvStHtYru3kgaaLVZZWTchGQpt1zyemRXT0UAcx4a8A6J4citZILRWvYbNbUymR2VBgb/LRmKxhiMkIBnvV+fwnodz4etdDmsFOn2YQW0QdgYNgwhRwdysB0YHPvWxRQBhHwX4fOg/2MdNX7F532jAkfzPNznzfNzv35/j3bvelh8GeH4NMvdPj02MWt9Is1yhdiZJBtw5JOd3yKcg5yM9ea3KKAMC28DeG7Wxv7OLSo2h1JVW8ErtIbjb90uzEliM9Sc+/FOTwXoSaPLpbWs0tpI6SFJ7uaVkZCChR2csm0gEbSMHpW7RQBgyeCtDluYZpbe4k8ry8RPfTmJymNheMvscjaOWBOeetb1FFAHgMv/Ie17/sL3f8A6NamyQRSujyxI7RnKFlBKn1HpTpf+Q9r3/YXu/8A0a1Oryavxs+ZxH8aXqNMaFiSiksNpJHUelMht4bZClvDHEpOSI1CjP4VLRWZgIqhRhQAMk8Dua6j4f8A/IzH/r3f+lcxXT/D/wD5GY/9e7/0rSl8aN8P/Gj6npdQR2VrDBJDDbQxxSEl41jAVieuR3zU9FeifRkE9jaXUCwXVrDNEhBWOSMMqkdCAfSi6sbS9CC9tYbgIcqJYw+0+oz0qeigBAAAABgDoBTn/h+lJSv/AA/SmIrz2lvctG1zBFMY23IZEDbD6jPQ1J5aGUSlF8wKVD45A9M+nAp1FSIiitYIJZZIYI45JjmR0QAufUnvTY7G0ivJLuK1hS5lGJJljAdx6FupqeigB0f+sFPpkf8ArBT6pbFLYhgsrW2837NbQw+c26Ty4wu8+px1NEtlaz2y281tDJAmNsTxgquOmB04qaimMZLbwz27QTxJJCww0bqCpHpg05EWKNUjVURQAqqMAAdgKWigD5//AGkv+QxoP/XvL/6EteMwXdza7vs1xLDuxu8tyufrivZv2kv+QxoP/XvL/wChLXidZS3PGxP8Vkr3M8nmeZNI3mkGTc5O8jpn1oe6uJLdIJJ5Hhj+5Gzkqv0HQVFRUnOSG4ma3W3aaQwq25Yyx2g+uOma6X4Zf8lQ8P8A/X6n865aup+GX/JUPD//AF+p/Omty6fxo+g6jjt4IpXkihjSSQ5d1UAt9T3qSiuA2IJbCzniWOe0gkjQ5VHjBC/QGpDDEYREY0MYAATaMADoMU+igArqPD3/ACCT/wBdm/kK5euo8Pf8gk/9dm/kK2o/Eb0PjL1xawXkJhu4I54m6pKgZT+BpfJi/d/u0/df6v5R8nGOPTjipKK7DuIRaW4ujciCIXBXaZdg3kemeuKVrWB7lLh4I2njBCSlAWUHqAeoqWigBV+8PrVR/vt9atr94fWqj/fb60pbClsQi2gW5a5WGMTsu1pQg3EehPXFI9pbSQtFJbxPGzFmRkBBOc5I9c1LRUEFU6ZYNbG2axtjAW3GIwrtJ9cYxmp4IIraFYbaJIYl+6kahVH0Ap9FAFiH/Un/AHv6U2aGK4haK4jSWNxhkdQysPcGnQ/6k/739KWtFsaLYZ5EPlxp5SbI8bF2jCY6YHbFI1tA9ylw8EbTxghJSgLKD1APUVJRQBDLZWs1xHcTW0Mk0X+rkeMFk+h6ipx1FJSjqKBj3/1jfWoBaW4ujciCIXBXaZdg3kemeuKnf/WN9aSqAjEMQWQCNAJDlxtHznGOfXgYpgsbQWf2MWsItsY8gRjZj029KnopCIre1gtIRFaQRwRjokSBR+QqdfuN+FNpy/cb8KY0MkjSaNo5UV0YYZWGQR9KijsrWG1S1htoY7dMbYVjARcHIwOg55qeikMhks7aa4SeW3ieaP7kjICy/Q9RTJNNsZbxbuWyt3uVxtmaJS4x0w2M1ZopgFYHw1/5J/p/+/P/AOj3rfrA+Gv/ACT/AE//AH5//R71URo6miiiqKOb+I//ACSzxX/2Bbz/ANEPXkWK9d+I/wDySzxX/wBgW8/9EPXk22uLFdDyMz+x8/0I8UYqTbRtriPHsaXgcY+J+lf9el1/JK9rrxbwUMfE7Sf+vW6/kle016eH/ho+iwP8BfMKKKK3O0KKKKACiiigAooooAKKKKACiiigAooooAKKKKACiiigAooooAKKKKAPDodG1K+1fXZrOxnmj/ti8G9EJGfNarH/AAjWtf8AQLuv+/RrrPCf3Nb/AOw3e/8Ao5q364J04uTZ5VXCQlNybPNP+Ea1r/oF3X/fo0f8I1rX/QLuv+/Rr0uip9lEz+pQ7s80/wCEa1r/AKBd1/36NdD4J0bUrLxAZbuxnhj8lxudCBniuqqzY/8AHwf901UKcVJM0p4SEZqSZc2N/dNGxv7pp9FdZ6QzY3900bG/umn0UAM2N/dNKyN8vB6U6hu30pgR7G/un8qNjf3T+VOopWCw3Y390/lRsb+6fyp1FFgsEaMHGQaftPpTV6/gajphsTbT6UbT6VDRSC5NtPpRtPpUNFAXPGfj54X1zX9U0aTRdJu75IoZVkNvEX2ksMZxXkn/AArjxn/0LGqf+Azf4V9R+Jfv23+6386wq5qlRKVrHmV4xdRtnzz/AMK48Z/9Cxqn/gM3+FH/AArjxn/0LGqf+Azf4V9DUVHtl2MeSB88/wDCuPGf/Qsap/4DN/hXR/D7wJ4q0/4h6Jd33h/Ube3hu0aSWS3YKgz1Jr2Ormk/8he2/wCugpxqptaFQhHmQn9l3/8Az6Tf98Gj+y7/AP59Jv8Avg18kUUeyiR7SPb8f+AfW/8AZd//AM+k3/fBo/su/wD+fSb/AL4NfJFFHsoh7SPb8f8AgH1v/Zd//wA+k3/fBrodEtpoNNKTRMjeaThhjjAr4nr6V/Z9/wCSa3H/AGE5f/RcdXTgou50Yeac7JHqexv7p/KjY390/lTaK3PRHbG/un8qNjf3T+VNooAeqNuHynrVZoZC5wjdfSp1+8PrSnqaGkxNXK3kS/8APNvyo8iX/nm35VZoqeVC5UVvIl/55t+VHkS/882/KrNFHKg5UMiicQkFSDu9Kd5b/wB0/lUifcP1pauxdiLy3/un8qPLf+6fyqWiiwWIvLf+6fyoEb5+6fyqWlosFhjoxc4U9absb+6fyrzjWv8AkOX3/Xd/5mqNcjxFnaxwSxlm1y/j/wAA9V2N/dP5UbG/un8q8qopfWfIn65/d/H/AIB6rsb+6fypyo2xuD2ryius8DfevvpH/wCzVpTr88uWxrSxPPNRsdVsb+6aNjf3TT6K6DsGbG/umjY3900+igBmxv7prn/hr/yT+w/35/8A0e9dHXOfDX/kn+n/AO/P/wCj3qkUjqaKKKoZzfxH/wCSWeK/+wLef+iHryvFeqfEf/klniv/ALAt5/6IevL9tcOL6Hk5j9n5/oR4oxUm2jbXEeTYveDf+SnaT/163X8kr2avG/B4x8TtI/69br+SV7JXp4f+Gj6DBfwEFFFFdB2BRRRQAUUUUAFFFFABRRRQAUUUUAFFFFABRWdq2t22jzabFcpK7aleLZw+WAQrlHfLZIwMIemT04q6tzA9t9oWaNoNpbzQ424HU56YoAkorO1XW7XSLGC7m3yxXF1b2qGHDfNNKsSnqOAzgn2z16Ve8+IT+SZU83bu8vcN2PXHpwaAH0Uzz4hKIzKnmEkBdwySBnp9CDSSXEMUiRyyxo8nCKzAFunQd+o/OgCSimGeJZlhaVBKwyELDcR9Pwp9AHBeE/ua3/2G73/0c1b9YHhP7mt/9hu9/wDRzVT1rxjeWF7qi6ZpCX9rosSy6jIbsRuoK7ysabSHYR/NhioOQM85HLJXkzmlrJnV0VXF35+li8sE+0+ZD5sKBgvmZXKjJ6Z45rI8OeJLjVrHVJdU09NPn0y7e2liiuPPB2xo+Q21ez4xjtU2JN+rNj/x8H/dNcT4c8az6zeabDe6bBaDVbJr218i889gg2cSLsXYfnHQsMjGc121j/x8H/dNUlaRUVaRforO8Q63B4c8O32sXaSSRWcJkMcQyz+ij3JwPxrM0PxHqVzr0mi+ItKh02+NqLyAW939oR4t21gWKLh1YgEAEcjBrc3OkornNc8Saja67Hovh7SoNSv/ALI15MtxefZ0jjDbVGQjkszAgcADBJI4zSj8dSavb6MPC2mreXerWcl6I7y5+zrbxIVVt7KrndvcKFAOSG5AGaAOwobt9KyvDWvReJfD8Gpwwvb+YzxyQSEFopEco6HHcMpFardvpQA2iuX1vxTqNrrVzpfh/R49UuLGyF7d+bdGAKrFgkaYRtzt5b4B2gY5Na1hrtlqHhi316Bm+wz2i3asVORGU3dOucUAaVFcbovje/v73SV1LQ1sLXXLdptMkW78122p5myVdgEbFPmADOOCM1Ja+K9bt/E2l6V4k0G3sF1cSC1ktb83BR40LlJAY0x8oPKlhkYz3oA69ev4Go6kXr+Bqhqmo2+j6Peaneki2soHuJSoyQiKWOB9AaQmW6K5bRfFeoXWp2Fjr2jJpsuqWr3Vn5N15/ypt3JJlF2uA6njI5Izxzb1zxBd2WsWGjaNYRX2pXscs4We4MMUUUe0M7MEc/edAAByT260CN6iuCu/iW0ei6JeW2nWsc+p3M9rLFqWofZY7WWEP5itJ5bZw0bKOOeK7LS7i5u9MgnvobeGeRcsltcGeMc8bX2ruGMdhQBmeJfv23+6386wq3fEv37b/db+dcPq+t3tvqkel6LYRXt81u1y4nuDDHHGCFGWCt8zE4AxjgkkY54aqvUZ59VN1GbdFUtF1WHW9GttRt1ZUuE3bG6oehU+4II/CsuLX9St9es9O1jTrW3F+zrbtbXhmcFVLfOpjXAwp5BIzxWVmZcrOhq5pP8AyF7b/roK4668Q63Y67p1hc6NYmPULowRvFqTM4RVZ2kKGIcBV6bupA712Ok/8he2/wCugqopqSKimpI+R6KK3vEOgWWlafpt7pmqPqMF+JcM9t5O0owU4BYkjnqcfSus5Em1cwaK2NB0SHU7e/vtQuntNO06NXuJYohLIS7BURELKCSTnlgAAT2wdFvB0UeqXBk1Fl0eGwXUftogBkaByFTEe4fOXYJt3YBzzgUWGoSauctX0r+z7/yTW4/7Ccv/AKLjrwDXtFTSWsprS5N3Y6hbi4tpmj2MV3MjKy5OGVlYHk9K9/8A2ff+Sa3H/YTl/wDRcdVHc6cKmqtmeo0Vga/4hudO1bTNH0mxivdS1ESuiTzmGKOKMAu7OEc9WQABeS3UYJq14c1xPEGji8EDW0qSyW88DHJiljco654yMqcHAyMHAqz1DVorjU8dztPDeNpKLoM+pHTIr77VmRpPNMIcxbcCMyAqDvJ5B2gVKnjG61DxJPpujWdi8Nrdi1mlvNQ8mSVhjzDDEEYuEBwSSuWUj3oA65fvD60p6mkX7w+tKepoAKK4qy8e3VzfadPLoyR6Dql49lZ363e6QuCwVni2AKjlDtIYnlcgZ42/E3iBtBt7Jba0F5fajeJZ2lu0hjVnYFiWcKxVVRGYnaemMc0xm1RXP6V4pjnsdWk1qOPTZ9FlaO/USF40AjWQOrFVJUowOdoPUdqb4N8UTeKtPvbi50x9MktL2S0MEku9/lCnLYA2n5uV5wR1NAHSp9w/WlpE+4frWL4j8QTaPNptlp1it/qWpztDbwyTeTGAqF3d5NrbVCr2UkkgAdcMZt0VjeGNfbX7G6NxbC0vbC6ezvIFk3qkqgH5WwNylWVgSAcMOBWHqHj66s7u8uodGSfQdPv0sLy++17ZVclVZ0i2EMiM4BO8HhsA45AO1pa4vWvHl1psus3FnpCXek6C6JqV0bopIpKq7+XGEO/Yjqxyy+gya7JWDqrLyGGQaAPNda/5Dl9/13f+ZqjV7Wv+Q5ff9d3/AJmuObxTMsv2n+zwdJ+3fYTdecfMD7/L3eXtxs8z5c7s98Yrymm5Ox4Uotydjo6KjubmGztZbm5kEcMKF5HboqgZJrnrPxik2ganql9YS2gsbkwCBnBkkOE2AggbWYuo2noe9Sot7EKLex0tdZ4G+9ffSP8A9mrgNG1C71BZXuorFEXARrO8NwCechvkXBHHr19ue/8AA33r76R/+zVrRVqiR0YdNVkn/Wh1tFYvifxA/h+ytTbWf229vrtLO0tzKIlkkYE/M+DtAVWJIBPHSm+HPEE2rzalY6lZLY6npc4huYY5vNjIZQ6Oj4UlWUjqoIII7ZPpHsG5RXG6147udOudZksdIW803w+EOp3DXBjkXKCRxFHsIfZGyucsvXAyadrfja9tL3UI9B0iPUoNIto7rUZZLowkI4LBIhsYO+xSxBKjleTngA7Cuc+Gv/JP9P8A9+f/ANHvW7Z3cN/YwXlq/mQXEayxuP4lYZB/I1hfDX/kn+n/AO/P/wCj3poaOpoooqhnN/Ef/klniv8A7At5/wCiHrzPbXpnxH/5JZ4r/wCwLef+iHrzfbXDi/snl5h9n5/oR7aNtSbaNtcJ5di14SGPibpH/XrdfySvYq8g8KDHxN0f/r1uv5JXr9eph/4aPdwf8FBRRRXQdYUUUUAFFFFABRRRQAUUUUAFFFFABRRRQBwfxWsRfaf4dWbSrjVbSLXIZLy3t4GmJhEUocsi5LLg8jnPTBzg86lvJFpWvT6NoIXw5d6xbNbQXmlPIlugjUTXKWhCtjzACBjAIL4I6+vUUAeMaHp9+NJ1a3gsb5bL/hKtKns1k09rUNGJrZpZEh2jYnysx445JxzUfim1vLzxM9xFo7Q6nbeILaSBbHQnV2gWaNTcSXePmDJuBAPTgghSR7XRQB5JqHhJX03x3rA0Z31pdW87Trk25aZQkcDKYiRnG4N93ryDmtKO00u2+I2uSeMdDkvry8uoW0m7bTHuoxbiOMBEcIwjYSBywJXqG6c16TRQB4nc+GbibxNrS65JJa39zrRuLS7i8OS3cxhDq0Pl3KEhFCgKQcBfmz1JPr+q6b/atoIPtl5Z4cP5lnL5b9CMZ9Oen0q7RQB554It/sljq0HmyzeXrN6vmTNudsTHknuaytc0jxBBfeI4tE0+K7j8RRqFuHuFjWzk8kQlnU8suFU/Lk8EelbfhP7mt/8AYbvf/RzVv1yydpM5pO0mZVil5pkcemw2Xm2dnYRiG584AyyDKmPZ24VTuJx82O1c94at/EkbeJY7jSDpcmpXEt3aXMlxHKqOYo0VWCEnOVJ9MCu2oqbk3PN/CHhTU9N1zSLkaKukPbWzx6xd/alkOqSFcBjtJLnfl974IyRjmvUbH/j4P+6arVZsf+Pg/wC6apO8ik7yKXjTQ5/EngzUtKs5EiuZ4swPIMqJFIZN3tuUZ9qx7G21688Tz+J77Rfsc1rpDWdpYPdRs88rOJHy65VVJjjUHPckgdK7Sitzc4zUrbX7HxRD4l0zRVv5rvSksrmyF0iNbyK7SKd7YDLmRwcc8AgHms7S/Cms+Ef+EevrS1TWbq006XT76GCVYuZZFlMiF8ZUOpGCQcNkDIxXolFAGD4L0a70LwvFa6mYjeyzz3Vx5LEosk0zylQSBkDfjOBnGa3m7fSihu30oA4zVdP13SvFWp6x4esE1H+1dPityj3Ii8iaIybHOf4CJOduSNvQ54n0vw9dad4TsfB5iD2KaKbSXUllGVlCqmBGRkggu2c8bcd66qigDz/Q9F8RXF74XGt6bHaJ4atpFaZZ0cXk3leSpjAyVQqXb5tpyQMd6XwnB4ln8VSav4v8OyRXtwHiinW7heHT7fqI0UNuJYgbnxljjgKoA7+igBV6/gayfEek/wBveF9U0jcqfb7OW2DMOF3oVz+Ga1l6/gajpCZw+l6br+peJdI1HW9LXTo9DsZYVUXCSfa55FjUsuM7UARvvEE7hxwanvLTXTrWi+KYdJDXiWEtnf6Yt2pKCQxuNrkBW2tHgnjIJI6YPY0UCOEsNEv9G8K20Go+GbfX7y5ubq7u4kliKwSTyNIVUy43LhypPXjoc1q+ANDvPD/hUWuoxx28st1PcLaQvvS0SSRmSFW7hVIHAA9K6aigDB8S/ftv91v51wGq2upWXiiLWtLsv7QV7M2k0CyrGykNvRwWOMZLA9xwQD0rv/Ev37b/AHW/nWFXDUdps8+q7VGYPh2wv9C0nS9Nkt0n3LLJeXCy4EMjMXwFPLAszDPoM1lx6Vf33i6w1SPQE0WWNy1/eLPGzXSbCBHhDlxuKnLgYC9OldlRWfM9zPme5hw6bcz+N7jVbyLbBbWi2tjlgcliWlfA6ZxGvr8p9a6jSf8AkL23/XQVTq5pP/IXtv8AroKcXeSHF3kj5HrrdfbRX8G6TaWOuRXV1p/m7oltpU8zzHB4LKBwPWuSorrOROyaOq0u50W2ttb0KXU2+yahDA0GoNbsFSaMhsMgDNt+Z1yMngHGDWlL4l0eaa50YXDrpj6LFpkd80Jz5iSLN5hQchTIGHc4IPXiuDop3KVRpWN/xPqVlcW+kaZpUrXFrpdoYvtDRlPNkeRpHIB5wC+Bnn5a92/Z9/5Jrcf9hOX/ANFx181V9K/s+/8AJNbj/sJy/wDouOmtzowzvVudT4i0/U4fFOkeINHsRqBtLe5tLi1Ewjdkl8tgyFiFyGiAOSOGPXAFJ4Z0/VdC0+3jlsFlm1PULm81ArcgCy81nkAHHz4JROMZ5aupoqz1DzmHwvriWNt4XFjGumWmtLqH9pNOuJYBcm5CCMfMH3YQ5AGBnJ6Vm3/gDUVuNY03T9EtXOqa2mqRa80sYe1BlSRxt+/vUhwuPlO7kjkH1iii4XFX7w+tKeppF+8PrSnqaAPONM8L68tnoPhu5so4dP0LUBdf2k0ysLmKMuYkRB8wf5k3FsABWwWzWz4gs9c1RdN1G30yNLvRdYNxHbG5BN1b7JIiQ2AFZkk3BT0IwT3rrqKYzgofBupa2up3+pzyaNc6jqkN99lQpOESCJY40fgqx3IJOMjIUdjV7wF4e1fQH146zetcC91SS4hBRBuUgfvDt6FsdO2PeuvooAen3D9a5nxbpmoyapoWuaNaLf3GkXEhez80RtNFLGY22M2F3AlWwxAIBGc4rpk+4frS0xnKaBYatpEN5evpkb3mtaubm6g+1KPssRVYwd2MOQkakqO7EA96wtQ8Ka5LZa14YtrKNtP1jVDe/wBptKu2CKSRZJUaP75kyGC4GPmUlhjFekUUAed654Z182/ivRdJtI5rPxPLvF69wFFmJIkhm3L944CFlC5BJwcd/QoYlhhSJPuooVc+g4p1LQB5nrX/ACHL7/ru/wDM15+2haqbMaF9mQ2B1P7W14ZR/qfP8/bt6793y9MY5z2r0DWv+Q5ff9d3/mao15Tk1JnhOTjJmNqem3WvWsltcFtPSG7V42RllFwigEFlIwBuP3Tn7g9a59/B2p3fh7xFYX1yszX179ogDhVD7fLYMSvI3FMEdsV3NFJTa2FGpKOxzWgaZdR+ILzU5dLi0eCS2jgFrGyMZGVmJkbZwMAgDvjr2Feo+BvvX30j/wDZq5Ous8DfevvpH/7NWtF3qpm1CXNWT/rYueMNKvdQt9Lu9LiWe60rUI71LdnCecAjoyBjwCVkbGeMgZ4rO0Sz1+ym13xDc6TH9v1a6t/K0z7WuYYECRkvIMruAMj4XI4Azk8dlRXonsHneueHPEKL4s0rSLJLm08UPuF41yqCy8yBIJS6nk4Cbl2g5zg4xmpdS0LX9H1DXE8O6cmoW+tWMUMUj3Cx/ZJkjMWZMnLJt2n5QTkEYGc139FAFLRdNTRdB0/S4nMiWNtHbq5GCwRQoP6Vk/DX/kn+n/78/wD6PeujrnPhr/yT/T/9+f8A9HvTQ0dTRRRVDOb+I/8AySzxX/2Bbz/0Q9eeYr0P4j/8ks8V/wDYFvP/AEQ9ef7a4cX9k8zH/Z+f6DMUYp+2jbXAebYn8LjHxM0f/r1uv5JXrteSeGRj4maN/wBet1/JK9br1cP/AA0e3hP4KCiiiug6gooooAKKKKACiiigAooooAKKKKACiiigAooooAKKKKACiiigAooooA4Lwn9zW/8AsN3v/o5q36yPBlqJYNbYybf+J5fcbc/8tjXSfYF/56n/AL4/+vXPKLbOeUXcpUVd+wL/AM9T/wB8f/Xo+wL/AM9T/wB8f/XqeSQuVlKrNj/x8H/dNSfYF/56n/vj/wCvUtvaiKQt5m7jGNuKcYtMcYu5NRS4Hr+lGB6/pWxsJRS4Hr+lGB6/pQAlDdvpS4Hr+lDAcc9vSgBlFLhfU/lRhfU/lQAlFLhfU/lRhfU/lQAL1/A1HUqgZ69vSmbV/vH8qBMbRTtq/wB4/lRtX+8fypCsNop21f7x/Kjav94/lQFjn/Ev37b/AHW/nWFXXappS6gYj9oMewEfczn9aof8Iyv/AD+n/vz/APZVyVKc3JtHHUpTlNtIwKK3/wDhGV/5/T/35/8AsqP+EZX/AJ/T/wB+f/sqz9jPsZ+xqdjAq5pP/IXtv+ugrT/4Rlf+f0/9+f8A7Kp7PQFtr2KYXZbYwO3ysZ/WqjSmpLQcaM1JOx8W0V7r/wAM2J/0Np/8Fn/22j/hmxP+htP/AILP/ttdHKzn+rVe35HhVFe6/wDDNif9Daf/AAWf/baP+GbE/wChtP8A4LP/ALbRysPq1Xt+R4VX0r+z7/yTW4/7Ccv/AKLjrn/+GbE/6G0/+Cz/AO211GmyaL8DfCcOn63qVxfLfXksscsNptOdiAgrvPoOc96pJo2o0p05c09Eek0V5r/wvrwV/f1H/wABR/8AFUf8L68Ff39R/wDAUf8AxVM7PbU+56VRXmv/AAvrwV/f1H/wFH/xVH/C+vBX9/Uf/AUf/FUB7an3PS1+8PrSnqa87sPjf4Pv9StrO2a/M1xKsUYa2ABZiAOd3qa9GIXJ+Y/lTRcZRl8LG0U7C/3j+VGF/vH8qZY2inYX+8fyowv94/lQAqfcP1paF2hTz39KXK+p/KmMSilyvqfyoyvqfyoASloyvqfyoyvqfyoA8z1r/kOX3/Xd/wCZqjXa3vg4Xd/Pcfb9nmyM+3yc4yc4zuqD/hBh/wBBL/yB/wDZV50qFRt6HkSw1Vybt+RyNFdd/wAIMP8AoJf+QP8A7Kj/AIQYf9BL/wAgf/ZUvYVOxP1Wr2/I5Gus8DfevvpH/wCzU7/hBh/0Ev8AyB/9lWtoegjRvPP2nzvN2/8ALPbjGfc+ta0qM4zTaNqFCpCopSRq0UuB6/pRgev6V2npiUUuB6/pRgev6UAJXOfDX/kn+n/78/8A6PeukwPX9K5v4a/8k/sP9+f/ANHvTQ0dTRRRVDOb+I//ACSzxX/2Bbz/ANEPXBYrvfiP/wAks8V/9gW8/wDRD1w22uHF/ZPOx32fn+hHijFSbaNtcJ5tiTw2MfEzRv8Ar1u/5JXrNeUeHhj4l6L/ANe13/KOvV69TD/w0ezhf4SCiiiug6gooooAKKKKACiiigAooooAKKKKACiiigAooooAKKKKACiiigAooooA5HwP/wAeut/9hy+/9HGumrmfA/8Ax663/wBhy+/9HGumqGQwooooAKcvU/Sm05ep+lABRRRQMKKKKAChu30oobt9KQDaKKKQgooooAVfvfhTacv3vwptMAooopAFFFFAA/3VptOf7q02hiYUUUUhBTk/1i/Wm05P9Yv1prcYyiiikIKKKKACvFf2kP8AkFeH/wDrtP8A+gpXtVeK/tIf8grw/wD9dp//AEFKHsY4j+EzwOiiiszxwooooA1/Cf8AyOmif9hCD/0YtfaJ6mvi7wn/AMjpon/YQg/9GLX2iepq47Ho4P4WFFFFUd4UUUUAOX7h+tFC/cP1opgFFFFIAoHWigdaYDz94/WkpT94/WkpjCiiigApR900lKPumgBKKKKACiiigArnPhr/AMk/0/8A35//AEe9dHXOfDX/AJJ/p/8Avz/+j3poaOpoooqhnN/Ef/klniv/ALAt5/6IeuKxXa/Ef/klniv/ALAt5/6IeuOxXDi+h5+N+z8yPFGKkxRiuI8+waAMfErRf+va7/lHXqteWaEMfErRf+va7/lHXqdeph/4aPXwv8JBRRRW50hRRRQAUUUUAFFFFABRRRQAUUUUAFFFFABXP+NfEF54a8PR3+nWLXszX1pbmMbeFlnSNj8zrzhiBz94qT8uSOgrI8UaK+v6BJYwzrbzCaC4ikdN6h4ZklXIyMgsgB56GgCje+M1s7iKzTQ9Vu9RNv8Aap7G1WF5bWLJAZz5m3kq2ArMTtOAagk+ImmSXNlb6RY6jrEt9YjUIVsYV5g3bSx3suCCRweecAE8Vl614BvdU15NemtfDuoX8tmlrdW+pWLSwjYzsskRJLKfnwR0OBzxW3pHhZ9N8Q2mpA2cMcGkLp5trK38mJWEm8lFydq9gOaALGl+L9L1m80y3sDNJ/aenPqVvIUwvlK0akNk5DZlXjHY+lZsvxH0wQaW1rp+pXk+rS3MNnawRJ5kj27lZAdzhV+6SCSBgdQeKp6f4G1XQ7LQpdGv7I6lpdnPYs91C7RSxyyI5OFYEFTGDjvyMjgiXw74EutFPh03Gox3T6Qb8yuIyvnG4kLgjnjHegC2/wAQbGO4lDabqQsredLa61ExxiC2mYgbHO/cdrMAzKrKD1Nbmr65pmgWa3etX0Fjbs4jEs7hVLEEgZPfAP5Vxh+Gq2+uX1xbad4avre/vnvGl1PTBLcQmRt0ihgfnGdxGcY3Y5xXoVAHFfDq9ttR0fVbyxmSe2m1q9eOWM5V1MxwQfSsbW7nUdT1PxnPFqt7YDw5BF9hSCbZGZBb+ezyD+MEuqkHIwpxgnNdB4H/AOPXW/8AsOX3/o40ms+BLHWL6/uBfX1kmqRJDqcFqyBL2NQQA+5CVypKkoVJXjPAxHUjqGv+JLiw+Fd94kt4wl1HpLXkaEZCuYtwyD2BIrKtINQ0TxdpeinXNQvoNZ0u5eaSd97xzxGL99GSDsBEp+XG0YXA611M+hWty1yk8kz2NxZCyfT9wFuE+bJCgAhiG2k56AYAxWTpHgaLSpTPLreq6hdR2RsLS4upIy9nCcEhNqAFiVQlnDE7F7ZBAM7Q0ubP4iNpekavqOo6bZ2b/wBqG+nM4juWZDEqueQ+0uSoOANvAyM94vU/SuW8L+Cv+EUWOK18Q6vd2ke4/Zbv7OVdmOS7MkKuzEkkksSScnNdSvU/SgDA8davc6H4H1S/sG2XUcQSFyudjuwQNj2LZ/CsvRUufD/xCPh8apf6jZ3WlG9H2+fzniljlVGIY84cODt6AqcAZxXU6pptrrOk3Wm6hF5trdxNFKmcZVhg4PY+/asfTvB6WU91dT6zql/fz2n2NL25ePzLeLkgJtRVzk7ixBJIGSQAKBmfq63eu/Eb+wjqN7YWFppIvG+wzeU8sskrIpLDnCCM8dCX5zisHQtV1TxnJ4Y07UtRurWNtJnvryWxlMD3ckcqwr864IXlnIXAJK9uK67UfB8d9c215bavqWn6jBaGya+tnjMk0RIJD70ZScjIYAEEnHUioZ/AdgljpMOhXd1oc2kW5tbS5s9jOIWC7kYSKysDsU5IzuGc9cgEngHUrzVPCEUupStPcQXNzaNO2MzCGd4g5xxkhATjvmukbt9KoaJo1p4f0W20vTlYW9upCl23MxJJZmPcliST6k1fbt9KAOE1WK/8Q+NtY06PV73ToNI02CW3WzlMZeeYy/vHx99V8pQFPy/eyDWnoPiWe8+Flj4lvI91w+kreyoPlDP5W449AT/On654Nh1jUpL+21TUNKuLi2FpdtZGP/SYQWIVt6Ngje+GXDDceemNGDRLe2lthbyTR2VtZmzTTwwNuU+XBKkZLALtBz0J4NIRxWgz6jpep+D7m41m+1FvEtu/26OeTfEJfs5nEka/8swNrKFXghhnJGaWGa40b4oaXpcF5riW9x5y3D6tOZbe8xESogOTiQHkj5RtVuCa3tH8CWWj3dnKNR1C7i02F4NOt7iRClkjAAhNqhmIUBQXLELwOpy+08HFNWsr/Vte1PWG092ktIrwQqkTsrKXPlxqWbaxALZxk45oA6ZfvfhWP4q1aTQfB2savbxiWWwsZrlEPRmRCwB9sithfvfhVe8tIL+xns7yJZbe4jaKWNujowwQfqDQBxelm+0LxdoFnLrF5qMOsafO1wt5IGInjEbeYn90EOwKj5RxgDnNrxC11q3j3SvDq313Y2LWFxqE7WcpikmaOSKNE3qchf3pJA64HarmieCrfRtRivZNT1DUZrW0NlZm9eM/ZoSQSq7UXJO1cs2WIUDPXK3fg8XFvphg1vU7bUdNiaGLU1aJ55EbbvWTehRgxRSfl6qMYoAwNNuLzV/h+0uqz6zf3Ol39zaOdHm8qe68m4aINwy54UE8jvW38PtQutR8HxS391JczpcTxHz02zRqsrBY5Rx+9VQA2BjIOM9TL/wiTWmi2WnaFrmo6QtpuJkgEMjXDO252k82NgWLFmyAOWJ9qv8Ah/QbXw5pf2Kzkmm3yvPNPcOGknldizuxAAySewA9AKANN/urXFa0LnXPiFH4fOqXthZQaUbxxYymGSWR5dikuOcKFY4HGWGc8V2r/dWsHWvDCatqUGo22pX2lX8MD24uLIx7micglSJEZTyoIOMg0uoiDwHqt5rPgawvdTfzrzEkUsirt8xo5Gj3Y4Azsz6c1yWiarqv9l+DvFE+pXk0niC8WO8snm3QLHMkjoEXAClCqAEckZzuPNd1p/h620q30u106e5t7TTYjElusgKTAqBmTIJYjrnI5JJzWXpvgDT9M1Gymjvr6a002WSaw0+V0MFo7hgSuEDHAZgoZm27jjtgA47w/wCK7jUL+213Xk16G1utXksreeOdYrOE+a0UcTQhtzglQC7KfnYj5QK9dT/WL9a5AfD6xGqpN/aF9/Z0V9/aUelZj8hLneX8wHZvxvJbbu257YwB16f6xfrT6h1KeoXRstNuroJ5hgheQIP4toJx+lefaDcanYTeCdRn1a9vX8SK39oRTzb4972zXAMadIwpQqAvG085NekMqupVwGVhggjIIrmNF8B2ejajZ3A1C+u7fTUePTLS4ZDHYqwwQpVQzfL8oLliF496QDPFkl1d+I/D2hQ31zY2uoPcSXUlrJ5ckixR5EYccrlmBJGDheo5rj9R8VaxpugLosc9/fXDeJH0aO5t2UXUkQjMqDe4ChyNsZc9BubORmu8vPCcd3Y2UbatqK3lhcPcW+o70adC+7KnchUrh9u0r0A9M1EfA+n/APCPxaYt1erLFdm+TUBIv2gXJYsZc7dpJ3MCNu3BxjHFAB4JvoLjT7yxRdUiutPuTBcwarP500bbVYfPubcpUhgcnqfpXnX7SH/IK8P/APXaf/0FK9S8PeHYPD8N1tubi+u76c3F3eXWzzZnwFGdiqoAVQAAAAB9a8t/aQ/5BXh//rtP/wCgpSexhiP4TPMPhobWfx3pmn3+m2d9Be3KROLqMvtHOdozjnPcHpXJVseGPEb+FtYj1O20+zvLmEhoTdiQiJh/EAjrk/XNQz6tFLLeNDpGn26XUSxrHGshFvgg7oyzkhjtwSSeGOMcYjoeVo4pHazafpx1e68KLp1osFrorXK3giHnGdbUXBkMnXBOV252hSPrTbbTdPGpaR4Z+wWjxahoy3M12YszLNJC0wcP1AX5Vx0IU5GTmuek8bXkmlvB9itBfSWgsZNSAfz3twAoQjds+6ApYLuIGM9aSHxtfw2MSfZbVr23s2sbfUSHE8MJBBUYYLnazKGKkgHAPTDujTnhf+vuKfhP/kdNE/7CEH/oxa+0T1NfF3hP/kdNE/7CEH/oxa+0T1NOOx1YP4WeWaPqeqnSPDHiyXVr2efWtTWG4s2lBtxBMzhUWPopTCfMPmOGz1NdV40vLxbjw/pVjdS2Y1bUxbzzw8OsSwySsqnHylvLC56gE455DrLwLY2WoWsovb2aysbiS6s9NlaMwW8r7ssuEDnG99oZiF3cDhcWtQ8Kwalp7W9zqOoGVb031tdCVfNtJMnAjyu3aASoVgwwSDnNWd5zEXiubwxH4k02e6bUZ7DUYbTS/tk2HleeFJEidz1ClmJbqEUk5xk3PhffXVxYa5balrTavc2mrzRee7gkrtQjaB91Mk4A4FbNh4N0q2sbm31GP+2Xu7o3lxNqUccrSTbQgbG0KMKAoAAwBUnhzwlpPhVtQOjWyw/2hdG5lxGi4JAAQbQPkHOAc4yfWgDdX7h+tcp4wnubnWfD2gQXdzZQ6rczfaZ7SQxy+XFCz7FcDK5bbkjBwCB1rq1+4frWTr/h6DXo7RnuJ7O7sZ/tFpd223zIX2lTjcrAgqxBBBBB+lAGd4IvLqSHWdOvbqW8/sjU5LOK4mOZJI/LjkXcf4iBLtz1O3JycmuT1LUtWOk+IfFi6tfRz6TrDW9rZRyBYPIilWNkaPo5cFzuPILLjGBXa6d4Tt9LsEt7TUNQWRr77fc3JlXzbyUnLeYduNpwAVUKMAAYAqtc+BLG61GaVr29WxubxL650wGM28867SGOULgbkVioYKSORyQQDA+Iklzot0mpafda9FczzQgXKzM2nWa7lVvOjB4UqCc7SckcrnI9GHWuW1/wOPEsk0Gqa/qr6TcMGm0tGiWGQD+HeI/M2nGSN9dSOtADz94/WvKP7U1YeH5vGyaveNP/AMJB9kWw3nyBa/bvsnleV0Dbfn3/AHt2O3Fern7x+tct/wAIJaf2012dR1A2LXo1E6UXT7P9pB3eZ93f9/59u7bu5xTGO8d6hd2ejWVtYTyWsupalbWDXERw8SSSAOVJBAbaGAPYkHtXK6prOqeGV8S6HZ395MkDab9jvLiXzprYXk5gb5nyW2lSy7s8nB4xXa6l4VttW02+stQvL2ZLq6W7idpF32brsKeSdvyhWQMAc8ls5BxVJPAWnS6Xqttqt1ealcaxsN5ezuqysY/9XsCKqoEIyoA68nJJJAIdCe50n4gah4fbULq+s206G+g+1ymSSFjI6Ou48lTtUjPQ5A4wB14+6aw9D8MRaNqF5qE2oXmqaheJHHLd3pj3+XHnYgEaKoA3MeBySSa3B900Acv44vbuGHRdPsZ5LU6tq0VnLPC2144tryvtPYkRFc9Ru45xSeE7ie31vxBoUt1cXkOmzxNbz3UpkkCSxB9jMeTtbdgnnBHpmtXXdBtfEFlFBdvLC9vOlzb3EBAkglQ/K65BGeSOQQQSCOapWXhGKysL2JNU1A3t/cpdXepBo1uJmQphSVQKF2oE2hR8ue5JoA5HXLzVbuLx3rttrV1Zv4aJSwtonIhHlW0c7GROkm8uV56Acc80+/utT8R3/ieeHWL7TTothbyWUFtJ5arM0JmLyDH7wZKrtbIwp4yc10Os+ALLWdUvbiTUdRtrXU0jTU7C3kVYb0IMDcSpdcrhTsZcqADUuteCLTWdQu7oajqFiNQgS21CG0kQJdxLuwrblJU4Zl3IVOD16EAGr4e1B9X8M6XqUyhJLyzinZQOAXQMR+tZnw1/5J/p/wDvz/8Ao966GKKOCFIYUVI41CoijAUAYAFc98Nf+Sf6f/vz/wDo96aGjqaKKKoZzfxH/wCSWeK/+wLef+iHrkttdb8R/wDklniv/sC3n/oh65XFcWK6HBjPs/MZto20/FGK4jgsM0UY+JWif9e13/KOvUa8jSbUbbx5okmjWMN9c+RdAQz3JgXGEydwRvyxXoGsX+qWvgPUtQNrHb6pDp80ywRS+aqyKjFQG2jdyB2Fenh/4aPWw38JG4CDnBzjg+1FeX6Fpmn6D4m8DS6GqxSaxps/290b5r4LCkgmk/vuHI+c8/vCO9bHxC122hnsPD97NNaWWo7pL+5SJ3H2dcboRtBIaQkL7JvOQdtbnQdxRXF/CC8gvPhF4cNu5YQ2MUT5UrhlUAjkc/UcUUAdpRRRQAUUUUAFFFFABRRRQAUUUUAFFFFABRRRQAUUUUAFFFFAHI+B/wDj11v/ALDl9/6ONdNXM+B/+PXW/wDsOX3/AKONdNUMhhRRRQAU5ep+lNpy9T9KACiiigYUUUUAFDdvpRQ3b6UgG0UUUhBRRRQAq/e/Cm05fvfhTaYBRRRSAKKKKAB/urTac/3VptDEwooopCCnJ/rF+tNpyf6xfrTW4xlFFFIQUUUUAFeK/tIf8grw/wD9dp//AEFK9qrxX9pD/kFeH/8ArtP/AOgpQ9jHEfwmeB0UUVmeOFFFFAGv4T/5HTRP+whB/wCjFr7RPU18XeE/+R00T/sIQf8Aoxa+0T1NXHY9HB/CwoooqjvCiiigBy/cP1ooX7h+tFMAooopAFA60UDrTAefvH60lKfvH60lMYUUUUAFKPumkpR900AJRRRQAUUUUAFc58Nf+Sf6f/vz/wDo966Ouc+Gv/JP9P8A9+f/ANHvTQ0dTRRRVDOb+I//ACSzxX/2Bbz/ANEPXM7a6b4j/wDJLPFf/YFvP/RD1zuK48V0OLFdCPbRtqTFGK4jhINJGPiTof8A17Xf8o69NIDAgjIPBB715ppgx8SdD/69rv8AlHXpdelQ/ho9TD/w0YujeENC0C8a60mwEEzRmIMZXcRxltxRAxIRcgHauB7VoaZplpo+mw6fpsIgtYF2xxgk7RnPU896tUVublXTdNtNH0u207TYVt7S1jWKGJSSEUDAHPNFWqKACiiigAooooAKKKKACiiigAooooAKKKKACiiigAooooAKKKKAPJtH8SX2mXeuW9sItg1q8PzJk8zNWn/wmmqelv8A9+//AK9ctB/yFtd/7DF5/wCjWqzXl1Kk1NpM8WtWqKo0mdD/AMJpqvpb/wDfv/69H/Caar6W/wD37/8Ar1z1FZ+1n3Mvb1f5jof+E01X0t/+/f8A9etXw54kvtT1QwXIi2eWzfKmDkYria6DwZ/yHj/1xb+lXTqTc0mzWjWqOok2d75h9B+VHmH0H5U2ivQuz1x3mH0H5UeYfQflTaKLsB3mH0H5VBc3TxOoULyueR7mpaqXv+sT/c/qaUm7EybSD7dL6J+VH26X0T8qrUVlzMy5mWft0von5UfbpfRPyqtRRzMOZl62upJLhUYLg56D2q1n2H5VnWX/AB9p+P8AI1oVrBto1g7oXPsPyoz7D8qSirLFz7D8qM+w/KkooAZPKUCYC856ioftDei/lTrron0NV6zk3cyk3cm+0N6L+VH2hvRfyqGipuxXZN9ob0X8qfFOzTKCF5PpVapIP+PhPrTTdxpu5a3f7K/lRu/2V/KkorQ0F3f7K/lRu/2V/KkooAXd/sr+VZ2s+HdH8QwwLrem298sJYxiZNwQnGcfkK0Kcf8AVj6mgVk1ZnL/APCt/Bn/AELOnf8Afmj/AIVv4M/6FnTv+/NdNRSJ5I9jmf8AhW/gz/oWdO/780f8K38Gf9Czp3/fmumooDkj2Oetfh94RtbuG4t/DunxzROrxusIyrA5B/OvENU+O/jC01i8t4Rp/lwzui5tiTgMQP4q+kV+8PrXxLrv/Ixal/19y/8AoZpSdkcmJk6aXJod/wD8L+8Z/wDUO/8AAb/7Kj/hf3jP/qHf+A3/ANlXmNFRzM4vbVP5j07/AIX94z/6h3/gN/8AZUf8L+8Z/wDUO/8AAb/7KvMaKOZh7ap/MfU/wf8AHGr+NtG1K51v7P5lvcLGnkx7BgrnnmvQ9/sPyrxn9nH/AJFrWv8Ar7T/ANAr2StE9D1aMnKmmx2/2H5Ub/YflTaKZsO3+w/Kjf7D8qbQOtACvKwdhgdfSm+c3oPypsn+sb6mm1N2TdknnN6D8qPOb0H5VHRRdhdknnN6D8qkjkLBsgdqr1ND0b8KabuNPUkz7CjPsKSiqKFz7CjPsKSigBc+wrm/hr/yT+w/35//AEe9dHXOfDX/AJJ/p/8Avz/+j3poaOpoooqhnN/Ef/klniv/ALAt5/6IesDbW/8AEf8A5JZ4r/7At5/6IesPFceJ6HHiugzbRtp+KMVyHGVtNGPiRoX/AF7Xf8o69JrzjTxj4kaF/wBe93/KOvR69Gh/DR6ND+GgooorY3CiiigAooooAKKKKACiiigAooooAKKKKACiiigAooooAKK8wTxxqi+KtPntZr270PUNXbTQ91ZwQwZJkA8lw/msQY8ZKkEAnjrTT4q8Sy6fZeII9Uto7O+8Rx6YNNa2XMUP2wW5+fJJkIView3HGNoyAeo0V5W3jTxbqGsanPotld3EOm6s9itjDZRmKaONwrl5WcMrkbmGAABt4PWvR9Vm1KC0DaNZW97cbwDHc3RgULg5O4I/PTjHfrQB47B/yFtd/wCwxef+jWqO81rTbC5jt729hhmkxtR2wcE4BPoCeMmk017iS71hr2GOG4bVrsyRxSGRUbzWyAxC5HvgVymr3NnaXHjKDU3RZbu2QwRyEAzIYNiqgPU+YHGB3NeVOPNUkeJUjzVZf11O5qtFqNnPe3FnDcxvcWoUzxq2THuGRn0yKoPe3dtoZtbRVutahsUkFszgFmI2gnJAxuB79jXM6JaP/b2sadLZXtmbjSolnurhoS29mn3StskPLFiRjpjsMVmo3TbMowTTbOw0/W9M1WWSPTr6C5ePlhG4PGcZHqM9xxXXeDP+Q8f+uLf0ryPSPtlx4p0CEXGnzpplnMkj6dKXUxlUVS/A2ZZRhBnoxzxXrngz/kPH/ri39KuMVGojWEVGrGx3EsscELzTyLHFGpZ3dsKoHJJJ6Cs/RvEmj+IUkbRdRgvBHguImyVB6Ejrg44Pesj4mQzz/DXW47aOSUtb/vI4wSzRbgZAAOTlN3FZtvqmmXPxQbVNMu7eXTbPw6wvLqBw0UYMyvECwOBhVlOPQ57ivRPYOq1fxFpGgLGdZ1CCz83OwStgsByTjrgdz0HeodW8WaDoa2ratqttai8Vmty7/wCtAwSVx1HzL+YrmrvWNM0/4pLqmrX1vbadd+Hl+x3Nw4SJ9szPKAx4+60JI9AKwtI0+1TwX4RvtQ8W/wDCK31jp0wtfMaBSbeVkZQyzA8KkSDjB680WA9UtLuC/s4ruzkEsEyB45F6Mp6EVFe/6xP9z+prL8D6xe6/4J0zVNTjCXFzEXJEZjDruIVwp5AZQGx/tVqXv+sT/c/qamWxE9jC1fxLougNEutanb2TSgsgmfGQCAW9gCRkngZrT3DbuyNuM5zxiuFvdR03S/iH4gPiSe3ggutGtxbG4dVEkStP5qLnvlgSOScjjitXwLcfZfBvhzStRlCap/ZEMrW7k+ZtVUViQeeCyg+5rO2hnbQ1dH8Q6R4gjmk0PUra/jhfZI9vIHVT9RxUVh4q0LVNUk07T9Vtbi8j3boUkBY7Thsf3sHg4zjvXOeGNX0nUPHXiuCy1OzmNw9v5QgnRi4FuASoBOcfpXM6PaXsOt+CdDsdR0i+g0SaQ+bpk5kkaARSKZJVxiIHKLjc25n9qdh2PZrL/j7T8f5GtAkAEk4A6k1n2X/H2n4/yNU/G0F3c+AfEEGm7/tkumXCQCPO4uYmC4xznOMVpDY0hsWNJ8TaJrs8sOj6pbXkkQ3MsMgb5c43D1XII3DI96k1nX9K8P2yT61fQ2ccjbEMjffbBOAOpOATx6Vw+kX2k6p4z8IN4ant5obDRbgXJt2UiCEiFY0fHTLKcKf7jHtVzUNc0z/hYnhvWbm9tho91pF2lneyOBEZneBhhjwCyK2D3AYVZZ0d/wCL/D+l2Fne32sWkVtfjdayeYGE4xuymPvDHORwBWnZ3ttqNnFd2FxFc20y7o5oXDK49QRwa800TxdZ+E/h9BOWhkm1TU77+xoJpxEskTXMjIxdsBYghVi3oVwCSoPXeA9PstM8I29tYajbakPMllnubRgYmmkcySbACQqhmOF7DFAG5ddE+hrG1fxBpOgrE2s6hBZiYkR+a2C2BliB6Ack9B3rZuuifQ1wmq6jbaR8UIbrXLqG0sJdFkjt5bhwieYJg0q5PGSvlnHXC+xxk9zJ7nX29xDd20dxaypNDKoeORGyrKehB7iqGmeJNG1q8urXSNUtb6azIFwtvKH8onOASOM8H8j6Vg/Dq7htPA+hWd3IsM94sz2cLgqzwiRmTAPPEbIcds1T0XWdJf4xa/Db6jZM8mn2UMcaToSzq9wWUAHlhkZHUZpWFY6O08Y+Hr/Vzpdlq1vPfCR4jAhJYOudy/UYOfpW9B/x8J9a8str1fDvibTLTwx4rj1iHVNWl+0aPiGQwpK0kskilAHXYTzvJHOPQV6nB/x8J9adtR9SzWTp3inQ9X1Kaw0zVbW6uoN2+KOQEjadrEeoB4JHQ8Vc1OKabSbyK0JE7wOsRBwQxU4/WvMfDV9p+ox/DKy0Z1+16fA7XkERXdbRraNHIJFHIzKUHTk89q0ND0vVdY07Q7MXWrXcVpCziNWkONznooHUk+g5p9hqdlqunpfabdw3VrICUmicMpxweRXIa/rFjJ4p8H6sLuJ9HF1dwm63gRJceUyJlugPEqA+rY7iuftTqWq6DqqaFp11qOi6p4juHmksZokeS0wu8RmV0BWSVXUsD90sRkkGgD0zSdY0/XdOS/0e8ivbSQsEnhbcrEEg4PfkEVfP+rH1NcL8J53k8J3cZ0yfT44tWvwiSmLGDdSnaAjtjb909BkcZGDXdH/Vj6mgDP1bW9N0K1W41e9htInbYhkbBdsE7VHVjgE4HYE9qns7221Gyiu7GeO4tplDxyxsGVwe4IrlfEdzBp3xH8N3+q3EVvp4tL2BJZmCIlwxhK5Y8AlEkA/4EO9Q/Du+tbfw6C8sUFvqusXz6VGTt82JpZJE2D0KKzD/AGcUAdCninQ5NebRU1W1bUlYqbYSDduC7iv+9jnHXHNWrvVrCwvLS0vLuKG4vXKW0TthpWAyQo74rymxuLZ/Cmm6F9oUeIovFu+WAMPOLi/aWSQjOSvklju6EHHfFO8QS6zH4y0nVdY8Mai922vrDaNHLaGMWyRzhEjJm3Bnz5jbgozgfwrksB7Cv3h9a+Jdd/5GLUv+vuX/ANDNfbS/eH1r4l13/kYtS/6+5f8A0M1EtjgxmyHah4f1fSbK1u9U025s4LsEwPPGU8wDuM/UfmKrWGn3mqXqWmm20t1cSZ2xRIWY4GScDsACSewFdXe6Tqg+EunzS6feBV1W5nZ2hbAjMFuFcnH3Tg4PTimeFdOu4INdsmtZF1C/0TfZR4+aVDJG52gckmNXIx1GfWptqcXJ71jAk8P6tFrSaS+n3Av5CAluEyzZGQR6jHOelRalpN/o9yLfU7SS2lZdyrIuNw6ZB7jjqK9Iso5be30rS5/MXXR4ZvY4oXJ8xDI8jRxgHkMYi2F64YY6iuW8SRS2ngbwvZ3yNFeIbuTyZBtdIWddmVPIBYSEZ69aLDlTSV/66HrP7OP/ACLWtf8AX2n/AKBXrGqatYaJYNe6tdxWlurBTJK2AWJwAPUk8ADmvJ/2cf8AkWta/wCvtP8A0Cu08YPHbeLPCF9fukenwXs4kllcKkcrW7rGTnjruUH1YetaLY9TD/wkdPp+pWWrWKXmmXUV3bSZCywuGU4ODyPQgiqk3ibRbfWk0ibUrdNQcqoty/zbmGVX2JHIHUjmua8E6nY20eu3jXKR6fqXiOVNOkJGycssanYR1DTLLg9+TXL6jeW8fhfxXojzpBr9x4kza2+8LNJJJPE0EijqRt2HcM4Cn04Zuej3HjDw9aa1/ZN1q9rDfeYsXkyPtO9gpVMnjcQykDqc1tDrXm/xT1a3bR57eHxDZYgeNbjRF2G4vm3qREjZ3IzcAYUn6da9IHWgBkn+sb6msgeKNDOvHRRqlt/aIbb9m8wbt20Nt/3sEHHXHNa8n+sb6mvHvtECeEf7EM0a+JT4t8wW+798XOoeb5u3rt8jLZ6be9SSesXt7a6bYzXmoXEdtbQIXlmlYKqKOpJNUbfxRod3o9xqsGq2rWNrnz5/MAWHABIbP3Tgjg+tc949vLS+0W3eKaGe00zXrMaoC42wqsiM2/PGF3xsc9Bz2rB1ezg8TX3jeTTtRsrezH9mFb6dgbVrqBzKwdgcEbfIRj24HUYosB6JpGvaXr8Ekuj30N2kT+XJ5bco3oR1Fa0PRvwrzHwPc3+r/E/xDqs76ZJANPtbaR9LmaaEyq8pC+YVAdgpGePl3KPevToejfhTW41uQ6hqNnpVjJealcxWttEMvLKwVR/9ftjvTdM1aw1qyF3pV1HdQbiheM5ww6qR1BHoea5j4jSR20fhq9vW2WFpr1vLdufuouyRUZvQCRoznsQPrVfw1qunw+IPGGsreQLo02oW0UdysimKSfyY43KkdTuZEJ/vAjqDiijpb/xToWl6pHp2oara295JtKwySAMNxIXPpkggZxk8CjVfFOh6HdR2+r6pbWc0i71SWTBC5wGPoCeATgE8V5v4iu7Ox0r4n6fqssaarqL5sIXbEtyr2kUdv5a9WxKCo29GBq3qmpWmkah44g8WXcEUl3pFv9nWdv8Aj4jELqVQfxHzS/C5OXHHIyAepAhgCDkHkEd65z4a/wDJP9P/AN+f/wBHvWh4ZhubfwlpEOobhdx2MKT7uu8RgNn8c1n/AA1/5J/p/wDvz/8Ao96aGjqaKKKoZzfxH/5JZ4r/AOwLef8Aoh6xsVs/Ef8A5JZ4r/7At5/6IesnbXJiehyYnoMxRin7aNtcljksU7Ef8XI0L/r3u/5R16NXndmMfEfQf+ve7/lHXolehR+BHoUPgQUUUVsbBRRRQAUUUUAFFFFABRRRQAUUUUAFFFFABRRRQAUUUUAc8vgPw0uqJqA0xftMdx9qiPmybYpScl0TdtUk8nAGe+a567+G0moeMo9Tmj0a1tYtRS/3W1rJ9okZHDrks5RWLKCzhctyOMk16FRQBhXfgvQb3V31OaxYXUu0ymKeSNJiOhkRWCuR6sCeB6Ct2iigDxCD/kLa7/2GLz/0a1TPDHIyNJGjtGcoWUEqfUelQwf8hbXf+wxef+jWqzXj1f4jPAr/AMWXqJsXeX2jcRgtjnHpRtUMWAG4gAnHJA//AFmlorMyGRQQwAiCJIwxyQigZPrxXR+DP+Q8f+uLf0rn66DwZ/yHj/1xb+laUvjRrR/ixO7qCOytYYJIYbaGOKQkvGsYCsT1yO+anor0j3CGW0t54VimgikjQgqjoCoI6YHtSXVjaXoQXtrDcBDlRLGH2n1GelT0UAFVL3/WJ/uf1NW6qXv+sT/c/qaUtiJbFGa1t7hkNxBHKYzuQugbafUZ6U/y0MokKLvAKhscgemfwFOorIyK8OnWVvIJLezt4nHRkiVT+YFOt7K1tC5tLaGAyHLmKMLuPqcdamooAnsv+PtPx/ka0Kz7L/j7T8f5GtCtYbG0NiOO2giDiKGNBIcvtUDcff1pstlaz2y281tDJCmNsTxgquOmB04qaitCyCextLoILq1hmCfcEkYbb9M9OlPgghtohHbRJDGOiRqFA/AVJRQBBddE+hqncW0F3H5d1DHMmQdsiBhkdDg1cuuifQ1XrKW5lLca0UbSJI0al0zsYryueuD2qBNOso5/Ojs7dZc58xYlDZ9c4qzRUkkEdlaw3MlzDbQxzyfflWMBn+p6mrcH/Hwn1qOpIP8Aj4T601uNblmoorWCCWWSGCOOSY5kdEALn1J71LRWhqQtaW72ptnt4mgYYMRQFSPp0qREWONUjUIigBVUYAA7AU6igBqIsa4jUKMk4UY5JyT+JOakP+rH1NNpx/1Y+ppgQzQQ3MRjuIkljPVJFDA/gaUxRlkJjUmP7hK/d4xx6ccU+ikBELWBbprlYIxOy7WlCDcR6E9cU940kKmRFYo25SRnaemR78mnUUAKv3h9a+Jdd/5GLUv+vuX/ANDNfbS/eH1r4l13/kYtS/6+5f8A0M1MtjgxmyK7X941v5DXU5hwF8syHbgdsVH50vmK/mPvUAK245AHAAplFQecPaaRpvNaRjJndvLHOfXNE00txM0txI8sjfed2LE/UmmUUAfQn7OP/Ita1/19p/6BXsM0MVxC0NxGksTjDI6hlYe4NePfs4/8i1rX/X2n/oFeyVqtj2cP/CRH5EPlxp5SbIsGNdowmOmB2xSNawPcpcPBG08YISUoCyg9QD1FS0UG5XNhZteC7a1gNyBgTGMbwP8Ae61YHWigdaYDJP8AWN9TUAtLcXRuRBELgrtMuwbyPTPXFTyf6xvqabUkjBDEFkAjTEhy42j5zjHPrxTFsrVbP7IttCLbaV8kRjZg9Rt6YqaikIZBBDawrDbRJDEv3UjUKo+gFWYejfhUNTQ9G/Cmtxrccyq6lXAZWGCCMgio1tLdLZbdLeJYFxtiCAKMHIwOnXmpaKssie1t5biOeSCN5os+XIyAsmeuD2omtbe4eN54I5WibdGzoCUPqM9DUtFABXOfDX/kn+n/AO/P/wCj3ro65z4a/wDJP9P/AN+f/wBHvTQ0dTRRRVDOb+I//JLPFf8A2Bbz/wBEPWZtrT+I/wDySzxX/wBgW8/9EPWfiuXEdDlxHQZto20/FGK5TlsUbUY+I+g/9e93/KOvQq8+txj4j6B/173n8o69Brvo/Ajvo/AgooorU1CiiigAooooAKKKKACiiigAooooAKKKKACiiigAooooAKKKKACiiigDxzT9Jv7zUNdltbSWWP8Atm8G5VyM+c1X/wDhH9W/6B8//fNbHhH/AFet/wDYcvf/AEca6GuCdKLk2edUw8ZTbZw3/CP6t/0D5/8Avmj/AIR/Vv8AoHz/APfNdzRU+xiR9Vh3Zw3/AAj+rf8AQPn/AO+a2vCuk39nrJkurSWJPKYbmXAzxW/U9n/rj/umqhSipJl08PGMk0W/Lb+6aPLb+6aKK6juDy2/umjy2/umiigA8tv7pqtdwSvIhRGOFxwPc1ZpW/h+lDSaE1dGd9ln/wCeTflR9ln/AOeTflV+ip5ETyIofZZ/+eTflR9ln/55N+VX6KORByIq2lvKlyrNGwAzyR7Ve2N6U2P74p1XFJIuKsg2N6UbG9KKKYw2N6UbG9KKKAIbmJ22bVJxmoPIl/55t+VWpui1FUNK5DSuReRL/wA82/KjyJf+ebflUtFLlQuVEXkS/wDPNvyp8MMizIShAB9KdT4v9Yv1pqKuNJXH7G9DRsb0NOoqihuxvQ0bG9DTqKAG7G9DSlG2AY70tDfdH1pgN2N6GjY3oaKKQBsb0NGxvQ0UUAKqNuHB618lax8N/GU+uX00PhvUHjkuZGRhCcEFiQa+tR94fWmHqaTSZjVoqqlc+QP+FZeNf+hZ1H/vyaP+FZeNf+hZ1H/vya+v6KnlRh9Th3Z8gf8ACsvGv/Qs6j/35NH/AArLxr/0LOo/9+TX1/RRyoPqcO7PLvgV4b1jw/oGqxa3p09jJLdI0azLtLALjIr1PY3oa8k/aJ/5EHT/APsJr/6Kkr5wpt20FKsqH7tK9j7q2N6GjY3oa+FaKXMT9d/u/j/wD7q2N6GjY3oa+Fansf8AkI23/XVf5ijmD67/AHfx/wCAfcDxuZGIU9aTyn/un8qlb7x+tJV2R6FiPyn/ALp/Kjyn/un8qkopWQWI/Kf+6fyqSJGAbII6UU5fummkFhdp9KNp9KSimMXafSjafSkooAXafSub+Gv/ACT+w/35/wD0e9dHXOfDX/kn+n/78/8A6Pemho6miiiqGc38R/8Aklniv/sC3n/oh6p7aufEf/klniv/ALAt5/6IequK5q/Q5q/Qbto207FGK5rHOZ0Ix8RtA/697z+Udd/XBR/8lG0D/r3vP5R13tdtL4DspfAFFFFamoUUUUAFFFFABRRRQAUUUUAFFFFABRRRQAUUVHJcQwuqSyxoz5KqzAFsdcfnQBJRUclxDEqNLLGiudqFmA3HrgetK88UbESSopABIZgMAnA/XigB9FMlnigCmaVIwzbV3sBk+g9+Kz9H1601jQINXj3W9tPkr55CkfMV55xyR696ANOimPPFHHvklRE2ltzMAMAZJ+mKeCGAIOQeQR3oA4Pwj/q9b/7Dl7/6ONdDXPeEf9Xrf/Ycvf8A0cao634yv7G91ddJ0iO+tdCjSXUZHuvLkwU8wrEm0hmEZDfMyjkDvkc0tZM55fEdfRVYXfn6WLywT7T5kPmwoGC+ZlcqMnpnjmsjw14gv9cs9U+16bDZXun3j2hgW6MiMwjRwS+wYzvx904x3qSToKns/wDXH/dNcbp3iPXn8aRaBq+l6bEWs3vJJbK/kmMSBgi7g0SfeYnHJ+43pXZWf+uP+6apbjW5borO8QazD4d8P3urXUcksdpEZDHEMvIeyj3JwPxrN0XxFqM+vvoniLTbewvza/bIfsly08bxb9hG4ohDKSuRjHzDBrU2Ojormtd8R6pb64ui+G9Kg1G/Fobyb7Tdm3jjj3FVAIRiWYqwHQDGSaiTxPqur+F9O1zwxp1hLb3VuZ5hqV+1uYTx8nyxuCc7gSSAMd6AOqpW/h+lZPhfXY/E3hew1mGFoFvIhJ5ZbdtOcEA/xDI4I4IwR1rWb+H6UANorl9a8U6jba1daZoGjx6nPY2S3t35t35AVWLhI0wjbnby3wDtAwMnmtaw12y1DwzBr0LN9hntFu1YqciMpu6dc4oA0qK47QfGt/qF9pK6voyafa69E82mOlz5r4VA4WZdoCMUywClgMEZ4qzB4l1S38VWej65p1hB/aHmfZzZX7TumxS37xWiTaCAfmGRnC9wSAdVH98U6mx/fFV9V1K30fR7zU70sLayge4mKjJCIpZsD6A0+gy1RXLaL4s1G61awsNf0aPTZNUtGu7Mw3Zn4XbvSTKJtcB1PG4ckZ45t674gu7HWbDRtGsIr7Ur2OWcLcXBhihhj2hnZgjn7zooAHJPbrQBvUVxcXj2fUdI0dtH0lW1bVJ57f7FdXBjS2eDcJi7hWJCsu3heSy9M5G34W19vEWjvcXFobK8t7iS0u7YvvEU0bbWAbA3KeCDgZBHSgDWm6LUVSzdFrmdc8Q6hba1Dovh/ToL/UXtmu5PtNwYIoolYKMsEYlmY4AxjhiTxgy9yXudDRWd4f1mHxB4fs9Ut0aNbmPcY26xsDhkPuGBH4Vz2leO7m+fSru50hLfR9anaDT7pLrzJScMyNJHsAUOqMRtZscZ68AHZU+L/WL9a47SvGdxrviA2+mQab/ZyzSRLJNqO26nEbFHkjgCHKBlYZLDIGeOM9jF/rF+tHUCWimyyxwQvNM6pHGpZ3Y4CgDJJrj9F8c3moXeitqWjpY2PiBWfTJVuvMkIEfmKJV2gIzICwAZsYIJzVFHZUVh+IvEE2lXWm6dptol5qeqSvHbxyymONVRC7yOwViAAOgBJLKOM5GUnjqeTSbdYtLR9cm1N9KNgbhliWdAzOTLsJ2CNC+7ZkjHGeKAOxob7o+tY3hzXpNZW/t721Wz1DTbn7LdwJIZEDbFdWViqkqyOpGQOuO1bLfdH1oAbRWB4g8RXOnatpmj6RYxXup6kJXRJ5zDFFFEAXdnCOerooAXkt1GCateG9dXxDoq3vkNbTJLJb3FuzbjDLG5R1zgZG5Tg4GRg4GaQjVori08eXTXEV6+kxLoE+p/2XFe/a8zNJ5ph8wxbMCMyLtB355BwBVjV/FOraHq8C6hpVj/AGddXkVpA0OoFrpzI4QSeSYwMZIyAxIGTQB1o+8PrTD1NPH3h9aYepoAKK4mw8e3l3e6dcy6OkWg6reSWVnerclpS4LBHeLYNqPsOMMSPlzjPG54m8QNoNvZLbWgvL7UbxLO0t2kMas7AsSzhWKqqIzE7T0xjmgDaormrHxDqupWOowWul2g1vTboW09pLessPKq4cSiMsVKOCPkznI7Zqbwx4jm12TVLW9s4rW80u6FtMLefz4nJjVwyvtXs/IIBHftQBwv7RP/ACIOn/8AYTX/ANFSV84V9H/tE/8AIg6f/wBhNf8A0VJXgvhvSrPWtcg0+/1B7BbhljjkS384l2YKF27l9eue1Zy3PJxSvVsjKoq1qdmNP1a8sg/mC2neIORjdtYjOPwrpLHwXbXVra282qPFrV9ZNe2tp9nzGUAYqjSbsh3VSQNpHK5PPE2OdRbdkcjU9j/yEbb/AK6r/MV0uleDLa/h0mC51VrfU9bR3sLZbfchAZkTzJCw273RlGA3YnFc3ZKV1O3VuCJlB/76oDlas2fcbfeP1pKVvvH61xZ8eXImN6dIUaANU/ss3xuT5vmeb5PmeVsx5fm/JnfnvjFbnvnZ0Vj+KNf/AOEc0cXSWxvLma4itbW2D7POmlcIilsHaMnJODgA8HpVDTfEmq3f9rafPpVsNd0tYma1ivCYZhICUZZCgIB2sOVzlTx0oA6enL901geDvEE/ifw6NRu7NLKYXM9u8EcxlVTFK0Zw5Vc5KZ6DrW+v3TQAUVjeJtfbQLO0NtaC8vb+7SztLdpfKV5GBPzPg7VCqzEgE8dDUfhvxBPq82pWOp2aWWp6XOIrmGKbzYyGUPG6PgEqVI6qCCGGOMkA3aK47WvHN3p02tT2Wjrd6X4f2/2lcG5KSA7BI4ij2EPsjZWOWXrgZ7LrXjS+t77UIvD+kxalDpFsl1fySXJiO1wWEcQCNvfYu7BKjlRn5uADsK5z4a/8k/0//fn/APR71u2d3Df2MF5av5kFxGssbj+JWGQfyNYXw1/5J/p/+/P/AOj3poaOpoooqhnN/Ef/AJJZ4r/7At5/6IeocVN8R/8Aklniv/sC3n/oh6jrnrdDCt0G4oxTqK5znsZijHxG8P8A/Xvef+gx13dcKP8Akovh/wD697z/ANBjruq66XwHXT+EKKKK1NAooooAKKKKACiiigAooooAKKKKACiiigArxr4i6dZwSeObvxF4euNSmutPU6VfC08xLaJLflfOA/c7ZQ8hyRnIwCeD7LWNq3hHRNcvBc6vZfa2AUGOSZ/KYKcjdHu2Nz6g+lAHmWvaPLL4gEuv27yaXdaLbQWcx0OTUhCQGMqBUBMTE7G3Y+bA5+Wtuw8E2uq+NkPiOxn1e0h8LWVqlzqVsQJJfMn3sQRhZQpGf4lDn+9z6XRQB47Zaednhi58e6BeanZnwxDbJE2nvcNBeceYGjVSY3ZdoDnGNrDIyazrbQtUtfD3gk69p866faafPFPBPpcmofZrlnXa0kK8klNwD4OOem6vc6KAPKNM8G2txqPgq3nsrjUtJs49TkH2yweKOLdJGYkaJ87VGDsVuyKeor0fU9Ij1LTks0uruwRGBVrCbyWAAwFyO3t7CtCigDzzwJaiy07VrYTTTiLWb1fMncu7/vjyzdzWbrej+IINR8RxaJYw3cHiKJALiScRizl8oQsXU8su1VYbeeCPStnwj/q9b/7Dl7/6ONdDXNJ2kznk7SZl2Md1pqx6bBZiSytLGNYbkzANJIuV2FMccKp3Z/ixjisTwXBrlrqetnWNG+ww39697HKLpJcZSJAhC85+QnPSuvoqbkmB4f0m8t9Z1zVtVx9pv7kRworZEdrFkRD6ks7n3fHaums/9cf901BU9n/rj/umnHca3M7xloc3iTwdqOlWkscNzcRfuHlGUEikMm7HONyjOOcVkWNpr934ruPEt/pCWklppLWVpZNdIzTyM+9yXXIVSY4wueeSSB0rs6K2NjjNStdfsfFUXiTS9Gjv5bvS1srmzF0sbQOjtIpDtgMuZHU9+AQOoqqPDlzpfgbTPDuoeF7XxWkUO6fdJEsazkkkhZegyzYYZPsK72igDD8G6bqOj+ELCw1qcT3sKsHYStIFBYlU3sAW2qVXJ67c1ut/D9KSlb+H6UAcbqmna7pfizUtX8P2MeoDVbCK3ZJLgReRPEZNjtn+AiTnblvl6HPE+leHrnTfCdj4QaIPYR6MbSbUFlAYShVTAjI6EFmznjAGOa6migDgdF0PxDPqPhhNbsIbWPw1bupuEnV1vJjD5KlFHzKm1nJ3YOcDB60y00TV7/x9p+tx+Gbbw40LO2pXS3SO9+pjKiPbGPnAYqwZ8EbOBXoNFADo/viqHiPSRr3hfVNIZgov7OW23H+HehXP4Zq/H98U6n0GcRpel+INQ8SaNqGuadHYpodhNCAtwkn2ueQIpZcD5UCxt1wfnHHBqa9s9d/tzRfFMGkq94lhLZ3+mJdqSgkMbgo7AK21o8E8ZDcdMHsaKAPObXwnrmh2+h6xDaw6hqlpdX1xe2cU4UN9scu4jdwASjbeuMgH1xXSeDNHvtK02+m1ZIor3U7+a/lghbcsG8jbHu/iIVVyQACc445roqKAGTdFrj9cs9Z0/wAYweINE04aqslibG4tROsLph96OGY4I5YEdemAe3YTdFqKpe5L3Oa8LaVqPhzQtI0ea3iugyzSX9ysuFhkdjIQqkZcFnYZyMAZPXFc/pPhbXEt/DHh+8s44dO8O3fnm+E6t9qSNHWFVTGQTvUsTjGw4zkV6LRQB5XafD/UbKe00u10q1jS117+0xrnmqJGh80yFNo+ffjERB+UrzntXq8X+sX60ynxf6xfrR1AS9tUvrC4tJSQk8TRMR1AYYP864bRfD+vPP4UsdVsora08Lht1ys6v9tdYGgjKKOVBVy53YwQAARzXf0VRRxut2mv3VxoPiK20hG1DTJrhZtMW7UmSGQFMrIdq7vljbB4xuGcgZy4/CeuQQWmvC2jfV49el1eXTxcADy5ImgMSyHguIypycKWBHA5r0aigDm/COk6haXOt6trMMdveaxffaPs8cgfyY0iSKNSwGC22PJxkZPFdI33R9aKG+6PrQByviLTtUj8WaN4g0ezW/8AscFzaXFt5wjdkl8tgylvl4aIZ5HDHrjFJ4Y07VdC023imsY5Z9S1C5vdQK3I22fmu8gC5Hz4JROMZ5b2rqaKQjzmLwrriafaeF1s4hplrrS6gdSadcSQC5NyEEYG4PuwnpgZz2p/ibQ9U8QeIraWz8LRadqFreRGLxGbmPckCSZYAIRI25AV2N8vznPrXodFACj7w+tMPU08feH1ph6mgDzfTPC3iBLXQfDd1ZQxaboWoLdf2mZ1b7RFGWMSJGPmV8soYtwArY3ZFbviCx1nU103UYNPjW70bV2uIrYXAY3UGySIkMQArFJCwB6EYz3rq6KAOMstN1S0g1/Vb3QxfXGuXSGTSftEZCQLCkOCW+RiQpYjOMNjtzN4G0W/0l9Ve40+HRtPuZ0ax0mCQOtqoT5zhfkUu+W2rx36k11tFAHk37RP/Ig6f/2E1/8ARUleE+E5LG38UWN3qt79jt7SaO4LeU0hcq6naAvcjPPTivdv2if+RB0//sJr/wCipK+cKzlueViXarc3tcTSLvxHqVzBqzSQTCW5idbVvmkZiREQSMdfvdPaugsfEmix3Ok+Ibi8mXUNK04Wg05YTmaREZI2En3QmCpbPPytwcg1wNFK5zqbTujutI8Q6KJfDWralcSRXfh5NhtEgJN1slaWLa3QcttYnGAMjNcfayNLq0Mj/eedWOPUtVWp7H/kI23/AF1X+YouJybsj7kb7x+tebN4V19tO/4RX7HD/ZP9uf2g2omdebf7V9q2bMZ8zf8AJ0245z2r0lvvH60lbHvnK+JtO1jXNLb7PYwRXWmarBd2KSXOVu0iZGJJA+QtmRQDnBAJ4PDdJstVh1bXvEt1pXl3d7DBBbaf9oQvshDkbnHygs0r8ZIAA55wOsooA4/4c2WtaVotxYa5pX2I/a7i5SQXKSh/Onkk24XpgMBz1rsl+6abTl+6aAOe8YaVe6ha6beaVEtxd6TqCX0duzhPPAV0ZAx4UlZGwTxkAHg1R0Wy1yyk1zX59KT+0dVu4PL043ajyoECR5aQArux5j4GQeFznJrr6KAPO9d8OeIseLdK0ezhltPFDBlvXuQotN8KQTbl6khU3LtzknBxjmTUtC8QaRqetR+HNOjv7bW7KKBJpLhYvsUqRGLdIDyybdp+UZyCMDrXoFFAFLRdNTRdB0/S4nMiWNtHbq5GCwRQoP6Vk/DX/kn+n/78/wD6PeujrnPhr/yT/T/9+f8A9HvTQ0dTRRRVDOb+I/8AySzxX/2Bbz/0Q9Jil+I//JLPFf8A2Bbz/wBEPS4rCt0MKvQbijFOxRiucxMk/wDJRfD/AP173n/oMddzXDsMfEXw9/173n/oMddrNLHBC80zqkcalndjgKAMkmuun8J00/hH0VzeheOdN16+t7aC2v7X7Zbm6sZbu38tLyIEZePnPAZThgpwwOKv63rh0byQmlalqTTbjtsIA+wAgEsSQB97gZycHAODWhoatFUNE1my8QaPBqelyGW1n3bWZSpBVirAg8ghlIIPQiigC/RRRQAUUUUAFFFFABRRRQAUUUUAFFFFABRRRQAUUUUAFFFFAHB+Ef8AV63/ANhy9/8ARxroaxPBsKvDrZZyp/ty+425/wCWxro/s8f/AD1P/fH/ANeueSdzCSdyvRVj7PH/AM9T/wB8f/Xo+zx/89T/AN8f/XqeVk8rK9T2f+uP+6aX7PH/AM9T/wB8f/XqW3iRJCQ5Pyn+HH9acU7jSdyWilwvqfyowvqfyrU1EopcL6n8qML6n8qAEpW/h+lGF9T+VOKggc9vSgCOin7B/e/SjYP736UWAZRT9g/vfpRsH979KLAJH98U6hFAbr+lLx6/pT6DEopePX9KOPX9KAEopePX9KOPX9KAI5ui1FU8gU7ckj8Kj2r/AHj+VJoTGUU/av8AeP5UbV/vH8qVhDKfF/rF+tG1f7x/KnRqokGGPX0oS1AfRWF/wmOl+lx/37H+NH/CY6X6XH/fsf41PtIdzP21P+Y3aKwv+Ex0v0uP+/Y/xo/4THS/S4/79j/Gj2kO4e2p/wAxu0N90fWsL/hMdL9Lj/v2P8a09O1G31W0M9tvCByvzrg5wPf3pqcZaJlRqQk7RZYop20ev6UbR6/pVWLG0U7aPX9KNo9f0osAg+8PrTD1NShRkc/pURZMnk/lQAUUbk9T+VG5PU/lSEFFG5PU/lRuT1P5UAeTftE/8iDp/wD2E1/9FSV84V9e/EPwKvxA8P2+mjUjp/kXQn8z7P5u7CMuMbl/vdc9q84/4ZqX/obT/wCC3/7bUyi2zz8RRqTneKPCaK92/wCGal/6G0/+C3/7bR/wzUv/AENp/wDBb/8AbaXKzD6tV7fkeE1PY/8AIRtv+uq/zFe3/wDDNS/9Daf/AAW//bakg/ZuWG5jl/4SstscNj+zcZwf+utHKw+rVe35HuLfeP1pK881j43eE9G1q8028TUTPZzvDJ5dupXcpwcHd0yKp/8ADQPgz+5qn/gMv/xdaXR6jrU09z0+ivMP+GgfBn9zVP8AwGX/AOLo/wCGgfBn9zVP/AZf/i6LoXtqf8x6fTl+6a8u/wCGgfBn9zVP/AZf/i66jwZ8Q9E8cm9XRVu1+xhDL9oiC/e3Yxhj/dNCaKjVhJ2TOpoo3L6n8qNy+p/KmaBRRuX1P5Ubl9T+VABXOfDX/kn+n/78/wD6Peuj3L6n8q5z4a/8k/sP9+f/ANHvTQ0dTRRRVDOb+I//ACSzxX/2Bbz/ANEPUmKj+I//ACSzxX/2Bbz/ANEPU2Kwq9DGr0G4oxTsUYrExOa1nTBqvjbw/bG7vLPMV23m2cxik4WPjcO1dRq+hy3HgTUtDtLmaWa4sJraOe5kLuWdGUFm78msWX/konh7/rhef+gx12tdNP4Tpp/Ced6K1zrviDwi0emX9kNCsZTfm8tZIRHK0SRrCpYYkOdxypIAQHPIzd8U+Mr+HRNOGjaRrEM2rblNydJnmOnRj7zvEilt5z8inAJ5JABz29FaFmJ4OtNOsfCNha6NDeRWcSMqC/hkinY7juZ1kAbczZYkgZzkcEUVt0UAFFFFABRRRQAUUUUAFFFFABRRRQAUUUUAFFFFABRRRQAUUUUAcV4M/wBRrf8A2HL7/wBHGukrm/Bn+o1v/sOX3/o410lYS3MXuFFFFIQVJD98/wC6ajqSH75/3TTW41uSUUUVRYUUUUAFP/hX6Uyn/wAK/SmgEooopjCiiigBy/epKVfvUlABRRRQAUUUUANk6LTKfJ0WmUmSwooopCCnR/6xfrTadH/rF+tMZ5TRRRXkHgBRRRQAV3Xg3/kBP/13b+S1wtd14N/5AT/9d2/ktdGH+M6sJ/EN+iiivQPXCiiigBR1FVm+8frVkdRVZvvH61LJYlFFFSSFFFFAEsf+rP1p1Nj/ANWfrTqtbFrYKKKKYwoHWigdaAPjf4g/8lJ8R/8AYTuP/Rhrna6L4g/8lJ8R/wDYTuP/AEYa52sHueBP4mFFFFBIV7l+zZ/rfEn+7bfzkrw2vcv2bP8AW+JP922/nJTjudGG/io92ooorQ9gKKKKACsD4a/8k/0//fn/APR71v1gfDX/AJJ/p/8Avz/+j3q4jR1NFFFUUc38R/8Aklniv/sC3n/oh6sYqv8AEf8A5JZ4r/7At5/6IereKxqdDKp0GYoxT8UYrIyMSf8A5KJ4d/64Xn/oMddpXG3H/JRPDv8A1wvP/QY67KuiHwm8PhCiiirLCiiigAooooAKKKKACiiigAooooA43XviZpmgx6vcS6bql5ZaMdl9e2sSNFFLtDeV8zhmb5lyQCoLDJHNW9W8d2Wl6hf2senahqA0uNZdRms0jKWasu4b9zqWO35sIGOCDjmuE8eaRq+PEnhzw7JeTR+I5lleAaRM2ySRFR9t1xCkeEUtkEjLDqwI6TWvhtFeeKNR1iCy8P6j/aZiaWLWtMFx5DogTdGwIOCoXKnuM55xQBpar8Q9M02e6W3s77U4LG1S8vbmwSN47WFwWVmy4JyoLYQMcc4pdW+IGn6bdTRW1jfapFa2aX15cWCxvHawuGKM25wWyFJwgY4GemM52qeBdX+06sPDupWFja67aR2t8kloxMGyPyt8ADgD93wFPAKg5PSsHxbpF74WXULPwnLev/aekw2j2o0ae83GNGiQxzLiJHKcN5hwMK2McEA7AePrWa+sLLTtJ1K+ur/T4tSjjhWIbIXJGXLOAMdwM9RjJ4qX/hNYYfElrpGo6TqGnm9meC0ubgwmOZ1VmxhJGddyqxXcozjscZj8M+Fp9JutPvbqVPMg0K20x4gMkPGSWOfTnH4Vz2mfC66stZ0+6muNKI0/VHv/ALVFYkXl4G8ziaUtzjzMYxg7V6bQKANm2+JmlXNztNhqUNoNQfTHv5YkEEdwspiCE793zMBggY+ZckHIFHRviIwu9Wi1ezvpbe11yTTvt8MKeRbkyhIkb5gxPzLlgpA3DJFZ2heD9e1TSfsV/exWujN4gur+e1ktXW4cJfSSIgYtjy3Ko+ducHjqDXQv4Kmfw5q+mfbIw2oaudRWTYcIpnSXaRnr8uM0AXLnxvplrp2qXLxXDSaZerYSWoCebJMxTy1QFgDv8xCpJHXnGDjU1fXNM0CzW71q+gsbdnEYlncKpYgkDJ74B/KuOn0NtZ+MaXsEN1HplhCk96ZIGjiuLxA6QbGYDzNqSOWKkgFY88jFegUAcJ8P7221HS9VvLGZJ7abWr145YzlXUzHBB9KxNdm1DVdR8ZTRarfaf8A8I7BH9hW2mMaeaLfzy7jo4JdVKtkYXpzXQ+DP9Rrf/Ycvv8A0cabrXgax1q8vZmvr6zj1OJIdRgtZFVLxFyAGypIyCVJUqSvB7Vi9zJ7mtYzSax4bt52d7WS8tFctFgNEXTOVzkZGeM56Vyvh/ULzSfDvjF5Ly61BtIvbgW7XchkfaltG4UnvyT+ddYuliO+kuLe7uYUa1W2S2jK+TDtLEOiFcBvmx3GFUY4rI0HwYmh3GoSPrep6nFqLPJc298IDG8jBVL/ACRKc7UC4zjGeM80hGDoj6lpGteEmm1m91Ea/aSfblupd6GUQiVZI1xiMcMNq4BDDjIBr0eH75/3TXMaJ4LtdFvLW4Oo39/9htzbWMd26FbSNsZC7VUkkKoyxYgDAI5z08P3z/umn1H1MPx1q11ofgfU7/T2CXUcQSFyu7Y7sEDY9i2fwrO0gT6F8Qf7AXUb6+s7rSzegX05meKSOVUYhjzhxIDt+6CnAGcV02q6Zaa1pF3pmpRCa0u4mhmQ91YYP0PvWTYeEVs2u5p9Z1O+vri1+xre3EkYlgiGcBNiKoOTuLEEkgZJwAKKM7WEudf+ILaA2oX1hY2ukrdk2NwYXklklZFJZecKIjx0O/kHFZUN1da58MdH1vVD4gvLyOJlkj0C4MUk7AlfMKhlDfczjp83Q10uo+D476W2ubfWNTsL+CzNkb22kjMs0RwSH3oylsjIYAEEnB5xSS+DxFpdjpug61qOg2dlALdIrAQkMmMc+ZG53f7Qwc89aAJfA9/dan4I0u71C7ivLmSD95NFnDEEjnIHzDGG4HzA8DpXQ/wr9KzNC0Sz8O6HbaVpocW9spCmRy7sSSzMzHqSxJJ9TWn/AAr9KAOF1SK+8ReONY05NXvNNg0jTYJLcWkzR7p5jL+8fH3woiUBSCOWyDWloPiS5vPhVZeJbxFa6fSVvZFA2hn8rcePQmptc8H2+tahJex6lqGmzT232S6Nk0YFzDliEfejYxvfBXaw3Hnpi/BodtbTW32eSaOztrI2SaeGBtymVwSpGSwCbQc9GbjmmM4vQZ9Q0rUPBs8+rX2ot4kgcXyTzb4hJ9nM4kjX/lmAVKhVwCGGckZrU8MR3Vj8QvEmmTapfahbw2VjPGLyXfsaRrgNtAAAB2L0Hareh+BLLQ7yzmW/v7yLTY2h022uXQx2SMACE2qC3A2guWIHAIycmn+C20/xXca9/wAJHrFzNdKiTwTfZ/KkRN+xSFhDAKZGIwwJ7k0AdSv3qyPFmrS6D4M1nV7dPMmsLGa5jU9CyIWGfbIrXX71QXlpBqFjPZ3kSy29xG0UsbdHRhgg/UGgDh9IjvfD3jLQbWTWb/Uota06ZrhL2cyYni8t/NQdEBEjAquF+7gDFXvELXOreP8ASvDgvbuysW0+41CdrOVopJmSSKNE8xSCFHmliB1wM8Vc0XwVbaPqkd8+p6hqEttaGys/tjxsLSElSVXagyTsXLNuYhQM0658HrPa6WItb1a3vtMjMUepJJE9xKrAbhIXjZGDFVJ+XqoxigDj9N1XWNd/4R7QL/VLpA97qcF5eWr+VLcpaSNEg3rgjcSrErgnafeur8CXl3PpupWV9cy3baXqc9lHcTkGSSNSChYjqQrBSepIyeafJ4IsBpul21hdXdjcaVI8trexMrTB3DCQtvVlbfvYtkck54wK09C0S28P6WLK0aSXdI8008xBknldizyOQACSSTwABwAAABQBfk6LXE60txrvxDi0BtTvbGxg0o3rrYzGF5ZGl2KS45woVvlBwSwzmu2k6LWBrXhlNX1C31C21K90q+gieAXNkY9zRuQSrB0YEZUEcZBpE9SDwFqt7rHgXT7zU5PPvNskU0oUL5rRyNGWxwATsz6c1yOi6hqaWPhDxVPqV9LN4gvBHe2Mk5aBUnjdlCIcBDGUQAjkjdnJOa7ux8O2umQ6Vb6bPdW1ppkTRR2yS/JMCoGZMgliOoOepJOazNO8Bafpuo2M0V5eyWmmySS2GnyOhgtXcMCVwoY4DMFDMdu447YAOa0eXU9C8Vwt4ui19BfancRWd0dTEtm2+WTyY2iV8qPL24yOuM4NeoR/6xfrXKt4JS61i0vdX1zVNThsbj7VaWdwYRFFKAQrZSNWYrk43Meveuqj/wBYv1o6h1PJLuc21lPOF3mKNn2+uBnFcjpc97av4YvJL64uX1kH7WkkpZNzQtKCi9EClcALgYPNdmQGUqwBBGCD3rD03wpa6beW0y3d3cR2SsllbzOpjtlYYIXCgngYBYnAry4tJO54cWknck8Qan9kjgsbedILy/YpFI5wIkGN8n/AQeB3YqO9cqNfvYvA+hJBPc3dzf3htZJIpFMzAb22hm4BO1Rk9ASfeuzj0a0+yRwXq/2j5bOVkvVWVxubJGSOnQfQCqUXhHTrfQ4NMtvNgW3nFxDPHtWRJASd3TBODjkHjinGUUi4yglZi+GLqOa1urfy72G4tZzHPBezmZ422gjDknKkEEHPc16r4N/5AT/9d2/ktea6Ro8WkxzlZpbme6l864uJ9u+VsAc7QAAAAAAABivSvBv/ACAn/wCu7fyWtaNvaaG2GadbQz/Ez3Wp+N9D8Ox311ZWc1rdX1y1pKYpJfKMSom8cgZlJOCM7QOnWz4D1K7v9BuYtQuWu5tP1G6sDcuMNMsUzIrNjjdgDOOMg9OlXtd8Oxa1NZ3Ud7dadf2Jc295aFN6BxhlIdWVlOBkEHlQe1M03wta6RYaZZ6feX0UVhM87/vsm8dw+8zEj5ss5fjHzY7DFd56pxFvqeqf2HY+MTqV611ea+tq9k058gW7XZthEsX3QQuG3Y3FgcnHFJe6nqb6VrXi0anfRT6XrrWtvZJORbtBHOkDI0fRi4DtuPILDBGK6mL4f6fFqyXIvr82MV6dQi0oun2aO5JLGQfJv+8xYLu2hjnHTC3Pw/0251GWV7u9FjcXy6hcaWHQ281wu0h2BXdjcqsVDbSwBx1yAdUOoqs33j9asjqKrN94/WpZLPLNH1HU/wCyfDHiyTVb6afWtTWG5tHmzbiGZnCosfRSmE+YfMdpz146jxvdXXmaDpFpdzWS6vqQtp7iBtkixLFJKyq38JbywuRzgnHPIfZeBLCy1K0nF7fTWdjPJc2emyuht7eV92WGFDHG9toZiF3HA6Yt3vhWDULFre51DUGkW+N/b3PmqZbWTJIEZK42gEqFII2kg5pCOJ1LUtYsrDXtEg1DUZbXTtZtYZ7+ItJdW9lLHHJJhhliV3Ebhlgpz1Ga2Ph7rRvdc8R6Vb3t7f6bp8sD2NzfFmdklQllDt8zqHRsM3PPUgA1t2XhQado93bWer6hHfXtwbm41QmJp5JTgZIKGMDaqqFCAAAYGeauaLoNvoi3LpNPd3d5KJbq8uSplnYKFBO0BQAqgBVAA7DrQBsR/wCrP1rl/F1xcT634d0KG5uLSDVLmU3UttIY5DHFCz7Fccrubbkgg4BAPNdRH/qz9ayvEPh2DxBDa77m4sruym8+0vLUqJYH2lSRuVgQVYggggg/SqRSM/wRdXLwazpt3cy3f9k6pJZxXE7bpJI/LjlXc3cjzduf9muS1LUNVOl+IfFqatfxz6TrDW9tYpLi38iKVImRo+jFxvO48gsMYxz2th4RttNsI7e11DUFkN//AGhc3PnAS3kuct5pC4KnABVQowABgCq1z4DsLnUZ5je3qWN1eJf3WmKY/s886bSGbKF8ZRWKhgpI5HJBYyprEV1ZfE/w7NFquoNBqD3CS2TTf6OoS3JGEAHO4bskk5PpgDsx1rmtc8Gtrev2mrf8JFq9jLZbvs8Vr9n8uMsu1j88LEkj1J9sV0o60AfG/wAQf+Sk+I/+wncf+jDVmd7a9+GBuBp1nb3FrqUFss8EWHkUwyk7mJJJJUH09AKrfEH/AJKT4j/7Cdx/6MNJH4sWPwq+hf2DpbQuwkadvP8ANMoVlEmfN27gGPG3b7Vj1PDbXNK4ng2ytrrVbu4vYUuI9PsLi8WCQZSR0QlAwyMruwSO4BHeuk07SrDX18PaveWVrG0q6gbq3hi8mO5+yxCZflTAG7cFO3HAzXJ2PiS502/s7qytbSFra2a2kRYztukbdv8ANGfmLK5UkY4AxgjNWpPGl+uo6dcadb2mnQ6Zv+y2lujGJd/+szvLM24HByTxwMAChWCMopa/1sWNcaHV/BVjrn2G1srtL6azl+yQCKOVdqyKdq8Ajcw46jbXpH7Nn+t8Sf7tt/OSvJNY8QyarY2ljFY2unWVozvHbWgfaXfG5yXZmJO0DrwAAK9b/Zs/1viT/dtv5yU1ua0WnWX9dD0/xveXUUGjadZzy2x1bVIrOWeB9jxx7Hkfa3YkRbcjkbuMHFM8Iyz2ut+IdClu7m8t9Nnha2lupTLIqSxBihc8thgxBOThgM8Vr69oNr4hsYre7eWF7edLm3uIGAkglQ5V1JBGeowQQQSCCDVGz8IQWWn3kUep6gby/ukurvUhIi3EzoVwpIUKE2oE2gAbSQOua0PWOS1271S8h8da5b6zd2cnhsslhbxSERDyraOdzIg4k3s5XkZAHGDTPH/i66udMng0fUv7NbTore5vZI5dkrSSMhSBfbYxdj6bB/EcdVqvgWx1bVLy6e+v4LfUlRdSsYZEEN6EGBvypZcrhTsZdyjBzVnxD4L0LxLZXMGo6fAJLnbvuY4U875SCPmKn0A+lAG4jrJGrxsHRgCrKcgg9wawvhr/AMk/0/8A35//AEe9bkUUcEKQwRrHFGoVERcKoHAAA6CsP4a/8k/0/wD35/8A0e9VEaOpoooqijm/iP8A8ks8V/8AYFvP/RD1exVH4j/8ks8V/wDYFvP/AEQ9aGKyqGcxuKMU7FGKzM7GFdf8lE8O/wDXC8/9Bjrsa5C7GPiH4d/64Xn/AKDHXX1tDY2jsFFFFWUFFFFABRRRQAUUUUAFFFFABRRRQAUUUUAFFFFABRRRQAUUUUAFFFFAHFeDP9Rrf/Ycvv8A0ca6Sub8Gf6jW/8AsOX3/o410lYS3MXuFFFFIQVJD98/7pqOpIfvn/dNNbjW5JRRRVFhRRRQAU/+FfpTKf8Awr9KaASiiimMKKKKAHL96kpV+9SUAFFFFABRRRQA2TotMp8nRaZSZLCiiikIKdH/AKxfrTadH/rF+tMZ5TRRRXkHgBRRRQAV3Xg3/kBP/wBd2/ktcLXdeDf+QE//AF3b+S10Yf4zqwn8Q36KKK9A9cKKKKAFHUVWb7x+tWR1FVm+8frUsliUUUVJIUUUUASx/wCrP1p1Nj/1Z+tOq1sWtgooopjCgdaKB1oA+N/iD/yUnxH/ANhO4/8ARhrna6L4g/8AJSfEf/YTuP8A0Ya52sHueBP4mFFFFBIV7l+zZ/rfEn+7bfzkrw2vcv2bP9b4k/3bb+clOO50Yb+Kj3aiiitD2AooooAKwPhr/wAk/wBP/wB+f/0e9b9YHw1/5J/p/wDvz/8Ao96uI0dTRRRVFHN/Ef8A5JZ4r/7At5/6IetHFZ3xH/5JZ4r/AOwLef8Aoh61MVnMiYzFGKfijFZmZgXn/JQ/Dn/XC8/9Bjrr65K+/wCSh+HP+uF5/wCgx11tbR2NY7BRRRVFBRRRQAUUUUAFFFFABRRRQAUUUUAFFFFABRRRQAUUUUAFFFFABRRRQBxvgpsW+t/Kp/4nl91H/TY10u//AGF/KuY8F/6jW/8AsOX3/o410lYt6mT3H7/9hfyo3/7C/lTKKVxXH7/9hfyp8T5Y/Ko47Coakh+8f90009Rrck3+y/lRv9l/Km0VRQ7f7L+VG/2X8qbRQA7f7L+VKXwBwOnpTKVui/SgBd59B+VG8+g/Km0UAO3n0H5Ubz6D8qbRQBIj5boPypc+wpkf3xTqfQYufYUZ9hSUUALn2FGfYUlFAA5wBwPypm7/AGV/KnP0WmUhMdu/2V/Kjd/sr+VNooAdu/2V/KlRsuOB19KZTk/1g+tAFT+xtM/58Lf/AL9ij+xtM/58Lf8A79irtFLlj2J5I9il/Y2mf8+Fv/37FL/Y2mf8+Fv/AN+xVyijlj2Dkj2Kf9jaZ/z4W/8A37FWYLeG1h8u2hSJNxO1FwM0+l/h/GmklsNRitkGfYUZ9hSUUyhc+woz7CkooAcDz0FNIXP3V/KlHUUHrQAmF/ur+VGF/ur+VFFABhf7q/lRhf7q/lRRQAowF4A6+lGfYflR/D+NJQAufYflRn2H5UlFAC59h+VGfYflSUtAHPXngbwreX01zd+HdNmnmkLySSW6lnYnJJPc5qD/AIV74O/6FjSv/AVa6R/vn60lIjlj2Od/4V74O/6FjSv/AAFWj/hXvg7/AKFjSv8AwFWuiopC5I9jnf8AhXvg7/oWNK/8BVrnvHlxb/DHwVPqvg3S9PsLma5iik224w6/N1Ax0/rXodeafHv/AJJe3/X7D/JqCKiUYNrc8w/4X94z/wCod/4C/wD2VH/C/vGf/UO/8Bf/ALKvMaKz5meV7ap/Menf8L+8Z/8AUO/8Bf8A7Kj/AIX94z/6h3/gL/8AZV5jRRzMPbVP5j07/hf3jP8A6h3/AIC//ZV7n8J5muPhdo80mN8iyu2OmTK5r4+r6++EH/JJtD/65P8A+jXrSm2zuwc5Tb5mdpRRRWp6BzfxH/5JZ4r/AOwLef8Aoh61cVlfEf8A5JZ4r/7At5/6IetaomRITFGKWisyTAvv+SheHP8Arhef+gx11tcnf/8AJQvDn/XC8/8AQY66ytY7Fx2CiiiqKCiiigAooooAKKKKACiiigAoorjvCl7rviSSbWbjVUtrNL+5to9Mit0YBIpXi/eOctvJTdwQBnoaAOxorySHxd4sg8F6Zrl1qMVxPreopp9vbQ2aAWwMrjeMsDJIVjIAJC7mHBxk3pvEvjHT9MktLxGt5LvVLOw0/VL+3iV9sxw7NEjbSykELyASy8cEUAekSXVvFv8ANnjTy9pfc4G3JwM+mT0qWvGbu51LStW8ff2lc2uqz2w0aNZZrVNsiNK2N8fK7huPIx0BAFdl4Utb4eO/GM0upzPbpqkYFsYk2nNnbkc4zxnHB5xk8k0AdpRWF4xudctfDrS+GYGnvBNFvVEV5BFvHmFFZlVmC5wCR+PQ8uPFGpX0Oj6PoutOb3UL6e2uL+9sAk1n5UXmNEYsBfMPGCRjaScHjIB6LRXE6rceIl1/RvC1lrggmuLW5vLjVHtIzI6xtGqxqn3c/vfmO3ooxjNYdp4r8Ua8/hvTLLUrW0nurrUbW/v0tQ4kFq+wSRKSQNxHqQNx64xQB6lRXlsPizxfqF/qM2kWt1eJpuqvYLax20IinSNwkjSSM4ZXI3MNoCjK8MOa9F1WbUoLQNo1lb3txvAMdzdGBQuDk7gj89OMd+tAHMeC/wDUa3/2HL7/ANHGtDUfEui6TfRWepanbW1xNgrHJIAcE4BPoCeATgE8Vk+AXuJNM1Zr2GOG4bWr0yRxSGRUbzjkBiFyPfArlfEN/p2m3fxJttalSOfULKI2kUpAa5iNr5apGOrHzfMGB/E3TnnF7mT3PUZpora3knuJEihiUvJI7BVRQMkknoAO9U9H1zS/EFm13ol9BfW6v5ZlgfcobAOM/Qg/QioNMvobaxt9N1O7i/tG20+Ka7jkcZVcFS7dsbkfnpwa4zw5rFrqtj49tfD2qWtzqM17czWqW1wjOwNtCqyKAfu78Dd0zSsI7PTPFOh61eyWmlapbXU8YLNHG+SVBxuH95c8ZGRmtqH7x/3TXluialp+rax8PYdDniley06U3UMTZa2h+zqm1x/CfMCDDc5XpwcepQ/eP+6afUfUSaaK2t5J7iRIoYlLySSMFVFAySSegA71m6L4m0bxEJv7F1CG7MOPMVCQVB+6cHnBxweh7Vl/EuGa4+GutxW6PITb/vEjBLPGGBkAA5OU3DFZlrrGlX3xQk1bSr+1uNOs/D7Le3VvIHij/fB4wzA4BCrKcdcHPeqKOq1fxFpGgLGdZ1CCz83OwStgsByTjrgdz0Heo9T8UaLoy2zalqMMK3SloW5YOoxlsjPy8jnpzXL3ms6XpvxRGq6vfW9vp134dX7HczsFjfbMzyhWPfa0JI7gCqfh+/bTPhPoNlceJLLwxftaebC1+qMUtwTtGx2XohTnPGKAPRLW6t76zhu7KaO4t50EkUsTBldSMggjqCKnbov0rkfhbNHP8MNEeGAwRiAqo5w4V2HmDIB2vjeOBwwrrm6L9KAMjWfFGieHpIU1vU7eyaYFkEr4yoxlj6KMjLHgZ61qgggEHIPQiuA1DUtM0X4jeIp/FE8Frb3WiWy2slwwUSxo0/mxoT1OXUlRkncvHSrPhuS5j+Fek6E1x5PiCTw6rxQOxEikRKu4g8/KzID7mgDf0rxboOt38tlpOq213cRKWKRtncoOCynowB4JGRmrR1rTV1xdGN7D/aTQfaBa7/3nl5xvx6Z4zXnGj6jYXk/w9g8OmO7utMsJTc20Drvt4xabDHICf3ZMvlrhscj2OKOgnWLX4raDPrfhy+g1a+s72S9nea2KsWa3GV2StiKNVVAPvEYOCSxoA9lj++KcSFBJOAOST2psf3xWN42t7y78A6/baYXF5LptwkHlnDFzGwUA9jnvTGTaP4p0PxBJJHouqW168ah2EL5ypOAw9VzxkZFS6zr+l+H7eOfWb2K0jlfy4955dsE4AHJOATx2FcRo99pereLvB8nhmeCa30/RbgXJt2XFvCwhWNH7qSyHCn+43pVu/wBa03/hYvhvXLi9t/7GudIu47O9kdRD5zvAwwx4BaNWxzyAwHegDqbrxJo1lpMGqXOpWy2VyFME4kDLNuGV2Y+9kc8Z4q5Y39rqdjFe6fcR3NtMu6OWJsq49Qa8l8PTRWFz4S1a+k8jRn1DWTazy/LHEJZWa3JLAbQ0YfaeOGA74rsvhw4uNJ1e8t38zT7vWbuaxdWyrRF8bl/2S4dhjgg570Adc/RaytY8RaR4fjifWb+GzExIj8xuWx1OOuBnk9B3xWq/Ra4fVdTttF+K9vda3dxWdhJokkdtPcSBIxIJlaVcnjJXyzjrhD6GkI7G3uIbu2juLWVJoZVDxyI2VZTyCD3FZtn4p0PUNWk0yy1W1nvY2dWhSQE7kOHA9Sp6gcjvWF8OruGz8C6DZXMywz3sc0llDIpVni3s6YU84EbJ+Fch4eubaXw38PdGspY5NcsdS3XsCuDNAUjmFy7gnIBZiCT1LjrkUAek2/i/QLrWBpcGq2zXzO0aQFsNIyglgufvEAEnGa20/wBYPrXmHiXWLW98c+GmtvEFlrFt/a0Yi0W02GaF/LdTOWVixVMkkEAc8ngA+np/rB9aAHVk6d4q0LV9Un07TNUt7m8t8mSKNsnAOCR/eAPBIzg8GrmqRTT6ReRWhInkgdYiDghipA/WvMPDF9YamnwzstEkQ3WmwSNfQRMu61RbRopFkUfdzK0Y56nmmM9M1bWdP0Oy+16tdx2sJYIrOeXY9FUDljweBk8Gq7+KNDj0Ea22qWv9mMQFulkBRiW2gAjqSeMDnNc14h1qwfxR4O1g3kLaMtzeRNdmQCKOfymRCW6A8SoCe5x3FcvaTxC6sNclkT/hHf8AhM7q5W5YkQhGt5I0l3HgJ55bDdCWBzzmgD1fS9WsNasFvdKuo7q3YlRJGcjIOCD6Eehq5/D+Ncd4FmjvNZ8XX1hIsumXGrg20kZyjsttCkrKehHmKwyO4aux/h/GgChq2t6boVuk+r3kVrHI/lx+YeZGwTtUdScAnA7A1PZX1rqVjFeafcR3NtMu6OWJgyuPUEVyniO6h0z4leG9Q1S4jt9P+x3tussz7I0uGMLLkk4BKJIB36jvUPw5vbS18OAtJFb2+razfSaVH93zommlkXYPQqGcexFAHQp4s0GTxC2hpqts2pqSDbB/m3Abivpuxzt645xT5PE+iQ62ukS6pbLqDEKLcyDduIyF9mIGQvUjtXl1ldWzeE9M8PpOi+JIfFu6S3DL5wZb5pZJWUHJXydx3dCDjPNOvrq1Twz4i0JplXxFceK99vbMwE7u91HJDIoPJAiCHd0CoeRjgA9kHUUHrQOooPWgDJtvFGiXmsPpVrqltNfIWBgR8nK/eA7EjuB071b1LU7LSLF73VLqK1tkIDSyttAJIAH1JIAHcmvKNCu7d/DHgbQoZ1XX7PWc3NruCzRGMzG4ZlHIUgtyeDvXru56nxhqtlPceHdQF3E+mab4g8vUJCcJC4iljXeTwAsrJnPQ49KAOkTxPokmhS6yuqW39nQ5Ety0gCxkHBVs9DnAweckCpdH13TNftGudHvI7qJHMblMgow6qwPKnkcEd68svZYbi81nWrUxnw8fFthLLPH/AKpxEkayykjgqJQuW6ZRs9K6/wAJXFvqPj7xbqOlTx3OnTCyjFxA2+OSdI38zDDgkK0QOOmMUAdp/D+NUtV1iw0OwN5q10ltAGCb3/iYnAUAckn0HNXf4fxrjfGksNj4p8I6lqcsUGmW17OJZp5AkcUr27rEzE8ddyg+rAd6AOn0zVLHWdPivtKuo7q1lzslibIODgj6gggjtVSfxRoltrSaRcapbR6g7Koty/zbm5VfZiOQOpHNc54K1Sxt012+a4jj07VPEUi6bJn5LgskaEoRwQ0qynI4PJ71yupXlvH4Y8V6DLNHD4guvEZNpbMwE0ryTRtBIoPJGwKdwzgI3TbwAemXvirQ9N1iHSr/AFS2gvptmyB3wfnO1M+m4jAz1PArXrx7xFeWVlonxO0zU5Ej1jUbhnsoWYeddB7WJLfyx1bDqQAM4IPSvXYFdbeNZiDIFAYjoTjmgAf75+tY/wDwlehf28dF/tS2/tENsNvv53bd23PTdjnb1xWw/wB8/WvHftECeEf7DM8a+Jj4u8wW+798XOo+b5uzrt+z5bPTb3pCPWb6+tdMsZr3ULiO2toFLySyNhVHuag0fXNN1+0a50e8juokcxuUyCjDqrA8qeRwR3rmPHt9aXmi280U8c1ppWvWf9pgNxCqyozb/Zd6OfQc1lHUL691zxlqHgmFtSS4jsLVJ7KWLBmAkE0iM7BGdI3i6nqqg9KAO907WtN1aa8i0y9hunsZzb3KxPu8qQdUb0I9K4L49/8AJL2/6/Yf5NS/DEvbeLPF1imh3mmQRT2uFuZYXMZW0hUKxSRtzsPn3cjnk7sik+Pf/JL2/wCv2H+TUmZVv4cvQ+bdN0q/1m9Wz0qzmvLhgSI4ULHA6njoPeory0uLC9mtL2JobiBzHLG45RgcEH3qXTLG71HUYrfT7Wa6nLZEUEZdiByTgc103j7Q9Vk+J2txLp10Hub25ngDREebGrMxdc9QFBOR6Vn0PGUbxuYVl4a1nUtNk1Cx024ntYywMqLkEqMtj1wCCcdKTTPDmsazbST6Xp1xdRRnazRpnJxnA9TjnAyQOa7zQbe7u9T+Hd9piSNp1guLyVBmO3ZbmR5/MbouYyCc/wAJFVdP0+51Wy8HzeG7aaWO11OfzjEMiCTzlcMx/h/dhOTgfKeeDh2NfZr+vl/medEEEgjBHUGvr74Qf8km0P8A65P/AOjXr5R8QS28/ibU5bLBtpLyVodvTYXJX9MV9XfCD/kk2h/9cn/9GvV0+p1YLRyO0ooorU9I5v4j/wDJLPFf/YFvP/RD1sYrH+I//JLPFf8A2Bbz/wBEPWziokTITFGKXFGKkk5/UBj4heHP+uF5/wCgx11dcrqP/JQvDf8A1wvP/QY66qtI7FrYKKKKYwooooAKKKKACiiigAooooAKw18G6EmvnWo7Jo75pPOZ455FR3xjc0YbYzY7kZrcooAy5PDOjS+H/wCw5dPhfTe1swJUHduyO4IbkEcg8iqo8E+H/wCx7rS5LDz7S72+etxPJKz7fu/OzFht7YPHbFb1FAHP23gXw3Z2t5bwaWgS+MZui0js0xjYuhZiSSQxJyTn8qsX2ixR6hJrWk2FvJrBUJvmuHhRx0+baGyQvQlT6cVsUUAYB07UNdia18VadYx2y4eM2V/Mzhx3zsQrwTyDTpfBXh6fRU0qbTI3tI5vtChmYuJc58zzM79/P3s5963aKAMC98D+HtR0u20+9sGmhtWZ4Wa4l81Gb7x83dvyc8ndzVyz8OaRp66etjp8NuumRvFZrGuBCrY3AD3wMmtOigDEu/B2hX2rNqdxY/6U7K0jRzOizFRhS6KwVyB/eB6D0FbdFFAHF+C/9Rrf/Ycvv/RxroXhikkR5I0d4zlGZQSp9vSue8F/6jW/+w5ff+jjXSVhLcxe40xoWLFFLFdpOOSPT6UyK1t4GLQQRRsRglEAOPwqWikIiitoIJZZIYI45JjmRkQAufUnvVmH7x/3TUdSQ/eP+6aa3Gtx1QxWdtbwvFBbxRRyEl0RAAxPUkDrmpqKosjkghlRUliR1UgqrKCAR0IptxZ212FF3bxThfuiVA2PzqaigApW6L9KSlbov0pgQy28E5UzwxylDld6g7T7Z+gp+xfM37RvxjdjnHpmnUUgIorWCCWWSGCOOSY5kdEALn1J71JtUsGIG4AgHHIB/wD1ClooAdH98U6mx/fFOqugxiW8MfmeXEi+YcvtUDefU+tNktbeaEQywRvEvRGQFRxjpUtFADJIIpoTDLEjxEYKMoKkfSngBQABgDgAdqKKAEfotQTQQ3CBLiJJVByFdQwB9eanfotMpMTGlFLq5UFlztYjkZ60iwxLM0qxoJXADOFG5gOmTT6KQEMdnbRXDzxW8STP96RUAZvqepqwn+sH1ptOT/WD60wHVFFa28EsskMEcckxzI6IAXPqT3qWimMjktoJrdoJYY5IWGGjZAVI9x0pfIi8gQ+UnlBQoj2jaB6Y9KfRQA2ONIY1jiRY0UYVVGAB7Cn/AMP40lL/AA/jQAyWKOeJo541kjb7yOuQfwNHlplDsXKfdOPu9uPSnUUARC1t1umuVgjE7LtaUINxHoT1xTjBEZxMYkMqrtEm0bgPTPpT6KAFHUUHrQOooPWgCNYIlmaZYkErgBnCjcwHTJpfKj2MnlrtfO5dvDZ65+tOooAYsESQeSkSLEF2iMKAuPTHpRBbw2sCw20SQxJ91I1Cqv0Ap9FAC/w/jUc0MVzC0NxEksTjDI6hlYe4NSfw/jSUANWKNY0RY1CR42KFGFx0wO1IYIjOJjEhlVdok2jcB6Z9KfRQBG9tBJMs0kMbSp912QFl+h7dTUtJS0ARv98/WovIh8/z/KTzcY8zaN2PTNSv98/WkpCGeVHtdfLXEmd42/ezxz60kEENrCsNtEkMSfdSNQqr9AKkopAIFVSxUAFjkkDqen9K81+Pf/JL2/6/Yf5NXpdeafHv/kl7f9fsP8moexlW/hyPmSOWSJt0TsjeqnBpzXEzyCR5pGcDAYsSQPTP41HRWR4g9JpUjaNJHVH+8oYgN9R3oSaWJXWKR0WQYcKxAYeh9aZRQAV9ffCD/kk2h/8AXJ//AEa9fINfX3wg/wCSTaH/ANcn/wDRr1rTPQwO8jtKKKK1PTOb+I//ACSzxX/2Bbz/ANEPW1isX4j/APJLPFf/AGBbz/0Q9blTIljcUYp1FSI53Uv+SheG/wDrhef+gx11Vctqf/JQvDf/AFwvP/QY66mrWxS2CiiimMKKKKACiiigAooooAKKKKACiiigAooooAKKKKACiiigAooooAKKKKAPNfD3irQtGl1y01XVbW0uBrV6xjlkCtgynBxWx/wn/hP/AKGCw/7/AArsqKhxTJ5bnGn4geElBJ8Q2AA5JMw4oHxA8JMAR4hsCDyCJhzXT6rYjVNGvbAyeWLq3eEuBnbuUrnHfrTtNs/7P0q0st/mfZ4Ui34xu2qBnHbpRyIXIjlv+E/8J/8AQwWH/f4VJF8QPCQY58QWA4/57Cuuoo5EPlOS/wCFg+Ev+hhsP+/wo/4WD4S/6GGw/wC/wrraKfKOxyP/AAsPwgGCnxFp+4gkDzxkgf8A6xS/8LB8Jf8AQw2H/f4VuPpAfxRBrPnYMNnJa+Vt673Rt2c9tmMY71o0coWOS/4WD4S/6GGw/wC/wpzfEHwlhf8AiobDp/z2FdXRRyhY5L/hYPhL/oYbD/v8KP8AhYPhL/oYbD/v8K62ijlCxyK/EPwg6hk8RaeysMgicEEUv/CwfCX/AEMNh/3+FbPhnRR4c8K6Xoon+0DT7SO2ExTb5mxQu7GTjOOma1KOULHKJ8QfCQYZ8Q2H/f4U7/hYXhH/AKGLT/8Av8K6minYLHLf8LC8I/8AQxaf/wB/hSH4ieDwwU+I9PBboPPHNdVWXe6KLzxJperefsOnxzx+Vsz5nmhOc54xs9+tFgsZX/CwvCP/AEMWn/8Af4Uf8LC8I/8AQxaf/wB/hXU0UWCxyr/ELwiQMeIbD/v8KZ/wsHwl/wBDDYf9/hXW0UuULHJf8LB8Jf8AQw2H/f4Ui/EPwg6hk8RaewPQicGuurO0DSBoWjR6eJvPEckjhyu3O+RnxjJ6bsfhRyhYw/8AhYPhL/oYbD/v8KcnxB8JBxnxDYf9/hXV0UcoWOW/4WF4R/6GLT/+/wAKP+FheEf+hi0//v8ACupop2Cxyp+Ing9SobxHp4LHABnHJ6/0pf8AhYXhH/oYtP8A+/wrV1TRRqeraLemfy/7Ku3uQmzPm7oJYduc8f63OeemO9alFgsct/wsLwj/ANDFp/8A3+FL/wALC8I7f+Ri0/r/AM9hXUUUWCxy3/CwvCP/AEMWn/8Af4Uf8LC8I/8AQxaf/wB/hXU0UWCxyq/ETwe2dviPTzg4OJxwaX/hYXhH/oYtP/7/AArY0TSBo1vdRCbzvtF5PdZK7dvmyF9vXnGcZrRosFjlh8QvCOf+Ri0//v8ACj/hYXhH/oYtP/7/AArqaKLBY5b/AIWF4R/6GLT/APv8KRviJ4PXG7xHp4ycDM45NdVWbrGkDV/sOZvK+x3kd0Pl3b9mfl68Zz1osFjI/wCFheEf+hi0/wD7/Cj/AIWF4R/6GLT/APv8K6miiwWOX/4WF4R2/wDIxaf1/wCewpP+FheEf+hi0/8A7/CupoosFjlv+FheEf8AoYtP/wC/wpB8RPB7FgviPTyVOCBOOD1/rXVVl6Poo0i61eYT+b/aV8bwjZt8vMUce3rz/q85460WCxlf8LC8I/8AQxaf/wB/hR/wsLwj/wBDFp//AH+FdTRRYLHKN8QfCRc48Q2HX/nsKb/wsHwl/wBDDYf9/hXW0UuULHIt8Q/CCDLeItPUZAyZx1PApf8AhYPhL/oYbD/v8K3Ne0ga5pa2Zm8nFzb3G8Lu/wBVMkuMZHXZj2zWjRyhY5L/AIWD4S/6GGw/7/CuC+M3inQtc+HrWekara3lz9rifyopAWwN2T+te1UUcpMoKUXE+Evss39w/nR9lm/uH86+7aKn2aOP6lDuz4REEhYqFyV6jI4pfss39w/nX2zYaKLHX9W1MT7/AO0jCTHsx5flpt655z17VqUezQfUod2fCX2Wb+4fzr65+EIK/CfQwwIPlPwR/wBNHrtKKqMeU3o0I0r2e4UUUVR0HOfEVWf4XeKVRSzNo12AAMknyXqD/hYXhH/oYdP/AO/wrqqKTVwOV/4WF4R/6GHT/wDv8KP+FheEf+hh0/8A7/CuqoosKx5zqHjjwxJ440G5j1yyaCCG7EsglG1Cwj25Pvg/lXZXuv2lv4Vu9ftXW7tLe0kulaN+JFRS3B/DrWpVbUrCDVdKu9OvFLW93C8EoBwSjKVP6GmM5LRtd1621rQYPENxb3UfiC1klRLe2MYtJlRZNmSxLLtLAE85X34v+JNV1P8A4SLSfD2h3EVnc6hFPcy3ctv53lRRbAQq7gNxaVBk5AAbjOKq6H4R1e21jSrnxBqlrfxaHZvbWJit2jkkZwqmaQliN21MYXj5mPoKmuvDuuTtouqrqVmde02OWKWV7ZvIuElxuXaGBHKIQcn7vTmgC34L1u81zQpW1VYRf2V5cWNy1vkRu8UhTcoPIBABwemaKseFtA/4RzRPskk/2q5mnlurq4CbRLNK5d2C5OBlsAZOAAMnrRQBsUUUUAFFFFABRRRQAUUUUAFFFFABRRRQAUUUUAFFFFABRRRQAUUUUAebeOYb3SvEOmXEvjrV9E0u/uXFzKwtjBbgKNsalosoWJ4d2IG0jBJFaPw5v57y41tU8R3HibTYpoxaajKI9hynzxq0aKr7TjLAkfMBgEHMfxS1q90rTLeK31JdItZ4rhpb4xox8xEDRQjeCo3nPJH8OByRV/wV4hOv32qGyvEvdKtVtooJoghjE3l5lRGX7wGUznOGLDpgAA62iiigAooooA8ui1fxFHqSJ8PLu98TWImInTV4dkEQyc7LttrNjPGFm/DFegaFqsur6b591YTafcxyNFPbSkMY3U4OGHDKeoYdQR06VwNjrmu+F2XRL3xB4KXyZmEaXmputwsbOSqsCBlgDjPGcV6fQAUUUUAFcl8QZdQsLHTtX0vUdI09tOuvMll1m6aG3ZGjeMqxUcklwRyOQOvSutrj/iLYTzaXY6pbPp27SbhrgxanP5MDhonjz5mCEZd+VYg9COM5oA0vDWpaxf8AnjWzo2fLilgGl3bzEo+7DMGRcA4+UjOcN6VvVwPwys7q4hfXL2fTHLWNtpcSaZdi5QJb7/meQDBdjIeBwowOua76gAooooAq6lZyX+nTWsN7cWDyDAubXZ5kfPVd6svtyD1rxi/1e50/T9cS9+J2rWWtWU80dppEwtWnmCsRFhBCGkMgAYFBgbwOcZPuNecfb/FXh3Vr23mi8NXUH2uaayfUdceO5SKR2YBswnjkgAfdGFyduSAeg2ZdrGAyiQOY1LCTG4HHOcY5qamxszRIzhQxUEhW3AH2OBke9OoAKKKKAMLxVPqFra2F1py3UqQXqSXUNooaSaHawKhT1+YqSBzgGsPwaPFEGuqPEU93N9usGvbqKRQYbOZpv3cMbADkR5UjJ5QH+LJs+OLC9utR0GS219tMQX6pFEtks5eUxyYOT0wM+2ATUuj6c1h4zY6xrtzqmqyWB8kPbRwxpAJBuxsHLbtuck8YwBzQB1dFFFABRRRQB5RrnjE6B8TM+INcu7S3S8aOHT1jIjltjZkq6AL+9czEjqSCFGB1PoHhN9Sk8G6Q+uJImotZxG5WX74k2jO7/az1981z0vjGTw5rms2fiK21edp7rzdM+xafJcJJCYo1CIY1IVt6yEhyOTnoRXReFU1NPCGkrr7M2pizi+1lyC3mbRuBIABIPBIoA1qKKKACsLxreX9h4QvLnSnkinQx75oohI8MRkUSyKpB3MsZdgMHJUcHpW7XP+OY5X8H3TW2pWumTRSQTR3d5N5UMbJMjje3oSoGO+cd6AOO+H/it9Y1PTtM0nV7vWorJ9S/tG5ny2IvtJFsXfaAXKgYAxhd3Ar1GuK8JeLL/WNWFpf6z4QvR5TNs0bUGlmJGOdh/h9ea7WgAooooAK8s8ZeKZvD/wARrOTXNduNK05biAW1v9y3uYTG5md225Zw4Ubc8DacfNmvU68x8S63eJ451SyufiIvhC1t7eF7aCeG1In3K26RWmTJAIAIBJyD0yKAOx8FXWoX3hCyutYWVbmcySBZkKuIjIxi3AgEN5ezOec1u1wPw31rX79Y4dfvW1FbnT4r6KeS2WF03O6YO1VBVggdflBwTntXfUAFFFFAGV4psJ9U8J6pY2cywXE9q6RSvKY1jcjhiwBIAPPQ1z3hTxLr+sS2cl7eeEruwlkeF7jSdRkkMkioWKxqUwTxkjdwuT2rZ8ZRWt/4V1DSbnUrXT5NQtZIYnuXAUkrjkEjcvIyO4OO9cP4Vt9U1HxVajUv7Asbe01B9Qjj0/UhcPM5tWgEcahRtQKSxzz0GMAmgD1WiiigAooooA4bxrqMtlrtuNE1jV11oQoRpdjZi7hmj3PhpEbaqZIYb/Mjztxk4rQ8Ma94juLmHT/GGgx6dey27TpNZz+dAwUqGU90f5wccgjoxwQOT1n4g6Lq3ip7P/hNrnSNJSzRon0+Jd0s+994d3iYrtUR4Axnc3XGK7zwnNaXHh2GXTtYutat2Ztt7dEF3+YgjhVHB46dqANmiiigAqhr01/beHNSn0aFZ9RjtJXtImGQ8oQlFP1bAq/Wfr+nyat4b1PToJPKlvLSWBH3ldrOhUHI5HJ6jmgDzHwl4ve81dNG0fxDqGu3h1xJZGu02ulmbNDKZAECxqJCwC8Hdgc169XnnhHxjq+r61Fplxr3g3U3iyLgabeu07AA8hMYJyOccfSvQ6ACiiigAooooAKKKKACiiigAooooAKKKKACiiigAooooAKKKKACiiigAooooAKKKKACiiigAooooAKKKKACiiigAooooA4jxNqfiiPxNBFpmi6ZfaOkciSm61YQrK5CEB1MTYKnOAM5zk44rV8Kf2tJ9sn1VdPtom8tLaw0+58+O2VV5+bYnJJ6AYAArI+IJ0jQ9PttQvvDmk6raSXubm0ltke5nkcBA0CkYkl4UFTyyjg8AGX4a3Njqej3Oq6Po2laNYXUu2K2sYlWZdmVIuNoCh8/wjO31OaAO0ooooAKgu7210+3M9/cw2sIIBkmkCKCenJ4qeoLuytdQtzBf20N1CSCY5ow6kjpweKAPGrnw3Yw20celat4Smu7u3SC6u5rxVeGVZpJPtKYUl3YSsCDjkKMkZr2yvDp9Y1FpZdQsNB8HWVilvDfxRXGltJOYHnkj4ZXUGUBFbaB1cLnI59xoAKKKKACuB8cWfiHVdX042Xhi11Ky0u8+07by/VIrkGJlOUIOCpclSQcFc4GeO+rhvibGtzDoVmdJfXXm1EldH3Kkd5thkJ8x2IVVQZfDZDFQMZIIAJfBWn6iviTXNW1LRbPRRdx28aW1ldLMshQyEyvtVfnO8Dp0UcnFdpXLeC9KtdM+2/ZPBVv4W8zy93kmD/SMbsZ8on7ue/97jvXU0AFFFFABXjuv/D4T22o6gumaHq8tydTjvLu5uFQ2zSTF4ZjIyMQYUGwjqoAweMV7FXn174Y8ZR6dq2gaRc6L/Y+pTXLi7ufMNxbJcSO8o8sLtkIMjbSWHbINAHd2aeXYwIXWTbGo3oMK3HUe1TVn6Zc2aSy6PaPI0mmRxRybx0BX5ee5wK0KACiiigDnPHFpBd6AhmtdUnlguY5rZtJVWuIZVzh1DfLgcg5yCCRjmud8AvHN4t1B9TPiS41tLNFM+uW8UAW3LHCxJFhTkjLMAcleT2rR8deM7TQYGtp7rWNLYNGTqFro8lzENxwE3lGTJJAx1yQO9VPA1/Zan4ovpZ9U13UtXt7VY2Gq6X9iW3iZycIvlJyxAzkknYPSgDv6KKKACiiigDyvV9Xsn8Za5beJfEPiWyW3njWzi0qC5SARGFCfmijO595fcSSPugdCK9H0Ywtodk1rPcXEBgQxy3W7zXXHBfcA24jrkZrzXxdqmvR6/c3F94ovvDmiR3z2KNbW0RSLFssqSu7xszBmZhxgDAHXJrv/CFzd3vgnRbrUvO+1z2EMk/n437ygJ3YVecnngfQUAbFFFFABVHWfP8A7In+y2NvqEuAVtrmXy435HVtrYwOeh6Vern/AB1pl3rHgy9stOtlu55DERbPII1nVZVZo2J/gZQVYd1JHegDn/D9vNqHjq31KSw8O6SbO1nhePTb8XFxcbimA4ESAIu0nqTnHTnPoFcX4QgVb6OVfAmm6FmJh9rspreToQCgMYBIz/Ku0oAKKKKACvMPG2u6g/igWv8AaWl6TptneQWklzfWKzlGlheRZSzuAq70RAMA5JOeAK9PqK4tbe7geG7gjnikGHjlQMrD0IPWgDE8Datc654LsdQvriO5nk8xXniUKku2Rl3pjjaQuQe4INdBSKqooVFCqowABgAUtABRRRQBz/jTw3H4m8L39nHbWj30lrJFazXEYPlswxw2CVz6ryOo5ArkNC8NufGeiXVh4I07wqmleatxcRzQO9yhidBEgj+YjcyuWfafl6cmu28X2t9feC9YtdJEjXs1nLHAsTBWZipAAYsoXPTORjOQQa5TwlollZ65ZTJ8J08PTorD+0Q9k5gOwg/MkhkO77ucZ+bnjNAHolFFFABRRRQB5z4y8TQ23jyPQ9U8aL4Tshpq3Ubo0CSXMjO6nLyqwVVCLgYG4s3PFaHw48bWfibS2tpPEOn6rqEU04QwyxrNPAkhVJnhU5TIx2HUHvVHx54k1ix1qS10y603TLW0htHuL2+tvOz9oneLcMuoVI9m5ic/eHTGa3vAWoXOqeGvtGpT2t1eRXVxbSXNnEEil8uVkDJgnghR365HagDpqKKKACsvxPYx6n4R1ewnu1sYrqxmhe6YgCBWjILknGMZz+FalZniS1sb7wpq1pq83kafPZTR3UoOPLiZCHbPbCkmgDjLTSNcubvw1Brdl4f0ez0q6V4Liyu2d7txG4CRIUUIrAliMscA8HqPRq8yjl1S68YaFoHivxPpDtZOt5FFZW8qT3rqrCPzCxKJnlyoOW28cZr02gAooooAKKKKACiiigAooooAKKKKACiiigAooooAKKKKACiiigAooooAKKKKACiiigAooooAKKKKACiiigAooooAKKKKAOG+I+u3ejvpy6YLG2vZIbuWLULyDzfJ8uLcYkGR88nTrjCtw3Aq54S1K31HxNr5tIbQ7FtPPurdMNJKYiWRyDhmUbfQgOB2roNW0bTde09rHWrC3v7ViGMNzEHUkdDg9/el0vSNO0PT0sdGsbewtI8lYLaIRoCepwO59aALlFFFABRRRQB49qXiRNYsoL2PSNCmuvDkL32pJcWHmm3mMuBbxtu/dyth2J5OQhx82a9hprRo6lXRWBIJBGckf/qFY2gyTvrXiZZ3kZI9TRYQ5JCr9jtjhc9BuLHjuTQBt0UUUAFcT8TEsZ9P0yC5g1W5vWu2ksYtKuhby+YkTsWMhYBVChs8+gAJOK7auS+IMNhcaXZxXK6ob57hlsDpAX7SsnlPu27vkAKBwS/y84PUUAM8ESW0V1Nbw3mr3Mlxp9pqH/EyvTcBUl8wALnoQUOfX5a7CuH+GukR6Vb3qtpniG3uSkMbXWvSQNJNGgYJGnkuVCpzxgff75OO4oAKKKKACuf03xpot99pjuL61sbq1upreW2uLlFkXy5GQNjPRgAw9mroK8ovdd8GRaX4hfXrDw9b+JLe6vEjsp7OJriZvMf7ORGfnlMi7G4+8WNAHoOnaU9r4g1bUmlR49Q8ny1XqoRNpz9c1rVBZGQ6fbmeJYJTEu+JeiHHKj2HSp6ACiiigDlviGbSDwyl9d6uukSWNzHcWtyYTN++GVVfKHMm7cRtHJzxyM1leBrv+2vE19qWq619r1eC3EAsf7Jl077LCz53eXMTI24oPmzjjFanj/YuladIbxrCaPUoTb3pjDxW8uGCtKCw/dnOw85y64x1DtA0fVP+Egl1rxHqtheXv2X7LBDp9uYooY9+5idzuzMSF5yAMdOaAOoooooAKhu4pbiynht7h7WWSNlSeNVZomIwGAYEEg84II45FTUUAeTa9rs3h7VJdOuviF4nubqEZlSy0K2nEfyh8FltiAdrKxGcgEE8GvStCuReeHdPuVuZrsTW0cgnuIhHJLlQdzKAApPXAAFefeI7nTLHXrsaRPrT6lZ6gby5msNKa7itPMgRHjfgA5TD7QSwJBxjiu68KW2n2fg/R7bRbn7Vp0NlClrOSD5sYQBW4AHIweAPoKANaiiigArnvHem3Gr+DLuxszH5k0kIMcsvlrOomQtCW7eYoKf8Droa5/xb4YuPE9pawW+u32kCC4inb7LHEwlKSpINwkRjkFPlIIAJyQw+WgDkfBOn6outaXFdeH28O2WnSalJFFNLCGl8+cukUaRs3yKjAk8DKrjI5r06uf0zwmbLV4dS1DXNU1i4t43jgN8YQsQfbuIEUaAk7R97OO2K6CgAooooAKKKKACiiigAooooAyfFVnqGoeEdUtNGlaK/ntZI4HWTyyGK4GG/hPuOR1461594P0u+/t6ztLDwjeeHtO07Vpb93uhGqKjWrQ+UgV2LsXbcWHy4Gc5OK77xhbX154L1e30mNpb2WzkSGNJPLZmKnADZGCexzjPXivLV8MWWq6hZJ4V0zxhYCCCc3tzfXV5blCI28vYZH+aXzQn3Mrt3Z9KAPa6Kp6O162h2DasAL820ZuQAMCXaN/TjrmrlABRRRQBx+v3HiK08VS/YvDUniDRruwSOSP7TbxrDIHk3ALIQW3Ky5zx8q4zyK6DQ5p59Jia60ltHdcqLNpI38sA4HMZK4x6GuE8caDZXPjldV8Q+FtR16wGnx29qdN3O0UoeUyeYgdcghk2nkAhumad8NfCeo+H7q1ulsbjTLC6trsz2U90ZDGTcIbUMu9h5gh3hiPbJJ5oA9JooooAKqarp0GsaNe6ZdjNve2728oHdXUqf0NW6w/GPiMeFfCt7qotbi6khhkMUcFtJMC4RmG/YCVT5eWOAM8mgCjaeCBCscl5qs99eNqUeoXV1LGqtOY4/LjUBcBAAqdBzhv7xrb0XVF1nSYr5IjEJGcBCc42uV6/hWNF4yOpahZWmjaRqzGW4C3Ml7pVxapDDtYl90qKCchRgEnnpW3pGmR6PpcVjA7SJGWIZ8ZO5ix6e5oAu0UUUAFFFFABRRRQAUUUUAFFFFABRRRQAUUUUAFFFFABRRRQAUUUUAFFFFABRRRQAUUUUAFFFFABRRRQAUUUUAFFFFABRRRQAUUUUAFU9V0q21mxNpem4ERYNm2upLdwR6PGysPzq5RQB4WmlSRaLJYkeMW8XpdHZbC81BrU/vflHm7vL8jaRli+7Gec17pXh8ep67b6lq2nTt4jfxFqFt5UaMJ2hiufPbDxMo8tIVTYSRgFQQxJzXuFABRRRQAVwXxTuobWHQGvNWk0a1/tLMuoW0e64g/cyY8vg43E7CdrcMcjGTXe0UAcl4FvtNvft39meL9Q8SbPL3/bfL/cZ3Y27Ik+9g5zn7o6d+trD8XzTQeH1e2kkjf7dZjdGxB2m6iDDjsQSD7ZrcoAKKKKACoHsbSS7S6ktYXuI+EmaMF1+jdRU9eZap4f8UatDf2V8dSjt9Pe/u7We01ExvfTySF7VVKsGVYlYrtbC5CdQDQB12kXU8vjPxFBLNI8MH2byo2YlUzGScDtk1v1DZrMtnD9rKm48tfOZBgF8DJH41NQAUUUUAct8QfIl0C2s59GsNXkvb2K2gh1ID7OkjZw78Hgc4AGSSAOTWP4H0pfDviy80q48P+HrK7ayW4F7oVt5KlC+3y5FOSDkZByQQD0xXYa74f0vxNph07XbNby0Z1cxOxALLyDwR0rjNe+HvhPw14b1TWdH0SGG9tLd7mN/NlP7xFypI3c4IHWgD0SiiigAqG7SeWynjs5lt7ho2WKZo94jcjhiuRuAPOMjPrU1FAHAReCfGdtPqMtl47t7ZtQbzJfL0RSFk2hPMXdKcNtVRjpxnGc56/QNL/sPw5p2leaJvsNrHb+YFK79ihd2CSecZ5J+taFFABRRRQAUUUUAFFFFABRRRQAUUUUAFFFFABRRRQAUUUUAFFFFABRRRQB5142s0m8XLJ4l0fWdY0L7Ci2kOlrLIsVxvfzGkjjIJJUxBWOQu04wTmt74fWeo2PhJINUjuYALiY2cF5L5k8NqZGMKSNk5YJjjJIGASSDXJ/Ev+0rfxRY30una1qFjby6fLZLpSSyrDIl4GuTJHH94tDgKWBHBAwW57LwV9vfQpbrU7a4tGvL24uYba6P72GJ5GZFcZO04OduTjOO1AHQ0UUUAFc34wvv7Ot4rp01poUhnEp0xo1WNSmDJIXIA29VOeCCTXSVn+IIdPuPDOpw602zTZLOVLticbYShDnP+7mgDzrw1rMR8Q6R5s/j9FvpCtv/AGukSW8h2McNxnopI9eMV6rXlvhwtqN5p0+t+JdbvbKw1QWtraahYRW7tP5HmRSTMo3sNjjGduWKlhmvUqACiiigAooooAKKKKACiiigAooooAKKKKACiiigAooooAKKKKACiiigAooooAKKKKACiiigAooooAKKKKACiiigAooooAKKKKACiiigAqtqK3z6fMuky28N4V/dPcxNJGp/2lVlJH0IqzRQB45BrN9Y6WnhfxL8RfCluVH2W7S3jlN2pJ5QSGfAftyvHpXsdeI6jb6DomzQofGHhuCWSFLS+E9zieBkuJJY54wpP74GVjhsYbByeh9uoAKKKKACuK+JdneXem6eY7S/v9NiuHa/s9PJ8yVfKcRnAIZlWQoxUHnHQ4we1rm/GttZ3elRRXVpq11OJN1qukSSRzLIAcESKyqg93YLzzQBj/DhtSu5Jr6702+020XTLGySO/jMUk00SyGSTy25UfOi5OC230ArvK5TwPB4thjuz4rkX7MwjFhDLOk11EBuD+c6IqEn5MY3d8sa6ugAooooAK8V8T/Di+vZLq+vvDs2vXl42ooGju41eF3n3WkgMjgLGsQClRnH905New6jdvYafLcx2dxetGARb2wUyPzjA3ED35Irye00iC+vdSufF3w11rVbqe8lmiupfs7kxMxKJtM+E2LhcDg4z1JoA9asoXt9Pt4ZSheOJUYxrhcgYOB2FT1HbBVtYhHEYUCALGQAUGOnHp0qSgAooooA4fxivinStRXV9F1TTY9LEkcl2mqXDQx24VXUnf02HKkjGdwBzjpY8M6rceMLO9i1O78Napprx+W/9jXrT8nqr5GACM981c8caLea3otsunW9reTWd7Dd/YrtykV0EOdjMAcddwOCNyrkEVj6LY3mna/qfjDxHpOn+HbeLT/JkgtJzO0qqxkaWQqijgcKAGPJ56AgHeUUUUAFFFFABRRRQAUUUUAFFFFABRRRQAUUUUAFFFFABRRRQAUUUUAFFFFABRRRQAUUUUAebeNZYIfHPmeIdR8R6XpC6Yv2ebSpbkRSzb5PMD+TnDKvllcgbskc4Apfh1a+ILK/tmu7rWrrTLy3vHY6xIzSIUuFFs3zjcjPEzEpn+HOB0r0iigAooooAKyfFYhPgzWhd2zXcB0+fzbdXCGVfLbKBjwMjjJ4Ga1qy/E8t1B4R1ebTrZbu8jsZmgt3TcssgjJVCO4JwMe9AHBeFtM0zU9at9RuPiBba9bz3S6jbWKCGN3nEKxI0hU7nKog+UBBuySOw9Rrza18R+DbjVPD0Pg2PR73Urq5XzUtbWMzQwhG8x3CjMWDjrjnA716TQAUUUUAFFFFABRRRQAUUUUAFFFFABRRRQAUUUUAFFFFABRRRQAUUUUAFFFFABRRRQAUUUUAFFFFABRRRQAUUUUAFFFFABRRRQAUUUUAFFFVr572OOI6dBDO5mQSCaUxhYyfmYEKckDkDHJ4yOtAHAeDY/GFvooi0S00KPSRdz/AGdbqab7SsZlYnzQqBfMyTkfTJJya9IrxweFbcW8utL4J8JjT2ZrmS+OuTjcM5MhAg5PHqa9joAKKKKACvOvG2p+G9P1620vWLnXFa+nNxO1ncXyiMCIhdph4x8oGxT6sRnmvRa5rxdeX2l3Gkanb215dWNpcO19DZRGSUoYmVSEX5mAcrkDPrjigDP8Btp51LVP7Ci1l9MMNuUvNVmu282XdKHVFueQFATJXglsH7tdrXLeGdV1HXfEmqaj9k1Cz0Q28ENol/CYWklVpTJIsTAOqkNGMsBnHArqaACiiigAooooAKKKKACiiigClq2safodgb3VrqO1twwTe/8AExOAoA5JPoOawL3V7Hxz4a1fSdBe4+0XFm8atd2M9ug3jaDudBkc9snHaoviXI8WhadJDcw2M66pAYtRuceVZN837xwSNwxlMZGS45HUXvDd1qM95KuoeJ9G1hRHlYtOszCyHP3ifPkyO3QfWgDo6KKKACiiigAooooAKKKKACiiigAooooAKKKKACiiigAooooAKKKKACiiigAooooAKKKKACiiigAooooAKKKKAI47aCGR5IoY0eQ5dlQAsfc96koooAKKKKACiiigAooooAKKKKACiiigAooooAKKKKACiiigAooooAKKKKACiiigAooooAKKKKACiiigAooooAKKKKACiiigAooooAKKKKACq2o2S6lp81o89xAsq7TJbTGKRf8AdZeQfpVmigDxGGHw/pOkaZEq+J9XsRZNqFzBNrMiw29qkm0PJGHAbJ58vHIVsgkYPt1eO22sWS6V4mvV8P6TBpt7p/2/yo2ffcRLO6bJDwAThzsUYDSEcknPsVABRRRQAVynjq01zUYNPsNCu7qyjnkm+0z2nDjbBIYxv/gUyBMkcnAHc11dIWVSoYgFjgAnqev9KAPPPhcl8LnUZJJ/EFxZTW1q4bXmmDxXH7wSxRiUDKD5DuAwS2Mtj5fRK5/xORqvh8ppjLePHqFoHWA7yuy5iZ846YUEn0FdBQAUUUUAFFFFABRRRQAUUUUAY/ifS7nV9H+zWcGlTy+YrbdWtTcQ4GedoI59Dmub8IW97o3jK70jU9O8N20kliLmKTRLEwMyB9uJMsSOegxg84PBA1fHv2eTQbe0n0mz1aW8vI7e2t7+QpB5rZwzsFYgAA9iScAcmovBXh6/8Ptcxz6P4d0y3lAbGjq4aRx3fcoyAOnWgDrKKKKACiiigAooooAKKKKACiiigAooooAKKKKACiiigAooooAKKKKACiiigAooooAKKKKACiiigAooooAKKKKACiiigAooooAKKKKACiiigAooooAKKKKACiiigAooooAKKKKACiiigAooooAKKKKACiiigAooooAKKKKACiiigAooooAKKKKACiiigAooooAKKKKAOXPw28It4gOtNosLXzS+eWMjmMyZ3b/L3bN2ec7c55rqKKKACiiigAriPHOo2Mclle2viTQtNv8ASbp4ydTulREaSBhtPPDhWDgHqB6HNdvTDBE33okPOeVHWgDgvhxpugWGpXw8J6vpGo2UenWVtK9hdJNLLMhm3TTBOAz7hzkltp9K9ApqRpHny0Vc9doxmnUAFFFFABRRRQAUUUUAFFFFAGfrehab4i01tP1m2F1asyuYi7KCQcg8EHrVfRvCujaBcST6TaNDJIuxmaeSTIznHzMcVsUUAFFFFABRRRQAUUUUAFFFFABRRRQAUUUUAFFFFABRRRQAUUUUAFFFFABRRRQAUUUUAFFFFABRRRQAUUUUAFFFFABRRRQAUUUUAFFFFABRRRQAUUUUAFFFFABRRRQAUUUUAFFFFABRRRQAUUUUAFFFFABRRRQAUUUUAFFFFABRRRQAUUUUAFFFFABRRRQAUUUUAFFFFABRRRQAUUUUAFFFFABRRRQAUUUUAFFFFABRRRQAUUUUAFFFFABRRRQAUUUUAFFFFABRRRQAUUUUAFFFFABRRRQAUUUUAFFFFABRRRQAUUUUAFFFFABRRRQAUUUUAFFFFABRRRQAUUUUAFFFFABRRRQAUUUUAFFFFABRRRQAUUUUAFFFFAH/2Q==)"
   ]
  },
  {
   "cell_type": "markdown",
   "metadata": {
    "id": "JdlRkfvlOh2j"
   },
   "source": [
    "**(5)** в результате отбора признаков с помощью Mutual Information и SelektKBest установлено, что два признака имеют уровень зависимости с целевым признаком в размере более 0.04 ('age' и 'num_of_products'). Несмотря на столь низкий порог планируется создание трех разных выборок с разным набором признаков и тестировании их на предмет лучшего значения f1_score на лучшей обученной модели, - для данных без учета масштабирования и дисбаланса. На рисунке представлены признаки, наиболее сильно связанные с целевым признаком 'exited':"
   ]
  },
  {
   "cell_type": "markdown",
   "metadata": {
    "id": "-8jiA2ilOh73"
   },
   "source": [
    "![Рис 6.JPG](data:image/jpeg;base64,/9j/4AAQSkZJRgABAQEAYABgAAD/4RDsRXhpZgAATU0AKgAAAAgABAE7AAIAAAALAAAISodpAAQAAAABAAAIVpydAAEAAAAWAAAQzuocAAcAAAgMAAAAPgAAAAAc6gAAAAgAAAAAAAAAAAAAAAAAAAAAAAAAAAAAAAAAAAAAAAAAAAAAAAAAAAAAAAAAAAAAAAAAAAAAAAAAAAAAAAAAAAAAAAAAAAAAAAAAAAAAAAAAAAAAAAAAAAAAAAAAAAAAAAAAAAAAAAAAAAAAAAAAAAAAAAAAAAAAAAAAAAAAAAAAAAAAAAAAAAAAAAAAAAAAAAAAAAAAAAAAAAAAAAAAAAAAAAAAAAAAAAAAAAAAAAAAAAAAAAAAAAAAAAAAAAAAAAAAAAAAAAAAAAAAAAAAAAAAAAAAAAAAAAAAAAAAAAAAAAAAAAAAAAAAAAAAAAAAAAAAAAAAAAAAAAAAAAAAAAAAAAAAAAAAAAAAAAAAAAAAAAAAAAAAAAAAAAAAAAAAAAAAAAAAAAAAAAAAAAAAAAAAAAAAAAAAAAAAAAAAAAAAAAAAAAAAAAAAAAAAAAAAAAAAAAAAAAAAAAAAAAAAAAAAAAAAAAAAAAAAAAAAAAAAAAAAAAAAAAAAAAAAAAAAAAAAAAAAAAAAAAAAAAAAAAAAAAAAAAAAAAAAAAAAAAAAAAAAAAAAAAAAAAAAAAAAAAAAAAAAAAAAAAAAAAAAAAAAAAAAAAAAAAAAAAAAAAAAAAAAAAAAAAAAAAAAAAAAAAAAAAAAAAAAAAAAAAAAAAAAAAAAAAAAAAAAAAAAAAAAAAAAAAAAAAAAAAAAAAAAAAAAAAAAAAAAAAAAAAAAAAAAAAAAAAAAAAAAAAAAAAAAAAAAAAAAAAAAAAAAAAAAAAAAAAAAAAAAAAAAAAAAAAAAAAAAAAAAAAAAAAAAAAAAAAAAAAAAAAAAAAAAAAAAAAAAAAAAAAAAAAAAAAAAAAAAAAAAAAAAAAAAAAAAAAAAAAAAAAAAAAAAAAAAAAAAAAAAAAAAAAAAAAAAAAAAAAAAAAAAAAAAAAAAAAAAAAAAAAAAAAAAAAAAAAAAAAAAAAAAAAAAAAAAAAAAAAAAAAAAAAAAAAAAAAAAAAAAAAAAAAAAAAAAAAAAAAAAAAAAAAAAAAAAAAAAAAAAAAAAAAAAAAAAAAAAAAAAAAAAAAAAAAAAAAAAAAAAAAAAAAAAAAAAAAAAAAAAAAAAAAAAAAAAAAAAAAAAAAAAAAAAAAAAAAAAAAAAAAAAAAAAAAAAAAAAAAAAAAAAAAAAAAAAAAAAAAAAAAAAAAAAAAAAAAAAAAAAAAAAAAAAAAAAAAAAAAAAAAAAAAAAAAAAAAAAAAAAAAAAAAAAAAAAAAAAAAAAAAAAAAAAAAAAAAAAAAAAAAAAAAAAAAAAAAAAAAAAAAAAAAAAAAAAAAAAAAAAAAAAAAAAAAAAAAAAAAAAAAAAAAAAAAAAAAAAAAAAAAAAAAAAAAAAAAAAAAAAAAAAAAAAAAAAAAAAAAAAAAAAAAAAAAAAAAAAAAAAAAAAAAAAAAAAAAAAAAAAAAAAAAAAAAAAAAAAAAAAAAAAAAAAAAAAAAAAAAAAAAAAAAAAAAAAAAAAAAAAAAAAAAAAAAAAAAAAAAAAAAAAAAAAAAAAAAAAAAAAAAAAAAAAAAAAAAAAAAAAAAAAAAAAAAAAAAAAAAAAAAAAAAAAAAAAAAAAAAAAAAAAAAAAAAAAAAAAAAAAAAAAAAAAAAAAAAAAAAAAAAAAAAAAAAAAAAAAAAAAAAAAAAAAAAAAAAAAAAAAAAAAAAAAAAAAAAAAAAAAAAAAAAAAAAAAAAAAAAAAAAAAAAAAAAAAAAAAAAAAAAAAAAAAAAAAAAAAAAAAAAAAAAAAAAAAAAAAAAAAAAAAAAAAAAAAAAAAAAAAAAAAAAAAAAAAAAAAAAAAAAAAAAAAAAAAAAAAAAAAAAAAAAAAAAAAAAAAAAAAAAAAAAAAAAAAAAAAAAAAAAAAAAAAAAAAAAAAAAAAAAAAAAAAAAAAAAAAAAAAAAAAAAAAAAAAAAAAAAAAAAAAAAAAAAAAAAAAAAAAAAAAAAAAAAAAAAAAAAAAAAAAAAAAAAAAAAAAAAAAAAAAAAAAAAAAAAAAAAAAAAAAAAAAAAAAAAAAAAAAAAAAAAAAAAAAAAAAAAAAAAAAAAAAAAAAAAAAAAAAAAAAAAAAAAAAAAAAAAAAAAAAAAAAAAAAAAAAAAAAAAAAAAAAAAAAAAAAAAAAAAAAAAAAAAAAAAAAAAAAAAAAAAAAAAAAAAAAAAAAAAAAAAAAAAAAAAAAAAAAAAAAAAAAAAAAAAAAAAAAAAAAAAAAAAAAAAAAAAAAAAAAAAAAAAAAAAAAAAAAAAAAAAAAAAAAAAAAAAAAAAAAAAAAAAAAAAAAAAAAAAAAAAAAAAAAAAAAAAAAAAAAAAAAAAAAAAAAAAAAAAAAAAAAAAAAAAAAAAAAAAAAAAAAAAAAAAAAAAAAAAAAAAAAAAAAAAAAAAAAAAAAAAAAAAAAAAAAAAAAAAAAAAAAAAAAAAAAAAAAAAAAAAAAAAAAAAAAAAAAAAAAAAAAAAAAAAAAAAAAAAAAAAAAAAAAAAAAAAAAAAAAAAAAAAAAAAAAAAAAAAAAAAAAAAAAAAAAAAAAAAAAAAAAAAAAAAAAAAAAAAAAAAAAAAAAAAAAAAAAAAAAAAAAAAAAAAAAAAAAAAAAAAAAAAAAAAAAAAAAAAAAAAAAAAAAAAAAAAAAAAAAAAAAAAAAAAAAAAAAAAAAAAAAAAAAAAAAAAAAAAAAAAAAAAAAAAAAAAAAAAAAAAAAAAAAAAAAAAAAAAAAAAAAAAAAAAAAAAAAAEVnb3IgVW1hZXYAAAAFkAMAAgAAABQAABCkkAQAAgAAABQAABC4kpEAAgAAAAMwMAAAkpIAAgAAAAMwMAAA6hwABwAACAwAAAiYAAAAABzqAAAACAAAAAAAAAAAAAAAAAAAAAAAAAAAAAAAAAAAAAAAAAAAAAAAAAAAAAAAAAAAAAAAAAAAAAAAAAAAAAAAAAAAAAAAAAAAAAAAAAAAAAAAAAAAAAAAAAAAAAAAAAAAAAAAAAAAAAAAAAAAAAAAAAAAAAAAAAAAAAAAAAAAAAAAAAAAAAAAAAAAAAAAAAAAAAAAAAAAAAAAAAAAAAAAAAAAAAAAAAAAAAAAAAAAAAAAAAAAAAAAAAAAAAAAAAAAAAAAAAAAAAAAAAAAAAAAAAAAAAAAAAAAAAAAAAAAAAAAAAAAAAAAAAAAAAAAAAAAAAAAAAAAAAAAAAAAAAAAAAAAAAAAAAAAAAAAAAAAAAAAAAAAAAAAAAAAAAAAAAAAAAAAAAAAAAAAAAAAAAAAAAAAAAAAAAAAAAAAAAAAAAAAAAAAAAAAAAAAAAAAAAAAAAAAAAAAAAAAAAAAAAAAAAAAAAAAAAAAAAAAAAAAAAAAAAAAAAAAAAAAAAAAAAAAAAAAAAAAAAAAAAAAAAAAAAAAAAAAAAAAAAAAAAAAAAAAAAAAAAAAAAAAAAAAAAAAAAAAAAAAAAAAAAAAAAAAAAAAAAAAAAAAAAAAAAAAAAAAAAAAAAAAAAAAAAAAAAAAAAAAAAAAAAAAAAAAAAAAAAAAAAAAAAAAAAAAAAAAAAAAAAAAAAAAAAAAAAAAAAAAAAAAAAAAAAAAAAAAAAAAAAAAAAAAAAAAAAAAAAAAAAAAAAAAAAAAAAAAAAAAAAAAAAAAAAAAAAAAAAAAAAAAAAAAAAAAAAAAAAAAAAAAAAAAAAAAAAAAAAAAAAAAAAAAAAAAAAAAAAAAAAAAAAAAAAAAAAAAAAAAAAAAAAAAAAAAAAAAAAAAAAAAAAAAAAAAAAAAAAAAAAAAAAAAAAAAAAAAAAAAAAAAAAAAAAAAAAAAAAAAAAAAAAAAAAAAAAAAAAAAAAAAAAAAAAAAAAAAAAAAAAAAAAAAAAAAAAAAAAAAAAAAAAAAAAAAAAAAAAAAAAAAAAAAAAAAAAAAAAAAAAAAAAAAAAAAAAAAAAAAAAAAAAAAAAAAAAAAAAAAAAAAAAAAAAAAAAAAAAAAAAAAAAAAAAAAAAAAAAAAAAAAAAAAAAAAAAAAAAAAAAAAAAAAAAAAAAAAAAAAAAAAAAAAAAAAAAAAAAAAAAAAAAAAAAAAAAAAAAAAAAAAAAAAAAAAAAAAAAAAAAAAAAAAAAAAAAAAAAAAAAAAAAAAAAAAAAAAAAAAAAAAAAAAAAAAAAAAAAAAAAAAAAAAAAAAAAAAAAAAAAAAAAAAAAAAAAAAAAAAAAAAAAAAAAAAAAAAAAAAAAAAAAAAAAAAAAAAAAAAAAAAAAAAAAAAAAAAAAAAAAAAAAAAAAAAAAAAAAAAAAAAAAAAAAAAAAAAAAAAAAAAAAAAAAAAAAAAAAAAAAAAAAAAAAAAAAAAAAAAAAAAAAAAAAAAAAAAAAAAAAAAAAAAAAAAAAAAAAAAAAAAAAAAAAAAAAAAAAAAAAAAAAAAAAAAAAAAAAAAAAAAAAAAAAAAAAAAAAAAAAAAAAAAAAAAAAAAAAAAAAAAAAAAAAAAAAAAAAAAAAAAAAAAAAAAAAAAAAAAAAAAAAAAAAAAAAAAAAAAAAAAAAAAAAAAAAAAAAAAAAAAAAAAAAAAAAAAAAAAAAAAAAAAAAAAAAAAAAAAAAAAAAAAAAAAAAAAAAAAAAAAAAAAAAAAAAAAAAAAAAAAAAAAAAAAAAAAAAAAAAAAAAAAAAAAAAAAAAAAAAAAAAAAAAAAAAAAAAAAAAAAAAAAAAAAAAAAAAAAAAAAAAAAAAAAAAAAAAAAAAAAAAAAAAAAAAAAAAAAAAAAAAAAAAAAAAAAAAAAAAAAAAAAAAAAAAAAAAAAAAAAAAAAAAAAAAAAAAAAAAAAAAAAAAAAAAAAAAAAAAAAAAAAAAAAAAAAAAAAAAAAAAAAAAAAAAAAAAAAAAAAAAAAAAAAAAAAAAAAAAAAAAAAAAAAAAAAAAAAAAAAAAAAAAAAAAAAAAAAAAAAAAAAAAAAAAAAAAAAAAAAAAAAAAAAAAAAAAAAAAAAAAAAAAAAAAAAAAAAAAAAAAAAAAAAAAAAAAAAAAAAAAAAAAAAAAAAAAAAAAAAAAAAAAAAAAAAAAAAAAAAAAAAAAAAAAAAAAAAAAAAAAAAAAAAAAAAAAAAAAAAAAAAAAAAAAAAAAAAAAAAAAAAAAAAAAAAAAAAAAAAAAAAAAAAAAAAAAAAAAAAAAAAAAAAAAAAAAAAAAAAAAAAAAAAAAAAAAAAAAAAAAAAAAAAAAAAAAAAAAAAAAAAAAAAAAAAAAAAAAAAAAAAAAAAAAAAAAAAAAAAAAAAAAAAAAAAAAAAAAAAAAAAAAAAAAAAAAAAAAAAAAAAAAAAAAAAAAAAAAAAAAAAAAAAAAAAAAAAAAAAAAAAAAAAAAAAAAAAAAAAAAAAAAAAAAAAAAAAAAAAAAAAAAAAAAAAAAAAAAAAAAAAAAAAAAAAAAAAAAAAAAAAAAAAAAAAAAAAAAAAAAAAAAAAAAAAAAAAAAAAAAAAAAAAAAAAAAAAAAAAAAAAAAAAAAAAAAAAAAAAAAAAAAAAAAAAAAAAAAAAAAAAAAAAAAAAAAAAAAAAAAAAAAAAAAAAAAAAAAAAAAAAAAAAAAAAAAAAAAAAAAAAAAAAAAAAAAAAAAAAAAAAAAAAAAAAAAAAAAAAAAAAAAAAAAAAAAAAMjAyMjoxMToxMCAyMDo0NjoyOQAyMDIyOjExOjEwIDIwOjQ2OjI5AAAARQBnAG8AcgAgAFUAbQBhAGUAdgAAAP/hCxlodHRwOi8vbnMuYWRvYmUuY29tL3hhcC8xLjAvADw/eHBhY2tldCBiZWdpbj0n77u/JyBpZD0nVzVNME1wQ2VoaUh6cmVTek5UY3prYzlkJz8+DQo8eDp4bXBtZXRhIHhtbG5zOng9ImFkb2JlOm5zOm1ldGEvIj48cmRmOlJERiB4bWxuczpyZGY9Imh0dHA6Ly93d3cudzMub3JnLzE5OTkvMDIvMjItcmRmLXN5bnRheC1ucyMiPjxyZGY6RGVzY3JpcHRpb24gcmRmOmFib3V0PSJ1dWlkOmZhZjViZGQ1LWJhM2QtMTFkYS1hZDMxLWQzM2Q3NTE4MmYxYiIgeG1sbnM6ZGM9Imh0dHA6Ly9wdXJsLm9yZy9kYy9lbGVtZW50cy8xLjEvIi8+PHJkZjpEZXNjcmlwdGlvbiByZGY6YWJvdXQ9InV1aWQ6ZmFmNWJkZDUtYmEzZC0xMWRhLWFkMzEtZDMzZDc1MTgyZjFiIiB4bWxuczp4bXA9Imh0dHA6Ly9ucy5hZG9iZS5jb20veGFwLzEuMC8iPjx4bXA6Q3JlYXRlRGF0ZT4yMDIyLTExLTEwVDIwOjQ2OjI5PC94bXA6Q3JlYXRlRGF0ZT48L3JkZjpEZXNjcmlwdGlvbj48cmRmOkRlc2NyaXB0aW9uIHJkZjphYm91dD0idXVpZDpmYWY1YmRkNS1iYTNkLTExZGEtYWQzMS1kMzNkNzUxODJmMWIiIHhtbG5zOmRjPSJodHRwOi8vcHVybC5vcmcvZGMvZWxlbWVudHMvMS4xLyI+PGRjOmNyZWF0b3I+PHJkZjpTZXEgeG1sbnM6cmRmPSJodHRwOi8vd3d3LnczLm9yZy8xOTk5LzAyLzIyLXJkZi1zeW50YXgtbnMjIj48cmRmOmxpPkVnb3IgVW1hZXY8L3JkZjpsaT48L3JkZjpTZXE+DQoJCQk8L2RjOmNyZWF0b3I+PC9yZGY6RGVzY3JpcHRpb24+PC9yZGY6UkRGPjwveDp4bXBtZXRhPg0KICAgICAgICAgICAgICAgICAgICAgICAgICAgICAgICAgICAgICAgICAgICAgICAgICAgICAgICAgICAgICAgICAgICAgICAgICAgICAgICAgICAgICAgICAgICAgICAgICAgIAogICAgICAgICAgICAgICAgICAgICAgICAgICAgICAgICAgICAgICAgICAgICAgICAgICAgICAgICAgICAgICAgICAgICAgICAgICAgICAgICAgICAgICAgICAgICAgICAgICAgCiAgICAgICAgICAgICAgICAgICAgICAgICAgICAgICAgICAgICAgICAgICAgICAgICAgICAgICAgICAgICAgICAgICAgICAgICAgICAgICAgICAgICAgICAgICAgICAgICAgICAKICAgICAgICAgICAgICAgICAgICAgICAgICAgICAgICAgICAgICAgICAgICAgICAgICAgICAgICAgICAgICAgICAgICAgICAgICAgICAgICAgICAgICAgICAgICAgICAgICAgIAogICAgICAgICAgICAgICAgICAgICAgICAgICAgICAgICAgICAgICAgICAgICAgICAgICAgICAgICAgICAgICAgICAgICAgICAgICAgICAgICAgICAgICAgICAgICAgICAgICAgCiAgICAgICAgICAgICAgICAgICAgICAgICAgICAgICAgICAgICAgICAgICAgICAgICAgICAgICAgICAgICAgICAgICAgICAgICAgICAgICAgICAgICAgICAgICAgICAgICAgICAKICAgICAgICAgICAgICAgICAgICAgICAgICAgICAgICAgICAgICAgICAgICAgICAgICAgICAgICAgICAgICAgICAgICAgICAgICAgICAgICAgICAgICAgICAgICAgICAgICAgIAogICAgICAgICAgICAgICAgICAgICAgICAgICAgICAgICAgICAgICAgICAgICAgICAgICAgICAgICAgICAgICAgICAgICAgICAgICAgICAgICAgICAgICAgICAgICAgICAgICAgCiAgICAgICAgICAgICAgICAgICAgICAgICAgICAgICAgICAgICAgICAgICAgICAgICAgICAgICAgICAgICAgICAgICAgICAgICAgICAgICAgICAgICAgICAgICAgICAgICAgICAKICAgICAgICAgICAgICAgICAgICAgICAgICAgICAgICAgICAgICAgICAgICAgICAgICAgICAgICAgICAgICAgICAgICAgICAgICAgICAgICAgICAgICAgICAgICAgICAgICAgIAogICAgICAgICAgICAgICAgICAgICAgICAgICAgICAgICAgICAgICAgICAgICAgICAgICAgICAgICAgICAgICAgICAgICAgICAgICAgICAgICAgICAgICAgICAgICAgICAgICAgCiAgICAgICAgICAgICAgICAgICAgICAgICAgICAgICAgICAgICAgICAgICAgICAgICAgICAgICAgICAgICAgICAgICAgICAgICAgICAgICAgICAgICAgICAgICAgICAgICAgICAKICAgICAgICAgICAgICAgICAgICAgICAgICAgICAgICAgICAgICAgICAgICAgICAgICAgICAgICAgICAgICAgICAgICAgICAgICAgICAgICAgICAgICAgICAgICAgICAgICAgIAogICAgICAgICAgICAgICAgICAgICAgICAgICAgICAgICAgICAgICAgICAgICAgICAgICAgICAgICAgICAgICAgICAgICAgICAgICAgICAgICAgICAgICAgICAgICAgICAgICAgCiAgICAgICAgICAgICAgICAgICAgICAgICAgICAgICAgICAgICAgICAgICAgICAgICAgICAgICAgICAgICAgICAgICAgICAgICAgICAgICAgICAgICAgICAgICAgICAgICAgICAKICAgICAgICAgICAgICAgICAgICAgICAgICAgICAgICAgICAgICAgICAgICAgICAgICAgICAgICAgICAgICAgICAgICAgICAgICAgICAgICAgICAgICAgICAgICAgICAgICAgIAogICAgICAgICAgICAgICAgICAgICAgICAgICAgICAgICAgICAgICAgICAgICAgICAgICAgICAgICAgICAgICAgICAgICAgICAgICAgICAgICAgICAgICAgICAgICAgICAgICAgCiAgICAgICAgICAgICAgICAgICAgICAgICAgICAgICAgICAgICAgICAgICAgICAgICAgICAgICAgICAgICAgICAgICAgICAgICAgICAgICAgICAgICAgICAgICAgICAgICAgICAKICAgICAgICAgICAgICAgICAgICAgICAgICAgICAgICAgICAgICAgICAgICAgICAgICAgICAgICAgICAgICAgICAgICAgICAgICAgICAgICAgICAgICAgICAgICAgICAgICAgIAogICAgICAgICAgICAgICAgICAgICAgICAgICAgICAgICAgICAgICAgICAgICAgICAgICAgICAgICAgICAgICAgICAgICAgICAgICAgICAgICAgICAgICAgICAgICAgICAgICAgCiAgICAgICAgICAgICAgICAgICAgICAgICAgICA8P3hwYWNrZXQgZW5kPSd3Jz8+/9sAQwAHBQUGBQQHBgUGCAcHCAoRCwoJCQoVDxAMERgVGhkYFRgXGx4nIRsdJR0XGCIuIiUoKSssKxogLzMvKjInKisq/9sAQwEHCAgKCQoUCwsUKhwYHCoqKioqKioqKioqKioqKioqKioqKioqKioqKioqKioqKioqKioqKioqKioqKioqKioq/8AAEQgB4gMsAwEiAAIRAQMRAf/EAB8AAAEFAQEBAQEBAAAAAAAAAAABAgMEBQYHCAkKC//EALUQAAIBAwMCBAMFBQQEAAABfQECAwAEEQUSITFBBhNRYQcicRQygZGhCCNCscEVUtHwJDNicoIJChYXGBkaJSYnKCkqNDU2Nzg5OkNERUZHSElKU1RVVldYWVpjZGVmZ2hpanN0dXZ3eHl6g4SFhoeIiYqSk5SVlpeYmZqio6Slpqeoqaqys7S1tre4ubrCw8TFxsfIycrS09TV1tfY2drh4uPk5ebn6Onq8fLz9PX29/j5+v/EAB8BAAMBAQEBAQEBAQEAAAAAAAABAgMEBQYHCAkKC//EALURAAIBAgQEAwQHBQQEAAECdwABAgMRBAUhMQYSQVEHYXETIjKBCBRCkaGxwQkjM1LwFWJy0QoWJDThJfEXGBkaJicoKSo1Njc4OTpDREVGR0hJSlNUVVZXWFlaY2RlZmdoaWpzdHV2d3h5eoKDhIWGh4iJipKTlJWWl5iZmqKjpKWmp6ipqrKztLW2t7i5usLDxMXGx8jJytLT1NXW19jZ2uLj5OXm5+jp6vLz9PX29/j5+v/aAAwDAQACEQMRAD8A+kaKKKACiiigAooooAKKKKACigkKCScAckntVWDU7C5lEVte280h5CRyqxP4A0AWqKKKACiiigAooqrd6nYWDIt/e29s0n3BNKqbu3GTz1FAFqikVldQyEMrDIIOQRS0AFFFRRXVvPJJHBPHK8R2yKjglD6EDp0P5UAS0VE91bx3CQSTxpNJykbOAzfQdTUtABRRRQAUUUUAFFNkkSGJ5ZnWONFLO7HAUDqSewqOzvLbULOK7sLiG6tpl3xTQuHR19Qw4I+lAE1FMaeJZlhaVBK4JVCw3MB1wO9PoAKKRmVFLOQqqMkk4AFUNK1/R9eWVtD1ax1JYWCymzuUmEZPQHaTg/WgDQooooAKKKKACiiigAooqvZajZalHJJp15b3aRSNDI0EquEdThlJB4YHqOooAsUUUUAFFFFABRRRQAUUUUAFFFFABRRRQAUUUUAFFFFABRRRQAUUUUAFFFFABRRRQAUUUUAFFFFABRRRQAUUUUAFFFFABRRRQAUUUUAFFFFABRRRQAUUUUAFFFFABRRRQAUUUUAFFFFABRRRQAUUUUAFFFFABRRRQAUUUUAFFFFABRRRQAUUUUAFFFFAGb4j/wCRV1X/AK8pv/QDXzVKfhqfgZpqWS2LeNWtIhbDTlJvDdZGM7Ofru/nivpnXIJLrw/qNvbpvlltZURR/ExQgD86wfhr4dk8PfD3Q7PUbCK01KCzSO4AClg2OQWXOfzoAq6T4m1WDxfofhjVo4y8vh0X93O+fME6siMODjGWJ6VmeC/ihc+L/iNqekxWcEWhxWTXdheZO+5RZvKMnXG0srkcdAKpfETwf4n8RfErT20SIw6VeaS+m6lqAlVWt4WmV5AoJyWZU2jAP389q17DwfLZ/Fq4urbTlg8Pr4Zi0uJkZQoZZSfLC5zwmOcY980AVdH8V+O/GmntrvhGx0Kz0SR3WxXVTMZ7tFYqJDswIwxBwCCe/TGfR03+WvmbQ+Bu2njPtXl/hKfxR8PNBh8JTeEL/W47FpI7HUbCeER3EZYsm8SOpjIDYPUZHGa7m41DW08T6bZwaOsmmTwu95feeB9mcD5UC9WyeMjpQBrTzLb28k0mdkal2wMnAGelfOfhHWdH1zw3eeLfFPgS/wDF1xcySz6lqT28csVnGGJEMKysCVRMZ2DgkjJr6OZQ6lWGQwwRXj+jWni7wD4NvfBOm+EJ9XRXuE0u/guYlhaOVywMxZgyld5zxzjA9aAPUdButNvfDun3OhMjabJbRm1KDA8raNoweRgYGDyKumaMPsMihum0sM1h+BfDknhLwLpGhT3C3EtjbiOSVc7WbqcZ7ZJA9qi1f4e+E9e1n+1tY0K1u78bf9IkU7vl+70PagDpK+f/AIcFvDvxMv8AWj8tjrviHUtHunLEKkyyeZbnHqxMiD6ivoCvL9D+HVzqfgvxLo3iBZtNa/8AEdzqNncQupljXzVeKVSCdp+XocH2oA4tpJdf+PXhrxfJJvtbzVrvTtOGDgW9tEylwT/ekaQ/hXr/AIe8TXOseMvFOkTQRRw6LPbxQumd0gkhDkt26njHauav/AdzpmvfDa10G1abTPDrTpczsyqUUwhQ7DIyWbJOB1JqNovE3g/4peI9R0/w3da9pfiBLeWNrSeJGgmjj8sq3mMoCnGc9uOtAFLxf4n1bxH8KPiILeKzgOkX11p2W3/PBHGjFuD/AKw7zjt0q/N4j8W+EvhJea/qi6Nc/YtOgks44FlBbO0HzNzehHTvmqmg+DPEt38N/H+l65aw2Wqa/qN7PAqSB4yJYYwuG67dykZIB4zirk2n+IvGPwn1TwrqvhubRbxdMS3hknu4pIp5lXjaUYkLuUckDg0Abvjnxdd+FvAceuWlvDNcPLbR7Jc7P3siqTwc8BjjmpvF2peItPeFtEuvD1habcy3WtSyDLc/KqqV7DJJbv0OK4DxR/wnfjbwFZ6GvgqfT7iC4tmvJLi6h2yeXIpIiAY5HG7LEAAEAsSK1vGOj38fxTh1zUfCLeLtFbTRawQIsUjWM3mFmYRysF+Ybcv14xkAYIBZ8N+Orjxh4P8AFVnqkVkmqaPFJBcPp0/nW0waIskkbeh54OSMe+BrfCL/AJI/4Y/7B8f8q5jwT4T8QWF58QrrUdAt9Ij1qKH7BaWjxlAFgddmEOAw3KCcAFskZHNdn8ONJvdC+Gug6ZqsH2e8tbNI5oiwbYwHIyCQfwoA5zW/+TjvC/8A2Bbv/wBCFR2XjHx14m1TxHZeF9N0SFdF1OWzFzqLy7ZgoBVQqHO7rlsgAFcA81q6poGp3Pxu0HXIbUtptppdxBNPvUBHZhtGM5OfYVJ8PNC1LRb7xfJqdsYE1DxBPd2pLqfMiZUAbgnGSDwcGgDivGvjLVvF/wCzjqOs6dDbWEjRyW2pwyszMm19jrGRjkn+92Petw6vqfw/8K6XpkOj6JJrerXaWWmWemq8MG3YPnlY5YhQCTjk8epIyj4K8Q/8KI8VaD/Zzf2nqF9dTW1v5qZkR5wynOcDI55IrqPH/h7WLxPDuueHbZLzU/D939oFk8ojFzGyFJEDHgMRjBPFADNN8W+JdJ8aab4c8d2ulltYikawvtKMixmSNQzxushJBIOQQe2MdxU0jxn4w8Ua54g03QdO0m3j0XVZLRry9aQrIi7cKEU5L43knIA+Xg5NENrr/jb4haDrWo6DcaBpGgLNKq30kbT3U8ibMBELbVUZOSeSela/w+0TUNGm8WNqdsYBf+Irm8tssp8yFkjCtwTjJU8HB4oAxNN8Z+OPE154jh8OaZosaaJq09iJr55QLgJjCqEzhscljx8y4HWqUfxH8Z658PW8ZeG9G0uGwtbd5Li21B5TPM0WfO8sJwoBBC7skkHIHGep+Hmh6jon/CUf2pb+R9v8RXd7bZdW8yF9u1uCcZweDg+1ZPhHwzq+m/AW40C9s2i1R7XUEW3LqSWklmZBkHHIde/fmgDb1DxBq2o+C9M1vwl/ZVuL6KK4abWZWWKCJ0BGdn3myyjGQOvNY3hDx/qWp+LLvwtrUuh3eoLZG9tb3RrgvbyKGCFHUksrhiDjJ4PtXP6v4R1uLwh8Nxd+HDrttoMKjVNE8yMl3+zhFbDHY+xt3Gec+maueGvDesH4yweIh4Rg8OaKNIktkhjMIk3mRTmRYzgMeeAWwFGSCcAAg+Dp8Wudb3yaP9gHiO9F4MSmXzNw3eWc425xjPPWr2j+P7PQfhx4j8QNo1vAtjrVzbR2diNhupfNCKSTn52ZgWP1OOKueCbHxD4S1/WdIufDs1xp2pa3c38Oqw3UJjSOXDAMhYOCMYOF69OKxYvh5rt78LfEWjvEtnqcuvz6lYiVlZZMTCSPJBIAbbj2zzQBrXHjLxr4VuNKu/HOm6MNJ1K6jtHOmySGWwkk4UyFvldc8ErjHv3n1Lxh4ruviTqfhLwvp+mE2lnDdC9v2k2Rb85DKpyxJxgDH8RJ4wc3XE8V/Ee30fRbvwrdaBbQ30F3ql3eTwuuIju8uEI5ZizAYYgAAc9a6DSdC1K3+MviLW5rYrp13p1rBBPvX53QtuGM54yOcUAS+AfFeqeIP7Y03xLY29nrWi3YtrpbR2aGQMgdHTdyAQeh9PfAT4m+LNT8HeEU1HQ7S3vL2W8htYobgkIxkbaOQR396Twnomoaf4+8a6jeWxitNSurZ7SQsp80JAqMcA5GGGOQM9qZ8UdB1LxD4asbXR7b7TNFq1pcOodVxGkgLNliOg/GgDO1/wCKX2P4Zafr+jWsVxqmpLtgspicJIilpw+OQIwkmfdQO9S3nxFu4vCPhGa0s7WXXvFVvE9tDLKY7eFjCJJHc8tsQHoOTwPeqd/8LWhvvEOp2t19rjns746VpnlBRa3FzGBMwfPO4rwMADe3rWdrfw81C98E/D+5l0S11a/8MWUcV3o14yFLhWt0SVATlN4KAqTxkdaAN7RfGWvWnjex8NeL00idtUt5ZbG90dpNm+IAvG6OSQdp3Bs44x9F1X4g3fhnUdV0zxLb2sF19lnu9FuEYiG/WNC3lkE5WQcZGeQciq/hXTNKXxFb3Fh8KV8PmAMW1GeC1ieI7CMII2Zmz0yMcH8KzdV+H1545svE2teM9K3X09tLa6HpjzK32SJPmR8qdolkcAk54GFzjIoA1dH+Il94oXQtP8N29pPqlxY21/rEr7jb6bHLGH2nBy0jE/KmegySBWt8QvE+qeGrHRV0KG0lvNW1eDTU+2BzGnmBzuO0542/zrjtE+HV94H8N+Fta8J6WU1yztYotZ05JFBvkkCmZSxO3ejkspzjgjoaf411LWNd+KWkWWleG7/UtP8ACtwt7fG3nhRpJ5ISYVAd14XJJOTnJHuQDo/DniXxJP481Lwz4jj0oy2unR3kctgsgUl3Zdp3k/3ad4e+IKXXgPV9a1+OO1vNBkuYdTt4sgI8JJwuST8y7SPUmud0nV9Vi+Osd7rXhm+0mDXtPGn2rTzQPiSESTMWCO2AVGB71lePPDl3ffGO18O6ZLD/AGX4qWC91u3A+YR2jck+gkBRM9yvNAHqPgzVNS1zwZpeq63bw2t5fW63DQQghY1f5lHJJztIz754FVV8TXLfFeTwt5MP2RNEXUfN58wuZ2j29cbcLnpnNdMAFAAGAOAB2rzrW4de0j4yHxHp3hu81mxl0COx3Wk0CFZRcO5BEjr2I6etAG7ZeKbm6+KWqeGGghFrZ6dDdpKM72Z2IIPOMcelcxb+O/Fvia1utZ8HxeHo9HikljtYtSmk+0XvlsVLDaQsYYqwXOT3OKq6LqOrRfHY6hrPhq+0mDX7BbG1NxNA5EkIeVsiN24Kjj3rH0PwHa+C7KTRda+F0HidIZpDZ6rZwW0rzRs5ZVl81lZWUHGeRgCgDvh8QEvPg3P44062Csumy3aW0xJCyorAoSMEgOpGeM47Vi2vjTxla6/4Qt9dt9DNp4kZsfZFmEkIEPmc7mxnoKf4l0LXNW+HVt4R8NeF7XQodUV4rw+dF5OlxGTLYRP9Y7AscLwCTk+uj4o8NXtz4y8Bz6VaF7HR7mY3D71HkxmDYvU5POBxmgCtceNdf1zxBq+n+DF0S3ttHuPsk95rEr/v5woLpGiEEBMgFieSeB3qje/Fe9T4Pax4nttOt49Y0a9Gn3VpI7PCJxPHG2GGCVKyBh9e+Ocq48DReHPGGv3WpfD6Dxhpur3r38F1DFbyXFs7gb4mWUrld2SCD68c1c8VeE7vWvgbrmkeHfBEeg3V7cQvFpcLwK0qrNCxdihCKxVTxuJwo5zxQBqWPjjxHZeP9J8O6/Dod/Hqqy7JtGncvbGNN5MiPn5TkDOe/wCB2fD3jF9V8YeKNIvRbW8Wj3UMFu27DSh4g5JyeTk9q43T/C+oyeOtCvfDHgX/AIQqztZmfUroT26faotpxCYoXYPkkfM3TtVS/wDB8y+PPF17q/w1/wCEoh1O4iexuDJagKoiVSN0jhkyfQdqAPQ9d8T3Gl+OPCmiwQwyQa5JdLLK2dyCKAyLtwcckd+1YOifEe9vfi1qvhbUrO2gsIZXt7G6QnfLMiJIyNk4yUcsMD+A+lYXhXwL4n0i++HzanBvTSrrUpblVuBILGKaFlii3E5fGQOAcfQZq+/w71bVbvxcxnbRrq41yDUdI1EBZShSNFLbQ3QjeuDjrQBe8M/Em78SfFjUfD0NlbrosFnNNa3gYmS4aKZIXYdtm8yKPXZnODXX+KtWl0HwbrOsW0aSTafYT3UaSZ2s0cbMAcc4yK4/w54Fm8L/ABJ0ptPtidGsPCzad9qyo3zm5Vzlc5y2GYnpknmup8bWFzqvw/8AEOnafF513d6XcwQRggb3eJlUZPAySOtAHE3Pi34h2vw5Pi+SPwybUaaNQ8hUuN+0xh9v3sZ5xV7xR4+17TL3wZY6DpVpe3fiWOXKzO6rEyxKwbIyQilizcE7VOOas6p4e1SX4Av4djtS2q/2Aln9nDr/AK4QhSu7O3rxnOPeua8Zpqum+NvhSmn2a3Oo2sV6DatME37bVN6B+gbAYDPGcZOOaAOn0bxV4isfG9v4X8b2unCbULaS40690zzBFKYyPMiZXJIYAg5zgiq0XxOMHgzXtb1K1j86x1i40uxtYMlrqRZNkSDJ5Zj1x2yccUlpY634u+Jmj+I9S0S40LTNAtrhLaO8kjae5mmVUb5Y2YKiqvBJyT29MTwD4D14eONSv/FdosGkWGrXd9pEDOredNPI379gCcbY8BQ3ILE8EUAb/hLxX4p8ZfDFNYsYNItNaa4lhZLnzDbxiOQox+U7icD1H1FJ4Q8aa9f+PLzwxryaNfCGyF2uo6JK5jj+YL5UisW2uclgN3QdD2q+C7DWvB3wrFpqHhu51G5e+uTNYQSxFzDJK7bvmYKflI+XOear+B9Av7f4jXGraN4Ym8I+G2sTDLYzSIpu7jeCJBBGzKhVQRuzk5x9ADpvAvjL/hJvDZ1DVGtLWcXdxB5aPtG2OVkB+Y5yQuap+G/FuveKPhPa+IrC30uHVLjzDtu5HjtolSZlLMRluFXP19BWT4C+FmixeGpD4v8ACmmTanJfXMrPdW0UrsjTMUJbn+EjjPFYbeBPEUPwF8N6JLo/2q403U1utQ0YzoPtluJ5H8rcDt53I2CcfL68UAdDoPxA1ePxvYeG/Et14c1FtTWX7Pc6FcMfJeNd5SWN2YjK5wQex4ou/i1DpGs+J7LU7ZZZdNvYLLS7O1BNxfyyRhggHrkjkDAHqcZybfw7qepfEjwhrWmeBYfDWkadJcG5yLeOdi0DKGZYycICcAZJJJJAABMi/CW21/xn461PxBpvlSajJEmk6hvBeILGuZEAPykOq8kc4x0JyAdNq/jDWPCXw8TWfE2nW8+tTyRwwaZYuQrTSMFSLzGyCRnlunBwDxmgPFnjLw3rWiQ+OrHRn0/WbpbJbnSmlDWtw4Plq4fO4EjbuGOTn2NfVtA8WeKvhja2up20UPifRdQhuIHllHk3z27giXKnKrIueDgg9hUWqJ4k+I2r6BY3vhW60DTNL1KLUb+4vp4mMjxZKxRBGO4EnluOKALK/E27h+Nl54QvrS3j0qMwW8N4u7zDcyw+aitzjBCSAYHULToPiVfXnxpXwla6fD/Y4WaI3zEl5J4o1eQLzgKpdVPB5Dc+lW58AajrPjXx5PPu06PUW0ufSNRG1zHPbox3hc5+VsAg4yCRT9O8A32g+OvBj2ite2el2N6NQ1BtqGS4mIYuVJzl33HAzjpmgD0XULhrTTbm5QBmhheQA9CQCa821b4sXmnfCLR/EUGnQ3Wu6vama3sEJCYRDJK55zsRFJPPcDvXo2qxPPo17DCu6SS3kVVHclSAK8f8GfDrxFD8N9Wm8S2m3XDoUujaXYCVWFvCIyPvA7d0khyTngBRnrQB6t4V1aXXvBujaxcxpHNqFhBdSJHnarSRqxAzzjJrmtc8TeKW+Jv/AAivhiLSFRNHXUZJtREpOTM0e0bD/sg/nW94JsLnSvh/4e07UIvJu7TS7aCeMkHY6RKrDI4OCD0rLTQ9RHxum142/wDxLG8Ox2Qn3rzMLl3K7c5+6Qc4x70AQ+FvE3iK58d6t4a8TRaZ5ljZw3SS6eJAG8xmGDvJ6ba5fw34/wDiN4t8BxeK9I0bQY7VI5Ge2nkm827MbMG8rHCDgKN27JDdBiut0zRNQg+MWu61LbFdPudMtYIZ9y/O6M5YYzngEc4xXnPwn13xbpnwR0yy0XwtNq0k8c/9nXcVzEkSEyvnztzBl2tuPAIIwMg9ADvZPiL9q0zwTqOk20Zt/E14kMizEloVaN2IGONwZcenWqF18UZ5PjFp3hLSbKKbTZJpbS8v3zkXCQmVo48HHyjZuJ7tjtWH4h8BeKdD+HngbSPB1vDfatod0skkrSARRuY3DSfNjKh5M4xkgdK2P+Ff3OieIPh3FpEL3Vpost5JqN47ruZ5YSDK2Tli7k9M9aALHjnxL418LR6jqdvc+EhptqplgtLySZLmdAMkBtwXeSCFUAgnHNaN/wCObm11LwRG1nHaQ+Iw7XKXRIe2xb+aFzwM5+U5Fc98QoZvEf26yb4ZX2o6miSQabqpkt1WPrslWXeHjw3zYwDUuq+BdU1h/h1aeJbaLXY9LWUaxLcbXRm+z7QzBzl/nxzgknk0AdLqvi97T4g+GdAsvss9vq8d488gbc8fkojLjBxyWOc+lZnivxD4v0e+uHtL/wAG2VqvNtBqlzKk06+pOQFJIYAAN9eoqCf4eWek/FPwnq3hXw9ZWFjaxXw1Ca0ijhwXjRYtwGC3O7GAcc9KwLTw7qWk+JvE0eofD2DxJqGp6lLdWesXBhaAQvjy0kaQl0WMcYUHgcA9wDoJ/ig1x8ItM8aaTZx7r6eCEwTsSIy04hkGRjODuwfYfStDSPG114s8YTWnhSC3n8P6azRX+rSklZpsD91AARuxnlzkc8Z4zwsHw88QSfs5WfhK705v7TOoBpoElQER/bC5YNuwPk565/Guts/B8/gXxnaXXgnTV/sDUgltqenQsqi3dRhLpQxHYYcDJPBwTQBY8W614w0nUpn0+/8AB9hp3H2b+2LiVJZ/lG7JBCr8xIGN3GKzL/4rXB+BMvjvStPhF7GUjazmcvGsn2hYXG5cbhySCPassaBqel+OvE0uqeAF8VSardfaNP1KR4WSOPYAsLmVsxqpB+6DnPAPAqjH4B8Uf8M4an4Zl0yP+27jUPNS2gkRUZftiSZUkgKu0EgHBxxjPFAHXXXxHuIvhdDrsNnCddmnGnrp5Ysq3vmGN4zjkKpV29dq5qGD4j6jN4D8E64bS1E/iLU7WzuI8NtiWUvuK85yNvGc1Zl+Gyp44vfEKXxazZZrmDShCNq3skSxvPuz1KrjGOrE5rk9S8I+L7T4J+CNP0fSBPr+i6hbXT2jzxgIYxIcli20jLL0PegDodd+KFzafFLS/C2j2EVzZvdR2mo30hOIpZEZ1jTB+8FQk9cbgOK9Iry9/h9f6Tb+CLayVtQubPWjqOs3pYAyyNG/mTHcQTlmAA5OMDtXqFABRRRQAUUVx/ibxBrTeLrDwr4U+xw39xayX1zeXsbSJbwKwQbUVlLMztjGQAATzQB2FFc14M8SXeuw6nZ6xDDDqukXrWd2tvny34DJImckKysDgkkHNVfEfiDWX8YWXhTwsbOC9ms5L+6vL2NpUt4VdUULGrLuZmJ6sAAp69gDr6K85k+I+p2fw+8S6ld6bbya14dums7iGNmWB2ym2UE5ITZIHIySNrDPQ1Z0XxH4ltvHGn6Br9zo+rR6lYy3iz6XG0RtgmwDcrO25G3fK3GTn0oA72qNxrelWlw0F3qdnBMuN0ctwqsMjIyCfSr1ed6R4d0TW/iZ43k1rR7DUHjuLMI13apKUBtUyAWBxQB2X/CSaH/0GdP/APApP8aP+Ek0P/oM6f8A+BSf41R/4QHwf/0Keh/+C2H/AOJo/wCEB8H/APQp6H/4LYf/AImgC9/wkmh/9BnT/wDwKT/Gj/hJND/6DOn/APgUn+NUf+EB8H/9Cnof/gth/wDiaP8AhAfB/wD0Keh/+C2H/wCJoAvf8JJof/QZ0/8A8Ck/xo/4STQ/+gzp/wD4FJ/jVH/hAfB//Qp6H/4LYf8A4mj/AIQHwf8A9Cnof/gth/8AiaAL3/CSaH/0GdP/APApP8aP+Ek0P/oM6f8A+BSf41R/4QHwf/0Keh/+C2H/AOJo/wCEB8H/APQp6H/4LYf/AImgC9/wkmh/9BnT/wDwKT/Gj/hJND/6DOn/APgUn+NUf+EB8H/9Cnof/gth/wDiaP8AhAfB/wD0Keh/+C2H/wCJoAvf8JJof/QZ0/8A8Ck/xo/4STQ/+gzp/wD4FJ/jVH/hAfB//Qp6H/4LYf8A4mj/AIQHwf8A9Cnof/gth/8AiaAL3/CSaH/0GdP/APApP8aP+Ek0P/oM6f8A+BSf41R/4QHwf/0Keh/+C2H/AOJo/wCEB8H/APQp6H/4LYf/AImgC9/wkmh/9BnT/wDwKT/Gj/hJND/6DOn/APgUn+NUf+EB8H/9Cnof/gth/wDiaP8AhAfB/wD0Keh/+C2H/wCJoAvf8JJof/QZ0/8A8Ck/xo/4STQ/+gzp/wD4FJ/jVH/hAfB//Qp6H/4LYf8A4mj/AIQHwf8A9Cnof/gth/8AiaAL3/CSaH/0GdP/APApP8aP+Ek0P/oM6f8A+BSf41R/4QHwf/0Keh/+C2H/AOJo/wCEB8H/APQp6H/4LYf/AImgC9/wkmh/9BnT/wDwKT/Gj/hJND/6DOn/APgUn+NUf+EB8H/9Cnof/gth/wDiaP8AhAfB/wD0Keh/+C2H/wCJoAvf8JJof/QZ0/8A8Ck/xo/4STQ/+gzp/wD4FJ/jVH/hAfB//Qp6H/4LYf8A4mj/AIQHwf8A9Cnof/gth/8AiaAL3/CSaH/0GdP/APApP8aP+Ek0P/oM6f8A+BSf41R/4QHwf/0Keh/+C2H/AOJo/wCEB8H/APQp6H/4LYf/AImgC9/wkmh/9BnT/wDwKT/Gj/hJND/6DOn/APgUn+NUf+EB8H/9Cnof/gth/wDiaP8AhAfB/wD0Keh/+C2H/wCJoAvf8JJof/QZ0/8A8Ck/xo/4STQ/+gzp/wD4FJ/jVH/hAfB//Qp6H/4LYf8A4mj/AIQHwf8A9Cnof/gth/8AiaAL3/CSaH/0GdP/APApP8aP+Ek0P/oM6f8A+BSf41R/4QHwf/0Keh/+C2H/AOJo/wCEB8H/APQp6H/4LYf/AImgC9/wkmh/9BnT/wDwKT/Gj/hJND/6DOn/APgUn+NUf+EB8H/9Cnof/gth/wDiaP8AhAfB/wD0Keh/+C2H/wCJoAvf8JJof/QZ0/8A8Ck/xo/4STQ/+gzp/wD4FJ/jVH/hAfB//Qp6H/4LYf8A4mj/AIQHwf8A9Cnof/gth/8AiaAL3/CSaH/0GdP/APApP8aP+Ek0P/oM6f8A+BSf41R/4QHwf/0Keh/+C2H/AOJo/wCEB8H/APQp6H/4LYf/AImgC9/wkmh/9BnT/wDwKT/Gj/hJND/6DOn/APgUn+NUf+EB8H/9Cnof/gth/wDiaP8AhAfB/wD0Keh/+C2H/wCJoAvf8JJof/QZ0/8A8Ck/xqGLV/DUF1Pcw6hpMc9xtM0qTxhpdowu45ycDgZ6VX/4QHwf/wBCnof/AILYf/iaP+EB8H/9Cnof/gth/wDiaAJ5tW8M3F1b3NxqGkyz2rM0ErzRM0JZSpKknKkgkHHUHFZGi6f4K0HWLzVrLU7WTUb0bZrq51PznKbtwQFnO1QegGBwPStD/hAfB/8A0Keh/wDgth/+Jo/4QHwf/wBCnof/AILYf/iaAL3/AAkmh/8AQZ0//wACk/xo/wCEk0P/AKDOn/8AgUn+NUf+EB8H/wDQp6H/AOC2H/4mj/hAfB//AEKeh/8Agth/+JoAsS6v4anuYLifUNJkntizQSvPGWiLDaSpJyMgkHHapv8AhJND/wCgzp//AIFJ/jVH/hAfB/8A0Keh/wDgth/+Jo/4QHwf/wBCnof/AILYf/iaAL3/AAkmh/8AQZ0//wACk/xo/wCEk0P/AKDOn/8AgUn+NUf+EB8H/wDQp6H/AOC2H/4mj/hAfB//AEKeh/8Agth/+JoAvf8ACSaH/wBBnT//AAKT/Gj/AISTQ/8AoM6f/wCBSf41R/4QHwf/ANCnof8A4LYf/iaP+EB8H/8AQp6H/wCC2H/4mgC9/wAJJof/AEGdP/8AApP8aP8AhJND/wCgzp//AIFJ/jVH/hAfB/8A0Keh/wDgth/+Jo/4QHwf/wBCnof/AILYf/iaAL3/AAkmh/8AQZ0//wACk/xo/wCEk0P/AKDOn/8AgUn+NUf+EB8H/wDQp6H/AOC2H/4mj/hAfB//AEKeh/8Agth/+JoAvf8ACSaH/wBBnT//AAKT/Gj/AISTQ/8AoM6f/wCBSf41R/4QHwf/ANCnof8A4LYf/iaP+EB8H/8AQp6H/wCC2H/4mgC9/wAJJof/AEGdP/8AApP8aytQPhPU/EGka1d6tZNeaOZjaML1AF81Nj5Geflqf/hAfB//AEKeh/8Agth/+Jo/4QHwf/0Keh/+C2H/AOJoAvf8JJof/QZ0/wD8Ck/xo/4STQ/+gzp//gUn+NUf+EB8H/8AQp6H/wCC2H/4mj/hAfB//Qp6H/4LYf8A4mgC9/wkmh/9BnT/APwKT/Gj/hJND/6DOn/+BSf41R/4QHwf/wBCnof/AILYf/iaP+EB8H/9Cnof/gth/wDiaAL3/CSaH/0GdP8A/ApP8aP+Ek0P/oM6f/4FJ/jVH/hAfB//AEKeh/8Agth/+Jo/4QHwf/0Keh/+C2H/AOJoAvf8JJof/QZ0/wD8Ck/xo/4STQ/+gzp//gUn+NUf+EB8H/8AQp6H/wCC2H/4mj/hAfB//Qp6H/4LYf8A4mgC9/wkmh/9BnT/APwKT/Gj/hJND/6DOn/+BSf41R/4QHwf/wBCnof/AILYf/iaP+EB8H/9Cnof/gth/wDiaAL3/CSaH/0GdP8A/ApP8aP+Ek0P/oM6f/4FJ/jVH/hAfB//AEKeh/8Agth/+Jo/4QHwf/0Keh/+C2H/AOJoAvf8JJof/QZ0/wD8Ck/xo/4STQ/+gzp//gUn+NUf+EB8H/8AQp6H/wCC2H/4mj/hAfB//Qp6H/4LYf8A4mgC9/wkmh/9BnT/APwKT/Gj/hJND/6DOn/+BSf41R/4QHwf/wBCnof/AILYf/iaP+EB8H/9Cnof/gth/wDiaAL3/CSaH/0GdP8A/ApP8ayvDR8J+E/DtromjatZR2VoGESveo5G5ix5J55Y1P8A8ID4P/6FPQ//AAWw/wDxNH/CA+D/APoU9D/8FsP/AMTQBe/4STQ/+gzp/wD4FJ/jR/wkmh/9BnT/APwKT/GqP/CA+D/+hT0P/wAFsP8A8TR/wgPg/wD6FPQ//BbD/wDE0AXv+Ek0P/oM6f8A+BSf40f8JJof/QZ0/wD8Ck/xqj/wgPg//oU9D/8ABbD/APE0f8ID4P8A+hT0P/wWw/8AxNAF7/hJND/6DOn/APgUn+NH/CSaH/0GdP8A/ApP8ao/8ID4P/6FPQ//AAWw/wDxNH/CA+D/APoU9D/8FsP/AMTQBe/4STQ/+gzp/wD4FJ/jR/wkmh/9BnT/APwKT/GqP/CA+D/+hT0P/wAFsP8A8TR/wgPg/wD6FPQ//BbD/wDE0AXv+Ek0P/oM6f8A+BSf40f8JJof/QZ0/wD8Ck/xqj/wgPg//oU9D/8ABbD/APE0f8ID4P8A+hT0P/wWw/8AxNAF7/hJND/6DOn/APgUn+NH/CSaH/0GdP8A/ApP8ao/8ID4P/6FPQ//AAWw/wDxNH/CA+D/APoU9D/8FsP/AMTQBe/4STQ/+gzp/wD4FJ/jR/wkmh/9BnT/APwKT/GqP/CA+D/+hT0P/wAFsP8A8TR/wgPg/wD6FPQ//BbD/wDE0AbFpqFnfqzWF3BcqpwxhkDgH3xViuI8G6ZYaT4+8YWulWVvY26myYQ20SxoCYTk7VAFdvQAVwXiNpPDXxOsvFc1lfXemz6U+m3L2Vs87W7CUSo7IgLFT84yBwcZ613tFAHnXhm6u9FsPGHjTUtF1TbqWoCe30+O2zdyQRxpEh8okEMcMdpwcYzUviCSfw38ULPxZPYX91pV1pB064azt3na1dZfNRmjQFtpBZcgHBxnrXoFFAHkE2neJpvAXi/W9L02/tb7XtUW4js+YrsWa+XGcDgpI0aOcfeG4DrS+ENN020+ImlN8N9C1LSNFW0mXXDc2s9tFIdo8hdswBeVWLZYdATyc169RQBna34f0rxHZJaa7YQ31ukglWOZcgOAQD9cMfzrkvAGk2Gh+NvG2n6RaR2lpFdWhSGIYVc2yE/qTXfVxvhX/kpHjv8A6+rP/wBJEoA7KiiigAooooAKKKKACiiigDA8V+Kk8LwW0slq1z57MoCvtxgfQ+tcz/wtyD/oESf9/wAf/E074t/8g/Tf+ur/AMhXl9cdWrOM7I+jwOBoVqCnNa69X3PTv+FuQf8AQIk/7/j/AOJo/wCFuQf9AiT/AL/j/wCJrzGis/bT7nb/AGZhf5fxZ6d/wtyD/oESf9/x/wDE0f8AC3IP+gRJ/wB/x/8AE15jRR7afcP7Mwv8v4s9O/4W5B/0CJP+/wCP/ia6Hwp4vTxS10I7Nrb7OFJ3Sbt27PsPSvEK9H+EX+t1b/di/wDZ60p1ZymkzjxuBw9LDynCOqt1fc9MooorsPmwooooAKKKKACiiigAooooAKKKKACiiigAooooAKKKKACiiigAooooAKKKKACiiigAooooAKKKKACiiigAooooAKKKKACiiigAooooAKKKKACiiigAooooAKKKKACiiigAooooAKKKKACiiigAooooAKKKKACiiigAooooAKKKKACiiigAooooAKKKKACiiigAooooA5Lw7/yUrxj/ANuP/ok11tcl4d/5KV4x/wC3H/0Sa62gAooooAKKKKACiiigArjfCv8AyUjx3/19Wf8A6SJXZVxvhX/kpHjv/r6s/wD0kSgDsqKKKACiiigAooooAKKKKAPPPi3/AMg/Tf8Arq/8hXl9eofFv/kH6b/11f8AkK8vrz63xs+vyz/dY/P8wooorE9IKKKKACvR/hF/rdW/3Yv/AGevOK9H+EX+t1b/AHYv/Z62o/xEefmX+6z+X5o9Mooor0D44KKKKACiiigAooooAKKKKACiiigAooooAKKKKACiiigAooooAKKKKACiiigAooooAKKKKACiiigAooooAKKKKACiiigAooooAKKKKACiiigAooooAKKKKACiiigAooooAKKKKACiiigAooooAKKKKACiiigAooooAKKKKACiiigAooooAKKKKACiiigAooooAKKKKAOS8O/8lK8Y/wDbj/6JNdbXJeHf+SleMf8Atx/9EmutoAKKKKACiiigAooooAK43wr/AMlI8d/9fVn/AOkiV2Vcb4V/5KR47/6+rP8A9JEoA7KiiigAooooAKKKKACiiigDzz4t/wDIP03/AK6v/IV5fXqHxb/5B+m/9dX/AJCvL68+t8bPr8s/3WPz/MKKKKxPSCiiigAr0f4Rf63Vv92L/wBnrzivR/hF/rdW/wB2L/2etqP8RHn5l/us/l+aPTKKKK9A+OCiiigAooooAKKKKACiiigAooooAKKKKACiiigAooooAKKKKACiiigAooooAKKKKACiiigAooooAKKKKACiiigAooooAKKKKACiiigAooooAKKKKACiiigAooooAKKKKACiiigAooooAKKKKACiiigAooooAKKKKACiiigAooooAKKKKACiiigAooooAKKKKACiiigDkvDv/JSvGP8A24/+iTXW1yXh3/kpXjH/ALcf/RJrraACiiue8ReLF0PUrDSrLTLrV9V1BZHhs7VkUiNAN0js7KqqCyjk5JOADzQB0NFY3hfxNa+KdLluraGe1lt7iS1urW4UCS3mQ4ZGwSD1ByCQQRUHiLxWNF1Kw0qx0y61fVb8PJFaWzIuyJMb5HdyFVQWUcnJJwAaAOgormrDx5o914RvfEN40unW+mtJFqEV0mJLWSP76MFzk8jG3OcjHWn+H/Emqa1dL9r8KalpVnLCJobq7lg+bOMK0auXRuehHbnB4oA6KuN8K/8AJSPHf/X1Z/8ApIldlXG+Ff8AkpHjv/r6s/8A0kSgDsqKKKACiiigAooooAKKKKAPPPi3/wAg/Tf+ur/yFeX16h8W/wDkH6b/ANdX/kK8vrz63xs+vyz/AHWPz/MKKKKxPSCiiigAr0f4Rf63Vv8Adi/9nrzivR/hF/rdW/3Yv/Z62o/xEefmX+6z+X5o9Mooor0D44KKKKACiiigAooooAKKKKACiiigAooooAKKKKACiiigAooooAKKKKACiiigAooooAKKKKACiiigAooooAKKKKACiiigAooooAKKKKACiiigAooooAKKKKACiiigAooooAKKKKACiiigAooooAKKKKACiiigAooooAKKKKACiiigAooooAKKKKACiiigAooooAKKKKAOS8O/8lK8Y/8Abj/6JNdbXJeHf+SleMf+3H/0Sa62gArgdRng0v486dd6lKsEF/4fltLWWRsKZUnR2TPTJUg++2u+qnqekabrVobXWdPtdQtyQTDdwLKmR0O1gRQBw/gvU7K1vvHXiW6vYYdFm1ceXdvIBERFDHG7humN4K5zglamvJoNP+PdpeX8scMN94da2tZZGAVpEuA7ID6lWU47heOhrs20nTn0n+y20+1bT9gj+yGFfK2jouzGMe2KbqejaXrVmLTWNNs9QtgQRDdQLKgI6HawIoA8P8SR3Wp/Dj4j6zozg2c3iCK4hmhjWRXjt2hEkoHR1BjY+h2H1rpNHmj0f4neGrLwz4svtfs9WtbqXUorq/8AtYVVRWjnHP7vLkLgAA5wBwa9TtrS2s7OO0tLeKC2jXYkMSBURfQKOAPaqeleHNE0KSZ9E0ew055zmVrS2SIyc5+YqBnqetACa7pl7qtikGna1daNKsgcz2scTsy4I2kSKwxyD0zwK5P4fWVzp3jTxtbXupXGqTpdWm66uERXfNshGQiqvAOOB2rv643wr/yUjx3/ANfVn/6SJQB2VFFFABRRRQAUUUUAFFFFAHnnxb/5B+m/9dX/AJCvL69Q+Lf/ACD9N/66v/IV5fXn1vjZ9fln+6x+f5hRRRWJ6QUUUUAFej/CL/W6t/uxf+z15xXo/wAIv9bq3+7F/wCz1tR/iI8/Mv8AdZ/L80emUUUV6B8cFFFFABRRRQAUUUUAFFFFABRRRQAUUUUAFFFFABRRRQAUUUUAFFFFABRRRQAUUUUAFFFFABRRRQAUUUUAFFFFABRRRQAUUUUAFFFFABRRRQAUUUUAFFFFABRRRQAUUUUAFFFFABRRRQAUUUUAFFFFABRRRQAUUUUAFFFFABRRRQAUUUUAFFFFABRRRQAUUUUAFFFFAHJeHf8AkpXjH/tx/wDRJrra5Lw7/wAlK8Y/9uP/AKJNdbQAUUUUAFFFFABRRRQAVxvhX/kpHjv/AK+rP/0kSuyrjfCv/JSPHf8A19Wf/pIlAHZUUUUAFFFFABRRRQAUUUUAeefFv/kH6b/11f8AkK8vr1D4t/8AIP03/rq/8hXl9efW+Nn1+Wf7rH5/mFFFFYnpBRRRQAV6P8Iv9bq3+7F/7PXnFej/AAi/1urf7sX/ALPW1H+Ijz8y/wB1n8vzR6ZRRRXoHxwUUUUAFFFFABRRRQAUUUUAFFFFABRRRQAUUUUAFQ3c/wBlsp7jbv8AKjZ9ucZwM4qaqmrf8gW+/wCveT/0E0nsVFXkkzgP+Fvf9QT/AMm//sKP+Fvf9QT/AMm//sK82org9tU7n1/9m4T+T8X/AJnpP/C3v+oJ/wCTf/2FH/C3v+oJ/wCTf/2FebUUe2qdw/s3Cfyfi/8AM9J/4W9/1BP/ACb/APsKP+Fvf9QT/wAm/wD7CvNqKPbVO4f2bhP5Pxf+Z6lp/wAU/t2pW1p/Y/l/aJki3/as7dxAzjZz1r0GvnzQP+Rl0z/r7i/9DFfQddNGcpJ3PEzPD0qEoqmrXCiiitzyQooooAKKKKACiiigAooooAKKKKACiiigAooooAKKKKACiiigAooooAKKKKACiiigAooooAKKKKACiiigAooooAKKKKACiiigAooooAKKKKACiiigAooooAKKKKACiiigDkvDv/JSvGP/AG4/+iTXW1yXh3/kpXjH/tx/9EmutoAKKKKACiiigAooooAK43wr/wAlI8d/9fVn/wCkiV2Vcb4V/wCSkeO/+vqz/wDSRKAOyooooAKKKKACiiigAooooA88+Lf/ACD9N/66v/IV5fXqHxb/AOQfpv8A11f+Qry+vPrfGz6/LP8AdY/P8wooorE9IKKKKACvR/hF/rdW/wB2L/2evOK9H+EX+t1b/di/9nraj/ER5+Zf7rP5fmj0yiiivQPjgooooAKKKKACiiigAooooAKKKKACiiigAooooAKqat/yBb7/AK95P/QTVuqmrf8AIFvv+veT/wBBNJ7Fw+JHzvRRRXlH3wUUUUAFFFFAGhoH/Iy6Z/19xf8AoYr6Dr580D/kZdM/6+4v/QxX0HXZh9mfN5z8cPQKKKK6jwgooooAKKKKACiiigAooooAKKKKACiiigAooooAKKKKACiiigAooooAKKKKACiiigAooooAKKKKACiiigAooooAKKKKACiiigAooooAKKKKACiiigAooooAKKKKACiiigDkvDv/ACUrxj/24/8Aok11tcl4d/5KV4x/7cf/AESa62gAoorM1zxHpHhu1juNd1CGyjlfy4/Mb5pG/uqo5Y+wBoA06KqaXqthremxahpN3Fd2kwJjmibKtg4P4gjGO1Vtc8S6N4at4p9d1GGySZ9kQkPzSN6Ko5Y/QUAalFVNM1Ww1rTYtQ0i8hvbSYZjngcOrfiPfjHaoLTxFpF9rt5o1nfwzajYqrXNshy0QYAjP5igDSrjfCv/ACUjx3/19Wf/AKSJXZVxvhX/AJKR47/6+rP/ANJEoA7KiiigAooooAKKKKACiiigDzz4t/8AIP03/rq/8hXl9eofFv8A5B+m/wDXV/5CvL68+t8bPr8s/wB1j8/zCiiisT0gooooAK9H+EX+t1b/AHYv/Z684r0f4Rf63Vv92L/2etqP8RHn5l/us/l+aPTKKKK9A+OCiiigAooooAKKKKACiiigAooooAKKKKACiiigAqpq3/IFvv8Ar3k/9BNW6qat/wAgW+/695P/AEE0nsXD4kfO9FFFeUffBRRRQAUUUUAaGgf8jLpn/X3F/wChivoOvnzQP+Rl0z/r7i/9DFfQddmH2Z83nPxw9AooorqPCCiiigAooooAKKKKACiiigAooooAKKKKACiiigAooooAKKKKACiiigAooooAKKKKACiiigAooooAKKKKACiiigAooooAKKKKACiiigAooooAKKKKACiiigAooooAKKKKAOS8O/8AJSvGP/bj/wCiTXW1yXh3/kpXjH/tx/8ARJrraACuDuj5/wC0Hp0d3taO28OTS2auPuyvcIsjLnvsVRx2JrvKw/EXhOx8RzWdzNPd2V9Yl/s19YzeXNEHGGAOCCDxkEEcCgDn/h2yr4p8eQWoAs49bBQKMKJGgjMox0zu5P1okjM37QsBnXclv4ZZ7bcfuO1ztkIHqVCDNbEfgXSIfB914bga8itbtmeedbhvtEjs25nMh53EjrU+v+EbHxBJZ3EtxeWV/Yhhb39lN5c8YYYZc4IIOBkEEZAoA87t/FP/AAhmn/ECewjXYPEZgsw/McdxNFGXZsZIRWLOR9QOTVX4e6v4atfjDLY6RqzX5uNEii+1SRuHu7nz5pZXbIHzHJYnpzjtXrHh/wAPaf4Z0v7BpUbrG0jTSPLI0kk0jHLyOzHJYnkmiPw/ZReKp/EK+Z9untEs3Jb5fLRmYYHrljzQAa6+ux2KHwzb6fPd+YA66hO8UYTByQURjuzt4xjGea5P4fNqj+NPGza9DZw3/wBqtPMSylaSIf6MmMMyqTxjPHXNd/XG+Ff+SkeO/wDr6s//AEkSgDsqKKKACiiigAooooAKKKKAPPPi3/yD9N/66v8AyFeX16h8W/8AkH6b/wBdX/kK8vrz63xs+vyz/dY/P8wooorE9IKKKKACvR/hF/rdW/3Yv/Z684r0f4Rf63Vv92L/ANnraj/ER5+Zf7rP5fmj0yiiivQPjgooooAKKKKACiiigAooooAKKKKACiiigAooooAKqat/yBb7/r3k/wDQTVuqmrf8gW+/695P/QTSexcPiR870UUV5R98FFFFABRRRQBoaB/yMumf9fcX/oYr6Dr580D/AJGXTP8Ar7i/9DFfQddmH2Z83nPxw9AooorqPCCiiigAooooAKKKKACiiigAooooAKKKKACiiigAooooAKKKKACiiigAooooAKKKKACiiigAooooAKKKKACiiigAooooAKKKKACiiigAooooAKKKKACiiigAooooAKKKKAOS8O/8lK8Y/wDbj/6JNdbXJeHf+SleMf8Atx/9EmutoAKKKKACiiigAooooAK43wr/AMlI8d/9fVn/AOkiV2Vcb4V/5KR47/6+rP8A9JEoA7KiiigAooooAKKKKACiiigDzz4t/wDIP03/AK6v/IV5fXqHxb/5B+m/9dX/AJCvL68+t8bPr8s/3WPz/MKKKKxPSCiiigAr0f4Rf63Vv92L/wBnrzivR/hF/rdW/wB2L/2etqP8RHn5l/us/l+aPTKKKK9A+OCiiigAooooAKKKKACiiigAooooAKKKKACiiigAqpq3/IFvv+veT/0E1bqpq3/IFvv+veT/ANBNJ7Fw+JHzvRRRXlH3wUUUUAFFFFAGhoH/ACMumf8AX3F/6GK+g6+fNA/5GXTP+vuL/wBDFfQddmH2Z83nPxw9AooorqPCCiiigAooooAKKKKACiiigAooooAKKKKACiiigAooooAKKKKACiiigAooooAKKKKACiiigAooooAKKKKACiiigAooooAKKKKACiiigAooooAKKKKACiiigAooooAKKKKAOS8O/wDJSvGP/bj/AOiTXW1yXh3/AJKV4x/7cf8A0Sa62gAooooAKKKKACiiigArjfCv/JSPHf8A19Wf/pIldlXG+Ff+SkeO/wDr6s//AEkSgDsqKKKACiiigAooooAKKKKAPPPi3/yD9N/66v8AyFeX16h8W/8AkH6b/wBdX/kK8vrz63xs+vyz/dY/P8wooorE9IKKKKACvR/hF/rdW/3Yv/Z684r0f4Rf63Vv92L/ANnraj/ER5+Zf7rP5fmj0yiiivQPjgooooAKKKKACiiigAooooAKKKKACiiigAooooAKqat/yBb7/r3k/wDQTVuqmrf8gW+/695P/QTSexcPiR870UUV5R98FFFFABRRRQBoaB/yMumf9fcX/oYr6Dr580D/AJGXTP8Ar7i/9DFfQddmH2Z83nPxw9AooorqPCCiiigAooooAKKKKACiiigAooooAKKKKACiiigAooooAKKKKACiiigAooooAKKKKACiiigAooooAKKKKACiiigAooooAKKKKACiiigAooooAKKKKACiiigAooooAKKKKAOS8O/8lK8Y/wDbj/6JNdbXJeHf+SleMf8Atx/9EmutoAKKKKACiiigAooooAK43wr/AMlI8d/9fVn/AOkiV2Vcb4V/5KR47/6+rP8A9JEoA7KiiigAooooAKKKKACiiigDzz4t/wDIP03/AK6v/IV5fXqHxb/5B+m/9dX/AJCvL68+t8bPr8s/3WPz/MKKKKxPSCiiigAr0f4Rf63Vv92L/wBnrzivR/hF/rdW/wB2L/2etqP8RHn5l/us/l+aPTKKKK9A+OCiiigAooooAKKKKACiiigAooooAKKKKACiiigAqpq3/IFvv+veT/0E1bqpq3/IFvv+veT/ANBNJ7Fw+JHzvRRRXlH3wUUUUAFFFFAGhoH/ACMumf8AX3F/6GK+g6+fNA/5GXTP+vuL/wBDFfQddmH2Z83nPxw9AooorqPCCiiigAooooAKKKKACiiigAooooAKKKKACiiigAooooAKKKKACiiigAooooAKKKKACiiigAooooAKKKKACiiigAooooAKKKKACiiigAooooAKKKKACiiigAooooAKKKKAOS8O/wDJSvGP/bj/AOiTXW1yXh3/AJKV4x/7cf8A0Sa62gArz3xHZQ+Kfi/YeHdY3TaTZ6NJqLWZYrHcStKIlLgH5go3YB6Fq9CrlfEfhfUrvxNp/iTw1f29nqlnBJayx3UJkhuoHIOx9pDAqwDAg9c8c0AZ/wANnksb/wAU+HBJJLZ6LqYjs/MYuY4ZIkkEe4k5CliB6DFVvEFnD4p+MVp4c1kPPpFnojaibPeyxzTPN5QLgY3BVVsA55bNaOj+ENX0PwvqwstXgPibVrhry41F7fMSzNgALGT9xVUKAT796n8QeFtTuPEun+JPDuoW1tqtpayWcq3cLPDdQuQ21trAqQy7gRnqeKAMHwjpNrrGn+K/Bmqy3N3pWl6sIYEa6kDiApHKsRkBDbVJI69Bg8VX8JaNp2lfF6/tvAsbWuhWVgYdWiikLW5vC4KIoJOJFTO7HQEA81rp4J16x8D6vY6T4gS38Ra1dNd3eqeQQqO+1WEaZyoCKFXkkYz1qx4I8O+I/DFvb6ZdTeH10e3jIWHT7KeOVnPO4u8rZJOSSQSSetAG/rutDQrFLk6dqGob5BH5Wn25mkGQTuKj+HjGfUiuS+HupjWPGvje9FneWQkurQeRewmKVcWyDle2cZHtXoFcb4V/5KR47/6+rP8A9JEoA7KiiigAooooAKKKKACiiigDzz4t/wDIP03/AK6v/IV5fXqHxb/5B+m/9dX/AJCvL68+t8bPr8s/3WPz/MKKKKxPSCiiigAr0f4Rf63Vv92L/wBnrzivR/hF/rdW/wB2L/2etqP8RHn5l/us/l+aPTKKKK9A+OCiiigAooooAKKKKACiiigAooooAKKKKACiiigAqpq3/IFvv+veT/0E1bqpq3/IFvv+veT/ANBNJ7Fw+JHzvRRRXlH3wUUUUAFFFFAGhoH/ACMumf8AX3F/6GK+g6+fNA/5GXTP+vuL/wBDFfQddmH2Z83nPxw9AooorqPCCiiigAooooAKKKKACiiigAooooAKKKKACiiigAooooAKKKKACiiigAooooAKKKKACiiigAooooAKKKKACiiigAooooAKKKKACiiigAooooAKKKKACiiigAooooAKKKKAOS8O/wDJSvGP/bj/AOiTXW1yXh3/AJKV4x/7cf8A0Sa62gAooooAKKKKACiiigArjfCv/JSPHf8A19Wf/pIldlXG+Ff+SkeO/wDr6s//AEkSgDsqKKKACiiigAooooAKKKKAPPPi3/yD9N/66v8AyFeX16h8W/8AkH6b/wBdX/kK8vrz63xs+vyz/dY/P8wooorE9IKKKKACvR/hF/rdW/3Yv/Z684r0f4Rf63Vv92L/ANnraj/ER5+Zf7rP5fmj0yiiivQPjgooooAKKKKACiiigAooooAKKKKACiiigAooooAKqat/yBb7/r3k/wDQTVuqmrf8gW+/695P/QTSexcPiR870UUV5R98FFFFABRRRQBoaB/yMumf9fcX/oYr6Dr580D/AJGXTP8Ar7i/9DFfQddmH2Z83nPxw9AooorqPCCiiigAooooAKKKKAIby7hsLOW6uWKxRLucgZwPpWB/wsDw9/z9yf8Aflv8KveKv+RT1L/rg1eJVrCCktThxOInSklE9f8A+FgeHv8An7k/78t/hR/wsDw9/wA/cn/flv8ACvIKK09lE5vrtTyPX/8AhYHh7/n7k/78t/hR/wALA8Pf8/cn/flv8K8goo9lEPrtTyPX/wDhYHh7/n7k/wC/Lf4VPZeNNE1C9itbW5dppW2oDEwyfrivGa2PCP8AyN2nf9dh/I0nTikVDGVJSSdj2yiiiuc9UKKKKACiiigAooooAKKKKACiiigAooooAKKKKACiiigAooooAKKKKACiiigAooooAKK5P4juyeFlKMVP2hOQcdmryv7RN/z2k/76NaRp8yucdbFeyly2PoCivn/7RN/z2k/76NH2ib/ntJ/30av2XmY/Xl/L+J9AUV8//aJv+e0n/fRo+0Tf89pP++jR7LzD68v5fxPoCivn/wC0Tf8APaT/AL6Ndd8NpZH8TSh3Zh9lbgnP8S1Lp2V7l08ZzyUeXc6Xw7/yUrxj/wBuP/ok11tcl4d/5KV4x/7cf/RJrrayO8KKKKACiiigAooooAK43wr/AMlI8d/9fVn/AOkiV2Vcb4V/5KR47/6+rP8A9JEoA7KiiigAooooAKKKKACiiigDzz4t/wDIP03/AK6v/IV5fXqHxb/5B+m/9dX/AJCvL68+t8bPr8s/3WPz/MKKKKxPSCiiigAr0f4Rf63Vv92L/wBnrzivR/hF/rdW/wB2L/2etqP8RHn5l/us/l+aPTKKKxP+Ex8P/wDQTh/I/wCFeik3sfGSlGO7NuisT/hMfD//AEE4fyP+FH/CY+H/APoJw/kf8KOV9ifaQ7o26KxP+Ex8P/8AQTh/I/4Uf8Jj4f8A+gnD+R/wo5X2D2kO6NuisT/hMfD/AP0E4fyP+FKPGOgHpqcX5N/hRyvsHtId0bVZmreItM0SSNNSnMTSglMRs2QPoK0683+KX/H9p/8A1zf+YpxXM7E16jp03JHS/wDCfeHf+f5v+/D/AOFH/CfeHf8An+b/AL8P/hXj1Fb+yied9dqdkew/8J94d/5/m/78P/hR/wAJ94d/5/m/78P/AIV49RR7KIfXanZHsP8Awn3h3/n+b/vw/wDhR/wn3h3/AJ/m/wC/D/4V49RR7KIfXanZHuula3Ya3FJJpsxlWNtrEoy4P4ipNW/5At9/17yf+gmuQ+F3/IMv/wDrsv8AKuv1b/kC33/XvJ/6Ca55qzaPVw03NRkz53oooryD9DCiiigAooooA0NA/wCRl0z/AK+4v/QxX0HXz5oH/Iy6Z/19xf8AoYr6Drsw+zPm85+OHoFFFFdR4QUUUUAFFFFABRRRQBkeKv8AkU9S/wCuDV4lXtvir/kU9S/64NXiVdFLY8rHfGvQKKKK2PPCiiigArY8I/8AI3ad/wBdh/I1j1seEf8AkbtO/wCuw/kamWzNKfxr1PbKKKK4z6EKKKKACiiigAooooAKKKKACiiigAooooAKKKKACiiigAooooAKKKKACiiigAooooA5L4k/8iqv/Xyn8mryivV/iT/yKq/9fKfyavKK6aXwnjYz+KFFFFanGFFFFABXX/DT/kaJf+vVv/QlrkK6/wCGn/I0S/8AXq3/AKEtRP4Wb4f+LE6jw7/yUrxj/wBuP/ok11tcl4d/5KV4x/7cf/RJrra5D3gooooAKKKKACiiigArjfCv/JSPHf8A19Wf/pIldlXG+Ff+SkeO/wDr6s//AEkSgDsqKKKACiiigAooooAKKKKAPPPi3/yD9N/66v8AyFeX16h8W/8AkH6b/wBdX/kK8vrz63xs+vyz/dY/P8wooorE9IKKKKACvR/hF/rdW/3Yv/Z684r0f4Rf63Vv92L/ANnraj/ER5+Zf7rP5fmj0yvnuvoSvnuvXpdT88x32fn+gUUUVueYFFFFABTo/wDWp/vCm06P/Wp/vCgZ9BV5v8Uv+P7T/wDrm/8AMV6RXm/xS/4/tP8A+ub/AMxXLT+I9rF/wWcHRRRXUeIFFFFABRRRQB6V8Lv+QZf/APXZf5V1+rf8gW+/695P/QTXIfC7/kGX/wD12X+Vdfq3/IFvv+veT/0E1x1N2fQYP4If11PneiiivHP0YKKKKACiiigDQ0D/AJGXTP8Ar7i/9DFfQdfPmgf8jLpn/X3F/wChivoOuzD7M+bzn44egUVw3jXxXqeha1DbWDRiN7dZDvTcclmH9BXO/wDCxde/56Qf9+hXcqbaufMTxVOEnFnrdFeSf8LF17/npB/36FH/AAsXXv8AnpB/36FP2UiPrtLzPW6K8k/4WLr3/PSD/v0KP+Fi69/z0g/79Cj2Ug+u0vM9boryT/hYuvf89IP+/QrvPBusXWt6E11fFTKJmT5FwMAD/GplBxV2a08RCpLliWPFX/Ip6l/1wavEq9t8Vf8AIp6l/wBcGrxKtaWxxY7416BRRRWx54UUUUAFbHhH/kbtO/67D+RrHrY8I/8AI3ad/wBdh/I1MtmaU/jXqe2UUVj6h4r0XS7xrS/vPKnQAsvlO2MjI5AIrkSb2PflKMVeTsbFFc9/wnfhv/oI/wDkCT/4mj/hO/Df/QR/8gSf/E0+WXYj21P+ZfedDRXPf8J34b/6CP8A5Ak/+Jo/4Tvw3/0Ef/IEn/xNHLLsHtqf8y+86Giue/4Tvw3/ANBH/wAgSf8AxNH/AAnfhv8A6CP/AJAk/wDiaOWXYPbU/wCZfedDSO6xqWkYKo6ljgCq9hqFtqlkl3Yy+bA+dr7SucHB4IB6isfx3/yJN/8A9s//AEYtJLWxUpWg5I2/tlt/z8Rf99ij7Zbf8/EX/fYrwGitvZeZ5/15/wAp799stv8An4i/77FH2y2/5+Iv++xXgNFHsvMPrz/lPfvtlt/z8Rf99ij7Zbf8/EX/AH2K8Boo9l5h9ef8p9AJcwSMFjmjZj0CuCTUleQfD/8A5HK2/wByT/0E16/Wco8rsdlCr7WPNax4/wCLdTv4PFd/HDe3MaLIMKkrADgds1j/ANsan/0Ebv8A7/t/jV/xj/yOGo/9dB/6CKxK6YpWR49ST53r1Ln9san/ANBG7/7/ALf40f2xqf8A0Ebv/v8At/jVOinZGfNLuXP7Y1P/AKCN3/3/AG/xo/tjU/8AoI3f/f8Ab/GqdFFkHNLuXP7Y1P8A6CN3/wB/2/xr2TwzI8vhfT5JXZ3aBSzMckn614fXtvhX/kU9N/64LWVXY78E25u5k/En/kVV/wCvlP5NXlFer/En/kVV/wCvlP5NXlFOl8JljP4oUUUVqcYUUUUAFdf8NP8AkaJf+vVv/QlrkK6/4af8jRL/ANerf+hLUT+Fm+H/AIsTqPDv/JSvGP8A24/+iTXW1yXh3/kpXjH/ALcf/RJrra5D3grifEuo6vqvj6x8IaJqb6RGdPfUr69hjR5igkEaRpvBVSWJJJB4Xiu2riPEljqukfECx8XaTpU2sQnT3029tbaRFmRN4lSRA5VWwQwILZ+YY70AW/Aut6jfvrej67Ot1qGh35tWuVjCfaI2RZI3KjgNtbBA4yOOtV/EWoatqvjy08I6PqMukRjTn1G9voI0eXb5gjjjTeCqkncScHhccZqv4fsdf0HS/E/iOfRDc6zq98bqHSVukDiNVSOONpOUDbVLEgkc4zT/ABBYavpPxDsPF+laRJq0Ummtpt/aW8qLPGvmeajpvKq2DuBBYdRigDGl8f61o/gbxGl08F94g0fVF0q3lkjEaXDStH5MjKuAOJQSBgHYcda1LK78QeFvHmi6JrmvyeILXXLecJLPaxQvBcQqHJHlqBsZS3ByQQOayn8Da9q3gbxHcXNvFYeINX1VNWt7Rpg6wNC0fkxO65BJEXJHA3+1atnDrfi3x9omtan4fudDsdDguCqXssbSTXMqhDtEbMNirv8AmOM7uBQB2Wp6vpui2y3Gsaha6fAziNZbqdYlLEE7QWIGcAnHsa8/8NeM/C8PxA8aXE3iTSI4bi5tDDI99EFlAtUB2ndg4PBx3r0W7srW/iEV9bQ3MYbcEmjDgH1we/Jqp/wjmh/9AbT/APwFT/CgDMPxH8FAkHxbovHpfx/40n/CyPBP/Q26L/4HR/41qf8ACOaH/wBAbT//AAFT/Cj/AIRzQ/8AoDaf/wCAqf4UC1Mv/hZHgn/obdF/8Do/8aP+FkeCf+ht0X/wOj/xrU/4RzQ/+gNp/wD4Cp/hWFf+CrKfx3ouowaRp4sLWzvIrgeQgy8jQGP5cc8I/Pb8aA1LP/CyPBP/AENui/8AgdH/AI0f8LI8E/8AQ26L/wCB0f8AjWp/wjmh/wDQG0//AMBU/wAKP+Ec0P8A6A2n/wDgKn+FAamX/wALI8E/9Dbov/gdH/jU3/CfeDj/AMzZof8A4MYf/iqvf8I5of8A0BtP/wDAVP8ACj/hHND/AOgNp/8A4Cp/hQM82+KPjDw1fWOnrZeItJuCsjlhFfRvjgdcNXm/9v6P/wBBax/8CU/xr6R/4RzQ/wDoDaf/AOAqf4Uf8I5of/QG0/8A8BU/wrCdFSle56uGzKWHpqmo3sfN39v6P/0FrH/wJT/Gj+39H/6C1j/4Ep/jX0j/AMI5of8A0BtP/wDAVP8ACq2peFtHuNKu4YNG0/zZIXRP9GQclSBzio+rrudH9sz/AJEfO/8Ab+j/APQWsf8AwJT/ABo/t/R/+gtY/wDgSn+Ne9eEvB2n6Z4K0Sw1TR9PN9a6fbw3JMCPmRY1DfNjnkHnvWv/AMI5of8A0BtP/wDAVP8ACj6uu4f2zP8AkR83f2/o/wD0FrH/AMCU/wAa9A+Fni7w3Yyamb3xBpduHEW3zr2NN2N2cZNeo/8ACOaH/wBAbT//AAFT/Cj/AIRzQ/8AoDaf/wCAqf4VcKKjK9zDEZnKvSdNxtco/wDCfeD/APobND/8GUP/AMVXhP8AwkWi/wDQYsP/AAKT/GvoT/hHND/6A2n/APgKn+FH/COaH/0BtP8A/AVP8K6oz5Twa1BVrXex89/8JFov/QYsP/ApP8aP+Ei0X/oMWH/gUn+NfQn/AAjmh/8AQG0//wABU/wo/wCEc0P/AKA2n/8AgKn+FX7V9jn+ox7nz3/wkWi/9Biw/wDApP8AGj/hItF/6DFh/wCBSf417IPBNqPiS+qf2RYf2YdJW3C+SmPO84tnbj+6etdB/wAI5of/AEBtP/8AAVP8KPavsH1GPc+e/wDhItF/6DFh/wCBSf406PxFovmr/wATiw+8P+XpP8a+gv8AhHND/wCgNp//AICp/hR/wjmh/wDQG0//AMBU/wAKPavsH1GPco/8J94P/wChs0P/AMGUP/xVef8AxJ8X+Gr29sTZ+IdKuAsbbjFextjkdcNXp3/COaH/ANAbT/8AwFT/AAo/4RzQ/wDoDaf/AOAqf4VnF8rudlWmqkOVnz3/AMJFov8A0GLD/wACk/xo/wCEi0X/AKDFh/4FJ/jX0J/wjmh/9AbT/wDwFT/Cj/hHND/6A2n/APgKn+Fae1fY4/qMe589/wDCRaL/ANBiw/8AApP8aP8AhItF/wCgxYf+BSf417V4y8G2WqeB9bsNI0ewW/urGaG3IgRMSMhC/Njjk9a1LTwxo0VlBHLo+nl0jVW/0ZDyBz2o9q+wfUY9zwH/AISLRf8AoMWH/gUn+NH/AAkWi/8AQYsP/ApP8a+hP+Ec0P8A6A2n/wDgKn+FH/COaH/0BtP/APAVP8KPavsH1GPc8++G/jHwzZ6dereeI9Jty0qlRLfRLnj3aup1Tx54QfR7xU8VaIzNA4AGowkk7T/tVsf8I5of/QG0/wD8BU/wo/4RzQ/+gNp//gKn+FZSfM7ndRj7JJLofN39v6P/ANBax/8AAlP8aP7f0f8A6C1j/wCBKf419I/8I5of/QG0/wD8BU/wo/4RzQ/+gNp//gKn+Fcn1ddz3/7Zn/Ij5u/t/R/+gtY/+BKf40f2/o//AEFrH/wJT/GvpH/hHND/AOgNp/8A4Cp/hWDpvgmyt/HGu6hPo+n/AGK7t7RLceQh+ZPN3/Ljj7y/X8KPq67h/bM/5EeGf2/o/wD0FrH/AMCU/wAaP7f0f/oLWP8A4Ep/jX0j/wAI5of/AEBtP/8AAVP8KP8AhHND/wCgNp//AICp/hR9XXcP7Zn/ACI+fND8RaJH4h055NYsERbqJmZrpAAA4ySc17r/AMJ94P8A+hs0P/wZQ/8AxVXv+Ec0P/oDaf8A+Aqf4Uf8I5of/QG0/wD8BU/wranT5Eefi8XLFSTatY8o+Ivizw5eeIoJLTX9LnQWqqWivY2AO9+Mg+9cl/wkWi/9Biw/8Ck/xr6E/wCEc0P/AKA2n/8AgKn+FH/COaH/ANAbT/8AwFT/AArpVRpWPFqYSM5OV9z57/4SLRf+gxYf+BSf40f8JFov/QYsP/ApP8a+hP8AhHND/wCgNp//AICp/hWF4z8FWWreFLmz0jSNPW7kkhKEQImAsyM3OP7oNP2r7EfUY9zxj/hItF/6DFh/4FJ/jR/wkWi/9Biw/wDApP8AGvoT/hHND/6A2n/+Aqf4Uf8ACOaH/wBAbT//AAFT/Cj2r7B9Rj3Pnv8A4SLRf+gxYf8AgUn+NenfD7xp4WtPDLR3fiTSIHNwxCy38SnGBzgtXbf8I5of/QG0/wD8BU/wo/4RzQ/+gNp//gKn+FTKo5KxrRwypS5kznfE3jnwlN4Y1COHxRoskjQsFVdQiJJ9hurx3/hItF/6DFh/4FJ/jX0J/wAI5of/AEBtP/8AAVP8KP8AhHND/wCgNp//AICp/hRGfKh1sOqru2fPf/CRaL/0GLD/AMCk/wAaP+Ei0X/oMWH/AIFJ/jX0J/wjmh/9AbT/APwFT/Cj/hHND/6A2n/+Aqf4VXtX2MfqMe589/8ACRaL/wBBiw/8Ck/xo/4SLRf+gxYf+BSf417J4e8E2tl4g8TXV/pFgbe+vo5bMGFGxGLeJDxj5fmVuPxroP8AhHND/wCgNp//AICp/hR7V9g+ox7nz3/wkWi/9Biw/wDApP8AGtfwt4n0GDxTYSTa3p0cay5Z3u4wAMdzmvbf+Ec0P/oDaf8A+Aqf4Uf8I5of/QG0/wD8BU/wodVtDjgoxadyj/wn3g//AKGzQ/8AwZQ//FV5V458VeHrrxZcS22u6ZNGUTDx3kbA/KO4Nex/8I5of/QG0/8A8BU/wo/4RzQ/+gNp/wD4Cp/hWcZcrudNakqseVs+e/8AhItF/wCgxYf+BSf40f8ACRaL/wBBiw/8Ck/xr6E/4RzQ/wDoDaf/AOAqf4Uf8I5of/QG0/8A8BU/wrT2r7HL9Rj3Pnv/AISLRf8AoMWH/gUn+NH/AAkWi/8AQYsP/ApP8a9j8X+CLTVLfSU0vR9PDW+r2tzP+5RP3KSBn7c8Dp3rof8AhHND/wCgNp//AICp/hR7V9g+ox7nz3/wkWi/9Biw/wDApP8AGj/hItF/6DFh/wCBSf419Cf8I5of/QG0/wD8BU/wo/4RzQ/+gNp//gKn+FHtX2D6jHucl4I8beFbXwjaRXPibR4ZFL5SS/iUj5z2LU7xr438KXPg+9itvE+jSyN5e1I9QiZj+8U9A1dX/wAI5of/AEBtP/8AAVP8KP8AhHND/wCgNp//AICp/hWd9bnZ7Nez5PKx89/8JFov/QYsP/ApP8aP+Ei0X/oMWH/gUn+NfQn/AAjmh/8AQG0//wABU/wo/wCEc0P/AKA2n/8AgKn+Fae1fY4/qMe589/8JFov/QYsP/ApP8aP+Ei0X/oMWH/gUn+NfQn/AAjmh/8AQG0//wABU/wrC8K+CrLTYdVGp6Rp5a41S5uIMwI2ImfKduOO3aj2r7B9Rj3PGP8AhItF/wCgxYf+BSf40f8ACRaL/wBBiw/8Ck/xr6E/4RzQ/wDoDaf/AOAqf4Uf8I5of/QG0/8A8BU/wo9q+wfUY9zx3wN4p8P23iy3ludd02GNUfLyXkagfKe5Neqf8J94P/6GzQ//AAZQ/wDxVXv+Ec0P/oDaf/4Cp/hR/wAI5of/AEBtP/8AAVP8KzlLmdzqo0lSjypnifizxRoFx4qv5YNc02WNpPldLuMg8DoQax/+Ei0X/oMWH/gUn+NfQn/COaH/ANAbT/8AwFT/AAo/4RzQ/wDoDaf/AOAqf4VaqtKxzSwUZSbufPf/AAkWi/8AQYsP/ApP8aP+Ei0X/oMWH/gUn+NfQn/COaH/ANAbT/8AwFT/AArC1/wZaXmteHJ7DR7EQWWoNNeAQouYzbzIOMfN8zrx+Pan7V9hfUY9zxj/AISLRf8AoMWH/gUn+NH/AAkWi/8AQYsP/ApP8a+hP+Ec0P8A6A2n/wDgKn+FH/COaH/0BtP/APAVP8KPavsH1GPc+e/+Ei0X/oMWH/gUn+NexeGvHPhODwxp8U3ijRY5FgUMj6hECD7jdXRf8I5of/QG0/8A8BU/wo/4RzQ/+gNp/wD4Cp/hUynzI2o4dUndM4n4g+NPC134aWO18S6PO/2hTtjv4mOMHnAavMf+Ei0X/oMWH/gUn+NfQn/COaH/ANAbT/8AwFT/AAo/4RzQ/wDoDaf/AOAqf4URqOKsKrhlVlzNnz3/AMJFov8A0GLD/wACk/xo/wCEi0X/AKDFh/4FJ/jX0J/wjmh/9AbT/wDwFT/Cj/hHND/6A2n/APgKn+FV7V9jL6jHufPf/CRaL/0GLD/wKT/Gj/hItF/6DFh/4FJ/jXsfgbwRaaP4Qt7LWdH083iTXDvmFH4ed3XnH91lrof+Ec0P/oDaf/4Cp/hR7V9g+ox7nz3/AMJFov8A0GLD/wACk/xrq/h54s8O2niOWS71/S4ENswDS3kajO5eMk16z/wjmh/9AbT/APwFT/Cj/hHND/6A2n/+Aqf4UnUbVi4YOMJKV9jmvBup2GrePvGF1pV7b31uxslE1tKsiEiE5G5SRXb1XtNOstPDCws7e1D4LCGJU3fXA5qxWR2hRRRQAUUUUAFFFFABRRRQAUUUUAFFFFABWPYeL/Duqa1PpGm65YXWo2+RLaw3CtIuPvcA9uh9Dwaf4kuo4NFlt2vDZz6h/oVrMFZts0gKp0BxzznoMV454fvL3Q757OTwXqNrrWnaGmk6ZZwWjGGeUkmafz1HlhGZYvnJB4bPWgD3iis7w7ps2j+F9L026n+0z2dnFBLOST5rqgDPk8nJBPPrWjQAUUUUAFFFU9Xtri90S+tbGb7PdT28kcMx/wCWblSFb8CQaAKdh4v8O6prU+kabrlhdajb5EtrDcK0i4+9wD26H0PBrYrwfw7f32kXklofBWqWGtWOhx6RpdjDakwySksZpzOF8sIzLD85bsTzmvaNA0+bSfDemadczG4ms7SKCSYsWMjIgUtk8nJGcmgDQooooAKKKKACiiigArE0rxn4a1zU5dO0bXtPvryEFngt7lXYAYycA8gZHIqLxvLG/hO80sXn2O81mKTTrF/mGbiSJ9gyoJHQnOOACa8o0vUb9JNVs7fwff6frz6RDoml2H2J1hiGzMszTqBH5e9hzuBIiHAJxQB7vRVXS7NtP0ezspJmna3gSJpWJJcqoG457nGatUAFFFFABRRRQAVU1TVtP0TTpb/WL2CytIhl5p5Air+J7+3erdcP8RIbprjRNStNN/tyHRrw3V3pUQV5ZFaJ0SRUP3mRmyB16kcigDqdG13SvENibzQtRtdRtg5jMttKJFDAAlSR3wRx71fryTwJ9r1n/hG7Ozs9QtoNPmn1bWL2ayktI7i7kVx5KBwC4DTPnjAESjPSvW6ACiiigAooooAKKKKACqmqarZaLpsuoapcLb2sON8jAnkkKoAHJJJAAHJJAFW64nxix8TT6fo/hy7t31S1lj1iJpkL2xEMoULIynIyWJG3JyhzxQB2hkQSCMuodhkLnkj6U6vKpfAt3F4s8O318kmp+JZ9RN9qOtxo0cNnBGjD7PGc/Kh3KgTksC7N7eq0AFFFFABRRRQBDd3BtbKe4EMs5hjZxFCuXkwM7VBIyT0HvXOaL8RvDetXn2AXj6fqQxu0/U4mtZweOArgbuv8ORXSXVzDZWc11dSLFBBG0kkjdFVRkk/QCvGXl8Kxahra/FLw7JeDUbySex1qXTZLqOa1c5hRJEVmiKJgbeMZznJNAHtdFcV8KNHbSPBCjbqMcVzdTTW0OozO8sVuZCIVKt9w+WEJUdya7WgAooooAKKKKACiiigCvqN9Fpml3V/cBjDawvNIEGWKqpJwO5wKNOvBqGl2t6IpIRcwpKIpMbk3KDtOCRkZxwTXN+PdY0aHTl0HVrPUtSm1VHEdhpSubh0TBZwVK7QCV5LDOQOelc54Esb2y0/RJvCXiqabQr6MSQaP4giV7hbdWw5hkQhuAy4BDKAV5AIoA9PooooAKKKKACiiigArLsfEemahrd/o8E5XUNPZRNbyoUYqwyHUH7ynkbhxkGpNd1eHQdCutSucFLdMqpJG9ycKuQDjLEDoetedeKNG8e+KGgu7Tw5pGi6xZ/8AHnqaa27yQjglSBBh0JHKnj+dAHqtFc14L8R6hrVteWPiCwWw1vSpVgvoon3xOSoZZI2/uspBweRyD0yeloAKKKKACiiigBsjiKJ5CGYKpYhVJJx6AdTWZ4d8SaZ4q0hNR0efzIiSro67XicdUdTyrD0NSa5c6ta6dv0DToNQvC4URXFz5CBe7FtrHj0Arza80D4kL4pTxPoWk+H9LvSuNQtk1OV01JAPlRl8kAOP4XyMZweOKAPWqKyvC+vw+KPDFjrNvBLbpdx7jDMMNGwJDKfoQRnvWrQAUUUUAFFFMnmitreSe4kWOKJS7uxwFUDJJPpigCK+v7PS7GS91O7gs7WIZknuJBGiDOOWOAOSKZpuradrNmLrSL+2vrdukttKsi/mDXFfEgXms6Nod1omhR+KdLivo724hguo8TRr93arArKDuLYz1RexNV/DsPw/8TeJkn0bTZtF8QadtmmtRbyafPtDdJEG0SLkgH7w5A70AekUUUUAFFFFABRRRQAVjDxj4bPiH+whrunnVc7fsQuU83d/d25zu46datLruktrj6MupWv9pogdrPzl80KRkHZnOMc14z4evb7wfrtjY+JfDWqtNosFyYHsbBrk6vdyuf34kVcA+Xu++VwZGz0oA91orD8F6XfaN4N06y1eXzL5Iy9wQ5cK7sXZAT1VS20ewFblABRRRQAUUUUAFFFFABRRRQAUUUUAFFFFABRRQSFBJOAOST2oA83+K2qaORp+nz+O7TwvqdvOl3AJY0l3MPul1PKrwRnI7jnpW/4U1TxXdziHxHYaVNaG3EsOr6VeFobgk8ARsNy8HOcke9csdQbw34g1y61HwvdeJtH164W7tdU0m2W+LJ5aR+TIg5CrglTyCGPvXRfDPSJtJ8N3Yeym0y0utQnubHTZgFaygYgLGQCQuSGfaCcb8dqAOwooooAKKKKACvNfiU+m6n4t0Dw74rupNM0S4SS5ivUcRGS9QqscQlPMZ2u54ILcDOMg+kO6xxs8h2qoJYnsK8YuvEvjbxTHapHofh7WrDVNPbV10O9gYslrvUQgyliplcNuA24BVvQUAJLrOueB9X1eTQ/FZ8T6DpNjDez2V+RNJEjuylBcLz5mFDIrZ3DIOOCfaq4fwr4f8PeIvAOlzQ+G7fRbG6li1H7BaMoSVlIaNpCgAkBwrYbPRc8jA7igAooooAKKKKACiiigDzrx/c2Wq+ItM0q08bR+G9a02Vby3iubdWiuHZSqjL43fKXGFboxyD26Xw5e+KZJntfFOl2Mflxhk1DT7ovFOfQRsAyH8x71zms+KZ/Km03x78Pr+4sJGIWayhXUoJBnCllUb0PPQr171c+EugDQPAqINPutN+1XU9wlnduxkgiMjeUjKzHYRGEyoOASe+aAO3ooooAKKKKACiiigArzSx8V6b4J8YeJIvGnmafc6lqAntL9oJGiuoBGixorhSAyAEFfUkjqa2fir4jbw14BuJ4dS/su4up4bWK78sv5Qdx5jDjgrEJGGe4HcgVU0nw9rNvaW194N8fT6vZOobZrGy+jmGeqypsYce7dvegDc8G6pqGt6XdanfpLHbXV5I+nRzw+VItqMBCy4BG4hmGedrLmuhoooAKKKKACiiigAooooAK8s8P+AdA8Qzah4o8Nf2p4Wlurx1gm026ESzJESnmGELs2s4c7WBJHPGcD0XWdU/sbSZr82V5fiLbm3sYfNmbLBflXvjOT7A15d4au7yX7TpHw28b6OLF2kaPT9Wsn+2aYXJYqiblLAMTgOpx0yQMUAdn4N0SaC5utb1DxL/wkdzdRrax3KQrFHHHE75QKpI3b2YMeuVA7V1lZvh7Q7bw34es9Ismd4rWPb5khy0rE5Z2/2mYlj7k1pUAFFFFABRRRQBgeN0t7nwff2N3rlroaX0f2b7ZdBCg3cFcOQDuXcMZzzx0rC8N3/jXRo9N03XLC08RWMhSFNb0qdUIToHlibHbBJQn6Vn/Evw3c6wuuat9kh1NbDRGg062AEzQ3Ds/nSCNuN+wR7T14Iqt8MdG8PL401XU/BC6jBoKWkMKxO80VubkljJtifGSEERzjALHHXgA9VooooAKKKKACiiigAoorB8TSeKrf7PceE4dNvFj3faLO9d4ml5XGyQZCkYbqpBz7UAcR8RrlL7XwvhHxPoi+IfsU+lT6ZcX6JM8cuCdnPyyqVDAEc9+ODveFdA1WTX7fWNa0yHRbfTNO/s3S9LhuRP5SEqXdmACgkRxqAOgU56jHnkWp+HNC8Ejw/wDE7wDd2VyxaJrh7WOVLqRiT5guRhVck5LEjBJOcDNew+D7DU9L8F6RY6/dfa9St7SOO5mLFt7gc/MeW9Mnr1oA2aKKKACiiigAoorN1rxFo/hyK3l17UrbT47mYQxSXMgRWfBOMngcA8mgDn/iUdKvdBj0jUfGFr4XnuZVlgmnkhBkMZ3D5ZCMgNtPGDkDnmpPDN74yjuLa01+HS9XspFONb02fyxgA4Lwt3YgDKEjnoBXNeNPDgmh1jxHNaLrUF9fWAzZJ58senRFDKiDHQsJGIXOQ/qK0fhXoGmac/iDVNC0i70jTtRvgbS3uRJETGsagsIWOEUyeYRwDj2wKAO9itbeCaaaGCOOW4YPM6IA0jBQoLHuQABz2AFS0UUAFFFFABRRWd4i1iPw94Y1PWZkaSPT7SW5ZF6vsUtgfXGKAPMvHM3hy/8Aiktp8RLXUIdCgsUjsbm482GxN0WLO3mowG7YVXLYwUb1Brt/CXh+LSN8+k+JdQ1XSZ0/dW91dLdJGc53JKRvxjjBYivP7nxB8StLfWp7i/0TWIdJ06G91SxuLQwxxCQSM8UTqSW2IgJLE53DivT/AAtplppmgw/Y9Is9Ie6xc3FrZYMayso3YIAz0AzgdKANO2tbeytY7azgjt4IxhIokCqo9ABwKloooAKKKKACmuiSxtHIqujAqysMgg9iKdWX4lvdNsfDl7JrWpQ6ZZyQtE91NIqBNwIGCeM88DuaAPKtZ8V/D691KG5s9b1zwrMUEFlq9pHNFZ3EURC4UEGJo1YqMlQORg16T4ObUJtG+0ajr9j4hilYtaX9nbrHviwPvbWKk5B5XA46ennv2eTVmf8A4QNNN8V6NP4fh0RWN+qiydC3zvGQQQQ6E4G75AK9V0XTU0fQrHTYypFrAkW5UChiAAWwOBk8/jQBdooooAKKKKACiiigDzv4max4KtHFp4p0GbWrqK2N662VrvmtLcEgzmTKmNQQRkNk44Bqj4CvLG/17yfB/j2/ubS1JN5oGsQmWeBR8uFaTbKgDEDksO1Jr954X8WjxHZ+F/FGlXmu6jHawm0uLtfKcW8pfyxjkq25wcZ+9XUeEtL1f+29Y8QeIrG10681BYYEtLeXztiRBvnaTAyzFzxjgIoyaAOrooooAKKKKACiiigAooooAKKKKACiiigAooooAK57x9pl/rPw+1vTtH5vLmzkjjTdt8zI5TPYsMrntmuhrz/xjPr2nePLPUtN0G61mOPTXg05ISBFDdySAM8xJG1dgXDYOB5nrQBSvviIureGm0Lwlpuq6b4mmQWsFlJp0kY09um93K+WI0HOQTkDAFem15/4Il1628b6to+qa/Nr0VrY28t5NJEiJbXkhYmKPaoO3YA2052grzzXoFABRRRQAUUUUABAYEEZB4IPeuT8RfD2x125tbi01LUtClt7VrEtpMqw+Zbn/lkQVIAHYgAjPFdZRQBXsLG20vTbbT7CIQ2tpCkEMYJIRFAVRzzwABViiigAooooAKKKKACuG+L2sto3gNmE1/bx3N3BBcT2EbGWK3MgMzBlU7P3Yf5vUjHOK7mvL/GHibxPJrurWfh7VoNLXTbizsYIfsYnlvLm4CkEliAsYDjkDPyOc8UAWNA8O2d2sOo/Df4gX32LeDLbSXI1KBlHVcSEvGcejDHpXpFcfolhoMvxA1h7PQ7S21HSkhil1CABDO0qb2DKoAyBtOTk4ftnnsKACiiigAooooAKKKyPEX/CRi1hfwr/AGa06SZli1ESBZUwflVk+6c45IP0oA4/xf461601a9svDukafe2djcW1hcm/lZTdXNwU2wRYGOFkRmZuAG6cGoPhzp2k33iPUL9PBl34R1jTZPKvYIbr/RZ5HUn7qMEfCkNkoPvqRng1R8Ta7Yz2Elr4s0fVfA999uS/j1iK3W6thcxhVSQyoCCCqhTvC/Lxx273wjoaaRp1xctqb6vdapN9suNQdVXzyUVU2heAoREAA9M96AN+iiigAooooAKKKKACobu5jsrKe6mDmOCNpHEaF2woycKMknjoOTU1FAHE3PjO812OG6+Gt3oOtrEG+12NzcvDO3TaFODsPXh15yORjnIi0y88ZfEfRdW1nwKdHOirJJPeXrwyGWTAEaRshJYK2XDHGNv+1iuduLfwLe+KNc/4WjP/AGX4ljvZjaXk909rtts4ge3cEKcIB6ndnI5AruvhMt0fAcU11q2oatFNczm0udQIMj26yFImzgEhkUP82T8/XGKAO1ooooAKKKKACiioGvrRdQSwa5hF28ZlW3LjeUBALbeuMkDNAHmHhXx5oXgjSJtE8YvNpeux3M0twkts7Nfu8jESRsoPmlhgDkngDtXe+EJ9WuvCVhc+IlaPUZ4zLLG0YRogzFlRgOjKpVT7g1s1heE9cuPEWn3eoyJGlm17NFYlFIMkMbbN7ZP8TKxHA4K/UgG7RRRQAUUUUAFFFFABXnXxU8R6bp954e0jVPFL6DbX17/pjWl35Fz5QR9h3jlIzIFDNxx3xmvRa831GHxFonxC1nWbnwvb69omo2sMLCxlV7qFIi33opMbwxcnahP3R1OcgGp4d8O6rYXVtPpPje41vQXGHt9SRLt2XB5S4UqepH3t3FdpXK+B9K8LR2txrXhLRzpa6i2J4zbPbZZCRjymwFIJIyowfU4rqqACiiigAooooAKxfFmr6bougPcaxZvfxSSJBHZRQrLJcyO21Y0RsBiSe/YE9BW1XO6jPo2q+JYrS7lkW48OlNUd8hYod8csa72PH3TI2O2AcjuAeX6XqXgg6uLXQrjW/h1rFzcNAkCIBa3E6NsKbPngYhuCo2nJxXtlpHNDZQRXU/2mdI1WSbYE8xgOW2jgZPOO1eaeD9C1TUZtIUanoWpeHdG1G5vbe/064M0t3I/mbVcfdQgzMzYZslR0r1GgAooooAKKKKACuX8XeIdV07UdM0bw9pFvqd/qazSEXdx5MMcUQXeWIViSTIoAA7k9q6ivHZbjS/HXxU1i1ufGt/pN/osyxaVaWcwg+UR/vH2yJiUmTeDjI2qvUEEgF4aLD4v8XmPxf4V13RL2eJBdfZrvzNO1BYzlUldDhu/ysqkjivVKxvDtp4hsoriHxJqdnqYVh9nuILUwSMuOfMXcVznptxWzQAUUUUAFFFFABXA/EJNZXXvD+paf4abxBp2lzSTXUMVwnmKzIUDLE2A7KGJHP8XTuO+ryWxsfFcmpavpUdtd6E99q1xe6t4iYR4NqGxDHbMSct5SouWXCANwSaAI9D17w9rfxis7zR7ZvDl1b2k0Wp29+i2c16zbREnkk5cr8zb8cDAyc8evVw3gSzTxV8P9Pn8VLDr2y5mezu722UvJEk7CGXBUYLIqNkDkEV3NABRRRQAUUUUAFYfi/XU8PeHJbo2013LNIlrb20LhHmllYIihjwMsw57eh6VuVgeMfCUHjLRU0+51HUNPEcyzxzafP5TiRTlSeCCAcHB7gHqAaAPP9HtrOz8JaT4U+Jfw+aKGCOO0gu4YEvYH6KrM8Y3RuTjJwMkk5649V0zTbXR9Lt9O06MxWtsgjiQuz7VHQZYkn8TWBoVn4w0i+MfiHW9N1fSEiJN29sba6Vh/eCkxkep+Xp0rqQQwBByDyCO9ABRRRQAUUUUAFFFFABRRRQAUUUUAFFFFABRRRQBHcXENrbyXF1LHDDEpeSSRgqoo6kk8AVJXlfxGFn4jjt7e88UXnhIzXT2Zt9TULbX0cTB2YIeGB+TDblyuQe4rY834jXT2umyRaQLaaSN5Nf0+4I2whgzAW7qfmdV25DEDfntQBuX19LZeLtK0nR7W3U37zXmpS+XyIkQJu4x87O0QBP8ACrdccdBWfb6LbW/iG81oNI93dwRW7byCsccZchUGOMl2J9Tj0FaFABRRRQAUUUUAFFFFABRRRQAUUUUAFFFFAHPeNfE8/hDw/Lq0ej3OqQwKzTi2dA0S44bDEbhnAwMnvXm11qXgHxTpNpr/AIk19tJ8V6TZiW8ktJDY3QdEJZRFIBuwWYL8pPOAeTXtVUdQ0PSdWlhk1XTLO9eBg8LXNukhjYHIKlgcHPpQBS8JaJYaH4fij0yK6Rbom7me9cvcSyyAFmlYk5foD9MdBW3RRQAUUUUAFFFFABXNeNDqtxFpOk6LcXFk2qXwgub63TLW0CxvI5ViCFZvLCAkcF89cVr6xremeH9PN9rd9DY2gdUM077UBY4GSenNcW+qeLPF2taqfBev6PYadpU8dvGJbU3RvWMKSl2YONifvFC7ck4Y56UAcv4VvfFsF14dudP8Xrquk6/qVxbix1WETSwwRtK+4SqQxbyosHPAdlGMHj2oAKAAMAcADtXAfDjTdHmudS1M+GrLSPEVndSafqDWmWjL/LITGegVwyNjAOTg5xk9/QAUUUUAFFFFABRRRQAVy3xE1y60DwmbiyvI9Oee6gtW1GWMOlkkkiq0xU8HaCevGcE8Zrqa868b6rNpfjO0m1vw/qWo+FW0+W2upIIxcQq7vGwd4FyxACYyRxnjvQBVv9N1jwxqmhXF1rzeLNH1C/js3tdUtoZJY2lPyzRSIo+6OSDxtBxXp9cD4D8M/DhphrfgWO1uWhYhXju5JRbMyYICOx8pipwRgHBxXfUAFFFFABRRRQAV53fxeJZ/Gr+LPBt1pWuafHC+nz6c7NBIdjjcqTcqWDhuoA5IOeCPRCMggHHuO1eX+H/EWueCvDsPha78FazfX+nQmC1ubGNZLW9xkI5l3fuy3BbdyMnr0oA7TSNUufE2hXX2jTNT8P3B325W5VBIjbfvxkFlYDdw3TI9q0NH0q10LRLLStPQpa2MCW8Kk5O1VAGT3PHJqt4XsdQ03wrptnrV015qEVuouZ2ctukxluTyQDkAnnAFatABRRRQAUUUUAFFFFAGP4u/tM+C9aGgbhqn2Gb7IU+8Jdh24984x74rxDwzrXhPRJNf1Pwl/omsHTIdJ0+zaTN9eX8il3aSJssT5hiXcRtBST3r07xjf6ldeMtH8Oaf4nj8OJd280/nRxxSTXEqMgWJRJkDhi3TLbcDgGrPh7SPFNl4hMniQaDqkQjIj1a3tjb3ecAbWT5lOfUMOnSgDqLCO4h022jvpRNcpCizSDo7gDceg6nPYVYoooAKKKKACiiigArhNV+Gjat4l1G5n1uRdE1aeG41HSltxm5aKMIqGbORGdi7kxzjAIBNT+JfiRB4N1KYeKNF1Gz0dWURazEqzwNkDh1Ql0O4lQCpzjPeuh0PxJoviWzF1oGqWuoQkZLQShiv1HUH2NAGN4F0GfS5Nd1G70+LTJNW1EzJZRBQIYkRYkztJXcwjLnBx89dZXJ6LI2ufELWdTJ3WmkKNKteDgyELLcMPx8pP+2ZrrKACiiigAooooAq6lJcxaXdPYW7XNysTGKFZBGZGxwAx4XJ7npXlWk6j4Xl8NaX4S+Knh/+z9RtoVtFbVrfzIp2AxvjuRlcsRn7wOTjmtf4raslhfaLb61qV3pnhyaK8lvprSVoWmkjjVooDKuCu4GQ4BG4rj2J4MvL7TR4V8MNcPeXT2Mt/q6XUrXEtqDho1Ls2QQ77Vz1CMe2aAO90vTLXR9Mg0+wVktrddsavIzlRnpuYkn8TVuiigAooooAKKKRt207MbscZ6ZoAXIzjPPXFNkjSaJ4pkWSN1KsjDIYHqCO4rw7w7ofw+vI1074gRf2f43jdvtlzqF09vczzZP76KXcAynqu04AAGOK7r4fXt0mq63oP9sNr2naX5H2XUpJBJITIGLQu6jDMgVDnrh1yKANrw9qtxqeta3HEluukafOljaeWuC0iJmY+m0MwQAAYMbVv1n6Folr4e0eLTrDzGijZ3LykF3Z2LszEAZJZiSa0KACiiigAooooAzdY8RaN4f+zf25qdrp4upPKha5lEYdsZxk8VfSaOSESxyK8bDcHVgQR65rH1nwlpXiDWLC/wBXh+1/YI5o47aZVeF/N2hiyMDkjYMemT61wvi74UrY6LL/AMK3l1LRrq7kWCW0sbvFqUlcLLI8TkgbVJPyAHgY9QAdN49b+1tP0rw7bnzE16+SCdlGR9mQGWbnp8yRlOe79K68AKAAMAcADtUFjZQabp1tY2ibLe2iWGJB/CqgAD8hU9ABRRRQAUUUUAFFFFABRRRQAUUUUAFFFFABUN3Abqynt1nlt2ljZBNCQHjJGNykgjI6jIPNTVn69rlj4b0S41XVZGjtrcDO1SzOxICqqjksSQAO5IoA8ytpvHUk+o2dnFYeOvDtnM9rMurJHb3E0iHDxoVyjhT8uXVSWDDoATt/C600O5ivNZ0DQ9X8O7pHtZ9MupGW3WVWG8xxbigII25AGPmGByK5/T3n1DXdfvvCmuar4GMdxC2pWOuWMM1u085+V0HmfIzZGRkZLLxzXpnhrQV8OaKtl9qmvZmkknubqYANPNIxd3IHAyScAcAYHagDWooooAKKKKACiiigAooooAKKKKACiiigAooooAKKKKACiiigAooooAKKKKAGTQRXMLQ3ESSxOMMjqGVh7g1w2ofCDw3Jcy3nh1r7wtfy/euNDuWtw/oGjHyEZOcYH1rvKKAMfwtoA8NeHYNNa5N5MhZ57tlw9xIxJaR8kksc8kk1sUUUAFFFFABRRRQAUUUUAQ3l3Bp9jPeXkqw29vG0ssjdERRkk/QCvI/Dn2rxX4QXxfpfxLvLfVjGZ7iF5o3sLZx8zQtAVGFUfLuyGIG7Jr1+KaOeFJYJFkjcZV0YEMPUEda5HxD8KPBviW4W7u9Ghtr9GDx31l+4mRwQQ2V4Y5H8QNAGx4Tum1Lwrp2rXFglhd6laxXVzEqgESMgJ3dye3PPFbNcz4Dlml0CfzdcutcjivZreG8u4EjdljbyyMpw4Do/z4BP6101ABRRRQAUUUUAQi7tjetZi4iN0sYlaDeN4QkgNt64JBGemQakd0ijaSRlRFBZmY4AA7k15vf+G/GE3ivX7fT/ACrGy1y5hkl16K5xPBapCqfZ44+qybgxDg4HmMeuBV3wDpqaj4W16yuJb278PXt5PBp4vLh2le1Mao5EhO/az+aVOc4IIPIoA2/AupX2teFYtY1GQsNSlkurWMqB5Vs7Ewr0Gf3e05POWI7V0VNjjSGJIolCIihVUdAB0FOoAKKKKACiiigAooooA8VuBoVn4k8RyfFPwTPHDfX3m22tT2/2xFi2qiKJowWhxtJHTAPrXpvhDSdN0vRA2h6nd6jp90wntnuLxrlUjKjCxscnZxkDJ6nnoBu1g6DrE+q65rkESQrpmmTx2UBVCGaVUDS89No3oowOqtyewBvUUUUAFFFFABRRRQBwvjiPV7DxVoviLTdMOvWlhBcRXWmROvnqJNmJ4lbh2AUqRkHD4HU1m+GdHsNe+Jy+LrTwfeaGltYvE0+oQfZpZ52YKCIgeQE3gseu9eu3I4bSb/w1Y/ECxuPGkkWm+INNmvdQ1e91A7JLl92y3jhzy6bXyqoMfugMc17J4FuNWvPB9rea+JFu7t5bhY5VCvFC8rNEjDsRGUBB5B4PIoA31RE3bFVdx3NgYyfWnUUUAFFFFABRRRQB5I8/jXxbp19rlhZaJr/he/ZmtdB1LAlaNDsysgTaC20tht2MjnsNn4Vax4Zu7Sa00Hwyvhm7eCO7ktREg+0RNkJKsi/6xchhnqDwQM1Ym+F0EN3ct4d8Sa1oFneSNJcWNjMnk5Y5byw6sYskk/Kcc8AVd8MeH9OsvEV7c6ddwzQ6ZaQaJbW0QJNmkaCRlds/M7b0J9Aq980AdbRRRQAUUUUAFFFcZ8TPEsGg+GmSHXoNK1eQiawjcF2umjYP5WxQWKtgIcDo2O+KAOl1XRNK123EGtabZ6hCuSI7qBZQM+gYHFZ1ncaVoOvWfhXQ9KhtEltpbxo7OFYooEVlXJUADLM3GOflJ7Vh+GfiNfeMGs5NE8J6gtmz7L28vJY4Y7ZgSHVVyXdlIK42jnGcA10Wm6E9r4p1nW7qVZZb/wAmGADP7m3iThPqZHlY4/vD0oA2aKKKACiiigAoopGJVSQpYgZCjqfbmgCra6pZXt9e2drcxyXNhIsd1ED80TMgdcj3VgQenX0NQ+INZg8O+Hb7V7tWeKzhaUxp96QgcIPdjgD3IrynxPp/j7Tr9/G1xc2OhxeXHb6lBowNzOtpuBMrNKuxnj9k+6Xwelek6X4c08+HY7O4vbrXLWaVLsT39x5zSkMrocjA2gqpAAxx0oAt+G7W+s/DNhBrFy91fiFTczP1aQ8t9ACSAOwAFadFFABRRRQAUUUUAFFFFABRRRQAUUUUAFFFFABXHeO4JdeltfC9kPIvp421O1vXP7uGW1mhZAy/xgswBA6DJ9K7GvO4fDmkfEqb/hKpbW80i9t7iS303VLG9ZLh4I3K7iMbQrNv+UhsqR64oAoaX4b8aasDpXifT7Cys5dX/tLU72G8803wVw8cUcYUFVASJCXOdqd816nXPeDBqR0mV9R8RR+IIvOZLe6WzFu4CEoyuAcFgysMgDp0roaACiiigAooooAKKKKACiiigAooooAKKKKACiiigAooooAKKKKACiiigAooooAKKKKACiiigAooooAKKKKACorqD7VZzQF2j82Nk3ocMuRjIPrUtVdUkuodHvJdOjEt2kDtBGRkNIFO0ficUAeX6Cnj3wFdTQX2iSeItC060h0+zfTJlil8qJSfNFszEMzbwhwwP7rgYPPcw+IJvEXhO/uvC8MsWpRrJDFBqcD25huAoIEisM4G5TxkEdDXkcMvhWbwJP4l0zxxf2PjC1tvMuZLrUX85rpR80T2rnBBYlAoXHOBXuelzXNzo9nPqEIgupYEeeIZxG5UFl59DkUARaHpMGg6BY6VakmKzgSFWPVtoxk+56n61foooAKKKKACsTxkNWfwhqEXh3eNSnQQwyRkBot7BWkGSOVUlv8AgNal7dCxsJ7popphDG0hjgjMkj4GcKo5JPYV5pc+MY/HPja00Pw14vk0OKOzadkigRbqW43YMTJMuVCqCSNvJPX5aAONvNJsvDuseIIfDPirUtD1mx1Gzs7PTUummkvEeOPMjRPu8wu0jkHGFCDoM19AwI8dvGkspmkVQGkIALnHJwOBn2rldB0bxJbeIPN8TvomqxQxMLbVIrQw3gbONrLyoBBblSPTHOa62gAooooAKKKKACiiigArx74uamieIJ7DVLy9gQaOJNDtba4lt1vNQklaPBdCNzJmE7c8K7NgjOPX5JEhjaSZ1jRRlmY4AHua8m8R6pp+gXl1/wAJRc2Xi7wjeTtLMlw8VxcaU7N1CHl4Ru6KNyAZGRQB1PhXVZX8SP4fsNQ/tTTdF0m3iub1nEjPdEnhnySWKKGPX7w5rotD0eDQdJSxtnklAeSV5ZSC8skjl3dsADJZifxo0LTdI0rR4Lfw7aWtpp7KJIktI1VGBGd3HXPBz3rQoAKKKKACiiigArhfiH4a8W6/9ni8OarZiwkkiW8029i2xuqP5hbzU/eAsVWMqONpJGCDnuq8g+KvhyPUP7X1nxQk32G2msLXT5PMPlWkLyoLm42qeGAZxuIyAoxwaAOil1jxVqGo6bY3PgdbS+F0hk1OSaK4tYIVYGR0bIfeQCFBUcsCehrva86+GMY/tjxB/ZHii+13w9bzJBY+fOtxGh2KzKkv3mC7tuckYIHJGa9FoAKKKKACiiigCpqupW+jaNe6nelltrK3e4mKjJCIpZsD6A1xUPiv4gfY4NUl8D2dxYToJfs9pqoN3FGRnlWQIzYx8obqeK7q7tIL+yntLyJZre4jaKWNhw6MMEH2INcPbeFPGfheNbXwh4is77TE+WGx123Zmt0x91ZoyGIz2YHAAGaAOk0bxVYa/wCHJdY0uO5lWHzFltTEVuI5U+9EyHo4Ixjvkc4INR+C9LuNL8L241FFXUbtnvL7HP7+Vi7jPopbaPZQO1N8I6BeaJbX9xq9zDc6nql4by7e2jKRK2xUVUUknaFjUZJyTknrXQUAFFFFABRRRQAVH9mg+1favJj+0bPL83YN+3OdueuM84qSigDG0vw1Bo/iLVtUsp5Ej1Xy5JbTjy1mXIaUejMNoP8Au55zxs0UUAFFFFABRRRQAUUUUANdEljaORVdGBVlYZBB7EUqqqKFRQqqMAAYAFLRQAUUUUAFFFFABRRRQAUUUUAFFFFABRRRQAUUUUAFcGvgnxLorXFn4O8Uw2Gk3MjyC2vbH7S9kXJZvJbevykk4Vsgdq7yigDN8PaHbeGvD1npFiXaG1j275Gy0jE5Z2PdmYlj7k1pUUUAFFFFABRRRQAUUUUAFFFFABRRRQAUUUUAFFFFABRRRQAUUUUAFFFFABRRRQAUUUUAFFFFABRRRQAUUUUAFFFecW83jLxJruuz6L4ss9OXTb82sOlSaek8ZRVBV5HBD/PnPynjHqCKAO2m8O6JcarHqdxo9hLqERBju3tUaVCO4cjI6etM8Oa0PEWgW+rRweRDdbngBfcXi3ERv0GNyhWx23YyazJbDxLr/gnUNL1t7LStSuY2t/tWnSNKhRgAXUOAUJBYAEnB5ya6O2t4rO1itrZBHDCgjjQdFUDAH5CgCSiiigAooooAKxPEPgzw74rjVfEGj2t6yfcldMSJ/uyDDL+BFbdFAGV4e0CLw3pz2Vte395EZWkQ39y07xg4+QM3O0Y4BJ6nmtWiigAooooAKKKKACiiigDjfFEOqtJfafaz6Xrk2pqstvoWrxKsKwRbRLhlUliWdD8+QCeMCsHQ9M8KXusR6Rr/AMJbTRb+TdsdtIguLV9oJ4nRSo4B+8F9OvFQ6b4LnvvFmreI/A/inUNPaGd7JY763+1Wzsr5mVN7bthkwCVK4ZD1611fhSx8VvqVxqfjDUtPlPkLbW9rpLSfZ+GJeVg/8ZOFwOgXqcnAB1YAUAAYA4AHaiiigAooooAKKKZPNFbW8k9xIscUSl3djgKoGSSfTFAFXWr06boV9eLJBE8EDuj3EgjjDAHbuYkADOOSa828L6d4g17wla614b+Iv9ry3UIe6tdUtorm1aUqNyYQK8QB/hycY6c1tfEiHUNf8M6VN4Z0q38SWiX0N7NAt3GqXMSHcFG4FZATg4yPujrVHQrLwR4l8RQy2WhX3hrxDZbbiS2Fu9hMyK38ezCSoSQDywOcUAd/pVvLa6Raw3MVrDOkS+almhWFXx82wHnbnOM81boooAKKKKACiiigDM1rxBY6A1gdSMiR312tmkoTKRuwYrvP8IJAUH+8yjvkaRZVKhiAWOACep6/0rkvGPg/UvGaTabc679g0KaMJLbW1nG80p7kyybgvbG1cgjO6sX4ZeE7fTrq9n12zuLrxPptw9pLq95cSzNdRsNySIXYhQyMoKr0IIoA2/DDyax4x8R645k+zQzLpNmG4BWDJmcD3md0z/0yrrabHGkSbIkVFyTtUYGScn9TTqACiiigAooooAKKKKACiiigAooooAKKKKACiiigAooooAKKKKACiiigAooooAKKKKACiiigAooooAKKKKACiiigAooooAKKKKACiiigAooooAKKKKACiiigAooooAKKKKACiiigAooooAKKKKACiiigAooooAKKKKACiiigAooooAyfFTaiPCepjRLea4v2t3SBIJVjfcwxuVmIAIzkZI6V5N4e0j4dTWuk6TqWnXngnxQsaRIS8ljcyyAAFkmHyzZJ4yWJPavQfFTeG9e1KHw9f+JLjStWh23MC2WoNazDOQCOcP34IPXpzWX4bbxDa/EO78Na9rFlr9lZ2kd/BcXFqEu497uqglBsyCh5wCQQR3wAd3ZWxs9Pt7Zria6aGJYzPOQZJSBjcxAALHGTgDntU9FFABRRRQAUUUUAFFFFABRRRQAUUUUAFFFFABUV1dW9layXN7PHb28Sl5JZXCIijqSTwBUtc74r8ON4lutEt7lIptLtr77TfW8jHEwWN/LUrjDASFGIPHyjrQByWgTeKNCtbmz8Ew6J4s0GW5lmsbpNTELWvmyGRkk2qwdVZyQVOSO3p2ng/Q7jw94Xt7C+njuLwvLcXUsS7UaaWRpZNo/u7nIGewFeQeD/AA/pV34s8OjT9J1XTPEVpe3Fxr0iRy20axhpHVHYbUkBkaNVAz8m4EAAY96oAKKKKACiiigAqjrWqRaNo9xf3NvdXMUIBeK0gaaQgkDhF5OM5OOwJq9XPeO9en8NeC73UrPyxcqY4YXl/wBXG8sixq7/AOypcMfYGgDidCk8J/FOaXUtH1aXSNTtHe1sm0q+NvcpaoxCl4ckbS29gGTow4612fgee7uNFme58RL4iiS6khhvfsX2dj5bFHU4+V8OrDcoAOO/WuC8R6h4X1WZLSXwdZ65ommXNtpt3rcMiQNBM7rGEgCLuYKXXcEZQM45wa9X03TbPR9Mt9O0y3jtrS2jEcMMYwqKO1AFqiiigAooooAKKKKACiiigAooooAKKKKACiiigAooooAKKKKACiiigAooooAKKKKACiiigAooooAKKKKACiiigAooooAKKKKACiiigAooooAKKKKACiiigAooooAKKKKACiiigAooooAKKKKACiiigAooooAKKKKACiiigAooooAKKKKACiiigAooooAKKKKACiioL2zg1HT7iyvI/Mt7mJoZUyRuRhgjI5HB7UAeYJe+KPHfhuLVNU8GaBreg3372109roreJGSQrFnXy92MEgFcZx1rsPA3hzQ9C0XztB8PyaE17h7i3uOZgVyAHbc2cc4G4gA8dayLf4ean4af/ig/E9xp1mZC50vUY/ttsMnkIWIkT14bGfrXe0AFFFFABRRRQAUUUUAFFFFABRRRQAUUUUAFFFFABTIpo54llgkWSNuVdGBB/EVia1ff2zoHiDTPDOo251mC3lt1CSAtb3DREpu9DyDz/Q15nq9l4lsvAxlLX/hSDSrWPT9A0ixu08+9vDtVHlKkqylsAR85G9mxQB6T4z1e80vSbWDSDt1LU76GxtW2Bghdsu5B6hIlkf8A4DXQ1nPpEV1qGm6jfkveafG4TYxEe51AZtvrgEA9gzetaNABRRRQAUUUUAFedfELxZqUEuq6RpGn6VcQadpi3+pSaujSROrsypAkSkF3fy2xk46DknFei1xvjT4dW3i27h1C21K50nU4RGvnwAPHMscgkRZY24kUONwB7+xIIBDbafpd9q2g+Hbqz/s+40W1h1hrCwRY7MSMXQDaOflkDMo4GRk5IruK5/wx4W/sGW9vr/UZtW1fUGU3d/MipuVAQiKi/KiKCcAdySSSa6CgAooooAKKKKACiiigAooooAKKKKACiiigAooooAKKKKACiiigAooooAKKKKACiiigAooooAKKKKACiiigAooooAKKKKACiiigAooooAKKKKACiiigAooooAKKKKACiiigAooooAKKKKACiiigAooooAKKKKACiiigAooooAKKKKACiiigAooooAKKKKACiiigAooooAKKKKACiiigAooooAKKKKACiiigAooooAKKKKACiiigDI8QeFtG8UWQtdbsluI1cSKQzIyOAQHVlIIYBjgg5GTWboXhHUfD+pp9m8Uahe6OAc6fqSrcMpx8uyY4cAeh3fWupooAKKKKACiiigAooooAKKKKACiiigAooooAKKKKACiiigAooooAKKKKACiiigAooooAKKKKACiiigAooooAKKKKACiiigAooooAKKKKACiiigAooooAKKKKACiiigAooooAKKKKACiiigAooooAKKKKACiiigAooooAKKKKACiiigAooooAKKKKACiiigAooooAKKKKACiiigAooooAKKKKACiiigAooooAKKKKACiiigAooooAKKKKACiiigAooooAKKKKACiiigAooooAKKKKACiiigAooooAKKKKACiiigAooooAKKKKACiiigAooooAKKKKACiiigAooooAKKKKACiiigAooooAKKKKACiiigAooooAKKKKACiiigAooooA/9k=)"
   ]
  },
  {
   "cell_type": "markdown",
   "metadata": {
    "id": "60RXJFkJOiAZ"
   },
   "source": [
    "**(6)** по итогам тестирования обученных моделей без учета дисбаланса и масштабирования установлено, что самый лучший результат показала модель классификации случайного леса Random Forest Classifier, f1_score которой на тренировочной выборке: 0.5398. Набор признаков в обучающей выборке значимо влияет на метрику f1_score.\n",
    "\n",
    "Для всех рассмотренных моделей тестирование на выборке, включающей малозначимые признаки позволяет получить самое низкое значение метрики f1_score. Значение метрики f1_score на обучающей выборке, состоящей всего из двух важнейших признаков лишь немного проигрывает значению метрики, полученной на всей совокупности признаков (для моделей классификации деревом решений и случайного леса). На рисунке представлена информация о значениях метрики f1_score лучших моделей без учета дисбаланса и масштабирования:"
   ]
  },
  {
   "cell_type": "markdown",
   "metadata": {
    "id": "ddkkLXGtOiEa"
   },
   "source": [
    "![Без масштабирования.JPG](data:image/jpeg;base64,/9j/4AAQSkZJRgABAQEAYABgAAD/4RDsRXhpZgAATU0AKgAAAAgABAE7AAIAAAALAAAISodpAAQAAAABAAAIVpydAAEAAAAWAAAQzuocAAcAAAgMAAAAPgAAAAAc6gAAAAgAAAAAAAAAAAAAAAAAAAAAAAAAAAAAAAAAAAAAAAAAAAAAAAAAAAAAAAAAAAAAAAAAAAAAAAAAAAAAAAAAAAAAAAAAAAAAAAAAAAAAAAAAAAAAAAAAAAAAAAAAAAAAAAAAAAAAAAAAAAAAAAAAAAAAAAAAAAAAAAAAAAAAAAAAAAAAAAAAAAAAAAAAAAAAAAAAAAAAAAAAAAAAAAAAAAAAAAAAAAAAAAAAAAAAAAAAAAAAAAAAAAAAAAAAAAAAAAAAAAAAAAAAAAAAAAAAAAAAAAAAAAAAAAAAAAAAAAAAAAAAAAAAAAAAAAAAAAAAAAAAAAAAAAAAAAAAAAAAAAAAAAAAAAAAAAAAAAAAAAAAAAAAAAAAAAAAAAAAAAAAAAAAAAAAAAAAAAAAAAAAAAAAAAAAAAAAAAAAAAAAAAAAAAAAAAAAAAAAAAAAAAAAAAAAAAAAAAAAAAAAAAAAAAAAAAAAAAAAAAAAAAAAAAAAAAAAAAAAAAAAAAAAAAAAAAAAAAAAAAAAAAAAAAAAAAAAAAAAAAAAAAAAAAAAAAAAAAAAAAAAAAAAAAAAAAAAAAAAAAAAAAAAAAAAAAAAAAAAAAAAAAAAAAAAAAAAAAAAAAAAAAAAAAAAAAAAAAAAAAAAAAAAAAAAAAAAAAAAAAAAAAAAAAAAAAAAAAAAAAAAAAAAAAAAAAAAAAAAAAAAAAAAAAAAAAAAAAAAAAAAAAAAAAAAAAAAAAAAAAAAAAAAAAAAAAAAAAAAAAAAAAAAAAAAAAAAAAAAAAAAAAAAAAAAAAAAAAAAAAAAAAAAAAAAAAAAAAAAAAAAAAAAAAAAAAAAAAAAAAAAAAAAAAAAAAAAAAAAAAAAAAAAAAAAAAAAAAAAAAAAAAAAAAAAAAAAAAAAAAAAAAAAAAAAAAAAAAAAAAAAAAAAAAAAAAAAAAAAAAAAAAAAAAAAAAAAAAAAAAAAAAAAAAAAAAAAAAAAAAAAAAAAAAAAAAAAAAAAAAAAAAAAAAAAAAAAAAAAAAAAAAAAAAAAAAAAAAAAAAAAAAAAAAAAAAAAAAAAAAAAAAAAAAAAAAAAAAAAAAAAAAAAAAAAAAAAAAAAAAAAAAAAAAAAAAAAAAAAAAAAAAAAAAAAAAAAAAAAAAAAAAAAAAAAAAAAAAAAAAAAAAAAAAAAAAAAAAAAAAAAAAAAAAAAAAAAAAAAAAAAAAAAAAAAAAAAAAAAAAAAAAAAAAAAAAAAAAAAAAAAAAAAAAAAAAAAAAAAAAAAAAAAAAAAAAAAAAAAAAAAAAAAAAAAAAAAAAAAAAAAAAAAAAAAAAAAAAAAAAAAAAAAAAAAAAAAAAAAAAAAAAAAAAAAAAAAAAAAAAAAAAAAAAAAAAAAAAAAAAAAAAAAAAAAAAAAAAAAAAAAAAAAAAAAAAAAAAAAAAAAAAAAAAAAAAAAAAAAAAAAAAAAAAAAAAAAAAAAAAAAAAAAAAAAAAAAAAAAAAAAAAAAAAAAAAAAAAAAAAAAAAAAAAAAAAAAAAAAAAAAAAAAAAAAAAAAAAAAAAAAAAAAAAAAAAAAAAAAAAAAAAAAAAAAAAAAAAAAAAAAAAAAAAAAAAAAAAAAAAAAAAAAAAAAAAAAAAAAAAAAAAAAAAAAAAAAAAAAAAAAAAAAAAAAAAAAAAAAAAAAAAAAAAAAAAAAAAAAAAAAAAAAAAAAAAAAAAAAAAAAAAAAAAAAAAAAAAAAAAAAAAAAAAAAAAAAAAAAAAAAAAAAAAAAAAAAAAAAAAAAAAAAAAAAAAAAAAAAAAAAAAAAAAAAAAAAAAAAAAAAAAAAAAAAAAAAAAAAAAAAAAAAAAAAAAAAAAAAAAAAAAAAAAAAAAAAAAAAAAAAAAAAAAAAAAAAAAAAAAAAAAAAAAAAAAAAAAAAAAAAAAAAAAAAAAAAAAAAAAAAAAAAAAAAAAAAAAAAAAAAAAAAAAAAAAAAAAAAAAAAAAAAAAAAAAAAAAAAAAAAAAAAAAAAAAAAAAAAAAAAAAAAAAAAAAAAAAAAAAAAAAAAAAAAAAAAAAAAAAAAAAAAAAAAAAAAAAAAAAAAAAAAAAAAAAAAAAAAAAAAAAAAAAAAAAAAAAAAAAAAAAAAAAAAAAAAAAAAAAAAAAAAAAAAAAAAAAAAAAAAAAAAAAAAAAAAAAAAAAAAAAAAAAAAAAAAAAAAAAAAAAAAAAAAAAAAAAAAAAAAAAAAAAAAAAAAAAAAAAAAAAAAAAAAAAAAAAAAAAAAAAAAAAAAAAAAAAAAAAAAAAAAAAAAAAAAAAAAAAAAAAAAAAAAAAAAAAAAAAAAAAAAAAAAAAAAAAAAAAAAAAAAAAAAAAAAAAAAAAAAAAAAAAAAAAAAAAAAAAAAAAAAAAAAAAAAAAAAAAAAAAAAAAAAAAAAAAAAAAAAAAAAAAAAAAAAAAAAAAAAAAAAAAAAAAAAAAAAAAAAAAAAAAAAAAAAAAAAAAAAAAAAAAAAAAAAAAAAAAAAAAAAAAAAAAAAAAAAAAAAAAAAAAAAAAAAAAAAAAAAAAAAAAAAAAAAAAAAAAAAAAAAAAAAAAAAAAAAAAAAAAAAAAAAAAAAAAAAAAAAAAAAAAAAAAAAAAAAAAAAAAAAAAAAAAAAAAAAAAAAAAAAAAAAAAAAAAAAAAAAAAAAAAAAAAAAAAAAAAAAAAAAAAAAAAAAAAAAAAAAAAAAAAAAAAAAAAAAAAAAAAAAAAAAAAAAAAAAAAAAAAAAAAAAAAAAAAAAAEVnb3IgVW1hZXYAAAAFkAMAAgAAABQAABCkkAQAAgAAABQAABC4kpEAAgAAAAMxMQAAkpIAAgAAAAMxMQAA6hwABwAACAwAAAiYAAAAABzqAAAACAAAAAAAAAAAAAAAAAAAAAAAAAAAAAAAAAAAAAAAAAAAAAAAAAAAAAAAAAAAAAAAAAAAAAAAAAAAAAAAAAAAAAAAAAAAAAAAAAAAAAAAAAAAAAAAAAAAAAAAAAAAAAAAAAAAAAAAAAAAAAAAAAAAAAAAAAAAAAAAAAAAAAAAAAAAAAAAAAAAAAAAAAAAAAAAAAAAAAAAAAAAAAAAAAAAAAAAAAAAAAAAAAAAAAAAAAAAAAAAAAAAAAAAAAAAAAAAAAAAAAAAAAAAAAAAAAAAAAAAAAAAAAAAAAAAAAAAAAAAAAAAAAAAAAAAAAAAAAAAAAAAAAAAAAAAAAAAAAAAAAAAAAAAAAAAAAAAAAAAAAAAAAAAAAAAAAAAAAAAAAAAAAAAAAAAAAAAAAAAAAAAAAAAAAAAAAAAAAAAAAAAAAAAAAAAAAAAAAAAAAAAAAAAAAAAAAAAAAAAAAAAAAAAAAAAAAAAAAAAAAAAAAAAAAAAAAAAAAAAAAAAAAAAAAAAAAAAAAAAAAAAAAAAAAAAAAAAAAAAAAAAAAAAAAAAAAAAAAAAAAAAAAAAAAAAAAAAAAAAAAAAAAAAAAAAAAAAAAAAAAAAAAAAAAAAAAAAAAAAAAAAAAAAAAAAAAAAAAAAAAAAAAAAAAAAAAAAAAAAAAAAAAAAAAAAAAAAAAAAAAAAAAAAAAAAAAAAAAAAAAAAAAAAAAAAAAAAAAAAAAAAAAAAAAAAAAAAAAAAAAAAAAAAAAAAAAAAAAAAAAAAAAAAAAAAAAAAAAAAAAAAAAAAAAAAAAAAAAAAAAAAAAAAAAAAAAAAAAAAAAAAAAAAAAAAAAAAAAAAAAAAAAAAAAAAAAAAAAAAAAAAAAAAAAAAAAAAAAAAAAAAAAAAAAAAAAAAAAAAAAAAAAAAAAAAAAAAAAAAAAAAAAAAAAAAAAAAAAAAAAAAAAAAAAAAAAAAAAAAAAAAAAAAAAAAAAAAAAAAAAAAAAAAAAAAAAAAAAAAAAAAAAAAAAAAAAAAAAAAAAAAAAAAAAAAAAAAAAAAAAAAAAAAAAAAAAAAAAAAAAAAAAAAAAAAAAAAAAAAAAAAAAAAAAAAAAAAAAAAAAAAAAAAAAAAAAAAAAAAAAAAAAAAAAAAAAAAAAAAAAAAAAAAAAAAAAAAAAAAAAAAAAAAAAAAAAAAAAAAAAAAAAAAAAAAAAAAAAAAAAAAAAAAAAAAAAAAAAAAAAAAAAAAAAAAAAAAAAAAAAAAAAAAAAAAAAAAAAAAAAAAAAAAAAAAAAAAAAAAAAAAAAAAAAAAAAAAAAAAAAAAAAAAAAAAAAAAAAAAAAAAAAAAAAAAAAAAAAAAAAAAAAAAAAAAAAAAAAAAAAAAAAAAAAAAAAAAAAAAAAAAAAAAAAAAAAAAAAAAAAAAAAAAAAAAAAAAAAAAAAAAAAAAAAAAAAAAAAAAAAAAAAAAAAAAAAAAAAAAAAAAAAAAAAAAAAAAAAAAAAAAAAAAAAAAAAAAAAAAAAAAAAAAAAAAAAAAAAAAAAAAAAAAAAAAAAAAAAAAAAAAAAAAAAAAAAAAAAAAAAAAAAAAAAAAAAAAAAAAAAAAAAAAAAAAAAAAAAAAAAAAAAAAAAAAAAAAAAAAAAAAAAAAAAAAAAAAAAAAAAAAAAAAAAAAAAAAAAAAAAAAAAAAAAAAAAAAAAAAAAAAAAAAAAAAAAAAAAAAAAAAAAAAAAAAAAAAAAAAAAAAAAAAAAAAAAAAAAAAAAAAAAAAAAAAAAAAAAAAAAAAAAAAAAAAAAAAAAAAAAAAAAAAAAAAAAAAAAAAAAAAAAAAAAAAAAAAAAAAAAAAAAAAAAAAAAAAAAAAAAAAAAAAAAAAAAAAAAAAAAAAAAAAAAAAAAAAAAAAAAAAAAAAAAAAAAAAAAAAAAAAAAAAAAAAAAAAAAAAAAAAAAAAAAAAAAAAAAAAAAAAAAAAAAAAAAAAAAAAAAAAAAAAAAAAAAAAAAAAAAAAAAAAAAAAAAAAAAAAAAAAAAAAAAAAAAAAAAAAAAAAAAAAAAAAAAAAAAAAAAAAAAAAAAAAAAAAAAAAAAAAAAAAAAAAAAAAAAAAAAAAAAAAAAAAAAAAAAAAAAAAAAAAAAAAAAAAAAAAAAAAAAAAAAAAAAAAAAAAAAAAAAAAAAAAAAAAAAAAAAAAAAAAAAAAAAAAAAAAAAAAAAAAAAAAAAAAAAAAAAAAAAAAAAAAAAAAAAAAAAAAAAAAAAAAAAAAAAAAAAAAAAAAAAAAAAAAAAAAAAAAAAAAAAAAAAAAAAAAAAAAAAAAAAAAAAAAAAAAAAAAAAAAAAAAAAAAAAAAAAAAAAAAAAAAAAAAAAAAAAAAAAAAAAAAAAAAAAAAAAAAAAAAAAAAAAAAAAAAAAAAAAAAAAAAAAAAAAAAAAAAAAAAAAAAAAAAAAAAAAAAAAAAAAAAAAAAAAAAAAAAAAAAAAAAAAAAAAAAAAAAAAAAAAAAAAAAAAAAAAAAAAAAAAAAAAAAAAAAAAAAAAAAAAAAAAAAAAAAAAAAAAAAAAAAAAAAAAAAAAAAAAAAAAAAAAAAAAAAAAAAAAAAAAAAAAAAAAAAAAAAAAAAAAAAAAAAAAAAAAAAAAAAAAAAAAAAAAAAAAAAAAAAAAAAAAAAAAAAAAAAAAAAAAAAAAAAAAAAAAAAAAAAAAAAAAAAAAAAAAAAAAAAAAAAAAAAAAAAAAAAAAAAAAAAAAAAAAAAAAAAAAAAAAAAAAAAAAAAMjAyMzowOToyNCAwOToyNjo1OQAyMDIzOjA5OjI0IDA5OjI2OjU5AAAARQBnAG8AcgAgAFUAbQBhAGUAdgAAAP/hCx1odHRwOi8vbnMuYWRvYmUuY29tL3hhcC8xLjAvADw/eHBhY2tldCBiZWdpbj0n77u/JyBpZD0nVzVNME1wQ2VoaUh6cmVTek5UY3prYzlkJz8+DQo8eDp4bXBtZXRhIHhtbG5zOng9ImFkb2JlOm5zOm1ldGEvIj48cmRmOlJERiB4bWxuczpyZGY9Imh0dHA6Ly93d3cudzMub3JnLzE5OTkvMDIvMjItcmRmLXN5bnRheC1ucyMiPjxyZGY6RGVzY3JpcHRpb24gcmRmOmFib3V0PSJ1dWlkOmZhZjViZGQ1LWJhM2QtMTFkYS1hZDMxLWQzM2Q3NTE4MmYxYiIgeG1sbnM6ZGM9Imh0dHA6Ly9wdXJsLm9yZy9kYy9lbGVtZW50cy8xLjEvIi8+PHJkZjpEZXNjcmlwdGlvbiByZGY6YWJvdXQ9InV1aWQ6ZmFmNWJkZDUtYmEzZC0xMWRhLWFkMzEtZDMzZDc1MTgyZjFiIiB4bWxuczp4bXA9Imh0dHA6Ly9ucy5hZG9iZS5jb20veGFwLzEuMC8iPjx4bXA6Q3JlYXRlRGF0ZT4yMDIzLTA5LTI0VDA5OjI2OjU5LjEwNjwveG1wOkNyZWF0ZURhdGU+PC9yZGY6RGVzY3JpcHRpb24+PHJkZjpEZXNjcmlwdGlvbiByZGY6YWJvdXQ9InV1aWQ6ZmFmNWJkZDUtYmEzZC0xMWRhLWFkMzEtZDMzZDc1MTgyZjFiIiB4bWxuczpkYz0iaHR0cDovL3B1cmwub3JnL2RjL2VsZW1lbnRzLzEuMS8iPjxkYzpjcmVhdG9yPjxyZGY6U2VxIHhtbG5zOnJkZj0iaHR0cDovL3d3dy53My5vcmcvMTk5OS8wMi8yMi1yZGYtc3ludGF4LW5zIyI+PHJkZjpsaT5FZ29yIFVtYWV2PC9yZGY6bGk+PC9yZGY6U2VxPg0KCQkJPC9kYzpjcmVhdG9yPjwvcmRmOkRlc2NyaXB0aW9uPjwvcmRmOlJERj48L3g6eG1wbWV0YT4NCiAgICAgICAgICAgICAgICAgICAgICAgICAgICAgICAgICAgICAgICAgICAgICAgICAgICAgICAgICAgICAgICAgICAgICAgICAgICAgICAgICAgICAgICAgICAgICAgICAgICAKICAgICAgICAgICAgICAgICAgICAgICAgICAgICAgICAgICAgICAgICAgICAgICAgICAgICAgICAgICAgICAgICAgICAgICAgICAgICAgICAgICAgICAgICAgICAgICAgICAgIAogICAgICAgICAgICAgICAgICAgICAgICAgICAgICAgICAgICAgICAgICAgICAgICAgICAgICAgICAgICAgICAgICAgICAgICAgICAgICAgICAgICAgICAgICAgICAgICAgICAgCiAgICAgICAgICAgICAgICAgICAgICAgICAgICAgICAgICAgICAgICAgICAgICAgICAgICAgICAgICAgICAgICAgICAgICAgICAgICAgICAgICAgICAgICAgICAgICAgICAgICAKICAgICAgICAgICAgICAgICAgICAgICAgICAgICAgICAgICAgICAgICAgICAgICAgICAgICAgICAgICAgICAgICAgICAgICAgICAgICAgICAgICAgICAgICAgICAgICAgICAgIAogICAgICAgICAgICAgICAgICAgICAgICAgICAgICAgICAgICAgICAgICAgICAgICAgICAgICAgICAgICAgICAgICAgICAgICAgICAgICAgICAgICAgICAgICAgICAgICAgICAgCiAgICAgICAgICAgICAgICAgICAgICAgICAgICAgICAgICAgICAgICAgICAgICAgICAgICAgICAgICAgICAgICAgICAgICAgICAgICAgICAgICAgICAgICAgICAgICAgICAgICAKICAgICAgICAgICAgICAgICAgICAgICAgICAgICAgICAgICAgICAgICAgICAgICAgICAgICAgICAgICAgICAgICAgICAgICAgICAgICAgICAgICAgICAgICAgICAgICAgICAgIAogICAgICAgICAgICAgICAgICAgICAgICAgICAgICAgICAgICAgICAgICAgICAgICAgICAgICAgICAgICAgICAgICAgICAgICAgICAgICAgICAgICAgICAgICAgICAgICAgICAgCiAgICAgICAgICAgICAgICAgICAgICAgICAgICAgICAgICAgICAgICAgICAgICAgICAgICAgICAgICAgICAgICAgICAgICAgICAgICAgICAgICAgICAgICAgICAgICAgICAgICAKICAgICAgICAgICAgICAgICAgICAgICAgICAgICAgICAgICAgICAgICAgICAgICAgICAgICAgICAgICAgICAgICAgICAgICAgICAgICAgICAgICAgICAgICAgICAgICAgICAgIAogICAgICAgICAgICAgICAgICAgICAgICAgICAgICAgICAgICAgICAgICAgICAgICAgICAgICAgICAgICAgICAgICAgICAgICAgICAgICAgICAgICAgICAgICAgICAgICAgICAgCiAgICAgICAgICAgICAgICAgICAgICAgICAgICAgICAgICAgICAgICAgICAgICAgICAgICAgICAgICAgICAgICAgICAgICAgICAgICAgICAgICAgICAgICAgICAgICAgICAgICAKICAgICAgICAgICAgICAgICAgICAgICAgICAgICAgICAgICAgICAgICAgICAgICAgICAgICAgICAgICAgICAgICAgICAgICAgICAgICAgICAgICAgICAgICAgICAgICAgICAgIAogICAgICAgICAgICAgICAgICAgICAgICAgICAgICAgICAgICAgICAgICAgICAgICAgICAgICAgICAgICAgICAgICAgICAgICAgICAgICAgICAgICAgICAgICAgICAgICAgICAgCiAgICAgICAgICAgICAgICAgICAgICAgICAgICAgICAgICAgICAgICAgICAgICAgICAgICAgICAgICAgICAgICAgICAgICAgICAgICAgICAgICAgICAgICAgICAgICAgICAgICAKICAgICAgICAgICAgICAgICAgICAgICAgICAgICAgICAgICAgICAgICAgICAgICAgICAgICAgICAgICAgICAgICAgICAgICAgICAgICAgICAgICAgICAgICAgICAgICAgICAgIAogICAgICAgICAgICAgICAgICAgICAgICAgICAgICAgICAgICAgICAgICAgICAgICAgICAgICAgICAgICAgICAgICAgICAgICAgICAgICAgICAgICAgICAgICAgICAgICAgICAgCiAgICAgICAgICAgICAgICAgICAgICAgICAgICAgICAgICAgICAgICAgICAgICAgICAgICAgICAgICAgICAgICAgICAgICAgICAgICAgICAgICAgICAgICAgICAgICAgICAgICAKICAgICAgICAgICAgICAgICAgICAgICAgICAgICAgICAgICAgICAgICAgICAgICAgICAgICAgICAgICAgICAgICAgICAgICAgICAgICAgICAgICAgICAgICAgICAgICAgICAgIAogICAgICAgICAgICAgICAgICAgICAgICAgICAgPD94cGFja2V0IGVuZD0ndyc/Pv/bAEMABwUFBgUEBwYFBggHBwgKEQsKCQkKFQ8QDBEYFRoZGBUYFxseJyEbHSUdFxgiLiIlKCkrLCsaIC8zLyoyJyorKv/bAEMBBwgICgkKFAsLFCocGBwqKioqKioqKioqKioqKioqKioqKioqKioqKioqKioqKioqKioqKioqKioqKioqKioqKv/AABEIAd0DwQMBIgACEQEDEQH/xAAfAAABBQEBAQEBAQAAAAAAAAAAAQIDBAUGBwgJCgv/xAC1EAACAQMDAgQDBQUEBAAAAX0BAgMABBEFEiExQQYTUWEHInEUMoGRoQgjQrHBFVLR8CQzYnKCCQoWFxgZGiUmJygpKjQ1Njc4OTpDREVGR0hJSlNUVVZXWFlaY2RlZmdoaWpzdHV2d3h5eoOEhYaHiImKkpOUlZaXmJmaoqOkpaanqKmqsrO0tba3uLm6wsPExcbHyMnK0tPU1dbX2Nna4eLj5OXm5+jp6vHy8/T19vf4+fr/xAAfAQADAQEBAQEBAQEBAAAAAAAAAQIDBAUGBwgJCgv/xAC1EQACAQIEBAMEBwUEBAABAncAAQIDEQQFITEGEkFRB2FxEyIygQgUQpGhscEJIzNS8BVictEKFiQ04SXxFxgZGiYnKCkqNTY3ODk6Q0RFRkdISUpTVFVWV1hZWmNkZWZnaGlqc3R1dnd4eXqCg4SFhoeIiYqSk5SVlpeYmZqio6Slpqeoqaqys7S1tre4ubrCw8TFxsfIycrS09TV1tfY2dri4+Tl5ufo6ery8/T19vf4+fr/2gAMAwEAAhEDEQA/APpGiiigAooooAKKKKACiiigAooooAKKKKACiiigAooooAKKKKACiiigAooooAKKKKACiiigAooooAKKKKACiiigAooooAKKKKACiiigAooooAKKKKACiiigAooooAKKKKACiiigAooooAKKKKACiiigAooooAKKKKACiiigAooooAKKKKACiiigAooooAKKKKACiiigAooooAKKKKACiiigAooooAKKKKACiiigAooooAKKKKACiiigAooooAKKKKACiiigAooooAKKKKACiiigAooooAKKKKACiiigAooooAKKKKACiiigAooooAKKKKACiiigAooooAKKKKACiiigAooooAKKKKACiiigAooooAKKKKACiiigAooooAKKKKACiiigArlvGusatp1xoVloU1tbz6pf/ZmmuYTKqL5btnaGX+7611NcV8QdFk1zUPC9v5F3Jbrqm64e1Z0MSeTINxdMFRnAzkdcUAN07xle6XrGuaZ4xlsnGkWaXxvbCFwpiOQQ6EsVfjOB1BroL7xTo+nappmnXl4EutVJFpGEYmTAB7Dgc9Tiue8S+DtP0n4eeJoPDmmyNeX9lIHKtJPPcNsIUFmLO3sM9/esNNA1W6l8N+INSsJ/7SutZt3eHyyzWFmkEwjjb+7y25unzPg9BQB2moeNtG0/U57BjeXM9rtNz9jspbhbbdnHmMikKcDODzjnGK31YMoZeQRkVwWi6jL4P1LXrLV9K1OU3mpzX9rcWNjJcpcJJghcoDtZcbSGxwB1HNdemqM+vHTfsF4qi1Fz9raL9ycsV8vd/fGMkehFABrEOqz2QTQ722srneCZbm2My7cHI2hl5zjnP4VzfhbVfEN1421rSdWvrK9tdLhhV5beyaAmeQbgoy7ZATBPuw9K628ufsdjPcmKWYQxtJ5cKF3fAzhVHJJxwB1rnfh5pd3p3hGKfVg41PU5G1C9Dghlll52kHkbV2rjttoA6iiszWtJn1aOJbbWL/SzGSS9kY8vnsd6MP0q9bQtb2kMLzSTtGioZZcbpCBjccADJ6nAAoA4fwB441DXr/VbTX0t4TDJLLZyxjaHgSVom3ZPVWUEnphxR4B8cX/iO48QT60tva2Nn5NxalQV228iNIrOT32bSTwKxLDwJqet+D4IkkfSbtNRv4pzPEytJZzyv5igf7Q2MD04Bq1qPhW/1BviLpun2r2yXtraRWLMhWOXZb42qx4IyNpx0zQB1ml+O9C1i9gtrSa5U3Wfssk9nLFHc4zny3ZQG6HvUL/ELRY71LN7fWVuZFZ0hOi3e91UgFgPLyQMjkeorm9Lt7LVNT0eO9/4TBrmyuUmS2vLMrDbSKCMmQRKu3BI4bkV0l/aXL/FTRrtLeVraPTLtHmCEojF4iFLdATg4HsaAJ73xzolheLZTvdtfPardpZRWUrzNG2cHYFyCNpyDjHfFWI/FujTaRZanFd7rW9uUtIW8ts+az7AjLjKndwcgY71yV9qMej/ABuvL64s7i4hXQIYmktbZ55Iy074+VAW2nbzgHoKxbvTtasfBM+qw6FeTTXHixNYg0yOEiZYRKpAZRnaSE3H03c0AeljxLpJ8Unw6t2G1Rbf7S0CqTtTOOWxgHkHBOcEHoRUCeMtEk07TryO6Z49TmMFmiQuZJnBIOEAzgbTkkYA5Jrl9D8M3+k+PtIvb6N7i7ubC8n1O9SM+X9okeHCbugAC7VHon1rD8H+GtX8LabpHid4L69nBltb3T5YD5ttbPKcGFMbgVIDkYywY+1AHoer+L9N0S8a3vIdRfy1Dyy2+nzTRwqe7OikDp61r2l3Bf2cN3ZyrLBOgkjkXoykZB/KuA1+41V/E2qQainiBrUpGdIi0iN1jl+T5xJIgG07z/GyqAB71ufDO1u7L4a6Jbajby21zFb7HhmQqyYY4BB5HGKAMuy8V3+s/Ey+0mCa9s7HTniRY10qQ+eSrM5klZcRrxhTxu7E5FXND1rxGfiDc6F4hbTSi6Yt7GLGNxt3SsmCznLcL1wOvSrGg2lzD8QvFlzNbyxwXH2PyZWQhZNsRDbT0ODwcdKwIdfJ+Lsup/2Hr4s5NKjsFmOkzhfNE7scnbwuGB3dKAPSKwtU8Y6XpOptYSpfXNzHGJZlsrGW48lDnBcopC5wcDrxW7XnPi9orHW9RvdDHiOx114kVWsLB5re+cKNgbKtGcZ25JUjnnigDrdU8V6XpH2NbhriWe+UvbW1tayTTSKBknYqkgDIySABnmmXHjDSLTRLbVLh7hIruTyYITaSefJJkjYIdu8tkHjHbPSucafU9E8V2PibX9LuJI7zRIrS6NjCZ2sp1YyMCi5YoSxG4A4KjPY0/wARz3Nzq/hbxXaaZfXGn6fLcrdWzWrLcRrIuxZRCw38Fc4A3bW6daAN618aaJdaHf6qLiSKHTQxvYpoXSa32jJDxkbgccjjmo/+E60NbC4v5ZLmKygCYuZLSRY5y/3ViJX96T/sZri9U07UtatPiDrFtpl7DBqGmx2llBJbuk10yRtufyiNw5YKOMkDpWz408PXVx4b8N/2ZBdCLR7uCeSCy2iZI1jZMxqwILLuBA68HHNAHSaH4q0zxBcXFtZm4hurbBltbu3eCVVPRtjgHafWrmsavZ6DpFxqepyGK1t1DSOELEDIHQZJ5PauU8KWlhc+Kn1aCXxJc3K2JtzPq1qYYwhcNsG6NCWyM8ZA55q58Qbe71jQ18O6dZTzy6pIiPOq4itoldWdnY9PlyABkk9BQBai8daLKb1W+3wSWVqbyaK506eFxCCQXCugLDIPTPStG717TbK0sbme5zDqE0cNq0aM/mvJyuNoPBHOegAzWMbCaX4sXFxLayNZSaCkBlMZ8tm89yU3dM4Ocehrl/Bmm3s/jQaPfJu0/wAF+bFaysSfOebmInnGUhO36tmgDum8VaQmjajqr3JFnpkssN1J5bfI0R2uMYycEY461bTWLJ9YXShKftrWv2vyth4i3bc56deMZzXDePPBEyeD/Ecnh7UNVQ3yy3MumW6pKlxK2N2AULjOOisKt6jePonxMg1K507U57VtDFv5lnYS3AEnnbtp2KcHA70AdF/wlej/ANgLrQuibBp/s6yiJuZPN8nGMZ+/xn8elWRrmnG/1Cza4CS6bEk11vBVY0cMVYseMYRvpjmvKLe6upfhlaeHxoeurqB1ZZir6TcKiob/AM3JcpgfIc9a2tT0TV9Y+KWsaaLSaLQ9Rgs3vrxkISWKESZgU4wS7OoODwob1oA6y28deH7vQbXWobxv7Nurj7Oly0DqquW2APkfIN3G5sDOOa0rfWrC71q70q2m827s0R7hVUlYt33QW6BiBnbnOOa4G2s9Qt/hpfaJFoU1zd6pqV7bxQTW7CKJHnciWQnG1AvzA9ztA61r/DvTLzwtDeeGdQt5pXgka5j1Xy22XyufvMxJxIPulSc4CkcUAdDrXibSfD0tjHq919na/nFvb/IzBnPYkDj6nFJdeJ9JsvE9j4euLvbql/G0lvbhGO5VDEkkDA4Vup5xWB460FvEHiDwzayW00lmZbtLiWNCRCGtZFViei/MRgnvisiy8P8AiGLxj4Z1XxEiXOoSXk32qW0Vmit4ls3jjBOOAXLNz/FIRQB0954/8PWF/PbXF1NttpRBc3KWsjW9vIcYR5Qu1TyOp4zzitLW/EOn+H7a2n1Fptt1OLeBbe3eZ5JCrMFCoCTwp7dq8423uk+BfEPg9/D2oXOqXk12ts8Fq7Q3IndtkrSgbF2hhncRgKKua9qH2LX/AAloLWepXyaD5d3f3NpZS3AVhA8cQ+RTyzEnnHAoA7fS/FGlavY3t3bTSRQ2DtHdG7ge3MJVQ53CQAjCkHNVtJ8baLrOoRWdpLcJJcKz2zXFpLClyq/eMbOoDY9BzjnpzXBLHceJtF+IGi6fbXtpqGoXH222ivLV7dpYSkajiQD7zROtamlQWWqa1pIu28YNdWVwJY4b+y2w27hSPmk8oLtwSOG5zxQB1Oq+NtG0bULmyvPtrzWsKzz/AGawmnWKM5wzMikKPlbr6Gpb/wAX6Rp9hYXUs0sn9pIHs4IIHlmnG0NlY1BbgEZJGBkZxmuaSw1DUrbxtrb6ddWw1SwFrZWs6fvmWOGQZ2DJG5pDgdeOgrJutGv7C98NazcLrUFrHoMdhcHS4A89tICrfMhVn2nkEKvBUZoA7hPF+jXnhuTVre/aO2WUWryGFt8EzOsYVoyNwYM68Ed89Oaqad4gmtPFUegeIdVspdTuLcPb2lnbuAVXcWkdjkAsBwueNp6545TVdOjj+HuvXuhWniHUri51CzuZEvbV1nuDHNCSUj2K2Nq9dvb2q3p/hzUbbxl4Z1nUbaWXUb17y51OZELJbloQI4c/wqgwgz1IJ6mgDqPHHidfCHhSfVMRGQPHDF5xIjDOwXc2OdoyWOOcCsnwXrk+oaq0OpeIrm7umtvMWxn0g2KsuR+9Tcu5h2+8evIHa38SdGuta8HtHp9v9quLW6gu0tz/AMthHICyfiuazPOn8W/EPQdR0/TNQsrTSba6aa6vrR7c75VCLGquBuIxuOMjjr6gGw3xD8OrqRtTczeWJjbte/ZpPsqyZxsM2Nmc8devFWtX8X6bod28OoRagqRIJJbmLT5pIYgf70iqQP6d6800vw+tp4RHhTxGvi0yw5hktLG1ElvON+Q8cgjKgHIb5mBBzmuo+Ic8d7YzaTEfEy3UMLLFHp9nI8N6zICFkfYVZezDcvVsmgDvYpo5rdJ4XEkUih0dOQykZBHrWV/wlWj/APCKv4ja726XHG0jzPGylQpKkFSN2QQRjGc1d0lZ00WyW8hjt7hbeMSwxHKxvtGVHsDwK83u9Ku3+Iz+D44t2i3l2niC4OcqqAndER6NOiNj3agD0a01iyvtSu7C2lZrmzSJ542jZSgkBKdQOoB47d6xNV8XafL4PttW07V/siag8Ys5hZtO8vzjKrCPmYlQw4GR17VNqPhBLrXJtX03Vr/SL25iSK4e08phMqZ27lkRhkZPIxXn1voGq2vg7wDqE1tqtuukQzR3sdlF/pdv5qhQ4jZSTjBBABbDHAoA7nQ/F9pdaZqV5Jd3d81vdkNappUqXFqrY2RtCAXbA/jxg8+lWNL8caRrN6bWwi1R5FlMEjPpVyiRSAZKuxQBDyOpHUVS8G2Nj/a2papavrs09xHFFJPq9uYfMC7iu1WRCcZPJHcVP4JtLm0m8TG6t5YRNrk8sXmIV8xCkeGXPUHB5HHFAEw8c6N/aC2sv26BZJfIjuZ7CaOCSTdt2iRlC9eM5wexNdFXiOtxa/q3hUw6la+Jr7xD9siNzCkTrZwqs6ncgUBHAXGMbm/iPANe03VzFZWc11cNtigjaSRgM4UDJOPoKAOd1P4h+H9Invo72S926cwS7mi0+eSKFiAwDSKhUcMO/etttWs111NHMh+2vbNdLHtODGrBSc9OrDjrzXjeo6lcat4A8Yxw6Dr5vdfvGuLWL+yJz+6xGqZYKV5VN3XHNdD4gfU/EPjLRrzwtFc/Yta0R7b+1FhYJaRySxyM5JHD+WjBQcfMV9KAOzsPGegalZ6nd2mpRm20qVoruZwVSMryTuIww9xkGqsPj3SrixvbuGDUVhtLOS98y40+aBJYkAJKM6gHqOOvtXHXXg26/sPxlpWlaY/kLe2MlnbyDYl1HBHASgYjBz5ZXP8Ae6966ufVo/Gugarolrp+qWU11pssbNfWMlusbOpQLuYYJ+bPy5GAaAOf8K+MrnX9R0641HxDNZpesWhtI9LMdrMRn9ylxIp8xh3KkZI4rq9X8baRol1NDfrfqluyrcXCafM8EOVDZaQLtxggkgnGea4nZqGs+EvCvhi30LUbLUNMurT7W89syQ2qwY3usxGx8gcbSc7qk8SJq95eeJLXUl8RT3Dh00m00+N0s5YjEoXe6DBO4tu3NnjAHQEA9A1bxDp2i6VHqN7MzWsrxpG9vG0xkZzhAoQEtkkYx61X0/xfpWpR6i0Bu4zpqq91HPYzRSRgqWHyMoY5AJ4BrlYrHUtR8M+B9COm3cb2sen3t9PNHsjhEKhjG2ed5ZANuOM84p+oQeILTU/H15oNrMt5NDaGykMXEhWIh/L3DDMBnA9cA0AdJpPjPSdX1M6bF9stL7aXW2vrOW3d1HUqHUbh06dMirkPiDTbjSb3Uobgta2LzJO/lsNhiJEgxjJwVPTr2rz2wtZrn4k+GLzT7fxJcWdqLpLq71iOUBGaHgBXA28jBYAAnABPNJaeD9Qm8IeJ5XvtctZprvUnisIm2pMC7lcIUyQ/HQ854oA7q/8AF+kadp1jdzTSyDUUD2cEEDyzXAKhvljUFjwRnjjPNObxTYLo6aiYNRMbymFYV06czFxnI8oJu7HnGPeuQt7e98P6r4X1270y8ubOPQF065W3t2kls5PkfcYwN+DtKnAOCOa0vE2s3+oaPpd3pUOsW2myXpW/a3s3S7WEI2GVCN4UsFycZweKAN/QPE+meJYrg6ZJKJbVxHcW9xC0MsLEZAZGAIyOQehq3d6tZ2WpWFhcyFLjUHdLZdpO8ohdhkcD5QTzXD/D+zuYvHPia7Npq8dhcwWgtrjVVkElxt8wMTv5GCfunBAwcDNWPiMutR6z4Xu/DmnSXt1DdTorBC0cDSQNGskhAOEUuCc9QCKAOosPEmlanrmoaRY3QmvdN2fao1U4Td0+bGD0IODwQQabrnifSfDZshrN39m+3XC20BKMwZz0BIHA9zgVzfhDwy3hvxxqMEMU7239l2qm8kQ4uJvMmaRi3QsS24jtuHtU3j3QT4g1bw3ZzWktxZPcXCXTJGWEaPayLuJ/h5IAJ74oA6C98SaXp+v6fot1c7dQ1EMbeEISWCjJJIGF4B64zg46VQ1Dx1o2lXz29+L+CON9kl22nzfZ0bIHMu3b1IGc4965K18La7a+LvDmq66Ptl+16Y55rZWaOG3itJEj3HHy7nZ2OeN0mPSsrxVDreo6N4ns9Qh8SXmrSSXC2lraRyLZm3/5ZkMoCv8AIOhO5m4wc8gHp+teJtO0Ka3gvGnkurrd5Fra27zyyBRkkIgJwO5PAz1pIfE+mTR6YweaNtUkeK2jmt3jdnQMWDKwBXARuuOnGeK5eYXHhzxjZeItQsLy5sZtEjsHktbdppLSRXLnei5ba2eoBwV57GpPE2otc6h4R1yDTNVe0tr6d5kXTpmmjXyZEBaILvAJIxkDgigDqhr+nGfVIvPIbSQDefI37vMYkHbn5SDxms3UPHWi6bp8F/c/bzZzWyXS3MWnTyRCNxlSzqhCn2JBGRXGLrjC+8cS/wBh+INurqgs/wDiS3Pz4tVjOfk4+YEc1s6tp17J8BY9Pjs7h70aPbxm2WJjJvCJlduM5GDxQB0a+K7BtLnv2t9UjjhZUKSaXcJI7McAIhQM3PoDjviorDxppGpWOoz27XEb6ZGZbq3urd4JYl2kglXAODtPPTg1D46k1aPQYf7G+1gNeRLePYpvuEt8/OYxz83TsTgkjmuO0fRrjVPGmrmCDXF0y98PPZxXmrCTc7mQg48zlRzwpAPU4wQaAJvC/jW71+90u91PxDNYQahIvk2kOkstq7ZOLcXUikO/GCVxkgha799f0yNtUEt0sY0lQ16zqQsIKb+pHPy88ZrzTy9S1HwHoHgqHQ7621W0ntI7mZ7V1gtlhZWaZZvuEkLxgkncRitGXRdU1n4na5ptxZzw6BNPbXl3cuhVLsRwIqwKSMMC4y+OyY/ioA6j/hPvDf8Awj+n622obNP1GUw2srQuPMcbvl24yD8jAccnAHUVa0fxVpetSXkVs80E1lgzw3kD28iKc4fa4B2nB59jXmktrd6d4L8BR3enTGeDxI8rWskREmA9w+Qpwc4+YevFbN1p13408Sa5qWmWVzY2k3huXSYp722a3eeeRi33Xw21OOcDknrigDptN+IHh/VdQgtLW4nX7USLWea1kihuiM5EcjKFc8Hoee2adeePdA0++vLa7nuk+wuI7mYWM7QwsVDYaVUKDhgeTXIySXuu6F4U8PWehajY3mnXtm9489m8UNotuAXKSH5WzjC7Scg9qy9f0u6l1TxpA0fidZL6fNrb2FpIbW7HkRrh32YKlgVb5xwDQB6brPiew0QxC4ivrlpUMirY2UtxhB1YlFIA5HX8KSPxbosugW+tR3mbC5lSCOTy2z5jP5YUrjIO7g5HHeuU1uXWItQ0iPWRrFppi6WGmj0CF3P2zKgxsYwWC4Py44POTxXP2mha1P8ADXULK5sNTtrqbxOkyqVZ50iM8TeZuwd2Bkl+RwT0oA9YuNVs7XVbPTZ5dt1fLI1um0neIwC3IGBgMOtZt1420Cy8MSeILq+8rTYpWhaVo2zvWQxlQuMk7geg7Z6Vgv4avNO+JHhu6S+1bVLdYrwSy3bCRICUTbyqjbu569ce1clZeGta1Xwdr66nplzDBpcGqLp1o8Tb7q5mMp80JjJARwqepZ8dqAPTtS8X6NpQshc3Eskt+m+2gtraSaWVcA7giKWxyOSKtaJrth4gspLrTHlZIpmgkWaB4nSReGUq4BBH0rjtT0TUNR1HwpHpH27S9QtrMC71OOMBYbfau6E71Ks7Oq4Ug7cEkeup8O9OvNM03WINQ+0tIdZunWa5jCPOpYYkwAAQ3XIGPSgDrqKKKACiiigAooooAKKKKACiiigAooooAKKKKACiiigAooooAKKKKACiiigAooooAKKKKACiiigAooooAKKKKACiiq2pX1vpelXd/eyeVb2sLzSybS2xFUknA5OAOgoAs0V5t/wvLwH/ANDI3/gBN/8AEUf8Ly8B/wDQyN/4ATf/ABFVysdmek0V5t/wvLwH/wBDI3/gBN/8RR/wvLwH/wBDI3/gBN/8RRysLM9Jorzb/heXgP8A6GRv/ACb/wCIo/4Xl4D/AOhkb/wAm/8AiKOVhZndx6PaR69PrCq32ye3S2di3GxWZgMfVjzV6vNv+F5eA/8AoZG/8AJv/iKP+F5eA/8AoZG/8AJv/iKOVhZnpNFebf8AC8vAf/QyN/4ATf8AxFH/AAvLwH/0Mjf+AE3/AMRRysLM9Jorzb/heXgP/oZG/wDACb/4ij/heXgP/oZG/wDACb/4ijlYWZ6TRXm3/C8vAf8A0Mjf+AE3/wARR/wvLwH/ANDI3/gBN/8AEUcrCzOnk8K3byu6+LNejVmJCK8GFHoMxE4+pNbdlbNZ2UUD3E100YwZpyC7+5wAPyArz5vjn4CLEr4iZR2H2Cf/AOIpP+F5eA/+hkb/AMAJv/iKOVhZnpNFebf8Ly8B/wDQyN/4ATf/ABFH/C8vAf8A0Mjf+AE3/wARRysLM9Jorzb/AIXl4D/6GRv/AAAm/wDiKP8AheXgP/oZG/8AACb/AOIo5WFmek0V5t/wvLwH/wBDI3/gBN/8RR/wvLwH/wBDI3/gBN/8RRysLM9FuIftFtLCXeMSIU3xttZcjGQex96paJoNh4esXtdMjdVllaaaSWVpZJpGxud3YksxwOT6Vw//AAvLwH/0Mjf+AE3/AMRR/wALy8B/9DI3/gBN/wDEUcrCzPSaK82/4Xl4D/6GRv8AwAm/+Io/4Xl4D/6GRv8AwAm/+Io5WFmek0V5t/wvLwH/ANDI3/gBN/8AEUf8Ly8B/wDQyN/4ATf/ABFHKwsz0mivN/8AhefgLZj/AISJt2ev2Cf/AOIpP+F5eA/+hkb/AMAJv/iKOVhZnpNFebf8Ly8B/wDQyN/4ATf/ABFH/C8vAf8A0Mjf+AE3/wARRysLM9JqJLWCK6luY4UWaYKJJAvzOFztBPfGT+ded/8AC8vAf/QyN/4ATf8AxFH/AAvLwH/0Mjf+AE3/AMRRysLM9DFnbi+a9EKC5aMRNLj5igJIXPpkk/jU1ebf8Ly8B/8AQyN/4ATf/EUf8Ly8B/8AQyN/4ATf/EUcrCzPSaK82/4Xl4D/AOhkb/wAm/8AiKP+F5eA/wDoZG/8AJv/AIijlYWZ6TRXm3/C8vAf/QyN/wCAE3/xFH/C8vAf/QyN/wCAE3/xFHKwsz0mivNv+F5eA/8AoZG/8AJv/iKP+F5eA/8AoZG/8AJv/iKOVhZnpNFebr8c/AQb5vETEen2Cf8A+IpP+F5eA/8AoZG/8AJv/iKOVhZnpNZWleHLDSL+9vrbz5bu+YGae5neViASVQFidqjccKMDmuL/AOF5eA/+hkb/AMAJv/iKP+F5eA/+hkb/AMAJv/iKOVhZnpNFebf8Ly8B/wDQyN/4ATf/ABFH/C8vAf8A0Mjf+AE3/wARRysLM9Jorzb/AIXl4D/6GRv/AAAm/wDiKP8AheXgP/oZG/8AACb/AOIo5WFmek0yaKO4heGdFkjkUq6MMhgRgg15z/wvLwH/ANDI3/gBN/8AEUf8Ly8B/wDQyN/4ATf/ABFHKwsz0eKJIYUiiUJGihVVRgKB0FMtbWCxs4bWzhSC3hQRxRRrhUUDAAHpivO/+F5eA/8AoZG/8AJv/iKP+F5eA/8AoZG/8AJv/iKOVhZnpNFebf8AC8vAf/QyN/4ATf8AxFH/AAvLwH/0Mjf+AE3/AMRRysLM9Jorzb/heXgP/oZG/wDACb/4ilb45+Aifl8RMBj/AJ8J/wD4ijlYWZ6RRXm3/C8vAf8A0Mjf+AE3/wARR/wvLwH/ANDI3/gBN/8AEUcrCzPSaK82/wCF5eA/+hkb/wAAJv8A4ij/AIXl4D/6GRv/AAAm/wDiKOVhZnpNFebf8Ly8B/8AQyN/4ATf/EUf8Ly8B/8AQyN/4ATf/EUcrCzPSaK82/4Xl4D/AOhkb/wAm/8AiKP+F5eA/wDoZG/8AJv/AIijlYWZ6TRXm3/C8vAf/QyN/wCAE3/xFH/C8vAf/QyN/wCAE3/xFHKwsz0mivNv+F5eA/8AoZG/8AJv/iKP+F5eA/8AoZG/8AJv/iKOVhZnpNFebf8AC8vAf/QyN/4ATf8AxFL/AMLz8BbCP+Eibdng/YJ//iKOVhZnpFFebf8AC8vAf/QyN/4ATf8AxFdhp+tRatpdrqOm3Pn2l1GJIpPL27lPfBGR+NHKxGzRWd9qm/v/AKCj7VN/f/QUcrA0aKzvtU39/wDQUfapv7/6CjlYD9Q0e01S5sJ7tWZ9PuPtMGGxh9rLk+vDHir1Z32qb+/+go+1Tf3/ANBRysDRorO+1Tf3/wBBWiOgpNWAKKKKQBRRRQAUUUUAFFFFABRRRQAUUUUAFFFFABRRRQBBPe2tqwW5uYYWIyBJIFJH40kOoWVxII7e7glc9FSUMfyBrF8XeHNF1bSby81TSbK8uYLOQRTTwK7IApIwSOOea4LQbdNA0X4fv4X0XSY9U1q2EU93LajeB9n3s5ZSCcY3EZG7GMjOaAPX6K831bxdqthrn/COSa9YWdxZ2yz3epzaezCZ3LbESJX+UADklj7Ux/ibdx+C7e6kit49SuNUbS0uJEcW525b7RtHzFNgB29cnHTmgD0umTTxW0DzXEqRRRqWeSRgqqB1JJ6CuK8IeLbu/wDE9xol5f22rxi0+1Q6hbWzQDhgrRupJG7kMCD0z6Va+IB+0w6Fo7AmDVdWiguVzgPEqtKyk+/lgY7gmgDrVYOoZSGUjIIPBFLXB+LfF17pPjOPSo9WsdKtf7N+1ma5snuC7+YV24V1wMDNNh8bavf+EPD8tnDZrq+vXTW8LEM0MaDexlK5z9xN2wnOSAcYNAHfUVx+tazrHgnwhf6prd9a6vLGY0thHam2G932Yb5myoLKeOcA9TWXoHjTUn8Wafpl5qmn61b6isgaSzs5IDaSKu8A7idyEAjPByB64oA9EornvHGsXuheF3vNMMS3JubeFWmQuqiSZEJwCM8Me9Z5v/Eek+NNC0zUtTsr611MXG8RWJhZDHHuGD5jdz6UAdjRXmtv4i8aah4f1jX7WbTY4NLurpYrI2rM13HC7A5feNhIGBweQT3wNV/H0UOrQXF0yW+jSeHv7XYuv7wEugVevJw2ABySRigDtaK4Twt4h8SeIvD2vNfta6PqNnfGOPNs0wt49kcm103Dc4VyDgjn171NN8calP4f8W3UN5aanHotk0treratB5soiZijRsxPylV5GAd3HSgD0aiuBuviTaPaeH49Lu4Jb7UL60t7iMxP8qyEB8Zxg+lN8W+K9Q0zU75NL8Q6eJbOPeumLpM905+QHEskbfJk9PlGAQeaAPQKK4DVfiVDpcHhbU7oLFp2sWMt1NGqF5SwjjZI06ZJLkdOfbrVi+8T6zZfC+48TSNZNdTCOa2iiBeOGN3UKpbPzsAxyRgZ4AwMkA7eo4biG4DmCVJQjlH2MDtYdVOOhHpXF3PjS/l+KGmaJpsULaO001pd3LAlnuFgeUonOMIAm4+rY7HFvR5fsPxQ17S4ziC6s7fUlQdFkJeNz7Z2If1oA62uf8f/APJNfE3/AGCbr/0S1dBXP+P/APkmvib/ALBN1/6JamtwPh+iiiuk2CiiigAooooAKKKKACiiigAooooAKKKKACiiigAooooAKKKKACiiigAooooAKKKKACiiigAooooAKKKKACiiigAooooAKKKKACiiigAooooAKKKKACiiigAooooAKKKKACiiigAooooAKKKKACiiigAooooAKKKKACiiigAooooAKKKKACiiigAooooAK+xfhx/yS/w3/wBeCfzNfHVfYvw4/wCSX+G/+vBP5mokRLY6SiiipMwooooAKKKKACtcdBWRWuOgqJAFFFFSMKKKKACiiigAooooAKKKKACiiigAooooAKKKKAIL61F7p9zaltgniaMsBnG4EZ/WuesvBgs4/CaC+L/8I3GyD91j7RmAw56/L1z39K6iigDnNU8L3UniFtd0DVF0y/ltxbXHm23nxTopypKblO4ZIBB6HFN1Dwrd6xotvDqetSHVLS5F3a6hb26x+TIBgfu8kMuCQQScgnkdulooAxtG0/X7W6eXXNdg1CMptSGCwFuoOR8xJdyTx6gcn2xX8aaPdato0EmmLv1DTbyK+tYywUSPGeUJPHzKWXn1roaKAOY1bwxqd34rj17R9aj06YWP2N45bIT5XfvzneMHOPXpVZfh/HD4dgsrbVbiLUbe+fUYtRESErcOWLHZjGw7yCnp3712FFAHNz+Gb3WdCv8AS/FOqpfR3W3yntLX7MbcqdysuWfLBgDk8cDjrUulaX4ltryF9X8SQX9tGCDFFpqwvKcYBZt7Djr8oXn24rfooAyPE2hDxHov9nm4+z/6RDP5mzd/q5VkxjI67cfjS6joQv8AxJo+rG4MZ0vz8RbM+Z5iBeueMYz3rWooA8t8P+DNZ1LwvqtkusS6VY6lqd413A9nukeNpmX925YbAyAc4brkV0uofD+zv/FWj6qbho7PS7ZbddPCZSUI26PLE9FYKcY6qK62igDnoPDd5p663JpGqJb3WqXwvFkltfMWH5EUqV3DcCE65HX2rPXwNc3Vvr0ms6wLnUda046e80NqIooY9rgER7iWI3nktnjHFdjRQBg6l4YGoaXotl9rMY0q7trkN5efN8n+Hrxn15xWZeeBryW+1r+z9eeysNcO68txah5AxjCMY5C3y5C9wcZ4xXY0UAcrZeB4rRvCpkuxOPDto9soaAfv90apu6/KRsz361De+ARP4X1nw/Z6kbWwv5RNap5G/wCxMXDuF+blSwyF4xk9a7CigDmLTwRaWEnhw2dw6rock0p3rua6eWJkd2bPDEuWJ9eOKm0PS71fFGu61qcfkvdPHa2se4Ni3iB2tkE8szuccYGM85roaKACuf8AH/8AyTXxN/2Cbr/0S1dBWV4p02bWfB+saZasizXtjPbxtISFDPGVBJGeMmmtwPhSivWf+Gc/F3/QQ0T/AMCZP/jdH/DOfi7/AKCGif8AgTJ/8bro5ka3R5NRXrP/AAzn4u/6CGif+BMn/wAbo/4Zz8Xf9BDRP/AmT/43RzILo8mor1n/AIZz8Xf9BDRP/AmT/wCN0f8ADOfi7/oIaJ/4Eyf/ABujmQXR5NRXrP8Awzn4u/6CGif+BMn/AMbo/wCGc/F3/QQ0T/wJk/8AjdHMgujyaivWf+Gc/F3/AEENE/8AAmT/AON0f8M5+Lv+ghon/gTJ/wDG6OZBdHk1Fes/8M5+Lv8AoIaJ/wCBMn/xuj/hnPxd/wBBDRP/AAJk/wDjdHMgujyaivWf+Gc/F3/QQ0T/AMCZP/jdH/DOfi7/AKCGif8AgTJ/8bo5kF0eTUV60f2cvF6nDahogPp9pk/+N0n/AAzn4u/6CGif+BMn/wAbo5kF0eTUV6z/AMM5+Lv+ghon/gTJ/wDG6P8AhnPxd/0ENE/8CZP/AI3RzILo8mor1n/hnPxd/wBBDRP/AAJk/wDjdH/DOfi7/oIaJ/4Eyf8AxujmQXR5NRXrP/DOfi7/AKCGif8AgTJ/8bo/4Zz8Xf8AQQ0T/wACZP8A43RzILo8mor1n/hnPxd/0ENE/wDAmT/43R/wzn4u/wCghon/AIEyf/G6OZBdHk1Fes/8M5+Lv+ghon/gTJ/8bo/4Zz8Xf9BDRP8AwJk/+N0cyC6PJqK9Z/4Zz8Xf9BDRP/AmT/43R/wzn4u/6CGif+BMn/xujmQXR5NRXrX/AAzl4v25/tDRMZxn7TJ/8bpP+Gc/F3/QQ0T/AMCZP/jdHMgujyaivWf+Gc/F3/QQ0T/wJk/+N0f8M5+Lv+ghon/gTJ/8bo5kF0eTUV6z/wAM5+Lv+ghon/gTJ/8AG6P+Gc/F3/QQ0T/wJk/+N0cyC6PJqK9Z/wCGc/F3/QQ0T/wJk/8AjdH/AAzn4u/6CGif+BMn/wAbo5kF0eTUV6z/AMM5+Lv+ghon/gTJ/wDG6P8AhnPxd/0ENE/8CZP/AI3RzILo8mor1n/hnPxd/wBBDRP/AAJk/wDjdH/DOfi7/oIaJ/4Eyf8AxujmQXR5NRXrP/DOfi7/AKCGif8AgTJ/8bo/4Zz8Xf8AQQ0T/wACZP8A43RzILo8mor1ofs5eL2OBqGiE/8AXzJ/8bpP+Gc/F3/QQ0T/AMCZP/jdHMgujyaivWf+Gc/F3/QQ0T/wJk/+N0f8M5+Lv+ghon/gTJ/8bo5kF0eTUV6z/wAM5+Lv+ghon/gTJ/8AG6P+Gc/F3/QQ0T/wJk/+N0cyC6PJqK9Z/wCGc/F3/QQ0T/wJk/8AjdH/AAzn4u/6CGif+BMn/wAbo5kF0eTUV6z/AMM5+Lv+ghon/gTJ/wDG6P8AhnPxd/0ENE/8CZP/AI3RzILo8mor1n/hnPxd/wBBDRP/AAJk/wDjdH/DOfi7/oIaJ/4Eyf8AxujmQXR5NRXrP/DOfi7/AKCGif8AgTJ/8bo/4Zz8Xf8AQQ0T/wACZP8A43RzILo8mor1n/hnPxd/0ENE/wDAmT/43Sn9nLxevXUNEH/bzJ/8bo5kF0eS0V6z/wAM5+Lv+ghon/gTJ/8AG6P+Gc/F3/QQ0T/wJk/+N0cyC6PJqK9Z/wCGc/F3/QQ0T/wJk/8AjdH/AAzn4u/6CGif+BMn/wAbo5kF0eTUV6z/AMM5+Lv+ghon/gTJ/wDG6P8AhnPxd/0ENE/8CZP/AI3RzILo8mor1n/hnPxd/wBBDRP/AAJk/wDjdH/DOfi7/oIaJ/4Eyf8AxujmQXR5NRXrP/DOfi7/AKCGif8AgTJ/8bo/4Zz8Xf8AQQ0T/wACZP8A43RzILo8mor1n/hnPxd/0ENE/wDAmT/43R/wzn4u/wCghon/AIEyf/G6OZBdHk1Fes/8M5+Lv+ghon/gTJ/8bpf+GcvF+3P9oaJj1+0yf/G6OZBdHktfYvw4/wCSX+G/+vBP5mvE/wDhnPxd/wBBDRP/AAJk/wDjde9eFNIn0DwbpGk3jxSXFnarFI0LFlJBPQkD+VTJpkSasa1FFFSQFFFFABRRRQAVrjoKyK1x0FRIAoooqRhRRRQAUUUUAFFFFABRRRQAUUUUAFFFFABRRRQAUUUUAFFFFABRRRQAUUUUAFFFFABRRRQAUUUUAFFFFABRRRQAUUUUAFFFFABUV3NFb2U81xKkMMcbNJJIwVUUDJJJ4AA71LWD46/5J54i/wCwXc/+imprca1ZQ/4S3wv/ANDRon/gxi/+Ko/4S3wv/wBDRon/AIMYv/iq+QqK6OQ6PYLufXv/AAlvhf8A6GjRP/BjF/8AFUf8Jb4X/wCho0T/AMGMX/xVfIVFHIHsF3Pr3/hLfC//AENGif8Agxi/+Ko/4S3wv/0NGif+DGL/AOKr5Coo5A9gu59e/wDCW+F/+ho0T/wYxf8AxVH/AAlvhf8A6GjRP/BjF/8AFV8hUUcgewXc+vf+Et8L/wDQ0aJ/4MYv/iqP+Et8L/8AQ0aJ/wCDGL/4qvkKijkD2C7n17/wlvhf/oaNE/8ABjF/8VR/wlvhf/oaNE/8GMX/AMVXyFRRyB7Bdz69/wCEt8L/APQ0aJ/4MYv/AIqj/hLfC/8A0NGif+DGL/4qvkKijkD2C7n2DN4v8LPMzL4o0TBP/QRi/wDiqj/4S3wv/wBDRon/AIMYv/iq+QqKOQPYLufXv/CW+F/+ho0T/wAGMX/xVH/CW+F/+ho0T/wYxf8AxVfIVFHIHsF3Pr3/AIS3wv8A9DRon/gxi/8AiqP+Et8L/wDQ0aJ/4MYv/iq+QqKOQPYLufXv/CW+F/8AoaNE/wDBjF/8VR/wlvhf/oaNE/8ABjF/8VXyFRRyB7Bdz69/4S3wv/0NGif+DGL/AOKo/wCEt8L/APQ0aJ/4MYv/AIqvkKijkD2C7n17/wAJb4X/AOho0T/wYxf/ABVH/CW+F/8AoaNE/wDBjF/8VXyFRRyB7Bdz69/4S3wv/wBDRon/AIMYv/iqP+Et8L/9DRon/gxi/wDiq+QqKOQPYLufYJ8X+FvICf8ACUaJndn/AJCMX/xVR/8ACW+F/wDoaNE/8GMX/wAVXyFRS5A9gu59e/8ACW+F/wDoaNE/8GMX/wAVR/wlvhf/AKGjRP8AwYxf/FV8hUU+QPYLufXv/CW+F/8AoaNE/wDBjF/8VR/wlvhf/oaNE/8ABjF/8VXyFRRyB7Bdz69/4S3wv/0NGif+DGL/AOKo/wCEt8L/APQ0aJ/4MYv/AIqvkKijkD2C7n17/wAJb4X/AOho0T/wYxf/ABVH/CW+F/8AoaNE/wDBjF/8VXyFRRyB7Bdz69/4S3wv/wBDRon/AIMYv/iqP+Et8L/9DRon/gxi/wDiq+QqKOQPYLufXv8Awlvhf/oaNE/8GMX/AMVR/wAJb4X/AOho0T/wYxf/ABVfIVFHIHsF3PsGLxf4WSTJ8UaJjBH/ACEYvT/eqP8A4S3wv/0NGif+DGL/AOKr5CopcgewXc+vf+Et8L/9DRon/gxi/wDiqP8AhLfC/wD0NGif+DGL/wCKr5Cop8gewXc+vf8AhLfC/wD0NGif+DGL/wCKo/4S3wv/ANDRon/gxi/+Kr5Coo5A9gu59e/8Jb4X/wCho0T/AMGMX/xVH/CW+F/+ho0T/wAGMX/xVfIVFHIHsF3Pr3/hLfC//Q0aJ/4MYv8A4qj/AIS3wv8A9DRon/gxi/8Aiq+QqKOQPYLufXv/AAlvhf8A6GjRP/BjF/8AFUf8Jb4X/wCho0T/AMGMX/xVfIVFHIHsF3Pr3/hLfC//AENGif8Agxi/+Ko/4S3wv/0NGif+DGL/AOKr5Coo5A9gu59e/wDCW+F/+ho0T/wYxf8AxVSS+L/CzsCPFGifdA/5CMX/AMVXx9RRyB7Bdz69/wCEt8L/APQ0aJ/4MYv/AIqj/hLfC/8A0NGif+DGL/4qvkKijkD2C7n17/wlvhf/AKGjRP8AwYxf/FUf8Jb4X/6GjRP/AAYxf/FV8hUUcgewXc+vf+Et8L/9DRon/gxi/wDiqP8AhLfC/wD0NGif+DGL/wCKr5Coo5A9gu59e/8ACW+F/wDoaNE/8GMX/wAVR/wlvhf/AKGjRP8AwYxf/FV8hUUcgewXc+vf+Et8L/8AQ0aJ/wCDGL/4qj/hLfC//Q0aJ/4MYv8A4qvkKijkD2C7n17/AMJb4X/6GjRP/BjF/wDFUf8ACW+F/wDoaNE/8GMX/wAVXyFRRyB7Bdz69/4S3wv/ANDRon/gxi/+KqQeL/CwgZf+Eo0TJYH/AJCMX/xVfH1FHIHsF3Pr3/hLfC//AENGif8Agxi/+Ko/4S3wv/0NGif+DGL/AOKr5Coo5A9gu59m2V9Y6lam50u/tb6AOYzJazLKoYAHGVJGcEce4qavNvgL/wAk3uv+wrJ/6Kir0ms3oznkuV2CiiigkKKKKACtcdBWRWuOgqJAFFFFSMKKKKACiiigAooooAKKKKACiiigAooooAKKKKAPOPib4dtbTQLrWLW61OG9lvLZS0epTqoDzojYQPtHykjpU1rc3Gg+Mb/wv4T01rm4+xRXrXOqapO8YBZlwSwcjtgAc5OeldF400G58SeGX06ykijla4glDSkhcRyq5HAPZTT7TQ54PHWpa28kZgu7K3t0QE7g0bSEk8Yx84x+NAHN3vxGvRJqU+l6fp8thpUzwTtc3/kz3DR/63yY9pBAIwCxGTV3VPHuZNMtvDsFrPcajYjUVk1C5+zwxQNjaWbDEsxIAUDsTnis/wD4QS90nUtR/svRfDur2t9dSXaSaopSW2ZzlkyI33rnJH3SM496t614Inn1aw1mxsNFu7m308WM2n3sJW3ZQdymMhW8vaS2PlOQccdaANjwh4o/4SexujNbpbXljcm2uYophLHuABDI4A3KQwPT2qpqdw+o/E7SdI8zbb2FnJqkqDP7xy3kxg9sDdI31UelafhrTp9OsJVu9O0rT5JJSwh0tSIwuABuJVdzdedo7cVm6pZz2PxJ0jW4opZre6tJNLuPLTPlEsJY3bHO3KsuexYetADtY8Q6zF4ui0HQNPsbiVrE3skl7dPEqqJAmBtRuef51myfEC6bwH4f122sLVbjWriOARXN0Y4oSwc7mcKTgbPTvUOnWvi268Y6t4jisdLKPu020iurmaF0hhmkG4gRsDvPzZ9MYrL03wlrd/8AD/SNCubLT3uPDurLuS7ZxBeRxo3zAmMkgmT+7jg80AdZ4f8AFd3rUWsQtYWpvtLwubW8822nZk3KFl2jB6BgVyuQec1naX4+nk8YWmg6qujSPfiTyJNK1P7QY2RdxWRSqkZAOCO46VDF4E1KbTPEsMklhpA1iyFtFaaXu8iFgH/eHIXJbcAcKOB3pLTwbrkniPw5qF1BoenW2itJut9PDkz7omTdkqMYyuF56t83QUAdP4t11vDPhHUdZSAXDWcJkERbaH56Z5xWRN4i8TaVrGkW2t6XpKW+p3n2QSWd9LI6NsZ87WiUYwh71qeNNDn8SeC9U0ezkjinvIDGjyk7QcjrgE0eItEuNX1DQbi3kiRdN1EXUokJBZfKkTC4HXLjrigDDXxpr19ca6NG0G1uItDu3hmM140bThVDbYwEPzY65wBleuTjQtvG9tfXvhz7HEDZ65ZT3fnSPtMIjWM4I6fxkHnjbXLaFa+JnufGg8OSaeyXes3EX+mSPGbZ/LQeYu1W35BHy/L90c88XNW+GM9zb+FNM0+/SLTNJtpbO/LErLcwyCPcq4GBv8tgeRgMcUAaPhjx1d+LTrv9laZGn2HyzYm4nKi5VwxV2IU7VIUEcHgin6P41u7rVNS0y/tLF7ixsvtZuNNuzcQHkgxsxRSj5GcHORzVu00HUNK1zxBqWmCyY362otIJGZFQRJtIbCnA9MA1maN4R1RNcv8AUrq10nR4rnT3s1sdMZmSRy2RLIdqAsBwMLnBPPagCSX4i2i+ALLX4vssl3cpasbEXILKZXRWHr8u8np2q54q8SanoVwptU0Nbfy92dT1T7M8rZ+6g2EAD1J5z0rIl+GkH/CurDR7ey0uPWLZLQPeiEDc0UkbOQ4XdyEYZ755q3qPhfWF8Yajq2mQaReLqUUMIk1HcXsggIOxQpDKc7tuVy3U+gA9viLYnQ/DmrhEhsdZkZZZZ5QotlWJ3Yk9Dgxkener+h+I7/XtGvNXs9LVLNkLaWs83lveKASHbj92rHGM5OOSB0rnrL4bTDwv4R0fVWs7yPRLxri6VyzLMMSbQARzy6kg4HBrQn8FXn/CO+IPDlpdxRaRfwv9gXLB7R3zvjx0MWcEAEEAsOmKAI9J8fTy+MrXQNVXR3e+SU28ulaj9p2NGNxSRSqkcbsN/s9PS7oc7af8Qdf0Qt+5mjh1SBSeVMhZJAPbdGG+rGs608H6w3irw7qdxb6LptpoxmBtdPLnzQ8LIGyUXGMjC9st8x4FaehWU914417XrmCSCPEem2qyoVLpFuZ5MEfdLuQD3C57igDqawfHX/JPPEX/AGC7n/0U1b1YPjr/AJJ54i/7Bdz/AOimprca3PjOiiiuw9AKKKKACiiigAooooAKKKKACiiigAooooAKKKKACiiigAooooAKKKKACiiigAooooAKKKKACiiigAooooAKKKKACiiigAooooAKKKKACiiigAooooAKKKKACiiigAooooAKKKKACiiigAooooAKKKKACiiigAooooAKKKKACiiigAooooAKKKKACiiigAooooA+ivgL/wAk3uv+wrJ/6Kir0mvNvgL/AMk3uv8AsKyf+ioq9JrB7nBU+NhRRRSICiiigArXHQVkVrjoKiQBRRRUjCiiigAooooAKKKKACiiigAooooAKKKKACiiigAooooAKKKKACiiigAooooAKKKKACiiigBqRpHu2Iq7jubAxk+tOoooAKKKKACiiigAooooAKKKKACsjxbZz6j4L1uys4zLcXOnzxRRggbnaNgBzx1Na9NkBMTgckqcUINj5L/4VB47/wChfl/7/wAX/wAVR/wqDx3/ANC/L/3/AIv/AIqvqT7PL/cNH2eX+4a352be3l2Plv8A4VB47/6F+X/v/F/8VR/wqDx3/wBC/L/3/i/+Kr6k+zy/3DR9nl/uGjnYe3l2Plv/AIVB47/6F+X/AL/xf/FUf8Kg8d/9C/L/AN/4v/iq+pPs8v8AcNH2eX+4aOdh7eXY+W/+FQeO/wDoX5f+/wDF/wDFUf8ACoPHf/Qvy/8Af+L/AOKr6k+zy/3DR9nl/uGjnYe3l2Plv/hUHjv/AKF+X/v/ABf/ABVH/CoPHf8A0L8v/f8Ai/8Aiq+pPs8v9w0fZ5f7ho52Ht5dj5b/AOFQeO/+hfl/7/xf/FUf8Kg8d/8AQvy/9/4v/iq+pPs8v9w0fZ5f7ho52Ht5dj5b/wCFQeO/+hfl/wC/8X/xVH/CoPHf/Qvy/wDf+L/4qvqT7PL/AHDR9nl/uGjnYe3l2Plv/hUHjv8A6F+X/v8Axf8AxVH/AAqDx3/0L8v/AH/i/wDiq+qJ4ZGnYqhIJqP7PL/cNHtGHt5dj5b/AOFQeO/+hfl/7/xf/FUf8Kg8d/8AQvy/9/4v/iq+pPs8v9w0fZ5f7ho52Ht5dj5b/wCFQeO/+hfl/wC/8X/xVH/CoPHf/Qvy/wDf+L/4qvqT7PL/AHDR9nl/uGjnYe3l2Plv/hUHjv8A6F+X/v8Axf8AxVH/AAqDx3/0L8v/AH/i/wDiq+pPs8v9w0fZ5f7ho52Ht5dj5b/4VB47/wChfl/7/wAX/wAVR/wqDx3/ANC/L/3/AIv/AIqvqT7PL/cNH2eX+4aOdh7eXY+W/wDhUHjv/oX5f+/8X/xVH/CoPHf/AEL8v/f+L/4qvqT7PL/cNH2eX+4aOdh7eXY+W/8AhUHjv/oX5f8Av/F/8VR/wqDx3/0L8v8A3/i/+Kr6k+zy/wBw0fZ5f7ho52Ht5dj5b/4VB47/AOhfl/7/AMX/AMVR/wAKg8d/9C/L/wB/4v8A4qvqgwyfZwuw53E4/Co/s8v9w0e0Ye3l2Plv/hUHjv8A6F+X/v8Axf8AxVH/AAqDx3/0L8v/AH/i/wDiq+pPs8v9w0fZ5f7ho52Ht5dj5b/4VB47/wChfl/7/wAX/wAVR/wqDx3/ANC/L/3/AIv/AIqvqT7PL/cNH2eX+4aOdh7eXY+W/wDhUHjv/oX5f+/8X/xVH/CoPHf/AEL8v/f+L/4qvqT7PL/cNH2eX+4aOdh7eXY+W/8AhUHjv/oX5f8Av/F/8VR/wqDx3/0L8v8A3/i/+Kr6k+zy/wBw0fZ5f7ho52Ht5dj5b/4VB47/AOhfl/7/AMX/AMVR/wAKg8d/9C/L/wB/4v8A4qvqT7PL/cNNaGRFyykCjnYe3l2Pl3/hUHjv/oX5f+/8X/xVH/CoPHf/AEL8v/f+L/4qvp+ijnYe3kfMH/CoPHf/AEL8v/f+L/4qj/hUHjv/AKF+X/v/ABf/ABVfUlv/AK3/AICf5VFRzsPbyPmD/hUHjv8A6F+X/v8Axf8AxVH/AAqDx3/0L8v/AH/i/wDiq+n6KOdh7eR8wf8ACoPHf/Qvy/8Af+L/AOKo/wCFQeO/+hfl/wC/8X/xVfT9FHOw9vI+YP8AhUHjv/oX5f8Av/F/8VR/wqDx3/0L8v8A3/i/+Kr6foo52Ht5HzB/wqDx3/0L8v8A3/i/+Ko/4VB47/6F+X/v/F/8VX0/RRzsPbyPmD/hUHjv/oX5f+/8X/xVH/CoPHf/AEL8v/f+L/4qvp+ijnYe3kfMH/CoPHf/AEL8v/f+L/4qj/hUHjv/AKF+X/v/ABf/ABVfT9FHOw9vI+YP+FQeO/8AoX5f+/8AF/8AFUf8Kg8d/wDQvy/9/wCL/wCKr6fqW4/1g/3R/KjnYe3kfLf/AAqDx3/0L8v/AH/i/wDiqP8AhUHjv/oX5f8Av/F/8VX0/RRzsPbyPmD/AIVB47/6F+X/AL/xf/FUf8Kg8d/9C/L/AN/4v/iq+n6KOdh7eR8wf8Kg8d/9C/L/AN/4v/iqP+FQeO/+hfl/7/xf/FV9P0Uc7D28j5g/4VB47/6F+X/v/F/8VR/wqDx3/wBC/L/3/i/+Kr6foo52Ht5HzB/wqDx3/wBC/L/3/i/+Ko/4VB47/wChfl/7/wAX/wAVX0/RRzsPbyPmD/hUHjv/AKF+X/v/ABf/ABVH/CoPHf8A0L8v/f8Ai/8Aiq+n6KOdh7eR8wf8Kg8d/wDQvy/9/wCL/wCKo/4VB47/AOhfl/7/AMX/AMVX0/Uq/wDHq/8AvCjnYe3kfLf/AAqDx3/0L8v/AH/i/wDiqP8AhUHjv/oX5f8Av/F/8VX0/RRzsPbyOJ+EfhzVvDHge4stds2tLh9ReVY2dWyhjjAPykjqp/Ku2ooqTGTu7hRRRQIKKKKACtcdBWRWuOgqJAFFFFSMKKKKACiiigAooooAKKKKACiiigAooooAKKKKACiuB+JSa7o3hvV/EWkeJ760NtErxWawQNEp+VTyyFueT16mpDrdz4U8Srot1f614m1G9tDPa2xhtkX5WwfnAQL3JLHGBxzgEA7qiuTu/Hghu57ax0HVNSkso1e/+yCMrakqGKEs43OAc7VzVm88b6ZFZ6VLpsc+rTawu+xtrNQXlUAFmJYqqhQRksRjp1oA6Oisbw/4lt9f+2Qrbz2V7YSCK7s7kL5kLFQw+6SCCDwQeapeI9Suj4q8O6HYzPbm8mku7iVBz5MAUmP/AIGzID7bqAOmorh/G0+vaTrGi39jrzxWNzq1nZyaetrGVZXkAYmQgtyM9Mdas+OtW1K2vvD+j6VfDTH1i9MMl/5YcxKqF9qhgRuYgKMg9/qADr6K4vwrq9/beNNY8J6nqf8Aav2GCK5gupFVZlR+scm0AEjgggDgjPWtnxF4mXw/Np0C6dd6jcajM0MENqUDFlQucl2UYwp70AbdFc1p/jIXWp3un3ui6hpl3aWQvTHcmI74yWUEFHYZyp61Q034l2Wo2mnagdI1S10nUJEhi1G4jjEQkbgKwDlwN3y7yu3PfBzQB2lFYcvi3TbefXUujJBHoSI91K6jaQ0e8bcHJ4wMYyTwM1VsPGTax4Ss9c0fQdSvPtcrxLaDyo5YijurF97hVGUPc9RQB01FctH4+sG0G51OWxv7f7Jfx6fcW0saiSOZnRcfe2kDzFOQTxWvfa5BYa9pelSxyNNqfneU6gbV8tQx3c56HjFAGlRXKan45OjXG/VPDurW2mCYQtqLCIxqS20MVVy4QkjDEDr0q/qHi7TNJ1a8sdRdrcWdgl/LO4HliNnZABzktlemOcigDcornb/xjb6X4fstSv8ATr6Ke/lWG207y1NxJI2dq7d2AcDJyRgdcHimWfjW2mh1ZdQ0+80690m3+03NlP5ZkMW0sHQqxVwdpGQeDwcUAdLRXLaR45h1O+061utH1LTDqkZkspLoRFJwE3kAo7YO3nBA4FSaHqV2njHXtCv5WmEJjvrSRjyIZcgp/wABdHx7MB2oA6WsTxqceAdfI/6Btx/6KatusTxr/wAiD4g/7Blx/wCimprcqHxI+RPMf++350eY/wDfb86bRXYe+O8x/wC+350eY/8Afb86bRQA7zH/AL7fnR5j/wB9vzptFADvMf8Avt+dHmP/AH2/Om0UAO8x/wC+350eY/8Afb86bRQA7zH/AL7fnR5j/wB9vzptFADvMf8Avt+dHmP/AH2/Om0UAO8x/wC+350eY/8Afb86bRQA7zH/AL7fnR5j/wB9vzptFADvMf8Avt+dHmP/AH2/Om0UAO8x/wC+350eY/8Afb86bRQA7zH/AL7fnR5j/wB9vzptFADvMf8Avt+dHmP/AH2/Om0UAO8x/wC+350eY/8Afb86bRQA7zH/AL7fnR5j/wB9vzptFADvMf8Avt+dHmP/AH2/Om0UAO8x/wC+350eY/8Afb86bRQA7zH/AL7fnR5j/wB9vzptFADvMf8Avt+dHmP/AH2/Om0UAO8x/wC+3517X8BmLaPrpYk/voep9nrxKvbPgL/yB9d/67Q/yeonsc2K/hM9VooorI8Ylt/9b/wE/wAqiqW3/wBb/wABP8qipAFFFFMAooooAKKKKACiiigAooooAKKKKACpbj/WD/dH8qiqW4/1g/3R/KkBFRRRTAKKKKACiiigAooooAKKKKACiiigAqVf+PV/94VFUq/8er/7wpARUUUUwCiiigAooooAKKKKACtcdBWRWuOgqJAFFFFSMKKKKACiiigAooooAKKKKACiiigAooooAKKKKAOZ+IukXuu/DzV9M0qDz7y5hCxR71XcdwPViAOnc09tJvD8UYtY8j/Ql0Z7Uzbl4kMyttxnPQZzjHFdHRQB5lP4Tl0rxJq81x4cv9bttTvGu4p9P1HyWiLBQUdGlQdQSGGeOvSn6t4MkX/hH9RsPDsrwWNrLbT6PDf7JY1dgwKyb1BIIORu5z1OBXpVFAHL+DNLt7Jr+6g8OXWiNdGMMby7E0s4UHBOHfbjJA5yar+JVGm/EDwzrcp220nnaZM5PCtKFaL6ZZNufUgd67CkZQwwwBGQeR3FAHD/ABBi1/UJ9KttG8O3F/FZala373CXUEasI33MgDuDnA64xzWj4hhGt+E4TrPhGbUS8gMum+dEZYevzBt4Unp0bOD+FdRRQBw/gfwk2l61qGtzaSmjfaIktbeyEqyyLGrFi8rgnc7M2fvNgADJ7aviLSry+8T+F7u1h8yCwvJZbl9wHlq0DoDgnJ+ZgOM9a6OigDkdS0q8Xxrq+rmH/QX8PLbLLuHMiySsVxnPRgc4xzXI6PZa94j+FPh7w4uimK2lSzkl1PzYvJW3UpLuVd2/zPlCkbcZyc8161JGssbRyKGRwVZT0IPaorKzt9OsYLOyiWG3t0EcUa9EUDAA/CgDg28I6rqfxP1WbUrcJ4clmtr0HzFP2uaKJVRCoOQituY5HJVe3WxpGn3+ifDqHS9U8P3moGS5ujcW9lcRrIiPcO6nPmLnIYHhsjv3ru6KAPLV8H6zcfDnUNJGmG1huNWhntNNa4VpLe3E0bybpQ3LEiRvvE89SeBuyeCotP8AHfh7UtGtJfs1sLkXckl28mzdHhMB2J5Ofuj612tFAHi/iPwRr+q+GNUsW8OTahr8s0jrq9zqCNEyeaWURgvlDtAULtUD19er8R+Aj4n+IE9/fLPFaJo8cNpcw3GwxXSzSMHCg5LIGBBIxye/TvaKAOD1PT/E+oaboGrXGmxSazod67zWolTZeJsaMvGc4UsCGUNgg+mKil0TWNe1XxHrlxpT6ebrQzpljaTyRmaUnexZyrMq/MygDd9cd/QaKAPLPDPhLU7LXPDlza+HLjSZNPg8m/u76/SYTIY9rJGiySY+bawPy9Me1dJoKf2p8R/EGtx829rDFpMT4++8ZaSXHsGkC/VW9K6+kVQowoAGSeB3NAC1ieNf+RB8Qf8AYMuP/RTVt1jeMIpJ/A+uxQo0kkmnXCoiDJYmNgAB3NNblR+JHyBRWp/wjOvf9ATUf/AST/Cj/hGde/6Amo/+Akn+Fdd0e9zLuZdFan/CM69/0BNR/wDAST/Cj/hGde/6Amo/+Akn+FF0HMu5l0Vqf8Izr3/QE1H/AMBJP8KP+EZ17/oCaj/4CSf4UXQcy7mXRWp/wjOvf9ATUf8AwEk/wo/4RnXv+gJqP/gJJ/hRdBzLuZdFan/CM69/0BNR/wDAST/Cj/hGde/6Amo/+Akn+FF0HMu5l0Vqf8Izr3/QE1H/AMBJP8KP+EZ17/oCaj/4CSf4UXQcy7mXRWp/wjOvf9ATUf8AwEk/wo/4RnXv+gJqP/gJJ/hRdBzLuZdFan/CM69/0BNR/wDAST/Cj/hGde/6Amo/+Akn+FF0HMu5l0Vqf8Izr3/QE1H/AMBJP8KP+EZ17/oCaj/4CSf4UXQcy7mXRWp/wjOvf9ATUf8AwEk/wo/4RnXv+gJqP/gJJ/hRdBzLuZdFan/CM69/0BNR/wDAST/Cj/hGde/6Amo/+Akn+FF0HMu5l0Vqf8Izr3/QE1H/AMBJP8KP+EZ17/oCaj/4CSf4UXQcy7mXRWp/wjOvf9ATUf8AwEk/wo/4RnXv+gJqP/gJJ/hRdBzLuZdFan/CM69/0BNR/wDAST/Cj/hGde/6Amo/+Akn+FF0HMu5l0Vqf8Izr3/QE1H/AMBJP8KP+EZ17/oCaj/4CSf4UXQcy7mXRWp/wjOvf9ATUf8AwEk/wo/4RnXv+gJqP/gJJ/hRdBzLuZdFan/CM69/0BNR/wDAST/Cj/hGde/6Amo/+Akn+FF0HMu5l0Vqf8Izr3/QE1H/AMBJP8KP+EZ17/oCaj/4CSf4UXQcy7mXRWp/wjOvf9ATUf8AwEk/wo/4RnXv+gJqP/gJJ/hRdBzLuZde2fAX/kD67/12h/k9eT/8Izr3/QE1H/wEk/wr2H4I6de6dpOtLqFncWrPNCVE8TJu4bpkVM9jmxLTpM9MooorI8clt/8AW/8AAT/Koqlt/wDW/wDAT/KoqQBRRRTAKKKKACiiigAooooAKKKKACiiigAqW4/1g/3R/KoqluP9YP8AdH8qQEVFFFMAooooAKKKKACiiigAooooAKKKKACpV/49X/3hUVSr/wAer/7wpARUUUUwCiiigAooooAKKKKACtcdBWRWuOgqJAFFFFSMKKKKACiiigAooooAKKKKACio5biCAgTTRxk9A7AZpIrmCZtsM8cjAZwjgnFAEtFFFABRRRQAUUUUAFFFFABRRRQAUUUUAFFFFABRRRQAUUUUAFFFFABRRRQAUUUUAFFFFABTZc+S+Ou04xTqyfFU8tr4O1m4tpGimisJ3jkQ4ZWEbEEHsQaBxXM0h++b+8/5mjfN/ef8zXzN/wAJx4p/6GHUv/Ap/wDGj/hOPFP/AEMOpf8AgU/+Na8p639lVP5kfTO+b+8/5mjfN/ef8zXzN/wnHin/AKGHUv8AwKf/ABo/4TjxT/0MOpf+BT/40cof2VU/mR9M75v7z/maN8395/zNfM3/AAnHin/oYdS/8Cn/AMaP+E48U/8AQw6l/wCBT/40cof2VU/mR9M75v7z/maN8395/wAzXzN/wnHin/oYdS/8Cn/xo/4TjxT/ANDDqX/gU/8AjRyh/ZVT+ZH0zvm/vP8AmaN8395/zNfM3/CceKf+hh1L/wACn/xo/wCE48U/9DDqX/gU/wDjRyh/ZVT+ZH0zvm/vP+Zo3zf3n/M18zf8Jx4p/wChh1L/AMCn/wAaP+E48U/9DDqX/gU/+NHKH9lVP5kfTO+b+8/5mjfN/ef8zXzN/wAJx4p/6GHUv/Ap/wDGj/hOPFP/AEMOpf8AgU/+NHKH9lVP5kfTs7SidtpfGeME1Hvm/vP+Zr5m/wCE48U/9DDqX/gU/wDjR/wnHin/AKGHUv8AwKf/ABo5Q/sqp/Mj6Z3zf3n/ADNG+b+8/wCZr5m/4TjxT/0MOpf+BT/40f8ACceKf+hh1L/wKf8Axo5Q/sqp/Mj6Z3zf3n/M0b5v7z/ma+Zv+E48U/8AQw6l/wCBT/40f8Jx4p/6GHUv/Ap/8aOUP7KqfzI+md8395/zNG+b+8/5mvmb/hOPFP8A0MOpf+BT/wCNH/CceKf+hh1L/wACn/xo5Q/sqp/Mj6Z3zf3n/M0b5v7z/ma+Zv8AhOPFP/Qw6l/4FP8A40f8Jx4p/wChh1L/AMCn/wAaOUP7KqfzI+md8395/wAzRvm/vP8Ama+Zv+E48U/9DDqX/gU/+NH/AAnHin/oYdS/8Cn/AMaOUP7KqfzI+md8395/zNG+b+8/5mvmb/hOPFP/AEMOpf8AgU/+NH/CceKf+hh1L/wKf/GjlD+yqn8yPp0tL9nBy+dx7n0qPfN/ef8AM18zf8Jx4p/6GHUv/Ap/8aP+E48U/wDQw6l/4FP/AI0cof2VU/mR9M75v7z/AJmjfN/ef8zXzN/wnHin/oYdS/8AAp/8aP8AhOPFP/Qw6l/4FP8A40cof2VU/mR9M75v7z/maN8395/zNfM3/CceKf8AoYdS/wDAp/8AGj/hOPFP/Qw6l/4FP/jRyh/ZVT+ZH0zvm/vP+Zo3zf3n/M18zf8ACceKf+hh1L/wKf8Axo/4TjxT/wBDDqX/AIFP/jRyh/ZVT+ZH0zvm/vP+Zo3zf3n/ADNfM3/CceKf+hh1L/wKf/Gj/hOPFP8A0MOpf+BT/wCNHKH9lVP5kfTO+b+8/wCZpCZWGGLke+a+Z/8AhOPFP/Qw6l/4FP8A40f8Jx4p/wChh1L/AMCn/wAaOVi/sqp/Mj6X2t/dP5UbW/un8q+aP+E48U/9DDqX/gU/+NH/AAnHin/oYdS/8Cn/AMadmH9lVP5kfTcCkS8g9D29qj2t/dP5V80f8Jx4p/6GHUv/AAKf/Gj/AITjxT/0MOpf+BT/AONLlY/7KqfzI+l9rf3T+VG1v7p/Kvmj/hOPFP8A0MOpf+BT/wCNH/CceKf+hh1L/wACn/xp2Yv7KqfzI+l9rf3T+VG1v7p/Kvmj/hOPFP8A0MOpf+BT/wCNH/CceKf+hh1L/wACn/xosw/sqp/Mj6X2t/dP5UbW/un8q+aP+E48U/8AQw6l/wCBT/40f8Jx4p/6GHUv/Ap/8aLMP7KqfzI+l9rf3T+VG1v7p/Kvmj/hOPFP/Qw6l/4FP/jR/wAJx4p/6GHUv/Ap/wDGizD+yqn8yPpfa390/lRtb+6fyr5o/wCE48U/9DDqX/gU/wDjR/wnHin/AKGHUv8AwKf/ABosw/sqp/Mj6X2t/dP5UbW/un8q+aP+E48U/wDQw6l/4FP/AI0f8Jx4p/6GHUv/AAKf/GizD+yqn8yPpfa390/lUk6kyDAP3R29q+ZP+E48U/8AQw6l/wCBT/40f8Jx4p/6GHUv/Ap/8aVmP+yqn8yPpfa390/lRtb+6fyr5o/4TjxT/wBDDqX/AIFP/jR/wnHin/oYdS/8Cn/xp2Yv7KqfzI+l9rf3T+VG1v7p/Kvmj/hOPFP/AEMOpf8AgU/+NH/CceKf+hh1L/wKf/GizD+yqn8yPpfa390/lRtb+6fyr5o/4TjxT/0MOpf+BT/40f8ACceKf+hh1L/wKf8Axosw/sqp/Mj6X2t/dP5UbW/un8q+aP8AhOPFP/Qw6l/4FP8A40f8Jx4p/wChh1L/AMCn/wAaLMP7KqfzI+l9rf3T+VG1v7p/Kvmj/hOPFP8A0MOpf+BT/wCNH/CceKf+hh1L/wACn/xosw/sqp/Mj6X2t/dP5UbW/un8q+aP+E48U/8AQw6l/wCBT/40f8Jx4p/6GHUv/Ap/8aLMP7KqfzI+l9rf3T+VSKp+ytwfvDtXzJ/wnHin/oYdS/8AAp/8aP8AhOPFP/Qw6l/4FP8A40rMf9lVP5kfS+1v7p/Kja390/lXzR/wnHin/oYdS/8AAp/8aP8AhOPFP/Qw6l/4FP8A407MX9lVP5kfS+1v7p/Kja390/lXzR/wnHin/oYdS/8AAp/8aP8AhOPFP/Qw6l/4FP8A40WYf2VU/mR9LEEdRikqDT5Hl0ewkldnd7WJmZjksSgySanqTyWrOwUUUUxBWuOgrIrXHQVEgCiiipGFFFFABRRRQAUUUUAFFFFAHnPxQ0vwnf3mnzeIJprfUrdWa1kXT5buJlzysiKjKVJ7cN3BFN+F+o6JdX99bad4ag0u9gjAkvbSzeGG6TPVd6qwOeqkcdia0PFut39v4utNMt/E1j4etnsWnM13BHIJXEgUKN7L2JPHpWv4Zg1bL3V/4ottdtJExH9ns0iCtnruVjnjtQB0NFFFAHK+MNd1jTNU0HTtBNgk2qXEsTS30TuiBIi+cKyn+H1qxFrF3oOjXOoeNtS0vyY3UJJYQSKOeNu0s5ZiSMAflWX460JNe8TeEoLzTvt9gt5ObpWiLxqPIbaX7AbsYz3qv4t8M22jaVos3hzRU+xaZrUWo3VlZwcuoVlMioo+ZlyrY77fpQB0uneLNI1NLwwTTRyWKeZcw3NtJBLEvJDFHUNg7TyB2qrZ+PvDd/aSXlrqBayit/tL3jQSJAqfLx5jKFLfMAVB3A5BAIxXOFZfEfjTV9d02wu47GLw/Jp6zT2jwvdys5fCK4DFVAxnHVsdqi1Dw1fXnwN0DTrK1mS4tYLG4ntFULK+zY0iAMCA+cnBHUYI7UAdfpHjHRdcu2tbG4mW4EfmiO5tZbdnj/vqJFXcOeoqPTvG+iatfRW+nveTrMzLDcrYTfZ5SoJIWXZsPCnnOD2zXM6NFpWq+JrLUmu/FOp3WnwTMq6hp/lRxB0wyMTCm5j0ABPIqDw/dy6XrulaZ4Rk1y50xpGju9P1PT5I47GIKfmSZ0UjDBQEy2RnGKAOh8I+OrfxNNdwNb3MM0d7cQRZsZ0Ro43IUs7IFViBypIIPGO1XvGGtT6No8I08oNQ1C7isbPzF3KJJGxuI9FUM3/AayPBVxJpmp6zo1/Y30FxPrF5dQytaP5MsTuXVhKBs6HpnPtU/j+Mx/8ACO6mxAg0/WoJLhmHyojhotx9MGRee3WgDU1PxZpGiajFpt/PctdvCJgkNlNMdm7buJjQgDPHOKfL4q0SHw7Hrr6hH/ZsoHlzqC28k4CqoG4tnjaBnPGK43xekkHxMiu5JtetLY6N5Qn0ezaZnk84nYSI3xxz27c1S06w1W38H+Gr+fRrsw6Lq8s72vksbmeBvMVZzESW8zMm9l6k5IHagDvbHxVpV9ZXl2JJ7WCyG6d761ktti4J3fvFXjAPNR6P4y0XXL77HYzzpcMhljjubWW3aVBjLIJFG4c9qwPF11/wnXgDVLbw7bX0rxNBKUns3t/PCSh2jTzUG5sIexGSAepqDQ4tM1fxVpd4dT8VXt5Yb3jTUdPMMcBeMhg7GBByD03cnGM0AdrrOtWHh/S31DVpmhto2VGdYmkOWYKoCqCTkkDgVn2XjTRb/VbfTYXvYru5DGFLnTriASbRlsNJGo4HvVP4jW0954RENpBJPKb+zYJEhZiBcRknA9ACT7Cl161uJviH4SuIoJXhg+2ebIqErHmIAbj0GTwM0ALJ8RvDMZc/bpXjilaGedLSZo7dwxTEjhcJ8wIGSM8Hoc1uDV7FtYTSlnBvHtjdLGFJBiDBd27GOpHGc15No+p+V4C8U6KmjahdXmp3+oR2ggtHkjuGkd0BMgG1NpHzbiMAZ5rQ1TRdfh8U6HpGnJOGn8PLpl3qcSnbbKHUyOGxjcVQhe+WB7UAdxZ+NNB1HS73UdPvWu7WxuDbTvb28shEmQNqqqkv94cqCOetJZ+NNDvdP1C8S6kiTTIjNexz28kUsCBS2WjZQ3RSRgHOOK57wxbQeFLHxUjWd7aaeup7Lf7LavIyxeREgdFVSWAIPIB6H0NYltZXM2leP/7Pj1bVLa80hkhv9St3S4nm8qQeSilVLIMjGEHLHrQB6Xc65p1naWVzcXGyG/lihtm2Md7yfcGAOM++Md6oar4z0fRbyS31FryMQgGadbGZ4YQRkFpFQqOPU8d65DUfDOowaR4SlGqaxqBj1OweS1mWMpEoIJYhIwwC+pOB3qPxPNql1qHiSz1I688zIY9JstNhcW88RiHzPIF2/fZg+8gAY68UAehvrWnx31hZm5UzaijyWoQFhKqAFiGAxjDA8nnPFU/+Ev0P+x7zVRfbrCzl8ma5WFym7cF+UhfnG4gZXIznng159L4V1LXtK+HenTSajpyJpM0V9NBGVkiBgiHlsxHyFiMc89RVvV11M/B/VtAuNKlOoaQIbcLZ2rBLtFkQpJEoGDlRkqPunPTigDvbrxHpNl4isdCubxU1O/R3trfYxLqoJY5AwvCnqRnBxVXRtZuLjxHrWi6gF8+xkSaBlGBJbyjKH6hldT/ug9646z0LUW8Z+FvEWq2cv9p395cz3mELCzh+yyLDCSOFCggH1dm9a39Jia8+LGv6jEMW9pY22nsw6PLlpWH1VXT/AL6FAHX1jeMf+RF13/sHXH/otq2axvGP/Ii67/2Drj/0W1Nbl0/jXqfJ9FFFbn2YUUUUAFFFFABRRRQAUUUUAFFFFABRRRQAUUUUAFFFFABRRRQAUUUUAFFFFABRRRQAUUUUAFFFFABRRRQAUUUUAFFFFABRRRQAUUUUAFFFFABRRRQAUUUUAFFFFABRRRQAUUUUAFFFFABRRRQAUUUUAFFFFABRRRQAUUUUAFFFFABRRRQAUUUUAFFFFABRRRQAUUUUAfVOl/8AID07/rzh/wDQBVmq2l/8gPTv+vOH/wBAFWazPip/EwooopkhWuOgrIrXHQVEgCiiipGFFFFABRRRQAUUUUAFFFFAHIeN9d0PR2iTU9CbW714JJkgitUlZIUwXdmfhUGR36noaTw5BoWn+LJE0azl06XUtMivmtolVbZxuILhR0kG4AnABBHXsvjXwrqusO194bu7WC/ksZtPmjvVYxSwye68qykZB56nIqnoMLaBrlpL411zSYtVmtE07T7G3k2r5YYZwXwzuzbRwAOAMUAd3RRRQAUUUUAFFFFABRRRQAVDd2lvf2ctpewpPbzIUkikXcrqeoIqaigAAAAAGAOgFFFFABRRRQAUUUUAUNG0a10Kxe0sd/lvPLOxkbJLyOXb9WNX6KKACiiigAooooAKKKKACoba0t7RZBawpEJJGlfYuNzscsx9ST3qaigArG8Y/wDIi67/ANg64/8ARbVs0yYA28gYBgVOQRkHigqL5ZJnxzRX1f8AZ7f/AJ9bf/vyv+FH2e3/AOfW3/78r/hW1z2v7VX8n4nyhRX1f9nt/wDn1t/+/K/4UfZ7f/n1t/8Avyv+FFw/tVfyfifKFFfV/wBnt/8An1t/+/K/4UfZ7f8A59bf/vyv+FFw/tVfyfifKFFfV/2e3/59bf8A78r/AIUfZ7f/AJ9bf/vyv+FFw/tVfyfifKFFfV/2e3/59bf/AL8r/hR9nt/+fW3/AO/K/wCFFw/tVfyfifKFFfV/2e3/AOfW3/78r/hR9nt/+fW3/wC/K/4UXD+1V/J+J8oUV9X/AGe3/wCfW3/78r/hR9nt/wDn1t/+/K/4UXD+1V/J+J8oUV9ZTWtskzKtrbgA8fuV/wAKZ9nt/wDn1t/+/K/4Ucwf2qv5Px/4B8oUV9X/AGe3/wCfW3/78r/hR9nt/wDn1t/+/K/4UXD+1V/J+J8oUV9X/Z7f/n1t/wDvyv8AhR9nt/8An1t/+/K/4UXD+1V/J+J8oUV9X/Z7f/n1t/8Avyv+FH2e3/59bf8A78r/AIUXD+1V/J+J8oUV9X/Z7f8A59bf/vyv+FH2e3/59bf/AL8r/hRcP7VX8n4nyhRX1f8AZ7f/AJ9bf/vyv+FH2e3/AOfW3/78r/hRcP7VX8n4nyhRX1f9nt/+fW3/AO/K/wCFH2e3/wCfW3/78r/hRcP7VX8n4nyhRX1kbW2+zhvstvndj/Ur/hTPs9v/AM+tv/35X/CjmD+1V/J+P/APlCivq/7Pb/8APrb/APflf8KPs9v/AM+tv/35X/Ci4f2qv5PxPlCivq/7Pb/8+tv/AN+V/wAKPs9v/wA+tv8A9+V/wouH9qr+T8T5Qor6v+z2/wDz62//AH5X/Cj7Pb/8+tv/AN+V/wAKLh/aq/k/E+UKK+r/ALPb/wDPrb/9+V/wo+z2/wDz62//AH5X/Ci4f2qv5PxPlCivq/7Pb/8APrb/APflf8KPs9v/AM+tv/35X/Ci4f2qv5PxPlCivq/7Pb/8+tv/AN+V/wAKPs9v/wA+tv8A9+V/wouH9qr+T8T5Qor6yhtbZ5MNa25GD/yxX0+lM+z2/wDz62//AH5X/CjmD+1V/J+P/APlCivq/wCz2/8Az62//flf8KPs9v8A8+tv/wB+V/wouH9qr+T8T5Qor6v+z2//AD62/wD35X/Cj7Pb/wDPrb/9+V/wouH9qr+T8T5Qor6v+z2//Prb/wDflf8ACj7Pb/8APrb/APflf8KLh/aq/k/E+UKK+r/s9v8A8+tv/wB+V/wo+z2//Prb/wDflf8ACi4f2qv5PxPlCivq/wCz2/8Az62//flf8KPs9v8A8+tv/wB+V/wouH9qr+T8T5Qor6v+z2//AD62/wD35X/Cj7Pb/wDPrb/9+V/wouH9qr+T8T5Qor6v+z2//Prb/wDflf8ACnzWtsrgLa24+UH/AFK/4Ucwf2qv5Px/4B8m0V9X/Z7f/n1t/wDvyv8AhR9nt/8An1t/+/K/4UXD+1V/J+J8oUV9X/Z7f/n1t/8Avyv+FH2e3/59bf8A78r/AIUXD+1V/J+J8oUV9X/Z7f8A59bf/vyv+FH2e3/59bf/AL8r/hRcP7VX8n4nyhRX1f8AZ7f/AJ9bf/vyv+FH2e3/AOfW3/78r/hRcP7VX8n4nyhRX1f9nt/+fW3/AO/K/wCFH2e3/wCfW3/78r/hRcP7VX8n4nyhRX1f9nt/+fW3/wC/K/4UfZ7f/n1t/wDvyv8AhRcP7VX8n4nyhRX1f9nt/wDn1t/+/K/4U8Wtsbdm+y2+QwH+pX/CjmD+1V/J+P8AwD5Nor6v+z2//Prb/wDflf8ACj7Pb/8APrb/APflf8KLh/aq/k/E+UKK+r/s9v8A8+tv/wB+V/wo+z2//Prb/wDflf8ACi4f2qv5PxIdL/5Aenf9ecP/AKAKs0pOcDAAAAAAwAKSpPDk7u4UUUUxBWuOgrIrXHQVEgCiiipGFFFFABRRRQAUUUUAFFFFAHnfjrQkv/GVlfaj4Sn8SafHYPFshMeYpDIDnDOuflB6VQ8Gy+GtN+IzwaXo8nhqSXTAslpex+S8jmUbduSQ/cDaTXVeIdU1qbxDbeHvDc1nZ3Mls13PeXcZk8tA4UKiAjcxJPU4AHvVXR21P/hLv7H8XxaXqlxFa/bbLUYLbY6hXVSrK2drbiCCp/lQB2dFFFABRXJ6l4r1mPxhcaDoWgW+oPb2kd1JNPqH2cAOzKAB5bZ+761sHW4tO0WK+8UyWWjO3EiyXamNGzwBIwXPHsKANSiqg1XTzp6Xwv7Y2chAS485fLYk4GGzg5PA96rr4k0N7Ke8XWLA2ts/lzXH2lPLjbGdrNnAPI4z3oA06Kp22saZeac2oWmo2k9kgJa5inVo1A65YHHFZkvjbw9/Yuo6jY6xYX0enwtLKLe7RsYHAyDxk8D3NAG/RWV4f8R6b4l0yK70u8t5y0SSSxRTLI0JYZCttPB6jn0NRanrr2viTStFsoVmub3fNMWJxBboPmc47liij3b2oA2qKoahr2j6RIkerarY2LuNyLc3KRlh6gMRmibXdIt9Nj1CfVLKKylIEdy9wgjc88BicHofyoAv0VVtdV0++s2u7K+tri2QEtNDMrooHJywOKr6X4j0XXHkTRtXsb9o+XW1uEkKj1O0nj3oA0qKiubmCztpLi8njt4IxueWVwqoPUk8Cs618VeHr66S2ste0y4nkOEiivI3Zj6AA5NAGtRWXc+JtBs5xDd61p8EpkMWyS6RTvABK4J6gEce49avvdW8V1FbSTxJPMGMUTOA0gXG4qOpxkZx0yKAJaKqNq+mr9r3ahaj7EAbrMy/6OCMjfz8vHPOKi07X9H1iOSTSdVsr5Iv9Y1tcJIE69cE46GgDQoqs2pWKael+97brZuFK3BlURsGICkNnBySAPXIqrqPiTQ9HuY7bVtYsLKeXBSK4uUjZgeMgE5x70AadFQyXdtEYRLcRIbhtkIZwPMbBOF9TgE8dhTRf2ZkuIxdQF7UBp18wZhBBILD+HgHr6UAWKKzdL8R6LrjyJo2r2N+0fLra3CSFR6naTx71Do+uHUNW1fTLmNYbvTZwuwNnzIXUNHIPryD7qaANis7xDdy2HhjVLy2IWa3s5ZYyRkBlQkcd+RWjWR4t/5ErW/+wfP/AOi2oNKSTqRT7o8Q/wCFreK/+fyD/wABY/8ACj/ha3iv/n8g/wDAWP8AwrjKKi7PuvqeG/59r7kdn/wtbxX/AM/kH/gLH/hR/wALW8V/8/kH/gLH/hXGUUXYfU8N/wA+19yOz/4Wt4r/AOfyD/wFj/wo/wCFreK/+fyD/wABY/8ACuMoouw+p4b/AJ9r7kdn/wALW8V/8/kH/gLH/hR/wtbxX/z+Qf8AgLH/AIVxlFF2H1PDf8+19yOz/wCFreK/+fyD/wABY/8ACj/ha3iv/n8g/wDAWP8AwrjKKLsPqeG/59r7kdn/AMLW8V/8/kH/AICx/wCFH/C1vFf/AD+Qf+Asf+FcZRRdh9Tw3/Ptfcjs/wDha3iv/n8g/wDAWP8Awo/4Wt4r/wCfyD/wFj/wrjKKLsPqeG/59r7kdmfiv4sJ5vYT/wBu0f8AhR/wtbxX/wA/kH/gLH/hXGUUXYfU8N/z7X3I7P8A4Wt4r/5/IP8AwFj/AMKP+FreK/8An8g/8BY/8K4yii7D6nhv+fa+5HZ/8LW8V/8AP5B/4Cx/4Uf8LW8V/wDP5B/4Cx/4VxlFF2H1PDf8+19yOz/4Wt4r/wCfyD/wFj/wo/4Wt4r/AOfyD/wFj/wrjKKLsPqeG/59r7kdn/wtbxX/AM/kH/gLH/hR/wALW8V/8/kH/gLH/hXGUUXYfU8N/wA+19yOz/4Wt4r/AOfyD/wFj/wo/wCFreK/+fyD/wABY/8ACuMoouw+p4b/AJ9r7kdn/wALW8V/8/kH/gLH/hR/wtbxX/z+Qf8AgLH/AIVxlFF2H1PDf8+19yOz/wCFr+LMY+2w4/69o/8ACj/ha3iv/n8g/wDAWP8AwrjKKLsPqeG/59r7kdn/AMLW8V/8/kH/AICx/wCFH/C1vFf/AD+Qf+Asf+FcZRRdh9Tw3/Ptfcjs/wDha3iv/n8g/wDAWP8Awo/4Wt4r/wCfyD/wFj/wrjKKLsPqeG/59r7kdn/wtbxX/wA/kH/gLH/hR/wtbxX/AM/kH/gLH/hXGUUXYfU8N/z7X3I7P/ha3iv/AJ/IP/AWP/Cj/ha3iv8A5/IP/AWP/CuMoouw+p4b/n2vuR2f/C1vFf8Az+Qf+Asf+FH/AAtbxX/z+Qf+Asf+FcZRRdh9Tw3/AD7X3I7P/ha3iv8A5/IP/AWP/Cj/AIWt4r/5/IP/AAFj/wAK4yii7D6nhv8An2vuR2Y+K/iwdL2Ef9u0f+FH/C1vFf8Az+Qf+Asf+FcZRRdh9Tw3/Ptfcjs/+FreK/8An8g/8BY/8KP+FreK/wDn8g/8BY/8K4yii7D6nhv+fa+5HZ/8LW8V/wDP5B/4Cx/4Uf8AC1vFf/P5B/4Cx/4VxlFF2H1PDf8APtfcjs/+FreK/wDn8g/8BY/8KP8Aha3iv/n8g/8AAWP/AArjKKLsPqeG/wCfa+5HZ/8AC1vFf/P5B/4Cx/4Uf8LW8V/8/kH/AICx/wCFcZRRdh9Tw3/Ptfcjs/8Aha3iv/n8g/8AAWP/AAo/4Wt4r/5/IP8AwFj/AMK4yii7D6nhv+fa+5HZ/wDC1vFf/P5B/wCAsf8AhR/wtbxX/wA/kH/gLH/hXGUUXYfU8N/z7X3I7P8A4Wt4r/5/IP8AwFj/AMKD8V/Fh63sP/gNH/hXGUUXYfU8N/z7X3I7P/ha3iv/AJ/IP/AWP/Cj/ha3iv8A5/IP/AWP/CuMoouw+p4b/n2vuR2f/C1vFf8Az+Qf+Asf+FH/AAtbxX/z+Qf+Asf+FcZRRdh9Tw3/AD7X3I7P/ha3iv8A5/IP/AWP/Cj/AIWt4r/5/IP/AAFj/wAK4yii7D6nhv8An2vuR2f/AAtbxX/z+Qf+Asf+FH/C1vFf/P5B/wCAsf8AhXGUUXYfU8N/z7X3I7P/AIWt4r/5/IP/AAFj/wAKP+FreK/+fyD/AMBY/wDCuMoouw+p4b/n2vuR2f8AwtbxX/z+Qf8AgLH/AIUf8LW8V/8AP5B/4Cx/4VxlFF2H1PDf8+19yOz/AOFreK/+fyD/AMBY/wDCj/ha/izGPtsOP+vaP/CuMoouw+p4b/n2vuR2f/C1vFf/AD+Qf+Asf+FH/C1vFf8Az+Qf+Asf+FcZRRdh9Tw3/Ptfcjs/+FreK/8An8g/8BY/8KP+FreK/wDn8g/8BY/8K4yii7D6nhv+fa+5HZ/8LW8V/wDP5B/4Cx/4V7BoN9PqfhnTL28YNPcWyySMFCgk57Cvmyvovwj/AMiRov8A15p/WrjueLnFClSpRcIpa9Ea9FFFanzQVrjoKyK1x0FRIAoooqRhRRRQAUUUUAFFFFABRRRQB578StQ8OxahptlrVtrP2+VXNndaQSkqdAVDhh1445q34Eg06G/vHttI8RQ3ksYM1/rqszyqDwgdmPA3E4GKd8QNZ1G2SLSrPwvJrNteRsZ52tTcxQ4OADEMbyeuCy/Wk+G7fYtMfSfsevJ5ZM3m6paeTGucDy4huO1R2XJxzzQB21FFFAHnN1oUWufGTVUmvdRtBFpFsQbC9kty2ZJPvFCM/jS6mtj4f+KOizeILrGlQ6NLBZXWpThkS4EilyXc/fMYHJ5IB6849FwM5xz60yWGOeMpNGsiHqrqCD+FAHjF5bwXvw+8Tm1j/wCJFf8AiSA2W0bVkQzwrIyY/gLhsEe9dB8QbCKz8QeFSG03TNGt3nBku7LzbWKcqqxF0DoBxvCsTgH3Ir0kIoQKFAVcYAHAx0odFkQq6hlPUEZBoA8sj0vRL7SfF0l74z0ma21AWxu59NgEUFpIGIV2zI6ksQoYEjO3nrUltrUmrr4i8PK2k6y0WiySRanpMXytkFVicAsFfIBADHjnAr0xIIY4fKjiRI8Y2KoC4+lENvDbR7LeJIkznbGoUZ+goA5r4e6ro2o+ENOj0e6tJ5beyt0ukgYbom2AYcDkHIbg+hqGUND8aLaSfcI7nQZI7ck/LvSdWcD3IZD9FrrlRVJKqAT1IHWql9pVpqNzZXFyhM1jN50EinBVtpUjPoQxBHf8KAOCk8TeGpvjHfy6hq+lwxaZpa2TG7uY0zM0xZlXcedoQBvQnFczDfWz/BnwG8OpWNuLfVYEluLjbJFbuElz5g3L0yDgkdq9h0/R7PTYZYraLKy3Etw2/k75HZ2/DcxosNHs9O+1/Z4+Lu5a5kDnI3kAHHoMKKAPMdD1hrO28e3Vith4kaO2S4NxYoFtJz5bL5XljIyApZsMxYNjI4FQWt/Hc/EvwZPba/p2sSSNcLKdMtFjjt1aBmCMQSeccKxz8hNexKoVcKAB6AUyOCGL/VRInJb5VA5PU0Acr8Vv+SU+IP8Ar0P8xUXjK3gg1zweYYY4ydbGSigZ/wBHmrsmUMuGAI9CKCoLAkAkdDjpQB5Bpep+FbC9+IMXiRrGO4uNRmAW7Kq1zEEGI03D5sMW4GSCw45GYZr3VvD9v8OEa2e41qTSbq2t4HznznWAJvPYKOWJ6BTXp2j+HbfSZdRk3faGvdQe/wD3iD90zKowPpt6+9a5UFgSASOhx0oA818G6fp3hTXfGNvql1E1vCtlJeXd2QBLI8bM8jk8fM7E8+tU9Gmim8da466lp+tyNobn7ZpUaxw267+InVS2XOMglycL0A5PqxRWVlZQQ33gR1+tRw20FvGY7eCOJGOSqIFBP0FAHjc9l4gT4H6NPcazZy6b5WmkWi6cVkCmaHaPN80jI452846DNdD4l1qOTxbrGmahqml6Db29pEVNzZpNPqKuCTt3kBlUjYEUE5J9QK9H2jaBgYHQY6U14Y5HR5I1ZozlGZQSp9vSgDxfTf7Tvfh98No7C4W2vnv5Yo5p0L+QBHOudvGSqjgdMgA8V0Wk6o3hz4f+INMbTEude0eKSW8t3Bb+0Cy5Fyckl1cdRnjaV4wBXo4jQYwijb0wOlOwM5xz60AeP2N9DP8AFPwhJa6/p+sSSrdLM2mWixRQoYGdUZlZiclQQrHI25xXY6cpn+MOtz2+fJt9Ktbec54MxeRwPqEI/wC+h611ccEMX+qiROS3yqByepqCx0y2057p7ZTvu52uJnY5LuQB19AAAB2AAoAt1keLf+RK1v8A7B8//otq16yPFv8AyJWt/wDYPn/9FtQa0f4kfVHy7RRRUH6GFFFFABRRRQAUUUUAFFFFABRRRQAUUUUAFFFFABRRRQAUUUUAFFFFABRRRQAUUUUAFFFFABRRRQAUUUUAFFFFABRRRQAUUUUAFFFFABRRRQAUUUUAFFFFABRRRQAUUUUAFFFFABRRRQAUUUUAFFFFABRRRQAUUUUAFFFFABRRRQAUUUUAFFFFABRRRQAUUUUAFFFFABX0X4R/5EjRf+vNP6186V9F+Ef+RI0X/rzT+tVDc8HO/wCDH1/Q16KKK2PlArXHQVkVrjoKiQBRRRUjCiiigAooooAKKKKACiiigChqOu6RpDomrarZWLSDKLc3CRlh6jcRmk0/X9H1eZotK1axvpEXcyW1ykhUdMkKTxXJeKmtrP4gWl9qnh++1ez/ALLeFTbaa12EkMqnnAOOAa1/C+o6Re3c66X4cvtIkVAWkudJa0DjPQMVGfpQB01FFFABRRRQAUUUUAFFFFABRRRQAUUUUAFFFFABRRRQAUUUUAFFFFABRRRQAUUUUAFFFFABUN5DFc2M8FxGssUkbI6N0ZSMEH8Kmqnq921hol9doqu1vbyShW6MVUnB/KjYqKbkktznP+EO8M/9AGy/74P+NH/CHeGf+gDZf98H/GuR/wCFp33/AEC7P83/AMaP+Fp33/QLs/zf/GsvrFI9n6hmPd/+BHXf8Id4Z/6ANl/3wf8AGj/hDvDP/QBsv++D/jXI/wDC077/AKBdn+b/AONH/C077/oF2f5v/jR9YpB9QzHu/wDwI67/AIQ7wz/0AbL/AL4P+NH/AAh3hn/oA2X/AHwf8a5H/had9/0C7P8AN/8AGj/had9/0C7P83/xo+sUg+oZj3f/AIEdd/wh3hn/AKANl/3wf8aP+EO8M/8AQBsv++D/AI1yP/C077/oF2f5v/jR/wALTvv+gXZ/m/8AjR9YpB9QzHu//Ajrv+EO8M/9AGy/74P+NH/CHeGf+gDZf98H/GuR/wCFp33/AEC7P83/AMaP+Fp33/QLs/zf/Gj6xSD6hmPd/wDgR13/AAh3hn/oA2X/AHwf8aP+EO8M/wDQBsv++D/jXI/8LTvv+gXZ/m/+NH/C077/AKBdn+b/AONH1ikH1DMe7/8AAjrv+EO8M/8AQBsv++D/AI0f8Id4Z/6ANl/3wf8AGuR/4Wnff9Auz/N/8aP+Fp33/QLs/wA3/wAaPrFIPqGY93/4EdhL4L8MRyso0GywPVD/AI03/hDvDP8A0AbL/vg/41yTfFW/ZiW0yzJPu/8AjSf8LTvv+gXZ/m/+NL6xSH9QzHu//Ajrv+EO8M/9AGy/74P+NH/CHeGf+gDZf98H/GuR/wCFp33/AEC7P83/AMaP+Fp33/QLs/zf/Gn9YpC+oZj3f/gR13/CHeGf+gDZf98H/Gj/AIQ7wz/0AbL/AL4P+Ncj/wALTvv+gXZ/m/8AjR/wtO+/6Bdn+b/40fWKQfUMx7v/AMCOu/4Q7wz/ANAGy/74P+NH/CHeGf8AoA2X/fB/xrkf+Fp33/QLs/zf/Gj/AIWnff8AQLs/zf8Axo+sUg+oZj3f/gR13/CHeGf+gDZf98H/ABo/4Q7wz/0AbL/vg/41yP8AwtO+/wCgXZ/m/wDjR/wtO+/6Bdn+b/40fWKQfUMx7v8A8COu/wCEO8M/9AGy/wC+D/jR/wAId4Z/6ANl/wB8H/GuR/4Wnff9Auz/ADf/ABo/4Wnff9Auz/N/8aPrFIPqGY93/wCBHXf8Id4Z/wCgDZf98H/Gj/hDvDP/AEAbL/vg/wCNcj/wtO+/6Bdn+b/40f8AC077/oF2f5v/AI0fWKQfUMx7v/wI7D/hC/DHkh/7Bss7sfcP+NN/4Q7wz/0AbL/vg/41yX/C1b/bt/syzxnOMv8A40n/AAtO+/6Bdn+b/wCNL6xSH9QzHu//AAI67/hDvDP/AEAbL/vg/wCNH/CHeGf+gDZf98H/ABrkf+Fp33/QLs/zf/Gj/had9/0C7P8AN/8AGn9YpC+oZj3f/gR13/CHeGf+gDZf98H/ABo/4Q7wz/0AbL/vg/41yP8AwtO+/wCgXZ/m/wDjR/wtO+/6Bdn+b/40fWKQfUMx7v8A8COu/wCEO8M/9AGy/wC+D/jR/wAId4Z/6ANl/wB8H/GuR/4Wnff9Auz/ADf/ABo/4Wnff9Auz/N/8aPrFIPqGY93/wCBHXf8Id4Z/wCgDZf98H/Gj/hDvDP/AEAbL/vg/wCNbLHO1sAblBwPcUldFkeV9YrL7b+9mP8A8Id4Z/6ANl/3wf8AGj/hDvDP/QBsv++D/jWxRRZB9Yrfzv72Y/8Awh3hn/oA2X/fB/xo/wCEO8M/9AGy/wC+D/jWxRRZB9Yrfzv72ZMXgvww74Og2XQn7h/xpv8Awh3hn/oA2X/fB/xrdt/9b/wE/wAqiosg+sVv5397Mf8A4Q7wz/0AbL/vg/40f8Id4Z/6ANl/3wf8a2KKLIPrFb+d/ezH/wCEO8M/9AGy/wC+D/jR/wAId4Z/6ANl/wB8H/GtiiiyD6xW/nf3sx/+EO8M/wDQBsv++D/jR/wh3hn/AKANl/3wf8a2KKLIPrFb+d/ezH/4Q7wz/wBAGy/74P8AjR/wh3hn/oA2X/fB/wAa2KKLIPrFb+d/ezH/AOEO8M/9AGy/74P+NH/CHeGf+gDZf98H/GtiiiyD6xW/nf3sx/8AhDvDP/QBsv8Avg/40f8ACHeGf+gDZf8AfB/xrYoosg+sVv5397Mf/hDvDP8A0AbL/vg/40+XwX4YRgBoNl0B+4f8a1aluP8AWD/dH8qLIPrFb+d/ezC/4Q7wz/0AbL/vg/40f8Id4Z/6ANl/3wf8a2KKLIPrFb+d/ezH/wCEO8M/9AGy/wC+D/jR/wAId4Z/6ANl/wB8H/GtiiiyD6xW/nf3sx/+EO8M/wDQBsv++D/jR/wh3hn/AKANl/3wf8a2KKLIPrFb+d/ezH/4Q7wz/wBAGy/74P8AjR/wh3hn/oA2X/fB/wAa2KKLIPrFb+d/ezH/AOEO8M/9AGy/74P+NH/CHeGf+gDZf98H/GtiiiyD6xW/nf3sx/8AhDvDP/QBsv8Avg/40f8ACHeGf+gDZf8AfB/xrYoosg+sVv5397Mf/hDvDP8A0AbL/vg/408eC/DBhZ/7BssggfcP+NatSr/x6v8A7wosg+sVv5397ML/AIQ7wz/0AbL/AL4P+NH/AAh3hn/oA2X/AHwf8a2KKLIPrFb+d/ezH/4Q7wz/ANAGy/74P+NH/CHeGf8AoA2X/fB/xrYoosg+sVv5397Mf/hDvDP/AEAbL/vg/wCNasMMNrbRW9rEsMMK7I416KPSn0U7IiVWpNWlJv5hRRRTMwrXHQVkVrjoKiQBRRRUjCiiigAooooAKKKKACiiigDj/HNp4yeS1u/CGqPDbxAi6s4YIWll5+8jSqVyB/CSM+tHge9mv3uJJ/FV3qzouySxvLGK1ltXzzuRVVgeMc8emap2kfhvx9o1rqfimKzN3G88IQXbR7Akzr0DDqFB5rZ8N+GfCuiX09x4bt7eO5ljCSvHcNKxUHODljxmgDo6KKKAOc1rxnb6P4gi0VNK1PUr2S1N3ssYkfbGH2ZO5174/OtfStQbU9PS6exu7AsSPIu0CyLg45AJHP1rhdcsr+/+OFtFperSaVMPDrs00cCSll+0r8uHBHUg568VJr1g934x8K+H/E16+oWEsF3JIJIwiX067dqyKmFwqsxA6HHSgD0KivGNZQ2HhT4k6PpkzLpNjJbizVGytvI6q0sanOcBiDjPBJ4HNafjXQItCfw/pujW0XkapfhNRe5u3h+3OkbGNZpQGY7mz2O44BoA9UpHYIjMeijJxXm2meD9bsYvEFrG2n+G9O1DT/Kggsr6SYW9xyPNXci7AQwB246Dv0j8PaTpWma1L4b1TwjY6dqF3p0oE9hOZYryEFN27OHBzjG4HocHk0AehaPqtrrmj2up6ezPa3UYkiZlKkqfY9Kg1fW4dIm0+3aN57nUbpbaCGPqTgszH0VVVmJ9veuY+EejaXZfD/Sb+ytIYru6s0FzMg+ZyOx/GresFv8AhbXhkTcQ/YL4w47y/us5/wCA5x+NAF3WfGlnoetWmm3en6mxu7mG2S5jtT5AeVtqgyEgdeoGSPSrniDxHZ+HLWCS6juLia6lEFta2qb5Z3wTtUZA6AnJIA9awfiVIi2vhwM6g/8ACR2BwT282rfi/QrvVrjRtU0S5tk1LSrlpbaO5YiKfchV0JXkfLk5APTpQBoaB4lttfkvII7a7sryxdUubS8jCyR7hlT8pKkEZwQT0rZrzjwcdUvPi14jvdQltX8qxt7eZLJmeGKTLFUDsAXYLyTgY34x66Hj2wtdV8SeD7DUYVuLSbUJvMhf7r4tpCMj6gGgDt6K83g0bTtA+Imt2ui2kdlA3hpJTHEMDeZZgW+uFH5VzVnY6Zpvwh8NeJNJdm1/zbOOG6WRvMnkMoRrcnPKbS67emB0oA9toryy71G7l+Ifirw5o9w8Wo6rPaL5qcm1txbr5s3sQCFX/aZaseD/AA/Zar8ILCwl06z1Jra7u2tbfUJGEZZbmZRuIDHhSexoA9LorxeR7i0+GGu2KZ+22fiG3RrXzSYIGM8BWGN8klAMZzyCW+UdK6a6udem+JnhIa7p9jZqPthj+yXrz7j5IzkNGmP160AehUV4R4quIx4Uu/HGjaRpek+XfMbW9e4kN9I6T7eQBj5irZQkgL9K6LxvL4jHxG1CPwtCWkbw9C1xIkoSWOIXEu4Q5B/esOFJ4GPXFAHqtFeY6x/Y83h/wXpujt5fhnU79VuGVyPNGxischzk7pAA2eSRzUdzBBomv+MdF0DMOlx+HDcTWke7yra4IkA2jOELIASBjOAfWgD1Ks3StZi1S41C28tobnT7kwTROcn7oZWH+yysCPy6g15X4WtJdA17wXcz2NnpFvqEBiBsbhpWvnaDI85WC7ezZAb5sDODmu204EfGTW/s/MR0i0NycdJfMm2D2+TNAHYVmeJf+RT1b/rym/8AQDWnWZ4l/wCRT1b/AK8pv/QDSlszWj/Ej6o+eqKKK8g/RAooooAKKKKACiiigAooooAKKKKACiiigAooooAKKKKACiiigAooooAKKKKACiiigAooooAKKKKACiiigAooooAKKKKAPoL+FP8AcX/0EUlL/Cn+4v8A6CKSvcWx+bS3YUUUUxBRRRQBLb/63/gJ/lUVS2/+t/4Cf5VFSAKKKKYBRRRQAUUUUAFFFFABRRRQAUUUUAFS3H+sH+6P5VFUtx/rB/uj+VICKiiimAUUUUAFFFFABRRRQAUUUUAFFFFABUq/8er/AO8KiqVf+PV/94UgIqKKKYBRRRQAUUUUAFFFFABWuOgrIrXHQVEgCiiipGFFFFABRRRQAUUUUAFFFFAHCeHPhloMWiIPEXh/TbnUWmmeWV4VcsGldly3f5StdLpHhXQfD80k2iaRZ2Eki7Xe3hCFhnODitaigAooooArf2faHVBqX2aP7aIfIFxt+cR7t23PpkZxUeq6NpuuWottYsYL2FW3qkyBgrYxkehwTV2igDMh8N6Lb6EdFg0y2j00jBtVjARuc8jvyM5NWr/T7PVbJ7PUraK6tpMb4pkDK2DkcH3FWaKAMSz8GeG7C0urW00SxjhvF2XC+SD5q9lYnkgdh0FS6R4V0LQJ5JtG0q2tJpF2PJGnzFc527uuPbpWtRQBnad4f0fSLu4utL0y0s57rHnSQQqhkx64+tM1nQ4dYksJjK0Fzp90tzBMgBKkZDLz/CyllI9/atSigDG1Xwf4d1y8+16zotlfXG0J5s8Idto6DJ7cmnXPhPQLzQotFudItJNNhO6K1MQ2IeeQOx5PI9TWvRQBU0zStP0WxSz0mygsrZORFBGEXPrgd/epJ7G1ubi3uLiCOSa1YvA7LkxsVKkj0OCR+NT0UAUbzSre5N1PHDEt7Pam2NwV+bZyQpPoCxOPesTwx4D0jQ9P0iS502xk1ewtI4GvI4uSwQKWBI6nHXriupooAqQ6VYW+qXGpQWcKXt0qrPcKgDyBRgAnqQBVK88JaBf6bFYXek2slrC7SRReXgIzEliMdMljnHXNbFFAGZB4b0W20hNLttLtYrBHEi26RAJvBDBsdzkA59RVyWxtZ7y3u5oI3uLbd5MrLlo9ww2D2yBip6KAMSbwX4auLy4uptCsHnut3nOYF/ebvvE+57nqa1BY2o1Br8QRi7aIQtPt+YoCSFz6ZJOPep6KAM6Tw9pEumXGnSabbNZ3MjSzQeWNjuTuLEeuec+tM0/w1oulabcWGm6Xa21rc7vPiijAEuRg7vXjjmtSigDG0zwh4d0a7W60rRLC0uFUqs0VuquoPUBsZAqfStGj0y71K681prjUbnz5ZGAGAFCIgx2VVA+uT3rSooAKzPEv/Ip6t/15Tf8AoBrTqC/t47zTrm2nBMU0TRuAcEqQQeaT1Vi6clGak+jPm6ivXf8AhX3hz/nhdf8Af/8A+tR/wr7w5/zwuv8Av/8A/Wrh+q1D63+2cL5/d/wTyKivXf8AhX3hz/nhdf8Af/8A+tR/wr7w5/zwuv8Av/8A/Wo+q1A/tnC+f3f8E8ior13/AIV94c/54XX/AH//APrUf8K+8Of88Lr/AL//AP1qPqtQP7Zwvn93/BPIqK9d/wCFfeHP+eF1/wB//wD61H/CvvDn/PC6/wC//wD9aj6rUD+2cL5/d/wTyKivXf8AhX3hz/nhdf8Af/8A+tR/wr7w5/zwuv8Av/8A/Wo+q1A/tnC+f3f8E8ior13/AIV94c/54XX/AH//APrUf8K+8Of88Lr/AL//AP1qPqtQP7Zwvn93/BPIqK9d/wCFfeHP+eF1/wB//wD61H/CvvDn/PC6/wC//wD9aj6rUD+2cL5/d/wTyKivX5Ph34cjkK+TcnHfz/8A61N/4V94c/54XX/f/wD+tR9WqB/bOF8/u/4J5FRXrv8Awr7w5/zwuv8Av/8A/Wo/4V94c/54XX/f/wD+tR9VqB/bOF8/u/4J5FRXrv8Awr7w5/zwuv8Av/8A/Wo/4V94c/54XX/f/wD+tR9VqB/bOF8/u/4J5FRXrv8Awr7w5/zwuv8Av/8A/Wo/4V94c/54XX/f/wD+tR9VqB/bOF8/u/4J5FRXrv8Awr7w5/zwuv8Av/8A/Wo/4V94c/54XX/f/wD+tR9VqB/bOF8/u/4J5FRXrv8Awr7w5/zwuv8Av/8A/Wo/4V94c/54XX/f/wD+tR9VqB/bOF8/u/4J5FRXrv8Awr7w5/zwuv8Av/8A/Wo/4V94c/54XX/f/wD+tR9VqB/bOF8/u/4J5FRXr/8Awrvw55QfybnrjHn/AP1qb/wr7w5/zwuv+/8A/wDWo+rVA/tnC+f3f8E8ior13/hX3hz/AJ4XX/f/AP8ArUf8K+8Of88Lr/v/AP8A1qPqtQP7Zwvn93/BPIqK9d/4V94c/wCeF1/3/wD/AK1H/CvvDn/PC6/7/wD/ANaj6rUD+2cL5/d/wTyKivXf+FfeHP8Anhdf9/8A/wCtR/wr7w5/zwuv+/8A/wDWo+q1A/tnC+f3f8E6X+FP9xf/AEEUlK2ONuQAABn2GKSvTWx8e9WFFFFMQUUUUAS2/wDrf+An+VRVLb/63/gJ/lUVIAooopgFFFFABRRRQAUUUUAFFFFABRRRQAVLcf6wf7o/lUVS3H+sH+6P5UgIqKKKYBRRRQAUUUUAFFFFABRRRQAUUUUAFSr/AMer/wC8KiqVf+PV/wDeFICKiiimAUUUUAFFFFABRRRQAVrjoKyK1x0FRIAoooqRhRRRQAUUUUAFFFFABRRRQAUUUUAFFFVLfVLK71K8sLecPdWOz7RGAf3e9dy89ORzxQBbooooAKKCQASTgDqTXM2PxF8J6lcW8FrrMRe6YLB5kbxiUnoFLKASaAOmooooAKKKq6pqdro+l3GoahJ5dvbpvdsEn2AA5JJwABySQKALVFAOQOMexooAKKKKACiiigAooooAKKKKACiiigAooooAKKKp6dq1pqjXa2chZrO4a2nVlKlHXGRg+xBB7ggigC5Ve/uFtNNubh1LLDEzlQcEgAnFWKoa7/yLuo/9esv/AKAaUnZNlwSc0mcj/wAJ5Yf9A+4/7+D/AAo/4Tyw/wCgfcf9/B/hXC0V5H1ut3Pp/wCzcN/L+LO6/wCE8sP+gfcf9/B/hR/wnlh/0D7j/v4P8K4Wij63W7h/ZuG/l/Fndf8ACeWH/QPuP+/g/wAKP+E8sP8AoH3H/fwf4VwtFH1ut3D+zcN/L+LO6/4Tyw/6B9x/38H+FH/CeWH/AED7j/v4P8K4Wij63W7h/ZuG/l/Fndf8J5Yf9A+4/wC/g/wo/wCE8sP+gfcf9/B/hXC0UfW63cP7Nw38v4s7r/hPLD/oH3H/AH8H+FH/AAnlh/0D7j/v4P8ACuFoo+t1u4f2bhv5fxZ3X/CeWH/QPuP+/g/wo/4Tyw/6B9x/38H+FcLRR9brdw/s3Dfy/izvH8f2LuWbT58n/poP8Kb/AMJ5Yf8AQPuP+/g/wrhaKPrdbuH9m4b+X8Wd1/wnlh/0D7j/AL+D/Cj/AITyw/6B9x/38H+FcLRR9brdw/s3Dfy/izuv+E8sP+gfcf8Afwf4Uf8ACeWH/QPuP+/g/wAK4Wij63W7h/ZuG/l/Fndf8J5Yf9A+4/7+D/Cj/hPLD/oH3H/fwf4VwtFH1ut3D+zcN/L+LO6/4Tyw/wCgfcf9/B/hR/wnlh/0D7j/AL+D/CuFoo+t1u4f2bhv5fxZ3X/CeWH/AED7j/v4P8KP+E8sP+gfcf8Afwf4VwtFH1ut3D+zcN/L+LO6/wCE8sP+gfcf9/B/hR/wnlh/0D7j/v4P8K4Wij63W7h/ZuG/l/Fnef8ACf2Pl7P7PnxnP+sH+FN/4Tyw/wCgfcf9/B/hXC0UfW63cP7Nw38v4s7r/hPLD/oH3H/fwf4Uf8J5Yf8AQPuP+/g/wrhaKPrdbuH9m4b+X8Wd1/wnlh/0D7j/AL+D/Cj/AITyw/6B9x/38H+FcLRR9brdw/s3Dfy/izuv+E8sP+gfcf8Afwf4Uf8ACeWH/QPuP+/g/wAK4Wij63W7h/ZuG/l/Fndf8J5Yf9A+4/7+D/Cj/hPLD/oH3H/fwf4VwtFH1ut3D+zcN/L+LO6/4Tyw/wCgfcf9/B/hR/wnlh/0D7j/AL+D/CuFoo+t1u4f2bhv5fxZ3X/CeWH/AED7j/v4P8KP+E8sP+gfcf8Afwf4VwtFH1ut3D+zcN/L+LO8Tx/Yo2Rp8+cY/wBYP8Kb/wAJ5Yf9A+4/7+D/AArhaKPrdbuH9m4b+X8Wd1/wnlh/0D7j/v4P8KP+E8sP+gfcf9/B/hXC0UfW63cP7Nw38v4s9gDB445FG0SIr4JzjIzRTYf+PS2/64J/6CKdXtx1SPlpK0mgoooqiQooooAKKKKACiiigAqW4/1g/wB0fyqKpbj/AFg/3R/KkBFRRRTAKKKKACiiigAooooAKKKKACiiigAqVf8Aj1f/AHhUVSr/AMer/wC8KQEVFFFMAooooAKKKKACiiigArXHQVkVrjoKiQBRRRUjCiiigAooooAKKKKACiiigAooooAK43wx/wAlP8cf79j/AOk9dlXM3/gTTb7W7vVRe6tZ3V5s882OoywK+xQq5CEA4AoAzb37V4j+JN9ok2p31hYadp0UyxWU5geeSRnBcsvJVQoGM4z61z8PibV7rQNN0eXVZC0/iSXRpNWiYLLJDGWIIIGA7ABdwHqe+a7O48C6XcC2f7TqcV5bwtAt/FfSC4eNjkq0mcsM9M9O2Kj1bwtp9p4KXR9J0Bb63gdWitFujA27dkyCU8hxknOck96AMnTftem/FS+0VdYvL3T00P7Qlvc3BlaFzLg5J5PA43Enn0xXAWEmtXPwf8M2eqWVvaeGjcQm41OCbzZoUE2VYoQuwbsAsGbAOcdj6H4Q8JXVp4n1DXL+xfTxPZpZpFNfG7uJTu3PLJISf9kAAkADt0rpLPwvpVl4THhuO3L6YIGtzFIxYlGzkZ69zzQBxmt6lqeseP8AV9KWDxBJYaXbwBE0S5hgJklUsXdnkRjwAABkcNkdMtN54ml03wz4f1u4vdMm1LUJ4J7sSRrcvbxo7oCyEhXcKoJU54ODzmuouPA2lzfZJIZ7+zubS1S0S6tLt4pHhXojkHDD6jNR634atz4Ug02LT7rWfs8qyIZdQZblWBz5qzOdwcH3HXAwOKAMzw9JeWXxW1fRW1e7vrC20yCWGG4lLmFmdsgseWPfccnBAzxV3x4zvceFrY8QXGvQCbLYDBEeRVPr86KfqBVbwT4Wu9N8Qalrl/ZfYGu7eK3jgku2up2CFiZJpSTuYlgAASAqgdhje8U6G+v6L9ntplt72CaO6s52UsIpo2DKSB1BwQfYmgDkvF93qL/EVLC0XXLiFdHM62+kXSQkSeaQHbeygjHH8X0NVYfEOsal4X8L6cdXaC81PVJbK/vUXbLCsZkYxcgbZcIqZ24zkjqDXY6t4Psda1SPU7i5v7W9S3+zGWwvJICU3bsHaRnnmgeB/D6+HI9DjsfLs4ZfPj2SuJElznzRJneHyT82c9unFAGJ4u+1+BvAepXWiahqFxdzPDDA17cfaPId5Am4GQ8fezgnbkDoKr6DD4gsvFWnC2s/En9myiRNRbXLuCZR8hKOmyVirbgAQABg9OK6i18K2MOn3dneTXmpxXihJhqFy02VGcAZ4A57fU0zSvCNlpN5DcQ3mpzi3UpBDc38sscQIxwpPPHGTnA6UAUviPdXNp4MkeyuZrWWS8tIjLA5Rwr3EatgjkZBIrPuLKXQfiF4ZtrXVdUngvvtfnxXV68qtsiyvBOOpzXWavo9prlgLPUFZofNjlwrbfmRw68/VRRdaPaXmr2GpTqxudP8zyCGwB5ihWyO/AoA8xsf7X1HwT4o8QP4m1CO80u8vzaKlwViiWFiyrIuCH7jnI2kAAYzWneeN7iy1+w1GdZmW78NJcRaYjn97dSTRqiBf7xLbc9QM1Z0H4c202k3UXiGK6iNxqFzNNaw3rLDco0zMhkVGw3ylevOAAemK6i68K6TeeJLHXbi233thEYrY7jtjBzzt6Z5OD2oA5XwVFrOpaP4m0/xFqt7c3kOpbGktJvKdP3UUhjiOflXcSByOD1FZdrqmrWOi+OIJLvVLNrHSGuLOz1KfzrqA+XL++EoyCpKjA3sQVPTv3r+F7A2+oxwvd2zalci6nlt7l438wBQCrA8DCLx0NVbXwNo9vaapFL9qvJdWtzbXl1dXDSTSRlSu0MfujDHgYoA5rUPFesPpfhaMaVq+n/aNSsY5ryaSDZMrEbl+SVmO76fWoPFV5LqV9rs2gS+I2k0xSk11bailvaWsixhioR2AfAALZB+91Ga7y70CxvbLT7WdHMWnTwzwYcgh4vuZ9az9R8C6Nqd9dXM/wBsjF7/AMflvDeSRw3R2hQXjB2ngAe+Oc0AclqXjTWkh8CahYWlxqF1q2nTSvp9swRZ5jDGRuycBVLMcnoKnv8AV7pfgxd65aaxcz39z5csk+TGYHMqK0Sp/wAswvK468ZJJOa7G18LaZZtozQRuv8AYtu1vZ5kJ2oyqpz68KKr3ngnRr2x1eykilS21iRZbqKOUqpdcfMo/hJ2rkjrigDlD4i1TWPiloNzY3skfh2S6ubKGKM4S9aOCRpJTj7yh1Cr2+QkdedvTS1v8YdcghOYbnSrW5m64WUPIg9slVHPXgelba+GtLjk0dobfyl0UMLJI2IWMGMxkY7/ACk9aj0fQ2sNZ1nVLmRZLrU50OVzhIY12xpz6fMx93NAGzVDXf8AkXdR/wCvWX/0A1fqhrv/ACLuo/8AXrL/AOgGpn8LNKfxx9Txeiiivnz7YKKKKACiiigAooooAKKKKACiiigAooooAKKKKACiiigAooooAKKKKACiiigAooooAKKKKACiiigAooooAKKKKACiiigAooooAKKKKACiiigAooooAKKKKAPXof8Aj0tv+uCf+ginU2H/AI9Lb/rgn/oIp1fSx+FHw0/iYUUUVRIUUUUAFFFFABRRRQAVLcf6wf7o/lUVS3H+sH+6P5UgIqKKKYBRRRQAUUUUAFFFFABRRRQAUUUUAFSr/wAer/7wqKpV/wCPV/8AeFICKiiimAUUUUAFFFFABRRRQAVrjoKyK1x0FRIAoooqRhRRRQAUUUUAFFFFABRRRQAUUUUAFFFFABRRRQAUUUUAFFFFABRRRQAUUUUAFFFFABRRRQAUUUUAFFFFABRRRQAUUUUAFFFFABVe/t1u9Nubd2KLNEyFgM4BBGasVFcyLFaTSSEhERmYgZwAKTtbUcbp6HDf8IFZf9BGb/v0P8aP+ECsv+gjN/36H+NbH9v6V/z2l/79f/Xo/t/Sv+e0v/fr/wCvXLyYTy+89L6xjvP7jH/4QKy/6CM3/fof40f8IFZf9BGb/v0P8a2P7f0r/ntL/wB+v/r0f2/pX/PaX/v1/wDXo5MJ5feH1jHef3GP/wAIFZf9BGb/AL9D/Gj/AIQKy/6CM3/fof41sf2/pX/PaX/v1/8AXo/t/Sv+e0v/AH6/+vRyYTy+8PrGO8/uMf8A4QKy/wCgjN/36H+NH/CBWX/QRm/79D/Gtj+39K/57S/9+v8A69H9v6V/z2l/79f/AF6OTCeX3h9Yx3n9xj/8IFZf9BGb/v0P8aP+ECsv+gjN/wB+h/jWx/b+lf8APaX/AL9f/Xo/t/Sv+e0v/fr/AOvRyYTy+8PrGO8/uMf/AIQKy/6CM3/fof40f8IFZf8AQRm/79D/ABrpLe4gu7UT2zMyFivzLjkf/rp9arDUJK6Rk8diouzl+RzH/CBWX/QRm/79D/Gj/hArL/oIzf8Afof4109FP6rR7C+v4n+b8jmn8AWaOVbUZsj/AKZD/Gm/8IFZf9BGb/v0P8a6y5/4+H+tRUfVaPYPr+J/m/I5j/hArL/oIzf9+h/jR/wgVl/0EZv+/Q/xrp6KPqtHsH1/E/zfkcx/wgVl/wBBGb/v0P8AGj/hArL/AKCM3/fof4109FH1Wj2D6/if5vyOY/4QKy/6CM3/AH6H+NH/AAgVl/0EZv8Av0P8a6eij6rR7B9fxP8AN+RzH/CBWX/QRm/79D/Gj/hArL/oIzf9+h/jXT0UfVaPYPr+J/m/I5j/AIQKy/6CM3/fof40f8IFZf8AQRm/79D/ABrp6KPqtHsH1/E/zfkcx/wgVl/0EZv+/Q/xo/4QKy/6CM3/AH6H+NdPRR9Vo9g+v4n+b8jmv+EAs/L3/wBozYzj/VD/ABpv/CBWX/QRm/79D/GusP8Ax6j/AHz/ACqKj6rR7B9fxP8AN+RzH/CBWX/QRm/79D/Gj/hArL/oIzf9+h/jXT0UfVaPYPr+J/m/I5j/AIQKy/6CM3/fof40f8IFZf8AQRm/79D/ABrp6KPqtHsH1/E/zfkcx/wgVl/0EZv+/Q/xo/4QKy/6CM3/AH6H+NdPRR9Vo9g+v4n+b8jmP+ECsv8AoIzf9+h/jR/wgVl/0EZv+/Q/xrp6KPqtHsH1/E/zfkcx/wAIFZf9BGb/AL9D/Gj/AIQKy/6CM3/fof4109FH1Wj2D6/if5vyOY/4QKy/6CM3/fof40f8IFZf9BGb/v0P8a6eij6rR7B9fxP835HNJ4As3bA1GbOM/wCqH+NN/wCECsv+gjN/36H+NdZb/wCt/wCAn+VRUfVaPYPr+J/m/I5j/hArL/oIzf8Afof40f8ACBWX/QRm/wC/Q/xrp6KPqtHsH1/E/wA35AFCRxxq24RoqZxjOBiiiiulaKxxN3dwooopiCiiigAooooAKKKKACpbj/WD/dH8qiqW4/1g/wB0fypARUUUUwCiiigAooooAKKKKACiiigAooooAKlX/j1f/eFRVKv/AB6v/vCkBFRRRTAKKKKACiiigAooooAK1x0FZFa46CokAUUUVIwooooAKKKKACiiigAooooAKKKKACore5gu4fNtJ4548ld8ThhkHBGR6EYqWuN+FX/IhR/9f15/6UyUAdlRXnZ1nxRrOna/rek6pb2NvpV1cQ2ti1qri4EHBMrsdy7mDfdxgYPNWE8T6r4n17R9N0W6XSYbrRY9ZuJvJWWQiRgEjUNwP4snB7dKAO3ubmCzt3uLyeOCGMZeSVwqqPcngVDY6tp2p7v7Nv7W82fe+zzLJt+uD7V5T4h1nV9U+E/jmDxBLDczaZqAs1aCMKHRWhOcepyTjtnHar9n5N38YNENl4efwuba1uXlFxEkT6ipUKEXyiytsJDHLZHpQB6lRXkknj7W9RtdR1XTdSktjBPKtlpY0OedLhY2K4eZV6uVP3SNvfPNdJJrWt+I/E0WlaPdNoUcGmw39zJJbLLKXlJ2xbW4AAVsnGc8cUAdvUFze21mYRdTpEZ5RDEHbG9zkhR6nAJ/A1zvgPWdU1ix1b+3Hhe5stVnswYU2rtj2gYGT7nkk81DdO978ZLC1lB8jTtHlu4hxgyySiPP4IrD/gXvQB19Fchqt7rV58RI9C0vVP7Ptl0o3kji2SUl/N2AfN0GM/lWBP411cfC/wAKaxJe/Z7rVLyGG6uIrPziEYSE7YwDk/KOADQB6dRXBeGvFtzqNv4lW91iH7LpqL5Gpz2v2d0yhLGSBiGAQ45IUNzjpmqWi+L9RHjDRrRtSvtU03WRKqyXmjtZiMrGZEaN9qhwQpGDnqCDigD0qiuf8eaxd6B4D1fVNOZVurW3LxMy7gDkdu9ZOpT+INA1vw+k+vfb4NR1EWssT2ccfy+VI+QRznKCgDtqK89tr/xbrr+KGsNXhsU0rUJbezU2qP5u1Fba5PReRyOeTzT4viA0n/CKalcyJZ6bqWl3d9fKVztMSRngnnALN068UAd/RXBeDfEHiPxLdeIrfUWTTJYxBJYxmEO1rHKjMoccbm27cg9DkVD4b8T6pc6trNn/AGq+p2tnYeetxd2Is5ll7ARkAsmBndtAzxk9gD0OivLn+KPmfDfTru3muf7bnSzEjtpkyw7nkjEmHKeXjDNg5x0xnitnxXrl1Frb2OkeILuC7hiV2srLRWvdmc4MrKp2g44GVPfmgDuKK81l+JNzF4Q8Ia9dJ5SancNFew28XmNIRHJ8kY65aRAAPfGe9bOg69fal4LvfEmq6paafDcxPLbqqB005ACB5hOC7g/eHAyNoHegDsagtb22vVla0nSYRStDIUbO11OGU+4NefaH4u1JPGWj6dNqF7qdjq6yhJL7SHsijJGZAyNtUOCFIIPPIOa2NIJsPix4gsIm/cXtjbaiUXGFky8TH6kRp+VAHYVU1X/kDXv/AF7v/wCgmrdVNV/5A17/ANe7/wDoJqZfCy4fGjzOiiivCPpgooooAKKKKACiiigAooooA7Dw9/yAV/67N/IVoVn+Hv8AkAr/ANdm/kK0K92h/CifOYj+NL1CiiitzAluf+Ph/rUVS3P/AB8P9aipAFFFFMAooooAKKKKACiiigAooooAKKKKAJT/AMeo/wB8/wAqiqU/8eo/3z/KoqQBRRRTAKKKKACiiigAooooAKKKKACiiigCW3/1v/AT/Koqlt/9b/wE/wAqipAFFFFMAooooAKKKKACiiigAooooAKKKKACpbj/AFg/3R/KoqluP9YP90fypARUUUUwCiiigAooooAKKKKACiiigAooooAKlX/j1f8A3hUVSr/x6v8A7wpARUUUUwCiiigAooooAKKKKACtcdBWRWuOgqJAFFFFSMKKKKACiiigAooooAKKKKACiiigAritO8Dazo1q1ppHjG6tbTzZJVh+wwPtLuXPLKSeWNdrRQBxt98PzN/adtp+uXenaZq0zTXtlDFGd7OAJNrkZTeBz168YqDxTpVrpN1pV3pMet2Nxa2jWcM+jWa3ISBduInRlbjoV44Knn17migDzjw94Gl1LwPr9hqv2yxGu6i92PP2tOqZTDOB8odjGWIHA3YAGMV13iHw5Fr7adMLh7S7027W6triNQSpHDKfVWBIIrZooA5RPBl5p810vh7xFdaXZ3czTvaiCOYRuxyxjLg7cnJxyMmqXivTVsNYs9Wsp9eg1EWZtJLvTLFLoyxhgQsilGGckkEAd/pXcUUAcj8NtEudE8M3Avbea2kvr+e8ENw4eVFdvl8wgkbyACcdCa0NS0ac+MtJ12xVWaGKWzu1JwWgfDAj/ddF49Ca3qKAOEsPB3iD+3tW1x/EUtjeX9w8ewWsMoW3jkcQKpI4+QgnuSeeai0vwBqMfhOz0S51aS3Oi6mLjTbpYo2YxIhCbl6dXbrzXoFFAHJp4AtriDWTrmo3WqXWs2q2txPKqJsjUHaEVFAXBbPfmmw+B7iTXtI1bVvEF3qE+ku5tkaGONArRlGBCgZY5ByT/DwBk566igDL8S6HH4l8M32jTzNBHeRGNpEAJUeozSaxoUesXmk3EkzRHTLwXaBVzvOxkwfbDn8q1aKAPOdH8H6rdXnipl1W+0aLUNWmEiJAh8+EogDoXB2nlhuH9BjY1H4c6TqE3hxN0sNjoCNHHZoflnU7MK56kAxqT685rrqKAMP/AIRx4dT1vULDUZbW61YQ/vBEr+SYl2jAbIOR61TsvB0o1e41XWtYn1O9lsmsY2MKRJDEx3NtVRySQOST0rqKKAObm8GwTeArTwu13IIbVLZFnCjcwhdHHHTnYAfrTb/whNPr15qOm63d6YNRjjjvYoY0bzdgKhlZgSjbTjIz0HeumooA5TTfAVnpul+HbGK6laPQbl54Syj94WDjB+nmfoKfd+BLC7g16zM8sWn64hM9rGBtjlIwZUz0Y4BPGCQD656iigDkoPBNy3iTSNa1fxBd6jcaSZRbo8McabZIyhyFHLcgk+3QVe0TSLmHxNrutagoSS9kjgt0DBttvEDtPsWZ3bHpt75rfooAKqar/wAga9/693/9BNW6gvoTcafcQghTJEygnoMjFTLVMqDtJM8vorf/AOETm/5/Lf8A8e/wo/4ROb/n8t//AB7/AAryfq9X+U9/61R/mMCit/8A4ROb/n8t/wDx7/Cj/hE5v+fy3/8AHv8ACj6vV/lD61R/mMCit/8A4ROb/n8t/wDx7/Cj/hE5v+fy3/8AHv8ACj6vV/lD61R/mMCit/8A4ROb/n8t/wDx7/Cj/hE5v+fy3/8AHv8ACj6vV/lD61R/mMCit/8A4ROb/n8t/wDx7/Cj/hE5v+fy3/8AHv8ACj6vV/lD61R/mNHw9/yAV/67N/IVoVBp1kdP01bd5UkYSFspnoQPWp69einGmkzw68lKpJoKKKK2MSW5/wCPh/rUVS3P/Hw/1qKkAUUUUwCiiigAooooAKKKKACiiigAooooAlP/AB6j/fP8qiqU/wDHqP8AfP8AKoqQBRRRTAKKKKACiiigAooooAKKKKACiiigCW3/ANb/AMBP8qiqW3/1v/AT/KoqQBRRRTAKKKKACiiigAooooAKKKKACiiigAqW4/1g/wB0fyqKpbj/AFg/3R/KkBFRRRTAKKKKACiiigAooooAKKKKACiiigAqVf8Aj1f/AHhUVSr/AMer/wC8KQEVFFFMAooooAKKKKACiiigArXHQVkVrjoKiQBRRRUjCiiigAooooAKKKKACiiigAooooAKKKKACiiigAooooAKKKKACiikZgq5YgD1JoAWiiigAooooAKKKKACiiigAooooAKKKKACiiigAoopAwbO0g4ODg9DQAtMmIED7iFG05J7cU+oL3/kH3H/AFyb+VJuyuNK7sZ/mW//AD9Q/wDfVHmW/wDz9Q/99VgUVy/WZdjs+rR7m/5lv/z9Q/8AfVHmW/8Az9Q/99VgUUfWZdg+rR7m/wCZb/8AP1D/AN9UeZb/APP1D/31WBRR9Zl2D6tHudCy7duGDBhkEdxTaVf+Pa3/AOuK/wAqSu6LurnE1Z2CiiiqEFFFFABRRRQBLc/8fD/Woqluf+Ph/rUVIAooopgFFFFABRRRQAUUUUAFFFFABRRRQBKf+PUf75/lUVSn/j1H++f5VFSAKKKKYBRRRQAUUUUAFFFFABRRRQAUUUUAS2/+t/4Cf5VFUtv/AK3/AICf5VFSAKKKKYBRRRQAUUUUAFFFFABRRRQAUUUUAFS3H+sH+6P5VFUtx/rB/uj+VICKiiimAUUUUAFFFFABRRRQAUUUUAFFFFABUq/8er/7wqKpV/49X/3hSAiooopgFFFFABRRRQAUUUUAFa46CsitcdBUSAKKKKkYUUUUAFFFFABRRRQAUUUUAFFFFABXH/DqWSW18Rea7Pt8RX6ruOcAS8D6V2FcPpvh3xhoNxqi6Pe6G1re6jcXyi6gmZ181y20lWA4GKAJLjxR4g1LUdaj8LadZSW2iuYZZLyRg1zOEDNHGF4XAKjc3c9O9NHju51mPQIPC1nC95rNq94TeswjtYkwCW2jLHcwUAYz3IpH8L+JtOutUbw5qenwQ6w3n3AnhkJtZygV5IsNznAOG6HuelUdY0HTfBNj4du7LWrXS7jSYWsoptQQmG5jYfMr7cYJYBgc9c+tAEGteKdT1Xwb4+sdRtYrK50a1MQa3lZt5aItvBOCAeCB1Gcc9ayNBl0Y+NPC8XgiTUIboq0mqJO1xHFJB5RzlJsBzvIwVB6Z7Vf8OaFfeKND8cyPeiVdfcQ2988DRRy4hCl0QknywTtU5OQvWut8QeFZtU0fShY3Edtq2kSxTWtyykqCuA6nHJVlyCPp6UAc9qfxMuV1PVRpk3h+G00mZ4Hi1PUPJuLp4/8AWeWvRRnKgnOSp4rTPja81q50Wz8KWtu1xqWnf2nJJfFtlvDwACF5LFjjsOCeaYPB+q6Tql/LoCaLcWmoXLXbxalCxaCV/v7WX7yk4ODjBzzzxD4nhTw/qWi64+t6dpWqxWb2cn2i3cWt0nysy4DfJh+V5J5xzQBs+EPEWo67PrNvq9lDZz6ZeC1KQuXDfu1Ytk4yCW44HGKr+I5G1Dx54Z0U/NbqZtTuF/vGEKsQPsHkDfVFqj8LoriS38QapcTNcR6jqryw3BiMazqI0UuikkhCwYLkk4A5PWtbxFp9yvijw9rllA05tZntLhEXJEM4UF/orKhPoCxoAw/iJo9vFq/h7Wkluxdtrlhb4F1J5YTzeR5edvPfipPihNGjeH4dYuZbbw5PflNUkjkZAR5ZMSuy8hC45OR2q7408PeI/EF1YLpd5pcFpZXcF6guYZGkaWJtwBKsBtPHbPvWtdR+I38PxJCdJk1Td+/Escn2d154UZLA/d6570Ach8PtU09PHeu6F4buWuNBitori1/etJFG+5lkETEnKE+hxlSB3rpfFWuanpmoaLYaLFaPcapcvDuu92xAsTSZ+Xn+HFL4Z8N3Omahf6vrFzDcanfBIiLaMpDbwx5CRxgknHJJJ6k+1Wda0OTVNd0G/jmVF0u6kmdGBzIGiePA/Fs0AY9t4l1211/U9L1yDTmez0kajG9mXw2Wddp3f7h/Osu08e+IovDGk+Kda0zT4NGvXhWWOGVzPCshCiXJ+XG4g7eoU9Sa3db0ORNY1nX/ADl8qXQjZCLB3BlaR92fT58fhXJ+GPC2u6/8O/DGm3uo2f8AYHk211KEjcXMiqBIsROdu0NgZx0A4yOQDp7zxwunXniWO7gBXSXt4rVIsmS6lmjDLGB/eLEAY+pqDS/FOs6r8PLXXmbR9MuPNmS7a9kYW8SpK8eQ2R3UdTjmpIfA8jfEq98SX11HNZu0c1tZhPuTrEIvMY9yF34H+3nqBUmm+H9c0Dwjb6XpUml3UyXFxJKL1H2OskzyLjb0I3DqDnHagCifiBdR+BrrXZrW1H2fUY7NZo5S1tcRmWNGmjcgZT5256ZU8mtJ/HGnXHi3RdH0W+0/UVv/ADzO1vcrI0QjTcvCk9T6+lZSfD6+fwjf6bdXln9o1DVItQkjghKW8IWSNjGikk4Ij6nux4revPC8cvirRNWslt7aPTvP82NIwpl8xNo6envQBzGv/Emfw1qcxv8AUPDM1vDceXLYwXrfbEQuFzyMbgp3FSB0Iz3rV8RfEG28M+KJ9N1FY/KGnxXFsobEtxPJK8axLk4/gHPbJJIArFvfhxrsvgvUPCdjqen2+m3U8kouPJf7Q4aTzArkHB7KW5JAxiuk1LwRZax4zudY1WKC5t5tJXThE6/Mn7x2Zge2QwHHPFADdV8R6tpGl6RbzWVrPr+rXAt4raORhBE20uzM+CSqKOSBknoB2rJ4v1Owm1zTdctLVdT03TjqMD2xbybmLDdjypDqQRnuKS58G6tPoOkRHV45NW0K686xvJoiwmQAqEmAIPKHDEHkjPtSxeENVvZtc1HXr61bUdT03+zoUtUcQ20eG/vHLEs2ScDp70AVPC3j+71jVdKs7htIvv7SgMx/sq4aR7IBN375TnaCSFzkfMcYNaGg50v4jeIdHT5bW5ih1WJM52vIWSXHPGWj3Y9SfWs7SvAeqxapoE2oXGl28GhoAh0+2ZZrkiPZh3Y8KepAHJH4jY0GwuZ/Gmv69eQPCkvlWNmsqlWMUW4s+P7rO5x7KD0NAHT1Be/8g+4/65N/Kp6gvf8AkH3H/XJv5UpbMqO6OQoooryz1QooooAKKKKAOgX/AI9rf/riv8qSlX/j2t/+uK/ypK9eHwo8mXxMKKKKskKKKKACiiigCW5/4+H+tRVLc/8AHw/1qKkAUUUUwCiiigAooooAKKKKACiiigAooooAlP8Ax6j/AHz/ACqKpT/x6j/fP8qipAFFFFMAooooAKKKKACiiigAooooAKKKKAJbf/W/8BP8qiqW3/1v/AT/ACqKkAUUUUwCiiigAooooAKKKKACiiigAooooAKluP8AWD/dH8qiqW4/1g/3R/KkBFRRRTAKKKKACiiigAooooAKKKKACiiigAqVf+PV/wDeFRVKv/Hq/wDvCkBFRRRTAKKKKACiiigAooooAK1x0FZFa46CokAUUUVIwooooAKKKKACiiigAooooAKKKKACiiigAooooAKKKKACiiigAooooAKKKKACiiigAooooAKKKKACiiigAooooAKKKKACiiigAqK6QyWcyL95o2A/KpaCAykHoeDRuNOzucv/AGRd/wB1P++xR/ZF3/dT/vsV0f2aH+4KPs0P9wVh9Xgb/WJnOf2Rd/3U/wC+xR/ZF3/dT/vsV0f2aH+4KPs0P9wUfV4B9Ymc5/ZF3/dT/vsUf2Rd/wB1P++xXR/Zof7go+zQ/wBwUfV4B9YmZ5QxxQo2NyxKDg55ptaX2aH+4KPs0P8AcFdKaSsc71dzNorS+zQ/3BR9mh/uCnzCM2itL7ND/cFH2aH+4KOYDNorS+zQ/wBwUfZof7go5gKVz/x8P9airTaCNmJZASaT7ND/AHBRzAZtFaX2aH+4KPs0P9wUcwGbRWl9mh/uCj7ND/cFHMBm0VpfZof7go+zQ/3BRzAZtFaX2aH+4KPs0P8AcFHMBm0VpfZof7go+zQ/3BRzAZtFaX2aH+4KPs0P9wUcwFI/8eo/3z/Koq0/Ij27dgxnOKT7ND/cFHMBm0VpfZof7go+zQ/3BRzAZtFaX2aH+4KPs0P9wUcwGbRWl9mh/uCj7ND/AHBRzAZtFaX2aH+4KPs0P9wUcwGbRWl9mh/uCj7ND/cFHMBm0VpfZof7go+zQ/3BRzAUrf8A1v8AwE/yqKtNYI1OVQA0n2aH+4KXMBm0VpfZof7go+zQ/wBwU+YDNorS+zQ/3BR9mh/uCjmAzaK0vs0P9wUfZof7go5gM2itL7ND/cFH2aH+4KOYDNorS+zQ/wBwUfZof7go5gM2itL7ND/cFH2aH+4KOYDNqW4/1g/3R/Krv2aH+4KVoI2OWUHjFHMMzKK0vs0P9wUfZof7go5hGbRWl9mh/uCj7ND/AHBRzAZtFaX2aH+4KPs0P9wUcwGbRWl9mh/uCj7ND/cFHMBm0VpfZof7go+zQ/3BRzAZtFaX2aH+4KPs0P8AcFHMBm1Kv/Hq/wDvCrv2aH+4KXyI9pXaME5xRzDMyitL7ND/AHBR9mh/uCjmEZtFaX2aH+4KPs0P9wUcwGbRWl9mh/uCj7ND/cFHMBm0VpfZof7go+zQ/wBwUcwGbWuOgqL7ND/cFS1LdxhRRRSAKKKKACiiigAooooAKKKKACiiigAooooAKKKKACiiigAooooAKKKKACiiigAooooAKKKKACiiigAooooAKKKKACiiigAooooAKK5G913xDqXiTVdK8Kx6bENISMTTagsjiaWRN6ooQjaAu0ljn7wAHBrX8La8nifwxZavHCYPtCnfETny3VirrnvhlIz7UAa9Fchd654i1PxLqmmeFo9Ojj0hYxPNfrIwnmdN4jXaRtAUqS3PLAY61teGNdj8S+GbHV4ozCLmPLxE58twSrLnvhgRnvigDVooooAKKKKACiiigAooooAKKKKACisHxZr1zodjZpptvHcahqN5HZWqTMQgdsku2OdqqrMcemO9V9D1vVV8TXPh3xH9je8S0S8t7iyVkSaIsUbKMSVYMB3IIYelAHTUVn60dZFgB4dSxa7ZwCb5nEaL3OFGSenHH1FZ/gbXrrxN4MsdW1COGO5nMgdYAQgKyMnGST0X1oA6CiiigAooooAKKKKACiiigAooooAKKRmCKWYhVAySTwBXnUfjzXh4ftvGFxaWKeG57hVNvtk+1RW7SeWs5blSeVYpt+73zQB6NRTZS4hcxKGkCnaGOAT25riL3X/F/hu802bxCmi3Vjf38VkYrFZUlhaU4UhnJDgHrwD3+gB3NFFFABRRRQAUUUUAFFFFABRRRQAUUVy2q65q9z4qPh/wyLKOe3tVu7u6vUZ0QMxCRqqlSWO1iTnAA7k0AdTRWH4S8QSeItFee7t1tb21uZbS7gRy6pLGxU4JAODwRx0NN1weKjeB9AudGt7NIsv9vhld2fnPKsoVcY55PWgDeorB8FeILjxR4StNVvLRbWeYurxo25CVcruU91O3I+vfrW9QAUUUUAFFFFABRRRQAUUUUAFFFYvizXz4b8PyX0Vv9quWkjgtoM482WRgiKT2GTyfSgDaorktM13XbHxXa6D4rSwlkv7aSe0urBHRC0ZHmRsrsx4DAhs8jtXU3E8VrbS3FxIscMSF5HY4CqBkk/hQBJRXG+DfGOoeJfEWr213ZR2tnBDBcWQKsJWil37TJk4BIQNgAY3YPNdlQAUUUUAFFFFABRRRQAUUUUAFFFFABRXns/jTxDJpep+JtOttPfw/p08sfkSK/wBouIon2ySq+dq/dYhSp4HJ5rvoJ47q2ingbdFKgdGxjIIyDzQBJRXn+i+K/EWvardxWt/4bgjg1Ce2FpMshuTHHKy5wJOpC5zjHtXoFABRRRQAUUUUAFFFFABRRRQAUUUUAFFFFABRRRQAUUUUAFFFFABRRRQAUUUUAFFFFABRRRQAUUUUAFFFFABRRRQAUUUUAFFFFABRRRQAUUUUAFFFFABRRRQAUUUUAefjUF8EeNPEtzqlnfS2mrGG6s5LO0kn8x1jEbQ/KDh8qCM4BDdeKueEPtHhHwNolrq9jdNeX14yyR26b/s7zyPJ85zgKoOCfXtzXaUUAcDHqI8E+MPEcmp2N9La6rJFd2UtnZvP5snliNofkBw+VBG7AO7r1rZ+HmkXmheAtNsdUQR3gEk00YOfLaSRpCv4b8fhXS0UAFFFFABRRRQAUUUUAFFFFABRRRQByXjy0uQNE1mztZbv+x9RW5mhhTfI0JRkcqvUkBt2BycVV0WZvEPxKn8SWUFwmlWmlfYI5ri3eE3ErSh3KK4DFVCAZIHJIGcV29FAGJH4qsj4Yh1y4tdQt7ebgQPZu86ncRzGgYjpXO/CLUUPgu00mW2vbe8tfNeVLmzkiADTOwwzKAThh0JrvaKACiiigAooooAKKKKACiiigAooooAiuoftNnNAePNjZOfcYryZzeXnwytfh62mX66zmKxlP2RxCkKSLm480jZt2DI5zuOMZr16igDObWoV1ufTTbXW+C1F004izERkjaG7vxnGOhHrXnujeJ7bxF4nh1jxPaarbGCYppOltpdwVtsnb58rBNpkYdOSqKeuSTXqdFABRRRQAUUUUAFFFFABRRRQAUUUUAFcPfXLeFviRfavfW11JpmqafDGJ7aB5zHNEz/KURSQCHGD0zx3ruKKAOF8L3M3hvwtf6zq+m3scmravLdizjj3TRLK4VNy8Ywqhj6DOehqx431DwrMP7K8X6ZeXiKBLEqafPMrk5HyvGpAbtyQeRXZUUAcv8OotUg8F28esx3ELrJJ9miuv9dHb7z5Sv8A7QTHv611FFFABRRRQAUUUUAFFFFABRRRQAVy3xE0+7vvC8c2nwNcz6ffW18IE+9KIpVZlHvtz9cV1NFAHC297/wl/wAQ9F1HTrO8i0/R7S4eW4urWSENLKEURKHAJIAYkjI6CrWuQ3fj3wv5GjMLFUvwtxFqdsSlzHGxyhVWBKMwU9Rlc9jXYUUAed+F7LxTF8VtcuNXewaCS0tRPLBZyosuBJtEZZyAQT82c9R0r0SiigAooooAKKKKACiiigAooooAKKKKAPJkmutI+HuteBBpl9Pq0kl3Z2Sx2shjnjuHYrL5uNiqBLlstxtOa7+xvI9JuNL8OPFcSSiyGLhY/wB0PLAXBbPBPUDHOD6VtUUAeR+MpvD+vaJcab4V8N3R8SzTq1vJFpT28lvL5gJlacoABkElt3PrzmvWowwjUSEF8DcQOCadRQAUUUUAFFFFABRRRQAUUUUAFFFFABRRRQAUUUUAFFFFABRRRQAUUUUAFFFFABRRRQAUUUUAFFFFABRRRQAUUUUAFFFFABRRRQAUUUUAFFFFABRRRQAUUUUAFFFFABRRRQAUUUUAFFFFABRRRQAUUUUAFFFFABRRRQAUUUUAFFFFABRRRQAUUUUAFFFFABRRRQAUUUUAFFFFABRRRQAUUUUAFFFFABRRRQB57/a2q6v8WrnTXi1y30/TI4GSO2eBImZncmWX5t7IwQAAZOM5UZq5pt1r1n8Vv7I1PWzqFlNpMt4kItY4liYTxoMEZY8E9T3rT03SryD4ia5qcsO2zurO0ihl3A72Qy7hjORjcvUd6wJ38Tj4nJrkfhC7ks4tOk08ML22BfMyuJADJnbheh55oA9CrndV8Wmy1x9I03Rr/V7yGBbidbQxKsKMWC5aR1G47ThRk8V0VcN4z0977UmeDw1q898tv5dpqmlX0cDKeoViZFwAx7hhyeKANnUvF0On/wBn28em393qeoQmaLTYUTzkUAFjJuYKgBIBJbrwM0y78Ypp2jW93qWk6hb3l1P9ng0zEbzzSdcLtYqRgE53YA61irp3iXRtR0TxBdWh1y9j0n+z9ThtnRJA+5X8xNxCt8wIIyOxHoLGv2utaqdB8Q2ejTRXekXrytps00XmywujRtghigfByBu/HNAF+18b2klpq7X9he6feaPb/abqxnCGTy9hYMhVirA7SOvBGDioU+IVkdG/tibTdRg02RIzaTvGha8eQgLHFGGLliSMZAB69OaybnRdb1+58U6xPpb6e15oh0ywsppYzLMdrtvcqxVfmfaBu6Ak4q14i8J3up/D/Q7K2t1a80lrW4+yfaDCJDGm1oxIh+U4ZgCOM46dQAa+i+L49V1Y6Xe6VqGkX5g+0Rw3yoPOjzglSjMCRkZBwRmuhriPDOkW3/CQR3w8KavpssELot3qWpedtztyir5z5B9cAfKK7egAooooAKKKKACiiigAooooAKKKKACiiigAooooAKKKKACiiigAooooAKKKKACiiigAooooAKKKKACiiigAooooAKKKKACiiigAooooAKKKKACiiigAooooAKKKKACiiigAooooAKKKKACiiigAooooAKKKKACiiigAooooAKKKKACiiigAooooAKKKKACiiigAooooAKKKKACiiigAooooAKKKKACiiigAooooAKKKKACiiigAooooAKKKKACiiigAooooAKKKKACiiigAooooAKKKKACiiigAooooAKKKKACiiigDAufBWj3d1LcTNqfmTOXby9Xu0XJOThVlAA9gABWvYWMOm2Mdpa+b5UQIXzZnlbrnlnJY9e5qxRQAUUUUAFFFFABRRRQAUUUUAFFFFABRRRQAUUUUAFFFFABRRRQAUUUUAFFFFABRRRQAUUUUAFFFFABRRRQAUUUUAFFFFABRRRQAUUUUAFFFFABRRRQAUUUUAFFFFABRRRQAUUUUAf/Z)"
   ]
  },
  {
   "cell_type": "markdown",
   "metadata": {
    "id": "_KBuWT2mOiI8"
   },
   "source": [
    "**(7)** в рамках третьего раздела было проведено исследование четырех алгоритмов балансировки классов: SMOTE, ADASYN, RandomUnderSampling, SMOTETomek. Самые лучшие результаты показали модели, обученные на обучающем комплекте, сбалансированном с помощью SMOTETomek. Примерно одинаковые, немного меньшие в сравнении с алгоритмом-лидером, но тоже достаточно хорошие результаты показали алгоритмы SMOTE и ADASYN. Самые низкие результаты показали модели, обученные на выборке, сбалансированной алгоритмом RandomUnderSampling.\n",
    "\n",
    "Лучшие результаты показывает модель Random Forest Classigfier. На втором месте - модель Decision Tree Classifier. Самые низкие результаты у модели Logistic Regression\n",
    "\n",
    "Самый лучший результат метрики f1_score показала модель Random Forest Classifier на выборке, сбалансированной с помощью алгоритма SMOTETomek. Величина f1_score  = 0.896, roc_auc_score = 0.9949.\n",
    "\n"
   ]
  },
  {
   "cell_type": "markdown",
   "metadata": {
    "id": "TWzx3rRURLBO"
   },
   "source": [
    "![Рис 12.JPG](data:image/jpeg;base64,/9j/4AAQSkZJRgABAQEAYABgAAD/4RDsRXhpZgAATU0AKgAAAAgABAE7AAIAAAALAAAISodpAAQAAAABAAAIVpydAAEAAAAWAAAQzuocAAcAAAgMAAAAPgAAAAAc6gAAAAgAAAAAAAAAAAAAAAAAAAAAAAAAAAAAAAAAAAAAAAAAAAAAAAAAAAAAAAAAAAAAAAAAAAAAAAAAAAAAAAAAAAAAAAAAAAAAAAAAAAAAAAAAAAAAAAAAAAAAAAAAAAAAAAAAAAAAAAAAAAAAAAAAAAAAAAAAAAAAAAAAAAAAAAAAAAAAAAAAAAAAAAAAAAAAAAAAAAAAAAAAAAAAAAAAAAAAAAAAAAAAAAAAAAAAAAAAAAAAAAAAAAAAAAAAAAAAAAAAAAAAAAAAAAAAAAAAAAAAAAAAAAAAAAAAAAAAAAAAAAAAAAAAAAAAAAAAAAAAAAAAAAAAAAAAAAAAAAAAAAAAAAAAAAAAAAAAAAAAAAAAAAAAAAAAAAAAAAAAAAAAAAAAAAAAAAAAAAAAAAAAAAAAAAAAAAAAAAAAAAAAAAAAAAAAAAAAAAAAAAAAAAAAAAAAAAAAAAAAAAAAAAAAAAAAAAAAAAAAAAAAAAAAAAAAAAAAAAAAAAAAAAAAAAAAAAAAAAAAAAAAAAAAAAAAAAAAAAAAAAAAAAAAAAAAAAAAAAAAAAAAAAAAAAAAAAAAAAAAAAAAAAAAAAAAAAAAAAAAAAAAAAAAAAAAAAAAAAAAAAAAAAAAAAAAAAAAAAAAAAAAAAAAAAAAAAAAAAAAAAAAAAAAAAAAAAAAAAAAAAAAAAAAAAAAAAAAAAAAAAAAAAAAAAAAAAAAAAAAAAAAAAAAAAAAAAAAAAAAAAAAAAAAAAAAAAAAAAAAAAAAAAAAAAAAAAAAAAAAAAAAAAAAAAAAAAAAAAAAAAAAAAAAAAAAAAAAAAAAAAAAAAAAAAAAAAAAAAAAAAAAAAAAAAAAAAAAAAAAAAAAAAAAAAAAAAAAAAAAAAAAAAAAAAAAAAAAAAAAAAAAAAAAAAAAAAAAAAAAAAAAAAAAAAAAAAAAAAAAAAAAAAAAAAAAAAAAAAAAAAAAAAAAAAAAAAAAAAAAAAAAAAAAAAAAAAAAAAAAAAAAAAAAAAAAAAAAAAAAAAAAAAAAAAAAAAAAAAAAAAAAAAAAAAAAAAAAAAAAAAAAAAAAAAAAAAAAAAAAAAAAAAAAAAAAAAAAAAAAAAAAAAAAAAAAAAAAAAAAAAAAAAAAAAAAAAAAAAAAAAAAAAAAAAAAAAAAAAAAAAAAAAAAAAAAAAAAAAAAAAAAAAAAAAAAAAAAAAAAAAAAAAAAAAAAAAAAAAAAAAAAAAAAAAAAAAAAAAAAAAAAAAAAAAAAAAAAAAAAAAAAAAAAAAAAAAAAAAAAAAAAAAAAAAAAAAAAAAAAAAAAAAAAAAAAAAAAAAAAAAAAAAAAAAAAAAAAAAAAAAAAAAAAAAAAAAAAAAAAAAAAAAAAAAAAAAAAAAAAAAAAAAAAAAAAAAAAAAAAAAAAAAAAAAAAAAAAAAAAAAAAAAAAAAAAAAAAAAAAAAAAAAAAAAAAAAAAAAAAAAAAAAAAAAAAAAAAAAAAAAAAAAAAAAAAAAAAAAAAAAAAAAAAAAAAAAAAAAAAAAAAAAAAAAAAAAAAAAAAAAAAAAAAAAAAAAAAAAAAAAAAAAAAAAAAAAAAAAAAAAAAAAAAAAAAAAAAAAAAAAAAAAAAAAAAAAAAAAAAAAAAAAAAAAAAAAAAAAAAAAAAAAAAAAAAAAAAAAAAAAAAAAAAAAAAAAAAAAAAAAAAAAAAAAAAAAAAAAAAAAAAAAAAAAAAAAAAAAAAAAAAAAAAAAAAAAAAAAAAAAAAAAAAAAAAAAAAAAAAAAAAAAAAAAAAAAAAAAAAAAAAAAAAAAAAAAAAAAAAAAAAAAAAAAAAAAAAAAAAAAAAAAAAAAAAAAAAAAAAAAAAAAAAAAAAAAAAAAAAAAAAAAAAAAAAAAAAAAAAAAAAAAAAAAAAAAAAAAAAAAAAAAAAAAAAAAAAAAAAAAAAAAAAAAAAAAAAAAAAAAAAAAAAAAAAAAAAAAAAAAAAAAAAAAAAAAAAAAAAAAAAAAAAAAAAAAAAAAAAAAAAAAAAAAAAAAAAAAAAAAAAAAAAAAAAAAAAAAAAAAAAAAAAAAAAAAAAAAAAAAAAAAAAAAAAAAAAAAAAAAAAAAAAAAAAAAAAAAAAAAAAAAAAAAAAAAAAAAAAAAAAAAAAAAAAAAAAAAAAAAAAAAAAAAAAAAAAAAAAAAAAAAAAAAAAAAAAAAAAAAAAAAAAAAAAAAAAAAAAAAAAAAAAAAAAAAAAAAAAAAAAAAAAAAAAAAAAAAAAAAAAAAAAAAAAAAAAAAAAAAAAAAAAAAAAAAAAAAAAAAAAAAAAAAAAAAAAAAAAAAAAAAAAAAAAAAAAAAAAAAAAAAAAAAAAAAAAAAAAAAAAAAAAAAAAAAAAAAAAAAAAAAAAAAAAAAAAAAAAAAAAAAAAAAAAAAAAAAAAAAAAAAAAAAAAAAAAAAAAAAAAAAAAAAAAAAAAAAAAAAAAAAAAAAAAAAAAAAAAAAAAAAAAAAAAAAAAAAAAAAAAAAAAAAAAAAAAAAAAAAAAAAAAAAAAAAAAAAAAAAAAAAAAAAAAAAAAAAAAAAAAAAAAAAAAAAAAAAAAAAAAAAAAAAAAAAAAAAAAAAAAAAAAAAAAAAAAAAAAAAAAAAAAAAAAAAAAAAAAAAAAAAAAAAAAAAAAAAAAAAAAAAAAAAAAAAAAAAAAAAAAAAAAAAAAAAAAAAAAAAAAAAAAAAAAAAAAAAAAAAAAAAAAAAAAAAAAAAAAAAAAAAAAAAAAAAAAAAAAAEVnb3IgVW1hZXYAAAAFkAMAAgAAABQAABCkkAQAAgAAABQAABC4kpEAAgAAAAMxOQAAkpIAAgAAAAMxOQAA6hwABwAACAwAAAiYAAAAABzqAAAACAAAAAAAAAAAAAAAAAAAAAAAAAAAAAAAAAAAAAAAAAAAAAAAAAAAAAAAAAAAAAAAAAAAAAAAAAAAAAAAAAAAAAAAAAAAAAAAAAAAAAAAAAAAAAAAAAAAAAAAAAAAAAAAAAAAAAAAAAAAAAAAAAAAAAAAAAAAAAAAAAAAAAAAAAAAAAAAAAAAAAAAAAAAAAAAAAAAAAAAAAAAAAAAAAAAAAAAAAAAAAAAAAAAAAAAAAAAAAAAAAAAAAAAAAAAAAAAAAAAAAAAAAAAAAAAAAAAAAAAAAAAAAAAAAAAAAAAAAAAAAAAAAAAAAAAAAAAAAAAAAAAAAAAAAAAAAAAAAAAAAAAAAAAAAAAAAAAAAAAAAAAAAAAAAAAAAAAAAAAAAAAAAAAAAAAAAAAAAAAAAAAAAAAAAAAAAAAAAAAAAAAAAAAAAAAAAAAAAAAAAAAAAAAAAAAAAAAAAAAAAAAAAAAAAAAAAAAAAAAAAAAAAAAAAAAAAAAAAAAAAAAAAAAAAAAAAAAAAAAAAAAAAAAAAAAAAAAAAAAAAAAAAAAAAAAAAAAAAAAAAAAAAAAAAAAAAAAAAAAAAAAAAAAAAAAAAAAAAAAAAAAAAAAAAAAAAAAAAAAAAAAAAAAAAAAAAAAAAAAAAAAAAAAAAAAAAAAAAAAAAAAAAAAAAAAAAAAAAAAAAAAAAAAAAAAAAAAAAAAAAAAAAAAAAAAAAAAAAAAAAAAAAAAAAAAAAAAAAAAAAAAAAAAAAAAAAAAAAAAAAAAAAAAAAAAAAAAAAAAAAAAAAAAAAAAAAAAAAAAAAAAAAAAAAAAAAAAAAAAAAAAAAAAAAAAAAAAAAAAAAAAAAAAAAAAAAAAAAAAAAAAAAAAAAAAAAAAAAAAAAAAAAAAAAAAAAAAAAAAAAAAAAAAAAAAAAAAAAAAAAAAAAAAAAAAAAAAAAAAAAAAAAAAAAAAAAAAAAAAAAAAAAAAAAAAAAAAAAAAAAAAAAAAAAAAAAAAAAAAAAAAAAAAAAAAAAAAAAAAAAAAAAAAAAAAAAAAAAAAAAAAAAAAAAAAAAAAAAAAAAAAAAAAAAAAAAAAAAAAAAAAAAAAAAAAAAAAAAAAAAAAAAAAAAAAAAAAAAAAAAAAAAAAAAAAAAAAAAAAAAAAAAAAAAAAAAAAAAAAAAAAAAAAAAAAAAAAAAAAAAAAAAAAAAAAAAAAAAAAAAAAAAAAAAAAAAAAAAAAAAAAAAAAAAAAAAAAAAAAAAAAAAAAAAAAAAAAAAAAAAAAAAAAAAAAAAAAAAAAAAAAAAAAAAAAAAAAAAAAAAAAAAAAAAAAAAAAAAAAAAAAAAAAAAAAAAAAAAAAAAAAAAAAAAAAAAAAAAAAAAAAAAAAAAAAAAAAAAAAAAAAAAAAAAAAAAAAAAAAAAAAAAAAAAAAAAAAAAAAAAAAAAAAAAAAAAAAAAAAAAAAAAAAAAAAAAAAAAAAAAAAAAAAAAAAAAAAAAAAAAAAAAAAAAAAAAAAAAAAAAAAAAAAAAAAAAAAAAAAAAAAAAAAAAAAAAAAAAAAAAAAAAAAAAAAAAAAAAAAAAAAAAAAAAAAAAAAAAAAAAAAAAAAAAAAAAAAAAAAAAAAAAAAAAAAAAAAAAAAAAAAAAAAAAAAAAAAAAAAAAAAAAAAAAAAAAAAAAAAAAAAAAAAAAAAAAAAAAAAAAAAAAAAAAAAAAAAAAAAAAAAAAAAAAAAAAAAAAAAAAAAAAAAAAAAAAAAAAAAAAAAAAAAAAAAAAAAAAAAAAAAAAAAAAAAAAAAAAAAAAAAAAAAAAAAAAAAAAAAAAAAAAAAAAAAAAAAAAAAAAAAAAAAAAAAAAAAAAAAAAAAAAAAAAAAAAAAAAAAAAAAAAAAAAAAAAAAAAAAAAAAAAAAAAAAAAAAAAAAAAAAAAAAAAAAAAAAAAAAAAAAAAAAAAAAAAAAAAAAAAAAAAAAAAAAAAAAAAAAAAAAAAAAAAAAAAAAAAAAAAAAAAAAAAAAAAAAAAAAAAAAAAAAAAAAAAAAAAAAAAAAAAAAAAAAAAAAAAAAAAAAAAAAAAAAAAAAAAAAAAAAAAAAAAAAAAAAAAAAAAAAAAAAAAAAAAAAAAAAAAAAAAAAAAAAAAAAAAAAAAAAAAAAAAAAAAAAAAAAAAAAAAAAAAAAAAAAAAAAAAAAAAAAAAAAAAAAAAAAAAAAAAAAAAAAAAAAAAAAAAAAAAAAAAAAAAAAAAAAAAAAAAAAAAAAAAAAAAAAAAAAAAAAAAAAAAAAAAAAAAAAAAAAAAAAAAAAAAAAAAAAAAAAAAAAAAAAAAAAAAAAAAAAAAAAAAAAAAAAAAAAAAAAAAAAAAAAAAAAAAAAAAAAAAAAAAAAAAAAAAAAAAAAAAAAAAAAAAAAAAAAAAAAAAAAAAAAAAAAAAAAAAAAAAAAAAAAAAAAAAAAAAAAAAAAAAAAAAAAAAAAAAAAAAAAAAAAAAAAAAAAAAAAAAAAAAAAAAAAAAAAAAAAAAAAAAAAAAAAAAAAAAAAAAAAAAAAAAAAAAAAAAAAAAAAAAAAAAAAAAAAAAAAAAAAAAAAAAAAAAAAAAAAAAAAAAAAAAAAAAAAAAAAAAAAAAAAAAAAAAAAAAAAAAAAAAAAAAAAAAAAAAAAAAAAAAAAAAAAAAAAAAAAAAAAAAAAAAAAAAAAAAAAAAAAAAAAAAAAAAAAAAAAAAAAAAAAAAAAAAAAAAAAAAAAAAAAAAAAAAAAAAAAAAAAAAAAAAAAMjAyMjoxMToxMCAyMTozNDo1MAAyMDIyOjExOjEwIDIxOjM0OjUwAAAARQBnAG8AcgAgAFUAbQBhAGUAdgAAAP/hCx1odHRwOi8vbnMuYWRvYmUuY29tL3hhcC8xLjAvADw/eHBhY2tldCBiZWdpbj0n77u/JyBpZD0nVzVNME1wQ2VoaUh6cmVTek5UY3prYzlkJz8+DQo8eDp4bXBtZXRhIHhtbG5zOng9ImFkb2JlOm5zOm1ldGEvIj48cmRmOlJERiB4bWxuczpyZGY9Imh0dHA6Ly93d3cudzMub3JnLzE5OTkvMDIvMjItcmRmLXN5bnRheC1ucyMiPjxyZGY6RGVzY3JpcHRpb24gcmRmOmFib3V0PSJ1dWlkOmZhZjViZGQ1LWJhM2QtMTFkYS1hZDMxLWQzM2Q3NTE4MmYxYiIgeG1sbnM6ZGM9Imh0dHA6Ly9wdXJsLm9yZy9kYy9lbGVtZW50cy8xLjEvIi8+PHJkZjpEZXNjcmlwdGlvbiByZGY6YWJvdXQ9InV1aWQ6ZmFmNWJkZDUtYmEzZC0xMWRhLWFkMzEtZDMzZDc1MTgyZjFiIiB4bWxuczp4bXA9Imh0dHA6Ly9ucy5hZG9iZS5jb20veGFwLzEuMC8iPjx4bXA6Q3JlYXRlRGF0ZT4yMDIyLTExLTEwVDIxOjM0OjUwLjE5MjwveG1wOkNyZWF0ZURhdGU+PC9yZGY6RGVzY3JpcHRpb24+PHJkZjpEZXNjcmlwdGlvbiByZGY6YWJvdXQ9InV1aWQ6ZmFmNWJkZDUtYmEzZC0xMWRhLWFkMzEtZDMzZDc1MTgyZjFiIiB4bWxuczpkYz0iaHR0cDovL3B1cmwub3JnL2RjL2VsZW1lbnRzLzEuMS8iPjxkYzpjcmVhdG9yPjxyZGY6U2VxIHhtbG5zOnJkZj0iaHR0cDovL3d3dy53My5vcmcvMTk5OS8wMi8yMi1yZGYtc3ludGF4LW5zIyI+PHJkZjpsaT5FZ29yIFVtYWV2PC9yZGY6bGk+PC9yZGY6U2VxPg0KCQkJPC9kYzpjcmVhdG9yPjwvcmRmOkRlc2NyaXB0aW9uPjwvcmRmOlJERj48L3g6eG1wbWV0YT4NCiAgICAgICAgICAgICAgICAgICAgICAgICAgICAgICAgICAgICAgICAgICAgICAgICAgICAgICAgICAgICAgICAgICAgICAgICAgICAgICAgICAgICAgICAgICAgICAgICAgICAKICAgICAgICAgICAgICAgICAgICAgICAgICAgICAgICAgICAgICAgICAgICAgICAgICAgICAgICAgICAgICAgICAgICAgICAgICAgICAgICAgICAgICAgICAgICAgICAgICAgIAogICAgICAgICAgICAgICAgICAgICAgICAgICAgICAgICAgICAgICAgICAgICAgICAgICAgICAgICAgICAgICAgICAgICAgICAgICAgICAgICAgICAgICAgICAgICAgICAgICAgCiAgICAgICAgICAgICAgICAgICAgICAgICAgICAgICAgICAgICAgICAgICAgICAgICAgICAgICAgICAgICAgICAgICAgICAgICAgICAgICAgICAgICAgICAgICAgICAgICAgICAKICAgICAgICAgICAgICAgICAgICAgICAgICAgICAgICAgICAgICAgICAgICAgICAgICAgICAgICAgICAgICAgICAgICAgICAgICAgICAgICAgICAgICAgICAgICAgICAgICAgIAogICAgICAgICAgICAgICAgICAgICAgICAgICAgICAgICAgICAgICAgICAgICAgICAgICAgICAgICAgICAgICAgICAgICAgICAgICAgICAgICAgICAgICAgICAgICAgICAgICAgCiAgICAgICAgICAgICAgICAgICAgICAgICAgICAgICAgICAgICAgICAgICAgICAgICAgICAgICAgICAgICAgICAgICAgICAgICAgICAgICAgICAgICAgICAgICAgICAgICAgICAKICAgICAgICAgICAgICAgICAgICAgICAgICAgICAgICAgICAgICAgICAgICAgICAgICAgICAgICAgICAgICAgICAgICAgICAgICAgICAgICAgICAgICAgICAgICAgICAgICAgIAogICAgICAgICAgICAgICAgICAgICAgICAgICAgICAgICAgICAgICAgICAgICAgICAgICAgICAgICAgICAgICAgICAgICAgICAgICAgICAgICAgICAgICAgICAgICAgICAgICAgCiAgICAgICAgICAgICAgICAgICAgICAgICAgICAgICAgICAgICAgICAgICAgICAgICAgICAgICAgICAgICAgICAgICAgICAgICAgICAgICAgICAgICAgICAgICAgICAgICAgICAKICAgICAgICAgICAgICAgICAgICAgICAgICAgICAgICAgICAgICAgICAgICAgICAgICAgICAgICAgICAgICAgICAgICAgICAgICAgICAgICAgICAgICAgICAgICAgICAgICAgIAogICAgICAgICAgICAgICAgICAgICAgICAgICAgICAgICAgICAgICAgICAgICAgICAgICAgICAgICAgICAgICAgICAgICAgICAgICAgICAgICAgICAgICAgICAgICAgICAgICAgCiAgICAgICAgICAgICAgICAgICAgICAgICAgICAgICAgICAgICAgICAgICAgICAgICAgICAgICAgICAgICAgICAgICAgICAgICAgICAgICAgICAgICAgICAgICAgICAgICAgICAKICAgICAgICAgICAgICAgICAgICAgICAgICAgICAgICAgICAgICAgICAgICAgICAgICAgICAgICAgICAgICAgICAgICAgICAgICAgICAgICAgICAgICAgICAgICAgICAgICAgIAogICAgICAgICAgICAgICAgICAgICAgICAgICAgICAgICAgICAgICAgICAgICAgICAgICAgICAgICAgICAgICAgICAgICAgICAgICAgICAgICAgICAgICAgICAgICAgICAgICAgCiAgICAgICAgICAgICAgICAgICAgICAgICAgICAgICAgICAgICAgICAgICAgICAgICAgICAgICAgICAgICAgICAgICAgICAgICAgICAgICAgICAgICAgICAgICAgICAgICAgICAKICAgICAgICAgICAgICAgICAgICAgICAgICAgICAgICAgICAgICAgICAgICAgICAgICAgICAgICAgICAgICAgICAgICAgICAgICAgICAgICAgICAgICAgICAgICAgICAgICAgIAogICAgICAgICAgICAgICAgICAgICAgICAgICAgICAgICAgICAgICAgICAgICAgICAgICAgICAgICAgICAgICAgICAgICAgICAgICAgICAgICAgICAgICAgICAgICAgICAgICAgCiAgICAgICAgICAgICAgICAgICAgICAgICAgICAgICAgICAgICAgICAgICAgICAgICAgICAgICAgICAgICAgICAgICAgICAgICAgICAgICAgICAgICAgICAgICAgICAgICAgICAKICAgICAgICAgICAgICAgICAgICAgICAgICAgICAgICAgICAgICAgICAgICAgICAgICAgICAgICAgICAgICAgICAgICAgICAgICAgICAgICAgICAgICAgICAgICAgICAgICAgIAogICAgICAgICAgICAgICAgICAgICAgICAgICAgPD94cGFja2V0IGVuZD0ndyc/Pv/bAEMABwUFBgUEBwYFBggHBwgKEQsKCQkKFQ8QDBEYFRoZGBUYFxseJyEbHSUdFxgiLiIlKCkrLCsaIC8zLyoyJyorKv/bAEMBBwgICgkKFAsLFCocGBwqKioqKioqKioqKioqKioqKioqKioqKioqKioqKioqKioqKioqKioqKioqKioqKioqKv/AABEIAcgEBwMBIgACEQEDEQH/xAAfAAABBQEBAQEBAQAAAAAAAAAAAQIDBAUGBwgJCgv/xAC1EAACAQMDAgQDBQUEBAAAAX0BAgMABBEFEiExQQYTUWEHInEUMoGRoQgjQrHBFVLR8CQzYnKCCQoWFxgZGiUmJygpKjQ1Njc4OTpDREVGR0hJSlNUVVZXWFlaY2RlZmdoaWpzdHV2d3h5eoOEhYaHiImKkpOUlZaXmJmaoqOkpaanqKmqsrO0tba3uLm6wsPExcbHyMnK0tPU1dbX2Nna4eLj5OXm5+jp6vHy8/T19vf4+fr/xAAfAQADAQEBAQEBAQEBAAAAAAAAAQIDBAUGBwgJCgv/xAC1EQACAQIEBAMEBwUEBAABAncAAQIDEQQFITEGEkFRB2FxEyIygQgUQpGhscEJIzNS8BVictEKFiQ04SXxFxgZGiYnKCkqNTY3ODk6Q0RFRkdISUpTVFVWV1hZWmNkZWZnaGlqc3R1dnd4eXqCg4SFhoeIiYqSk5SVlpeYmZqio6Slpqeoqaqys7S1tre4ubrCw8TFxsfIycrS09TV1tfY2dri4+Tl5ufo6ery8/T19vf4+fr/2gAMAwEAAhEDEQA/APpGiiigAooooAKKKKACiiigAooooAKKKKACiiigAooooAKKKKACiiigAqOS4hiYLLKiM3QMwBNSV5b4vXRj8Xh/wkGhza3CNAXy7eHT2u2DfaG52gHbxkZOOtAHqVFeYeGbjWPCmg6RbPZvZW2qeJHgtrS7JaS3snjdkQ8/KwKdOcA4q/pHxAvNS8bajG0ES+HoNOmurSVRmW4EUio0gOcbSd4X1AB70AegUVyXhm78V65Z2GuXd1ptrY3yLONOW1dnSFhlf32/l8FSflx2rraAEd1jQs7BVHUk4Ao3DbuyNuM5zxiuM+KegaXq3gTVb3UbNLi40/T7mS1dyf3TFM7gM4z8o5PT8TWzb6TY654JstO1W3FxaTWsHmRMSA2ArAHBHGQOO/SgDXhuIbhSYJUlAOCUYHB/CpK870HS9M/4WnLceDbKGy0zT7aS11OS0QJBPcEqVjVRwWQZLEdMgHniu41TV9P0SyN5q95DZWwYKZZ3CqCegyaALlNWWN3ZUdWZPvAHJX61Bp2o2erWEd9plzFdWsufLmibcrYJBwfqCK8s0y5Hh34l654gmOyxudXfTb5yTiPMETwvj2YMvT/lpQB60JYzKYw6+YBkpnkD1xTq8f8AB0z2nxF1DxJq6vFJqegPqsyHkxxeeRGvPpCkYx65qW1+Kl9Ja2ervqOlSx3UsW/RobaQzxROwGRKWwzqDkjbjjigD1uiuI8QXPi3T/EOl2tnrenLb6teyQRLJpbM1uoieQZPnDecJjovXPtRqeseJ7LxToPh22u9Pmnvra4lub2SzcKuwqQRGH9Dtxu6kHPGCAdvRXnV5401zSPDviqG+FtLq+geSyXKRFYrhJcFW2biQR8wIz2FXb3xrfN8SdO0XS4oX0r7S1pfXLAkmfyHl8tCDjKhVLdfvgcUAdxRXm0PxGvb7Xrzwzp/2U62dVntoWkUiK2t0GQ78/M5AfCgjOCeAOdrxbrtzpd1bWtv4jsNOmaEyGJ9NkvJpcHBYIjgqvbODz9KAOvqvd6hZ2Hl/bruC28xtqedKE3H0GTyaxvA/iSTxT4YS/uI0juUmlt51jRlXejlcgN8wBABweRnB6VzV5peo3/xxBlvLCSCDSo5o4ptP8wpEZyGRSZOHO37+PQbeOQD0QyIJAhdQ5GQueSPpTq88udA0vR/jToVzptmkE+oW1/NdSAktK+Yzkkn1Y4HQZ4r0OgAorifGHibUNJ8RWViuo2mhadLAZW1O9tGmjeTdjychlVPl+bLH0x3qXUPEGsm40PQ9JuNOm1PU4JJ5dRWMvbxRIBmRYw+WLF12jdjryaAOxorj9a1jxB4b0a0tpp7LUtW1PUo7GzmFu0MaB1yXkTeSdoVycHnjpTLTxBreleI77Qtektr2X+zn1GyvILdoVZVba0bqWbkEqcg9DQB2dFeZR+NfEenfDu38YazLp8gvLaJLXTo4GT97IyhZHl3H5cFmKhRxgZyMm14b8dXVz4sstHu9U07WUv45GE1havB9mkRQ2whmO5SA2Dwcj3oA9DorP8AEF/JpXhnU9RgCmS0s5Z0DDIJVCwz+Vcjo+t+J/7e0Oz1TUbC5j1jTJrtRDYtEYHVYyBkyNuH7z0HSgDvqK4IeNdTm8FWPlpbp4mur8aW0G0tHFcK5ErFcg7Qis/XoV9amvvHkWi6t4kstevLPT2s1STTBcfu/tCGENkEn5z5m4cemKAO3orjNK8V6heXXgmOZYduuaVJeXW1CMOscLDbzwMyN69qjn8X6lF4R8Z6mqwefot3cw2oKHaVjjRl3DPJyx9KAO3orj7zxkdJ8RPFqbxppsGhDUZWVPnMnmBMDnnPQDuTVPw74g8Xa74V1yd7WyttbsdQaOC0dSU2COKQROc/ew5XcOAeccUAd5RXH+DvF9342vHv9Ptha6Hbx+U5nX97Nc4BZV54RM4yR8xPHAqX4ha9rGgaJZy+HYYJr66v47ZI51JVtwY44IwSVAz70AdXRXnurfEK4k1vwzb6AkTWuoPbNfvINxiSckRoMHhzskznpt9+LL654n1y+1+Tw3LYWtpos5tYo7q2aVryZEDOCwkXYuWCjAJ7+1AHc0VxGoeNLq7+G+la9oYht7nVZrWFBOhlWJpZFRhgFc4ye4zil07xJqumaj4qt/El1bX0Wh2UN4stramAsrJKzAgu3aMY5oA7aivJdP8AidqTzaVez6lpV3FqE8Uc2k21tIs1oshwCJS2HK5G7gA4OPWus1jU9dufHsWgaHf2djGNMN7JJcWZuCT5uwAASJgdfXpQB11FeXyfEu+Xwh4UllmsbPUdejeSW7niZoLZIxlm2A7mJyoAz1JJPFLB8RNSHhbxTILmx1G70W2W4tr63gdIZwwPDITwylSCAehFAHpa3EDmMJNGxlUtGAwO8DGSPUcj86krzCbVbbQviFYWvhbSLSKO6vIrTV7woSfMlR5Vij54IClmxx8y967jxVrq+GfCuoaw8XnG0hLpFnG9+irnsCxAzQBr0Vg6Jb+KUnSbX9R02aORCZLW2s2QwtxgLIZDuA55KjNN8Wa1eaBFpt/CIjYfbo4dQMgOY4pPkDg9trlSfbNAHQUVxup+JtXe/wDFCaDDHNFomm/IDHuMt6VLhBg8hV2ZHXL+1QW3xEs9T1/wtp2kajZXT6l5v26FGzJFtt2kHy5yh3DHIoA7mivJLj4qXs8epalZalpNvBaSypa6XNbyST3aoSCWkDAIzFflABHPNdF4l1nxHBolrr2i6nZQWd41okdpcae0jp5zomS4lGcb842jpj3oA7miuO1TVvEOiLpekfbLHUNZ1i9aKC4Nm0UMESx73ZoxIS5AU4+YZyOmOa0ninWtH/4SPStWa2ub/TdJbU7O8hgMaTJhxh0LHDB17HBB7UAd1RXmM/xH1WP4ateRw2z+JUdonh2nyxti88ybc52+ThvqQK9C0e7kv9CsLycKJLi2jlcKMDLKCcfnQBcorznR/iNcx3vidfEUcSwafNcnTvJUhp44ZWjZOpy4Pl/XzBxVjRPFur3Xw/vtR1+90zSNQtL+WzlnkhaSGMpJsICBgWbqBzycfSgDvqK8+8N+PZ5NT1bT9XuotQWwsDfpdwWMtoWRSQytHJ34BBBxz7Vq+GbjxZrFrYa1qF5plvZ3qJP/AGdHauzxxsuQPOLjL8jPy460AdZRXBXXjPU4fAfiLV0W3+06dqs9nACh27EuBGMjPJ2n862tR1fUB44ttCs5IYY7jS7i5ErxFysqvGqnGRlRvJI4z6igDo6K4K1ufGdx4xvtCPiDSwLO0huTMNIb5/MZxt2+fxjZ1yevSofGPi/UdI1DUF0zxBpYlslDrpv9mT3DkbAdsskbHYSc4+UYBB5oA7+4uILSBp7qaOCJPvSSMFVfqTUNhqdhqsDTaXe297EjlGe3lWRVYAEqSpPPI4968y8Q3F7448SeDLe0htBY32mSaky3sRniRiqYJjyA7LuwAeAXJ7Vfm8V6n4e8NeKrVrSwj1PQDC6y21uY4LhZQNr7NxIPDAjPYUAekUVw2p+Nr8fEXTNF0qGFtM+1/Y765cEkzGFpRGhzgFVVS3X74HGKqxa/4y1aPxLdaZNpltDol/cQQQzWryNd+WobaW8xQg5A3DPJPTGCAeh0Vwq+MdR8R3eg2Hhg29nJqWmnU7m5uYTMIIuFCqgZcsXbGSeAvQ9qWoeO9X07wf4iN0bOPWdCvoLWScQsYZI5ZIwsvl7sjKSH5dx5HWgD0eiuH8GeMbjW/EV/pcmpafq0FnbJMb60t3t9rsx+Rkdmz8uDkHHY1jwfEG/tte0lW1rTdctdQvI7OZLHTZoY4Wc7Q8c5ZkcBsDBOTnjFAHqFFcWnxB0+w8YeINJ1++t7RLGWBbUFG3MrwI7EkZz8zH0qppPjfUdQ8PeE78i3LazqktrOVjIHlr5+Nozwf3a9fegDv6K4Xw342v8AxB48vLSKGEaL9ha40+QA77gLKIzJnP3WYNjjoAe9c/ZfErVryXRZZtX0WC5vtTitLjQVtm+026NIVO5mkzuAxzsA5oA9aorO8RX8uleF9V1G2Cma0s5p4w4ypZULDPtkVxOo/EDU11Lw1ZaXFby/aJLIavM6nEX2jGyNQDwxG5uegA9aAPR6otrelJqSac+p2a30hwlsbhBIxxnAXOTwDWZ4+v7nS/h7rt5YO0dzDYymORSQUO3G4EdCOoPtXHaDFfeCLXw3cXdjoxtNVuIbWRbOyMc1rJKp2sZSxMmTgMSATn8KAPUqK858XeNNQ0G51G4sdd024FnuZdLj02aZjtUEpJMjEIx9wAARmtrxN4iv4tD0GfQnht5tZvbe3V7iEyiNJFZidoZckAeooA6yiuI0/wAQ6vAPFVrreraYkmivEseoPamKFQ8KybmTzCTjdjG4Zx71X8N+Nbu58YwaHd6hb6rFdW8ssVzFps1mUdCuVIckMMMcFTxjmgDv6K8yT4sWsfw/1C9ur60TXrdbsR2/lttLpJIsYI9wq5579q27rX9a1PxBYaDoU1rZzNpq6je3lxAZgisdqoiBl+YkMck4AHegDsqK5S91nWNF1Dw1ZapPZTPf3U0V3PFE0aFFhd1YAsdp+UZ5I61kaJ481LWda18pBDFpkGmi90xip3ypukUSNz0YxlgOPlIoA9Corzi28W+KbTwnonivWDp76de/Zhd2kUDK8McxVRKJC+CdzBtu3o2M8bjpPrXibXda1uHw29jZ2ujSi3Bu7dpjeT7A7LlXXYoDKM4J5z7UAdrRXmeofEe5udH8JX1pe2miw62kzXE13atOImjUfKFDKfvZGc+lTf8ACwNQ/wCFY33iJnsXe01BLZLqONlhni8+ONpQjHcvDtwT1GeRigD0aiuX8KeJZvF13eajYPCmhwubeBSMzTyDBMjc/IuCMKRk53cDGeQ1P4naxD8OtM1DTorOXWbmBry5VlPl29ushQvtznliqqCeTk9jQB6vRRXmnhX4jX3i6bTdK05rRdQxJPqdw6Hy4UWQgRxrnLSEFSecKDk5JwAD0uiuT8R6rrX/AAmOkaDoV7aWZu7W4uJpbi0M+AhjCgAOuM7jzms6y8WahcfDiy1bUNX07TLuW8mt5LmSzeRX2SyoBHEHBLnYpxk/xcGgDvaK870L4iyppviZ9ZkjvjoEKXC3EFpJa/aUZGIHlychtyEZzg8V0Gjp4pLW+oa7qWmi3kj8yexgsmUw5TOFlMh3YOMkqM84xQB0lFcX4Y1LxR4psbPxAl5p9hpt04ePTmtGkkMG7q0vmDDleeFwOOvWqr+IfFOsJrmp6A+n29jo93LbRWtxbs73xh/1h8wOAgJyF+U9MmgDvqK811j4g3L3Xh9rLVLLRbPVtKa+Mt3aNc4fKYj+Vlx988/7NdX4K1648S+FoNTukhVpXkVXgyElVXKrIoPzKGABweRmgDfooooAKKKKACiiigAooooAKKKKACiiigAooooAKKKKACiiigAooooAKKKKACsYeHwPHDeI/tPJ04WP2fZ0xIX37s++MY/GtmigDmvG/hA+M9Ls7IalLp32a8W4MsKbnYbHQqDkbSRIfm5x6VKPCNmuvx3qFVtI9JOlLZBPl8ssD97PouMY/GugooA5XQfDOueH1s9PtfEEM2i2fyxwTWOZ/L/hjMocDAGBnZnAre060u7V7w3t+14JrlpYAYgnkRkACPj72CCcnn5varlFAGB4w0DUPEuiS6ZY6uumw3MTw3JNqJjIjDGBlht78+9Vf+EZ11/BN1ob+JzHdSIsUGoW9kI2gjG0EBd5ySARuyCM5HIrqaKAOX8LeGNX8Nx2tkdatJtKtozGlnBpghx6HfvJznkk5JOc8nNdRRRQAVzkfgvTpYddttVVdQtNZvRdyQSJgIQiKFyDzzGDniujooAwn8LQSeLJNZeQeVJpf9mm0CYXZvLZyD6HGMfjWfpfhjxHo1tBp1h4ohOmW21IUn07zJ1iH8HmeYAeOAShrraKAMrVdEGqaro96Z/K/su5a4CbM+ZuiePGc8ffz36VzPinSNR1H4n6BcaXcvZy2mn3bpcGDzYgxMahXGRkEMeMg8Z7V3dFAHF3Hw/e+8P+ILW/1bzdS15ka5vktgioEChFSLccKoXuxJySTV208EwWMHh+KC7c/wBj3Mly7umWupHjkV2Y54JaQt39K6eigDkn8AWkml6tbG5K3F/qbanDdpEFktZsqUKnPO0r7ZBIqS/8LarJr0WtaXrcNpqLWK2V08tj5qSKpZtyrvBQ7mJxkj1ziuppGZVGWIA9zQBheEPC6+EtHm0+O8kvFku5bkSyqA/ztnBxwSPXjPoKnXQgPGj+IPtHLaetl5GzpiRn3bs/7WMY7da1POj/AOei/wDfQo86P/nov/fQoA47VfB2v6h4sg1y38Uw2zWiyx2sR0wOI0kxkE+YNx+Uc1qXnjjw3pV29jqeuWkN3DhZUdtpBxnp2rd86P8A56L/AN9Cjzo/+ei/99CgDnJ5NQ8SQi98J+IdPGnTR+UyzWH2lSwLBmBEieoGDkfL7mqafD82Ol6ImjavLa6loqSJDeSQLKsqyHMiPHkZUnoARtwMHiuv86P/AJ6L/wB9Cjzo/wDnov8A30KAOav/AApfa3ocMGtauj6na3i3tne2toI1t5F+6BGzNuHUHJ5B7Ulj4Su/7UvdW13VVvtSubH7BG8Nt5MVvETkhU3MSS3JJbnAHAFdN50f/PRf++hR50f/AD0X/voUAc83gy2l8AWfhee6lK2lvDHHdxjY6yRbSkgHOCGUHHPpzU+mad4kh1BJNX1+1urWMMPJg07yWk44LOZG6dcKBW150f8Az0X/AL6FHnR/89F/76FAGX4l0OXxFpDaYL97O1uDsu/KQF5oiMNGGP3dw4JwTim3Hh5JfFGlavHN5S6bbTW624ThhJs5znjGzpjvWt50f/PRf++hR50f/PRf++hQB574a0eDV/ijqfim1t7uHTo4wtsLmF4lmuXULLMiuAcbERM9zurvNRsl1HTLmzchRPE0e4ru27gRnH41N50f/PRf++hR50f/AD0X/voUAck/gi9gi8MHStZjtrjw/YtZLJNZ+as4ZI1Lbd67f9VnqetZ8nw91yXRta0xvE9r5GtTSzXRGlHcGkUK20+dwMKPWu+8xMZ3rj1zSedH/wA9F/76FAHK6l4Ct9U8YaXrV1eyGDT7ZITZbBtnZGLozHPQNhtuOqg9qluPCE76brlpZ6u9p/bV8bmaZIvniQxxoyIdwwSI/vdt3TvXS+dH/wA9F/76FHnR/wDPRf8AvoUAYOk+ELXw/rhu9BkFlYy26w3GnrHmN2QAJIpzlWCjB67hjPIzVvX9CGu/2ZuuDB9g1CK9GE3bymfl68Zz1rT86P8A56L/AN9Cjzo/+ei/99CgDmZvAOlILcaWDY7NXTVpsFpPNkXOV+ZvlBz0HA9OagvfBWoC91VtB13+zbXWGaS9ha0EzCQqFLxtuG0lR3DDPOK63zo/+ei/99Cjzo/+ei/99CgDhtT8F6jNc6Fo+i3aWGi6HHHcQtNbifzZ4yQgb51PA+bjjP4YlsvC2rw+MNQl1i7g1Sw13TjBfGO18gRmPCxqP3jE7lllz/uiu086P/nov/fQo86P/nov/fQoA5nSPDfiHSFtLKLxOkulWhRUjk09TcNGvHltKG29BjIQHHvzV7S/Dn2LxFqGuX1697fXiiFCUCJbwKxZYlA92JJJ5Pp0rY86P/nov/fQo86P/nov/fQoA4+28APYeHtAtdO1drfU9BVktr77OGV1fh0eItyrADowIKggird74Z1bWvC2raTr2uRXDahB5KPb2IiSDjkhS7FiT1y3bjFdL50f/PRf++hR50f/AD0X/voUActb+BIrbSdDtFv3ebTNRGoz3Mke5ryba4ctzxkyE98AAVu65o1p4h0K80nUQxtryIxSbDhgD3B9QeR7irnnR/8APRf++hS+YmM71x65oAw9F0vxHY3Ma6t4gg1C0hj2BRYeXLKccM77yCfoozSeNp7GPwhf2+p211dw3kT2y29pA8ssrMpwqhQcHjqeBW550f8Az0X/AL6FHnR/89F/76FAHOfD7QJ/DvguzttQJfUZ83N9IxyzzOctk98cL9FFXtT8PpqPiLRdW84RNpUssmwR5Mu+Jo8Zzxjdnv0rV86P/nov/fQo86P/AJ6L/wB9CgDlYvCmtaRLcw+GNet7HTriZ5xbXOn+eYHc7m8thIvBYk4IOM1q67oTa5ocOny3ZR457edpjGCXMUiydAQBnZj2zWr50f8Az0X/AL6FHnR/89F/76FAGN4m8N/2/HZS2141hqGnXH2i0uhGJAjbSpDKSNykHkZH1rMg8D3E0OuT65qwvtV1iyaxNzHbCKO3h2sAqR7jnlixJbnjpXWedH/z0X/voUedH/z0X/voUAczN4B0uWwlBXGpS6QdJN7huEKbd3l7tuenPXAxnFdBpln/AGdpNpZb/M+zQJDvxjdtUDOO3SpvOj/56L/30KPOj/56L/30KAOZtPAOlLuOqKL911afVIGYFPKeSTftOD8wBx14JUHHFQS+At2kzW0WpGO5/tt9ZtpzAGEUrSFwrIT84G4jqPXgiut86P8A56L/AN9Cjzo/+ei/99CgDltN8GXS+JrrXNf1ZdTnu9PNhLClr5MSx792FG4kDk9SSSSc9AHaD4a1zQFstPg8RRz6NZjZHDNYg3BjHCxmUOFwBgZ2ZwPxrp/Oj/56L/30KPOj/wCei/8AfQoA4S++Heq3OlatpUHiOCHT9Tv5b14200s6F5fN27vNGQCAOlbGn+GdTTxdFr2s6zDeyQ2UlpHFBZeQAHdGLEmRs/cxj3rpPMQAHeuD0OaTzo/+ei/99CgDLttCFv4vvtd+0bjd2kNt5OzGzy2c7t2ec7+mO1Yt54HvZLrXE0/XjZafrrF7uEWgeVWMaoxjlLfLkL3VsZ4xXXedH/z0X/voUedH/wA9F/76FAHIt4Dlt9M8PDSdVFtqugW32aC8kt/MSWMoFdXj3Dg7QeGyCKil+Hj3Xh3xBZ3+sNNqWvOr3N8LfaqbcBFSPccKoGMFj1PNdn50f/PRf++hR50f/PRf++hQBzNt4HhtLXw9DDeOTo1011JI8eWu5HR1dmOeCWkLd/Suc0Lw3rt6fFiWWsvpdtqGs3Syxy2fmNtIA3wtuXaSOMkMOMjFek+dH/z0X/voUedH/wA9F/76FAHL3HggWr6TceGb0aZd6VafYYXmg89JIPlyrrlST8oOQwOfrVaX4eeb4V1TTm1Vm1HVbyO9udQeAEGRJEcARhhhQIwoGfxNdj50f/PRf++hR50f/PRf++hQBzNr4PuZtdm1XxFq39ozSWT2KxQWwt4xE5BbI3MzEkd2wOwrOX4e6hJY6HYXniISWOhXdtcWkUViI2fySNqyNvO7gEZAXk5IOBXb+dH/AM9F/wC+hR50f/PRf++hQBmaZoQ03X9b1MXBkOrSxSGPZjytkSx4znnO3PbrXM33wxF94P0nQP7ZmgXT72S5e4ihw8quZNyD5vl4lI3c9M4rufOj/wCei/8AfQo86P8A56L/AN9CgDGi8Mx2viRNWsJUgEOljTobYRZSNQ+5TwRwOBt4+tZsfgGFNMsYWvmkvItVj1W7vHiG+7lVtxBGflB4AHO0ADmur86P/nov/fQpfMQAEuuD05oAqa1p39saBqGmeb5P221kt/M27tm9SucZGcZ6ZrmbD4dQaf4b0rS4r93kstSi1K4unjy11IhzyM/LwFUdcBQOa7Dzo/8Anov/AH0KPOj/AOei/wDfQoAh1LT7fVtLutPvV3293C8Mqg4yrAg/oa5Oz8C6izaNb67ryahp2iTJPaQJZCJ3eNdsbSvvbdtBPQLk8n0rsvOj/wCei/8AfQo86P8A56L/AN9CgDib/wCH+oXFrrmm2HiD7DpWtSyzzxLZh5leUfOBIXxtJ6jbnGQCOta0fhNmv9EkvNRea10WFRb2ixBVeYRmPzWOST8rHCjGM966Dzo/+ei/99Cjzo/+ei/99CgDltT8Bw6oviNZr50GtzW842RjNu8KoF6nDjMYOCB6e9NsvB2pnxhY+I9c11L25s7eS3EMNl5Me1wOR87EHIJJyc5HAxXV+dH/AM9F/wC+hR50f/PRf++hQBzcPgxYfh5e+FhfErdR3SfafK5Xz3d/u55x5mOvOO1Jf+E7sahY6roOqLY6na2YspHmt/OiuYQchWTcCCGyQQw6kHINdL50f/PRf++hT+vSgDjfEHgW68U6bpdvrWuEzWdw8k8trbeULiN1ZGiA3koCjFc5Jq1qXhtLa71jV7ZwFm0YWKWkcWAgj8xgQQf9vGMdq6iigDzbwz4J1HUfBvhe21bV2/sm2gtbxtPa02zGRUDCNpN33FfnG0HAwTW1e+DtUj1bU7zwz4gGkpqxD3cb2Ym2yBAvmRncu1iBzkHnmuvooA5CXwIbSLw6nhzUV0/+wIpYoftFt9o8wOoUlsMnPBP1Paopvh79r8N6tp17qnn3Or3sV5dT/ZlWMtG0Z2rEDgAiIA5JPJJJrtKKAMWPw8tr4ul1yxuPIF3CI7622ZW4ZfuSZz8rAcZwcjjsDXMaZ8KLfTvAup6D/ajzXWpbVlv3h5VFYFEVN3CjnjPVia9BooAK4+z+H0Gn+HNLsbK8EOoaVcNcW2oLAAQzsxcMoPzKysVIzzwewrsKKAMW08PGLxRca7e3sl3cNCbe2QoqpbRFtxVcckkhcsf7o6VjL4Ae30PSbWw1byb3Sb6e8trp7YOpMrSEq0e4ZGJSOCDxkYrs6KAORsvAY+3eILnW9TfUm8QWsdvdJ5AiVAodfkGTgYYYByQRnJzVzRdF8QabLBDqHiGHUNPgQoI2sAk0gxhd8m8g49QozXRUUAcnovhTWPDzQ2Ol+IIxocM2+O0nsvMmjjznyhLvA28kAlSQMDNQXnga+EmrW+ia9/Z2ma1I815bm0WWRXfAlaKTcNm8ddwbB5GK7OigDlLnwZPb6npV54b1KLTf7M09tPjimtDcKYiUI/jU5Gwc81o+FvDg8N6fcwtdteXF5dyXlzMYxGGkfGdqD7q8DjJ+tbVFABRRRQAUUUUAFFFFABRRRQAUUUUAFFFFABRRRQAUUUUAFFFFABRRRQAUUUUAFFFFABRRRQAVR1LW9K0YRnV9Ts7ASnEZurhIt59BuIzV6vP9c0TWtP8AHd54hsfD1p4lt7u1hhEM1wsc1r5ZbPl7wVIO4HGRyPzAOyk1zSYtMTUpdUsksZDhLprhBEx6cPnB6HvU95e2unWj3WoXMNrbx43zTyBEXJwMk8DkgfjXlviW50PxX8P9Et9O0/7DZTeJLe0urFoRE0MhmIlRlXgHLE8etY/iW9uvEPgibw1qLs1z4c0+7n1QjpJJCrR25yeSH/1v/ARQB7VNfWlvZ/a57qGK22hvOeQBMHodx4xUFnrelajZyXen6nZ3VtEMyTQXCOiDGclgcDiuCS2g13x/4X0rV4knsLHw+NQggkOVe43IgYr0bauSM9M5q9rtja6P8TPC82mQRwNqxubS+giQKtzEIdwLDGDtKjn0OKAOi/4TXwt/0Muj/wDgfF/8VUs3ivw7bLE1xr2lxCZPMiL3ka+YmSNwyeRkEZHoa5e50jTR8Z9PhGnWoibQ52MYgXaSJo+cY61ma1BPD8axFpXh6z1YL4cjH2eaVYUjH2mTkZVh7Yx3oA9IsNSsdVtvtGmXtveQ7ivm28qyLkdRkEjNUbjxZ4ctLmS3u9f0uCaNirxS3sashHYgnINS6Cs66WPtekW+kSlyTbW8qyKPfcFUc/SuV+JemWA07SZhZW4lk12xDyeUu5szDOTjnNAHYadrGm6ujvpOo2l8sZw7W06yBT6HaTirlcFGmsXfj7XNE0O/g0XT7O2tZt9vZRM++QPxyMYO3nIPQYxmsB/HGvapBqGrabqd3beTLMljpcPh+e4inEblR5k4Q8sVx8rALnnkGgD1yivONb8Z6hc+IrXSbe4vdCjGnRX11JBpMl7cB5CcQ7QjBAApyzDJPAxg10XgXWdS1nRbhtZhlWe1u3t0nktJLf7VGACsvluAVyDyMYyDQB0tYXiy+udP0yKSzlMTtMFJAB4wfX6Vu1zXjj/kDwf9dx/6C1TP4WRU0izmv+El1f8A5/W/75X/AAo/4SXV/wDn9b/vlf8ACsqiuXml3OLml3NX/hJdX/5/W/75X/Cj/hJdX/5/W/75X/Csqijml3Dml3NX/hJdX/5/W/75X/Cj/hJdX/5/W/75X/Csqijml3Dml3NX/hJdX/5/W/75X/Cj/hJdX/5/W/75X/Csqijml3Dml3NX/hJdX/5/W/75X/Cj/hJdX/5/W/75X/Csqijml3Dml3NX/hJdX/5/W/75X/Cj/hJdX/5/W/75X/Csqijml3Dml3NX/hJdX/5/W/75X/Cj/hJdX/5/W/75X/Csqijml3Dml3NX/hJdX/5/W/75X/Cj/hJdX/5/W/75X/Csqijml3Dml3NX/hJdX/5/W/75X/Cj/hJdX/5/W/75X/Csqijml3Dml3NX/hJdX/5/W/75X/Cj/hJdX/5/W/75X/Csqijml3Dml3NX/hJdX/5/W/75X/Cj/hJdX/5/W/75X/Csqijml3Dml3NX/hJdX/5/W/75X/Cj/hJdX/5/W/75X/Csqijml3Dml3NX/hJdX/5/W/75X/Cj/hJdX/5/W/75X/Csqijml3Dml3NX/hJdX/5/W/75X/Cj/hJdX/5/W/75X/Csqijml3Dml3NX/hJdX/5/W/75X/Cj/hJdX/5/W/75X/Csqijml3Dml3NX/hJdX/5/W/75X/Cj/hJdX/5/W/75X/Csqijml3Dml3NX/hJdX/5/W/75X/Cj/hJdX/5/W/75X/Csqijml3Dml3NX/hJdX/5/W/75X/Cj/hJdX/5/W/75X/Csqijml3Dml3NX/hJdX/5/W/75X/Cj/hJdX/5/W/75X/Csqijml3Dml3NX/hJdX/5/W/75X/Cj/hJdX/5/W/75X/Csqijml3Dml3NX/hJdX/5/W/75X/Cj/hJdX/5/W/75X/Csqijml3Dml3NX/hJdX/5/W/75X/Cj/hJdX/5/W/75X/Csqijml3Dml3NX/hJdX/5/W/75X/Cj/hJdX/5/W/75X/Csqijml3Dml3NX/hJdX/5/W/75X/Cj/hJdX/5/W/75X/Csqijml3Dml3NX/hJdX/5/W/75X/Cj/hJdX/5/W/75X/Csqijml3Dml3NX/hJdX/5/W/75X/Cj/hJdX/5/W/75X/Csqijml3Dml3NX/hJdX/5/W/75X/Cj/hJdX/5/W/75X/Csqijml3Dml3NX/hJdX/5/W/75X/Cj/hJdX/5/W/75X/Csqijml3Dml3NX/hJdX/5/W/75X/Cj/hJdX/5/W/75X/Csqijml3Dml3NX/hJdX/5/W/75X/Cj/hJdX/5/W/75X/Csqijml3Dml3NX/hJdX/5/W/75X/Ct7w3qd5qMN6LyYy7Am3IAxknPT6VxldR4O/1OofSP+Zq6cnzI0pybmrs6Ciiiu46wooooAKKKKACtVP8AVr9BWVWqn+rX6CokA6iiipGFFFFABRRRQAUUUUAFFFFABRRRQAUUUUAFFFFABRRRQAUUUUAFFFFABRRRQAUUUUAFFFFABRRRQAUUUUAFFFFABRRRQAUUUUAFFFFABRRRQAUUUUAFc/q3h7Vby/ludK8VahpYmVVaBIYZowR3UOhKk98HmugooA5WD4f6db6JY6cl1eSfZdUTVXuJZA8txOsm8lzjHJ64ArT1Xw1p2qabq9qIIrWTWIDBd3MESrLINpUEtj5iATjOcVr0UAc9qnhC31C20z7Pe3NhfaUm2zvrfb5iDaFIIYFWUgDKkYo0jwn9i1ltY1fVLrWdTEZhhnuVRFt4yclURAFBOBlsZOBziuhooAy5NBgk8WQa+ZZBcQ2b2axjGwqzqxJ75yorM1jwbJqPika/Ya7faVefYlsm+zRxMGjDs/8AGjc5b9K6eigCho+n3Wm2bQ32q3GqSFywnuUjVgMD5cIqjHGemeai17QYPEFtawXUska2t5DeKY8ZLRsGAOexIrUooAzLPQ4LPxHqesRyyNNqMcEciNjaoi34x353nP0rI/4Q27s7i5/sDxJfaTa3U7TyW0cMMqozHLlDIpK7jk9xkk4rqqKAOd1PwkLvUbfVNP1S707VYYBbG7jCP58YydsispVuST2INamkWFzp1iYr7U7jU52cu886op57BUAAAx0q9RQAVzXjj/kDwf8AXcf+gtXS1BdBjGNoBOe4H9aTV1YmS5lY8nor07bJ/dT8lo2yf3U/Jay9j5nP7DzPMaK9O2yf3U/JaNsn91PyWj2PmHsPM8xor07bJ/dT8lo2yf3U/JaPY+Yew8zzGivTtsn91PyWjbJ/dT8lo9j5h7DzPMaK9O2yf3U/JaNsn91PyWj2PmHsPM8xor07bJ/dT8lo2yf3U/JaPY+Yew8zzGivTtsn91PyWjbJ/dT8lo9j5h7DzPMaK9QKt5IwqbsnPC9Kbtk/up+S0ex8w9h5nmNFenbZP7qfktG2T+6n5LR7HzD2HmeY0V6dtk/up+S0bZP7qfktHsfMPYeZ5jRXp22T+6n5LRtk/up+S0ex8w9h5nmNFenbZP7qfktG2T+6n5LR7HzD2HmeY0V6dtk/up+S0bZP7qfktHsfMPYeZ5jRXp22T+6n5LRtk/up+S0ex8w9h5nmNFenbZP7qfktOKt5S4VN2TnhaPY+Yew8zy+ivTtsn91PyWjbJ/dT8lo9j5h7DzPMaK9O2yf3U/JaNsn91PyWj2PmHsPM8xor07bJ/dT8lo2yf3U/JaPY+Yew8zzGivTtsn91PyWjbJ/dT8lo9j5h7DzPMaK9O2yf3U/JaNsn91PyWj2PmHsPM8xor07bJ/dT8lo2yf3U/JaPY+Yew8zzGivTtsn91PyWjbJ/dT8lo9j5h7DzPMaK9QZW8tMKm7nPC03bJ/dT8lo9j5h7DzPMaK9O2yf3U/JaNsn91PyWj2PmHsPM8xor07bJ/dT8lo2yf3U/JaPY+Yew8zzGivTtsn91PyWjbJ/dT8lo9j5h7DzPMaK9O2yf3U/JaNsn91PyWj2PmHsPM8xor07bJ/dT8lo2yf3U/JaPY+Yew8zzGivTtsn91PyWjbJ/dT8lo9j5h7DzPMaK9O2yf3U/Jacyt5aYVN3O7haPY+Yew8zy+uo8Hf6nUPpH/M1022T+6n5LQVlKlcKAeuMCqjS5Xe5UaXK73IaKk8l/Qf8AfQo8l/Qf99Cui6NyOipPJf0H/fQpjKVYhhgigBKKKKYBWqn+rX6CsqtVP9Wv0FRIB1FFFSMKKKKACiiigAooooAKKKKACiiigAooooAKKKKACiiigAooooAKKKKACiiigAooooAKKKKACiiigAooooAKKKKACiiigAooooAKKKKACiiigArndT8aWVhq82l2tjqOq3tuiPcQ6fb+Z5AfJXeSQASASBnOO1dFXF6l4S1BPEmoa54Q8RjTb268v7fbXEC3EErIgCZGQ0Z245B6dqAL2tePNK8P+G7PW9Whvra2u5hCsb2xEsbYY/Oh5GAjZqz4q8Y6T4O0ePUtYkk8iWQRxiBN7OSC3A9MAnNcJqWtnxv4S8GXWp2sKNceI1triOJt0TlUnRihPVTg469eprD8QWWr3XgnWItdtJo4vC2lSWNtPLHtW6kZ9vmr64hRATnrIwoA9b1nxTp+iNaQzrcXF5e5+zWdrEZJpcDJIUdAB1JIA9arWHjXT7/7bCtpqEGoWUPny6bPalbgoejIvRwTxlSRmsWGWO1+NkX2/wCVrzQEisHcABikpaVFP97BViPSpdXkW6+M/hyKwfdPZWN29+E52ROEEYb0ywyB7dO9AEn/AAsuy/tP+zv7A8Q/bPJ8/wAj+zju8vO3djPTPFWbnx/ZW+pDT00jWrm6FtFcyRW9kXaFZAdocZ+VuCMeoNVx/wAlzf8A7Fxf/Sk1kz6frF/8YNcGia3/AGSyabaGRvsiT+Z80mB8x4xz+dAHeaVqQ1XT1uhaXdmGJHlXkPlyDB6laxdS8c2en69caPHpmrX91bRpJL9htDKqK+duSDxnB/KtrSba+s9Njh1TUP7RuVJ33PkrFv54+VeBgcfhXCDT9Wv/AIu+JP7H1s6VssrLzCLVJvMyJMfe6Y56etAHf2N2L6xhuhBPbiVd3lXEeyRPZl7GrFefXmnprvxNi0LxJPLeWtpoaTxw7mijuJjKVeUqpAyAoAHIG41zc0tzeeDZNMttRuhb23jKLTrG781mdIPNQDDk5YKWZQc/w4zQB7LRXl/ibShZeLNE8N6VYo+l3ENxdvZS6jJbreTrsUBnwzNtX5tnQ8k5xVi08J+ID4Z8QaKssGm29zLC9jaLqUk3koSPNiMm0MqPtIAHTe2KAO/1G/t9K0u61C9YpbWkLzzMFJKoqlmOB14BqW3njurWK4hOY5kDoSMZBGRXlFzb6Wvg/wAY6HN4abRdTh0VrqSBbozxSKFk2OjZ6hl54B6A5xXfeD9IsNK8M2X9mwLCs9vFI+1iQx2Dnk0Abtcp8Qf+QHb/APXwP/QWrq65T4g/8gO3/wCvgf8AoLVMtjKr8DPPKKKKxPMCiiigAooooAKKKKACiiigAooooAKKKKACiiigAooooAKKKKACiiigAooooAKKKKACiiigAooooAKKKKACiiigAooooAKKKKACiiigAooooAKKKKACiiigAooooAKKKKACiiigAooooAKKKKACiiigAooooAKKKKACiiigAr1y4/4+H+teR165cf8AHw/1ral1OzDdSKiiitzrCtVP9Wv0FZVaqf6tfoKiQDqKKKkYUUUUAFFFFABRRRQAUUUUAFFFFABRRRQAUUUUAFFFFABRRRQAUUUUAFFFFABRRRQAUUUUAFFFFABRRRQAUUUUAFFFFABRRRQAUUUUAFFFFABWBqngXwzrV9Jealo9vNcyjEsnKmQYA+bBG7gAc56Vv0UAZ50HSja2NsLCBINPlWa0iRNqwuoIBUDgcMfzqfUNPtNV0+ax1GBbi1nXbJE/Rh6GrNFAGfq2g6XrtgLLV7GG7t1IKpKM7TjGQeoOCeRSaN4f0nw/BJFounwWaytvkMa/NI3qzdWPPc1o0UAVv7OtP7V/tL7On23yPs/n4+by927b9M81l6v4K8Oa9f8A23V9It7q5KBDK4OSo6Dg+5rdooApaTo2n6FYiy0i1S1twxYRx5xk9TUkWnWkGo3F/Fbol1cqiTTAfM6pnaD9Nx/OrNFAGZrHhzSNfEX9sWEN0Yc+WzjDJnqARyAccjvTk8P6TFplnp0WnwJZ2UiS28KrhYnQ7lYAdwec+taNFAFHVtF07XbQW2r2cV1ErB1WQfcYfxA9QeeoqjH4K8ORaTPpqaPbfZLlxJMhUku46MWPORjg5yK3KKAMvSvDWjaJbTwaZp8MKXAAnyC7SgDADM2SwwTwT3PrT9H0DStAhki0Wxhso5WDOkIwpP07fhWjRQAVzvjTT7rUdJgisoWmdZwxC9htI/rXRVn6zf2en2iS6hcCCNn2hipOTgnHH0NFr6ETScWmecf8ItrX/QPk/Mf40f8ACLa1/wBA+T8x/jXW/wDCT6B/0FE/79P/AIUf8JPoH/QUT/v0/wDhU+zj3OX2VL+b8Ucl/wAItrX/AED5PzH+NH/CLa1/0D5PzH+Ndb/wk+gf9BRP+/T/AOFH/CT6B/0FE/79P/hR7OPcPZUv5vxRyX/CLa1/0D5PzH+NH/CLa1/0D5PzH+Ndb/wk+gf9BRP+/T/4Uf8ACT6B/wBBRP8Av0/+FHs49w9lS/m/FHJf8ItrX/QPk/Mf40f8ItrX/QPk/Mf411v/AAk+gf8AQUT/AL9P/hR/wk+gf9BRP+/T/wCFHs49w9lS/m/FHJf8ItrX/QPk/Mf40f8ACLa1/wBA+T8x/jXW/wDCT6B/0FE/79P/AIUf8JPoH/QUT/v0/wDhR7OPcPZUv5vxRyX/AAi2tf8AQPk/Mf40f8ItrX/QPk/Mf411v/CT6B/0FE/79P8A4Uf8JPoH/QUT/v0/+FHs49w9lS/m/FHJf8ItrX/QPk/Mf40f8ItrX/QPk/Mf411v/CT6B/0FE/79P/hR/wAJPoH/AEFE/wC/T/4Uezj3D2VL+b8Ucl/wi2tf9A+T8x/jR/wi2tf9A+T8x/jXYHxVoBhCf2ovBJz5T/4Uz/hJ9A/6Cif9+n/wo5I9w9lS/m/FHJf8ItrX/QPk/Mf40f8ACLa1/wBA+T8x/jXW/wDCT6B/0FE/79P/AIUf8JPoH/QUT/v0/wDhR7OPcPZUv5vxRyX/AAi2tf8AQPk/Mf40f8ItrX/QPk/Mf411v/CT6B/0FE/79P8A4Uf8JPoH/QUT/v0/+FHs49w9lS/m/FHJf8ItrX/QPk/Mf40f8ItrX/QPk/Mf411v/CT6B/0FE/79P/hR/wAJPoH/AEFE/wC/T/4Uezj3D2VL+b8Ucl/wi2tf9A+T8x/jR/wi2tf9A+T8x/jXW/8ACT6B/wBBRP8Av0/+FH/CT6B/0FE/79P/AIUezj3D2VL+b8Ucl/wi2tf9A+T8x/jR/wAItrX/AED5PzH+Ndb/AMJPoH/QUT/v0/8AhR/wk+gf9BRP+/T/AOFHs49w9lS/m/FHJf8ACLa1/wBA+T8x/jR/wi2tf9A+T8x/jXW/8JPoH/QUT/v0/wDhR/wk+gf9BRP+/T/4Uezj3D2VL+b8Ucl/wi2tf9A+T8x/jR/wi2tf9A+T8x/jXW/8JPoH/QUT/v0/+FPPirQDEqf2onBJz5T/AOFHJHuHsqX834o4/wD4RbWv+gfJ+Y/xo/4RbWv+gfJ+Y/xrrf8AhJ9A/wCgon/fp/8ACj/hJ9A/6Cif9+n/AMKPZx7h7Kl/N+KOS/4RbWv+gfJ+Y/xo/wCEW1r/AKB8n5j/ABrrf+En0D/oKJ/36f8Awo/4SfQP+gon/fp/8KPZx7h7Kl/N+KOS/wCEW1r/AKB8n5j/ABo/4RbWv+gfJ+Y/xrrf+En0D/oKJ/36f/Cj/hJ9A/6Cif8Afp/8KPZx7h7Kl/N+KOS/4RbWv+gfJ+Y/xo/4RbWv+gfJ+Y/xrrf+En0D/oKJ/wB+n/wo/wCEn0D/AKCif9+n/wAKPZx7h7Kl/N+KOS/4RbWv+gfJ+Y/xo/4RbWv+gfJ+Y/xrrf8AhJ9A/wCgon/fp/8ACj/hJ9A/6Cif9+n/AMKPZx7h7Kl/N+KOS/4RbWv+gfJ+Y/xo/wCEW1r/AKB8n5j/ABrrf+En0D/oKJ/36f8Awo/4SfQP+gon/fp/8KPZx7h7Kl/N+KOS/wCEW1r/AKB8n5j/ABo/4RbWv+gfJ+Y/xrrf+En0D/oKJ/36f/Cj/hJ9A/6Cif8Afp/8KPZx7h7Kl/N+KOS/4RbWv+gfJ+Y/xo/4RbWv+gfJ+Y/xrsG8VaAY0X+1F+XP/LJ/8KZ/wk+gf9BRP+/T/wCFHJHuHsqX834o5L/hFta/6B8n5j/Gj/hFta/6B8n5j/Gut/4SfQP+gon/AH6f/Cj/AISfQP8AoKJ/36f/AAo9nHuHsqX834o5L/hFta/6B8n5j/Gj/hFta/6B8n5j/Gut/wCEn0D/AKCif9+n/wAKP+En0D/oKJ/36f8Awo9nHuHsqX834o5L/hFta/6B8n5j/Gj/AIRbWv8AoHyfmP8AGut/4SfQP+gon/fp/wDCpbbXtGvLqO3ttRV5ZG2ovlOMn8qPZx7h7Kl/N+Rxv/CLa1/0D5PzH+NH/CLa1/0D5PzH+Negng0lP2SL+rx7nn//AAi2tf8AQPk/Mf40f8ItrX/QPk/Mf416BRR7JB9Xj3PP/wDhFta/6B8n5j/Gj/hFta/6B8n5j/GvQKKPZIPq8e55/wD8ItrX/QPk/Mf40f8ACLa1/wBA+T8x/jXoFSv/AMe8X40eyQfV49zzr/hFta/6B8n5j/Gj/hFta/6B8n5j/GvQKKPZIPq8e55//wAItrX/AED5PzH+NH/CLa1/0D5PzH+NegUUeyQfV49zz/8A4RbWv+gfJ+Y/xr0W4/4+H+tRUVcY8ppTpqGwUUUVZqFaqf6tfoKyq1U/1a/QVEgHUUUVIwooooAKKKKACiiigAooooAKKKKACiiigAooooAKKKKACiiigAooooAKKKKACiiigAooooAKKKKACiiigAooooAKKKKACiiigAooooAKZNKsEDyvnbGpZsDJwBmn0yeRYreSR1LKqliqjJIA6Y70AcZoHiLxZ4l0+11vT9O0eLSbpg8UMt1IbgxbsEkhdobAzjn0Jp9z45ns/ihH4ans4xYSRxj7XuO5ZZFdkUjpg+Uwz6kVw2tTeG7aH7Z8K5dQs/E0kyGPTbOKZEmJddyywuNiLjJydo4rotW0K71vx14ohtD5F2NOsJrO4bIVLiOSR0OcdNwGfYmgDXl8dyn4q2/hW1tEktGjcTXZY5WZY/MKAdDhWjJ/3vali8T+INfvdQ/4RHTtPawsJ2tvtWoTun2qVThxGEU4UHjceCenSsWy0G+0jxl4MOoKst9PJqd3qE0IJTzpUU9cDgcKM9lFTeF9esvAdpd+HfE7TWUkF5PLazNC7pdQySM6lWVT82WIK9c9M5oA2bDxLrfiHSpH0KxsbfUrK7e01C11CZwInX+6yKSwIIIJA4NVfCniLxd4i/0mWy0WGyivJbWfbPKZP3blGKjbg9OMkVP4BtLuSbXdfvbWSzGtX3n28Ey7ZFhRFRGcfwlsE46jIyaPhnG8fhy/EiMpOr3rDcMZBnbBoAp6B4i8beJdGTVNOsdAjtpZJURZ7iYP8kjRnICEdVJ613leI+Dh4FtfD8I8SNeQ6qlzcNKga8UD9+5XhPl+7t6fjXtqsGUMvIIyKAMTwZr8nijwhY6xPAsEl0HJjQkhcOy9T9KW78Z+HLHVv7Mu9YtYrwMqNGz/AHGb7qseik9gSOorivhv410HRvAOlaZqV3JBeRB1eI2spwTIxHIUjoRWbLd22n/D3xR4V1e3uH127ubwRW/kOz3zyuTFKhAIbOU57becYoA9O1jxLo2gPCmsahDavPnykc/M4HUgDnA7noKx/Enjm2sPBd1rnh6S21PybiK3Hzny9zyIpyR6BweKxY2fwn46ttT8SrO8EmgQ2aXkcTzLHLG2ZUIRSRu+Vge+MVy00H2r4SeKUtLOa3WXxQWjgCFXRTcxHp1UgdR2II7UAegWHifW7XxhZ+H/ABRptlE+oQSy2t1p9w8iEx4LKysoI4br/jxp3HjTw3a6wNKuNZtEvS4jMRk+65GQrHorcdCQa5VtBXwV4/0zVzPfara6kP7Olnv5muJbN25Qqx6IxG0+mQc1yVpaJaeEL3w34t8UXGlSmeYXVkdMSRp2Zy/mRvtLSbgQQRyDwMYFAHr2s+J9F8PyQx6zqUFpJMCY0c/MwHU4HOB3PQVb0/U7LVrY3GmXUV1CsjRmSJty7lOGGfYiuISWLwz8S7+816O6mi1DTbaGzvltpJcmPcJIiEUkMxKtjv25qz8JVCeDrlVgNsF1S8AhIx5f75vl79OlAHcVx3xK/wCRftv+vof+gtXY1x3xK/5F+2/6+h/6C1BjW/hs8yooopHkBRRRQAUUUUAFFFFABRRRQAUUUUAFFFFABRRRQAUUUUAFFFFABRRRQAUUUUAFFFFABRRRQAUUUUAFFFFABRRRQAUUUUAFFFFABRRRQAUUUUAFFFFABRRRQAUUUUAFFFFABWt4X/5GrTv+u61k1reF/wDkatO/67rQXD4kepH7x+tJSn7x+tJWp7IUUUUwCiiigAqV/wDj3i/Goqlf/j3i/GkBFRRRTAKKKKACiiigAooooAK1U/1a/QVlVqp/q1+gqJAOoooqRhRRRQAUUUUAFFFFABRRRQAUUUUAFFFFABRRRQAUUUUAFFFFABRRRQAUUUUAFFFFABRRRQAUUUUAFFFFABRRRQAUUUUAFFFFABRRRQAUUUUAFFFFABRRRQAUUUUAFFFFABRRRQBl6vo02qSRPBrWpaZ5YKkWTRgOD6h0b8xgin6Fodp4e0iPT7AytGjM7yzPvkldmLM7t3Ykkn9MDitGigAooooAx9Y0KfVbmOW313VNMCoUdLJ4wsg9SHRsHnqMH9MWtF0az0DSINN01GS3hBxvYszEklmYnkkkkk+pq9RQAVheLdFfXdMht0nSApMH3OCc8EY4+tbtYfivXYtA02K5mt2uA8wjCq+3HBOc4PpQRU5eV82xx/8Awrub/oJ2/wD3w1H/AArub/oJ2/8A3w1Sf8LKs/8AoEy/+BA/+Jo/4WVZ/wDQJl/8CB/8TVWRxf7N3/Mj/wCFdzf9BO3/AO+Go/4V3N/0E7f/AL4apP8AhZVn/wBAmX/wIH/xNH/CyrP/AKBMv/gQP/iaLIP9m7/mR/8ACu5v+gnb/wDfDUf8K7m/6Cdv/wB8NUn/AAsqz/6BMv8A4ED/AOJo/wCFlWf/AECZf/Agf/E0WQf7N3/Mj/4V3N/0E7f/AL4aj/hXc3/QTt/++GqT/hZVn/0CZf8AwIH/AMTR/wALKs/+gTL/AOBA/wDiaLIP9m7/AJkf/Cu5v+gnb/8AfDUf8K7m/wCgnb/98NUn/CyrP/oEy/8AgQP/AImj/hZVn/0CZf8AwIH/AMTRZB/s3f8AMj/4V3N/0E7f/vhqP+Fdzf8AQTt/++GqT/hZVn/0CZf/AAIH/wATR/wsqz/6BMv/AIED/wCJosg/2bv+ZH/wrub/AKCdv/3w1H/Cu5v+gnb/APfDVJ/wsqz/AOgTL/4ED/4mj/hZVn/0CZf/AAIH/wATRZB/s3f8xn/Cup9ob+04ME4zsak/4V3N/wBBO3/74apf+FmWpQL/AGTLgHP/AB8D/wCJpP8AhZVn/wBAmX/wIH/xNFkH+zd/zI/+Fdzf9BO3/wC+Go/4V3N/0E7f/vhqk/4WVZ/9AmX/AMCB/wDE0f8ACyrP/oEy/wDgQP8A4miyD/Zu/wCZH/wrub/oJ2//AHw1H/Cu5v8AoJ2//fDVJ/wsqz/6BMv/AIED/wCJo/4WVZ/9AmX/AMCB/wDE0WQf7N3/ADI/+Fdzf9BO3/74aj/hXc3/AEE7f/vhqk/4WVZ/9AmX/wACB/8AE0f8LKs/+gTL/wCBA/8AiaLIP9m7/mR/8K7m/wCgnb/98NR/wrub/oJ2/wD3w1Sf8LKs/wDoEy/+BA/+Jo/4WVZ/9AmX/wACB/8AE0WQf7N3/Mj/AOFdzf8AQTt/++Go/wCFdzf9BO3/AO+GqT/hZVn/ANAmX/wIH/xNH/CyrP8A6BMv/gQP/iaLIP8AZu/5kf8Awrub/oJ2/wD3w1H/AArub/oJ2/8A3w1Sf8LKs/8AoEy/+BA/+Jo/4WVZ/wDQJl/8CB/8TRZB/s3f8yP/AIV3N/0E7f8A74al/wCFdThQ39pwYPT5Gp//AAsqz/6BMv8A4ED/AOJpT8TLUoF/smXAOf8Aj4H/AMTRZB/s3f8AMi/4V3N/0E7f/vhqP+Fdzf8AQTt/++GqT/hZVn/0CZf/AAIH/wATR/wsqz/6BMv/AIED/wCJosg/2bv+ZH/wrub/AKCdv/3w1H/Cu5v+gnb/APfDVJ/wsqz/AOgTL/4ED/4mj/hZVn/0CZf/AAIH/wATRZB/s3f8yP8A4V3N/wBBO3/74aj/AIV3N/0E7f8A74apP+FlWf8A0CZf/Agf/E0f8LKs/wDoEy/+BA/+Josg/wBm7/mR/wDCu5v+gnb/APfDUf8ACu5v+gnb/wDfDVJ/wsqz/wCgTL/4ED/4mj/hZVn/ANAmX/wIH/xNFkH+zd/zI/8AhXc3/QTt/wDvhqP+Fdzf9BO3/wC+GqT/AIWVZ/8AQJl/8CB/8TR/wsqz/wCgTL/4ED/4miyD/Zu/5kf/AArub/oJ2/8A3w1H/Cu5v+gnb/8AfDVJ/wALKs/+gTL/AOBA/wDiaP8AhZVn/wBAmX/wIH/xNFkH+zd/zI/+Fdzf9BO3/wC+Go/4V3N/0E7f/vhqk/4WVZ/9AmX/AMCB/wDE0f8ACyrP/oEy/wDgQP8A4miyD/Zu/wCYw/DqcKCdTgwenyNSf8K7m/6Cdv8A98NUp+JloUCnSZcLnH+kD/4mk/4WVZ/9AmX/AMCB/wDE0WQf7N3/ADI/+Fdzf9BO3/74aj/hXc3/AEE7f/vhqk/4WVZ/9AmX/wACB/8AE0f8LKs/+gTL/wCBA/8AiaLIP9m7/mR/8K7m/wCgnb/98NR/wrub/oJ2/wD3w1Sf8LKs/wDoEy/+BA/+Jo/4WVZ/9AmX/wACB/8AE0WQf7N3/Mj/AOFdzf8AQTt/++Gq5pPgmTTdXtbx9QhdYZA5UIwJxVf/AIWVZ/8AQJl/8CB/8TR/wsqz/wCgTL/4ED/4miyGnhk73/M7I9TSVx3/AAsqz/6BMv8A4ED/AOJo/wCFlWf/AECZf/Agf/E1Vzf6xS7nY0Vx3/CyrP8A6BMv/gQP/iaP+FlWf/QJl/8AAgf/ABNFw+sUu52NFcd/wsqz/wCgTL/4ED/4mj/hZVn/ANAmX/wIH/xNFw+sUu52NSv/AMe8X41xP/CyrP8A6BMv/gQP/iavaV48ttX1S108abJF5r7Q5mBxn2xRcar027JnR0UppKZsFFFFABRRRQAUUUUAFaqf6tfoKyq1U/1a/QVEgHUUUVIwooooAKKKKACiiigAooooAKKKKACiiigAooooAKKKKACiiigAooooAKKKKACiiigAooooAKKKKACiiigAooooAKKKKACiiigAooooAKKKKACiikYkKSAWIHQdTQB5x4u8U6xZ+Lp7nSZ2GleGo4JNVgCZ8/z2+YZ/2Ihv49fStLxtc303iXwppenatdadBqdxOs8tmyb2VYS64LKw6j0qjo3w3mvdDvG8TanqcF7rMss+o2trdgQ5k42dDkBNq/hVY6F4rtrfwdM+mDULnw9PcRSqtzGhmi8sxxOCTjJXBI68GgDWkvda8I+J9Gs9R1Z9Y0nVpjaLJdQok9tNsLJ8yBQ6tgjkAjjk1neLPE+sWfjCW7064ePRPDawHVYxHnzjMw3fXy4iH4/vfnqHSte8SeJtN1PX7GDTNP0d2uLezjuBNNcTFCoLkAKoUE4AJye+KztG+G0t34fu/wDhI9S1K3vtYkmn1G1tboCEtIT8uAOcJtXr2oAtfEXX59Mu9DhfVJ9G0W8kkN9qltEHMeAvloGwwQOSfmx2+tW7awu7/wAKXbeFvGU+pSSFZLK7meKUROpyULIo3KeAQQSPrUOkSeLNE8J6Xp954eXV5LaJra4MV3GjOqYETgOdp3KOcsCDSeCPD1/YeJNd1u70qHQ4NR8pYtNhlV+UDbpX2/KGbd2/GgCDS/Fd9431WxsdLWbTUsP3uukjDRyglRaq3fLAksP4QMEFqo+EPFWrp481ay1y7a40y+1S6s9OZgB9nlhbPlZ9GQ5Ge6Ed66jwvo15peteJbi8RVj1DUvtFuQwO5PKRcnHTlTxWLF4Ivbrwz4jsrnbbXl1rVxqWmzq+TE+4NDJkcjkc98EjvQBreAdTvNW0O9n1Gdp5E1S7hVmAGEWZgo49AMViePLDVNLFrf2HirWoft2q29s0CvD5cSSyBSEHl5GAeMk++a1/hvpOraN4TaHxDBHb3815PcyxxuGUeZIW4IJ9aseN9Hvda07TYtPjEj2+q2lzICwXEccgZjz7DpQBk2OtzaH4i1Dw5ZjXfEuowxxXDNdS26qkbZGQ2EAwccYJOeOAcWb34hxW4vLu00W+vtH093ju9ThaPy4yn3yqltzhcHJA7cZq/pWkXdr4+8Q6rNGotb23s44H3AljGJd4x1H3l+tcXb+BpdJF3pl34RfX7eS5leC8j1IRK0cjltsqM4II3EEqpzigDs9U8YR2uoWunaPp9zrV9c232xYrVkVUgzgSM7kAAnIA5JINXvDviC38R6a91bxTW8kMz29xbTqBJBKhwyNgkehyDyCK43WfBckXiS11i38PJqdo2nRWUthBemGW2MeSpRiyq64O0gkHhSO9dP4N0uPS9KuEi0L+wxNctIbY3ImZjtUb2IJGTjoCeAKAOgrifil/wAi7a/9fY/9Aau2rifil/yLtr/19j/0Bqa3Ma/8JnldFFFUeKFFFFABRRRQAUUUUAFFFFABRRRQAUUUUAFFFFABRRRQAUUUUAFFFFABRRRQAUUUUAFFFFABRRRQAUUUUAFFFFABRRRQAUUUUAFFFFABRRRQAUUUUAFFFFABRRRQAUUUUAFFFFABRRRQAUUUUAFFFFABW14P/wCRw03/AK7D+RrFra8H/wDI4ab/ANdh/I0F0/jR60eppKU9TSVR7gUUUUAFFFFABRRRQAVqp/q1+grKrVT/AFa/QVEgHUUUVIwooooAKKKKACiiigAooooAKKKKACiiigAooooAKKKKACiiigAooooAKKKKACiiigAooooAKKKKACiiigAooooAKKKKACiiigAooooAKKKKACijIzjPPpTWkRMb3Vc9MnFADqKKTcN23I3YzjPOKAFopskscMZkmdY0XqzHAH40iTxSRrJHKjo/3WVgQ30NAD6KQsFxuIGTgZPU0Bg2dpBwcHB6GgBaKRWDLlSCPUGkaWNDh3VT6E4oAdRSKwZcqQR6g0tABRRRQAUUUUAFZHiLR7PWrGODUPN8tJA48pgpzgj0PrWvXK/EDXL3QdDt7jTmRZHuRGS6BuNrHv8AQU1uRUcVBuWxn/8ACA6B/wBPn/f4f/E0f8IDoH/T5/3+H/xNcZ/wsjxD/wA9bf8A8B1o/wCFkeIf+etv/wCA61pys4PbYf8AlOz/AOEB0D/p8/7/AA/+Jo/4QHQP+nz/AL/D/wCJrjP+FkeIf+etv/4DrR/wsjxD/wA9bf8A8B1o5WHtsP8AynZ/8IDoH/T5/wB/h/8AE0f8IDoH/T5/3+H/AMTXGf8ACyPEP/PW3/8AAdaP+FkeIf8Anrb/APgOtHKw9th/5Ts/+EB0D/p8/wC/w/8AiaP+EB0D/p8/7/D/AOJrjP8AhZHiH/nrb/8AgOtH/CyPEP8Az1t//AdaOVh7bD/ynZ/8IDoH/T5/3+H/AMTR/wAIDoH/AE+f9/h/8TXGf8LI8Q/89bf/AMB1o/4WR4h/562//gOtHKw9th/5Ts/+EB0D/p8/7/D/AOJo/wCEB0D/AKfP+/w/+JrjP+FkeIf+etv/AOA60f8ACyPEP/PW3/8AAdaOVh7bD/ynZ/8ACA6B/wBPn/f4f/E0f8IDoH/T5/3+H/xNcZ/wsjxD/wA9bf8A8B1o/wCFkeIf+etv/wCA60crD22H/lO1Pw+0ERh/9M5OP9aP/iab/wAIDoH/AE+f9/h/8TXG/wDCyfEWMedb4/691pP+FkeIf+etv/4DrRysPbYf+U7P/hAdA/6fP+/w/wDiaP8AhAdA/wCnz/v8P/ia4z/hZHiH/nrb/wDgOtH/AAsjxD/z1t//AAHWjlYe2w/8p2f/AAgOgf8AT5/3+H/xNH/CA6B/0+f9/h/8TXGf8LI8Q/8APW3/APAdaP8AhZHiH/nrb/8AgOtHKw9th/5Ts/8AhAdA/wCnz/v8P/iaP+EB0D/p8/7/AA/+JrjP+FkeIf8Anrb/APgOtH/CyPEP/PW3/wDAdaOVh7bD/wAp2f8AwgOgf9Pn/f4f/E0f8IDoH/T5/wB/h/8AE1xn/CyPEP8Az1t//AdaP+FkeIf+etv/AOA60crD22H/AJTs/wDhAdA/6fP+/wAP/iaP+EB0D/p8/wC/w/8Aia4z/hZHiH/nrb/+A60f8LI8Q/8APW3/APAdaOVh7bD/AMp2f/CA6B/0+f8Af4f/ABNH/CA6B/0+f9/h/wDE1xn/AAsjxD/z1t//AAHWj/hZHiH/AJ62/wD4DrRysPbYf+U7P/hAdA/6fP8Av8P/AImnH4faCIw/+mckj/Wj/wCJriv+FkeIf+etv/4DrS/8LJ8RYx51vj/r3WjlYe2w/wDKdl/wgOgf9Pn/AH+H/wATR/wgOgf9Pn/f4f8AxNcZ/wALI8Q/89bf/wAB1o/4WR4h/wCetv8A+A60crD22H/lOz/4QHQP+nz/AL/D/wCJo/4QHQP+nz/v8P8A4muM/wCFkeIf+etv/wCA60f8LI8Q/wDPW3/8B1o5WHtsP/Kdn/wgOgf9Pn/f4f8AxNH/AAgOgf8AT5/3+H/xNcZ/wsjxD/z1t/8AwHWj/hZHiH/nrb/+A60crD22H/lOz/4QHQP+nz/v8P8A4mj/AIQHQP8Ap8/7/D/4muM/4WR4h/562/8A4DrR/wALI8Q/89bf/wAB1o5WHtsP/Kdn/wAIDoH/AE+f9/h/8TR/wgOgf9Pn/f4f/E1xn/CyPEP/AD1t/wDwHWj/AIWR4h/562//AIDrRysPbYf+U7P/AIQHQP8Ap8/7/D/4mj/hAdA/6fP+/wAP/ia4z/hZHiH/AJ62/wD4DrR/wsjxD/z1t/8AwHWjlYe2w/8AKdn/AMIDoH/T5/3+H/xNH/CA6B/0+f8Af4f/ABNcZ/wsjxD/AM9bf/wHWj/hZHiH/nrb/wDgOtHKw9th/wCU7U/D7QRGrf6Z82f+Wo/+Jpv/AAgOgf8AT5/3+H/xNcb/AMLJ8RYx51vj/r3Wk/4WR4h/562//gOtHKw9th/5Ts/+EB0D/p8/7/D/AOJo/wCEB0D/AKfP+/w/+JrjP+FkeIf+etv/AOA60f8ACyPEP/PW3/8AAdaOVh7bD/ynZ/8ACA6B/wBPn/f4f/E0f8IDoH/T5/3+H/xNcZ/wsjxD/wA9bf8A8B1o/wCFkeIf+etv/wCA60crD22H/lOz/wCEB0D/AKfP+/w/+Jo/4QHQP+nz/v8AD/4muM/4WR4h/wCetv8A+A60f8LI8Q/89bf/AMB1o5WHtsP/ACnZ/wDCA6B/0+f9/h/8TR/wgOgf9Pn/AH+H/wATXGf8LI8Q/wDPW3/8B1o/4WR4h/562/8A4DrRysPbYf8AlOz/AOEB0D/p8/7/AA/+Jo/4QHQP+nz/AL/D/wCJrjP+FkeIf+etv/4DrR/wsjxD/wA9bf8A8B1o5WHtsP8AynZ/8IDoH/T5/wB/h/8AE0f8IDoH/T5/3+H/AMTXGf8ACyPEP/PW3/8AAdaP+FkeIf8Anrb/APgOtHKw9th/5Ts/+EB0D/p8/wC/w/8Aiat2HgzRtLvbe/t/tRljbcgaUEZHrxXA/wDCyPEP/PW3/wDAdaX/AIWT4ixjzrfA/wCndaOVjVbDrXlPVqSvKf8AhZHiH/nrb/8AgOtH/CyPEP8Az1t//AdaLM0+uU/M9Woryn/hZHiH/nrb/wDgOtH/AAsjxD/z1t//AAHWizD65T8z1aiuD8IeNdY1jxVaWN88LQS+ZuCwqDxGxHP1ArvKDop1I1FeIUUUUGgVqp/q1+grKrVT/Vr9BUSAdRRRUjCiiigAooooAKKKKACiiigAooooAKKKKACiiigAooooAKKKKACiiigDxPVo9L0PWbu7u/GN3rWmyys7xWniIx3VoSTlRH5gEij0GGHocV6v4Ym0+48M2M2jXc15YvHuhnnkZ3cZPJZvmJznrXEadD4g8QWZ1Ow8LeDfs80soQ3JkEh2yMpLYiIySueprv8AR4bi30i3ivbe0tp1XDw2RJhQ56LkA4/AUAXaKKKACiiigAooooAKKKKACiiigAooooAKKKKACiiigAooqO4SWS1lS2lEMzIRHIybgjY4O3Izg9s0AePa/qVvdeK9U8bpqEYPhq8itbS3Eyq00KZF38vfPmsAe/l+9dL4ssdM8Q/EXwTHfW1vqFlNbX8qpMgdHGyEqcHg+taukfDfw3p3h+30+90nT9Rnji2TXk9lGZJ3P3nJIJ5JJ6nHrVBfAGq21t4Y+w+JES78PwT26XE9h5nnRybQAV8wYKqgGcnPWgCvJpdr4L+JHh6Hw4htLLWzcQ3dhGx8olIt6yKmcKRtwSOxrnNe1K3u/FWoeOI9Sh/4p2+itbW3WVQ0tumVusDPOTK2D/0zHY13dn4Puk1RtZ1bW5NS1iO3eCzme3VIbMMOSkQPJJAySxJAxxTdI+G3hrT/AA7b6be6TYajNHDsmvJ7NDJO5+85JBOSST1OPWgDJ8daZc6lruh6wug/8JRokEEnmWCuvDttKTbHIV/lBGOvNSaXpnhbxX4Y1PSvD9g+hTxTq8sH2f7PPZXIAMcmzoDwCCOCM+pq/Z+F/Emj6Hpdho/iiHOn2/2dhd6eJEnUH5CcOGUhcLw2DjpV7wv4Ym0K41K/1LUm1TU9TlR7i58kQrtRdqIqAnAAz35zQBzfhP8AtTxprQ1HxRFCieHJ3s47eMhkmvU4kuPbAICjsWY8cVjeA5ZPDWuNeu7f2X4h1W8tJgTkQ3izyeU2OwdAU47qua9F8OeH/wDhH11QfaftH9oalNf/AOr2+X5hB2dTnGOvGfSs5fAsD+CdR8O3V0ZUvLie4WcR7TC8kplUgZPKMRznnHagCv8ACX/kmGl/79x/6USVzGsWFne/FvX/ALb4QbxNssrPaoEP7jIkyf3jL1wOmeld94N8Ot4T8JWWivefbWtd+bgx+XvLOz525OPvY606x8P/AGPxfquufad/9owQQ+R5ePL8rfzuzznf6DGO9AHPnUtT/tyy8J+ErS00RbfTFvrh7mDzltgzFVgVEdRuyGJOcYHGap3Pj/WovCzzRWFq2s2uvJo88B3COUlwAyckqGVlIznGTwa6HWPDF5ceJodf0HU4tO1Bbb7JP59r58c0W7cAVDqQwOcEHuRVKH4fpDottZ/2iz3I1mPWbu6aEZuZhIHb5QQFBwAOuAB1oAy9e8W654d1DT9Ev9X0dL6+MlxJqEto6Q20C7QFEQkJZixIBLAYHNMt/iHqcnhrXpbeO11G70maBFvbeCT7PLHJjMvlgs52DcWUH+Hiun8QeGZ9S1Wy1jR9QXTtVskeJJng86OSN8FkdNy5GQCCCCDSjTPFB0yZX8R2v29pFaOVNNxFGo6psMhJz67s+mKAOX1DU9R1b4V+J7qDxRpWrIumylJrOyaMx4jYurDzTgkcA8bTyQcYrrPCMWpx+HrQ6tfW93vgiMXkWrQ7F2Dg5d9x9+PpWVZ+B7iaTXLjxBqcVzca1ZfYZhY2ot40jw4zgsxZ/nb5mPtitrw5pmpaRpiWep6nFqIhVY4HS18llRRj5vmbceOvH0oA164T4tf8izaf9fg/9Aeu7rhPi1/yLNp/1+D/ANAeqjuYYj+FI8iooorY8QKKKKACiiigAooooAKKKKACiiigAooooAKKKKACiiigAooooAKKKKACiiigAooooAKKKKACiiigAooooAKKKKACiiigAooooAKKKKACiiigAooooAKKKKACiiigAooooAKKKKACiiigAooooAKKKKACiiigAooooAKKKKAOl+Hn/I+af9Jf/RT165Xkfw8/5HzT/pL/AOinr1yoe56uD/hv1Ciiig7ArVT/AFa/QVlVqp/q1+gqJAOoooqRhRRRQAUUUUAFFFFABRRRQAUUUUAFFFFABRRRQAUUUUAFFFFABRRRQB5nHo3w31DxVPpGmRzpq26QyTWM1wgjdRlwJAdhYd1GeeCK7Xwrcrd+FNOmTU/7VDQgfbTGYzNjjJU8huOQec54HSuCh0fxf4d17TodP8OxapZ6bJetb3a30cPmCdgw8wNyCCTkjOeuK7vwnpL6F4ZtNNnninuIQzTtCML5juzvgdQNzHFAGzRRRQAUUUUAFFFFABRRRQAUUUUAFFFFABRRRQAUUUUAFFFZek+JNJ1y91G00q8W4n0yfyLtArAxPkjHIGeQeRkcGgDUorm7z4geHLHVLrT7i8n+02bBbgR2M8ixkgNyyoV6EHrW1pup2OsafFfaVdw3drKMpLC4ZT+Xf27UAWqKytH8TaPr9zf2+j3yXUunTGC6VVYeW/IxyBkcHkZHB5qhqPj7w/pmrTabPcXEt1bgG4W1sppxACMjeyKQOo/MUAdJRWZbeItLu9Qt7GG5/wBJurQXkCPG6eZEf4gSACRkZHUZGQKg1DxfoeltqS3t9s/sqJJb0rC7iBX+7kqpGT129cc4xQBtUVlTeJ9Hg8Nxa/Jer/ZcqxslwqMwIkYKnAGeSwHTjvjBrVoAKKp6Rq9lrulQ6lpU/n2k4Jjk2Mu7BIPDAHqD2q5QAUUVQ1vXNP8ADuky6lrE5t7SIqryCNnILMFA2qCTkkDgUAX6Kw9G8ZaFr989npl6zXUab2gmgkgk2+oWRVJH0rcoAKKKKACqmo2sN3AqXFrFcqGyFljDgHHXBq3XCfFq6uLTwzaPazyQsbwAtG5UkbH44pxV2Z1JKEHJm9/Ylh/0BrH/AMBE/wAKP7EsP+gNY/8AgIn+FeCf2zqn/QSu/wDv+3+NH9s6p/0Erv8A7/t/jW/s2cP1uH8p73/Ylh/0BrH/AMBE/wAKP7EsP+gNY/8AgIn+FeCf2zqn/QSu/wDv+3+NH9s6p/0Erv8A7/t/jR7Nh9bh/Ke9/wBiWH/QGsf/AAET/Cj+xLD/AKA1j/4CJ/hXgn9s6p/0Erv/AL/t/jR/bOqf9BK7/wC/7f40ezYfW4fynvf9iWH/AEBrH/wET/Cj+xLD/oDWP/gIn+FeCf2zqn/QSu/+/wC3+NH9s6p/0Erv/v8At/jR7Nh9bh/Ke9/2JYf9Aax/8BE/wo/sSw/6A1j/AOAif4V4J/bOqf8AQSu/+/7f40f2zqn/AEErv/v+3+NHs2H1uH8p73/Ylh/0BrH/AMBE/wAKP7EsP+gNY/8AgIn+FeCf2zqn/QSu/wDv+3+NH9s6p/0Erv8A7/t/jR7Nh9bh/Ke9/wBiWH/QGsf/AAET/Cj+xLD/AKA1j/4CJ/hXgn9s6p/0Erv/AL/t/jR/bOqf9BK7/wC/7f40ezYfW4fynvx0PTvKBGjWO7Jz/oidPypn9iWH/QGsf/ARP8K8E/tnVP8AoJXf/f8Ab/Gj+2dU/wCgld/9/wBv8aXs2H1uH8p73/Ylh/0BrH/wET/Cj+xLD/oDWP8A4CJ/hXgn9s6p/wBBK7/7/t/jR/bOqf8AQSu/+/7f40/ZsPrcP5T3v+xLD/oDWP8A4CJ/hR/Ylh/0BrH/AMBE/wAK8E/tnVP+gld/9/2/xo/tnVP+gld/9/2/xo9mw+tw/lPe/wCxLD/oDWP/AICJ/hR/Ylh/0BrH/wABE/wrwT+2dU/6CV3/AN/2/wAaP7Z1T/oJXf8A3/b/ABo9mw+tw/lPe/7EsP8AoDWP/gIn+FH9iWH/AEBrH/wET/CvBP7Z1T/oJXf/AH/b/Gj+2dU/6CV3/wB/2/xo9mw+tw/lPe/7EsP+gNY/+Aif4Uf2JYf9Aax/8BE/wrwT+2dU/wCgld/9/wBv8aP7Z1T/AKCV3/3/AG/xo9mw+tw/lPe/7EsP+gNY/wDgIn+FH9iWH/QGsf8AwET/AArwT+2dU/6CV3/3/b/Gj+2dU/6CV3/3/b/Gj2bD63D+U97/ALEsP+gNY/8AgIn+FPOh6d5SkaNY7snP+iJ/hXgP9s6p/wBBK7/7/t/jR/bOqf8AQSu/+/7f40vZsPrcP5T3v+xLD/oDWP8A4CJ/hR/Ylh/0BrH/AMBE/wAK8E/tnVP+gld/9/2/xo/tnVP+gld/9/2/xp+zYfW4fynvf9iWH/QGsf8AwET/AAo/sSw/6A1j/wCAif4V4J/bOqf9BK7/AO/7f40f2zqn/QSu/wDv+3+NHs2H1uH8p73/AGJYf9Aax/8AARP8KP7EsP8AoDWP/gIn+FeCf2zqn/QSu/8Av+3+NH9s6p/0Erv/AL/t/jR7Nh9bh/Ke9/2JYf8AQGsf/ARP8KP7EsP+gNY/+Aif4V4J/bOqf9BK7/7/ALf40f2zqn/QSu/+/wC3+NHs2H1uH8p73/Ylh/0BrH/wET/Cj+xLD/oDWP8A4CJ/hXgn9s6p/wBBK7/7/t/jR/bOqf8AQSu/+/7f40ezYfW4fynvf9iWH/QGsf8AwET/AAo/sSw/6A1j/wCAif4V4J/bOqf9BK7/AO/7f40f2zqn/QSu/wDv+3+NHs2H1uH8p73/AGJYf9Aax/8AARP8KP7EsP8AoDWP/gIn+FeCf2zqn/QSu/8Av+3+NH9s6p/0Erv/AL/t/jR7Nh9bh/Ke/NoeneWhGjWO45z/AKIn+FM/sSw/6A1j/wCAif4V4J/bOqf9BK7/AO/7f40f2zqn/QSu/wDv+3+NL2bD63D+U97/ALEsP+gNY/8AgIn+FH9iWH/QGsf/AAET/CvBP7Z1T/oJXf8A3/b/ABo/tnVP+gld/wDf9v8AGn7Nh9bh/Ke9/wBiWH/QGsf/AAET/Cj+xLD/AKA1j/4CJ/hXgn9s6p/0Erv/AL/t/jR/bOqf9BK7/wC/7f40ezYfW4fynvf9iWH/AEBrH/wET/CmHStMBwdJsP8AwFT/AArxrw1q2oyeK9JSS/unRr2EMrTMQRvHBGa9wk/1r/7xqHGx0UakaqbSKn9l6X/0CdP/APAVP8KP7L0v/oE6f/4Cp/hVmikb8sexW/svS/8AoE6f/wCAqf4Uf2Xpf/QJ0/8A8BU/wqzRQHLHsVv7L0v/AKBOn/8AgKn+FH9l6X/0CdP/APAVP8Ks0UByx7Fb+y9L/wCgTp//AICp/hT20jShEjDSbDLZz/oqf4VNUr/8e8X40Byx7FH+y9L/AOgTp/8A4Cp/hR/Zel/9AnT/APwFT/CrNFAcsexW/svS/wDoE6f/AOAqf4Uf2Xpf/QJ0/wD8BU/wqzRQHLHsRQWVjazLNbafZwyrna8duqsMjHBA9KloooGklsFFFFMYVqp/q1+grKrVT/Vr9BUSAdRRRUjCiiigAooooAKKKKACiiigAooooAKKKKACiiigAooooAKKKKACiiigDxnT73S1tz/wlXiXxlpt4Z5RITJdRwL+8bbhtm0Dbt74rtPhdpmm2ngq2vNOgh8283tNdIo33O2R9rOw+8cE8n1qE+J/FurLLe+G/Ddlc6Usjxx/bL7yprraxUsq7SFXIONxyRz3rV8E2uijQY9Q8P2DWEd4P3kDOx8t0ZlZMEkDa24ccUAdHRRRQAUUUUAFFFFABRRRQAUUUUAFFFFABRRRQAUUUUAYnjDXf+Eb8I6hqagvPFEVt41XcZJm+WNQO+WKivN/C17a+GPEnheOHTtXthd2f9lahNeafNBE85bzEcFwAWMjSj1w/tXqup6NY6x9k/tGHzls7lbqJSxAEq52sQOuM5weM4PYUur6PZa5YfY9TiaWDzElAWRkIZGDKQykEYIHQ0Ac14M/5HHxt/2E4v8A0njrnINfTw1N8SNS0smS0iu4kso413K980QV1UdyZCmQOetdhdfD/wAP3uqXeoXEN5594wecRahPEkjABQSqOB0AHSrn/CJaGNPsLCPToYbPT7hbm3t4RsRZVztYgY3HJJ5zk8nJoA828K3dp4X8S+G4rex1i3ju7IaVfTX2nzW8clxuMiSAuMFmdpRjOfn9q6afQfEvhO91jUvClzpt5ZX1zJf3FhfxtG6yEDdslX129GHFdfq2j2WuWItNThMsIlSYAOyEOjBlIKkEYIHSsS/+Hmg6jc3Ms/8AaCJdyGS5t4dRnjhmY8ktGrheeeg7mgDG8QahH4l+Ftr4109WsdQ062Op2bMNxjZVO+I9NyMAVPTIwewrN8S6PHpH7PurHzDcXd9bC8vLp1Aa4mkZWZzj64A7AAV6HNoenT+Hn0M2yppr25tjBH8gEZG3aMcjjjik1HQNO1Xw9Jol7AX0+SJYWiDsMoMYG4HPYd6APKvGx/4RbRdb8LSfLYXtzb6hpPooN3EZoR6BWO4ADo9ezVkeIPC+keKYLaHXLT7SlrOJ4hvZCrjvlSD+Fa9AHG/CT/klejf7kv8A6NeuYL3+q+BPEPjC41/ULXU7Oa7e1jiu3ihthA7BImiHyNnYM7gSdw5rrLb4Z+HLONI7QanDEhysceq3KovOfuiTH4VYvfAHh/UL+a5ubafbcyebc2qXUq29w/HzSRBtjHjuOe+aAMGC7uPF/ja2sNRvbywtodEt9QFnZXTwGSWVm3MzoQxVcAAZxk5rlNQur64+DviVLnUZdUltfEgt4Z7mUtuVLmIKM9h9Bjk4r0Lxhoh1K8tLmHw8NTmhRlE6ao9lJHn+HcnLKe4zjjoah8PeAreDwbLo+vwW7i6vWvZrazZkhjbeGREPDbV2r9celAGTbPq8nxd0qTxnDZ2UiWM6aWLFmljnckeaGdgpDBQCF24IJ5zxWBpkvi7xL4ek1+xh1yTV55ZJLSWDU4Y7KHa7BYvIMgDIMAHcpJxnNes6no1jrBszqERkNlcrdQEOVKSLkA5B9zx0NZE/gDQ5725uEW9tReSGW5gs7+aCKZz1ZkRgCT39c85oAxfLvPFPxB1DTdVvr/ToNM0+2kitrC7eDdLKH3uzIfm27doBJHseavfDC8ur3wnPJfajNqUialdRrczNuMirKwB9hjoBgDsBTfGPh6TUL+C4tPDkepPHAYhMmqyWMgBz8jFBl0PHBPrxWp4K8Ov4X8Mx2E7QmdppbiYW67YlaRyxVBgYUZAHA6dulAG/Xn/xh/5Faz/6/V/9AevQK4f4q6feaj4btItPtJ7qRbsMUgjLkDY3OAOnNVD4kYYjWkzxOitT/hF9f/6Aepf+Akn+FH/CL6//ANAPUv8AwEk/wrqujxeSXYy6K1P+EX1//oB6l/4CSf4Uf8Ivr/8A0A9S/wDAST/Ci6Dkl2MuitT/AIRfX/8AoB6l/wCAkn+FH/CL6/8A9APUv/AST/Ci6Dkl2MuitT/hF9f/AOgHqX/gJJ/hR/wi+v8A/QD1L/wEk/woug5JdjLorU/4RfX/APoB6l/4CSf4Uf8ACL6//wBAPUv/AAEk/wAKLoOSXYy6K1P+EX1//oB6l/4CSf4Uf8Ivr/8A0A9S/wDAST/Ci6Dkl2MuitT/AIRfX/8AoB6l/wCAkn+FH/CL6/8A9APUv/AST/Ci6Dkl2MuitT/hF9f/AOgHqX/gJJ/hR/wi+v8A/QD1L/wEk/woug5JdjLorU/4RfX/APoB6l/4CSf4Uf8ACL6//wBAPUv/AAEk/wAKLoOSXYy6K1P+EX1//oB6l/4CSf4Uf8Ivr/8A0A9S/wDAST/Ci6Dkl2MuitT/AIRfX/8AoB6l/wCAkn+FH/CL6/8A9APUv/AST/Ci6Dkl2MuitT/hF9f/AOgHqX/gJJ/hR/wi+v8A/QD1L/wEk/woug5JdjLorU/4RfX/APoB6l/4CSf4Uf8ACL6//wBAPUv/AAEk/wAKLoOSXYy6K1P+EX1//oB6l/4CSf4Uf8Ivr/8A0A9S/wDAST/Ci6Dkl2MuitT/AIRfX/8AoB6l/wCAkn+FH/CL6/8A9APUv/AST/Ci6Dkl2MuitT/hF9f/AOgHqX/gJJ/hR/wi+v8A/QD1L/wEk/woug5JdjLorU/4RfX/APoB6l/4CSf4Uf8ACL6//wBAPUv/AAEk/wAKLoOSXYy6K1P+EX1//oB6l/4CSf4Uf8Ivr/8A0A9S/wDAST/Ci6Dkl2MuitT/AIRfX/8AoB6l/wCAkn+FH/CL6/8A9APUv/AST/Ci6Dkl2MuitT/hF9f/AOgHqX/gJJ/hR/wi+v8A/QD1L/wEk/woug5JdjLorU/4RfX/APoB6l/4CSf4Uf8ACL6//wBAPUv/AAEk/wAKLoOSXYy6K1P+EX1//oB6l/4CSf4Uf8Ivr/8A0A9S/wDAST/Ci6Dkl2MuitT/AIRfX/8AoB6l/wCAkn+FH/CL6/8A9APUv/AST/Ci6Dkl2MuitT/hF9f/AOgHqX/gJJ/hR/wi+v8A/QD1L/wEk/woug5JdjLorU/4RfX/APoB6l/4CSf4Uf8ACL6//wBAPUv/AAEk/wAKLoOSXYPC/wDyN+j/APX9B/6MWve5P9a/+8a8W8OeHNbg8U6VLPo2oRxx3sLO72rhVAcEknHAr2mT/Wv/ALxrKe56WDTUXcbRRRUncFFFFABRRRQAVK//AB7xfjUVSv8A8e8X40gIqKKKYBRRRQAUUUUAFFFFABWqn+rX6CsqtVP9Wv0FRIB1FFFSMKKKKACiiigAooooAKKKKACiiigAooooAKKKKACiiigAooooAKKKKAPH5NX0GwvbmDQfiPfaVp7SvusY9P8AOWFi3ziN2jJUZ3euCa9J8KRaXD4VsI9BlebT1j/dSybt8nJyzbgDktknjqa8q1bxZot34geTw3OfCk8NwVub9klBnw3zH7NGrJJnnmQg+1exabqNrq+nQ32ny+dbTDdG+0ruGcdCAe1AFqiiigAooooAKK87tvihfnw3B4k1DwtJDocrhXuoL5ZXiUvs3NHtU43emTXa6lr2j6M0a6vqtjYNJ9wXVykRf6biM0AX6KgkvrSGCKea6hjimZVjkaQBXLfdAPcnPHrUen6vpurLIdL1C1vRE2yQ20yybG9DtJwaALdFcz4m8a2Gi6TfS2F3ZXt/ZPEstmtwpdN0qIdyg5GN+eR6Vs6jrWlaOIzq2pWdiJSRH9qnWPeR6biM0AXaKrTalY28cMk95bxJP/qmeVQJPl3fKSeeATx2GaqDxRoB05tQGuab9iV/La5+1x+WH/u7s4z7UAalFYmt+JYtJGitDEt5Hq2oR2SSJKAqh0dt4ODuHydPfrT9Z8QDSNX0WxNuZTqt01uH37fKxGz5xjn7uMcdaANiis248R6JaSrHdaxp8MjSGEJJdIpLjquCfvDPTrVjUNUsNJtxPqt9bWUJYKJLmZY1JPQZYgZoAtUVh6H4iGs6trdsiRiDTZ4o45kfcJVeFJN3p/H+VXbDXdI1WaSHS9Usr2WL/WJbXCSMnOOQpOOeKAL9FZF54r0Gxt3ln1ey+SKWYIk6s7rEGMhVQctt2NnHTafSsjRvFPiPWYbG+i8JrFpl6yMkr6knnJC2CJGj2Y6HO0MTQB11FZ154i0XTr1LPUNYsLW6fGyCe6RHbPTCk5NWLvUbKw2/bry3ttwZl86VUyFGWIyew5PpQBZorMbxLoS6fHfNrWnizlbZHcG6Ty3b0DZwT7VauNRsrRYzdXlvAJQTGZJVXeApY4yecKCfoM0AWaKx77xHZr4T1HXNHubbUYrS1lmVoJg6OyIW27lz6Uyw1u4vbnSBstUivrA3TqZwJVbCEBU6svzHJ7cetAG3RWcPEWim4ggGsWBmuM+TH9qTdLg4O0ZycEEcdxUt/rGm6V5X9qahaWXnNti+0zrH5h9F3EZP0oAuUVFb3Vvdoz2k8U6o7Rs0ThgrKcFTjuDwR2rkfEnjHX/D06lvC8M9pNeR2lvP/aYUyNI21CV8s7ck+pxQB2dFc7Y+KfLjuv8AhKhpuhy27IDG2qJJwwJBYkLtzg4z1wa1J9c0m11GOwutUsobyTGy2kuEWRs+ik5NAF6iqmoarp+kW4n1W/trGFmCCS5mWNSx7ZYjmp7e4gu7aO4tJo54ZFDJLEwZXB7gjgigCSqGsajaabapLf3kNnGz7Q8r7QTgnH6Vfrzv40f8inZf9fq/+gPVRV5WM6s3CDkjc/4SvQv+hgsf/AkUf8JXoX/QwWP/AIEivniiun2SPO+vT7H0P/wlehf9DBY/+BIo/wCEr0L/AKGCx/8AAkV88UUeyQfXp9j6H/4SvQv+hgsf/AkUf8JXoX/QwWP/AIEivniij2SD69PsfQ//AAlehf8AQwWP/gSKP+Er0L/oYLH/AMCRXzxRR7JB9en2Pof/AISvQv8AoYLH/wACRR/wlehf9DBY/wDgSK+eKKPZIPr0+x9D/wDCV6F/0MFj/wCBIo/4SvQv+hgsf/AkV88UUeyQfXp9j6H/AOEr0L/oYLH/AMCRR/wlehf9DBY/+BIr54oo9kg+vT7H0UfFugeUF/t+x3ZJJ+0Cmf8ACV6F/wBDBY/+BIr54oo9kg+vT7H0P/wlehf9DBY/+BIo/wCEr0L/AKGCx/8AAkV88UUeyQfXp9j6H/4SvQv+hgsf/AkUf8JXoX/QwWP/AIEivniij2SD69PsfQ//AAlehf8AQwWP/gSKP+Er0L/oYLH/AMCRXzxRR7JB9en2Pof/AISvQv8AoYLH/wACRR/wlehf9DBY/wDgSK+eKKPZIPr0+x9D/wDCV6F/0MFj/wCBIo/4SvQv+hgsf/AkV88UUeyQfXp9j6H/AOEr0L/oYLH/AMCRR/wlehf9DBY/+BIr54oo9kg+vT7H0P8A8JXoX/QwWP8A4EinnxboJiVRr9juBOT9oFfOtFHskH16fY+h/wDhK9C/6GCx/wDAkUf8JXoX/QwWP/gSK+eKKPZIPr0+x9D/APCV6F/0MFj/AOBIo/4SvQv+hgsf/AkV88UUeyQfXp9j6H/4SvQv+hgsf/AkUf8ACV6F/wBDBY/+BIr54oo9kg+vT7H0P/wlehf9DBY/+BIo/wCEr0L/AKGCx/8AAkV88UUeyQfXp9j6H/4SvQv+hgsf/AkUf8JXoX/QwWP/AIEivniij2SD69PsfQ//AAlehf8AQwWP/gSKP+Er0L/oYLH/AMCRXzxRR7JB9en2Pof/AISvQv8AoYLH/wACRR/wlehf9DBY/wDgSK+eKKPZIPr0+x9FN4t0ExoBr9jkZyftApn/AAlehf8AQwWP/gSK+eKKPZIPr0+x9D/8JXoX/QwWP/gSKP8AhK9C/wChgsf/AAJFfPFFHskH16fY+h/+Er0L/oYLH/wJFH/CV6F/0MFj/wCBIr54oo9kg+vT7H0P/wAJXoX/AEMFj/4Eim/8JP4f/wCg7p//AH/FfPVFHsl3D69PsfQv/CT+H/8AoO6f/wB/xR/wk/h//oO6f/3/ABXz1RR7Jdw+vT7H0L/wk/h//oO6f/3/ABWjFLFPbxz200c0Mq7kkjbKsPY18019AeEP+RI0f/r2H8zUThynRh8RKrJpo2KKKKg7AqV/+PeL8aiqV/8Aj3i/GkBFRRRTAKKKKACiiigAooooAK1U/wBWv0FZVaqf6tfoKiQDqKKKkYUUUUAFFFFABRRRQAUUUUAFFFFABRRRQAUUUUAFFFFABRRRQAUUUUAFFeI6EPhcNL/4qj7N/a32if7T5pm3Z858Zxx0xXrfhz+yf+Eds/8AhHNn9mbD9n8vO3GTnGeeuetAGnRRRQAUUUUAeGaN4c1GT4P6Xra6peX9nYs15Pocm0QTxxzFio2ANkbdw3FgWHTBrq9d8TWmqa/axR6ho+k6dcaSt5HqepWySm5VmP7tNzKAFXlgcn5ug616MsaLHsVFCYxtA4x9Kje0tpERJLeJ1jIZFZAQpHQj0oA8X06JNS+Emj2V4rPbv4rjtzGyGPEZuyCu3+HgnjtXX3mnRaZ8UI4tBtoLOW48OXKKsMYRdySx+WcLjpuI+ld4IIgoURIFDbgAo6+v1p2xd+/aN2Mbsc49KAPCNSn8Or8FdJsU8lddt7mATQHabmOcTKJ2cfeA5bJP95R3FdmZ9G074qeJLjxjNZwiW0tTpz6gVCeQqN5ixlv+mhJYD1HFd/8AY7bznl+zQ+ZJje/ljLY6ZPelntoLlVFzBHMFO5RIgbB9RmgDx/TtNW+8M+ALXUYHNjLrc8ltDOOTbbZ3hBB6qV28HscdK6TT/D2lN8Ytb32MDRpplvIsLRgxq8jOrsExgMRGoz1xn1r0AorMrMoLL90kdKAihywUBmxkgcmgDx23zZ/DfwzePuNjo3id5J5DlvIt1nnj3H/ZXcv0H0rpNY1nTfEvxB8J2mgX1vqTWVxPeXT2kqyrBGIWUFypIGWcAV3qxoqbFRQvPygcc1Hb2ltZqy2lvFArHcwiQKCfU4oA8z07QdLvPDvxDuruwt5riXUL9DNJGGYKqAqASOMEkj3OaZaXdpHr/gm+8UyxLYSeHR9mlunAiW7IjLEluAxToep5r1Pyo9jLsXa2dwxwc9c0yW2gnt/Imgjkhxjy3QFcfSgDxCWFb7wT8SF8Kofs02qRuBChO+E+WZGQDGVZdxGOqnjqK6PQbWxvPGGgXtp4p8MySQJIIbXR7HyZJ4mjOUYCVsKMBuRwR616ekUcefLRU3ddoxmoobK1t5nlt7aGKST77pGFZvqR1oA4P4e6ZpFr4H1HUr+1hcSXt/JcySRBzsEsiEdCcbQeB6n1rAuLzS/DU2kP8OfGEl/513DCmgLeLdxvEzfNtXJeMAEnOcDFewoixrtRQq+gGKhisrWCdpoLaGOVxhnSMBmGc8kUAeXeLdUi1HUfFNhqF5pGlx2iLGLSWyWa71EGIEMpLDOc7F2gkEdRTdOtYNdi+Fa6vEl4hspnZJlDK7LbqVJHQ4IB+oFerPbwySrJJEjSICFZlBKg9cGnCKMbMIo2DC4H3R6D0oA8+8O+GdFl+InjVJtNtpIhJbqkTxApH5kAMhUH7pc43Y64HpXJQ3FkPCHwqm1sh7RJW8wvyqgRMFLf7IwM54wDXt4RVZmVQGb7xA61kaj4eiv9a0XUBL5Q0mSWRYVQYk8yJo8e2N2aAPP7ySzu9V+IN34ceGXSj4f8u5ltiDE92ElPBXhmCEZ7jIzWtpf/ACOngv8A7Fyb/wBt672K2ghgMMMEccRzmNEAXnrxTxGgYMEUMBtBxyB6UAeKrommwfs76lqMVlCt8ZJ7v7T5Y8wSpcsFYN1GAoH0+prqLu60jSvixqtz4xltoIbnToE0ua+AEe1S/nIrNxuyUJXqcivQRBEIfKESCP8AubRj8qyda0nVtQuI30zXTp0arhozZxzAtnIcbujD8R04oA534PiFfA8otYHt4BqV2I4ZAQ0a+a2FIPIIHHPNWfiX/wAgfRv+w9Yf+jhW/wCHdBtvDWhQaZZvJKkRZmllOXldmLM7H1LEmtJkV8b1DYORkZwfWgDhtN0qxv8A4v8Aiie9tYrh4LGxSPzUDBQwl3cH/dFcNa6bDNpmv2XiHXfDOl3tzeXIvRqlh/pPzOdjrI0ykjaVKEDA4HUGvcgihywUBmxkgcmopLO2mmSaW2hklQ5R2jBZT6g9qAPKNZiuIPiDps2o61pa2/8AYsUVjqGsWZlhlkyTIV/eKEkYBWySSRx9ev8AhzYQafod6lnrNlq0El/LKr2EZWGEsFLRoN7cA5PBwN2K6qeCG5iMVzEk0bdUkUMD+BpYoY4IligjWONRhURQAB7AUAPrzv40f8inZf8AX6v/AKA9eiVyPxG8OXvibQra009oUkjuRKxmfaMbWHoeeauGkkY105U2kfP1Fdz/AMKl8Qf899P/AO/5/wDiaP8AhUviD/nvp/8A3/P/AMTXZzx7nj+wq/ynDUV3P/CpfEH/AD30/wD7/n/4mj/hUviD/nvp/wD3/P8A8TRzx7h7Cr/KcNRXc/8ACpfEH/PfT/8Av+f/AImj/hUviD/nvp//AH/P/wATRzx7h7Cr/KcNRXc/8Kl8Qf8APfT/APv+f/iaP+FS+IP+e+n/APf8/wDxNHPHuHsKv8pw1Fdz/wAKl8Qf899P/wC/5/8AiaP+FS+IP+e+n/8Af8//ABNHPHuHsKv8pw1Fdz/wqXxB/wA99P8A+/5/+Jo/4VL4g/576f8A9/z/APE0c8e4ewq/ynDUV3P/AAqXxB/z30//AL/n/wCJo/4VL4g/576f/wB/z/8AE0c8e4ewq/ynDUV3X/CpPEOM+dp+PXzz/wDE0n/CpfEH/PfT/wDv+f8A4mjnj3D2FX+U4aiu5/4VL4g/576f/wB/z/8AE0f8Kl8Qf899P/7/AJ/+Jo549w9hV/lOGoruf+FS+IP+e+n/APf8/wDxNH/CpfEH/PfT/wDv+f8A4mjnj3D2FX+U4aiu5/4VL4g/576f/wB/z/8AE0f8Kl8Qf899P/7/AJ/+Jo549w9hV/lOGoruf+FS+IP+e+n/APf8/wDxNH/CpfEH/PfT/wDv+f8A4mjnj3D2FX+U4aiu5/4VL4g/576f/wB/z/8AE0f8Kl8Qf899P/7/AJ/+Jo549w9hV/lOGoruf+FS+IP+e+n/APf8/wDxNH/CpfEH/PfT/wDv+f8A4mjnj3D2FX+U4aiu5/4VL4g/576f/wB/z/8AE0v/AAqTxDgHztPwe/nn/wCJo549w9hV/lOForuf+FS+IP8Anvp//f8AP/xNH/CpfEH/AD30/wD7/n/4mjnj3D2FX+U4aiu5/wCFS+IP+e+n/wDf8/8AxNH/AAqXxB/z30//AL/n/wCJo549w9hV/lOGoruf+FS+IP8Anvp//f8AP/xNH/CpfEH/AD30/wD7/n/4mjnj3D2FX+U4aiu5/wCFS+IP+e+n/wDf8/8AxNH/AAqXxB/z30//AL/n/wCJo549w9hV/lOGoruf+FS+IP8Anvp//f8AP/xNH/CpfEH/AD30/wD7/n/4mjnj3D2FX+U4aiu5/wCFS+IP+e+n/wDf8/8AxNH/AAqXxB/z30//AL/n/wCJo549w9hV/lOGoruf+FS+IP8Anvp//f8AP/xNH/CpfEH/AD30/wD7/n/4mjnj3D2FX+U4aiu6/wCFSeIQATNp+D0/fn/4mk/4VL4g/wCe+n/9/wA//E0c8e4ewq/ynDUV3P8AwqXxB/z30/8A7/n/AOJo/wCFS+IP+e+n/wDf8/8AxNHPHuHsKv8AKcNRXc/8Kl8Qf899P/7/AJ/+Jo/4VL4g/wCe+n/9/wA//E0c8e4ewq/ynDUV3P8AwqXxB/z30/8A7/n/AOJo/wCFS+IP+e+n/wDf8/8AxNHPHuHsKv8AKcNRXc/8Kl8Qf899P/7/AJ/+Jo/4VL4g/wCe+n/9/wA//E0c8e4ewq/ynDV9AeEP+RI0f/r2H8zXnH/CpfEH/PfT/wDv+f8A4mvUdD0+XSvDmn2Fy0bTW8IRzG2Vzk9DWVSSa0OzCU5wk3JF6iiisj0QqV/+PeL8aiqV/wDj3i/GkBFRRRTAKKKKACiiigAooooAK1U/1a/QVlVqp/q1+gqJAOoooqRhRRRQAUUUUAFFFFABRRRQAUUUUAFFFFABRRRQAUUUUAFFFFABRRWXrutLokVi7wGb7XfQ2YAbG0yNt3e+PSgDhrjxT47sdefT9Zk8O6QksxSyuLm1naG4GflAlEoAf/ZbaT2Feh6b9t/s2H+1ZLeS72/vXtUZYyf9kMScfU1zGofDi31SOeK98R+IpYLgnfA1+DGQTnG0r0ro9E0iDQdEtdLtJJpILVPLRp33uR7nvQBeooqK6kaGzmkT7yRswz6gUAS0V5LZ+KvFVh4W8NeIrzXrXUBqk0CTaZLZpHI6yuFPlMpByM55GP5H0HWfEf8AY9wIho+rX/7sSNJZW29FBJHUkZI25IGTjHqKANmiucvvHmhWHh/TtaknllsdSmWC3eGJnZnKsQu0c5+QjGM54qXRfF9hrFze2rW95pt1YoJZoNQh8lhGc4kHJBU7TznjHOKAN6ivOte+IqXFjo8mipqFomoapaxW93Na7YrqNpVDhSc9VJIyASASOldHqvjXT9L1K4sI7TUNRubSNZLpLC1Mv2dWGVLnpkgEhRk45xQB0VFc7feOdFsbPSrkSTXUWrqzWP2WFpGmwu4KF65OcYx1645qgPiXpbRzpFpmsSX9qxFzpqWebi3GAd7rnAUhgQc89s80AdjRXHan4sebVPBsmh3Svp2t3D728vmSPyS69RleQPQ1d1zWL2y8ceFtNt5AtrqLXQuVKgl/Lh3Lz2554oA6SiuMm+KOiRQ3Nwtpqk1nZ3D295dxWhaK2ZW2nec/Q8AkAgkDIrX1fxZY6TqFvYLDd6hfXERnS1sYfNcRAgGQ8gBckDJPPbNAG5RXD+GfG1tJofiPW9Zv2Gn2erywxPLEVaOMLGFj2Y3btzEYxnJxWzpPjCy1XVv7Mks9Q068aIzxRX9sYjNGCAWQ8g4yMg4Iz0oA36K4h/iTbX/hvUNS8O6ZqN39mtJ5Ume1Ih82NSfLJzk8j+HI7ZzxTPCFxrGswafqMfjiz1VWCyXdnDZxbACv3FKnepBPVs9OgoA7qiub1rxra6FNP9t0rWGtLbme+ismaGIYyWJ6lQOpUEDFS6x4y0zRrywtJUurqfUonltI7OAzGYLtzgD2YHPTGSSAKAN+iuNHxO0ZrWaaKz1aV7Xd9tgjsWaSyCnkyj+HoSBnJAJAOK0dS8b6Rpv9kbjcXJ1pC9iLWEymYBVbgD2YHPTGScAUAdDRXFa340S78A+JbzRmuLHVNKtpPNguYgs1tJsJUlTkHI5BGQa07bU8+LLW1l1Cbc2j/aGtPKGw/OoMu/ru5xt6YOaAOiorj7H4maLqEOn3MFtqQsL+RYY79rRhAsjEAKz/AO8duRkBgQSCK0tQ8X2NjrEulxW19f3VvGstyllbmQW6NnaXPABO0kKMscdKAN6is3w9r9j4n0ODV9Jdns7guI2ddpba7ITj6qa4vWNd1SX4happS+MLTw7Z2dtbyRLcW8LmVpN27BcjptHr1oA9GormZPFEGix2Gm3M11r+qT2xnH9n2oLSxggeaQDtVckDOee2aWbx9oUHhyLW5ZZltHultJB5LeZBKW2lHTqCp4I59s0AdLRXNzeN7K2tbZ7nT9UiuruRo7Wwa1P2ifaoZmVAeFAIyxIA70Dx3pA0C81SZbuAWUy29xaS2zLcRysV2Js7lt64I4ORzQB0lFchqvjW5h8Ha3qdtoWq2dzYWTTxpe2wAJ2naeGIIBGWGcgVseGtak1zR4bqexurOQxoWFxFs3kqCSvJyKANeuf8Y+JrLwtpcN5qMVxLHJMIlEAUkHaT3I44NdBXm3xu/wCRQsf+v5f/AEW9XTV5JMyrScKbkit/wuHw7/z5ap/3xH/8VR/wuHw7/wA+Wqf98R//ABVeL0V2+xieV9bqntH/AAuHw7/z5ap/3xH/APFUf8Lh8O/8+Wqf98R//FV4vRR7GIfW6p7R/wALh8O/8+Wqf98R/wDxVH/C4fDv/Plqn/fEf/xVeL0UexiH1uqe0f8AC4fDv/Plqn/fEf8A8VR/wuHw7/z5ap/3xH/8VXi9FHsYh9bqntH/AAuHw7/z5ap/3xH/APFUf8Lh8O/8+Wqf98R//FV4vRR7GIfW6p7R/wALh8O/8+Wqf98R/wDxVH/C4fDv/Plqn/fEf/xVeL0UexiH1uqe0f8AC4fDv/Plqn/fEf8A8VR/wuHw7/z5ap/3xH/8VXi9FHsYh9bqntR+Mfh0xhPsOp4Bz9yP/wCLpv8AwuHw7/z5ap/3xH/8VXi9FHsYB9cqntH/AAuHw7/z5ap/3xH/APFUf8Lh8O/8+Wqf98R//FV4vRR7GIfW6p7R/wALh8O/8+Wqf98R/wDxVH/C4fDv/Plqn/fEf/xVeL0UexiH1uqe0f8AC4fDv/Plqn/fEf8A8VR/wuHw7/z5ap/3xH/8VXi9FHsYh9bqntH/AAuHw7/z5ap/3xH/APFUf8Lh8O/8+Wqf98R//FV4vRR7GIfW6p7R/wALh8O/8+Wqf98R/wDxVH/C4fDv/Plqn/fEf/xVeL0UexiH1uqe0f8AC4fDv/Plqn/fEf8A8VR/wuHw7/z5ap/3xH/8VXi9FHsYh9bqntH/AAuHw7/z5ap/3xH/APFU4/GPw6Ywn2HU8A5+5H/8XXitFHsYB9cqntH/AAuHw7/z5ap/3xH/APFUf8Lh8O/8+Wqf98R//FV4vRR7GIfW6p7R/wALh8O/8+Wqf98R/wDxVH/C4fDv/Plqn/fEf/xVeL0UexiH1uqe0f8AC4fDv/Plqn/fEf8A8VR/wuHw7/z5ap/3xH/8VXi9FHsYh9bqntH/AAuHw7/z5ap/3xH/APFUf8Lh8O/8+Wqf98R//FV4vRR7GIfW6p7R/wALh8O/8+Wqf98R/wDxVH/C4fDv/Plqn/fEf/xVeL0UexiH1uqe0f8AC4fDv/Plqn/fEf8A8VR/wuHw7/z5ap/3xH/8VXi9FHsYh9bqntH/AAuHw7/z5ap/3xH/APFUf8Lh8O/8+Wqf98R//FV4vRR7GIfW6p7UfjH4dKKv2HU8Ln+CP/4um/8AC4fDv/Plqn/fEf8A8VXi9FHsYB9bqntH/C4fDv8Az5ap/wB8R/8AxVH/AAuHw7/z5ap/3xH/APFV4vRR7GIfW6p7R/wuHw7/AM+Wqf8AfEf/AMVR/wALh8O/8+Wqf98R/wDxVeL0UexiH1uqe0f8Lh8O/wDPlqn/AHxH/wDFUf8AC4fDv/Plqn/fEf8A8VXi9FHsYh9bqntH/C4fDv8Az5ap/wB8R/8AxVH/AAuHw7/z5ap/3xH/APFV4vRR7GIfW6p7R/wuHw7/AM+Wqf8AfEf/AMVR/wALh8O/8+Wqf98R/wDxVeL0UexiH1uqe0f8Lh8O/wDPlqn/AHxH/wDFV2tjeQ6lplpfWqyLFdQrKqyAbgD2OK+Yq+jvCv8AyJeif9eMX8qyqQUVodeGrTqSakatSv8A8e8X41FUr/8AHvF+NYHcRUUUUwCiiigAooooAKKKKACtVP8AVr9BWVWqn+rX6CokA6iiipGFFFFABRRRQAUUUUAFFFFABRRRQAUUUUAFFFFABRRRQAUUUUAFcr8QNEfxBo+n2K28s8R1W1acRMVZYhJ8zZBBGB3HIrqqKAON/wCFVeFv+eWo/wDg1uf/AI5XUaZptvpGmw2FkHEEA2oJJGkbGc8sxJPXuatUUAFQ3iNJYzogyzRsAB3OKmooA8l0v4cnS/hzpWq6NpS2Hi7TYFuAQmHnkUHfE/PO4ZH1I/HU1dNTvvEzXeq6Rr15ps9hCbC0sLprcQzHcZEm2yKd33fmbKgZr0aigDyvQ/DWsQ+BfBFlf6dILrT9fe5uo2O/yk3XJDkk8j5kIPXkVv634fvNW8aavtjZLW98NNYLcEfKJGkk4+oDA12tFAHlV5FrupeFvC+iL4Yu4J9Iv7FryVlQRIkLKpaMg5bI54GAuc84B2VGo+EvFXiS5TQbzVrfV3jubaSzVWO8RhGik3MNoyuQcYwx+ld5RQB5toPhLUtGX4fWtzb+Y2mfa3vGQApA0kTEDI4wGbaMeldDoWl3Fr8QfFeoTWzRw3osxDMRxLsiIOPoTiuoooA8vsPDmsWPgbwbdppry32g3LTT2WQJWjferBckDcA4bBPbFbMK6h4q8eaPq7aPfaXp+ixXB3X4VHuJZVCAKgYnCgEknHJwK7eigDz6y0C+i+E/ijTjYut7etqbRQ4+aUyNJ5Z/EFcfhUrW2peH/F9prh0u71C0n0WKxkS0jVpYJI3LDILD5TvPToRzXeUUAeSx+Etd1LwPrqSaW9leyeJG1aCy88RmWMMjBQ6nAYgEZz94Zrf0DT7S48TWl3/Y/idZrRJNlzrF2zxwFlwQA0jbienAI967uigDkPBFpqHh74YWsD6ZI99brM/2LcqM7GV2xk8AnOefWub1DSRr3ijRLvw54NvdBv7XUI7i71Oe3jth5CkiRCUYmQsMDGCMHr1r1OigDyjxFpWtX1x4lt73Sta1G+uHlGlTRXrx2UUBjULlVkAyDnIKkseO9b2naLqEeveCp5bR1jsNFmguGOP3UhSABT7/ACt+RruaKAOO0nSLq3uvGzy2jINQui1uSo/fL9mRePX5tw+ua5cxahod18L0k0yS4u7LTrhZ7VdvmriCJW25ONwz0yM8ivWaqXGl2d1qdnqE8O+6shILeTcRsDgBuAcHIA60Aed3+i6trel+PNXTSri0bWLBLWxs5QBNL5cbje6gkAkvgA84HvW+mmXq/EG3vTbSfZk8OtbNLjgS+ah2fXAJrsKKAPNf+Ee1IfAfS9HWwkGoQizL220blK3MbP8AkAxNahi1fw14212/ttEudXtdaEEkTWskStFLHGIyj72XCkAHdzjniu2rF1jwhomv3gutVs2mlEYiJE8iBkBJCsFYBhljwc9aAMX4Rhx8L9MMvl7mkuXzF9wg3MhBX/ZIOR7U618NJdfEzxBqGq6VDcWktpaJbS3EKuCy+ZvC5+q5/CuttraCytYra0hSCCFAkcUahVRQMAADoBUtAHE39rd+HfiANctdKuL7TZ9KSx8qxjVnt2jkLKApI+QhiOOhHNYi+GdXuvDqTXmmlZdT8WQarLYkBjb2/mICH7Z2pub6mvUaKAOF8baDdS+KtK16K31C7tYLeW1uI9MumhuIwxVlkXaVLDK4K57g4OKhstK04aJrM7+GPENyl7JAs8d7cl7m4Ccq67pdyhOO4PHA4r0CigDzew0nXtR0TxRpkP8Aav8AZN3pbW9gmtupnE7LIrAHltmCnLn6dzXW+E724utCt4LzSr3TZrWKOF0u1QbiFAJUqxBHHWtuigArzb43f8ihY/8AX8v/AKLevSa53xp4YtfFWlQWd7cTQRxziUNCASTtIxz25NXTaUk2ZVoudNxR8z0V7H/wpzRf+gpf/wDfCUf8Kc0X/oKX/wD3wldvtoHlfVKvY8cor2P/AIU5ov8A0FL/AP74Sj/hTmi/9BS//wC+Eo9tAPqlXseOUV7H/wAKc0X/AKCl/wD98JR/wpzRf+gpf/8AfCUe2gH1Sr2PHKK9j/4U5ov/AEFL/wD74Sj/AIU5ov8A0FL/AP74Sj20A+qVex45RXsf/CnNF/6Cl/8A98JR/wAKc0X/AKCl/wD98JR7aAfVKvY8cor2P/hTmi/9BS//AO+Eo/4U5ov/AEFL/wD74Sj20A+qVex45RXsf/CnNF/6Cl//AN8JR/wpzRf+gpf/APfCUe2gH1Sr2PHKK9lPwZ0URh/7Uv8ABOPupTf+FOaL/wBBS/8A++Eo9tAPqlXseOUV7H/wpzRf+gpf/wDfCUf8Kc0X/oKX/wD3wlHtoB9Uq9jxyivY/wDhTmi/9BS//wC+Eo/4U5ov/QUv/wDvhKPbQD6pV7HjlFex/wDCnNF/6Cl//wB8JR/wpzRf+gpf/wDfCUe2gH1Sr2PHKK9j/wCFOaL/ANBS/wD++Eo/4U5ov/QUv/8AvhKPbQD6pV7HjlFex/8ACnNF/wCgpf8A/fCUf8Kc0X/oKX//AHwlHtoB9Uq9jxyivY/+FOaL/wBBS/8A++Eo/wCFOaL/ANBS/wD++Eo9tAPqlXseOUV7H/wpzRf+gpf/APfCU4/BnRRGH/tS/wAE4+6lHtoB9Uq9jxqivY/+FOaL/wBBS/8A++Eo/wCFOaL/ANBS/wD++Eo9tAPqlXseOUV7H/wpzRf+gpf/APfCUf8ACnNF/wCgpf8A/fCUe2gH1Sr2PHKK9j/4U5ov/QUv/wDvhKP+FOaL/wBBS/8A++Eo9tAPqlXseOUV7H/wpzRf+gpf/wDfCUf8Kc0X/oKX/wD3wlHtoB9Uq9jxyivY/wDhTmi/9BS//wC+Eo/4U5ov/QUv/wDvhKPbQD6pV7HjlFex/wDCnNF/6Cl//wB8JR/wpzRf+gpf/wDfCUe2gH1Sr2PHKK9j/wCFOaL/ANBS/wD++Eo/4U5ov/QUv/8AvhKPbQD6pV7HjlFeyn4M6KEVv7Uv8NnHypTf+FOaL/0FL/8A74Sj20A+qVex45RXsf8AwpzRf+gpf/8AfCUf8Kc0X/oKX/8A3wlHtoB9Uq9jxyivY/8AhTmi/wDQUv8A/vhKP+FOaL/0FL//AL4Sj20A+qVex45RXsf/AApzRf8AoKX/AP3wlH/CnNF/6Cl//wB8JR7aAfVKvY8cor2P/hTmi/8AQUv/APvhKP8AhTmi/wDQUv8A/vhKPbQD6pV7HjlFex/8Kc0X/oKX/wD3wlH/AApzRf8AoKX/AP3wlHtoB9Uq9jxyvo7wr/yJeif9eMX8q5T/AIU5ov8A0FL/AP74Su5sLKLTdLtLC3Z3jtYViVpMZbAxk4rKpNSWh14WjOnJuRPUr/8AHvF+NRVK/wDx7xfjWB3EVFFFMAooooAKKKKACiiigArVT/Vr9BWVWqn+rX6CokA6iiipGFFFFABRRRQAUUUUAFFFFABRRRQAUUUUAFFFFABRRRQAUUUUAFFFFABRRRQAUVwfxcmjh8MaYbiSWO3bWLVJ/JZwxjLEMPk+bkZ6c1m+Bbiwm+Il7F4MuryTQILAC9iu5ZSEumkym1ZjvB2A5ONuMd6APTqK841n4kXXh7VANSuvDc0AuhBNZWmoFryFWcKGKkDJGQWGBjnGcZrX1LxNrz+Nrrw54f06ylkhsorv7TeTOkaBmZSCFUkngYAx/Fk8AEA7CiuGXx/dzeFdPuYdLjGs32pNpS2bz/u45ldldiwGdgCM3TPQe9U7XUb6D4wTt4hhggaz8OSSNNbMzRyR+epLAEZBGGBHPbnmgD0WivP4fHeuJpOn+JNR0i1g8P6hLEiKszG5gSVgscr8bSDkHavTcOTVmfxV4lu/FPiHSNA0qwlTRfJPnXU7r5peISbAFU5bkjPAHHXPAB29Fee2vxB1e60fS/En9kW8Ph++uIoG8yY/ak3uIxJtxt27yf4iSpB9q0/Ds0j/ABQ8ZRvIzRxpYbFLEhcxPnA7UAdfRXm0viO68PXPxH1VB9pOnT27xQyudv8Ax7x8ew57Vs2vibX7fxLpNnr+l2dtaaysgtjBOzSwSKhk2SBlAzsB6fxcc9aAOworzXxF4q1fWfBPibUNO0+1bQoYLu0DvMwuJgqsjyqNu0KGzwTkhT06VZl8ZNo+neHtE09tOivrjSo7l7jU7nyYIIwqqM92YnOFGOhOeKAPQaK87k+J00fgfUtWS0tLrUdKvYrS4gs5/OilLsg3RsMZBD8A9wQab4xi8UXWlabLrOnSXVhHe+ZqNhoEzmZ4fL+UZO1mxJ1C4yAPwAPRqK4vwXd+F2TUV8Hia3u4kX7Tp9200ZiYZ27kk+76FlHpnOBVKw+Ic6eLLDSNSvPD18L6VrfGkXpkktpQpPzqeqkqRnjBxxQB6DRXAT+NPEs83iNtJ0iwe10CeRJJLmeRTcBYw+1AqkbsZzk45XjkmprbxvrDPompXmk28Gha5cR29t++Y3UXmKTG8i7duGIAwCcbhyaAO5ori18UeItT1vxBp2h6ZYn+xpkQS3UzqJ90YcIAoOG5OSeBleDk4oDXofE/iD4eaxbRtEl2bxjE/WNhbsGU+uGBGfagD0OivO4vFX9h+GdRvtL0eMv/AMJNNZNbpI2Zma52M+T0Zic46A+1a+neJtYtvFb6L4ps7G28yye9t7iymeRNqMA6NuUHI3A5447UAdbRXm958QfENv4NHiyPRbJtJuGTyIzcP58cbuFSRxt2nORwDxuHJwa9IoAKK5D4VTy3Hwx0eW4leWRlk3O7Fif3r9Sazrrx1rj6VqXiLStLspdA02aVHEsri4uUibbJImBtUcNgHJOOcdKAPQKK5K48WX2o+IrfSPCtvaTs2nrqE9zeSMqJG5xGgCgks3Jz0AHfpXKeKfFV9rvwl1u5v7Y6ZcWesR2MscErEgJPEG+YYJzk9OooA9Yorynwpd6bN8UIYPAtzqJ0qKylOqRXUk/l7iQI9iTHduyDkgYx9TU9z8WJhZz61aDRTo9vK6m2l1ALfTxqxUyKmMDkZCnJYdxkUAen0VyN34o1bUPE0ukeErSyuBaWkd1dXV5KyJ+9yY0UKCSSFJyeB+lX/BniKfxPoct9d2X2KWO7ntzBu3FfLcryfXjmgDfrjviX4qvPCXh+2vdPgtppJboRFblWZQCrHIwRzxXY15n8dP8AkTrH/r/X/wBFvWlJJzSZlWk4020cb/wuvxB/0DtI/wC/Mn/xyj/hdfiD/oHaR/35k/8AjledUV6PsodjyPb1f5j0X/hdfiD/AKB2kf8AfmT/AOOUf8Lr8Qf9A7SP+/Mn/wAcrzqij2UOwe3q/wAx6L/wuvxB/wBA7SP+/Mn/AMco/wCF1+IP+gdpH/fmT/45XnVFHsodg9vV/mPRf+F1+IP+gdpH/fmT/wCOUf8AC6/EH/QO0j/vzJ/8crzqij2UOwe3q/zHov8AwuvxB/0DtI/78yf/AByj/hdfiD/oHaR/35k/+OV51RR7KHYPb1f5j0X/AIXX4g/6B2kf9+ZP/jlH/C6/EH/QO0j/AL8yf/HK86oo9lDsHt6v8x6L/wALr8Qf9A7SP+/Mn/xyj/hdfiD/AKB2kf8AfmT/AOOV51RR7KHYPb1f5j0b/hdviHbj+ztIx6eTJ/8AHKT/AIXX4g/6B2kf9+ZP/jledUUeyh2D29X+Y9F/4XX4g/6B2kf9+ZP/AI5R/wALr8Qf9A7SP+/Mn/xyvOqKPZQ7B7er/Mei/wDC6/EH/QO0j/vzJ/8AHKP+F1+IP+gdpH/fmT/45XnVFHsodg9vV/mPRf8AhdfiD/oHaR/35k/+OUf8Lr8Qf9A7SP8AvzJ/8crzqij2UOwe3q/zHov/AAuvxB/0DtI/78yf/HKP+F1+IP8AoHaR/wB+ZP8A45XnVFHsodg9vV/mPRf+F1+IP+gdpH/fmT/45R/wuvxB/wBA7SP+/Mn/AMcrzqij2UOwe3q/zHov/C6/EH/QO0j/AL8yf/HKP+F1+IP+gdpH/fmT/wCOV51RR7KHYPb1f5j0X/hdfiD/AKB2kf8AfmT/AOOUv/C7fEJUD+ztJwO3kyf/AByvOaKPZQ7B7er/ADHov/C6/EH/AEDtI/78yf8Axyj/AIXX4g/6B2kf9+ZP/jledUUeyh2D29X+Y9F/4XX4g/6B2kf9+ZP/AI5R/wALr8Qf9A7SP+/Mn/xyvOqKPZQ7B7er/Mei/wDC6/EH/QO0j/vzJ/8AHKP+F1+IP+gdpH/fmT/45XnVFHsodg9vV/mPRf8AhdfiD/oHaR/35k/+OUf8Lr8Qf9A7SP8AvzJ/8crzqij2UOwe3q/zHov/AAuvxB/0DtI/78yf/HKP+F1+IP8AoHaR/wB+ZP8A45XnVFHsodg9vV/mPRf+F1+IP+gdpH/fmT/45R/wuvxB/wBA7SP+/Mn/AMcrzqij2UOwe3q/zHov/C6/EH/QO0j/AL8yf/HKP+F1+IP+gdpH/fmT/wCOV51RR7KHYPb1f5j0Y/G3xCVAOnaRgdP3Mn/xyk/4XX4g/wCgdpH/AH5k/wDjledUUeyh2D29X+Y9F/4XX4g/6B2kf9+ZP/jlH/C6/EH/AEDtI/78yf8AxyvOqKPZQ7B7er/Mei/8Lr8Qf9A7SP8AvzJ/8co/4XX4g/6B2kf9+ZP/AI5XnVFHsodg9vV/mPRf+F1+IP8AoHaR/wB+ZP8A45Xe/D7xfe+MNMv59RtrSF7aVET7MjLkEEnO5j6V8+17H8E/+QHrH/XxF/6Cayq04xhdI6MPVnKok2ek0UUVyHphRRRQAUUUUAFSv/x7xfjUVSv/AMe8X40gIqKKKYBRRRQAUUUUAFFFFABWqn+rX6CsqtVP9Wv0FRIB1FFFSMKKKKACiiigAooooAKKKKACiiigAooooAKKKKACiiigAooooAKKKKACiiigDA8XeHp/EVnpsNtNHEbPU7e9YyA/Msb7iox3NJqXh6aXxjpfiDTJY4Z4Ee2vVcY+0W7chcgdVfDD8R3roKKAPMZfhvr/APwhcnhO31LTY9OWbzUuRE4nuMSiQCTkgHOcsM52jgZOOztNDmg8cajrbSoYbuzgtkjGdwMbSEk/XePyrbooA4ZvAd6uiqltfQxana63Nq9nKVYx5eR28twCDtKuVOKms/CWq3fjK61zxLdWc0V1pLaa1naq4VFLhjy3XPzZPHUeldnRQBwEfgfXp9F03w3qmqWkuh6fPE/mIj/aLmKJt0cTg/KBwuSM/d6Cui0fQZtN8VeItVkmR49WlgeNFBygjhWM5+pGa3aKAOJi8D3afC/TfC7XcP2mze3ZpgDsby5lkOO/IXH1q3qHh/WrPxZca74WubENfwxxXtrfq+xzHnY6snIbDEHIIxiurooA4W48A3l14L8R2NxfQSax4gkaW4uAhWFDhVVVXk7VVR1ySc/hv61oc2p69oF/FKiJpd1JNIrZy4aF48D8WzW3RQB5/c+BtdTQta8OaXqNlFo+pNcSRyujefB5p3NFgfKVLFhnqAehq5eeCruO60fU9Mexl1Cx09dPnhvYy0NxEMHggEqwYZBweCQRXaUUAcfe+GNW1fwrNp9+dKtLh763uEFjEyxqkckbkEnksdjc4HUVua2mvMkL+HJrBHUnzY76Nysg7YZTlSPoa1KKAOGj8Fatqt9rWp+JL+1ivtS0ttKij05G2W8RySxZuXbLegxj34gg8F+Ipp/Dkd9eaXb2Og3KSJb2UTjzwsbJubPCtgjAAxy3PQV6BRQBzNn4XntdO8UW7XEbHWrueeIgH92JIUjAb6FSeKin8J3U3hbwxpYuIRLo1xZSyvztkEAAYL9ccZrq6KAPNdItvEZ8YeNZvDl1Yr5uoRxNHfK5ETC3jxIu08nDcqRztXkVtab4F/sg+Eo7W7EkOgLP5rSKQ07SRlSw9Msxbr37114ULnaAMnJwOppaAOJbwPeHR5rMXUG+TxGdXDYOPL+0CXZ0+9jj0rZv/D8l74ystXaVBb29hcWrx87mMjIcjtgBD+dbtFAHh+sK0vhuDwNpHiO01ONL1ILaztoX+17FlBCTHO1URQSWIGdg6V7hRRQBwXhnQPG/hjQLTR7W48Py29rkK8iTlyCxY9CB3NNm8Ea9baTq3h/R9SsU0bVZpnMk0b+fapMcyIgB2sOWwTjGec4rv6KAPPvEUdp4P1601PT9e07Spn04WJt9U3NHPHGcowKkHeuSMc5BrM0PwrfeJPhnqluLna+q62+oRXNxCY/NjE6Nv2dVDeWSB6MK9UooA5/XfDs194g0fW9Llit77T5SkrSA4ntnGHjOPwYZ4BFYVl4M1rw/Zy6boKaFc2Ikd7WXUYGMsCsS2xtow4BJwcg44rvaKAPP/EtzB4V8Yvqlt4i0zSp9RtEjuLbUoXaOTyywWRNrLlhkjZnkenWr/wALbKez8EhrlZV+1XlzcxGaPy3aN5WKMy/wkjBx712NFABXmfx0/wCROsf+v9f/AEW9emVma7pNhrFnHDqllHeRJJvVJASAcEZ4+pq6cuWSZnVi5wcUfJ9FfSX/AAg3hj/oXrP/AL4b/Gj/AIQbwx/0L1n/AN8N/jXb9Yj2PO+pz7nzbRX0l/wg3hj/AKF6z/74b/Gj/hBvDH/QvWf/AHw3+NH1iPYPqc+5820V9Jf8IN4Y/wChes/++G/xo/4Qbwx/0L1n/wB8N/jR9Yj2D6nPufNtFfSX/CDeGP8AoXrP/vhv8aP+EG8Mf9C9Z/8AfDf40fWI9g+pz7nzbRX0l/wg3hj/AKF6z/74b/Gj/hBvDH/QvWf/AHw3+NH1iPYPqc+5820V9Jf8IN4Y/wChes/++G/xo/4Qbwx/0L1n/wB8N/jR9Yj2D6nPufNtFfSX/CDeGP8AoXrP/vhv8aP+EG8Mf9C9Z/8AfDf40fWI9g+pz7nzbRX0ofAnhfyQ3/CP2mScY2n/ABpv/CDeGP8AoXrP/vhv8aPrEewfUp90fNtFfSX/AAg3hj/oXrP/AL4b/Gj/AIQbwx/0L1n/AN8N/jR9Yj2D6nPufNtFfSX/AAg3hj/oXrP/AL4b/Gj/AIQbwx/0L1n/AN8N/jR9Yj2D6nPufNtFfSX/AAg3hj/oXrP/AL4b/Gj/AIQbwx/0L1n/AN8N/jR9Yj2D6nPufNtFfSX/AAg3hj/oXrP/AL4b/Gj/AIQbwx/0L1n/AN8N/jR9Yj2D6nPufNtFfSX/AAg3hj/oXrP/AL4b/Gj/AIQbwx/0L1n/AN8N/jR9Yj2D6nPufNtFfSX/AAg3hj/oXrP/AL4b/Gj/AIQbwx/0L1n/AN8N/jR9Yj2D6nPufNtFfSX/AAg3hj/oXrP/AL4b/GnHwJ4XESt/wj9nkkgjaf8AGj6xHsH1KfdHzXRX0l/wg3hj/oXrP/vhv8aP+EG8Mf8AQvWf/fDf40fWI9g+pz7nzbRX0l/wg3hj/oXrP/vhv8aP+EG8Mf8AQvWf/fDf40fWI9g+pz7nzbRX0l/wg3hj/oXrP/vhv8aP+EG8Mf8AQvWf/fDf40fWI9g+pz7nzbRX0l/wg3hj/oXrP/vhv8aP+EG8Mf8AQvWf/fDf40fWI9g+pz7nzbRX0l/wg3hj/oXrP/vhv8aP+EG8Mf8AQvWf/fDf40fWI9g+pz7nzbRX0l/wg3hj/oXrP/vhv8aP+EG8Mf8AQvWf/fDf40fWI9g+pz7nzbRX0l/wg3hj/oXrP/vhv8aP+EG8Mf8AQvWf/fDf40fWI9g+pz7nzbRX0o3gTwuI1YeH7PJJyNp/xpv/AAg3hj/oXrP/AL4b/Gj6xHsH1KfdHzbRX0l/wg3hj/oXrP8A74b/ABo/4Qbwx/0L1n/3w3+NH1iPYPqc+5820V9Jf8IN4Y/6F6z/AO+G/wAaP+EG8Mf9C9Z/98N/jR9Yj2D6nPufNtex/BP/AJAesf8AXxF/6Ca6/wD4Qbwx/wBC9Z/98N/jWjpuj6fo0MsWk6fFZpKwZxED8xHT+dRUrKcbI2o4aVOak2WaKdtb+6fyo2t/dP5VzHcNop21v7p/Kja390/lQA2inbW/un8qNrf3T+VADalf/j3i/GmbW/un8qkdT5EXB79qAIaKdtb+6fyo2t/dP5UANopSCOoxSUwCiiigAooooAK1U/1a/QVlVqp/q1+gqJAOoooqRhRRRQAUUUUAFFFFABRRRQAUUUUAFFFFABRRRQAUUUUAFFFFABRRRQAUUUUAFFFFABRRRQAUUUUAFFFFABRRRQAUUUUAFFFFABWRrXivQfDskUet6rbWckwzHHI/zsPUKOccdela9cRqmheIdL8cXfifw3b6fqf2y2igntLuUwyIEJ/1UgBAByMgjqM0Ab8vi3w/DoMetyavaDTJW2Jd+YDGzZIxn1yCPwq3qes6do2mtqGq3sNraLjM0rgLycDn3rzfxFrFl4x8G6Lu082f/FUWtlfWTEHy5RLiRNw4br94dc1ha5cXWs+D7vwze72PhPTbuS/c4AkkSN4rXvzuQmT6qKAPZL7W9M0zShqeo39va2RAInmkCqc9ME+vpVXT/Fvh/VbC6vdN1e0ubezQvcNHKD5KgEksOo4B6+hrkbKNL34leGINQAeC08OfarONx8vnl0VmHYsEx9M54rQ8SIlr8VPCFzZgJeXn2q2uCpwZbdYi+G9Qr7SM9CfegC3/AMLP8Ef9DPp3/f6rF18QfCdklu13r9jCtzEJ4S8mPMjJIDD2ypH4VQuv+S3ab/2Abj/0fFWTq762nxzY+HoLCaf/AIRyPet9M8ShftL8gorHOcdqAOkf4ieEIrOG7k8Q2C287OkchlGGZcbgPpuX86k03x74V1jUYrDS9esrq6mz5cMcuWbAJOB9ATWnpLao9gDrkNnDd7jlbOVpI8duWVTn8K8s8M6lfr4H8FaDpt62n/2xeXiT3kePMSOOSVyqbgQGbgA849PQA9gorza71jV/D48Z6K2q3F8bDRG1KwvJtpmhJSQbXKgAkMgIyM49acsniDRj4T1W78QXN8+r3cNtfWkiRiACSJmBjAUMu0r3JznmgD0eqk2p2cGqW2myzBbu6SSSGLaSXVNu456DG5evrXmV14g13WtZ16S2uPEduNOvZLSwi0qyjeDdGAC0pdSXLN24AXHrTPEfiy/0bU/CGu6tpbrqB0m6Fxbn5FhkYwAs55KRg8k4OBQB63XN3vxD8I6dfTWd94hsYLiByksTy4ZGHUGr/h60vbbS1k1TVP7Turg+a8yALEM9FjUdEA6ZyT1JrC+Jf/IH0b/sPWH/AKOFAG/oviPR/EcMsuhajBfRwsFkaFtwUnsa064bbrGtfErXdMXW7qx0uztbSQR2uwSeY4fozK2F+Uk98hecZB5Y+J/Euu2N/rOlv4hS6SeddPtLOzjezIjYqqyEruYkr8xzxnigD2KivNNd8Sa1feKLbSRHrWn28WlxXl0uk2ySTGaQkBCzZ2ouw9OScjpXSeA77WrzQ7hPEMN0s9tdyRQTXcAiluIeCjso4BwSDj+7QB09ee/GXWNR0bwnZzaTezWcr3qozwuVJXY5xkduBXoVeYfHj/kTLD/sIL/6LetaOtRGVZ2ps8k/4TzxV/0MOof+BDUf8J54q/6GHUP/AAIaufor1OSPY8rnl3Og/wCE88Vf9DDqH/gQ1H/CeeKv+hh1D/wIaufoo5I9g55dzoP+E88Vf9DDqH/gQ1H/AAnnir/oYdQ/8CGrn6KOSPYOeXc6D/hPPFX/AEMOof8AgQ1H/CeeKv8AoYdQ/wDAhq5+ijkj2Dnl3Og/4TzxV/0MOof+BDUf8J54q/6GHUP/AAIaufoo5I9g55dzoP8AhPPFX/Qw6h/4ENR/wnnir/oYdQ/8CGrn6KOSPYOeXc6D/hPPFX/Qw6h/4ENR/wAJ54q/6GHUP/Ahq5+ijkj2Dnl3Og/4TzxV/wBDDqH/AIENR/wnnir/AKGHUP8AwIaufoo5I9g55dzoP+E88Vf9DDqH/gQ1H/CeeKv+hh1D/wACGrn6KOSPYOeXc6D/AITzxV/0MOof+BDUf8J54q/6GHUP/Ahq5+ijkj2Dnl3Og/4TzxV/0MOof+BDUf8ACeeKv+hh1D/wIaufoo5I9g55dzoP+E88Vf8AQw6h/wCBDUf8J54q/wChh1D/AMCGrn6KOSPYOeXc6D/hPPFX/Qw6h/4ENR/wnnir/oYdQ/8AAhq5+ijkj2Dnl3Og/wCE88Vf9DDqH/gQ1H/CeeKv+hh1D/wIaufoo5I9g55dzoP+E88Vf9DDqH/gQ1H/AAnnir/oYdQ/8CGrn6KOSPYOeXc6D/hPPFX/AEMOof8AgQ1H/CeeKv8AoYdQ/wDAhq5+ijkj2Dnl3Og/4TzxV/0MOof+BDUf8J54q/6GHUP/AAIaufoo5I9g55dzoP8AhPPFX/Qw6h/4ENR/wnnir/oYdQ/8CGrn6KOSPYOeXc6D/hPPFX/Qw6h/4ENR/wAJ54q/6GHUP/Ahq5+ijkj2Dnl3Og/4TzxV/wBDDqH/AIENR/wnnir/AKGHUP8AwIaufoo5I9g55dzoP+E88Vf9DDqH/gQ1H/CeeKv+hh1D/wACGrn6KOSPYOeXc6D/AITzxV/0MOof+BDUf8J54q/6GHUP/Ahq5+ijkj2Dnl3Og/4TzxV/0MOof+BDUf8ACeeKv+hh1D/wIaufoo5I9g55dzoP+E88Vf8AQw6h/wCBDUf8J54q/wChh1D/AMCGrn6KOSPYOeXc6D/hPPFX/Qw6h/4ENR/wnnir/oYdQ/8AAhq5+ijkj2Dnl3Og/wCE88Vf9DDqH/gQ1H/CeeKv+hh1D/wIaufoo5I9g55dzoP+E88Vf9DDqH/gQ1H/AAnnir/oYdQ/8CGrn6KOSPYOeXc6D/hPPFX/AEMOof8AgQ1H/CeeKv8AoYdQ/wDAhq5+ijkj2Dnl3Og/4TzxV/0MOof+BDUf8J54q/6GHUP/AAIaufoo5I9g55dzoP8AhPPFX/Qw6h/4ENR/wnnir/oYdQ/8CGrn6KOSPYOeXc6D/hPPFX/Qw6h/4ENR/wAJ54q/6GHUP/Ahq5+ijkj2Dnl3PqrS5ZJ9C02aZ2kkks4Wd2OSxKAkk1Zqno3/ACLek/8AXjB/6LFXK8t7nsLYKKKKBhRRRQAVqp/q1+grKrVT/Vr9BUSAdRRRUjCiiigAooooAKKKKACiiigAooooAKKKKACiiigAooooAKKKKACiiigAooooAKKKKACiiigAooooAKKKKACiiigAooooAKKKKACuf1TwmdR1KS8t9f1vTWl2+ZHZ3SiM4GM7XVgDgDJGM10FFAHNw+A9FttGsdMt0njgsr9NRVvNLPJOr79zs2S2T1/pWrqujWer6Vf2FymyPUIWgneLCuylSvXHXB4q/RQBian4T07VLGxgka4gl08AWl3by+XPDhdvDD1HUHg+lR6L4Qs9H1STU5bu+1TUpI/J+2ahKJHSPOdiAAKoJ5OAMmt+igDOk0O1k8TQ66xk+1w2r2igMNmxmVjkY65Ud6zNY8FWur+IRrS6nqmn3otRaF7G4EYaMOXwcqe7H9K6SigCho+lnSLI25v72/y5fzb2USOMgcZAHHH6msgeAtIXw5YaPG11GmnTNcWlykoE0MhZmLBsf7ZGMYxXTUUAc3beCNOh07WLa4ub29n1qEwXt7cyqZnTYUABChVADHACgc1fu/DtleW2lQTGXZpVxHcW+1gMsilV3ccjDH0rVooA5u78F28upXV7p2rappEl4we5WxnUJK2MbirqwBwByuM4q5/wjNi99p93O89xLp9pJaIZ5PM8xJAoYvnlidg5PvWxRQBmaFoNr4dsnstOeYWnmF4oJH3LAD/AncLnoCTjtTta0O1163tob0yBba6iu08tgDvjbcueOmRWjRQBn2ui2tpr2oatEZPtOoRwxzBm+UCLdtwO33zmsiTwPbLfXE+mavq2lR3UpnuLWyuFWKSQnLNhlJUnvtK5rp6KAMDU/B9nqN5a30N7f6fqNtD5C31pMBK8f9x9wZXGQD8wPPNaOkaX/ZNo0Jvry+Z3LtNeSB3JwBjgAAcDgAVeooAK80+OUEtx4PsVgieVhfqSEUk48t/SvS6qajdxWdusk9zFbKW275ZAgJweMn6VdOXLJMiceaLR8k/2Zf8A/Plcf9+m/wAKP7Mv/wDnyuP+/Tf4V9Sf25Y/9Biy/wDAtP8AGj+3LH/oMWX/AIFp/jXb9YfY4/qq/mPlv+zL/wD58rj/AL9N/hR/Zl//AM+Vx/36b/CvqT+3LH/oMWX/AIFp/jR/blj/ANBiy/8AAtP8aPrD7B9VX8x8t/2Zf/8APlcf9+m/wo/sy/8A+fK4/wC/Tf4V9Sf25Y/9Biy/8C0/xo/tyx/6DFl/4Fp/jR9YfYPqq/mPlv8Asy//AOfK4/79N/hR/Zl//wA+Vx/36b/CvqT+3LH/AKDFl/4Fp/jR/blj/wBBiy/8C0/xo+sPsH1VfzHy3/Zl/wD8+Vx/36b/AAo/sy//AOfK4/79N/hX1J/blj/0GLL/AMC0/wAaP7csf+gxZf8AgWn+NH1h9g+qr+Y+W/7Mv/8AnyuP+/Tf4Uf2Zf8A/Plcf9+m/wAK+pP7csf+gxZf+Baf40f25Y/9Biy/8C0/xo+sPsH1VfzHy3/Zl/8A8+Vx/wB+m/wo/sy//wCfK4/79N/hX1J/blj/ANBiy/8AAtP8aP7csf8AoMWX/gWn+NH1h9g+qr+Y+W/7Mv8A/nyuP+/Tf4Uf2Zf/APPlcf8Afpv8K+pzrun+UANYsd2Tn/Sk6fnTP7csf+gxZf8AgWn+NL6w+wfVV/MfLf8AZl//AM+Vx/36b/Cj+zL/AP58rj/v03+FfUn9uWP/AEGLL/wLT/Gj+3LH/oMWX/gWn+NP6w+wfVV/MfLf9mX/APz5XH/fpv8ACj+zL/8A58rj/v03+FfUn9uWP/QYsv8AwLT/ABo/tyx/6DFl/wCBaf40fWH2D6qv5j5b/sy//wCfK4/79N/hR/Zl/wD8+Vx/36b/AAr6k/tyx/6DFl/4Fp/jR/blj/0GLL/wLT/Gj6w+wfVV/MfLf9mX/wDz5XH/AH6b/Cj+zL//AJ8rj/v03+FfUn9uWP8A0GLL/wAC0/xo/tyx/wCgxZf+Baf40fWH2D6qv5j5b/sy/wD+fK4/79N/hR/Zl/8A8+Vx/wB+m/wr6k/tyx/6DFl/4Fp/jR/blj/0GLL/AMC0/wAaPrD7B9VX8x8t/wBmX/8Az5XH/fpv8KP7Mv8A/nyuP+/Tf4V9Sf25Y/8AQYsv/AtP8aP7csf+gxZf+Baf40fWH2D6qv5j5b/sy/8A+fK4/wC/Tf4Uf2Zf/wDPlcf9+m/wr6k/tyx/6DFl/wCBaf40867p/lKBrFjuyc/6Un+NL6w+wfVV/MfLH9mX/wDz5XH/AH6b/Cj+zL//AJ8rj/v03+FfUn9uWP8A0GLL/wAC0/xo/tyx/wCgxZf+Baf40/rD7B9VX8x8t/2Zf/8APlcf9+m/wo/sy/8A+fK4/wC/Tf4V9Sf25Y/9Biy/8C0/xo/tyx/6DFl/4Fp/jR9YfYPqq/mPlv8Asy//AOfK4/79N/hR/Zl//wA+Vx/36b/CvqT+3LH/AKDFl/4Fp/jR/blj/wBBiy/8C0/xo+sPsH1VfzHy3/Zl/wD8+Vx/36b/AAo/sy//AOfK4/79N/hX1J/blj/0GLL/AMC0/wAaP7csf+gxZf8AgWn+NH1h9g+qr+Y+W/7Mv/8AnyuP+/Tf4Uf2Zf8A/Plcf9+m/wAK+pP7csf+gxZf+Baf40f25Y/9Biy/8C0/xo+sPsH1VfzHy3/Zl/8A8+Vx/wB+m/wo/sy//wCfK4/79N/hX1J/blj/ANBiy/8AAtP8aP7csf8AoMWX/gWn+NH1h9g+qr+Y+W/7Mv8A/nyuP+/Tf4Uf2Zf/APPlcf8Afpv8K+pP7csf+gxZf+Baf40f25Y/9Biy/wDAtP8AGj6w+wfVV/MfLf8AZl//AM+Vx/36b/Cj+zL/AP58rj/v03+FfU7a7p/loBrFju5z/pSf40z+3LH/AKDFl/4Fp/jS+sS7B9VX8x8t/wBmX/8Az5XH/fpv8KP7Mv8A/nyuP+/Tf4V9Sf25Y/8AQYsv/AtP8aP7csf+gxZf+Baf40/rD7B9VX8x8t/2Zf8A/Plcf9+m/wAKP7Mv/wDnyuP+/Tf4V9Sf25Y/9Biy/wDAtP8AGj+3LH/oMWX/AIFp/jR9YfYPqq/mPlv+zL//AJ8rj/v03+FH9mX/APz5XH/fpv8ACvqT+3LH/oMWX/gWn+NH9uWP/QYsv/AtP8aPrD7B9VX8x8t/2Zf/APPlcf8Afpv8KP7Mv/8AnyuP+/Tf4V9Sf25Y/wDQYsv/AALT/Gj+3LH/AKDFl/4Fp/jR9YfYPqq/mPlv+zL/AP58rj/v03+FH9mX/wDz5XH/AH6b/CvqT+3LH/oMWX/gWn+NH9uWP/QYsv8AwLT/ABo+sPsH1VfzHy3/AGZf/wDPlcf9+m/wo/sy/wD+fK4/79N/hX1J/blj/wBBiy/8C0/xo/tyx/6DFl/4Fp/jR9YfYPqq/mPlv+zL/wD58rj/AL9N/hR/Zl//AM+Vx/36b/CvqT+3LH/oMWX/AIFp/jT213T/AC0A1ix3c5/0pP8AGl9Yl2D6qv5j5Y/sy/8A+fK4/wC/Tf4Uf2Zf/wDPlcf9+m/wr6k/tyx/6DFl/wCBaf40f25Y/wDQYsv/AALT/Gn9YfYPqq/mItIVk8PaWrqVZbKEEEYIOwVbqu2r6c7ZbVrEn/r6T/Gm/wBq6Z/0FLD/AMCk/wAa5NTtVki1RVX+1dM/6Clh/wCBSf41JDfWNxMsVvqFnLIxwqJcIxP0ANAXRNRRRQMK1U/1a/QVlVqp/q1+gqJAOoooqRhRRRQAUUUUAFFFFABRRRQAUUUUAFFFFABRRRQAUUUUAFFFFABRRRQAUUUUAFFFFABRRRQAUUUUAFFFFABRRRQAUUUUAFcxqHjJ4teutH0XQr/WbqyVGuzbtFHHDvG5V3SMoLEEHA7GunrhtZ0C0bxFqOqeHfF50DV5FRb1EeKWJmVcIZIn6HaRzkcY+tAF7xF4+tfDPhmy1rU9L1CJLq48g2zqiywna7EsN2MARk8E9qn8Z+N9P8F6HDqd5FNdpPJsiitcMzjaXLDJxtCqSTXGf2zc+L/CPgi81qKF3uPEHkyNGpEdwix3CbwD0DAdKxvEGh6zF4H1xdcheO08OaXLp+nNJg/aA8o/fA9eIkiTvyWoA9T1zxXBo9xZWcFld6lqN8C0FlaKpfYMZdixCooyBuJxk1WsfGYu7i80+fRr+01m1t/tA02Uxlp1zgGNwxRhnA6jGeayPOi0f4vpearIsEGpaLHbWdxKdqeYkjM8W7pkhg2D159KffXFtrXxk0NNKmWeTRrS6fUHiYFYhKFWONiP4iQWx1wM0AP/AOFg6h/bn9j/APCF6v8Ab/s32ryfOtv9Vu27s+bjrxjOasz+OLpdabSrPwvqV5eRWkNzcRxSwL5AkzhSWkAJBUg4yOKjH/Jc3/7Fxf8A0pNYl9bi4+L+tg+JLjQsabafNA8KmX5pOD5it09vWgDp5/FGrwWcU/8Awh2qMWVmkjFxbZiAPcmTHI54JqLwz42n8TQW15H4dv7PTbmMyLfXM0AQL24DluTx0rTskWLwvLGuqyavtjkBu5WRmfqcEoAvGcdO1eXaFHBeeHvhjp+tKr6JPBcNPFNjyZp1TMSyA8H+MgHqQKAPZxLGYxIHUoejA8fnSh1LlQwLLjIB5FeNarDDZaB8UNP0cqNFt4IvIiix5UE5iJmRAOB/ASOxJFb914b0vwv4l8FT6LbLbzy3UltcTj/WXKtBIxMrdXO5Q2T3oA9EaaNJFR5FV2+6pYAn6CsxtdA8Zp4f+znc2nte+fv4AEgTbtx/tZzmvK7TQ7nxIviSbUbfQpNSN/cRPd6jcSJc2IViItnynYoUqy4ODnNXPEr+I7bxPpx0qf7Ver4ZUX1zZ4eZ4vPj814NwwznqM9unOKAPXQwbO0g4ODg9DXL6h4znt/Et3oumeHtQ1Wezijlme3khRVEmdv33X+6a0PCaaIvhm1fwwUfT5QZEkUktIxPzM5PJfOc7uc5zXJDSLrVvi54lFprd9pPl2VkWNmIiZMiXGd6N0x2x1oA7y0vWm02K6vrdtPdxl4bh13Rn0JUkfkTVokDqcV51fadZ3/xWtdK8VMuoWVvoStZx3yq0c83mFJZCMBTJt29uAcjFcwYft/gZtOhuJf7LHjWO106ZJPu2/nqP3bD+EMXCnPb6UAe0C4hKO4lQqhKu24YUjqD6U9WDqGUhlIyCDwRXlXi7w9aWfjDw9o+n6TpMGjPHPcC0uv3NpNdDYo3hQQzBBkAjnmpYvCNx/wj3iHSZdX0fTbe9ubeS2s7WUvb27DBaJlO07ZNgBUep+hAPQr/AFux0/Q73VXmWa1soHnlMLBjtRSxA568VYs7uK+tIriBspKiuAeoBGRmvLLldMfwr410K48N6JYalb6O08h0tUeCYBJPLb7oKurqSAwyMgg13Pgm00W28MWb6BbWMKzQRPMbONF3vsHLbep+vNAHQ15d8e/+RLsP+wgv/ot69Rry749/8iXYf9hBf/Rb1tR/iIzq/AzwCiiivXPOCiiigAooooAKKKKACiiigAooooAKKKKACiiigAooooAKKKKACiiigAooooAKKKKACiiigAooooAKKKKACiiigAooooAKKKKACiiigAooooAKKKKACiiigAooooAKKKKACiiigAooooAKKKKACiiigAooooAKKKKACiiigArrvhZ/yU7Rv+ur/wDotq5Guu+Fn/JTtG/66v8A+i2rOp8D9C4fEj6Loooryz0QrVT/AFa/QVlVqp/q1+gqJAOoooqRhRRRQAUUUUAFFFFABRRRQAUUUUAFFFFABRRRQAUUUUAFFFFABRRRQAUUUUAFFFFABRRRQAUUUUAFFFFABRRRQAUUUUAFZOoeFPD2rXX2nVNC029n/wCelxaJIx+pI56VrUUAQPY2kiW6SWsLrbMHgVowREwBAK/3SASMj1p1zbQXltJb3kEdxBINrxSoGVx6EHg1LRQBVvtMsdUszaalZ293bnrDPEHX06Hik07SdO0e3MGk2FrYws24x20KxqTjGcKAM4A/KrdFAEX2W3+2fa/Ii+0+X5XnbBv2Zzt3dcZ5xVK/8OaJqtz9o1PRtPvJtoXzbi1SRsDoMkE4rSooAq2emWGnWhtdPsre1tySTDBEqISevygY5qKfQtJudJGl3Gl2cunrjbaPbqYlxyMJjA5q/RQBTh0fTLfSzptvp1pFYMCptUgVYiD1GwDHP0qaW0tp5IXmt4pHt23ws6AmNsYyvocEjj1qaigDL1HwxoOr3a3Wq6Lp97OowstxapIwH1Iq8tnbJcLOltCsyR+SsgjAZUznaD1C5A46cVNRQBBbWVrZeb9jtobfznMknlRhd7nqxx1J9aclrbxXUtzHBEk8wUSyqgDSBc7Qx6nGTjPTJqWigCjqmiaVrcUces6baagkbbkW6gWUKfUbgcVJ/ZlgLWC2Flb/AGe2ZXgi8pdsTLypUYwCO2OlWqKAKuo6Xp+sWhtdWsbe9tycmK4iWRc+uCKqReF9Ah0yTTYdD05LGVg0lstogjcjuVxgnjqa1aKAKGl6FpOiQSQ6PplpYRSHMiW0Cxhz6nA5/GpNP0nTtJR00uwtbJZG3OttCsYY+p2gZNW6KACuD+LfhrVPFHhm0tNFt1nmjvBKytIqYXY4zliO5Fd5WD4u8TaX4W0uG81mSSOGSYRKYo95LFSen0Bq6bakmiZJNWZ4H/wqHxn/ANAuP/wLi/8AiqP+FQ+M/wDoFx/+BcX/AMVXpn/C4fBv/P1ef+Ap/wAaP+Fw+Df+fq8/8BT/AI12+1rdvwOf2VPueZ/8Kh8Z/wDQLj/8C4v/AIqj/hUPjP8A6Bcf/gXF/wDFV6Z/wuHwb/z9Xn/gKf8AGj/hcPg3/n6vP/AU/wCNHta3b8A9lT7nmf8AwqHxn/0C4/8AwLi/+Ko/4VD4z/6Bcf8A4Fxf/FV6Z/wuHwb/AM/V5/4Cn/Gj/hcPg3/n6vP/AAFP+NHta3b8A9lT7nmf/CofGf8A0C4//AuL/wCKo/4VD4z/AOgXH/4Fxf8AxVemf8Lh8G/8/V5/4Cn/ABo/4XD4N/5+rz/wFP8AjR7Wt2/APZU+55n/AMKh8Z/9AuP/AMC4v/iqP+FQ+M/+gXH/AOBcX/xVemf8Lh8G/wDP1ef+Ap/xo/4XD4N/5+rz/wABT/jR7Wt2/APZU+55n/wqHxn/ANAuP/wLi/8AiqP+FQ+M/wDoFx/+BcX/AMVXpn/C4fBv/P1ef+Ap/wAaP+Fw+Df+fq8/8BT/AI0e1rdvwD2VPueZ/wDCofGf/QLj/wDAuL/4qj/hUPjP/oFx/wDgXF/8VXpn/C4fBv8Az9Xn/gKf8aP+Fw+Df+fq8/8AAU/40e1rdvwD2VPueZ/8Kh8af9AuP/wLi/8AiqP+FQ+M/wDoFx/+BcX/AMVXpx+Mng0xBPtN5wc5+yn/ABpv/C4fBv8Az9Xn/gKf8aPa1u34B7Kn3PM/+FQ+M/8AoFx/+BcX/wAVR/wqHxn/ANAuP/wLi/8Aiq9M/wCFw+Df+fq8/wDAU/40f8Lh8G/8/V5/4Cn/ABo9rW7fgHsqfc8z/wCFQ+M/+gXH/wCBcX/xVH/CofGf/QLj/wDAuL/4qvTP+Fw+Df8An6vP/AU/40f8Lh8G/wDP1ef+Ap/xo9rW7fgHsqfc8z/4VD4z/wCgXH/4Fxf/ABVH/CofGf8A0C4//AuL/wCKr0z/AIXD4N/5+rz/AMBT/jR/wuHwb/z9Xn/gKf8AGj2tbt+Aeyp9zzP/AIVD4z/6Bcf/AIFxf/FUf8Kh8Z/9AuP/AMC4v/iq9M/4XD4N/wCfq8/8BT/jR/wuHwb/AM/V5/4Cn/Gj2tbt+Aeyp9zzP/hUPjP/AKBcf/gXF/8AFUf8Kh8Z/wDQLj/8C4v/AIqvTP8AhcPg3/n6vP8AwFP+NH/C4fBv/P1ef+Ap/wAaPa1u34B7Kn3PM/8AhUPjP/oFx/8AgXF/8VR/wqHxn/0C4/8AwLi/+Kr0z/hcPg3/AJ+rz/wFP+NH/C4fBv8Az9Xn/gKf8aPa1u34B7Kn3PM/+FQ+M/8AoFx/+BcX/wAVR/wqDxpjP9lx4/6+4v8A4qvTP+Fw+Df+fq8/8BT/AI04/GTwaY1T7TecEnP2U/40e1rdvwD2VPueY/8ACofGf/QLj/8AAuL/AOKo/wCFQ+M/+gXH/wCBcX/xVemf8Lh8G/8AP1ef+Ap/xo/4XD4N/wCfq8/8BT/jR7Wt2/APZU+55n/wqHxn/wBAuP8A8C4v/iqP+FQ+M/8AoFx/+BcX/wAVXpn/AAuHwb/z9Xn/AICn/Gj/AIXD4N/5+rz/AMBT/jR7Wt2/APZU+55n/wAKh8Z/9AuP/wAC4v8A4qj/AIVD4z/6Bcf/AIFxf/FV6Z/wuHwb/wA/V5/4Cn/Gj/hcPg3/AJ+rz/wFP+NHta3b8A9lT7nmf/CofGf/AEC4/wDwLi/+Ko/4VD4z/wCgXH/4Fxf/ABVemf8AC4fBv/P1ef8AgKf8aP8AhcPg3/n6vP8AwFP+NHta3b8A9lT7nmf/AAqHxn/0C4//AALi/wDiqP8AhUPjP/oFx/8AgXF/8VXpn/C4fBv/AD9Xn/gKf8aP+Fw+Df8An6vP/AU/40e1rdvwD2VPueZ/8Kh8Z/8AQLj/APAuL/4qj/hUPjP/AKBcf/gXF/8AFV6Z/wALh8G/8/V5/wCAp/xo/wCFw+Df+fq8/wDAU/40e1rdvwD2VPueZ/8ACofGf/QLj/8AAuL/AOKo/wCFQ+M/+gXH/wCBcX/xVemf8Lh8G/8AP1ef+Ap/xo/4XD4N/wCfq8/8BT/jR7Wt2/APZU+55n/wqDxp/wBAuP8A8C4v/iqP+FQ+M/8AoFx/+BcX/wAVXpx+Mng0xqv2m8+XPP2U/wCNN/4XD4N/5+rz/wABT/jR7Wt2/APZU+55n/wqHxn/ANAuP/wLi/8AiqP+FQ+M/wDoFx/+BcX/AMVXpn/C4fBv/P1ef+Ap/wAaP+Fw+Df+fq8/8BT/AI0e1rdvwD2VPueZ/wDCofGf/QLj/wDAuL/4qj/hUPjP/oFx/wDgXF/8VXpn/C4fBv8Az9Xn/gKf8aP+Fw+Df+fq8/8AAU/40e1rdvwD2VPueZ/8Kh8Z/wDQLj/8C4v/AIqj/hUPjP8A6Bcf/gXF/wDFV6Z/wuHwb/z9Xn/gKf8AGj/hcPg3/n6vP/AU/wCNHta3b8A9lT7nmf8AwqHxn/0C4/8AwLi/+Ko/4VD4z/6Bcf8A4Fxf/FV7F4d8eeHvFOpPYaPcXD3CxNMRJAVG0Yzzn3FdDUuvUTs0NUYPY+fP+FQ+M/8AoFx/+BcX/wAVR/wqHxn/ANAuP/wLi/8Aiq+g6KX1ifkP2ET58/4VD4z/AOgXH/4Fxf8AxVH/AAqHxn/0C4//AALi/wDiq+g6KPrE/IPYRPnz/hUPjP8A6Bcf/gXF/wDFUf8ACoPGn/QLj/8AAuL/AOKr6DqV/wDj3i/Gj6zPyD2ET53/AOFQ+M/+gXH/AOBcX/xVH/CofGf/AEC4/wDwLi/+Kr6Doo+sT8g9hE+fP+FQ+M/+gXH/AOBcX/xVH/CofGf/AEC4/wDwLi/+Kr6Doo+sT8g9hE+fP+FQ+M/+gXH/AOBcX/xVdD4C+G3ijQ/HOmajqVhHFawOxkcXMbYBRh0DZ6mvYqKTrzasNUYp3CiiisDYK1U/1a/QVlVqp/q1+gqJAOoooqRhRRRQAUUUUAFFFFABRRRQAUUUUAFFFFABRRRQAUUUUAFFFFABRRRQAUUUUAFFFFABRRRQAUUUUAFFFFABRRRQAVHcTC3tpZmVnEaFyqDLHAzgDuakpkzmKB5FRpCqlgi9WwOgoA4bwtrfi/xVpNtr1peaBHZ3LbhY+VJI8aZ+60ofAkC9tuMnpT7zxxf2PxXj8PTw2o0h44UNwVbzUnlEhQZzt2kxleg5Yc1yfiGz0bUP9J8BeHtW0vxe0ymIxWE1qsZLjc0zECIrjdnk5z710Oq+G7nXfGniuFY3g8/TLP7JdvGdiXEbyOhDeqttJxzigC2/jfUH+LVt4btYLVtKYSQzXBDGUzpCJWVTnaABJHngnJNOs9e8UeKby/m8Nf2ZYaVZ3L20U97DJNJdvGcMQFZQibsrnk8E1n2XhnUNH8V+DftIa9uFbUrnUryGI+X50yhsk44GTtXOOFFS+HNQbwDbXmgazp+oyRRXcs2n3NnYyXCXMUjlwuYw21wWIIbHbGaANHTtf8ReIdPni0xNO0zVtNu3tNQivIpZ49wAIaMqyEqwIYE9j+NVvB+s+M/EKm7vLjQo7OC+ltpo4rOYSMI5ChKkykAnHGQcVd8CabfRNrWt6ravZT63e/aY7WQjfDCEVIw4HAcgZIzxnHUUfDi1uLTw9epdwSwM+q3kirKhUsrTMQwz2I5B70AZvhvWPHXifQo9WtLrw7bQzSzIkUllOzKElaPkiYA52Z/GpPFus+NPD7RXFrcaDJa3WoxWcEclnMXQSybVLMJQCQDzgDNcf4T07wjZaHEvibwffzaulxO8sx0S4kLZmcodwTB+UrXffEK1uLzSdHW0glnZdaspGWNCxVRKCWIHQAck9qAI08ZroE1zaeMdUs57yFRK66Tp9wy28ZH3pcGTZnqCccfnWxqXi7QtIispL/UERNQQvaMitIJwAD8pUHOQwwOpyAM1ykN83hDxN4pOraXfXQ1a4W4spbW1knFyPKVfJJRTsIIIG7AwT6VS8PeGtQ0tvhxa6lZuZbCK8afALrbM8eVUt0GM7Rz26nrQB3Ok+KtG1qxu7uwvP3VkzLc+dG0LQYGTvVwCvHPI6VX0rxz4e1rU47DT712uJlZoRLbSxLOF6mNnUK+Ovyk8c9Oa5TxB4d1LWbr4h2djBIj6hZ2Qt3I2LMyo25Qx4PACn0yKNMh07VdY0eK6vPFk13Y3AmS0vNPVI7Z1Uj5pBAq7cEj5W5yMUAb2j+MI00vWL3xDcxwxWms3FjCVjJZwr7UQKuS7HpgAk+ldYjB0V1yAwyNwIP5HkV5Jpui6poniPUPFUunXOo2kOsXoNi0TGSCN5P8Aj5t1/iJHB4JIHyntXrUUizQpImdrqGG5SDg+x5H40AYXgbXrrxN4L0/V7+OGO4uVcusIIQYdlGAST0HrTL3x74b0+/ltLrUCGgkEM8qW8jwwOSAFklVSiHnoxGO+K5T4e+KINA8DaZpOp6Xrkd3AHWRRpFwygmRiPmCY6EVQL3GkeBfEXg+40W/uNZvprxbfyrSRorzzmYrL5oGxQAwzkjG2gD0XWPFGk6Hd29pfzyG6uQWjt7e3knkKjq2yNSQo9cYrA8RfECBfAV3r3g+4tb5oLuK1DzRuYw7SIrZGVJwH7HFUoba98H+MrW9v7K81Gzl0S308XFjbyXLxSxMSQyqCQrbs7sdRziuWOn3ep/CfxPbxadOs9z4nZ/scWXkQG4iLL8ueVGckdMGgDurDX/EVj43s9A8SLplyt/bSzQT6dHJGYzHjO9XZuDuABB61dufiF4ZtNTlsZ9RIeCYQTSrbyNDFKTjY0oUorZ6gkY71hnwvH4I8b6dq+hWtzdWeo/8AEvvkkZ7qWDOWjkV2JZUByGGccg44yOY0vRY9O8L3PhfxLc+K4JN00clpYWHnwXasxbfHIsDZ3A5O5gQc5xigD07WfFuj6Dew2eoXEv2qZDIsFvbyTuEBwXKxqSFz3PHBq3o2uab4h0832i3a3dr5jxCVAdpZTg4yORnuOD2rjgZfCPjy+1C50zU7+y1GwtoLee1tWuJEaIMCjhOVzkHOME55FWfhOXbwfctJALdm1W8JiUghD5zfKCCQQOmQSOKAO3ryv4//APIk6f8A9hFf/RcleqV5X8f/APkSdP8A+wiv/ouStqP8RET+Fnz5RRRXrnIFFFFABRRRQAUUUUAFFFFABRRRQAUUUUAFFFFABRRRQAUUUUAFFFFABRRRQAUUUUAFFFFABRRRQAUUUUAFFFFABRRRQAUUUUAFFFFABRRRQAUUUUAFFFFABRRRQAUUUUAFFFFAHo/wO/5H2f8A7B8v81r3mvBvgd/yPs//AGD5f5rXvNediP4h00/hCiiisDQKKKKACpX/AOPeL8aiqV/+PeL8aQEVFFFMAooooAKKKKACiiigArVT/Vr9BWVWqn+rX6CokA6iiipGFFFFABRRRQAUUUUAFFFFABRRRQAUUUUAFFFFABRRRQAUUUUAFFFFABRRRQAUUUUAFFFFABRRRQAUUUUAFFFFABRRRQAUUUUAFFFFABRRRQAUUUUAFFFFABRRRQAUUUUAFFFFAGVrWgR635fmahqdmUBXNjePBkH12nn69RVjR9HsdB0uLTtKgEFtFnau4sSSckknJJJJJJ5q7RQAUUUUAY+s+G4NamWWW/1O0YJ5bCyvXhDrknkKfc89au6Zplno2mw6fpkC29rAMRxqScZOTyeSSSSSeSTVuigArlPiF4M/4TfQ7fT/ALcbHybkT+YIPNzhWXGNw/vdfauropxk4u6E1dWZ4h/wz4P+hlf/AMFp/wDjlH/DPg/6GV//AAWn/wCOV7fRW/1ip3J9nHseIf8ADPg/6GV//Baf/jlH/DPg/wChlf8A8Fp/+OV7fRR9Yqdw9nHseIf8M+D/AKGV/wDwWn/45R/wz4P+hlf/AMFp/wDjle30UfWKncPZx7HiH/DPg/6GV/8AwWn/AOOUf8M+D/oZX/8ABaf/AI5Xt9FH1ip3D2cex4h/wz4P+hlf/wAFp/8AjlH/AAz4P+hlf/wWn/45Xt9FH1ip3D2cex4h/wAM+D/oZX/8Fp/+OUf8M+D/AKGV/wDwWn/45Xt9FH1ip3D2cex4h/wz4P8AoZX/APBaf/jlH/DPg/6GV/8AwWn/AOOV7fRR9Yqdw9nHseI/8M9jbn/hJm/8Fv8A9spP+GfB/wBDK/8A4LT/APHK9voo+sVO4ezj2PEP+GfB/wBDK/8A4LT/APHKP+GfB/0Mr/8AgtP/AMcr2+ij6xU7h7OPY8Q/4Z8H/Qyv/wCC0/8Axyj/AIZ8H/Qyv/4LT/8AHK9voo+sVO4ezj2PEP8Ahnwf9DK//gtP/wAco/4Z8H/Qyv8A+C0//HK9voo+sVO4ezj2PEP+GfB/0Mr/APgtP/xyj/hnwf8AQyv/AOC0/wDxyvb6KPrFTuHs49jxD/hnwf8AQyv/AOC0/wDxyj/hnwf9DK//AILT/wDHK9voo+sVO4ezj2PEP+GfB/0Mr/8AgtP/AMco/wCGfB/0Mr/+C0//AByvb6KPrFTuHs49jxD/AIZ8H/Qyv/4LT/8AHKX/AIZ7G3P/AAkzf+C3/wC2V7dRR9Yqdw9nHseIf8M+D/oZX/8ABaf/AI5R/wAM+D/oZX/8Fp/+OV7fRR9Yqdw9nHseIf8ADPg/6GV//Baf/jlH/DPg/wChlf8A8Fp/+OV7fRR9Yqdw9nHseIf8M+D/AKGV/wDwWn/45R/wz4P+hlf/AMFp/wDjle30UfWKncPZx7HiH/DPg/6GV/8AwWn/AOOUf8M+D/oZX/8ABaf/AI5Xt9FH1ip3D2cex4h/wz4P+hlf/wAFp/8AjlH/AAz4P+hlf/wWn/45Xt9FH1ip3D2cex4h/wAM+D/oZX/8Fp/+OUf8M+D/AKGV/wDwWn/45Xt9FH1ip3D2cex4h/wz4P8AoZX/APBaf/jlH/DPg/6GV/8AwWn/AOOV7fRR9Yqdw9nHseI/8M9jAP8Awkzc/wDUN/8AtlJ/wz4P+hlf/wAFp/8Ajle30UfWKncPZx7HiH/DPg/6GV//AAWn/wCOUf8ADPg/6GV//Baf/jle30UfWKncPZx7HiH/AAz4P+hlf/wWn/45R/wz4P8AoZX/APBaf/jle30UfWKncPZx7HiH/DPg/wChlf8A8Fp/+OUf8M+D/oZX/wDBaf8A45Xt9FH1ip3D2cex5n4I+FP/AAheuyamNXe+LW7wiL7EY/vEHOd59PSu58mX/nm35Vp0VnKpKTuylFLRGZ5Mv/PNvyo8mX/nm35Vp0VPMMzPJl/55t+VHky/882/KtOijmAzPJl/55t+VPeKQwxgI2RnPFaFFHMBmeTL/wA82/KjyZf+ebflWnRRzAZnky/882/KjyZf+ebflWnRRzAZnky/882/KjyZf+ebflWnRRzAZnky/wDPNvyo8mX/AJ5t+VadFHMBmeTL/wA82/KtJOI1z6UtFJu4BRRRSAKKKKACiiigAooooAKKKKACiiigAooooAKKKKACiiigAooooAKKKKACiiigAooooAKKKKACiiigAooooAKKKKACiiigAooooAKKKKACiiigAooooAKKKKACiiigAooooAKKKKACiiigAooooAKKKjuJfs9rLMF3+WhbaDjOBnFAElFeMPp6WfwitvH6O7eJV8rUZL8yuWkBlBaI/N/q9jFNvTAHGa9hvJza2M9wqbzFGzhR/FgZxQBNRXjJ01NP+E9l49R5D4lJgvpb7zX3TeZMMxEZwU2vt29OBXs1ABRRRQAUUUUAFFFFABRRRQAUUUUAFFVtRuTZaXdXSAFoIXkAI4JCk/0ryZ9Nj0/4V6b45geRvEZNtfTX3mMXnMsqB4m7bNrlduMDAwKAPYqKZPEJ7eSFiyrIpUlDgjIxwexrzLWvDWkaX428O2fgu3+za4t6lzePFI7YsgCJDMSTkNwBnknv1oA9QooooAKKKKACiiigAooooAKKKKACiiqmr3radot9fIodra3kmCnoSqk44+lAFuivIm0qHRvhtoHjKAyPrnmWV5dXhkJe5+0SIJI3PdCJSAB0wMV6zcTxWttLcXEixwxIXkdjgKoGST+FAElFeUhrzVfib4O8R3xliTUJrtbG0fK+TbC2cqWXpvcnee4BUdq9WoAKKKKACiiigAooooAKKKKACiiigAorP1++k0vw3qd/AN0traSzICM5ZULD+Veato8HhvwX4c8VWbyf23LPZPe3jSMzXgnZBIr5PzD5+PTAxigD1qis/X9RfSPDep6lGod7O0luFVgSGKIWxx9K8p8ISaXBDoOv+IPDl7JcajLGF8RXVyGeS4c4BKBspESSF4xgDIGaAPZqKKKACiiigAooooAKKKKACiiigAoorK8UalNo/hDWNStcefZ2M08e4ZG5ULDI9MigDVoryiXRLfwroHhTxFpxk/tee8s01C5EhLXyz4WQPkkNkkEdcYGK9L1nf/YV/wCVdrZSfZpNt0xwIDtOHP06/hQBcorwrwzHpyan4O+waVf6NqAuF+1a3c71g1P92QyI7f63zThlyF4zj0r3WgAooooAKKKKACiiigAooooAKKKKACiiigAooooAKKKKACiiigAooooAKKKKACiiigAooooAKKKKACiiigAooooAKKKKACiiigAooooAKKKKACiiigAooooAKKKKACiiigAooooAKKKKACiiigAooooAKKKKACiiigAooooAKKKKACggEEEZB6g0UUAcCnw/1M6bF4cm1e3bwvFciYW62xFw0auJFg8zdgJuHULuwMZ711xtdQfXZZJrqJtKe1Ea2nl/N5u45ct6FSBj2rQooA4G38AapHp1n4dm1e3k8M2dwsyw+Q32mREfekLSFtuzcBkhc4AHvXfUUUAFFFFABRRRQAUUUUAFFFFABRRRQAjosiMjjKsMEHuK4G2+H+qjTLPw7e6xbzeG7K4SaOIW7C5lSNw8cLvu2lQQMkLk7RjFd/RQBnPb6t/a11NHew/Y2tQlvbtFyk2Tl2bqR0GPauU8MeFvF3h6d2k1PQ7tru5E2oXcllN9pueefm83aMLwoC7V7DrXeUUAFFFFABRRRQAUUUUAFFFFABRRRQAUyaJJ4XhmUPHIpV1PQgjBFPooA4a08Daqtpp2iahrEM/h/TJ0lhhFuRcTJGd0UUjltu1SF6LltoHHNdJNpdzf3upRarPFc6PdwLCliYsEcESFm6kHI4rVooA4K++EfhufX9IvbTTbWC3s3la5g2sftAaMqo68YbDfhXe1mv4h0lNcGjm/hOobdxt1OWUYLfNj7vAJ5xxUmn65pOrTTRaXqlleyQY81La4SRo89NwUnHQ9aAL1FFFABRRRQAUUUUAFFFFABRRRQBFc20V5aTW1wgeGZGjkU9GUjBH5GuKsvAuri10jSNX1qG70XR50mgVbYrPP5ZzEkjbiu1flzgfNtHSu6ooAzDp95c3+ppqN1HcaVdQpFDaeUAY/lIky38W7I47VykPgHWJLPStD1LWbafQNJnilhVLdluZhEf3Ucjbtu0cZIHO0dK76igAooooAKKKKACiiigAooooAKKKKACoL6zh1HT7myu13wXMTQyqDjKsCCPyNT0UAcPZeCdYJ0aw1rWLa70jQ5kntljtTHPM0YIi8xtxXC8HgDJAPFb15ot3qq67ZarfCTS9StxbwQRRhHgUxlZDu/iJJyM9MVtUUAcJbeDPENyNEsde1fT5tM0S4huIfs1q6TztECIw7FyAOhOBzj3ru6KKACiiigAooooAKKKKACiiigAooooAKKKKACiiigAooooAKKKKACiiigAooooAKKKKACiiigAooooAKKKKACiiigAooooAKKKKACiiigAooooAKKKKACiiigAooooAKKKKACiiigAooooAKKKKACiiigAooooAKKKKACiiigAooooAKKKKACiiigAooooAKKKKACiiigAooooAKKKKACiiigAooooAKKKKACiiigAooooAKKKKACiiigAooooAKKKKACiiigDz3wTpV1/wmXi6W51i5uY11ERzQSQw7bgG3jwWIQHgNgAEDjkHJzY8O2Npp3xZ8QW2n2sNpbpplltigjCIvzS9AOBXUabodvpd9ql1byStJqdwLiUOQQjCNUwvHTCA85rB0/wAAy6f4ibWf+Ep1me5l8tZxL5G2ZEJKo2Ixgcnpg80AdhXnWv6vqlp4o1Bdb1vU/D+lxmMafdWljHJasCoyZpGR8HcSMHYMAc966NvG2nqxU6fr2QccaHdkfn5dV9S8KzeI7eff4j1mDTNSj/fWHlxJ8jDlMtH5iAjgrnPUUAQXd3quv+Nr3Q9N1iTSbPTLSCaaW3ijea4klL7QC6soQBOcDJJ9Kj1S51xde0TwnZ6xLFJPbTXV3qpgjMzJGVAVQV2BiXGTt4AyBzWhqHgq3m1KDUtH1G80W+ht1tTNaFGEkS/dV1kVlbHY4z70t/4Niv7fTHbVL+PU9LDfZtUVkM3zY37gVKMGxggrigDlNT8Wa/pPhrxrZG+8/U/D7Qm2v2hjDSJKAy71A2bgCQeBkYOBVrxLq3iDw4uk6c+sXNzqGtTsJJ7ewWb7IkaFnEMSplskgAvuwOTW1/wr7Tm8N6rpU11dzS6xIJb6+cr50z5HPC7QBtAAAwBWtrvh+11+CATyTW9xayeda3Vu22SB8EblyCDwSCCCCOooAwPBmrazPrmo6fqLapeWCRRzWl9qOmm0fJJDxH5FVsfKQQAeT1xXaVlaPpF3p0kst9rl/qssihf9JESIgBP3VjRRk55JyeK1aACiiigAooooAKKKKACiiigAooooAKKKKACiiigAooooAKKKKACiiigAooooAKKKKACiiigAooooAKKKKACiiigAooooAKKKKACiiigAooooAKKKKACiiigAooooAKKKKACiiigAooooAKKKKACiiigAooooAKKKKACiiigAooooAKKKKACiiigAooooAKKKKACiiigAooooAKKKKACiiigAooooAKKKKACiiigAooooAKKKKACiiigAooooAKKKKACiiigAooooAKKKKACiiigAooooAKKKKACiiigAooooAKKKKACiiigAooooAKKKKACiiigAooooAKKKKACiiigAooooAKKKKACiiigAooooAKKKKACiiigAooooAKKKKACiiigAooooAKKKKACiiigAooooAKKKKACiiigAooooAKKKKACiiigAooooAKKKKACiiigAooooAKKKKACiiigAooooAKKKKAP/2Q==)"
   ]
  },
  {
   "cell_type": "markdown",
   "metadata": {
    "id": "1x19r8mARLIn"
   },
   "source": [
    "**(8)** модель Random Forest Classifier, показавшая лучшее значение метрики f1_score на обучающей выборке, сбалансированной с помощью алгоритма SMOTETomek, на финальной проверке на тестовой выборке показала результат : f1_score = 0.6067, roc_auc_score = 0.8565. Условию выполнения проекта, согласно которого цель считается достигнутой при f1_score > 0.59, модель соответствует. Лучшая модель сохранена в переменной **best_forest_model_5**"
   ]
  }
 ],
 "metadata": {
  "colab": {
   "provenance": []
  },
  "kernelspec": {
   "display_name": "Python 3 (ipykernel)",
   "language": "python",
   "name": "python3"
  },
  "language_info": {
   "codemirror_mode": {
    "name": "ipython",
    "version": 3
   },
   "file_extension": ".py",
   "mimetype": "text/x-python",
   "name": "python",
   "nbconvert_exporter": "python",
   "pygments_lexer": "ipython3",
   "version": "3.12.4"
  },
  "toc": {
   "base_numbering": 1,
   "nav_menu": {},
   "number_sections": true,
   "sideBar": true,
   "skip_h1_title": true,
   "title_cell": "Table of Contents",
   "title_sidebar": "Contents",
   "toc_cell": false,
   "toc_position": {},
   "toc_section_display": true,
   "toc_window_display": false
  },
  "widgets": {
   "application/vnd.jupyter.widget-state+json": {
    "0d70a501ea9449eaaa2a2699cef5b41e": {
     "model_module": "@jupyter-widgets/base",
     "model_module_version": "1.2.0",
     "model_name": "LayoutModel",
     "state": {
      "_model_module": "@jupyter-widgets/base",
      "_model_module_version": "1.2.0",
      "_model_name": "LayoutModel",
      "_view_count": null,
      "_view_module": "@jupyter-widgets/base",
      "_view_module_version": "1.2.0",
      "_view_name": "LayoutView",
      "align_content": null,
      "align_items": null,
      "align_self": null,
      "border": null,
      "bottom": null,
      "display": null,
      "flex": null,
      "flex_flow": null,
      "grid_area": null,
      "grid_auto_columns": null,
      "grid_auto_flow": null,
      "grid_auto_rows": null,
      "grid_column": null,
      "grid_gap": null,
      "grid_row": null,
      "grid_template_areas": null,
      "grid_template_columns": null,
      "grid_template_rows": null,
      "height": null,
      "justify_content": null,
      "justify_items": null,
      "left": null,
      "margin": null,
      "max_height": null,
      "max_width": null,
      "min_height": null,
      "min_width": null,
      "object_fit": null,
      "object_position": null,
      "order": null,
      "overflow": null,
      "overflow_x": null,
      "overflow_y": null,
      "padding": null,
      "right": null,
      "top": null,
      "visibility": null,
      "width": null
     }
    },
    "1489cae47e624c3c930f0ebdb588ff56": {
     "model_module": "@jupyter-widgets/controls",
     "model_module_version": "1.5.0",
     "model_name": "DescriptionStyleModel",
     "state": {
      "_model_module": "@jupyter-widgets/controls",
      "_model_module_version": "1.5.0",
      "_model_name": "DescriptionStyleModel",
      "_view_count": null,
      "_view_module": "@jupyter-widgets/base",
      "_view_module_version": "1.2.0",
      "_view_name": "StyleView",
      "description_width": ""
     }
    },
    "1da8e23b943746f58434345f10586fa4": {
     "model_module": "@jupyter-widgets/base",
     "model_module_version": "1.2.0",
     "model_name": "LayoutModel",
     "state": {
      "_model_module": "@jupyter-widgets/base",
      "_model_module_version": "1.2.0",
      "_model_name": "LayoutModel",
      "_view_count": null,
      "_view_module": "@jupyter-widgets/base",
      "_view_module_version": "1.2.0",
      "_view_name": "LayoutView",
      "align_content": null,
      "align_items": null,
      "align_self": null,
      "border": null,
      "bottom": null,
      "display": null,
      "flex": null,
      "flex_flow": null,
      "grid_area": null,
      "grid_auto_columns": null,
      "grid_auto_flow": null,
      "grid_auto_rows": null,
      "grid_column": null,
      "grid_gap": null,
      "grid_row": null,
      "grid_template_areas": null,
      "grid_template_columns": null,
      "grid_template_rows": null,
      "height": null,
      "justify_content": null,
      "justify_items": null,
      "left": null,
      "margin": null,
      "max_height": null,
      "max_width": null,
      "min_height": null,
      "min_width": null,
      "object_fit": null,
      "object_position": null,
      "order": null,
      "overflow": null,
      "overflow_x": null,
      "overflow_y": null,
      "padding": null,
      "right": null,
      "top": null,
      "visibility": null,
      "width": null
     }
    },
    "23868f959cd64016b0da224a31230039": {
     "model_module": "@jupyter-widgets/controls",
     "model_module_version": "1.5.0",
     "model_name": "DescriptionStyleModel",
     "state": {
      "_model_module": "@jupyter-widgets/controls",
      "_model_module_version": "1.5.0",
      "_model_name": "DescriptionStyleModel",
      "_view_count": null,
      "_view_module": "@jupyter-widgets/base",
      "_view_module_version": "1.2.0",
      "_view_name": "StyleView",
      "description_width": ""
     }
    },
    "2e468531f7544f258a31516569d41c16": {
     "model_module": "@jupyter-widgets/base",
     "model_module_version": "1.2.0",
     "model_name": "LayoutModel",
     "state": {
      "_model_module": "@jupyter-widgets/base",
      "_model_module_version": "1.2.0",
      "_model_name": "LayoutModel",
      "_view_count": null,
      "_view_module": "@jupyter-widgets/base",
      "_view_module_version": "1.2.0",
      "_view_name": "LayoutView",
      "align_content": null,
      "align_items": null,
      "align_self": null,
      "border": null,
      "bottom": null,
      "display": null,
      "flex": null,
      "flex_flow": null,
      "grid_area": null,
      "grid_auto_columns": null,
      "grid_auto_flow": null,
      "grid_auto_rows": null,
      "grid_column": null,
      "grid_gap": null,
      "grid_row": null,
      "grid_template_areas": null,
      "grid_template_columns": null,
      "grid_template_rows": null,
      "height": null,
      "justify_content": null,
      "justify_items": null,
      "left": null,
      "margin": null,
      "max_height": null,
      "max_width": null,
      "min_height": null,
      "min_width": null,
      "object_fit": null,
      "object_position": null,
      "order": null,
      "overflow": null,
      "overflow_x": null,
      "overflow_y": null,
      "padding": null,
      "right": null,
      "top": null,
      "visibility": null,
      "width": null
     }
    },
    "3dd0752e468b4002b1b432c13e0b02d9": {
     "model_module": "@jupyter-widgets/controls",
     "model_module_version": "1.5.0",
     "model_name": "DescriptionStyleModel",
     "state": {
      "_model_module": "@jupyter-widgets/controls",
      "_model_module_version": "1.5.0",
      "_model_name": "DescriptionStyleModel",
      "_view_count": null,
      "_view_module": "@jupyter-widgets/base",
      "_view_module_version": "1.2.0",
      "_view_name": "StyleView",
      "description_width": ""
     }
    },
    "4fc602270ddd41f7b71cd4bed0a957cb": {
     "model_module": "@jupyter-widgets/base",
     "model_module_version": "1.2.0",
     "model_name": "LayoutModel",
     "state": {
      "_model_module": "@jupyter-widgets/base",
      "_model_module_version": "1.2.0",
      "_model_name": "LayoutModel",
      "_view_count": null,
      "_view_module": "@jupyter-widgets/base",
      "_view_module_version": "1.2.0",
      "_view_name": "LayoutView",
      "align_content": null,
      "align_items": null,
      "align_self": null,
      "border": null,
      "bottom": null,
      "display": null,
      "flex": null,
      "flex_flow": null,
      "grid_area": null,
      "grid_auto_columns": null,
      "grid_auto_flow": null,
      "grid_auto_rows": null,
      "grid_column": null,
      "grid_gap": null,
      "grid_row": null,
      "grid_template_areas": null,
      "grid_template_columns": null,
      "grid_template_rows": null,
      "height": null,
      "justify_content": null,
      "justify_items": null,
      "left": null,
      "margin": null,
      "max_height": null,
      "max_width": null,
      "min_height": null,
      "min_width": null,
      "object_fit": null,
      "object_position": null,
      "order": null,
      "overflow": null,
      "overflow_x": null,
      "overflow_y": null,
      "padding": null,
      "right": null,
      "top": null,
      "visibility": null,
      "width": null
     }
    },
    "62a6ac832b834d7d934809e53a8f39f6": {
     "model_module": "@jupyter-widgets/controls",
     "model_module_version": "1.5.0",
     "model_name": "FloatProgressModel",
     "state": {
      "_dom_classes": [],
      "_model_module": "@jupyter-widgets/controls",
      "_model_module_version": "1.5.0",
      "_model_name": "FloatProgressModel",
      "_view_count": null,
      "_view_module": "@jupyter-widgets/controls",
      "_view_module_version": "1.5.0",
      "_view_name": "ProgressView",
      "bar_style": "success",
      "description": "",
      "description_tooltip": null,
      "layout": "IPY_MODEL_e75a6bd1b83a4d1e930aa8ee4b0bc95b",
      "max": 3,
      "min": 0,
      "orientation": "horizontal",
      "style": "IPY_MODEL_ca617df6ac4241dd8ef59b826a204663",
      "value": 3
     }
    },
    "66d56018b7104594afdc83b9a0d8c8e3": {
     "model_module": "@jupyter-widgets/controls",
     "model_module_version": "1.5.0",
     "model_name": "HTMLModel",
     "state": {
      "_dom_classes": [],
      "_model_module": "@jupyter-widgets/controls",
      "_model_module_version": "1.5.0",
      "_model_name": "HTMLModel",
      "_view_count": null,
      "_view_module": "@jupyter-widgets/controls",
      "_view_module_version": "1.5.0",
      "_view_name": "HTMLView",
      "description": "",
      "description_tooltip": null,
      "layout": "IPY_MODEL_edb5eaf8bf6046d094c7d952b0f65927",
      "placeholder": "​",
      "style": "IPY_MODEL_d01f76989d9a4c3190aa3bae185d1f97",
      "value": "100%"
     }
    },
    "6784e4b1e6d845f7bc0168b668ba616c": {
     "model_module": "@jupyter-widgets/base",
     "model_module_version": "1.2.0",
     "model_name": "LayoutModel",
     "state": {
      "_model_module": "@jupyter-widgets/base",
      "_model_module_version": "1.2.0",
      "_model_name": "LayoutModel",
      "_view_count": null,
      "_view_module": "@jupyter-widgets/base",
      "_view_module_version": "1.2.0",
      "_view_name": "LayoutView",
      "align_content": null,
      "align_items": null,
      "align_self": null,
      "border": null,
      "bottom": null,
      "display": null,
      "flex": null,
      "flex_flow": null,
      "grid_area": null,
      "grid_auto_columns": null,
      "grid_auto_flow": null,
      "grid_auto_rows": null,
      "grid_column": null,
      "grid_gap": null,
      "grid_row": null,
      "grid_template_areas": null,
      "grid_template_columns": null,
      "grid_template_rows": null,
      "height": null,
      "justify_content": null,
      "justify_items": null,
      "left": null,
      "margin": null,
      "max_height": null,
      "max_width": null,
      "min_height": null,
      "min_width": null,
      "object_fit": null,
      "object_position": null,
      "order": null,
      "overflow": null,
      "overflow_x": null,
      "overflow_y": null,
      "padding": null,
      "right": null,
      "top": null,
      "visibility": null,
      "width": null
     }
    },
    "74d4a61bd83f4dc1a405652a9dc46451": {
     "model_module": "@jupyter-widgets/base",
     "model_module_version": "1.2.0",
     "model_name": "LayoutModel",
     "state": {
      "_model_module": "@jupyter-widgets/base",
      "_model_module_version": "1.2.0",
      "_model_name": "LayoutModel",
      "_view_count": null,
      "_view_module": "@jupyter-widgets/base",
      "_view_module_version": "1.2.0",
      "_view_name": "LayoutView",
      "align_content": null,
      "align_items": null,
      "align_self": null,
      "border": null,
      "bottom": null,
      "display": null,
      "flex": null,
      "flex_flow": null,
      "grid_area": null,
      "grid_auto_columns": null,
      "grid_auto_flow": null,
      "grid_auto_rows": null,
      "grid_column": null,
      "grid_gap": null,
      "grid_row": null,
      "grid_template_areas": null,
      "grid_template_columns": null,
      "grid_template_rows": null,
      "height": null,
      "justify_content": null,
      "justify_items": null,
      "left": null,
      "margin": null,
      "max_height": null,
      "max_width": null,
      "min_height": null,
      "min_width": null,
      "object_fit": null,
      "object_position": null,
      "order": null,
      "overflow": null,
      "overflow_x": null,
      "overflow_y": null,
      "padding": null,
      "right": null,
      "top": null,
      "visibility": null,
      "width": null
     }
    },
    "79041e7825b74501be2c5ec6b0cf93d5": {
     "model_module": "@jupyter-widgets/base",
     "model_module_version": "1.2.0",
     "model_name": "LayoutModel",
     "state": {
      "_model_module": "@jupyter-widgets/base",
      "_model_module_version": "1.2.0",
      "_model_name": "LayoutModel",
      "_view_count": null,
      "_view_module": "@jupyter-widgets/base",
      "_view_module_version": "1.2.0",
      "_view_name": "LayoutView",
      "align_content": null,
      "align_items": null,
      "align_self": null,
      "border": null,
      "bottom": null,
      "display": null,
      "flex": null,
      "flex_flow": null,
      "grid_area": null,
      "grid_auto_columns": null,
      "grid_auto_flow": null,
      "grid_auto_rows": null,
      "grid_column": null,
      "grid_gap": null,
      "grid_row": null,
      "grid_template_areas": null,
      "grid_template_columns": null,
      "grid_template_rows": null,
      "height": null,
      "justify_content": null,
      "justify_items": null,
      "left": null,
      "margin": null,
      "max_height": null,
      "max_width": null,
      "min_height": null,
      "min_width": null,
      "object_fit": null,
      "object_position": null,
      "order": null,
      "overflow": null,
      "overflow_x": null,
      "overflow_y": null,
      "padding": null,
      "right": null,
      "top": null,
      "visibility": null,
      "width": null
     }
    },
    "81e33bec4c514560a760ffdbb28ec14c": {
     "model_module": "@jupyter-widgets/controls",
     "model_module_version": "1.5.0",
     "model_name": "DescriptionStyleModel",
     "state": {
      "_model_module": "@jupyter-widgets/controls",
      "_model_module_version": "1.5.0",
      "_model_name": "DescriptionStyleModel",
      "_view_count": null,
      "_view_module": "@jupyter-widgets/base",
      "_view_module_version": "1.2.0",
      "_view_name": "StyleView",
      "description_width": ""
     }
    },
    "8901922267a64d728f277b394f4fc954": {
     "model_module": "@jupyter-widgets/controls",
     "model_module_version": "1.5.0",
     "model_name": "FloatProgressModel",
     "state": {
      "_dom_classes": [],
      "_model_module": "@jupyter-widgets/controls",
      "_model_module_version": "1.5.0",
      "_model_name": "FloatProgressModel",
      "_view_count": null,
      "_view_module": "@jupyter-widgets/controls",
      "_view_module_version": "1.5.0",
      "_view_name": "ProgressView",
      "bar_style": "success",
      "description": "",
      "description_tooltip": null,
      "layout": "IPY_MODEL_79041e7825b74501be2c5ec6b0cf93d5",
      "max": 3,
      "min": 0,
      "orientation": "horizontal",
      "style": "IPY_MODEL_8d2159a47cd84705bd388ad83772cfa8",
      "value": 3
     }
    },
    "8d2159a47cd84705bd388ad83772cfa8": {
     "model_module": "@jupyter-widgets/controls",
     "model_module_version": "1.5.0",
     "model_name": "ProgressStyleModel",
     "state": {
      "_model_module": "@jupyter-widgets/controls",
      "_model_module_version": "1.5.0",
      "_model_name": "ProgressStyleModel",
      "_view_count": null,
      "_view_module": "@jupyter-widgets/base",
      "_view_module_version": "1.2.0",
      "_view_name": "StyleView",
      "bar_color": null,
      "description_width": ""
     }
    },
    "9b96280217464946940b9c1481f6fd39": {
     "model_module": "@jupyter-widgets/base",
     "model_module_version": "1.2.0",
     "model_name": "LayoutModel",
     "state": {
      "_model_module": "@jupyter-widgets/base",
      "_model_module_version": "1.2.0",
      "_model_name": "LayoutModel",
      "_view_count": null,
      "_view_module": "@jupyter-widgets/base",
      "_view_module_version": "1.2.0",
      "_view_name": "LayoutView",
      "align_content": null,
      "align_items": null,
      "align_self": null,
      "border": null,
      "bottom": null,
      "display": null,
      "flex": null,
      "flex_flow": null,
      "grid_area": null,
      "grid_auto_columns": null,
      "grid_auto_flow": null,
      "grid_auto_rows": null,
      "grid_column": null,
      "grid_gap": null,
      "grid_row": null,
      "grid_template_areas": null,
      "grid_template_columns": null,
      "grid_template_rows": null,
      "height": null,
      "justify_content": null,
      "justify_items": null,
      "left": null,
      "margin": null,
      "max_height": null,
      "max_width": null,
      "min_height": null,
      "min_width": null,
      "object_fit": null,
      "object_position": null,
      "order": null,
      "overflow": null,
      "overflow_x": null,
      "overflow_y": null,
      "padding": null,
      "right": null,
      "top": null,
      "visibility": null,
      "width": null
     }
    },
    "a5a9e4685a494da28b96881a9868f0ab": {
     "model_module": "@jupyter-widgets/base",
     "model_module_version": "1.2.0",
     "model_name": "LayoutModel",
     "state": {
      "_model_module": "@jupyter-widgets/base",
      "_model_module_version": "1.2.0",
      "_model_name": "LayoutModel",
      "_view_count": null,
      "_view_module": "@jupyter-widgets/base",
      "_view_module_version": "1.2.0",
      "_view_name": "LayoutView",
      "align_content": null,
      "align_items": null,
      "align_self": null,
      "border": null,
      "bottom": null,
      "display": null,
      "flex": null,
      "flex_flow": null,
      "grid_area": null,
      "grid_auto_columns": null,
      "grid_auto_flow": null,
      "grid_auto_rows": null,
      "grid_column": null,
      "grid_gap": null,
      "grid_row": null,
      "grid_template_areas": null,
      "grid_template_columns": null,
      "grid_template_rows": null,
      "height": null,
      "justify_content": null,
      "justify_items": null,
      "left": null,
      "margin": null,
      "max_height": null,
      "max_width": null,
      "min_height": null,
      "min_width": null,
      "object_fit": null,
      "object_position": null,
      "order": null,
      "overflow": null,
      "overflow_x": null,
      "overflow_y": null,
      "padding": null,
      "right": null,
      "top": null,
      "visibility": null,
      "width": null
     }
    },
    "b5d43fe36e9d43d2ac16d0cc19ca68d0": {
     "model_module": "@jupyter-widgets/controls",
     "model_module_version": "1.5.0",
     "model_name": "HTMLModel",
     "state": {
      "_dom_classes": [],
      "_model_module": "@jupyter-widgets/controls",
      "_model_module_version": "1.5.0",
      "_model_name": "HTMLModel",
      "_view_count": null,
      "_view_module": "@jupyter-widgets/controls",
      "_view_module_version": "1.5.0",
      "_view_name": "HTMLView",
      "description": "",
      "description_tooltip": null,
      "layout": "IPY_MODEL_0d70a501ea9449eaaa2a2699cef5b41e",
      "placeholder": "​",
      "style": "IPY_MODEL_f0f4d74b875f47fb963ca414eb53f683",
      "value": "100%"
     }
    },
    "b87c573a99694f2590411112511a28f9": {
     "model_module": "@jupyter-widgets/controls",
     "model_module_version": "1.5.0",
     "model_name": "HTMLModel",
     "state": {
      "_dom_classes": [],
      "_model_module": "@jupyter-widgets/controls",
      "_model_module_version": "1.5.0",
      "_model_name": "HTMLModel",
      "_view_count": null,
      "_view_module": "@jupyter-widgets/controls",
      "_view_module_version": "1.5.0",
      "_view_name": "HTMLView",
      "description": "",
      "description_tooltip": null,
      "layout": "IPY_MODEL_4fc602270ddd41f7b71cd4bed0a957cb",
      "placeholder": "​",
      "style": "IPY_MODEL_1489cae47e624c3c930f0ebdb588ff56",
      "value": " 3/3 [43:11&lt;00:00, 793.19s/it]"
     }
    },
    "bc57282c105f49a9884b915b041c1f53": {
     "model_module": "@jupyter-widgets/controls",
     "model_module_version": "1.5.0",
     "model_name": "ProgressStyleModel",
     "state": {
      "_model_module": "@jupyter-widgets/controls",
      "_model_module_version": "1.5.0",
      "_model_name": "ProgressStyleModel",
      "_view_count": null,
      "_view_module": "@jupyter-widgets/base",
      "_view_module_version": "1.2.0",
      "_view_name": "StyleView",
      "bar_color": null,
      "description_width": ""
     }
    },
    "c56a935ce0d14e04b63106dc6c70fb72": {
     "model_module": "@jupyter-widgets/controls",
     "model_module_version": "1.5.0",
     "model_name": "HTMLModel",
     "state": {
      "_dom_classes": [],
      "_model_module": "@jupyter-widgets/controls",
      "_model_module_version": "1.5.0",
      "_model_name": "HTMLModel",
      "_view_count": null,
      "_view_module": "@jupyter-widgets/controls",
      "_view_module_version": "1.5.0",
      "_view_name": "HTMLView",
      "description": "",
      "description_tooltip": null,
      "layout": "IPY_MODEL_9b96280217464946940b9c1481f6fd39",
      "placeholder": "​",
      "style": "IPY_MODEL_3dd0752e468b4002b1b432c13e0b02d9",
      "value": " 3/3 [36:44&lt;00:00, 734.92s/it]"
     }
    },
    "c9330f49c4084c498a77d9d72912c5f5": {
     "model_module": "@jupyter-widgets/controls",
     "model_module_version": "1.5.0",
     "model_name": "HTMLModel",
     "state": {
      "_dom_classes": [],
      "_model_module": "@jupyter-widgets/controls",
      "_model_module_version": "1.5.0",
      "_model_name": "HTMLModel",
      "_view_count": null,
      "_view_module": "@jupyter-widgets/controls",
      "_view_module_version": "1.5.0",
      "_view_name": "HTMLView",
      "description": "",
      "description_tooltip": null,
      "layout": "IPY_MODEL_a5a9e4685a494da28b96881a9868f0ab",
      "placeholder": "​",
      "style": "IPY_MODEL_23868f959cd64016b0da224a31230039",
      "value": " 3/3 [02:16&lt;00:00, 45.45s/it]"
     }
    },
    "c9a25e316e724f7c99722fdeefc8d93b": {
     "model_module": "@jupyter-widgets/controls",
     "model_module_version": "1.5.0",
     "model_name": "HTMLModel",
     "state": {
      "_dom_classes": [],
      "_model_module": "@jupyter-widgets/controls",
      "_model_module_version": "1.5.0",
      "_model_name": "HTMLModel",
      "_view_count": null,
      "_view_module": "@jupyter-widgets/controls",
      "_view_module_version": "1.5.0",
      "_view_name": "HTMLView",
      "description": "",
      "description_tooltip": null,
      "layout": "IPY_MODEL_6784e4b1e6d845f7bc0168b668ba616c",
      "placeholder": "​",
      "style": "IPY_MODEL_81e33bec4c514560a760ffdbb28ec14c",
      "value": "100%"
     }
    },
    "ca617df6ac4241dd8ef59b826a204663": {
     "model_module": "@jupyter-widgets/controls",
     "model_module_version": "1.5.0",
     "model_name": "ProgressStyleModel",
     "state": {
      "_model_module": "@jupyter-widgets/controls",
      "_model_module_version": "1.5.0",
      "_model_name": "ProgressStyleModel",
      "_view_count": null,
      "_view_module": "@jupyter-widgets/base",
      "_view_module_version": "1.2.0",
      "_view_name": "StyleView",
      "bar_color": null,
      "description_width": ""
     }
    },
    "d01f76989d9a4c3190aa3bae185d1f97": {
     "model_module": "@jupyter-widgets/controls",
     "model_module_version": "1.5.0",
     "model_name": "DescriptionStyleModel",
     "state": {
      "_model_module": "@jupyter-widgets/controls",
      "_model_module_version": "1.5.0",
      "_model_name": "DescriptionStyleModel",
      "_view_count": null,
      "_view_module": "@jupyter-widgets/base",
      "_view_module_version": "1.2.0",
      "_view_name": "StyleView",
      "description_width": ""
     }
    },
    "d5ce87c3abed4b3eb959fb4cf2a14b77": {
     "model_module": "@jupyter-widgets/controls",
     "model_module_version": "1.5.0",
     "model_name": "HBoxModel",
     "state": {
      "_dom_classes": [],
      "_model_module": "@jupyter-widgets/controls",
      "_model_module_version": "1.5.0",
      "_model_name": "HBoxModel",
      "_view_count": null,
      "_view_module": "@jupyter-widgets/controls",
      "_view_module_version": "1.5.0",
      "_view_name": "HBoxView",
      "box_style": "",
      "children": [
       "IPY_MODEL_b5d43fe36e9d43d2ac16d0cc19ca68d0",
       "IPY_MODEL_8901922267a64d728f277b394f4fc954",
       "IPY_MODEL_b87c573a99694f2590411112511a28f9"
      ],
      "layout": "IPY_MODEL_1da8e23b943746f58434345f10586fa4"
     }
    },
    "e75a6bd1b83a4d1e930aa8ee4b0bc95b": {
     "model_module": "@jupyter-widgets/base",
     "model_module_version": "1.2.0",
     "model_name": "LayoutModel",
     "state": {
      "_model_module": "@jupyter-widgets/base",
      "_model_module_version": "1.2.0",
      "_model_name": "LayoutModel",
      "_view_count": null,
      "_view_module": "@jupyter-widgets/base",
      "_view_module_version": "1.2.0",
      "_view_name": "LayoutView",
      "align_content": null,
      "align_items": null,
      "align_self": null,
      "border": null,
      "bottom": null,
      "display": null,
      "flex": null,
      "flex_flow": null,
      "grid_area": null,
      "grid_auto_columns": null,
      "grid_auto_flow": null,
      "grid_auto_rows": null,
      "grid_column": null,
      "grid_gap": null,
      "grid_row": null,
      "grid_template_areas": null,
      "grid_template_columns": null,
      "grid_template_rows": null,
      "height": null,
      "justify_content": null,
      "justify_items": null,
      "left": null,
      "margin": null,
      "max_height": null,
      "max_width": null,
      "min_height": null,
      "min_width": null,
      "object_fit": null,
      "object_position": null,
      "order": null,
      "overflow": null,
      "overflow_x": null,
      "overflow_y": null,
      "padding": null,
      "right": null,
      "top": null,
      "visibility": null,
      "width": null
     }
    },
    "ece0bcdff5564f24a8e6c0801982fac5": {
     "model_module": "@jupyter-widgets/controls",
     "model_module_version": "1.5.0",
     "model_name": "HBoxModel",
     "state": {
      "_dom_classes": [],
      "_model_module": "@jupyter-widgets/controls",
      "_model_module_version": "1.5.0",
      "_model_name": "HBoxModel",
      "_view_count": null,
      "_view_module": "@jupyter-widgets/controls",
      "_view_module_version": "1.5.0",
      "_view_name": "HBoxView",
      "box_style": "",
      "children": [
       "IPY_MODEL_66d56018b7104594afdc83b9a0d8c8e3",
       "IPY_MODEL_62a6ac832b834d7d934809e53a8f39f6",
       "IPY_MODEL_c56a935ce0d14e04b63106dc6c70fb72"
      ],
      "layout": "IPY_MODEL_f5eaaee1383d4723b5b395c6395f3a83"
     }
    },
    "edb5eaf8bf6046d094c7d952b0f65927": {
     "model_module": "@jupyter-widgets/base",
     "model_module_version": "1.2.0",
     "model_name": "LayoutModel",
     "state": {
      "_model_module": "@jupyter-widgets/base",
      "_model_module_version": "1.2.0",
      "_model_name": "LayoutModel",
      "_view_count": null,
      "_view_module": "@jupyter-widgets/base",
      "_view_module_version": "1.2.0",
      "_view_name": "LayoutView",
      "align_content": null,
      "align_items": null,
      "align_self": null,
      "border": null,
      "bottom": null,
      "display": null,
      "flex": null,
      "flex_flow": null,
      "grid_area": null,
      "grid_auto_columns": null,
      "grid_auto_flow": null,
      "grid_auto_rows": null,
      "grid_column": null,
      "grid_gap": null,
      "grid_row": null,
      "grid_template_areas": null,
      "grid_template_columns": null,
      "grid_template_rows": null,
      "height": null,
      "justify_content": null,
      "justify_items": null,
      "left": null,
      "margin": null,
      "max_height": null,
      "max_width": null,
      "min_height": null,
      "min_width": null,
      "object_fit": null,
      "object_position": null,
      "order": null,
      "overflow": null,
      "overflow_x": null,
      "overflow_y": null,
      "padding": null,
      "right": null,
      "top": null,
      "visibility": null,
      "width": null
     }
    },
    "f0f4d74b875f47fb963ca414eb53f683": {
     "model_module": "@jupyter-widgets/controls",
     "model_module_version": "1.5.0",
     "model_name": "DescriptionStyleModel",
     "state": {
      "_model_module": "@jupyter-widgets/controls",
      "_model_module_version": "1.5.0",
      "_model_name": "DescriptionStyleModel",
      "_view_count": null,
      "_view_module": "@jupyter-widgets/base",
      "_view_module_version": "1.2.0",
      "_view_name": "StyleView",
      "description_width": ""
     }
    },
    "f2986c79e8864f819f66b6fecc539a00": {
     "model_module": "@jupyter-widgets/controls",
     "model_module_version": "1.5.0",
     "model_name": "FloatProgressModel",
     "state": {
      "_dom_classes": [],
      "_model_module": "@jupyter-widgets/controls",
      "_model_module_version": "1.5.0",
      "_model_name": "FloatProgressModel",
      "_view_count": null,
      "_view_module": "@jupyter-widgets/controls",
      "_view_module_version": "1.5.0",
      "_view_name": "ProgressView",
      "bar_style": "success",
      "description": "",
      "description_tooltip": null,
      "layout": "IPY_MODEL_74d4a61bd83f4dc1a405652a9dc46451",
      "max": 3,
      "min": 0,
      "orientation": "horizontal",
      "style": "IPY_MODEL_bc57282c105f49a9884b915b041c1f53",
      "value": 3
     }
    },
    "f576de258bcc48b888bba332b3a741de": {
     "model_module": "@jupyter-widgets/controls",
     "model_module_version": "1.5.0",
     "model_name": "HBoxModel",
     "state": {
      "_dom_classes": [],
      "_model_module": "@jupyter-widgets/controls",
      "_model_module_version": "1.5.0",
      "_model_name": "HBoxModel",
      "_view_count": null,
      "_view_module": "@jupyter-widgets/controls",
      "_view_module_version": "1.5.0",
      "_view_name": "HBoxView",
      "box_style": "",
      "children": [
       "IPY_MODEL_c9a25e316e724f7c99722fdeefc8d93b",
       "IPY_MODEL_f2986c79e8864f819f66b6fecc539a00",
       "IPY_MODEL_c9330f49c4084c498a77d9d72912c5f5"
      ],
      "layout": "IPY_MODEL_2e468531f7544f258a31516569d41c16"
     }
    },
    "f5eaaee1383d4723b5b395c6395f3a83": {
     "model_module": "@jupyter-widgets/base",
     "model_module_version": "1.2.0",
     "model_name": "LayoutModel",
     "state": {
      "_model_module": "@jupyter-widgets/base",
      "_model_module_version": "1.2.0",
      "_model_name": "LayoutModel",
      "_view_count": null,
      "_view_module": "@jupyter-widgets/base",
      "_view_module_version": "1.2.0",
      "_view_name": "LayoutView",
      "align_content": null,
      "align_items": null,
      "align_self": null,
      "border": null,
      "bottom": null,
      "display": null,
      "flex": null,
      "flex_flow": null,
      "grid_area": null,
      "grid_auto_columns": null,
      "grid_auto_flow": null,
      "grid_auto_rows": null,
      "grid_column": null,
      "grid_gap": null,
      "grid_row": null,
      "grid_template_areas": null,
      "grid_template_columns": null,
      "grid_template_rows": null,
      "height": null,
      "justify_content": null,
      "justify_items": null,
      "left": null,
      "margin": null,
      "max_height": null,
      "max_width": null,
      "min_height": null,
      "min_width": null,
      "object_fit": null,
      "object_position": null,
      "order": null,
      "overflow": null,
      "overflow_x": null,
      "overflow_y": null,
      "padding": null,
      "right": null,
      "top": null,
      "visibility": null,
      "width": null
     }
    }
   }
  }
 },
 "nbformat": 4,
 "nbformat_minor": 4
}
